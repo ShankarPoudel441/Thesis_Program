{
 "cells": [
  {
   "cell_type": "code",
   "execution_count": 1,
   "id": "e6fc1a8c",
   "metadata": {},
   "outputs": [],
   "source": [
    "import numpy as np\n",
    "import pandas as pd\n",
    "\n",
    "from sklearn.decomposition import PCA\n",
    "\n",
    "import matplotlib.pyplot as plt"
   ]
  },
  {
   "cell_type": "code",
   "execution_count": 2,
   "id": "71ffc186",
   "metadata": {},
   "outputs": [],
   "source": [
    "HOME=\"/home/spoudel/All_Thesis/Thesis_program/Data\"\n",
    "project=\"lathrop\"\n",
    "location=\"location_3\"\n",
    "\n",
    "final_data_folder=\"final_data_to_train_on\"\n",
    "\n",
    "model_predicted_folder=\"KMeans\""
   ]
  },
  {
   "cell_type": "code",
   "execution_count": 3,
   "id": "e9c77868",
   "metadata": {},
   "outputs": [
    {
     "data": {
      "text/html": [
       "<div>\n",
       "<style scoped>\n",
       "    .dataframe tbody tr th:only-of-type {\n",
       "        vertical-align: middle;\n",
       "    }\n",
       "\n",
       "    .dataframe tbody tr th {\n",
       "        vertical-align: top;\n",
       "    }\n",
       "\n",
       "    .dataframe thead th {\n",
       "        text-align: right;\n",
       "    }\n",
       "</style>\n",
       "<table border=\"1\" class=\"dataframe\">\n",
       "  <thead>\n",
       "    <tr style=\"text-align: right;\">\n",
       "      <th></th>\n",
       "      <th>p0</th>\n",
       "      <th>p1</th>\n",
       "      <th>p2</th>\n",
       "      <th>p3</th>\n",
       "      <th>p4</th>\n",
       "      <th>p5</th>\n",
       "      <th>p6</th>\n",
       "    </tr>\n",
       "  </thead>\n",
       "  <tbody>\n",
       "    <tr>\n",
       "      <th>0</th>\n",
       "      <td>-2.000000</td>\n",
       "      <td>0.573009</td>\n",
       "      <td>0.268992</td>\n",
       "      <td>0.435167</td>\n",
       "      <td>-0.690152</td>\n",
       "      <td>0.759216</td>\n",
       "      <td>1.447293</td>\n",
       "    </tr>\n",
       "    <tr>\n",
       "      <th>1</th>\n",
       "      <td>-2.000000</td>\n",
       "      <td>0.253751</td>\n",
       "      <td>0.106134</td>\n",
       "      <td>0.715423</td>\n",
       "      <td>0.409607</td>\n",
       "      <td>-0.523038</td>\n",
       "      <td>2.000000</td>\n",
       "    </tr>\n",
       "    <tr>\n",
       "      <th>2</th>\n",
       "      <td>-2.000000</td>\n",
       "      <td>-0.750123</td>\n",
       "      <td>2.000000</td>\n",
       "      <td>-0.722078</td>\n",
       "      <td>-0.026242</td>\n",
       "      <td>1.421450</td>\n",
       "      <td>-0.385574</td>\n",
       "    </tr>\n",
       "    <tr>\n",
       "      <th>3</th>\n",
       "      <td>-1.588203</td>\n",
       "      <td>-0.786085</td>\n",
       "      <td>1.551915</td>\n",
       "      <td>-0.656492</td>\n",
       "      <td>2.000000</td>\n",
       "      <td>-0.204647</td>\n",
       "      <td>0.743801</td>\n",
       "    </tr>\n",
       "    <tr>\n",
       "      <th>4</th>\n",
       "      <td>0.343472</td>\n",
       "      <td>-0.066512</td>\n",
       "      <td>-0.374155</td>\n",
       "      <td>0.615094</td>\n",
       "      <td>2.000000</td>\n",
       "      <td>-0.370116</td>\n",
       "      <td>2.000000</td>\n",
       "    </tr>\n",
       "    <tr>\n",
       "      <th>...</th>\n",
       "      <td>...</td>\n",
       "      <td>...</td>\n",
       "      <td>...</td>\n",
       "      <td>...</td>\n",
       "      <td>...</td>\n",
       "      <td>...</td>\n",
       "      <td>...</td>\n",
       "    </tr>\n",
       "    <tr>\n",
       "      <th>1302</th>\n",
       "      <td>-1.554650</td>\n",
       "      <td>0.000245</td>\n",
       "      <td>-0.364649</td>\n",
       "      <td>1.076237</td>\n",
       "      <td>-1.037974</td>\n",
       "      <td>-0.960176</td>\n",
       "      <td>-0.229654</td>\n",
       "    </tr>\n",
       "    <tr>\n",
       "      <th>1303</th>\n",
       "      <td>-1.221393</td>\n",
       "      <td>-0.538432</td>\n",
       "      <td>0.432648</td>\n",
       "      <td>0.027525</td>\n",
       "      <td>-1.221077</td>\n",
       "      <td>-0.685200</td>\n",
       "      <td>-0.676892</td>\n",
       "    </tr>\n",
       "    <tr>\n",
       "      <th>1304</th>\n",
       "      <td>-0.604505</td>\n",
       "      <td>-0.800067</td>\n",
       "      <td>0.396034</td>\n",
       "      <td>-0.342428</td>\n",
       "      <td>-1.129213</td>\n",
       "      <td>-0.879903</td>\n",
       "      <td>-0.207904</td>\n",
       "    </tr>\n",
       "    <tr>\n",
       "      <th>1305</th>\n",
       "      <td>-0.171578</td>\n",
       "      <td>-1.042572</td>\n",
       "      <td>-0.098406</td>\n",
       "      <td>-0.737191</td>\n",
       "      <td>-0.680740</td>\n",
       "      <td>-0.255571</td>\n",
       "      <td>-0.076075</td>\n",
       "    </tr>\n",
       "    <tr>\n",
       "      <th>1306</th>\n",
       "      <td>-0.157498</td>\n",
       "      <td>-1.168179</td>\n",
       "      <td>-0.146702</td>\n",
       "      <td>0.952435</td>\n",
       "      <td>-0.683801</td>\n",
       "      <td>-0.839725</td>\n",
       "      <td>-0.030003</td>\n",
       "    </tr>\n",
       "  </tbody>\n",
       "</table>\n",
       "<p>1307 rows × 7 columns</p>\n",
       "</div>"
      ],
      "text/plain": [
       "            p0        p1        p2        p3        p4        p5        p6\n",
       "0    -2.000000  0.573009  0.268992  0.435167 -0.690152  0.759216  1.447293\n",
       "1    -2.000000  0.253751  0.106134  0.715423  0.409607 -0.523038  2.000000\n",
       "2    -2.000000 -0.750123  2.000000 -0.722078 -0.026242  1.421450 -0.385574\n",
       "3    -1.588203 -0.786085  1.551915 -0.656492  2.000000 -0.204647  0.743801\n",
       "4     0.343472 -0.066512 -0.374155  0.615094  2.000000 -0.370116  2.000000\n",
       "...        ...       ...       ...       ...       ...       ...       ...\n",
       "1302 -1.554650  0.000245 -0.364649  1.076237 -1.037974 -0.960176 -0.229654\n",
       "1303 -1.221393 -0.538432  0.432648  0.027525 -1.221077 -0.685200 -0.676892\n",
       "1304 -0.604505 -0.800067  0.396034 -0.342428 -1.129213 -0.879903 -0.207904\n",
       "1305 -0.171578 -1.042572 -0.098406 -0.737191 -0.680740 -0.255571 -0.076075\n",
       "1306 -0.157498 -1.168179 -0.146702  0.952435 -0.683801 -0.839725 -0.030003\n",
       "\n",
       "[1307 rows x 7 columns]"
      ]
     },
     "execution_count": 3,
     "metadata": {},
     "output_type": "execute_result"
    }
   ],
   "source": [
    "data=pd.read_csv(f\"{HOME}/{project}/{location}/{final_data_folder}/data_pc_{project}_{location}.csv\")\n",
    "data=data[[\"p0\",\"p1\",\"p2\",\"p3\",\"p4\",\"p5\",\"p6\"]]\n",
    "data"
   ]
  },
  {
   "cell_type": "code",
   "execution_count": 4,
   "id": "ec4a2614",
   "metadata": {},
   "outputs": [
    {
     "data": {
      "text/plain": [
       "array([[-2.        ,  0.57300904,  0.26899243, ..., -0.69015183,\n",
       "         0.75921605,  1.44729306],\n",
       "       [-2.        ,  0.25375117,  0.10613368, ...,  0.40960743,\n",
       "        -0.5230379 ,  2.        ],\n",
       "       [-2.        , -0.75012256,  2.        , ..., -0.02624168,\n",
       "         1.42144989, -0.38557391],\n",
       "       ...,\n",
       "       [-0.60450502, -0.80006695,  0.3960336 , ..., -1.12921272,\n",
       "        -0.87990287, -0.2079044 ],\n",
       "       [-0.17157767, -1.04257154, -0.09840604, ..., -0.68073966,\n",
       "        -0.25557107, -0.07607497],\n",
       "       [-0.15749797, -1.1681791 , -0.14670199, ..., -0.68380124,\n",
       "        -0.83972479, -0.03000315]])"
      ]
     },
     "execution_count": 4,
     "metadata": {},
     "output_type": "execute_result"
    }
   ],
   "source": [
    "train=np.array(data)\n",
    "train=train\n",
    "train"
   ]
  },
  {
   "cell_type": "code",
   "execution_count": 5,
   "id": "eb01f319",
   "metadata": {},
   "outputs": [
    {
     "data": {
      "text/plain": [
       "1.0000000000000002"
      ]
     },
     "execution_count": 5,
     "metadata": {},
     "output_type": "execute_result"
    }
   ],
   "source": [
    "pca = PCA(n_components=7)\n",
    "pca.fit(train)\n",
    "np.sum(pca.explained_variance_ratio_)"
   ]
  },
  {
   "cell_type": "code",
   "execution_count": 6,
   "id": "4752c82f",
   "metadata": {},
   "outputs": [
    {
     "data": {
      "text/plain": [
       "[0.18712553149532127,\n",
       " 0.35864517446011124,\n",
       " 0.49950025502252204,\n",
       " 0.6332942454970285,\n",
       " 0.7627677776375748,\n",
       " 0.8849279951929694,\n",
       " 1.0000000000000002]"
      ]
     },
     "execution_count": 6,
     "metadata": {},
     "output_type": "execute_result"
    },
    {
     "data": {
      "image/png": "[encoded data removed]",
      "text/plain": [
       "<Figure size 720x720 with 1 Axes>"
      ]
     },
     "metadata": {
      "needs_background": "light"
     },
     "output_type": "display_data"
    }
   ],
   "source": [
    "def plot_information_retention_by_pca(data):\n",
    "    input_dimension=min(len(data[0]),len(data))\n",
    "    information_retention=[]\n",
    "    for i in range(input_dimension):\n",
    "        pca = PCA(n_components=i+1)\n",
    "        pca.fit(data)\n",
    "        information_retention.append(np.sum(pca.explained_variance_ratio_))\n",
    "        \n",
    "    plt.figure(figsize=(10,10))\n",
    "    plt.plot(range(input_dimension),information_retention)\n",
    "    plt.xlabel(\"number of features\")\n",
    "    plt.ylabel(\"amount of information/variance\")\n",
    "    plt.title(f\"Amount of information retention for first k eigen features for {project} {location}\")\n",
    "    return information_retention\n",
    "    \n",
    "plot_information_retention_by_pca(train)"
   ]
  },
  {
   "cell_type": "code",
   "execution_count": null,
   "id": "ad31935f",
   "metadata": {},
   "outputs": [],
   "source": []
  },
  {
   "cell_type": "code",
   "execution_count": null,
   "id": "a839a44d",
   "metadata": {},
   "outputs": [],
   "source": []
  },
  {
   "cell_type": "code",
   "execution_count": null,
   "id": "257df60a",
   "metadata": {},
   "outputs": [],
   "source": []
  },
  {
   "cell_type": "code",
   "execution_count": null,
   "id": "48b5ac7d",
   "metadata": {},
   "outputs": [],
   "source": []
  },
  {
   "cell_type": "code",
   "execution_count": 7,
   "id": "2c047bcd",
   "metadata": {},
   "outputs": [],
   "source": [
    "# # Test PCA\n",
    "\n",
    "# from sklearn.datasets import load_breast_cancer\n",
    "# breast = load_breast_cancer()\n",
    "# breast_data = breast.data\n",
    "# breast_labels = breast.target\n",
    "# labels = np.reshape(breast_labels,(569,1))\n",
    "# final_breast_data = np.concatenate([breast_data,labels],axis=1)\n",
    "# breast_dataset = pd.DataFrame(final_breast_data)\n",
    "# features = breast.feature_names\n",
    "# features_labels = np.append(features,'label')\n",
    "# breast_dataset.columns = features_labels\n",
    "# breast_dataset.head()\n",
    "# from sklearn.preprocessing import StandardScaler\n",
    "# x = breast_dataset.loc[:, features].values\n",
    "# x = StandardScaler().fit_transform(x) # normalizing the features\n",
    "# plot_information_retention_by_pca(x)"
   ]
  },
  {
   "cell_type": "code",
   "execution_count": null,
   "id": "469ee197",
   "metadata": {},
   "outputs": [],
   "source": []
  },
  {
   "cell_type": "code",
   "execution_count": null,
   "id": "b6645898",
   "metadata": {},
   "outputs": [],
   "source": []
  },
  {
   "cell_type": "code",
   "execution_count": null,
   "id": "7a85ecd2",
   "metadata": {},
   "outputs": [],
   "source": []
  },
  {
   "cell_type": "code",
   "execution_count": null,
   "id": "bf0b2794",
   "metadata": {},
   "outputs": [],
   "source": []
  },
  {
   "cell_type": "code",
   "execution_count": null,
   "id": "bd4388ec",
   "metadata": {},
   "outputs": [],
   "source": []
  },
  {
   "cell_type": "code",
   "execution_count": null,
   "id": "ebc779fd",
   "metadata": {},
   "outputs": [],
   "source": []
  },
  {
   "cell_type": "code",
   "execution_count": null,
   "id": "4b932a48",
   "metadata": {},
   "outputs": [],
   "source": []
  }
 ],
 "metadata": {
  "kernelspec": {
   "display_name": "Python 3",
   "language": "python",
   "name": "python3"
  },
  "language_info": {
   "codemirror_mode": {
    "name": "ipython",
    "version": 3
   },
   "file_extension": ".py",
   "mimetype": "text/x-python",
   "name": "python",
   "nbconvert_exporter": "python",
   "pygments_lexer": "ipython3",
   "version": "3.7.0"
  }
 },
 "nbformat": 4,
 "nbformat_minor": 5
}
