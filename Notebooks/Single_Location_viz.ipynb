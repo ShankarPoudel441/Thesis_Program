{
 "cells": [
  {
   "cell_type": "code",
   "execution_count": 1,
   "id": "f5f5e80e",
   "metadata": {},
   "outputs": [],
   "source": [
    "import pandas as pd\n",
    "import numpy as np\n",
    "\n",
    "from pathlib import Path\n",
    "\n",
    "import plotly.express as px"
   ]
  },
  {
   "cell_type": "code",
   "execution_count": 41,
   "id": "2dcbd0e1",
   "metadata": {},
   "outputs": [],
   "source": [
    "# Folder Location\n",
    "location_name=\"shawnee_location_2\"\n",
    "folder_location=Path(\"/home/spoudel/All_Thesis/Thesis_program/Data/shawnee/location_2/\")\n",
    "model_name=\"GMM\"\n"
   ]
  },
  {
   "cell_type": "code",
   "execution_count": 42,
   "id": "262e4fb7",
   "metadata": {},
   "outputs": [
    {
     "data": {
      "text/plain": [
       "array([125, 126, 127, 128, 129])"
      ]
     },
     "execution_count": 42,
     "metadata": {},
     "output_type": "execute_result"
    }
   ],
   "source": [
    "location_in_time=pd.read_csv(folder_location/\"location_in_time.csv\")\n",
    "passes=location_in_time[\"passID\"].values\n",
    "passes"
   ]
  },
  {
   "cell_type": "code",
   "execution_count": 43,
   "id": "30fb1f57",
   "metadata": {},
   "outputs": [
    {
     "data": {
      "text/html": [
       "<div>\n",
       "<style scoped>\n",
       "    .dataframe tbody tr th:only-of-type {\n",
       "        vertical-align: middle;\n",
       "    }\n",
       "\n",
       "    .dataframe tbody tr th {\n",
       "        vertical-align: top;\n",
       "    }\n",
       "\n",
       "    .dataframe thead th {\n",
       "        text-align: right;\n",
       "    }\n",
       "</style>\n",
       "<table border=\"1\" class=\"dataframe\">\n",
       "  <thead>\n",
       "    <tr style=\"text-align: right;\">\n",
       "      <th></th>\n",
       "      <th>Unnamed: 0</th>\n",
       "      <th>Start</th>\n",
       "      <th>End</th>\n",
       "      <th>passID</th>\n",
       "      <th>lat_min</th>\n",
       "      <th>lat_max</th>\n",
       "      <th>long_min</th>\n",
       "      <th>long_max</th>\n",
       "    </tr>\n",
       "  </thead>\n",
       "  <tbody>\n",
       "    <tr>\n",
       "      <th>0</th>\n",
       "      <td>0</td>\n",
       "      <td>2023-01-16T17:34:19.000Z</td>\n",
       "      <td>2023-01-16T17:34:48.000Z</td>\n",
       "      <td>125</td>\n",
       "      <td>35.671009</td>\n",
       "      <td>35.671484</td>\n",
       "      <td>-96.662335</td>\n",
       "      <td>-96.662326</td>\n",
       "    </tr>\n",
       "    <tr>\n",
       "      <th>1</th>\n",
       "      <td>1</td>\n",
       "      <td>2023-01-16T17:35:24.000Z</td>\n",
       "      <td>2023-01-16T17:35:53.000Z</td>\n",
       "      <td>126</td>\n",
       "      <td>35.671015</td>\n",
       "      <td>35.671497</td>\n",
       "      <td>-96.662334</td>\n",
       "      <td>-96.662326</td>\n",
       "    </tr>\n",
       "    <tr>\n",
       "      <th>2</th>\n",
       "      <td>2</td>\n",
       "      <td>2023-01-16T17:36:52.000Z</td>\n",
       "      <td>2023-01-16T17:37:16.000Z</td>\n",
       "      <td>127</td>\n",
       "      <td>35.671011</td>\n",
       "      <td>35.671399</td>\n",
       "      <td>-96.662355</td>\n",
       "      <td>-96.662348</td>\n",
       "    </tr>\n",
       "    <tr>\n",
       "      <th>3</th>\n",
       "      <td>3</td>\n",
       "      <td>2023-01-16T17:38:04.000Z</td>\n",
       "      <td>2023-01-16T17:38:28.000Z</td>\n",
       "      <td>128</td>\n",
       "      <td>35.671016</td>\n",
       "      <td>35.671406</td>\n",
       "      <td>-96.662355</td>\n",
       "      <td>-96.662347</td>\n",
       "    </tr>\n",
       "    <tr>\n",
       "      <th>4</th>\n",
       "      <td>4</td>\n",
       "      <td>2023-01-16T17:39:08.000Z</td>\n",
       "      <td>2023-01-16T17:39:38.000Z</td>\n",
       "      <td>129</td>\n",
       "      <td>35.671005</td>\n",
       "      <td>35.671495</td>\n",
       "      <td>-96.662349</td>\n",
       "      <td>-96.662337</td>\n",
       "    </tr>\n",
       "  </tbody>\n",
       "</table>\n",
       "</div>"
      ],
      "text/plain": [
       "   Unnamed: 0                     Start                       End  passID  \\\n",
       "0           0  2023-01-16T17:34:19.000Z  2023-01-16T17:34:48.000Z     125   \n",
       "1           1  2023-01-16T17:35:24.000Z  2023-01-16T17:35:53.000Z     126   \n",
       "2           2  2023-01-16T17:36:52.000Z  2023-01-16T17:37:16.000Z     127   \n",
       "3           3  2023-01-16T17:38:04.000Z  2023-01-16T17:38:28.000Z     128   \n",
       "4           4  2023-01-16T17:39:08.000Z  2023-01-16T17:39:38.000Z     129   \n",
       "\n",
       "     lat_min    lat_max   long_min   long_max  \n",
       "0  35.671009  35.671484 -96.662335 -96.662326  \n",
       "1  35.671015  35.671497 -96.662334 -96.662326  \n",
       "2  35.671011  35.671399 -96.662355 -96.662348  \n",
       "3  35.671016  35.671406 -96.662355 -96.662347  \n",
       "4  35.671005  35.671495 -96.662349 -96.662337  "
      ]
     },
     "execution_count": 43,
     "metadata": {},
     "output_type": "execute_result"
    }
   ],
   "source": [
    "location_in_time"
   ]
  },
  {
   "cell_type": "code",
   "execution_count": 44,
   "id": "1d6b2697",
   "metadata": {
    "scrolled": true
   },
   "outputs": [
    {
     "data": {
      "text/html": [
       "<div>\n",
       "<style scoped>\n",
       "    .dataframe tbody tr th:only-of-type {\n",
       "        vertical-align: middle;\n",
       "    }\n",
       "\n",
       "    .dataframe tbody tr th {\n",
       "        vertical-align: top;\n",
       "    }\n",
       "\n",
       "    .dataframe thead th {\n",
       "        text-align: right;\n",
       "    }\n",
       "</style>\n",
       "<table border=\"1\" class=\"dataframe\">\n",
       "  <thead>\n",
       "    <tr style=\"text-align: right;\">\n",
       "      <th></th>\n",
       "      <th>Unnamed: 0</th>\n",
       "      <th>Unnamed: 0.1</th>\n",
       "      <th>timestamp</th>\n",
       "      <th>total_power</th>\n",
       "      <th>p0</th>\n",
       "      <th>p1</th>\n",
       "      <th>p2</th>\n",
       "      <th>p3</th>\n",
       "      <th>p4</th>\n",
       "      <th>p5</th>\n",
       "      <th>p6</th>\n",
       "      <th>cluster</th>\n",
       "    </tr>\n",
       "  </thead>\n",
       "  <tbody>\n",
       "    <tr>\n",
       "      <th>0</th>\n",
       "      <td>0</td>\n",
       "      <td>0</td>\n",
       "      <td>2023-01-16 17:34:19.120000+00:00</td>\n",
       "      <td>100.000000</td>\n",
       "      <td>-2.000000</td>\n",
       "      <td>0.885069</td>\n",
       "      <td>2.000000</td>\n",
       "      <td>2.000000</td>\n",
       "      <td>2.000000</td>\n",
       "      <td>-0.322798</td>\n",
       "      <td>2.000000</td>\n",
       "      <td>3</td>\n",
       "    </tr>\n",
       "    <tr>\n",
       "      <th>1</th>\n",
       "      <td>1</td>\n",
       "      <td>1</td>\n",
       "      <td>2023-01-16 17:34:19.257000+00:00</td>\n",
       "      <td>27.244641</td>\n",
       "      <td>-2.000000</td>\n",
       "      <td>-0.112533</td>\n",
       "      <td>-0.333630</td>\n",
       "      <td>-0.089052</td>\n",
       "      <td>-0.695866</td>\n",
       "      <td>1.323422</td>\n",
       "      <td>-0.320021</td>\n",
       "      <td>0</td>\n",
       "    </tr>\n",
       "    <tr>\n",
       "      <th>2</th>\n",
       "      <td>2</td>\n",
       "      <td>2</td>\n",
       "      <td>2023-01-16 17:34:19.384000+00:00</td>\n",
       "      <td>87.015026</td>\n",
       "      <td>-2.000000</td>\n",
       "      <td>0.583593</td>\n",
       "      <td>-0.523349</td>\n",
       "      <td>0.545469</td>\n",
       "      <td>1.613699</td>\n",
       "      <td>2.000000</td>\n",
       "      <td>-0.174864</td>\n",
       "      <td>3</td>\n",
       "    </tr>\n",
       "    <tr>\n",
       "      <th>3</th>\n",
       "      <td>3</td>\n",
       "      <td>3</td>\n",
       "      <td>2023-01-16 17:34:19.511000+00:00</td>\n",
       "      <td>72.599388</td>\n",
       "      <td>-1.781936</td>\n",
       "      <td>-0.478547</td>\n",
       "      <td>1.138342</td>\n",
       "      <td>0.668982</td>\n",
       "      <td>0.879509</td>\n",
       "      <td>1.782219</td>\n",
       "      <td>1.259651</td>\n",
       "      <td>3</td>\n",
       "    </tr>\n",
       "    <tr>\n",
       "      <th>4</th>\n",
       "      <td>4</td>\n",
       "      <td>4</td>\n",
       "      <td>2023-01-16 17:34:19.638000+00:00</td>\n",
       "      <td>79.004734</td>\n",
       "      <td>0.426946</td>\n",
       "      <td>0.072054</td>\n",
       "      <td>0.391847</td>\n",
       "      <td>-0.068119</td>\n",
       "      <td>-0.295530</td>\n",
       "      <td>2.000000</td>\n",
       "      <td>1.878687</td>\n",
       "      <td>4</td>\n",
       "    </tr>\n",
       "    <tr>\n",
       "      <th>...</th>\n",
       "      <td>...</td>\n",
       "      <td>...</td>\n",
       "      <td>...</td>\n",
       "      <td>...</td>\n",
       "      <td>...</td>\n",
       "      <td>...</td>\n",
       "      <td>...</td>\n",
       "      <td>...</td>\n",
       "      <td>...</td>\n",
       "      <td>...</td>\n",
       "      <td>...</td>\n",
       "      <td>...</td>\n",
       "    </tr>\n",
       "    <tr>\n",
       "      <th>221</th>\n",
       "      <td>221</td>\n",
       "      <td>221</td>\n",
       "      <td>2023-01-16 17:34:47.197000+00:00</td>\n",
       "      <td>20.616142</td>\n",
       "      <td>-0.607993</td>\n",
       "      <td>-0.192768</td>\n",
       "      <td>0.191144</td>\n",
       "      <td>-0.455096</td>\n",
       "      <td>-0.082879</td>\n",
       "      <td>-0.823649</td>\n",
       "      <td>1.398749</td>\n",
       "      <td>0</td>\n",
       "    </tr>\n",
       "    <tr>\n",
       "      <th>222</th>\n",
       "      <td>222</td>\n",
       "      <td>222</td>\n",
       "      <td>2023-01-16 17:34:47.324000+00:00</td>\n",
       "      <td>79.814124</td>\n",
       "      <td>-0.864634</td>\n",
       "      <td>0.020569</td>\n",
       "      <td>0.247757</td>\n",
       "      <td>-0.343648</td>\n",
       "      <td>1.873516</td>\n",
       "      <td>2.000000</td>\n",
       "      <td>-0.642468</td>\n",
       "      <td>3</td>\n",
       "    </tr>\n",
       "    <tr>\n",
       "      <th>223</th>\n",
       "      <td>223</td>\n",
       "      <td>223</td>\n",
       "      <td>2023-01-16 17:34:47.451000+00:00</td>\n",
       "      <td>100.000000</td>\n",
       "      <td>-0.551575</td>\n",
       "      <td>-0.638812</td>\n",
       "      <td>-0.075328</td>\n",
       "      <td>-0.221783</td>\n",
       "      <td>1.036407</td>\n",
       "      <td>2.000000</td>\n",
       "      <td>2.000000</td>\n",
       "      <td>3</td>\n",
       "    </tr>\n",
       "    <tr>\n",
       "      <th>224</th>\n",
       "      <td>224</td>\n",
       "      <td>224</td>\n",
       "      <td>2023-01-16 17:34:47.578000+00:00</td>\n",
       "      <td>35.213941</td>\n",
       "      <td>0.094784</td>\n",
       "      <td>-0.915530</td>\n",
       "      <td>1.533633</td>\n",
       "      <td>-0.091305</td>\n",
       "      <td>0.375005</td>\n",
       "      <td>-0.263960</td>\n",
       "      <td>0.834121</td>\n",
       "      <td>4</td>\n",
       "    </tr>\n",
       "    <tr>\n",
       "      <th>225</th>\n",
       "      <td>225</td>\n",
       "      <td>225</td>\n",
       "      <td>2023-01-16 17:34:47.704000+00:00</td>\n",
       "      <td>49.519070</td>\n",
       "      <td>0.193422</td>\n",
       "      <td>-0.754258</td>\n",
       "      <td>0.745443</td>\n",
       "      <td>-0.092675</td>\n",
       "      <td>0.240301</td>\n",
       "      <td>1.474283</td>\n",
       "      <td>-0.787182</td>\n",
       "      <td>4</td>\n",
       "    </tr>\n",
       "  </tbody>\n",
       "</table>\n",
       "<p>226 rows × 12 columns</p>\n",
       "</div>"
      ],
      "text/plain": [
       "     Unnamed: 0  Unnamed: 0.1                         timestamp  total_power  \\\n",
       "0             0             0  2023-01-16 17:34:19.120000+00:00   100.000000   \n",
       "1             1             1  2023-01-16 17:34:19.257000+00:00    27.244641   \n",
       "2             2             2  2023-01-16 17:34:19.384000+00:00    87.015026   \n",
       "3             3             3  2023-01-16 17:34:19.511000+00:00    72.599388   \n",
       "4             4             4  2023-01-16 17:34:19.638000+00:00    79.004734   \n",
       "..          ...           ...                               ...          ...   \n",
       "221         221           221  2023-01-16 17:34:47.197000+00:00    20.616142   \n",
       "222         222           222  2023-01-16 17:34:47.324000+00:00    79.814124   \n",
       "223         223           223  2023-01-16 17:34:47.451000+00:00   100.000000   \n",
       "224         224           224  2023-01-16 17:34:47.578000+00:00    35.213941   \n",
       "225         225           225  2023-01-16 17:34:47.704000+00:00    49.519070   \n",
       "\n",
       "           p0        p1        p2        p3        p4        p5        p6  \\\n",
       "0   -2.000000  0.885069  2.000000  2.000000  2.000000 -0.322798  2.000000   \n",
       "1   -2.000000 -0.112533 -0.333630 -0.089052 -0.695866  1.323422 -0.320021   \n",
       "2   -2.000000  0.583593 -0.523349  0.545469  1.613699  2.000000 -0.174864   \n",
       "3   -1.781936 -0.478547  1.138342  0.668982  0.879509  1.782219  1.259651   \n",
       "4    0.426946  0.072054  0.391847 -0.068119 -0.295530  2.000000  1.878687   \n",
       "..        ...       ...       ...       ...       ...       ...       ...   \n",
       "221 -0.607993 -0.192768  0.191144 -0.455096 -0.082879 -0.823649  1.398749   \n",
       "222 -0.864634  0.020569  0.247757 -0.343648  1.873516  2.000000 -0.642468   \n",
       "223 -0.551575 -0.638812 -0.075328 -0.221783  1.036407  2.000000  2.000000   \n",
       "224  0.094784 -0.915530  1.533633 -0.091305  0.375005 -0.263960  0.834121   \n",
       "225  0.193422 -0.754258  0.745443 -0.092675  0.240301  1.474283 -0.787182   \n",
       "\n",
       "     cluster  \n",
       "0          3  \n",
       "1          0  \n",
       "2          3  \n",
       "3          3  \n",
       "4          4  \n",
       "..       ...  \n",
       "221        0  \n",
       "222        3  \n",
       "223        3  \n",
       "224        4  \n",
       "225        4  \n",
       "\n",
       "[226 rows x 12 columns]"
      ]
     },
     "execution_count": 44,
     "metadata": {},
     "output_type": "execute_result"
    }
   ],
   "source": [
    "each_data=[pd.read_csv(folder_location/model_name/f\"cluster_predicted_pass_{x}.csv\") for x in passes]\n",
    "each_data[0]"
   ]
  },
  {
   "cell_type": "code",
   "execution_count": 45,
   "id": "1356a256",
   "metadata": {
    "scrolled": true
   },
   "outputs": [
    {
     "data": {
      "text/plain": [
       "35.671009"
      ]
     },
     "execution_count": 45,
     "metadata": {},
     "output_type": "execute_result"
    }
   ],
   "source": [
    "location_in_time[\"lat_min\"][0]"
   ]
  },
  {
   "cell_type": "code",
   "execution_count": 46,
   "id": "fe0de55c",
   "metadata": {},
   "outputs": [
    {
     "data": {
      "text/html": [
       "<div>\n",
       "<style scoped>\n",
       "    .dataframe tbody tr th:only-of-type {\n",
       "        vertical-align: middle;\n",
       "    }\n",
       "\n",
       "    .dataframe tbody tr th {\n",
       "        vertical-align: top;\n",
       "    }\n",
       "\n",
       "    .dataframe thead th {\n",
       "        text-align: right;\n",
       "    }\n",
       "</style>\n",
       "<table border=\"1\" class=\"dataframe\">\n",
       "  <thead>\n",
       "    <tr style=\"text-align: right;\">\n",
       "      <th></th>\n",
       "      <th>Unnamed: 0</th>\n",
       "      <th>Unnamed: 0.1</th>\n",
       "      <th>timestamp</th>\n",
       "      <th>total_power</th>\n",
       "      <th>p0</th>\n",
       "      <th>p1</th>\n",
       "      <th>p2</th>\n",
       "      <th>p3</th>\n",
       "      <th>p4</th>\n",
       "      <th>p5</th>\n",
       "      <th>p6</th>\n",
       "      <th>cluster</th>\n",
       "    </tr>\n",
       "  </thead>\n",
       "  <tbody>\n",
       "    <tr>\n",
       "      <th>0</th>\n",
       "      <td>0</td>\n",
       "      <td>0</td>\n",
       "      <td>2023-01-16 17:34:19.120000+00:00</td>\n",
       "      <td>100.000000</td>\n",
       "      <td>-2.000000</td>\n",
       "      <td>0.885069</td>\n",
       "      <td>2.000000</td>\n",
       "      <td>2.000000</td>\n",
       "      <td>2.000000</td>\n",
       "      <td>-0.322798</td>\n",
       "      <td>2.000000</td>\n",
       "      <td>3</td>\n",
       "    </tr>\n",
       "    <tr>\n",
       "      <th>1</th>\n",
       "      <td>1</td>\n",
       "      <td>1</td>\n",
       "      <td>2023-01-16 17:34:19.257000+00:00</td>\n",
       "      <td>27.244641</td>\n",
       "      <td>-2.000000</td>\n",
       "      <td>-0.112533</td>\n",
       "      <td>-0.333630</td>\n",
       "      <td>-0.089052</td>\n",
       "      <td>-0.695866</td>\n",
       "      <td>1.323422</td>\n",
       "      <td>-0.320021</td>\n",
       "      <td>0</td>\n",
       "    </tr>\n",
       "    <tr>\n",
       "      <th>2</th>\n",
       "      <td>2</td>\n",
       "      <td>2</td>\n",
       "      <td>2023-01-16 17:34:19.384000+00:00</td>\n",
       "      <td>87.015026</td>\n",
       "      <td>-2.000000</td>\n",
       "      <td>0.583593</td>\n",
       "      <td>-0.523349</td>\n",
       "      <td>0.545469</td>\n",
       "      <td>1.613699</td>\n",
       "      <td>2.000000</td>\n",
       "      <td>-0.174864</td>\n",
       "      <td>3</td>\n",
       "    </tr>\n",
       "    <tr>\n",
       "      <th>3</th>\n",
       "      <td>3</td>\n",
       "      <td>3</td>\n",
       "      <td>2023-01-16 17:34:19.511000+00:00</td>\n",
       "      <td>72.599388</td>\n",
       "      <td>-1.781936</td>\n",
       "      <td>-0.478547</td>\n",
       "      <td>1.138342</td>\n",
       "      <td>0.668982</td>\n",
       "      <td>0.879509</td>\n",
       "      <td>1.782219</td>\n",
       "      <td>1.259651</td>\n",
       "      <td>3</td>\n",
       "    </tr>\n",
       "    <tr>\n",
       "      <th>4</th>\n",
       "      <td>4</td>\n",
       "      <td>4</td>\n",
       "      <td>2023-01-16 17:34:19.638000+00:00</td>\n",
       "      <td>79.004734</td>\n",
       "      <td>0.426946</td>\n",
       "      <td>0.072054</td>\n",
       "      <td>0.391847</td>\n",
       "      <td>-0.068119</td>\n",
       "      <td>-0.295530</td>\n",
       "      <td>2.000000</td>\n",
       "      <td>1.878687</td>\n",
       "      <td>4</td>\n",
       "    </tr>\n",
       "    <tr>\n",
       "      <th>...</th>\n",
       "      <td>...</td>\n",
       "      <td>...</td>\n",
       "      <td>...</td>\n",
       "      <td>...</td>\n",
       "      <td>...</td>\n",
       "      <td>...</td>\n",
       "      <td>...</td>\n",
       "      <td>...</td>\n",
       "      <td>...</td>\n",
       "      <td>...</td>\n",
       "      <td>...</td>\n",
       "      <td>...</td>\n",
       "    </tr>\n",
       "    <tr>\n",
       "      <th>221</th>\n",
       "      <td>221</td>\n",
       "      <td>221</td>\n",
       "      <td>2023-01-16 17:34:47.197000+00:00</td>\n",
       "      <td>20.616142</td>\n",
       "      <td>-0.607993</td>\n",
       "      <td>-0.192768</td>\n",
       "      <td>0.191144</td>\n",
       "      <td>-0.455096</td>\n",
       "      <td>-0.082879</td>\n",
       "      <td>-0.823649</td>\n",
       "      <td>1.398749</td>\n",
       "      <td>0</td>\n",
       "    </tr>\n",
       "    <tr>\n",
       "      <th>222</th>\n",
       "      <td>222</td>\n",
       "      <td>222</td>\n",
       "      <td>2023-01-16 17:34:47.324000+00:00</td>\n",
       "      <td>79.814124</td>\n",
       "      <td>-0.864634</td>\n",
       "      <td>0.020569</td>\n",
       "      <td>0.247757</td>\n",
       "      <td>-0.343648</td>\n",
       "      <td>1.873516</td>\n",
       "      <td>2.000000</td>\n",
       "      <td>-0.642468</td>\n",
       "      <td>3</td>\n",
       "    </tr>\n",
       "    <tr>\n",
       "      <th>223</th>\n",
       "      <td>223</td>\n",
       "      <td>223</td>\n",
       "      <td>2023-01-16 17:34:47.451000+00:00</td>\n",
       "      <td>100.000000</td>\n",
       "      <td>-0.551575</td>\n",
       "      <td>-0.638812</td>\n",
       "      <td>-0.075328</td>\n",
       "      <td>-0.221783</td>\n",
       "      <td>1.036407</td>\n",
       "      <td>2.000000</td>\n",
       "      <td>2.000000</td>\n",
       "      <td>3</td>\n",
       "    </tr>\n",
       "    <tr>\n",
       "      <th>224</th>\n",
       "      <td>224</td>\n",
       "      <td>224</td>\n",
       "      <td>2023-01-16 17:34:47.578000+00:00</td>\n",
       "      <td>35.213941</td>\n",
       "      <td>0.094784</td>\n",
       "      <td>-0.915530</td>\n",
       "      <td>1.533633</td>\n",
       "      <td>-0.091305</td>\n",
       "      <td>0.375005</td>\n",
       "      <td>-0.263960</td>\n",
       "      <td>0.834121</td>\n",
       "      <td>4</td>\n",
       "    </tr>\n",
       "    <tr>\n",
       "      <th>225</th>\n",
       "      <td>225</td>\n",
       "      <td>225</td>\n",
       "      <td>2023-01-16 17:34:47.704000+00:00</td>\n",
       "      <td>49.519070</td>\n",
       "      <td>0.193422</td>\n",
       "      <td>-0.754258</td>\n",
       "      <td>0.745443</td>\n",
       "      <td>-0.092675</td>\n",
       "      <td>0.240301</td>\n",
       "      <td>1.474283</td>\n",
       "      <td>-0.787182</td>\n",
       "      <td>4</td>\n",
       "    </tr>\n",
       "  </tbody>\n",
       "</table>\n",
       "<p>226 rows × 12 columns</p>\n",
       "</div>"
      ],
      "text/plain": [
       "     Unnamed: 0  Unnamed: 0.1                         timestamp  total_power  \\\n",
       "0             0             0  2023-01-16 17:34:19.120000+00:00   100.000000   \n",
       "1             1             1  2023-01-16 17:34:19.257000+00:00    27.244641   \n",
       "2             2             2  2023-01-16 17:34:19.384000+00:00    87.015026   \n",
       "3             3             3  2023-01-16 17:34:19.511000+00:00    72.599388   \n",
       "4             4             4  2023-01-16 17:34:19.638000+00:00    79.004734   \n",
       "..          ...           ...                               ...          ...   \n",
       "221         221           221  2023-01-16 17:34:47.197000+00:00    20.616142   \n",
       "222         222           222  2023-01-16 17:34:47.324000+00:00    79.814124   \n",
       "223         223           223  2023-01-16 17:34:47.451000+00:00   100.000000   \n",
       "224         224           224  2023-01-16 17:34:47.578000+00:00    35.213941   \n",
       "225         225           225  2023-01-16 17:34:47.704000+00:00    49.519070   \n",
       "\n",
       "           p0        p1        p2        p3        p4        p5        p6  \\\n",
       "0   -2.000000  0.885069  2.000000  2.000000  2.000000 -0.322798  2.000000   \n",
       "1   -2.000000 -0.112533 -0.333630 -0.089052 -0.695866  1.323422 -0.320021   \n",
       "2   -2.000000  0.583593 -0.523349  0.545469  1.613699  2.000000 -0.174864   \n",
       "3   -1.781936 -0.478547  1.138342  0.668982  0.879509  1.782219  1.259651   \n",
       "4    0.426946  0.072054  0.391847 -0.068119 -0.295530  2.000000  1.878687   \n",
       "..        ...       ...       ...       ...       ...       ...       ...   \n",
       "221 -0.607993 -0.192768  0.191144 -0.455096 -0.082879 -0.823649  1.398749   \n",
       "222 -0.864634  0.020569  0.247757 -0.343648  1.873516  2.000000 -0.642468   \n",
       "223 -0.551575 -0.638812 -0.075328 -0.221783  1.036407  2.000000  2.000000   \n",
       "224  0.094784 -0.915530  1.533633 -0.091305  0.375005 -0.263960  0.834121   \n",
       "225  0.193422 -0.754258  0.745443 -0.092675  0.240301  1.474283 -0.787182   \n",
       "\n",
       "     cluster  \n",
       "0          3  \n",
       "1          0  \n",
       "2          3  \n",
       "3          3  \n",
       "4          4  \n",
       "..       ...  \n",
       "221        0  \n",
       "222        3  \n",
       "223        3  \n",
       "224        4  \n",
       "225        4  \n",
       "\n",
       "[226 rows x 12 columns]"
      ]
     },
     "execution_count": 46,
     "metadata": {},
     "output_type": "execute_result"
    }
   ],
   "source": [
    "each_data[0]"
   ]
  },
  {
   "cell_type": "code",
   "execution_count": 47,
   "id": "e4f22e85",
   "metadata": {},
   "outputs": [
    {
     "name": "stdout",
     "output_type": "stream",
     "text": [
      "226\n",
      "0\n",
      "226\n",
      "1\n",
      "186\n",
      "2\n",
      "187\n",
      "3\n",
      "234\n",
      "4\n"
     ]
    }
   ],
   "source": [
    "for i in range(len(passes)):\n",
    "    each_data[i][\"pass_no\"]=i\n",
    "    length=len(each_data[i])\n",
    "    latitudes = np.linspace(location_in_time[\"lat_min\"][i],location_in_time[\"lat_max\"][i] , num=length)\n",
    "    print(len(latitudes))\n",
    "    each_data[i][\"latitude\"]=latitudes\n",
    "    longitudes= np.linspace(location_in_time[\"long_min\"][i],location_in_time[\"long_max\"][i] , num=length)\n",
    "    each_data[i][\"longitude\"]=longitudes\n",
    "    \n",
    "    each_data[i][\"prev\"]=each_data[i][\"cluster\"].shift(1)\n",
    "    each_data[i][\"change\"]=each_data[i].apply(lambda x: 1 if abs(x[\"prev\"]-x[\"cluster\"]>1)  else 0, axis=1)\n",
    "    \n",
    "    print(i)\n",
    "    if i==0:\n",
    "        each_data[i][\"first\"]=True\n",
    "        each_data[i][\"last\"]=False\n",
    "    elif i==len(passes)-1:\n",
    "        each_data[i][\"first\"]=False\n",
    "        each_data[i][\"last\"]=True\n",
    "    else:\n",
    "        each_data[i][\"first\"]=False\n",
    "        each_data[i][\"last\"]=False\n",
    "        \n",
    "full_data=pd.concat(each_data)"
   ]
  },
  {
   "cell_type": "code",
   "execution_count": 48,
   "id": "8bc9e546",
   "metadata": {
    "scrolled": false
   },
   "outputs": [
    {
     "data": {
      "application/vnd.plotly.v1+json": {
       "config": {
        "plotlyServerURL": "https://plot.ly"
       },
       "data": [
        {
         "alignmentgroup": "True",
         "bingroup": "x",
         "histnorm": "percent",
         "hovertemplate": "cluster=%{x}<br>percent=%{y}<extra></extra>",
         "legendgroup": "",
         "marker": {
          "color": "#636efa",
          "pattern": {
           "shape": ""
          }
         },
         "name": "",
         "nbinsx": 30,
         "offsetgroup": "",
         "orientation": "v",
         "showlegend": false,
         "type": "histogram",
         "x": [
          3,
          0,
          0,
          0,
          0,
          0,
          0,
          3,
          3,
          0,
          0,
          1,
          1,
          0,
          3,
          2,
          0,
          0,
          2,
          0,
          0,
          0,
          2,
          2,
          1,
          3,
          0,
          0,
          0,
          0,
          2,
          4,
          3,
          0,
          0,
          0,
          0,
          2,
          3,
          0,
          0,
          0,
          0,
          0,
          0,
          0,
          0,
          2,
          0,
          0,
          0,
          0,
          0,
          0,
          0,
          0,
          0,
          0,
          0,
          0,
          0,
          0,
          3,
          3,
          0,
          3,
          0,
          0,
          0,
          0,
          0,
          0,
          0,
          0,
          0,
          0,
          0,
          0,
          0,
          0,
          0,
          0,
          0,
          0,
          0,
          0,
          0,
          0,
          0,
          0,
          0,
          0,
          0,
          0,
          3,
          0,
          3,
          0,
          0,
          0,
          0,
          0,
          3,
          3,
          0,
          0,
          0,
          0,
          0,
          0,
          0,
          0,
          0,
          4,
          0,
          0,
          0,
          0,
          0,
          0,
          0,
          4,
          4,
          0,
          4,
          0,
          2,
          2,
          0,
          0,
          0,
          0,
          2,
          2,
          2,
          0,
          0,
          0,
          0,
          0,
          0,
          3,
          0,
          2,
          0,
          0,
          0,
          0,
          0,
          0,
          0,
          0,
          0,
          0,
          0,
          0,
          4,
          3,
          0,
          2,
          0,
          0,
          0,
          0,
          0,
          0,
          0,
          0,
          3,
          0,
          0,
          0,
          0,
          3,
          0,
          0,
          0,
          0,
          0,
          0,
          0,
          0,
          0,
          0,
          0,
          0,
          0,
          0,
          0,
          0,
          0,
          2,
          3,
          0,
          0,
          0,
          0,
          0,
          0,
          0,
          0,
          0,
          0,
          0,
          0,
          2,
          3,
          2,
          2,
          0,
          4,
          0,
          0,
          0,
          3,
          2,
          0,
          0,
          0,
          0,
          0,
          2,
          2,
          0,
          2,
          3
         ],
         "xaxis": "x",
         "yaxis": "y"
        }
       ],
       "layout": {
        "barmode": "relative",
        "height": 300,
        "legend": {
         "tracegroupgap": 0
        },
        "template": {
         "data": {
          "bar": [
           {
            "error_x": {
             "color": "#2a3f5f"
            },
            "error_y": {
             "color": "#2a3f5f"
            },
            "marker": {
             "line": {
              "color": "#E5ECF6",
              "width": 0.5
             },
             "pattern": {
              "fillmode": "overlay",
              "size": 10,
              "solidity": 0.2
             }
            },
            "type": "bar"
           }
          ],
          "barpolar": [
           {
            "marker": {
             "line": {
              "color": "#E5ECF6",
              "width": 0.5
             },
             "pattern": {
              "fillmode": "overlay",
              "size": 10,
              "solidity": 0.2
             }
            },
            "type": "barpolar"
           }
          ],
          "carpet": [
           {
            "aaxis": {
             "endlinecolor": "#2a3f5f",
             "gridcolor": "white",
             "linecolor": "white",
             "minorgridcolor": "white",
             "startlinecolor": "#2a3f5f"
            },
            "baxis": {
             "endlinecolor": "#2a3f5f",
             "gridcolor": "white",
             "linecolor": "white",
             "minorgridcolor": "white",
             "startlinecolor": "#2a3f5f"
            },
            "type": "carpet"
           }
          ],
          "choropleth": [
           {
            "colorbar": {
             "outlinewidth": 0,
             "ticks": ""
            },
            "type": "choropleth"
           }
          ],
          "contour": [
           {
            "colorbar": {
             "outlinewidth": 0,
             "ticks": ""
            },
            "colorscale": [
             [
              0,
              "#0d0887"
             ],
             [
              0.1111111111111111,
              "#46039f"
             ],
             [
              0.2222222222222222,
              "#7201a8"
             ],
             [
              0.3333333333333333,
              "#9c179e"
             ],
             [
              0.4444444444444444,
              "#bd3786"
             ],
             [
              0.5555555555555556,
              "#d8576b"
             ],
             [
              0.6666666666666666,
              "#ed7953"
             ],
             [
              0.7777777777777778,
              "#fb9f3a"
             ],
             [
              0.8888888888888888,
              "#fdca26"
             ],
             [
              1,
              "#f0f921"
             ]
            ],
            "type": "contour"
           }
          ],
          "contourcarpet": [
           {
            "colorbar": {
             "outlinewidth": 0,
             "ticks": ""
            },
            "type": "contourcarpet"
           }
          ],
          "heatmap": [
           {
            "colorbar": {
             "outlinewidth": 0,
             "ticks": ""
            },
            "colorscale": [
             [
              0,
              "#0d0887"
             ],
             [
              0.1111111111111111,
              "#46039f"
             ],
             [
              0.2222222222222222,
              "#7201a8"
             ],
             [
              0.3333333333333333,
              "#9c179e"
             ],
             [
              0.4444444444444444,
              "#bd3786"
             ],
             [
              0.5555555555555556,
              "#d8576b"
             ],
             [
              0.6666666666666666,
              "#ed7953"
             ],
             [
              0.7777777777777778,
              "#fb9f3a"
             ],
             [
              0.8888888888888888,
              "#fdca26"
             ],
             [
              1,
              "#f0f921"
             ]
            ],
            "type": "heatmap"
           }
          ],
          "heatmapgl": [
           {
            "colorbar": {
             "outlinewidth": 0,
             "ticks": ""
            },
            "colorscale": [
             [
              0,
              "#0d0887"
             ],
             [
              0.1111111111111111,
              "#46039f"
             ],
             [
              0.2222222222222222,
              "#7201a8"
             ],
             [
              0.3333333333333333,
              "#9c179e"
             ],
             [
              0.4444444444444444,
              "#bd3786"
             ],
             [
              0.5555555555555556,
              "#d8576b"
             ],
             [
              0.6666666666666666,
              "#ed7953"
             ],
             [
              0.7777777777777778,
              "#fb9f3a"
             ],
             [
              0.8888888888888888,
              "#fdca26"
             ],
             [
              1,
              "#f0f921"
             ]
            ],
            "type": "heatmapgl"
           }
          ],
          "histogram": [
           {
            "marker": {
             "pattern": {
              "fillmode": "overlay",
              "size": 10,
              "solidity": 0.2
             }
            },
            "type": "histogram"
           }
          ],
          "histogram2d": [
           {
            "colorbar": {
             "outlinewidth": 0,
             "ticks": ""
            },
            "colorscale": [
             [
              0,
              "#0d0887"
             ],
             [
              0.1111111111111111,
              "#46039f"
             ],
             [
              0.2222222222222222,
              "#7201a8"
             ],
             [
              0.3333333333333333,
              "#9c179e"
             ],
             [
              0.4444444444444444,
              "#bd3786"
             ],
             [
              0.5555555555555556,
              "#d8576b"
             ],
             [
              0.6666666666666666,
              "#ed7953"
             ],
             [
              0.7777777777777778,
              "#fb9f3a"
             ],
             [
              0.8888888888888888,
              "#fdca26"
             ],
             [
              1,
              "#f0f921"
             ]
            ],
            "type": "histogram2d"
           }
          ],
          "histogram2dcontour": [
           {
            "colorbar": {
             "outlinewidth": 0,
             "ticks": ""
            },
            "colorscale": [
             [
              0,
              "#0d0887"
             ],
             [
              0.1111111111111111,
              "#46039f"
             ],
             [
              0.2222222222222222,
              "#7201a8"
             ],
             [
              0.3333333333333333,
              "#9c179e"
             ],
             [
              0.4444444444444444,
              "#bd3786"
             ],
             [
              0.5555555555555556,
              "#d8576b"
             ],
             [
              0.6666666666666666,
              "#ed7953"
             ],
             [
              0.7777777777777778,
              "#fb9f3a"
             ],
             [
              0.8888888888888888,
              "#fdca26"
             ],
             [
              1,
              "#f0f921"
             ]
            ],
            "type": "histogram2dcontour"
           }
          ],
          "mesh3d": [
           {
            "colorbar": {
             "outlinewidth": 0,
             "ticks": ""
            },
            "type": "mesh3d"
           }
          ],
          "parcoords": [
           {
            "line": {
             "colorbar": {
              "outlinewidth": 0,
              "ticks": ""
             }
            },
            "type": "parcoords"
           }
          ],
          "pie": [
           {
            "automargin": true,
            "type": "pie"
           }
          ],
          "scatter": [
           {
            "fillpattern": {
             "fillmode": "overlay",
             "size": 10,
             "solidity": 0.2
            },
            "type": "scatter"
           }
          ],
          "scatter3d": [
           {
            "line": {
             "colorbar": {
              "outlinewidth": 0,
              "ticks": ""
             }
            },
            "marker": {
             "colorbar": {
              "outlinewidth": 0,
              "ticks": ""
             }
            },
            "type": "scatter3d"
           }
          ],
          "scattercarpet": [
           {
            "marker": {
             "colorbar": {
              "outlinewidth": 0,
              "ticks": ""
             }
            },
            "type": "scattercarpet"
           }
          ],
          "scattergeo": [
           {
            "marker": {
             "colorbar": {
              "outlinewidth": 0,
              "ticks": ""
             }
            },
            "type": "scattergeo"
           }
          ],
          "scattergl": [
           {
            "marker": {
             "colorbar": {
              "outlinewidth": 0,
              "ticks": ""
             }
            },
            "type": "scattergl"
           }
          ],
          "scattermapbox": [
           {
            "marker": {
             "colorbar": {
              "outlinewidth": 0,
              "ticks": ""
             }
            },
            "type": "scattermapbox"
           }
          ],
          "scatterpolar": [
           {
            "marker": {
             "colorbar": {
              "outlinewidth": 0,
              "ticks": ""
             }
            },
            "type": "scatterpolar"
           }
          ],
          "scatterpolargl": [
           {
            "marker": {
             "colorbar": {
              "outlinewidth": 0,
              "ticks": ""
             }
            },
            "type": "scatterpolargl"
           }
          ],
          "scatterternary": [
           {
            "marker": {
             "colorbar": {
              "outlinewidth": 0,
              "ticks": ""
             }
            },
            "type": "scatterternary"
           }
          ],
          "surface": [
           {
            "colorbar": {
             "outlinewidth": 0,
             "ticks": ""
            },
            "colorscale": [
             [
              0,
              "#0d0887"
             ],
             [
              0.1111111111111111,
              "#46039f"
             ],
             [
              0.2222222222222222,
              "#7201a8"
             ],
             [
              0.3333333333333333,
              "#9c179e"
             ],
             [
              0.4444444444444444,
              "#bd3786"
             ],
             [
              0.5555555555555556,
              "#d8576b"
             ],
             [
              0.6666666666666666,
              "#ed7953"
             ],
             [
              0.7777777777777778,
              "#fb9f3a"
             ],
             [
              0.8888888888888888,
              "#fdca26"
             ],
             [
              1,
              "#f0f921"
             ]
            ],
            "type": "surface"
           }
          ],
          "table": [
           {
            "cells": {
             "fill": {
              "color": "#EBF0F8"
             },
             "line": {
              "color": "white"
             }
            },
            "header": {
             "fill": {
              "color": "#C8D4E3"
             },
             "line": {
              "color": "white"
             }
            },
            "type": "table"
           }
          ]
         },
         "layout": {
          "annotationdefaults": {
           "arrowcolor": "#2a3f5f",
           "arrowhead": 0,
           "arrowwidth": 1
          },
          "autotypenumbers": "strict",
          "coloraxis": {
           "colorbar": {
            "outlinewidth": 0,
            "ticks": ""
           }
          },
          "colorscale": {
           "diverging": [
            [
             0,
             "#8e0152"
            ],
            [
             0.1,
             "#c51b7d"
            ],
            [
             0.2,
             "#de77ae"
            ],
            [
             0.3,
             "#f1b6da"
            ],
            [
             0.4,
             "#fde0ef"
            ],
            [
             0.5,
             "#f7f7f7"
            ],
            [
             0.6,
             "#e6f5d0"
            ],
            [
             0.7,
             "#b8e186"
            ],
            [
             0.8,
             "#7fbc41"
            ],
            [
             0.9,
             "#4d9221"
            ],
            [
             1,
             "#276419"
            ]
           ],
           "sequential": [
            [
             0,
             "#0d0887"
            ],
            [
             0.1111111111111111,
             "#46039f"
            ],
            [
             0.2222222222222222,
             "#7201a8"
            ],
            [
             0.3333333333333333,
             "#9c179e"
            ],
            [
             0.4444444444444444,
             "#bd3786"
            ],
            [
             0.5555555555555556,
             "#d8576b"
            ],
            [
             0.6666666666666666,
             "#ed7953"
            ],
            [
             0.7777777777777778,
             "#fb9f3a"
            ],
            [
             0.8888888888888888,
             "#fdca26"
            ],
            [
             1,
             "#f0f921"
            ]
           ],
           "sequentialminus": [
            [
             0,
             "#0d0887"
            ],
            [
             0.1111111111111111,
             "#46039f"
            ],
            [
             0.2222222222222222,
             "#7201a8"
            ],
            [
             0.3333333333333333,
             "#9c179e"
            ],
            [
             0.4444444444444444,
             "#bd3786"
            ],
            [
             0.5555555555555556,
             "#d8576b"
            ],
            [
             0.6666666666666666,
             "#ed7953"
            ],
            [
             0.7777777777777778,
             "#fb9f3a"
            ],
            [
             0.8888888888888888,
             "#fdca26"
            ],
            [
             1,
             "#f0f921"
            ]
           ]
          },
          "colorway": [
           "#636efa",
           "#EF553B",
           "#00cc96",
           "#ab63fa",
           "#FFA15A",
           "#19d3f3",
           "#FF6692",
           "#B6E880",
           "#FF97FF",
           "#FECB52"
          ],
          "font": {
           "color": "#2a3f5f"
          },
          "geo": {
           "bgcolor": "white",
           "lakecolor": "white",
           "landcolor": "#E5ECF6",
           "showlakes": true,
           "showland": true,
           "subunitcolor": "white"
          },
          "hoverlabel": {
           "align": "left"
          },
          "hovermode": "closest",
          "mapbox": {
           "style": "light"
          },
          "paper_bgcolor": "white",
          "plot_bgcolor": "#E5ECF6",
          "polar": {
           "angularaxis": {
            "gridcolor": "white",
            "linecolor": "white",
            "ticks": ""
           },
           "bgcolor": "#E5ECF6",
           "radialaxis": {
            "gridcolor": "white",
            "linecolor": "white",
            "ticks": ""
           }
          },
          "scene": {
           "xaxis": {
            "backgroundcolor": "#E5ECF6",
            "gridcolor": "white",
            "gridwidth": 2,
            "linecolor": "white",
            "showbackground": true,
            "ticks": "",
            "zerolinecolor": "white"
           },
           "yaxis": {
            "backgroundcolor": "#E5ECF6",
            "gridcolor": "white",
            "gridwidth": 2,
            "linecolor": "white",
            "showbackground": true,
            "ticks": "",
            "zerolinecolor": "white"
           },
           "zaxis": {
            "backgroundcolor": "#E5ECF6",
            "gridcolor": "white",
            "gridwidth": 2,
            "linecolor": "white",
            "showbackground": true,
            "ticks": "",
            "zerolinecolor": "white"
           }
          },
          "shapedefaults": {
           "line": {
            "color": "#2a3f5f"
           }
          },
          "ternary": {
           "aaxis": {
            "gridcolor": "white",
            "linecolor": "white",
            "ticks": ""
           },
           "baxis": {
            "gridcolor": "white",
            "linecolor": "white",
            "ticks": ""
           },
           "bgcolor": "#E5ECF6",
           "caxis": {
            "gridcolor": "white",
            "linecolor": "white",
            "ticks": ""
           }
          },
          "title": {
           "x": 0.05
          },
          "xaxis": {
           "automargin": true,
           "gridcolor": "white",
           "linecolor": "white",
           "ticks": "",
           "title": {
            "standoff": 15
           },
           "zerolinecolor": "white",
           "zerolinewidth": 2
          },
          "yaxis": {
           "automargin": true,
           "gridcolor": "white",
           "linecolor": "white",
           "ticks": "",
           "title": {
            "standoff": 15
           },
           "zerolinecolor": "white",
           "zerolinewidth": 2
          }
         }
        },
        "title": {
         "text": "Distribution of cluster in pass 1 using GMM in shawnee_location_2"
        },
        "width": 800,
        "xaxis": {
         "anchor": "y",
         "domain": [
          0,
          1
         ],
         "title": {
          "text": "cluster"
         }
        },
        "yaxis": {
         "anchor": "x",
         "domain": [
          0,
          1
         ],
         "title": {
          "text": "percent"
         }
        }
       }
      },
      "text/html": [
       "<div>                            <div id=\"4d83a3f8-5a49-421e-9c5b-84732dd3ff58\" class=\"plotly-graph-div\" style=\"height:300px; width:800px;\"></div>            <script type=\"text/javascript\">                require([\"plotly\"], function(Plotly) {                    window.PLOTLYENV=window.PLOTLYENV || {};                                    if (document.getElementById(\"4d83a3f8-5a49-421e-9c5b-84732dd3ff58\")) {                    Plotly.newPlot(                        \"4d83a3f8-5a49-421e-9c5b-84732dd3ff58\",                        [{\"alignmentgroup\":\"True\",\"bingroup\":\"x\",\"histnorm\":\"percent\",\"hovertemplate\":\"cluster=%{x}<br>percent=%{y}<extra></extra>\",\"legendgroup\":\"\",\"marker\":{\"color\":\"#636efa\",\"pattern\":{\"shape\":\"\"}},\"name\":\"\",\"nbinsx\":30,\"offsetgroup\":\"\",\"orientation\":\"v\",\"showlegend\":false,\"x\":[3,0,0,0,0,0,0,3,3,0,0,1,1,0,3,2,0,0,2,0,0,0,2,2,1,3,0,0,0,0,2,4,3,0,0,0,0,2,3,0,0,0,0,0,0,0,0,2,0,0,0,0,0,0,0,0,0,0,0,0,0,0,3,3,0,3,0,0,0,0,0,0,0,0,0,0,0,0,0,0,0,0,0,0,0,0,0,0,0,0,0,0,0,0,3,0,3,0,0,0,0,0,3,3,0,0,0,0,0,0,0,0,0,4,0,0,0,0,0,0,0,4,4,0,4,0,2,2,0,0,0,0,2,2,2,0,0,0,0,0,0,3,0,2,0,0,0,0,0,0,0,0,0,0,0,0,4,3,0,2,0,0,0,0,0,0,0,0,3,0,0,0,0,3,0,0,0,0,0,0,0,0,0,0,0,0,0,0,0,0,0,2,3,0,0,0,0,0,0,0,0,0,0,0,0,2,3,2,2,0,4,0,0,0,3,2,0,0,0,0,0,2,2,0,2,3],\"xaxis\":\"x\",\"yaxis\":\"y\",\"type\":\"histogram\"}],                        {\"template\":{\"data\":{\"histogram2dcontour\":[{\"type\":\"histogram2dcontour\",\"colorbar\":{\"outlinewidth\":0,\"ticks\":\"\"},\"colorscale\":[[0.0,\"#0d0887\"],[0.1111111111111111,\"#46039f\"],[0.2222222222222222,\"#7201a8\"],[0.3333333333333333,\"#9c179e\"],[0.4444444444444444,\"#bd3786\"],[0.5555555555555556,\"#d8576b\"],[0.6666666666666666,\"#ed7953\"],[0.7777777777777778,\"#fb9f3a\"],[0.8888888888888888,\"#fdca26\"],[1.0,\"#f0f921\"]]}],\"choropleth\":[{\"type\":\"choropleth\",\"colorbar\":{\"outlinewidth\":0,\"ticks\":\"\"}}],\"histogram2d\":[{\"type\":\"histogram2d\",\"colorbar\":{\"outlinewidth\":0,\"ticks\":\"\"},\"colorscale\":[[0.0,\"#0d0887\"],[0.1111111111111111,\"#46039f\"],[0.2222222222222222,\"#7201a8\"],[0.3333333333333333,\"#9c179e\"],[0.4444444444444444,\"#bd3786\"],[0.5555555555555556,\"#d8576b\"],[0.6666666666666666,\"#ed7953\"],[0.7777777777777778,\"#fb9f3a\"],[0.8888888888888888,\"#fdca26\"],[1.0,\"#f0f921\"]]}],\"heatmap\":[{\"type\":\"heatmap\",\"colorbar\":{\"outlinewidth\":0,\"ticks\":\"\"},\"colorscale\":[[0.0,\"#0d0887\"],[0.1111111111111111,\"#46039f\"],[0.2222222222222222,\"#7201a8\"],[0.3333333333333333,\"#9c179e\"],[0.4444444444444444,\"#bd3786\"],[0.5555555555555556,\"#d8576b\"],[0.6666666666666666,\"#ed7953\"],[0.7777777777777778,\"#fb9f3a\"],[0.8888888888888888,\"#fdca26\"],[1.0,\"#f0f921\"]]}],\"heatmapgl\":[{\"type\":\"heatmapgl\",\"colorbar\":{\"outlinewidth\":0,\"ticks\":\"\"},\"colorscale\":[[0.0,\"#0d0887\"],[0.1111111111111111,\"#46039f\"],[0.2222222222222222,\"#7201a8\"],[0.3333333333333333,\"#9c179e\"],[0.4444444444444444,\"#bd3786\"],[0.5555555555555556,\"#d8576b\"],[0.6666666666666666,\"#ed7953\"],[0.7777777777777778,\"#fb9f3a\"],[0.8888888888888888,\"#fdca26\"],[1.0,\"#f0f921\"]]}],\"contourcarpet\":[{\"type\":\"contourcarpet\",\"colorbar\":{\"outlinewidth\":0,\"ticks\":\"\"}}],\"contour\":[{\"type\":\"contour\",\"colorbar\":{\"outlinewidth\":0,\"ticks\":\"\"},\"colorscale\":[[0.0,\"#0d0887\"],[0.1111111111111111,\"#46039f\"],[0.2222222222222222,\"#7201a8\"],[0.3333333333333333,\"#9c179e\"],[0.4444444444444444,\"#bd3786\"],[0.5555555555555556,\"#d8576b\"],[0.6666666666666666,\"#ed7953\"],[0.7777777777777778,\"#fb9f3a\"],[0.8888888888888888,\"#fdca26\"],[1.0,\"#f0f921\"]]}],\"surface\":[{\"type\":\"surface\",\"colorbar\":{\"outlinewidth\":0,\"ticks\":\"\"},\"colorscale\":[[0.0,\"#0d0887\"],[0.1111111111111111,\"#46039f\"],[0.2222222222222222,\"#7201a8\"],[0.3333333333333333,\"#9c179e\"],[0.4444444444444444,\"#bd3786\"],[0.5555555555555556,\"#d8576b\"],[0.6666666666666666,\"#ed7953\"],[0.7777777777777778,\"#fb9f3a\"],[0.8888888888888888,\"#fdca26\"],[1.0,\"#f0f921\"]]}],\"mesh3d\":[{\"type\":\"mesh3d\",\"colorbar\":{\"outlinewidth\":0,\"ticks\":\"\"}}],\"scatter\":[{\"fillpattern\":{\"fillmode\":\"overlay\",\"size\":10,\"solidity\":0.2},\"type\":\"scatter\"}],\"parcoords\":[{\"type\":\"parcoords\",\"line\":{\"colorbar\":{\"outlinewidth\":0,\"ticks\":\"\"}}}],\"scatterpolargl\":[{\"type\":\"scatterpolargl\",\"marker\":{\"colorbar\":{\"outlinewidth\":0,\"ticks\":\"\"}}}],\"bar\":[{\"error_x\":{\"color\":\"#2a3f5f\"},\"error_y\":{\"color\":\"#2a3f5f\"},\"marker\":{\"line\":{\"color\":\"#E5ECF6\",\"width\":0.5},\"pattern\":{\"fillmode\":\"overlay\",\"size\":10,\"solidity\":0.2}},\"type\":\"bar\"}],\"scattergeo\":[{\"type\":\"scattergeo\",\"marker\":{\"colorbar\":{\"outlinewidth\":0,\"ticks\":\"\"}}}],\"scatterpolar\":[{\"type\":\"scatterpolar\",\"marker\":{\"colorbar\":{\"outlinewidth\":0,\"ticks\":\"\"}}}],\"histogram\":[{\"marker\":{\"pattern\":{\"fillmode\":\"overlay\",\"size\":10,\"solidity\":0.2}},\"type\":\"histogram\"}],\"scattergl\":[{\"type\":\"scattergl\",\"marker\":{\"colorbar\":{\"outlinewidth\":0,\"ticks\":\"\"}}}],\"scatter3d\":[{\"type\":\"scatter3d\",\"line\":{\"colorbar\":{\"outlinewidth\":0,\"ticks\":\"\"}},\"marker\":{\"colorbar\":{\"outlinewidth\":0,\"ticks\":\"\"}}}],\"scattermapbox\":[{\"type\":\"scattermapbox\",\"marker\":{\"colorbar\":{\"outlinewidth\":0,\"ticks\":\"\"}}}],\"scatterternary\":[{\"type\":\"scatterternary\",\"marker\":{\"colorbar\":{\"outlinewidth\":0,\"ticks\":\"\"}}}],\"scattercarpet\":[{\"type\":\"scattercarpet\",\"marker\":{\"colorbar\":{\"outlinewidth\":0,\"ticks\":\"\"}}}],\"carpet\":[{\"aaxis\":{\"endlinecolor\":\"#2a3f5f\",\"gridcolor\":\"white\",\"linecolor\":\"white\",\"minorgridcolor\":\"white\",\"startlinecolor\":\"#2a3f5f\"},\"baxis\":{\"endlinecolor\":\"#2a3f5f\",\"gridcolor\":\"white\",\"linecolor\":\"white\",\"minorgridcolor\":\"white\",\"startlinecolor\":\"#2a3f5f\"},\"type\":\"carpet\"}],\"table\":[{\"cells\":{\"fill\":{\"color\":\"#EBF0F8\"},\"line\":{\"color\":\"white\"}},\"header\":{\"fill\":{\"color\":\"#C8D4E3\"},\"line\":{\"color\":\"white\"}},\"type\":\"table\"}],\"barpolar\":[{\"marker\":{\"line\":{\"color\":\"#E5ECF6\",\"width\":0.5},\"pattern\":{\"fillmode\":\"overlay\",\"size\":10,\"solidity\":0.2}},\"type\":\"barpolar\"}],\"pie\":[{\"automargin\":true,\"type\":\"pie\"}]},\"layout\":{\"autotypenumbers\":\"strict\",\"colorway\":[\"#636efa\",\"#EF553B\",\"#00cc96\",\"#ab63fa\",\"#FFA15A\",\"#19d3f3\",\"#FF6692\",\"#B6E880\",\"#FF97FF\",\"#FECB52\"],\"font\":{\"color\":\"#2a3f5f\"},\"hovermode\":\"closest\",\"hoverlabel\":{\"align\":\"left\"},\"paper_bgcolor\":\"white\",\"plot_bgcolor\":\"#E5ECF6\",\"polar\":{\"bgcolor\":\"#E5ECF6\",\"angularaxis\":{\"gridcolor\":\"white\",\"linecolor\":\"white\",\"ticks\":\"\"},\"radialaxis\":{\"gridcolor\":\"white\",\"linecolor\":\"white\",\"ticks\":\"\"}},\"ternary\":{\"bgcolor\":\"#E5ECF6\",\"aaxis\":{\"gridcolor\":\"white\",\"linecolor\":\"white\",\"ticks\":\"\"},\"baxis\":{\"gridcolor\":\"white\",\"linecolor\":\"white\",\"ticks\":\"\"},\"caxis\":{\"gridcolor\":\"white\",\"linecolor\":\"white\",\"ticks\":\"\"}},\"coloraxis\":{\"colorbar\":{\"outlinewidth\":0,\"ticks\":\"\"}},\"colorscale\":{\"sequential\":[[0.0,\"#0d0887\"],[0.1111111111111111,\"#46039f\"],[0.2222222222222222,\"#7201a8\"],[0.3333333333333333,\"#9c179e\"],[0.4444444444444444,\"#bd3786\"],[0.5555555555555556,\"#d8576b\"],[0.6666666666666666,\"#ed7953\"],[0.7777777777777778,\"#fb9f3a\"],[0.8888888888888888,\"#fdca26\"],[1.0,\"#f0f921\"]],\"sequentialminus\":[[0.0,\"#0d0887\"],[0.1111111111111111,\"#46039f\"],[0.2222222222222222,\"#7201a8\"],[0.3333333333333333,\"#9c179e\"],[0.4444444444444444,\"#bd3786\"],[0.5555555555555556,\"#d8576b\"],[0.6666666666666666,\"#ed7953\"],[0.7777777777777778,\"#fb9f3a\"],[0.8888888888888888,\"#fdca26\"],[1.0,\"#f0f921\"]],\"diverging\":[[0,\"#8e0152\"],[0.1,\"#c51b7d\"],[0.2,\"#de77ae\"],[0.3,\"#f1b6da\"],[0.4,\"#fde0ef\"],[0.5,\"#f7f7f7\"],[0.6,\"#e6f5d0\"],[0.7,\"#b8e186\"],[0.8,\"#7fbc41\"],[0.9,\"#4d9221\"],[1,\"#276419\"]]},\"xaxis\":{\"gridcolor\":\"white\",\"linecolor\":\"white\",\"ticks\":\"\",\"title\":{\"standoff\":15},\"zerolinecolor\":\"white\",\"automargin\":true,\"zerolinewidth\":2},\"yaxis\":{\"gridcolor\":\"white\",\"linecolor\":\"white\",\"ticks\":\"\",\"title\":{\"standoff\":15},\"zerolinecolor\":\"white\",\"automargin\":true,\"zerolinewidth\":2},\"scene\":{\"xaxis\":{\"backgroundcolor\":\"#E5ECF6\",\"gridcolor\":\"white\",\"linecolor\":\"white\",\"showbackground\":true,\"ticks\":\"\",\"zerolinecolor\":\"white\",\"gridwidth\":2},\"yaxis\":{\"backgroundcolor\":\"#E5ECF6\",\"gridcolor\":\"white\",\"linecolor\":\"white\",\"showbackground\":true,\"ticks\":\"\",\"zerolinecolor\":\"white\",\"gridwidth\":2},\"zaxis\":{\"backgroundcolor\":\"#E5ECF6\",\"gridcolor\":\"white\",\"linecolor\":\"white\",\"showbackground\":true,\"ticks\":\"\",\"zerolinecolor\":\"white\",\"gridwidth\":2}},\"shapedefaults\":{\"line\":{\"color\":\"#2a3f5f\"}},\"annotationdefaults\":{\"arrowcolor\":\"#2a3f5f\",\"arrowhead\":0,\"arrowwidth\":1},\"geo\":{\"bgcolor\":\"white\",\"landcolor\":\"#E5ECF6\",\"subunitcolor\":\"white\",\"showland\":true,\"showlakes\":true,\"lakecolor\":\"white\"},\"title\":{\"x\":0.05},\"mapbox\":{\"style\":\"light\"}}},\"xaxis\":{\"anchor\":\"y\",\"domain\":[0.0,1.0],\"title\":{\"text\":\"cluster\"}},\"yaxis\":{\"anchor\":\"x\",\"domain\":[0.0,1.0],\"title\":{\"text\":\"percent\"}},\"legend\":{\"tracegroupgap\":0},\"title\":{\"text\":\"Distribution of cluster in pass 1 using GMM in shawnee_location_2\"},\"barmode\":\"relative\",\"height\":300,\"width\":800},                        {\"responsive\": true}                    ).then(function(){\n",
       "                            \n",
       "var gd = document.getElementById('4d83a3f8-5a49-421e-9c5b-84732dd3ff58');\n",
       "var x = new MutationObserver(function (mutations, observer) {{\n",
       "        var display = window.getComputedStyle(gd).display;\n",
       "        if (!display || display === 'none') {{\n",
       "            console.log([gd, 'removed!']);\n",
       "            Plotly.purge(gd);\n",
       "            observer.disconnect();\n",
       "        }}\n",
       "}});\n",
       "\n",
       "// Listen for the removal of the full notebook cells\n",
       "var notebookContainer = gd.closest('#notebook-container');\n",
       "if (notebookContainer) {{\n",
       "    x.observe(notebookContainer, {childList: true});\n",
       "}}\n",
       "\n",
       "// Listen for the clearing of the current output cell\n",
       "var outputEl = gd.closest('.output');\n",
       "if (outputEl) {{\n",
       "    x.observe(outputEl, {childList: true});\n",
       "}}\n",
       "\n",
       "                        })                };                });            </script>        </div>"
      ]
     },
     "metadata": {},
     "output_type": "display_data"
    },
    {
     "data": {
      "application/vnd.plotly.v1+json": {
       "config": {
        "plotlyServerURL": "https://plot.ly"
       },
       "data": [
        {
         "alignmentgroup": "True",
         "bingroup": "x",
         "histnorm": "percent",
         "hovertemplate": "cluster=%{x}<br>percent=%{y}<extra></extra>",
         "legendgroup": "",
         "marker": {
          "color": "#636efa",
          "pattern": {
           "shape": ""
          }
         },
         "name": "",
         "nbinsx": 30,
         "offsetgroup": "",
         "orientation": "v",
         "showlegend": false,
         "type": "histogram",
         "x": [
          3,
          1,
          2,
          1,
          1,
          1,
          0,
          0,
          4,
          3,
          2,
          2,
          4,
          0,
          0,
          3,
          0,
          2,
          0,
          2,
          0,
          0,
          4,
          0,
          2,
          3,
          3,
          0,
          0,
          0,
          0,
          0,
          0,
          3,
          2,
          2,
          4,
          4,
          0,
          0,
          3,
          0,
          3,
          2,
          2,
          0,
          0,
          0,
          4,
          3,
          3,
          2,
          0,
          0,
          4,
          0,
          0,
          2,
          2,
          2,
          2,
          4,
          0,
          0,
          0,
          3,
          3,
          2,
          2,
          4,
          4,
          1,
          1,
          0,
          3,
          2,
          2,
          2,
          0,
          0,
          1,
          0,
          1,
          2,
          3,
          4,
          4,
          1,
          1,
          4,
          3,
          2,
          2,
          2,
          4,
          1,
          1,
          1,
          3,
          3,
          3,
          0,
          4,
          0,
          1,
          1,
          1,
          2,
          2,
          2,
          4,
          0,
          1,
          1,
          3,
          3,
          4,
          0,
          0,
          4,
          1,
          1,
          0,
          4,
          0,
          2,
          0,
          0,
          0,
          0,
          3,
          3,
          2,
          0,
          4,
          3,
          1,
          4,
          3,
          1,
          1,
          3,
          3,
          1,
          1,
          1,
          1,
          2,
          3,
          0,
          4,
          0,
          4,
          0,
          2,
          4,
          2,
          2,
          2,
          0,
          0,
          0,
          4,
          3,
          3,
          2,
          0,
          3,
          0,
          4,
          4,
          0,
          2,
          3,
          2,
          2,
          4,
          4,
          4,
          0,
          2,
          2,
          2,
          4,
          4,
          4
         ],
         "xaxis": "x",
         "yaxis": "y"
        }
       ],
       "layout": {
        "barmode": "relative",
        "height": 300,
        "legend": {
         "tracegroupgap": 0
        },
        "template": {
         "data": {
          "bar": [
           {
            "error_x": {
             "color": "#2a3f5f"
            },
            "error_y": {
             "color": "#2a3f5f"
            },
            "marker": {
             "line": {
              "color": "#E5ECF6",
              "width": 0.5
             },
             "pattern": {
              "fillmode": "overlay",
              "size": 10,
              "solidity": 0.2
             }
            },
            "type": "bar"
           }
          ],
          "barpolar": [
           {
            "marker": {
             "line": {
              "color": "#E5ECF6",
              "width": 0.5
             },
             "pattern": {
              "fillmode": "overlay",
              "size": 10,
              "solidity": 0.2
             }
            },
            "type": "barpolar"
           }
          ],
          "carpet": [
           {
            "aaxis": {
             "endlinecolor": "#2a3f5f",
             "gridcolor": "white",
             "linecolor": "white",
             "minorgridcolor": "white",
             "startlinecolor": "#2a3f5f"
            },
            "baxis": {
             "endlinecolor": "#2a3f5f",
             "gridcolor": "white",
             "linecolor": "white",
             "minorgridcolor": "white",
             "startlinecolor": "#2a3f5f"
            },
            "type": "carpet"
           }
          ],
          "choropleth": [
           {
            "colorbar": {
             "outlinewidth": 0,
             "ticks": ""
            },
            "type": "choropleth"
           }
          ],
          "contour": [
           {
            "colorbar": {
             "outlinewidth": 0,
             "ticks": ""
            },
            "colorscale": [
             [
              0,
              "#0d0887"
             ],
             [
              0.1111111111111111,
              "#46039f"
             ],
             [
              0.2222222222222222,
              "#7201a8"
             ],
             [
              0.3333333333333333,
              "#9c179e"
             ],
             [
              0.4444444444444444,
              "#bd3786"
             ],
             [
              0.5555555555555556,
              "#d8576b"
             ],
             [
              0.6666666666666666,
              "#ed7953"
             ],
             [
              0.7777777777777778,
              "#fb9f3a"
             ],
             [
              0.8888888888888888,
              "#fdca26"
             ],
             [
              1,
              "#f0f921"
             ]
            ],
            "type": "contour"
           }
          ],
          "contourcarpet": [
           {
            "colorbar": {
             "outlinewidth": 0,
             "ticks": ""
            },
            "type": "contourcarpet"
           }
          ],
          "heatmap": [
           {
            "colorbar": {
             "outlinewidth": 0,
             "ticks": ""
            },
            "colorscale": [
             [
              0,
              "#0d0887"
             ],
             [
              0.1111111111111111,
              "#46039f"
             ],
             [
              0.2222222222222222,
              "#7201a8"
             ],
             [
              0.3333333333333333,
              "#9c179e"
             ],
             [
              0.4444444444444444,
              "#bd3786"
             ],
             [
              0.5555555555555556,
              "#d8576b"
             ],
             [
              0.6666666666666666,
              "#ed7953"
             ],
             [
              0.7777777777777778,
              "#fb9f3a"
             ],
             [
              0.8888888888888888,
              "#fdca26"
             ],
             [
              1,
              "#f0f921"
             ]
            ],
            "type": "heatmap"
           }
          ],
          "heatmapgl": [
           {
            "colorbar": {
             "outlinewidth": 0,
             "ticks": ""
            },
            "colorscale": [
             [
              0,
              "#0d0887"
             ],
             [
              0.1111111111111111,
              "#46039f"
             ],
             [
              0.2222222222222222,
              "#7201a8"
             ],
             [
              0.3333333333333333,
              "#9c179e"
             ],
             [
              0.4444444444444444,
              "#bd3786"
             ],
             [
              0.5555555555555556,
              "#d8576b"
             ],
             [
              0.6666666666666666,
              "#ed7953"
             ],
             [
              0.7777777777777778,
              "#fb9f3a"
             ],
             [
              0.8888888888888888,
              "#fdca26"
             ],
             [
              1,
              "#f0f921"
             ]
            ],
            "type": "heatmapgl"
           }
          ],
          "histogram": [
           {
            "marker": {
             "pattern": {
              "fillmode": "overlay",
              "size": 10,
              "solidity": 0.2
             }
            },
            "type": "histogram"
           }
          ],
          "histogram2d": [
           {
            "colorbar": {
             "outlinewidth": 0,
             "ticks": ""
            },
            "colorscale": [
             [
              0,
              "#0d0887"
             ],
             [
              0.1111111111111111,
              "#46039f"
             ],
             [
              0.2222222222222222,
              "#7201a8"
             ],
             [
              0.3333333333333333,
              "#9c179e"
             ],
             [
              0.4444444444444444,
              "#bd3786"
             ],
             [
              0.5555555555555556,
              "#d8576b"
             ],
             [
              0.6666666666666666,
              "#ed7953"
             ],
             [
              0.7777777777777778,
              "#fb9f3a"
             ],
             [
              0.8888888888888888,
              "#fdca26"
             ],
             [
              1,
              "#f0f921"
             ]
            ],
            "type": "histogram2d"
           }
          ],
          "histogram2dcontour": [
           {
            "colorbar": {
             "outlinewidth": 0,
             "ticks": ""
            },
            "colorscale": [
             [
              0,
              "#0d0887"
             ],
             [
              0.1111111111111111,
              "#46039f"
             ],
             [
              0.2222222222222222,
              "#7201a8"
             ],
             [
              0.3333333333333333,
              "#9c179e"
             ],
             [
              0.4444444444444444,
              "#bd3786"
             ],
             [
              0.5555555555555556,
              "#d8576b"
             ],
             [
              0.6666666666666666,
              "#ed7953"
             ],
             [
              0.7777777777777778,
              "#fb9f3a"
             ],
             [
              0.8888888888888888,
              "#fdca26"
             ],
             [
              1,
              "#f0f921"
             ]
            ],
            "type": "histogram2dcontour"
           }
          ],
          "mesh3d": [
           {
            "colorbar": {
             "outlinewidth": 0,
             "ticks": ""
            },
            "type": "mesh3d"
           }
          ],
          "parcoords": [
           {
            "line": {
             "colorbar": {
              "outlinewidth": 0,
              "ticks": ""
             }
            },
            "type": "parcoords"
           }
          ],
          "pie": [
           {
            "automargin": true,
            "type": "pie"
           }
          ],
          "scatter": [
           {
            "fillpattern": {
             "fillmode": "overlay",
             "size": 10,
             "solidity": 0.2
            },
            "type": "scatter"
           }
          ],
          "scatter3d": [
           {
            "line": {
             "colorbar": {
              "outlinewidth": 0,
              "ticks": ""
             }
            },
            "marker": {
             "colorbar": {
              "outlinewidth": 0,
              "ticks": ""
             }
            },
            "type": "scatter3d"
           }
          ],
          "scattercarpet": [
           {
            "marker": {
             "colorbar": {
              "outlinewidth": 0,
              "ticks": ""
             }
            },
            "type": "scattercarpet"
           }
          ],
          "scattergeo": [
           {
            "marker": {
             "colorbar": {
              "outlinewidth": 0,
              "ticks": ""
             }
            },
            "type": "scattergeo"
           }
          ],
          "scattergl": [
           {
            "marker": {
             "colorbar": {
              "outlinewidth": 0,
              "ticks": ""
             }
            },
            "type": "scattergl"
           }
          ],
          "scattermapbox": [
           {
            "marker": {
             "colorbar": {
              "outlinewidth": 0,
              "ticks": ""
             }
            },
            "type": "scattermapbox"
           }
          ],
          "scatterpolar": [
           {
            "marker": {
             "colorbar": {
              "outlinewidth": 0,
              "ticks": ""
             }
            },
            "type": "scatterpolar"
           }
          ],
          "scatterpolargl": [
           {
            "marker": {
             "colorbar": {
              "outlinewidth": 0,
              "ticks": ""
             }
            },
            "type": "scatterpolargl"
           }
          ],
          "scatterternary": [
           {
            "marker": {
             "colorbar": {
              "outlinewidth": 0,
              "ticks": ""
             }
            },
            "type": "scatterternary"
           }
          ],
          "surface": [
           {
            "colorbar": {
             "outlinewidth": 0,
             "ticks": ""
            },
            "colorscale": [
             [
              0,
              "#0d0887"
             ],
             [
              0.1111111111111111,
              "#46039f"
             ],
             [
              0.2222222222222222,
              "#7201a8"
             ],
             [
              0.3333333333333333,
              "#9c179e"
             ],
             [
              0.4444444444444444,
              "#bd3786"
             ],
             [
              0.5555555555555556,
              "#d8576b"
             ],
             [
              0.6666666666666666,
              "#ed7953"
             ],
             [
              0.7777777777777778,
              "#fb9f3a"
             ],
             [
              0.8888888888888888,
              "#fdca26"
             ],
             [
              1,
              "#f0f921"
             ]
            ],
            "type": "surface"
           }
          ],
          "table": [
           {
            "cells": {
             "fill": {
              "color": "#EBF0F8"
             },
             "line": {
              "color": "white"
             }
            },
            "header": {
             "fill": {
              "color": "#C8D4E3"
             },
             "line": {
              "color": "white"
             }
            },
            "type": "table"
           }
          ]
         },
         "layout": {
          "annotationdefaults": {
           "arrowcolor": "#2a3f5f",
           "arrowhead": 0,
           "arrowwidth": 1
          },
          "autotypenumbers": "strict",
          "coloraxis": {
           "colorbar": {
            "outlinewidth": 0,
            "ticks": ""
           }
          },
          "colorscale": {
           "diverging": [
            [
             0,
             "#8e0152"
            ],
            [
             0.1,
             "#c51b7d"
            ],
            [
             0.2,
             "#de77ae"
            ],
            [
             0.3,
             "#f1b6da"
            ],
            [
             0.4,
             "#fde0ef"
            ],
            [
             0.5,
             "#f7f7f7"
            ],
            [
             0.6,
             "#e6f5d0"
            ],
            [
             0.7,
             "#b8e186"
            ],
            [
             0.8,
             "#7fbc41"
            ],
            [
             0.9,
             "#4d9221"
            ],
            [
             1,
             "#276419"
            ]
           ],
           "sequential": [
            [
             0,
             "#0d0887"
            ],
            [
             0.1111111111111111,
             "#46039f"
            ],
            [
             0.2222222222222222,
             "#7201a8"
            ],
            [
             0.3333333333333333,
             "#9c179e"
            ],
            [
             0.4444444444444444,
             "#bd3786"
            ],
            [
             0.5555555555555556,
             "#d8576b"
            ],
            [
             0.6666666666666666,
             "#ed7953"
            ],
            [
             0.7777777777777778,
             "#fb9f3a"
            ],
            [
             0.8888888888888888,
             "#fdca26"
            ],
            [
             1,
             "#f0f921"
            ]
           ],
           "sequentialminus": [
            [
             0,
             "#0d0887"
            ],
            [
             0.1111111111111111,
             "#46039f"
            ],
            [
             0.2222222222222222,
             "#7201a8"
            ],
            [
             0.3333333333333333,
             "#9c179e"
            ],
            [
             0.4444444444444444,
             "#bd3786"
            ],
            [
             0.5555555555555556,
             "#d8576b"
            ],
            [
             0.6666666666666666,
             "#ed7953"
            ],
            [
             0.7777777777777778,
             "#fb9f3a"
            ],
            [
             0.8888888888888888,
             "#fdca26"
            ],
            [
             1,
             "#f0f921"
            ]
           ]
          },
          "colorway": [
           "#636efa",
           "#EF553B",
           "#00cc96",
           "#ab63fa",
           "#FFA15A",
           "#19d3f3",
           "#FF6692",
           "#B6E880",
           "#FF97FF",
           "#FECB52"
          ],
          "font": {
           "color": "#2a3f5f"
          },
          "geo": {
           "bgcolor": "white",
           "lakecolor": "white",
           "landcolor": "#E5ECF6",
           "showlakes": true,
           "showland": true,
           "subunitcolor": "white"
          },
          "hoverlabel": {
           "align": "left"
          },
          "hovermode": "closest",
          "mapbox": {
           "style": "light"
          },
          "paper_bgcolor": "white",
          "plot_bgcolor": "#E5ECF6",
          "polar": {
           "angularaxis": {
            "gridcolor": "white",
            "linecolor": "white",
            "ticks": ""
           },
           "bgcolor": "#E5ECF6",
           "radialaxis": {
            "gridcolor": "white",
            "linecolor": "white",
            "ticks": ""
           }
          },
          "scene": {
           "xaxis": {
            "backgroundcolor": "#E5ECF6",
            "gridcolor": "white",
            "gridwidth": 2,
            "linecolor": "white",
            "showbackground": true,
            "ticks": "",
            "zerolinecolor": "white"
           },
           "yaxis": {
            "backgroundcolor": "#E5ECF6",
            "gridcolor": "white",
            "gridwidth": 2,
            "linecolor": "white",
            "showbackground": true,
            "ticks": "",
            "zerolinecolor": "white"
           },
           "zaxis": {
            "backgroundcolor": "#E5ECF6",
            "gridcolor": "white",
            "gridwidth": 2,
            "linecolor": "white",
            "showbackground": true,
            "ticks": "",
            "zerolinecolor": "white"
           }
          },
          "shapedefaults": {
           "line": {
            "color": "#2a3f5f"
           }
          },
          "ternary": {
           "aaxis": {
            "gridcolor": "white",
            "linecolor": "white",
            "ticks": ""
           },
           "baxis": {
            "gridcolor": "white",
            "linecolor": "white",
            "ticks": ""
           },
           "bgcolor": "#E5ECF6",
           "caxis": {
            "gridcolor": "white",
            "linecolor": "white",
            "ticks": ""
           }
          },
          "title": {
           "x": 0.05
          },
          "xaxis": {
           "automargin": true,
           "gridcolor": "white",
           "linecolor": "white",
           "ticks": "",
           "title": {
            "standoff": 15
           },
           "zerolinecolor": "white",
           "zerolinewidth": 2
          },
          "yaxis": {
           "automargin": true,
           "gridcolor": "white",
           "linecolor": "white",
           "ticks": "",
           "title": {
            "standoff": 15
           },
           "zerolinecolor": "white",
           "zerolinewidth": 2
          }
         }
        },
        "title": {
         "text": "Distribution of cluster in pass 2 using GMM in shawnee_location_2"
        },
        "width": 800,
        "xaxis": {
         "anchor": "y",
         "domain": [
          0,
          1
         ],
         "title": {
          "text": "cluster"
         }
        },
        "yaxis": {
         "anchor": "x",
         "domain": [
          0,
          1
         ],
         "title": {
          "text": "percent"
         }
        }
       }
      },
      "text/html": [
       "<div>                            <div id=\"5367b6d0-7e00-4258-97f0-064963172189\" class=\"plotly-graph-div\" style=\"height:300px; width:800px;\"></div>            <script type=\"text/javascript\">                require([\"plotly\"], function(Plotly) {                    window.PLOTLYENV=window.PLOTLYENV || {};                                    if (document.getElementById(\"5367b6d0-7e00-4258-97f0-064963172189\")) {                    Plotly.newPlot(                        \"5367b6d0-7e00-4258-97f0-064963172189\",                        [{\"alignmentgroup\":\"True\",\"bingroup\":\"x\",\"histnorm\":\"percent\",\"hovertemplate\":\"cluster=%{x}<br>percent=%{y}<extra></extra>\",\"legendgroup\":\"\",\"marker\":{\"color\":\"#636efa\",\"pattern\":{\"shape\":\"\"}},\"name\":\"\",\"nbinsx\":30,\"offsetgroup\":\"\",\"orientation\":\"v\",\"showlegend\":false,\"x\":[3,1,2,1,1,1,0,0,4,3,2,2,4,0,0,3,0,2,0,2,0,0,4,0,2,3,3,0,0,0,0,0,0,3,2,2,4,4,0,0,3,0,3,2,2,0,0,0,4,3,3,2,0,0,4,0,0,2,2,2,2,4,0,0,0,3,3,2,2,4,4,1,1,0,3,2,2,2,0,0,1,0,1,2,3,4,4,1,1,4,3,2,2,2,4,1,1,1,3,3,3,0,4,0,1,1,1,2,2,2,4,0,1,1,3,3,4,0,0,4,1,1,0,4,0,2,0,0,0,0,3,3,2,0,4,3,1,4,3,1,1,3,3,1,1,1,1,2,3,0,4,0,4,0,2,4,2,2,2,0,0,0,4,3,3,2,0,3,0,4,4,0,2,3,2,2,4,4,4,0,2,2,2,4,4,4],\"xaxis\":\"x\",\"yaxis\":\"y\",\"type\":\"histogram\"}],                        {\"template\":{\"data\":{\"histogram2dcontour\":[{\"type\":\"histogram2dcontour\",\"colorbar\":{\"outlinewidth\":0,\"ticks\":\"\"},\"colorscale\":[[0.0,\"#0d0887\"],[0.1111111111111111,\"#46039f\"],[0.2222222222222222,\"#7201a8\"],[0.3333333333333333,\"#9c179e\"],[0.4444444444444444,\"#bd3786\"],[0.5555555555555556,\"#d8576b\"],[0.6666666666666666,\"#ed7953\"],[0.7777777777777778,\"#fb9f3a\"],[0.8888888888888888,\"#fdca26\"],[1.0,\"#f0f921\"]]}],\"choropleth\":[{\"type\":\"choropleth\",\"colorbar\":{\"outlinewidth\":0,\"ticks\":\"\"}}],\"histogram2d\":[{\"type\":\"histogram2d\",\"colorbar\":{\"outlinewidth\":0,\"ticks\":\"\"},\"colorscale\":[[0.0,\"#0d0887\"],[0.1111111111111111,\"#46039f\"],[0.2222222222222222,\"#7201a8\"],[0.3333333333333333,\"#9c179e\"],[0.4444444444444444,\"#bd3786\"],[0.5555555555555556,\"#d8576b\"],[0.6666666666666666,\"#ed7953\"],[0.7777777777777778,\"#fb9f3a\"],[0.8888888888888888,\"#fdca26\"],[1.0,\"#f0f921\"]]}],\"heatmap\":[{\"type\":\"heatmap\",\"colorbar\":{\"outlinewidth\":0,\"ticks\":\"\"},\"colorscale\":[[0.0,\"#0d0887\"],[0.1111111111111111,\"#46039f\"],[0.2222222222222222,\"#7201a8\"],[0.3333333333333333,\"#9c179e\"],[0.4444444444444444,\"#bd3786\"],[0.5555555555555556,\"#d8576b\"],[0.6666666666666666,\"#ed7953\"],[0.7777777777777778,\"#fb9f3a\"],[0.8888888888888888,\"#fdca26\"],[1.0,\"#f0f921\"]]}],\"heatmapgl\":[{\"type\":\"heatmapgl\",\"colorbar\":{\"outlinewidth\":0,\"ticks\":\"\"},\"colorscale\":[[0.0,\"#0d0887\"],[0.1111111111111111,\"#46039f\"],[0.2222222222222222,\"#7201a8\"],[0.3333333333333333,\"#9c179e\"],[0.4444444444444444,\"#bd3786\"],[0.5555555555555556,\"#d8576b\"],[0.6666666666666666,\"#ed7953\"],[0.7777777777777778,\"#fb9f3a\"],[0.8888888888888888,\"#fdca26\"],[1.0,\"#f0f921\"]]}],\"contourcarpet\":[{\"type\":\"contourcarpet\",\"colorbar\":{\"outlinewidth\":0,\"ticks\":\"\"}}],\"contour\":[{\"type\":\"contour\",\"colorbar\":{\"outlinewidth\":0,\"ticks\":\"\"},\"colorscale\":[[0.0,\"#0d0887\"],[0.1111111111111111,\"#46039f\"],[0.2222222222222222,\"#7201a8\"],[0.3333333333333333,\"#9c179e\"],[0.4444444444444444,\"#bd3786\"],[0.5555555555555556,\"#d8576b\"],[0.6666666666666666,\"#ed7953\"],[0.7777777777777778,\"#fb9f3a\"],[0.8888888888888888,\"#fdca26\"],[1.0,\"#f0f921\"]]}],\"surface\":[{\"type\":\"surface\",\"colorbar\":{\"outlinewidth\":0,\"ticks\":\"\"},\"colorscale\":[[0.0,\"#0d0887\"],[0.1111111111111111,\"#46039f\"],[0.2222222222222222,\"#7201a8\"],[0.3333333333333333,\"#9c179e\"],[0.4444444444444444,\"#bd3786\"],[0.5555555555555556,\"#d8576b\"],[0.6666666666666666,\"#ed7953\"],[0.7777777777777778,\"#fb9f3a\"],[0.8888888888888888,\"#fdca26\"],[1.0,\"#f0f921\"]]}],\"mesh3d\":[{\"type\":\"mesh3d\",\"colorbar\":{\"outlinewidth\":0,\"ticks\":\"\"}}],\"scatter\":[{\"fillpattern\":{\"fillmode\":\"overlay\",\"size\":10,\"solidity\":0.2},\"type\":\"scatter\"}],\"parcoords\":[{\"type\":\"parcoords\",\"line\":{\"colorbar\":{\"outlinewidth\":0,\"ticks\":\"\"}}}],\"scatterpolargl\":[{\"type\":\"scatterpolargl\",\"marker\":{\"colorbar\":{\"outlinewidth\":0,\"ticks\":\"\"}}}],\"bar\":[{\"error_x\":{\"color\":\"#2a3f5f\"},\"error_y\":{\"color\":\"#2a3f5f\"},\"marker\":{\"line\":{\"color\":\"#E5ECF6\",\"width\":0.5},\"pattern\":{\"fillmode\":\"overlay\",\"size\":10,\"solidity\":0.2}},\"type\":\"bar\"}],\"scattergeo\":[{\"type\":\"scattergeo\",\"marker\":{\"colorbar\":{\"outlinewidth\":0,\"ticks\":\"\"}}}],\"scatterpolar\":[{\"type\":\"scatterpolar\",\"marker\":{\"colorbar\":{\"outlinewidth\":0,\"ticks\":\"\"}}}],\"histogram\":[{\"marker\":{\"pattern\":{\"fillmode\":\"overlay\",\"size\":10,\"solidity\":0.2}},\"type\":\"histogram\"}],\"scattergl\":[{\"type\":\"scattergl\",\"marker\":{\"colorbar\":{\"outlinewidth\":0,\"ticks\":\"\"}}}],\"scatter3d\":[{\"type\":\"scatter3d\",\"line\":{\"colorbar\":{\"outlinewidth\":0,\"ticks\":\"\"}},\"marker\":{\"colorbar\":{\"outlinewidth\":0,\"ticks\":\"\"}}}],\"scattermapbox\":[{\"type\":\"scattermapbox\",\"marker\":{\"colorbar\":{\"outlinewidth\":0,\"ticks\":\"\"}}}],\"scatterternary\":[{\"type\":\"scatterternary\",\"marker\":{\"colorbar\":{\"outlinewidth\":0,\"ticks\":\"\"}}}],\"scattercarpet\":[{\"type\":\"scattercarpet\",\"marker\":{\"colorbar\":{\"outlinewidth\":0,\"ticks\":\"\"}}}],\"carpet\":[{\"aaxis\":{\"endlinecolor\":\"#2a3f5f\",\"gridcolor\":\"white\",\"linecolor\":\"white\",\"minorgridcolor\":\"white\",\"startlinecolor\":\"#2a3f5f\"},\"baxis\":{\"endlinecolor\":\"#2a3f5f\",\"gridcolor\":\"white\",\"linecolor\":\"white\",\"minorgridcolor\":\"white\",\"startlinecolor\":\"#2a3f5f\"},\"type\":\"carpet\"}],\"table\":[{\"cells\":{\"fill\":{\"color\":\"#EBF0F8\"},\"line\":{\"color\":\"white\"}},\"header\":{\"fill\":{\"color\":\"#C8D4E3\"},\"line\":{\"color\":\"white\"}},\"type\":\"table\"}],\"barpolar\":[{\"marker\":{\"line\":{\"color\":\"#E5ECF6\",\"width\":0.5},\"pattern\":{\"fillmode\":\"overlay\",\"size\":10,\"solidity\":0.2}},\"type\":\"barpolar\"}],\"pie\":[{\"automargin\":true,\"type\":\"pie\"}]},\"layout\":{\"autotypenumbers\":\"strict\",\"colorway\":[\"#636efa\",\"#EF553B\",\"#00cc96\",\"#ab63fa\",\"#FFA15A\",\"#19d3f3\",\"#FF6692\",\"#B6E880\",\"#FF97FF\",\"#FECB52\"],\"font\":{\"color\":\"#2a3f5f\"},\"hovermode\":\"closest\",\"hoverlabel\":{\"align\":\"left\"},\"paper_bgcolor\":\"white\",\"plot_bgcolor\":\"#E5ECF6\",\"polar\":{\"bgcolor\":\"#E5ECF6\",\"angularaxis\":{\"gridcolor\":\"white\",\"linecolor\":\"white\",\"ticks\":\"\"},\"radialaxis\":{\"gridcolor\":\"white\",\"linecolor\":\"white\",\"ticks\":\"\"}},\"ternary\":{\"bgcolor\":\"#E5ECF6\",\"aaxis\":{\"gridcolor\":\"white\",\"linecolor\":\"white\",\"ticks\":\"\"},\"baxis\":{\"gridcolor\":\"white\",\"linecolor\":\"white\",\"ticks\":\"\"},\"caxis\":{\"gridcolor\":\"white\",\"linecolor\":\"white\",\"ticks\":\"\"}},\"coloraxis\":{\"colorbar\":{\"outlinewidth\":0,\"ticks\":\"\"}},\"colorscale\":{\"sequential\":[[0.0,\"#0d0887\"],[0.1111111111111111,\"#46039f\"],[0.2222222222222222,\"#7201a8\"],[0.3333333333333333,\"#9c179e\"],[0.4444444444444444,\"#bd3786\"],[0.5555555555555556,\"#d8576b\"],[0.6666666666666666,\"#ed7953\"],[0.7777777777777778,\"#fb9f3a\"],[0.8888888888888888,\"#fdca26\"],[1.0,\"#f0f921\"]],\"sequentialminus\":[[0.0,\"#0d0887\"],[0.1111111111111111,\"#46039f\"],[0.2222222222222222,\"#7201a8\"],[0.3333333333333333,\"#9c179e\"],[0.4444444444444444,\"#bd3786\"],[0.5555555555555556,\"#d8576b\"],[0.6666666666666666,\"#ed7953\"],[0.7777777777777778,\"#fb9f3a\"],[0.8888888888888888,\"#fdca26\"],[1.0,\"#f0f921\"]],\"diverging\":[[0,\"#8e0152\"],[0.1,\"#c51b7d\"],[0.2,\"#de77ae\"],[0.3,\"#f1b6da\"],[0.4,\"#fde0ef\"],[0.5,\"#f7f7f7\"],[0.6,\"#e6f5d0\"],[0.7,\"#b8e186\"],[0.8,\"#7fbc41\"],[0.9,\"#4d9221\"],[1,\"#276419\"]]},\"xaxis\":{\"gridcolor\":\"white\",\"linecolor\":\"white\",\"ticks\":\"\",\"title\":{\"standoff\":15},\"zerolinecolor\":\"white\",\"automargin\":true,\"zerolinewidth\":2},\"yaxis\":{\"gridcolor\":\"white\",\"linecolor\":\"white\",\"ticks\":\"\",\"title\":{\"standoff\":15},\"zerolinecolor\":\"white\",\"automargin\":true,\"zerolinewidth\":2},\"scene\":{\"xaxis\":{\"backgroundcolor\":\"#E5ECF6\",\"gridcolor\":\"white\",\"linecolor\":\"white\",\"showbackground\":true,\"ticks\":\"\",\"zerolinecolor\":\"white\",\"gridwidth\":2},\"yaxis\":{\"backgroundcolor\":\"#E5ECF6\",\"gridcolor\":\"white\",\"linecolor\":\"white\",\"showbackground\":true,\"ticks\":\"\",\"zerolinecolor\":\"white\",\"gridwidth\":2},\"zaxis\":{\"backgroundcolor\":\"#E5ECF6\",\"gridcolor\":\"white\",\"linecolor\":\"white\",\"showbackground\":true,\"ticks\":\"\",\"zerolinecolor\":\"white\",\"gridwidth\":2}},\"shapedefaults\":{\"line\":{\"color\":\"#2a3f5f\"}},\"annotationdefaults\":{\"arrowcolor\":\"#2a3f5f\",\"arrowhead\":0,\"arrowwidth\":1},\"geo\":{\"bgcolor\":\"white\",\"landcolor\":\"#E5ECF6\",\"subunitcolor\":\"white\",\"showland\":true,\"showlakes\":true,\"lakecolor\":\"white\"},\"title\":{\"x\":0.05},\"mapbox\":{\"style\":\"light\"}}},\"xaxis\":{\"anchor\":\"y\",\"domain\":[0.0,1.0],\"title\":{\"text\":\"cluster\"}},\"yaxis\":{\"anchor\":\"x\",\"domain\":[0.0,1.0],\"title\":{\"text\":\"percent\"}},\"legend\":{\"tracegroupgap\":0},\"title\":{\"text\":\"Distribution of cluster in pass 2 using GMM in shawnee_location_2\"},\"barmode\":\"relative\",\"height\":300,\"width\":800},                        {\"responsive\": true}                    ).then(function(){\n",
       "                            \n",
       "var gd = document.getElementById('5367b6d0-7e00-4258-97f0-064963172189');\n",
       "var x = new MutationObserver(function (mutations, observer) {{\n",
       "        var display = window.getComputedStyle(gd).display;\n",
       "        if (!display || display === 'none') {{\n",
       "            console.log([gd, 'removed!']);\n",
       "            Plotly.purge(gd);\n",
       "            observer.disconnect();\n",
       "        }}\n",
       "}});\n",
       "\n",
       "// Listen for the removal of the full notebook cells\n",
       "var notebookContainer = gd.closest('#notebook-container');\n",
       "if (notebookContainer) {{\n",
       "    x.observe(notebookContainer, {childList: true});\n",
       "}}\n",
       "\n",
       "// Listen for the clearing of the current output cell\n",
       "var outputEl = gd.closest('.output');\n",
       "if (outputEl) {{\n",
       "    x.observe(outputEl, {childList: true});\n",
       "}}\n",
       "\n",
       "                        })                };                });            </script>        </div>"
      ]
     },
     "metadata": {},
     "output_type": "display_data"
    },
    {
     "data": {
      "application/vnd.plotly.v1+json": {
       "config": {
        "plotlyServerURL": "https://plot.ly"
       },
       "data": [
        {
         "alignmentgroup": "True",
         "bingroup": "x",
         "histnorm": "percent",
         "hovertemplate": "cluster=%{x}<br>percent=%{y}<extra></extra>",
         "legendgroup": "",
         "marker": {
          "color": "#636efa",
          "pattern": {
           "shape": ""
          }
         },
         "name": "",
         "nbinsx": 30,
         "offsetgroup": "",
         "orientation": "v",
         "showlegend": false,
         "type": "histogram",
         "x": [
          3,
          1,
          0,
          0,
          0,
          0,
          0,
          0,
          0,
          4,
          0,
          4,
          2,
          0,
          2,
          0,
          4,
          4,
          0,
          0,
          4,
          4,
          0,
          0,
          4,
          0,
          0,
          0,
          0,
          0,
          0,
          2,
          1,
          1,
          4,
          2,
          0,
          3,
          0,
          2,
          0,
          0,
          0,
          2,
          0,
          0,
          0,
          0,
          0,
          0,
          0,
          0,
          0,
          0,
          0,
          3,
          0,
          4,
          0,
          0,
          0,
          0,
          0,
          2,
          4,
          1,
          4,
          4,
          2,
          0,
          4,
          3,
          0,
          0,
          0,
          0,
          2,
          3,
          0,
          0,
          0,
          0,
          0,
          0,
          2,
          0,
          0,
          0,
          0,
          0,
          0,
          0,
          0,
          2,
          2,
          0,
          0,
          0,
          0,
          0,
          0,
          0,
          2,
          0,
          0,
          0,
          0,
          0,
          0,
          0,
          0,
          0,
          1,
          0,
          0,
          0,
          0,
          0,
          3,
          3,
          0,
          0,
          0,
          0,
          0,
          0,
          3,
          0,
          0,
          4,
          0,
          2,
          0,
          0,
          0,
          0,
          0,
          0,
          0,
          0,
          2,
          0,
          0,
          0,
          4,
          4,
          0,
          2,
          0,
          2,
          3,
          0,
          0,
          0,
          0,
          2,
          0,
          2,
          0,
          0,
          4,
          4,
          0,
          2,
          2,
          2,
          3,
          3,
          0,
          0,
          0,
          2,
          0,
          0,
          0,
          4,
          0,
          0,
          4,
          0,
          4,
          3,
          0,
          0,
          4,
          1,
          1
         ],
         "xaxis": "x",
         "yaxis": "y"
        }
       ],
       "layout": {
        "barmode": "relative",
        "height": 300,
        "legend": {
         "tracegroupgap": 0
        },
        "template": {
         "data": {
          "bar": [
           {
            "error_x": {
             "color": "#2a3f5f"
            },
            "error_y": {
             "color": "#2a3f5f"
            },
            "marker": {
             "line": {
              "color": "#E5ECF6",
              "width": 0.5
             },
             "pattern": {
              "fillmode": "overlay",
              "size": 10,
              "solidity": 0.2
             }
            },
            "type": "bar"
           }
          ],
          "barpolar": [
           {
            "marker": {
             "line": {
              "color": "#E5ECF6",
              "width": 0.5
             },
             "pattern": {
              "fillmode": "overlay",
              "size": 10,
              "solidity": 0.2
             }
            },
            "type": "barpolar"
           }
          ],
          "carpet": [
           {
            "aaxis": {
             "endlinecolor": "#2a3f5f",
             "gridcolor": "white",
             "linecolor": "white",
             "minorgridcolor": "white",
             "startlinecolor": "#2a3f5f"
            },
            "baxis": {
             "endlinecolor": "#2a3f5f",
             "gridcolor": "white",
             "linecolor": "white",
             "minorgridcolor": "white",
             "startlinecolor": "#2a3f5f"
            },
            "type": "carpet"
           }
          ],
          "choropleth": [
           {
            "colorbar": {
             "outlinewidth": 0,
             "ticks": ""
            },
            "type": "choropleth"
           }
          ],
          "contour": [
           {
            "colorbar": {
             "outlinewidth": 0,
             "ticks": ""
            },
            "colorscale": [
             [
              0,
              "#0d0887"
             ],
             [
              0.1111111111111111,
              "#46039f"
             ],
             [
              0.2222222222222222,
              "#7201a8"
             ],
             [
              0.3333333333333333,
              "#9c179e"
             ],
             [
              0.4444444444444444,
              "#bd3786"
             ],
             [
              0.5555555555555556,
              "#d8576b"
             ],
             [
              0.6666666666666666,
              "#ed7953"
             ],
             [
              0.7777777777777778,
              "#fb9f3a"
             ],
             [
              0.8888888888888888,
              "#fdca26"
             ],
             [
              1,
              "#f0f921"
             ]
            ],
            "type": "contour"
           }
          ],
          "contourcarpet": [
           {
            "colorbar": {
             "outlinewidth": 0,
             "ticks": ""
            },
            "type": "contourcarpet"
           }
          ],
          "heatmap": [
           {
            "colorbar": {
             "outlinewidth": 0,
             "ticks": ""
            },
            "colorscale": [
             [
              0,
              "#0d0887"
             ],
             [
              0.1111111111111111,
              "#46039f"
             ],
             [
              0.2222222222222222,
              "#7201a8"
             ],
             [
              0.3333333333333333,
              "#9c179e"
             ],
             [
              0.4444444444444444,
              "#bd3786"
             ],
             [
              0.5555555555555556,
              "#d8576b"
             ],
             [
              0.6666666666666666,
              "#ed7953"
             ],
             [
              0.7777777777777778,
              "#fb9f3a"
             ],
             [
              0.8888888888888888,
              "#fdca26"
             ],
             [
              1,
              "#f0f921"
             ]
            ],
            "type": "heatmap"
           }
          ],
          "heatmapgl": [
           {
            "colorbar": {
             "outlinewidth": 0,
             "ticks": ""
            },
            "colorscale": [
             [
              0,
              "#0d0887"
             ],
             [
              0.1111111111111111,
              "#46039f"
             ],
             [
              0.2222222222222222,
              "#7201a8"
             ],
             [
              0.3333333333333333,
              "#9c179e"
             ],
             [
              0.4444444444444444,
              "#bd3786"
             ],
             [
              0.5555555555555556,
              "#d8576b"
             ],
             [
              0.6666666666666666,
              "#ed7953"
             ],
             [
              0.7777777777777778,
              "#fb9f3a"
             ],
             [
              0.8888888888888888,
              "#fdca26"
             ],
             [
              1,
              "#f0f921"
             ]
            ],
            "type": "heatmapgl"
           }
          ],
          "histogram": [
           {
            "marker": {
             "pattern": {
              "fillmode": "overlay",
              "size": 10,
              "solidity": 0.2
             }
            },
            "type": "histogram"
           }
          ],
          "histogram2d": [
           {
            "colorbar": {
             "outlinewidth": 0,
             "ticks": ""
            },
            "colorscale": [
             [
              0,
              "#0d0887"
             ],
             [
              0.1111111111111111,
              "#46039f"
             ],
             [
              0.2222222222222222,
              "#7201a8"
             ],
             [
              0.3333333333333333,
              "#9c179e"
             ],
             [
              0.4444444444444444,
              "#bd3786"
             ],
             [
              0.5555555555555556,
              "#d8576b"
             ],
             [
              0.6666666666666666,
              "#ed7953"
             ],
             [
              0.7777777777777778,
              "#fb9f3a"
             ],
             [
              0.8888888888888888,
              "#fdca26"
             ],
             [
              1,
              "#f0f921"
             ]
            ],
            "type": "histogram2d"
           }
          ],
          "histogram2dcontour": [
           {
            "colorbar": {
             "outlinewidth": 0,
             "ticks": ""
            },
            "colorscale": [
             [
              0,
              "#0d0887"
             ],
             [
              0.1111111111111111,
              "#46039f"
             ],
             [
              0.2222222222222222,
              "#7201a8"
             ],
             [
              0.3333333333333333,
              "#9c179e"
             ],
             [
              0.4444444444444444,
              "#bd3786"
             ],
             [
              0.5555555555555556,
              "#d8576b"
             ],
             [
              0.6666666666666666,
              "#ed7953"
             ],
             [
              0.7777777777777778,
              "#fb9f3a"
             ],
             [
              0.8888888888888888,
              "#fdca26"
             ],
             [
              1,
              "#f0f921"
             ]
            ],
            "type": "histogram2dcontour"
           }
          ],
          "mesh3d": [
           {
            "colorbar": {
             "outlinewidth": 0,
             "ticks": ""
            },
            "type": "mesh3d"
           }
          ],
          "parcoords": [
           {
            "line": {
             "colorbar": {
              "outlinewidth": 0,
              "ticks": ""
             }
            },
            "type": "parcoords"
           }
          ],
          "pie": [
           {
            "automargin": true,
            "type": "pie"
           }
          ],
          "scatter": [
           {
            "fillpattern": {
             "fillmode": "overlay",
             "size": 10,
             "solidity": 0.2
            },
            "type": "scatter"
           }
          ],
          "scatter3d": [
           {
            "line": {
             "colorbar": {
              "outlinewidth": 0,
              "ticks": ""
             }
            },
            "marker": {
             "colorbar": {
              "outlinewidth": 0,
              "ticks": ""
             }
            },
            "type": "scatter3d"
           }
          ],
          "scattercarpet": [
           {
            "marker": {
             "colorbar": {
              "outlinewidth": 0,
              "ticks": ""
             }
            },
            "type": "scattercarpet"
           }
          ],
          "scattergeo": [
           {
            "marker": {
             "colorbar": {
              "outlinewidth": 0,
              "ticks": ""
             }
            },
            "type": "scattergeo"
           }
          ],
          "scattergl": [
           {
            "marker": {
             "colorbar": {
              "outlinewidth": 0,
              "ticks": ""
             }
            },
            "type": "scattergl"
           }
          ],
          "scattermapbox": [
           {
            "marker": {
             "colorbar": {
              "outlinewidth": 0,
              "ticks": ""
             }
            },
            "type": "scattermapbox"
           }
          ],
          "scatterpolar": [
           {
            "marker": {
             "colorbar": {
              "outlinewidth": 0,
              "ticks": ""
             }
            },
            "type": "scatterpolar"
           }
          ],
          "scatterpolargl": [
           {
            "marker": {
             "colorbar": {
              "outlinewidth": 0,
              "ticks": ""
             }
            },
            "type": "scatterpolargl"
           }
          ],
          "scatterternary": [
           {
            "marker": {
             "colorbar": {
              "outlinewidth": 0,
              "ticks": ""
             }
            },
            "type": "scatterternary"
           }
          ],
          "surface": [
           {
            "colorbar": {
             "outlinewidth": 0,
             "ticks": ""
            },
            "colorscale": [
             [
              0,
              "#0d0887"
             ],
             [
              0.1111111111111111,
              "#46039f"
             ],
             [
              0.2222222222222222,
              "#7201a8"
             ],
             [
              0.3333333333333333,
              "#9c179e"
             ],
             [
              0.4444444444444444,
              "#bd3786"
             ],
             [
              0.5555555555555556,
              "#d8576b"
             ],
             [
              0.6666666666666666,
              "#ed7953"
             ],
             [
              0.7777777777777778,
              "#fb9f3a"
             ],
             [
              0.8888888888888888,
              "#fdca26"
             ],
             [
              1,
              "#f0f921"
             ]
            ],
            "type": "surface"
           }
          ],
          "table": [
           {
            "cells": {
             "fill": {
              "color": "#EBF0F8"
             },
             "line": {
              "color": "white"
             }
            },
            "header": {
             "fill": {
              "color": "#C8D4E3"
             },
             "line": {
              "color": "white"
             }
            },
            "type": "table"
           }
          ]
         },
         "layout": {
          "annotationdefaults": {
           "arrowcolor": "#2a3f5f",
           "arrowhead": 0,
           "arrowwidth": 1
          },
          "autotypenumbers": "strict",
          "coloraxis": {
           "colorbar": {
            "outlinewidth": 0,
            "ticks": ""
           }
          },
          "colorscale": {
           "diverging": [
            [
             0,
             "#8e0152"
            ],
            [
             0.1,
             "#c51b7d"
            ],
            [
             0.2,
             "#de77ae"
            ],
            [
             0.3,
             "#f1b6da"
            ],
            [
             0.4,
             "#fde0ef"
            ],
            [
             0.5,
             "#f7f7f7"
            ],
            [
             0.6,
             "#e6f5d0"
            ],
            [
             0.7,
             "#b8e186"
            ],
            [
             0.8,
             "#7fbc41"
            ],
            [
             0.9,
             "#4d9221"
            ],
            [
             1,
             "#276419"
            ]
           ],
           "sequential": [
            [
             0,
             "#0d0887"
            ],
            [
             0.1111111111111111,
             "#46039f"
            ],
            [
             0.2222222222222222,
             "#7201a8"
            ],
            [
             0.3333333333333333,
             "#9c179e"
            ],
            [
             0.4444444444444444,
             "#bd3786"
            ],
            [
             0.5555555555555556,
             "#d8576b"
            ],
            [
             0.6666666666666666,
             "#ed7953"
            ],
            [
             0.7777777777777778,
             "#fb9f3a"
            ],
            [
             0.8888888888888888,
             "#fdca26"
            ],
            [
             1,
             "#f0f921"
            ]
           ],
           "sequentialminus": [
            [
             0,
             "#0d0887"
            ],
            [
             0.1111111111111111,
             "#46039f"
            ],
            [
             0.2222222222222222,
             "#7201a8"
            ],
            [
             0.3333333333333333,
             "#9c179e"
            ],
            [
             0.4444444444444444,
             "#bd3786"
            ],
            [
             0.5555555555555556,
             "#d8576b"
            ],
            [
             0.6666666666666666,
             "#ed7953"
            ],
            [
             0.7777777777777778,
             "#fb9f3a"
            ],
            [
             0.8888888888888888,
             "#fdca26"
            ],
            [
             1,
             "#f0f921"
            ]
           ]
          },
          "colorway": [
           "#636efa",
           "#EF553B",
           "#00cc96",
           "#ab63fa",
           "#FFA15A",
           "#19d3f3",
           "#FF6692",
           "#B6E880",
           "#FF97FF",
           "#FECB52"
          ],
          "font": {
           "color": "#2a3f5f"
          },
          "geo": {
           "bgcolor": "white",
           "lakecolor": "white",
           "landcolor": "#E5ECF6",
           "showlakes": true,
           "showland": true,
           "subunitcolor": "white"
          },
          "hoverlabel": {
           "align": "left"
          },
          "hovermode": "closest",
          "mapbox": {
           "style": "light"
          },
          "paper_bgcolor": "white",
          "plot_bgcolor": "#E5ECF6",
          "polar": {
           "angularaxis": {
            "gridcolor": "white",
            "linecolor": "white",
            "ticks": ""
           },
           "bgcolor": "#E5ECF6",
           "radialaxis": {
            "gridcolor": "white",
            "linecolor": "white",
            "ticks": ""
           }
          },
          "scene": {
           "xaxis": {
            "backgroundcolor": "#E5ECF6",
            "gridcolor": "white",
            "gridwidth": 2,
            "linecolor": "white",
            "showbackground": true,
            "ticks": "",
            "zerolinecolor": "white"
           },
           "yaxis": {
            "backgroundcolor": "#E5ECF6",
            "gridcolor": "white",
            "gridwidth": 2,
            "linecolor": "white",
            "showbackground": true,
            "ticks": "",
            "zerolinecolor": "white"
           },
           "zaxis": {
            "backgroundcolor": "#E5ECF6",
            "gridcolor": "white",
            "gridwidth": 2,
            "linecolor": "white",
            "showbackground": true,
            "ticks": "",
            "zerolinecolor": "white"
           }
          },
          "shapedefaults": {
           "line": {
            "color": "#2a3f5f"
           }
          },
          "ternary": {
           "aaxis": {
            "gridcolor": "white",
            "linecolor": "white",
            "ticks": ""
           },
           "baxis": {
            "gridcolor": "white",
            "linecolor": "white",
            "ticks": ""
           },
           "bgcolor": "#E5ECF6",
           "caxis": {
            "gridcolor": "white",
            "linecolor": "white",
            "ticks": ""
           }
          },
          "title": {
           "x": 0.05
          },
          "xaxis": {
           "automargin": true,
           "gridcolor": "white",
           "linecolor": "white",
           "ticks": "",
           "title": {
            "standoff": 15
           },
           "zerolinecolor": "white",
           "zerolinewidth": 2
          },
          "yaxis": {
           "automargin": true,
           "gridcolor": "white",
           "linecolor": "white",
           "ticks": "",
           "title": {
            "standoff": 15
           },
           "zerolinecolor": "white",
           "zerolinewidth": 2
          }
         }
        },
        "title": {
         "text": "Distribution of cluster in pass 3 using GMM in shawnee_location_2"
        },
        "width": 800,
        "xaxis": {
         "anchor": "y",
         "domain": [
          0,
          1
         ],
         "title": {
          "text": "cluster"
         }
        },
        "yaxis": {
         "anchor": "x",
         "domain": [
          0,
          1
         ],
         "title": {
          "text": "percent"
         }
        }
       }
      },
      "text/html": [
       "<div>                            <div id=\"a0670497-bd06-463a-b856-35407d02d664\" class=\"plotly-graph-div\" style=\"height:300px; width:800px;\"></div>            <script type=\"text/javascript\">                require([\"plotly\"], function(Plotly) {                    window.PLOTLYENV=window.PLOTLYENV || {};                                    if (document.getElementById(\"a0670497-bd06-463a-b856-35407d02d664\")) {                    Plotly.newPlot(                        \"a0670497-bd06-463a-b856-35407d02d664\",                        [{\"alignmentgroup\":\"True\",\"bingroup\":\"x\",\"histnorm\":\"percent\",\"hovertemplate\":\"cluster=%{x}<br>percent=%{y}<extra></extra>\",\"legendgroup\":\"\",\"marker\":{\"color\":\"#636efa\",\"pattern\":{\"shape\":\"\"}},\"name\":\"\",\"nbinsx\":30,\"offsetgroup\":\"\",\"orientation\":\"v\",\"showlegend\":false,\"x\":[3,1,0,0,0,0,0,0,0,4,0,4,2,0,2,0,4,4,0,0,4,4,0,0,4,0,0,0,0,0,0,2,1,1,4,2,0,3,0,2,0,0,0,2,0,0,0,0,0,0,0,0,0,0,0,3,0,4,0,0,0,0,0,2,4,1,4,4,2,0,4,3,0,0,0,0,2,3,0,0,0,0,0,0,2,0,0,0,0,0,0,0,0,2,2,0,0,0,0,0,0,0,2,0,0,0,0,0,0,0,0,0,1,0,0,0,0,0,3,3,0,0,0,0,0,0,3,0,0,4,0,2,0,0,0,0,0,0,0,0,2,0,0,0,4,4,0,2,0,2,3,0,0,0,0,2,0,2,0,0,4,4,0,2,2,2,3,3,0,0,0,2,0,0,0,4,0,0,4,0,4,3,0,0,4,1,1],\"xaxis\":\"x\",\"yaxis\":\"y\",\"type\":\"histogram\"}],                        {\"template\":{\"data\":{\"histogram2dcontour\":[{\"type\":\"histogram2dcontour\",\"colorbar\":{\"outlinewidth\":0,\"ticks\":\"\"},\"colorscale\":[[0.0,\"#0d0887\"],[0.1111111111111111,\"#46039f\"],[0.2222222222222222,\"#7201a8\"],[0.3333333333333333,\"#9c179e\"],[0.4444444444444444,\"#bd3786\"],[0.5555555555555556,\"#d8576b\"],[0.6666666666666666,\"#ed7953\"],[0.7777777777777778,\"#fb9f3a\"],[0.8888888888888888,\"#fdca26\"],[1.0,\"#f0f921\"]]}],\"choropleth\":[{\"type\":\"choropleth\",\"colorbar\":{\"outlinewidth\":0,\"ticks\":\"\"}}],\"histogram2d\":[{\"type\":\"histogram2d\",\"colorbar\":{\"outlinewidth\":0,\"ticks\":\"\"},\"colorscale\":[[0.0,\"#0d0887\"],[0.1111111111111111,\"#46039f\"],[0.2222222222222222,\"#7201a8\"],[0.3333333333333333,\"#9c179e\"],[0.4444444444444444,\"#bd3786\"],[0.5555555555555556,\"#d8576b\"],[0.6666666666666666,\"#ed7953\"],[0.7777777777777778,\"#fb9f3a\"],[0.8888888888888888,\"#fdca26\"],[1.0,\"#f0f921\"]]}],\"heatmap\":[{\"type\":\"heatmap\",\"colorbar\":{\"outlinewidth\":0,\"ticks\":\"\"},\"colorscale\":[[0.0,\"#0d0887\"],[0.1111111111111111,\"#46039f\"],[0.2222222222222222,\"#7201a8\"],[0.3333333333333333,\"#9c179e\"],[0.4444444444444444,\"#bd3786\"],[0.5555555555555556,\"#d8576b\"],[0.6666666666666666,\"#ed7953\"],[0.7777777777777778,\"#fb9f3a\"],[0.8888888888888888,\"#fdca26\"],[1.0,\"#f0f921\"]]}],\"heatmapgl\":[{\"type\":\"heatmapgl\",\"colorbar\":{\"outlinewidth\":0,\"ticks\":\"\"},\"colorscale\":[[0.0,\"#0d0887\"],[0.1111111111111111,\"#46039f\"],[0.2222222222222222,\"#7201a8\"],[0.3333333333333333,\"#9c179e\"],[0.4444444444444444,\"#bd3786\"],[0.5555555555555556,\"#d8576b\"],[0.6666666666666666,\"#ed7953\"],[0.7777777777777778,\"#fb9f3a\"],[0.8888888888888888,\"#fdca26\"],[1.0,\"#f0f921\"]]}],\"contourcarpet\":[{\"type\":\"contourcarpet\",\"colorbar\":{\"outlinewidth\":0,\"ticks\":\"\"}}],\"contour\":[{\"type\":\"contour\",\"colorbar\":{\"outlinewidth\":0,\"ticks\":\"\"},\"colorscale\":[[0.0,\"#0d0887\"],[0.1111111111111111,\"#46039f\"],[0.2222222222222222,\"#7201a8\"],[0.3333333333333333,\"#9c179e\"],[0.4444444444444444,\"#bd3786\"],[0.5555555555555556,\"#d8576b\"],[0.6666666666666666,\"#ed7953\"],[0.7777777777777778,\"#fb9f3a\"],[0.8888888888888888,\"#fdca26\"],[1.0,\"#f0f921\"]]}],\"surface\":[{\"type\":\"surface\",\"colorbar\":{\"outlinewidth\":0,\"ticks\":\"\"},\"colorscale\":[[0.0,\"#0d0887\"],[0.1111111111111111,\"#46039f\"],[0.2222222222222222,\"#7201a8\"],[0.3333333333333333,\"#9c179e\"],[0.4444444444444444,\"#bd3786\"],[0.5555555555555556,\"#d8576b\"],[0.6666666666666666,\"#ed7953\"],[0.7777777777777778,\"#fb9f3a\"],[0.8888888888888888,\"#fdca26\"],[1.0,\"#f0f921\"]]}],\"mesh3d\":[{\"type\":\"mesh3d\",\"colorbar\":{\"outlinewidth\":0,\"ticks\":\"\"}}],\"scatter\":[{\"fillpattern\":{\"fillmode\":\"overlay\",\"size\":10,\"solidity\":0.2},\"type\":\"scatter\"}],\"parcoords\":[{\"type\":\"parcoords\",\"line\":{\"colorbar\":{\"outlinewidth\":0,\"ticks\":\"\"}}}],\"scatterpolargl\":[{\"type\":\"scatterpolargl\",\"marker\":{\"colorbar\":{\"outlinewidth\":0,\"ticks\":\"\"}}}],\"bar\":[{\"error_x\":{\"color\":\"#2a3f5f\"},\"error_y\":{\"color\":\"#2a3f5f\"},\"marker\":{\"line\":{\"color\":\"#E5ECF6\",\"width\":0.5},\"pattern\":{\"fillmode\":\"overlay\",\"size\":10,\"solidity\":0.2}},\"type\":\"bar\"}],\"scattergeo\":[{\"type\":\"scattergeo\",\"marker\":{\"colorbar\":{\"outlinewidth\":0,\"ticks\":\"\"}}}],\"scatterpolar\":[{\"type\":\"scatterpolar\",\"marker\":{\"colorbar\":{\"outlinewidth\":0,\"ticks\":\"\"}}}],\"histogram\":[{\"marker\":{\"pattern\":{\"fillmode\":\"overlay\",\"size\":10,\"solidity\":0.2}},\"type\":\"histogram\"}],\"scattergl\":[{\"type\":\"scattergl\",\"marker\":{\"colorbar\":{\"outlinewidth\":0,\"ticks\":\"\"}}}],\"scatter3d\":[{\"type\":\"scatter3d\",\"line\":{\"colorbar\":{\"outlinewidth\":0,\"ticks\":\"\"}},\"marker\":{\"colorbar\":{\"outlinewidth\":0,\"ticks\":\"\"}}}],\"scattermapbox\":[{\"type\":\"scattermapbox\",\"marker\":{\"colorbar\":{\"outlinewidth\":0,\"ticks\":\"\"}}}],\"scatterternary\":[{\"type\":\"scatterternary\",\"marker\":{\"colorbar\":{\"outlinewidth\":0,\"ticks\":\"\"}}}],\"scattercarpet\":[{\"type\":\"scattercarpet\",\"marker\":{\"colorbar\":{\"outlinewidth\":0,\"ticks\":\"\"}}}],\"carpet\":[{\"aaxis\":{\"endlinecolor\":\"#2a3f5f\",\"gridcolor\":\"white\",\"linecolor\":\"white\",\"minorgridcolor\":\"white\",\"startlinecolor\":\"#2a3f5f\"},\"baxis\":{\"endlinecolor\":\"#2a3f5f\",\"gridcolor\":\"white\",\"linecolor\":\"white\",\"minorgridcolor\":\"white\",\"startlinecolor\":\"#2a3f5f\"},\"type\":\"carpet\"}],\"table\":[{\"cells\":{\"fill\":{\"color\":\"#EBF0F8\"},\"line\":{\"color\":\"white\"}},\"header\":{\"fill\":{\"color\":\"#C8D4E3\"},\"line\":{\"color\":\"white\"}},\"type\":\"table\"}],\"barpolar\":[{\"marker\":{\"line\":{\"color\":\"#E5ECF6\",\"width\":0.5},\"pattern\":{\"fillmode\":\"overlay\",\"size\":10,\"solidity\":0.2}},\"type\":\"barpolar\"}],\"pie\":[{\"automargin\":true,\"type\":\"pie\"}]},\"layout\":{\"autotypenumbers\":\"strict\",\"colorway\":[\"#636efa\",\"#EF553B\",\"#00cc96\",\"#ab63fa\",\"#FFA15A\",\"#19d3f3\",\"#FF6692\",\"#B6E880\",\"#FF97FF\",\"#FECB52\"],\"font\":{\"color\":\"#2a3f5f\"},\"hovermode\":\"closest\",\"hoverlabel\":{\"align\":\"left\"},\"paper_bgcolor\":\"white\",\"plot_bgcolor\":\"#E5ECF6\",\"polar\":{\"bgcolor\":\"#E5ECF6\",\"angularaxis\":{\"gridcolor\":\"white\",\"linecolor\":\"white\",\"ticks\":\"\"},\"radialaxis\":{\"gridcolor\":\"white\",\"linecolor\":\"white\",\"ticks\":\"\"}},\"ternary\":{\"bgcolor\":\"#E5ECF6\",\"aaxis\":{\"gridcolor\":\"white\",\"linecolor\":\"white\",\"ticks\":\"\"},\"baxis\":{\"gridcolor\":\"white\",\"linecolor\":\"white\",\"ticks\":\"\"},\"caxis\":{\"gridcolor\":\"white\",\"linecolor\":\"white\",\"ticks\":\"\"}},\"coloraxis\":{\"colorbar\":{\"outlinewidth\":0,\"ticks\":\"\"}},\"colorscale\":{\"sequential\":[[0.0,\"#0d0887\"],[0.1111111111111111,\"#46039f\"],[0.2222222222222222,\"#7201a8\"],[0.3333333333333333,\"#9c179e\"],[0.4444444444444444,\"#bd3786\"],[0.5555555555555556,\"#d8576b\"],[0.6666666666666666,\"#ed7953\"],[0.7777777777777778,\"#fb9f3a\"],[0.8888888888888888,\"#fdca26\"],[1.0,\"#f0f921\"]],\"sequentialminus\":[[0.0,\"#0d0887\"],[0.1111111111111111,\"#46039f\"],[0.2222222222222222,\"#7201a8\"],[0.3333333333333333,\"#9c179e\"],[0.4444444444444444,\"#bd3786\"],[0.5555555555555556,\"#d8576b\"],[0.6666666666666666,\"#ed7953\"],[0.7777777777777778,\"#fb9f3a\"],[0.8888888888888888,\"#fdca26\"],[1.0,\"#f0f921\"]],\"diverging\":[[0,\"#8e0152\"],[0.1,\"#c51b7d\"],[0.2,\"#de77ae\"],[0.3,\"#f1b6da\"],[0.4,\"#fde0ef\"],[0.5,\"#f7f7f7\"],[0.6,\"#e6f5d0\"],[0.7,\"#b8e186\"],[0.8,\"#7fbc41\"],[0.9,\"#4d9221\"],[1,\"#276419\"]]},\"xaxis\":{\"gridcolor\":\"white\",\"linecolor\":\"white\",\"ticks\":\"\",\"title\":{\"standoff\":15},\"zerolinecolor\":\"white\",\"automargin\":true,\"zerolinewidth\":2},\"yaxis\":{\"gridcolor\":\"white\",\"linecolor\":\"white\",\"ticks\":\"\",\"title\":{\"standoff\":15},\"zerolinecolor\":\"white\",\"automargin\":true,\"zerolinewidth\":2},\"scene\":{\"xaxis\":{\"backgroundcolor\":\"#E5ECF6\",\"gridcolor\":\"white\",\"linecolor\":\"white\",\"showbackground\":true,\"ticks\":\"\",\"zerolinecolor\":\"white\",\"gridwidth\":2},\"yaxis\":{\"backgroundcolor\":\"#E5ECF6\",\"gridcolor\":\"white\",\"linecolor\":\"white\",\"showbackground\":true,\"ticks\":\"\",\"zerolinecolor\":\"white\",\"gridwidth\":2},\"zaxis\":{\"backgroundcolor\":\"#E5ECF6\",\"gridcolor\":\"white\",\"linecolor\":\"white\",\"showbackground\":true,\"ticks\":\"\",\"zerolinecolor\":\"white\",\"gridwidth\":2}},\"shapedefaults\":{\"line\":{\"color\":\"#2a3f5f\"}},\"annotationdefaults\":{\"arrowcolor\":\"#2a3f5f\",\"arrowhead\":0,\"arrowwidth\":1},\"geo\":{\"bgcolor\":\"white\",\"landcolor\":\"#E5ECF6\",\"subunitcolor\":\"white\",\"showland\":true,\"showlakes\":true,\"lakecolor\":\"white\"},\"title\":{\"x\":0.05},\"mapbox\":{\"style\":\"light\"}}},\"xaxis\":{\"anchor\":\"y\",\"domain\":[0.0,1.0],\"title\":{\"text\":\"cluster\"}},\"yaxis\":{\"anchor\":\"x\",\"domain\":[0.0,1.0],\"title\":{\"text\":\"percent\"}},\"legend\":{\"tracegroupgap\":0},\"title\":{\"text\":\"Distribution of cluster in pass 3 using GMM in shawnee_location_2\"},\"barmode\":\"relative\",\"height\":300,\"width\":800},                        {\"responsive\": true}                    ).then(function(){\n",
       "                            \n",
       "var gd = document.getElementById('a0670497-bd06-463a-b856-35407d02d664');\n",
       "var x = new MutationObserver(function (mutations, observer) {{\n",
       "        var display = window.getComputedStyle(gd).display;\n",
       "        if (!display || display === 'none') {{\n",
       "            console.log([gd, 'removed!']);\n",
       "            Plotly.purge(gd);\n",
       "            observer.disconnect();\n",
       "        }}\n",
       "}});\n",
       "\n",
       "// Listen for the removal of the full notebook cells\n",
       "var notebookContainer = gd.closest('#notebook-container');\n",
       "if (notebookContainer) {{\n",
       "    x.observe(notebookContainer, {childList: true});\n",
       "}}\n",
       "\n",
       "// Listen for the clearing of the current output cell\n",
       "var outputEl = gd.closest('.output');\n",
       "if (outputEl) {{\n",
       "    x.observe(outputEl, {childList: true});\n",
       "}}\n",
       "\n",
       "                        })                };                });            </script>        </div>"
      ]
     },
     "metadata": {},
     "output_type": "display_data"
    },
    {
     "data": {
      "application/vnd.plotly.v1+json": {
       "config": {
        "plotlyServerURL": "https://plot.ly"
       },
       "data": [
        {
         "alignmentgroup": "True",
         "bingroup": "x",
         "histnorm": "percent",
         "hovertemplate": "cluster=%{x}<br>percent=%{y}<extra></extra>",
         "legendgroup": "",
         "marker": {
          "color": "#636efa",
          "pattern": {
           "shape": ""
          }
         },
         "name": "",
         "nbinsx": 30,
         "offsetgroup": "",
         "orientation": "v",
         "showlegend": false,
         "type": "histogram",
         "x": [
          3,
          3,
          3,
          2,
          3,
          1,
          1,
          3,
          2,
          4,
          2,
          4,
          4,
          0,
          0,
          0,
          0,
          3,
          0,
          0,
          0,
          0,
          0,
          3,
          3,
          3,
          2,
          2,
          4,
          4,
          0,
          4,
          3,
          3,
          0,
          3,
          4,
          0,
          0,
          0,
          3,
          4,
          2,
          4,
          0,
          1,
          4,
          4,
          4,
          4,
          1,
          3,
          3,
          1,
          0,
          0,
          3,
          3,
          3,
          2,
          4,
          4,
          1,
          0,
          4,
          4,
          2,
          2,
          4,
          4,
          4,
          0,
          4,
          4,
          2,
          1,
          4,
          4,
          1,
          1,
          1,
          4,
          1,
          1,
          1,
          0,
          1,
          1,
          1,
          3,
          2,
          2,
          4,
          1,
          1,
          1,
          1,
          4,
          4,
          4,
          4,
          4,
          1,
          1,
          1,
          2,
          4,
          0,
          3,
          0,
          0,
          1,
          1,
          2,
          2,
          4,
          4,
          3,
          0,
          0,
          0,
          3,
          0,
          2,
          2,
          0,
          4,
          1,
          0,
          2,
          0,
          3,
          3,
          3,
          1,
          1,
          1,
          3,
          2,
          2,
          4,
          4,
          4,
          1,
          1,
          4,
          3,
          3,
          4,
          3,
          0,
          4,
          4,
          4,
          2,
          1,
          1,
          1,
          1,
          1,
          1,
          1,
          3,
          1,
          2,
          2,
          4,
          1,
          1,
          1,
          1,
          3,
          2,
          2,
          4,
          0,
          4,
          1,
          3,
          3,
          3,
          1,
          4,
          4,
          0,
          4,
          4,
          4,
          4,
          3,
          0,
          4,
          0,
          2,
          4,
          3,
          2,
          4,
          0,
          4,
          4,
          0,
          2,
          3,
          3,
          3,
          3,
          4,
          1,
          1,
          3,
          1,
          3,
          3,
          1,
          3,
          1,
          3,
          3,
          4,
          2,
          4,
          4,
          4,
          4,
          0,
          4,
          3,
          2,
          3,
          3,
          3,
          4,
          4
         ],
         "xaxis": "x",
         "yaxis": "y"
        }
       ],
       "layout": {
        "barmode": "relative",
        "height": 300,
        "legend": {
         "tracegroupgap": 0
        },
        "template": {
         "data": {
          "bar": [
           {
            "error_x": {
             "color": "#2a3f5f"
            },
            "error_y": {
             "color": "#2a3f5f"
            },
            "marker": {
             "line": {
              "color": "#E5ECF6",
              "width": 0.5
             },
             "pattern": {
              "fillmode": "overlay",
              "size": 10,
              "solidity": 0.2
             }
            },
            "type": "bar"
           }
          ],
          "barpolar": [
           {
            "marker": {
             "line": {
              "color": "#E5ECF6",
              "width": 0.5
             },
             "pattern": {
              "fillmode": "overlay",
              "size": 10,
              "solidity": 0.2
             }
            },
            "type": "barpolar"
           }
          ],
          "carpet": [
           {
            "aaxis": {
             "endlinecolor": "#2a3f5f",
             "gridcolor": "white",
             "linecolor": "white",
             "minorgridcolor": "white",
             "startlinecolor": "#2a3f5f"
            },
            "baxis": {
             "endlinecolor": "#2a3f5f",
             "gridcolor": "white",
             "linecolor": "white",
             "minorgridcolor": "white",
             "startlinecolor": "#2a3f5f"
            },
            "type": "carpet"
           }
          ],
          "choropleth": [
           {
            "colorbar": {
             "outlinewidth": 0,
             "ticks": ""
            },
            "type": "choropleth"
           }
          ],
          "contour": [
           {
            "colorbar": {
             "outlinewidth": 0,
             "ticks": ""
            },
            "colorscale": [
             [
              0,
              "#0d0887"
             ],
             [
              0.1111111111111111,
              "#46039f"
             ],
             [
              0.2222222222222222,
              "#7201a8"
             ],
             [
              0.3333333333333333,
              "#9c179e"
             ],
             [
              0.4444444444444444,
              "#bd3786"
             ],
             [
              0.5555555555555556,
              "#d8576b"
             ],
             [
              0.6666666666666666,
              "#ed7953"
             ],
             [
              0.7777777777777778,
              "#fb9f3a"
             ],
             [
              0.8888888888888888,
              "#fdca26"
             ],
             [
              1,
              "#f0f921"
             ]
            ],
            "type": "contour"
           }
          ],
          "contourcarpet": [
           {
            "colorbar": {
             "outlinewidth": 0,
             "ticks": ""
            },
            "type": "contourcarpet"
           }
          ],
          "heatmap": [
           {
            "colorbar": {
             "outlinewidth": 0,
             "ticks": ""
            },
            "colorscale": [
             [
              0,
              "#0d0887"
             ],
             [
              0.1111111111111111,
              "#46039f"
             ],
             [
              0.2222222222222222,
              "#7201a8"
             ],
             [
              0.3333333333333333,
              "#9c179e"
             ],
             [
              0.4444444444444444,
              "#bd3786"
             ],
             [
              0.5555555555555556,
              "#d8576b"
             ],
             [
              0.6666666666666666,
              "#ed7953"
             ],
             [
              0.7777777777777778,
              "#fb9f3a"
             ],
             [
              0.8888888888888888,
              "#fdca26"
             ],
             [
              1,
              "#f0f921"
             ]
            ],
            "type": "heatmap"
           }
          ],
          "heatmapgl": [
           {
            "colorbar": {
             "outlinewidth": 0,
             "ticks": ""
            },
            "colorscale": [
             [
              0,
              "#0d0887"
             ],
             [
              0.1111111111111111,
              "#46039f"
             ],
             [
              0.2222222222222222,
              "#7201a8"
             ],
             [
              0.3333333333333333,
              "#9c179e"
             ],
             [
              0.4444444444444444,
              "#bd3786"
             ],
             [
              0.5555555555555556,
              "#d8576b"
             ],
             [
              0.6666666666666666,
              "#ed7953"
             ],
             [
              0.7777777777777778,
              "#fb9f3a"
             ],
             [
              0.8888888888888888,
              "#fdca26"
             ],
             [
              1,
              "#f0f921"
             ]
            ],
            "type": "heatmapgl"
           }
          ],
          "histogram": [
           {
            "marker": {
             "pattern": {
              "fillmode": "overlay",
              "size": 10,
              "solidity": 0.2
             }
            },
            "type": "histogram"
           }
          ],
          "histogram2d": [
           {
            "colorbar": {
             "outlinewidth": 0,
             "ticks": ""
            },
            "colorscale": [
             [
              0,
              "#0d0887"
             ],
             [
              0.1111111111111111,
              "#46039f"
             ],
             [
              0.2222222222222222,
              "#7201a8"
             ],
             [
              0.3333333333333333,
              "#9c179e"
             ],
             [
              0.4444444444444444,
              "#bd3786"
             ],
             [
              0.5555555555555556,
              "#d8576b"
             ],
             [
              0.6666666666666666,
              "#ed7953"
             ],
             [
              0.7777777777777778,
              "#fb9f3a"
             ],
             [
              0.8888888888888888,
              "#fdca26"
             ],
             [
              1,
              "#f0f921"
             ]
            ],
            "type": "histogram2d"
           }
          ],
          "histogram2dcontour": [
           {
            "colorbar": {
             "outlinewidth": 0,
             "ticks": ""
            },
            "colorscale": [
             [
              0,
              "#0d0887"
             ],
             [
              0.1111111111111111,
              "#46039f"
             ],
             [
              0.2222222222222222,
              "#7201a8"
             ],
             [
              0.3333333333333333,
              "#9c179e"
             ],
             [
              0.4444444444444444,
              "#bd3786"
             ],
             [
              0.5555555555555556,
              "#d8576b"
             ],
             [
              0.6666666666666666,
              "#ed7953"
             ],
             [
              0.7777777777777778,
              "#fb9f3a"
             ],
             [
              0.8888888888888888,
              "#fdca26"
             ],
             [
              1,
              "#f0f921"
             ]
            ],
            "type": "histogram2dcontour"
           }
          ],
          "mesh3d": [
           {
            "colorbar": {
             "outlinewidth": 0,
             "ticks": ""
            },
            "type": "mesh3d"
           }
          ],
          "parcoords": [
           {
            "line": {
             "colorbar": {
              "outlinewidth": 0,
              "ticks": ""
             }
            },
            "type": "parcoords"
           }
          ],
          "pie": [
           {
            "automargin": true,
            "type": "pie"
           }
          ],
          "scatter": [
           {
            "fillpattern": {
             "fillmode": "overlay",
             "size": 10,
             "solidity": 0.2
            },
            "type": "scatter"
           }
          ],
          "scatter3d": [
           {
            "line": {
             "colorbar": {
              "outlinewidth": 0,
              "ticks": ""
             }
            },
            "marker": {
             "colorbar": {
              "outlinewidth": 0,
              "ticks": ""
             }
            },
            "type": "scatter3d"
           }
          ],
          "scattercarpet": [
           {
            "marker": {
             "colorbar": {
              "outlinewidth": 0,
              "ticks": ""
             }
            },
            "type": "scattercarpet"
           }
          ],
          "scattergeo": [
           {
            "marker": {
             "colorbar": {
              "outlinewidth": 0,
              "ticks": ""
             }
            },
            "type": "scattergeo"
           }
          ],
          "scattergl": [
           {
            "marker": {
             "colorbar": {
              "outlinewidth": 0,
              "ticks": ""
             }
            },
            "type": "scattergl"
           }
          ],
          "scattermapbox": [
           {
            "marker": {
             "colorbar": {
              "outlinewidth": 0,
              "ticks": ""
             }
            },
            "type": "scattermapbox"
           }
          ],
          "scatterpolar": [
           {
            "marker": {
             "colorbar": {
              "outlinewidth": 0,
              "ticks": ""
             }
            },
            "type": "scatterpolar"
           }
          ],
          "scatterpolargl": [
           {
            "marker": {
             "colorbar": {
              "outlinewidth": 0,
              "ticks": ""
             }
            },
            "type": "scatterpolargl"
           }
          ],
          "scatterternary": [
           {
            "marker": {
             "colorbar": {
              "outlinewidth": 0,
              "ticks": ""
             }
            },
            "type": "scatterternary"
           }
          ],
          "surface": [
           {
            "colorbar": {
             "outlinewidth": 0,
             "ticks": ""
            },
            "colorscale": [
             [
              0,
              "#0d0887"
             ],
             [
              0.1111111111111111,
              "#46039f"
             ],
             [
              0.2222222222222222,
              "#7201a8"
             ],
             [
              0.3333333333333333,
              "#9c179e"
             ],
             [
              0.4444444444444444,
              "#bd3786"
             ],
             [
              0.5555555555555556,
              "#d8576b"
             ],
             [
              0.6666666666666666,
              "#ed7953"
             ],
             [
              0.7777777777777778,
              "#fb9f3a"
             ],
             [
              0.8888888888888888,
              "#fdca26"
             ],
             [
              1,
              "#f0f921"
             ]
            ],
            "type": "surface"
           }
          ],
          "table": [
           {
            "cells": {
             "fill": {
              "color": "#EBF0F8"
             },
             "line": {
              "color": "white"
             }
            },
            "header": {
             "fill": {
              "color": "#C8D4E3"
             },
             "line": {
              "color": "white"
             }
            },
            "type": "table"
           }
          ]
         },
         "layout": {
          "annotationdefaults": {
           "arrowcolor": "#2a3f5f",
           "arrowhead": 0,
           "arrowwidth": 1
          },
          "autotypenumbers": "strict",
          "coloraxis": {
           "colorbar": {
            "outlinewidth": 0,
            "ticks": ""
           }
          },
          "colorscale": {
           "diverging": [
            [
             0,
             "#8e0152"
            ],
            [
             0.1,
             "#c51b7d"
            ],
            [
             0.2,
             "#de77ae"
            ],
            [
             0.3,
             "#f1b6da"
            ],
            [
             0.4,
             "#fde0ef"
            ],
            [
             0.5,
             "#f7f7f7"
            ],
            [
             0.6,
             "#e6f5d0"
            ],
            [
             0.7,
             "#b8e186"
            ],
            [
             0.8,
             "#7fbc41"
            ],
            [
             0.9,
             "#4d9221"
            ],
            [
             1,
             "#276419"
            ]
           ],
           "sequential": [
            [
             0,
             "#0d0887"
            ],
            [
             0.1111111111111111,
             "#46039f"
            ],
            [
             0.2222222222222222,
             "#7201a8"
            ],
            [
             0.3333333333333333,
             "#9c179e"
            ],
            [
             0.4444444444444444,
             "#bd3786"
            ],
            [
             0.5555555555555556,
             "#d8576b"
            ],
            [
             0.6666666666666666,
             "#ed7953"
            ],
            [
             0.7777777777777778,
             "#fb9f3a"
            ],
            [
             0.8888888888888888,
             "#fdca26"
            ],
            [
             1,
             "#f0f921"
            ]
           ],
           "sequentialminus": [
            [
             0,
             "#0d0887"
            ],
            [
             0.1111111111111111,
             "#46039f"
            ],
            [
             0.2222222222222222,
             "#7201a8"
            ],
            [
             0.3333333333333333,
             "#9c179e"
            ],
            [
             0.4444444444444444,
             "#bd3786"
            ],
            [
             0.5555555555555556,
             "#d8576b"
            ],
            [
             0.6666666666666666,
             "#ed7953"
            ],
            [
             0.7777777777777778,
             "#fb9f3a"
            ],
            [
             0.8888888888888888,
             "#fdca26"
            ],
            [
             1,
             "#f0f921"
            ]
           ]
          },
          "colorway": [
           "#636efa",
           "#EF553B",
           "#00cc96",
           "#ab63fa",
           "#FFA15A",
           "#19d3f3",
           "#FF6692",
           "#B6E880",
           "#FF97FF",
           "#FECB52"
          ],
          "font": {
           "color": "#2a3f5f"
          },
          "geo": {
           "bgcolor": "white",
           "lakecolor": "white",
           "landcolor": "#E5ECF6",
           "showlakes": true,
           "showland": true,
           "subunitcolor": "white"
          },
          "hoverlabel": {
           "align": "left"
          },
          "hovermode": "closest",
          "mapbox": {
           "style": "light"
          },
          "paper_bgcolor": "white",
          "plot_bgcolor": "#E5ECF6",
          "polar": {
           "angularaxis": {
            "gridcolor": "white",
            "linecolor": "white",
            "ticks": ""
           },
           "bgcolor": "#E5ECF6",
           "radialaxis": {
            "gridcolor": "white",
            "linecolor": "white",
            "ticks": ""
           }
          },
          "scene": {
           "xaxis": {
            "backgroundcolor": "#E5ECF6",
            "gridcolor": "white",
            "gridwidth": 2,
            "linecolor": "white",
            "showbackground": true,
            "ticks": "",
            "zerolinecolor": "white"
           },
           "yaxis": {
            "backgroundcolor": "#E5ECF6",
            "gridcolor": "white",
            "gridwidth": 2,
            "linecolor": "white",
            "showbackground": true,
            "ticks": "",
            "zerolinecolor": "white"
           },
           "zaxis": {
            "backgroundcolor": "#E5ECF6",
            "gridcolor": "white",
            "gridwidth": 2,
            "linecolor": "white",
            "showbackground": true,
            "ticks": "",
            "zerolinecolor": "white"
           }
          },
          "shapedefaults": {
           "line": {
            "color": "#2a3f5f"
           }
          },
          "ternary": {
           "aaxis": {
            "gridcolor": "white",
            "linecolor": "white",
            "ticks": ""
           },
           "baxis": {
            "gridcolor": "white",
            "linecolor": "white",
            "ticks": ""
           },
           "bgcolor": "#E5ECF6",
           "caxis": {
            "gridcolor": "white",
            "linecolor": "white",
            "ticks": ""
           }
          },
          "title": {
           "x": 0.05
          },
          "xaxis": {
           "automargin": true,
           "gridcolor": "white",
           "linecolor": "white",
           "ticks": "",
           "title": {
            "standoff": 15
           },
           "zerolinecolor": "white",
           "zerolinewidth": 2
          },
          "yaxis": {
           "automargin": true,
           "gridcolor": "white",
           "linecolor": "white",
           "ticks": "",
           "title": {
            "standoff": 15
           },
           "zerolinecolor": "white",
           "zerolinewidth": 2
          }
         }
        },
        "title": {
         "text": "Distribution of cluster in pass 4 using GMM in shawnee_location_2"
        },
        "width": 800,
        "xaxis": {
         "anchor": "y",
         "domain": [
          0,
          1
         ],
         "title": {
          "text": "cluster"
         }
        },
        "yaxis": {
         "anchor": "x",
         "domain": [
          0,
          1
         ],
         "title": {
          "text": "percent"
         }
        }
       }
      },
      "text/html": [
       "<div>                            <div id=\"b03645be-1d04-4545-aafe-f64083dae076\" class=\"plotly-graph-div\" style=\"height:300px; width:800px;\"></div>            <script type=\"text/javascript\">                require([\"plotly\"], function(Plotly) {                    window.PLOTLYENV=window.PLOTLYENV || {};                                    if (document.getElementById(\"b03645be-1d04-4545-aafe-f64083dae076\")) {                    Plotly.newPlot(                        \"b03645be-1d04-4545-aafe-f64083dae076\",                        [{\"alignmentgroup\":\"True\",\"bingroup\":\"x\",\"histnorm\":\"percent\",\"hovertemplate\":\"cluster=%{x}<br>percent=%{y}<extra></extra>\",\"legendgroup\":\"\",\"marker\":{\"color\":\"#636efa\",\"pattern\":{\"shape\":\"\"}},\"name\":\"\",\"nbinsx\":30,\"offsetgroup\":\"\",\"orientation\":\"v\",\"showlegend\":false,\"x\":[3,3,3,2,3,1,1,3,2,4,2,4,4,0,0,0,0,3,0,0,0,0,0,3,3,3,2,2,4,4,0,4,3,3,0,3,4,0,0,0,3,4,2,4,0,1,4,4,4,4,1,3,3,1,0,0,3,3,3,2,4,4,1,0,4,4,2,2,4,4,4,0,4,4,2,1,4,4,1,1,1,4,1,1,1,0,1,1,1,3,2,2,4,1,1,1,1,4,4,4,4,4,1,1,1,2,4,0,3,0,0,1,1,2,2,4,4,3,0,0,0,3,0,2,2,0,4,1,0,2,0,3,3,3,1,1,1,3,2,2,4,4,4,1,1,4,3,3,4,3,0,4,4,4,2,1,1,1,1,1,1,1,3,1,2,2,4,1,1,1,1,3,2,2,4,0,4,1,3,3,3,1,4,4,0,4,4,4,4,3,0,4,0,2,4,3,2,4,0,4,4,0,2,3,3,3,3,4,1,1,3,1,3,3,1,3,1,3,3,4,2,4,4,4,4,0,4,3,2,3,3,3,4,4],\"xaxis\":\"x\",\"yaxis\":\"y\",\"type\":\"histogram\"}],                        {\"template\":{\"data\":{\"histogram2dcontour\":[{\"type\":\"histogram2dcontour\",\"colorbar\":{\"outlinewidth\":0,\"ticks\":\"\"},\"colorscale\":[[0.0,\"#0d0887\"],[0.1111111111111111,\"#46039f\"],[0.2222222222222222,\"#7201a8\"],[0.3333333333333333,\"#9c179e\"],[0.4444444444444444,\"#bd3786\"],[0.5555555555555556,\"#d8576b\"],[0.6666666666666666,\"#ed7953\"],[0.7777777777777778,\"#fb9f3a\"],[0.8888888888888888,\"#fdca26\"],[1.0,\"#f0f921\"]]}],\"choropleth\":[{\"type\":\"choropleth\",\"colorbar\":{\"outlinewidth\":0,\"ticks\":\"\"}}],\"histogram2d\":[{\"type\":\"histogram2d\",\"colorbar\":{\"outlinewidth\":0,\"ticks\":\"\"},\"colorscale\":[[0.0,\"#0d0887\"],[0.1111111111111111,\"#46039f\"],[0.2222222222222222,\"#7201a8\"],[0.3333333333333333,\"#9c179e\"],[0.4444444444444444,\"#bd3786\"],[0.5555555555555556,\"#d8576b\"],[0.6666666666666666,\"#ed7953\"],[0.7777777777777778,\"#fb9f3a\"],[0.8888888888888888,\"#fdca26\"],[1.0,\"#f0f921\"]]}],\"heatmap\":[{\"type\":\"heatmap\",\"colorbar\":{\"outlinewidth\":0,\"ticks\":\"\"},\"colorscale\":[[0.0,\"#0d0887\"],[0.1111111111111111,\"#46039f\"],[0.2222222222222222,\"#7201a8\"],[0.3333333333333333,\"#9c179e\"],[0.4444444444444444,\"#bd3786\"],[0.5555555555555556,\"#d8576b\"],[0.6666666666666666,\"#ed7953\"],[0.7777777777777778,\"#fb9f3a\"],[0.8888888888888888,\"#fdca26\"],[1.0,\"#f0f921\"]]}],\"heatmapgl\":[{\"type\":\"heatmapgl\",\"colorbar\":{\"outlinewidth\":0,\"ticks\":\"\"},\"colorscale\":[[0.0,\"#0d0887\"],[0.1111111111111111,\"#46039f\"],[0.2222222222222222,\"#7201a8\"],[0.3333333333333333,\"#9c179e\"],[0.4444444444444444,\"#bd3786\"],[0.5555555555555556,\"#d8576b\"],[0.6666666666666666,\"#ed7953\"],[0.7777777777777778,\"#fb9f3a\"],[0.8888888888888888,\"#fdca26\"],[1.0,\"#f0f921\"]]}],\"contourcarpet\":[{\"type\":\"contourcarpet\",\"colorbar\":{\"outlinewidth\":0,\"ticks\":\"\"}}],\"contour\":[{\"type\":\"contour\",\"colorbar\":{\"outlinewidth\":0,\"ticks\":\"\"},\"colorscale\":[[0.0,\"#0d0887\"],[0.1111111111111111,\"#46039f\"],[0.2222222222222222,\"#7201a8\"],[0.3333333333333333,\"#9c179e\"],[0.4444444444444444,\"#bd3786\"],[0.5555555555555556,\"#d8576b\"],[0.6666666666666666,\"#ed7953\"],[0.7777777777777778,\"#fb9f3a\"],[0.8888888888888888,\"#fdca26\"],[1.0,\"#f0f921\"]]}],\"surface\":[{\"type\":\"surface\",\"colorbar\":{\"outlinewidth\":0,\"ticks\":\"\"},\"colorscale\":[[0.0,\"#0d0887\"],[0.1111111111111111,\"#46039f\"],[0.2222222222222222,\"#7201a8\"],[0.3333333333333333,\"#9c179e\"],[0.4444444444444444,\"#bd3786\"],[0.5555555555555556,\"#d8576b\"],[0.6666666666666666,\"#ed7953\"],[0.7777777777777778,\"#fb9f3a\"],[0.8888888888888888,\"#fdca26\"],[1.0,\"#f0f921\"]]}],\"mesh3d\":[{\"type\":\"mesh3d\",\"colorbar\":{\"outlinewidth\":0,\"ticks\":\"\"}}],\"scatter\":[{\"fillpattern\":{\"fillmode\":\"overlay\",\"size\":10,\"solidity\":0.2},\"type\":\"scatter\"}],\"parcoords\":[{\"type\":\"parcoords\",\"line\":{\"colorbar\":{\"outlinewidth\":0,\"ticks\":\"\"}}}],\"scatterpolargl\":[{\"type\":\"scatterpolargl\",\"marker\":{\"colorbar\":{\"outlinewidth\":0,\"ticks\":\"\"}}}],\"bar\":[{\"error_x\":{\"color\":\"#2a3f5f\"},\"error_y\":{\"color\":\"#2a3f5f\"},\"marker\":{\"line\":{\"color\":\"#E5ECF6\",\"width\":0.5},\"pattern\":{\"fillmode\":\"overlay\",\"size\":10,\"solidity\":0.2}},\"type\":\"bar\"}],\"scattergeo\":[{\"type\":\"scattergeo\",\"marker\":{\"colorbar\":{\"outlinewidth\":0,\"ticks\":\"\"}}}],\"scatterpolar\":[{\"type\":\"scatterpolar\",\"marker\":{\"colorbar\":{\"outlinewidth\":0,\"ticks\":\"\"}}}],\"histogram\":[{\"marker\":{\"pattern\":{\"fillmode\":\"overlay\",\"size\":10,\"solidity\":0.2}},\"type\":\"histogram\"}],\"scattergl\":[{\"type\":\"scattergl\",\"marker\":{\"colorbar\":{\"outlinewidth\":0,\"ticks\":\"\"}}}],\"scatter3d\":[{\"type\":\"scatter3d\",\"line\":{\"colorbar\":{\"outlinewidth\":0,\"ticks\":\"\"}},\"marker\":{\"colorbar\":{\"outlinewidth\":0,\"ticks\":\"\"}}}],\"scattermapbox\":[{\"type\":\"scattermapbox\",\"marker\":{\"colorbar\":{\"outlinewidth\":0,\"ticks\":\"\"}}}],\"scatterternary\":[{\"type\":\"scatterternary\",\"marker\":{\"colorbar\":{\"outlinewidth\":0,\"ticks\":\"\"}}}],\"scattercarpet\":[{\"type\":\"scattercarpet\",\"marker\":{\"colorbar\":{\"outlinewidth\":0,\"ticks\":\"\"}}}],\"carpet\":[{\"aaxis\":{\"endlinecolor\":\"#2a3f5f\",\"gridcolor\":\"white\",\"linecolor\":\"white\",\"minorgridcolor\":\"white\",\"startlinecolor\":\"#2a3f5f\"},\"baxis\":{\"endlinecolor\":\"#2a3f5f\",\"gridcolor\":\"white\",\"linecolor\":\"white\",\"minorgridcolor\":\"white\",\"startlinecolor\":\"#2a3f5f\"},\"type\":\"carpet\"}],\"table\":[{\"cells\":{\"fill\":{\"color\":\"#EBF0F8\"},\"line\":{\"color\":\"white\"}},\"header\":{\"fill\":{\"color\":\"#C8D4E3\"},\"line\":{\"color\":\"white\"}},\"type\":\"table\"}],\"barpolar\":[{\"marker\":{\"line\":{\"color\":\"#E5ECF6\",\"width\":0.5},\"pattern\":{\"fillmode\":\"overlay\",\"size\":10,\"solidity\":0.2}},\"type\":\"barpolar\"}],\"pie\":[{\"automargin\":true,\"type\":\"pie\"}]},\"layout\":{\"autotypenumbers\":\"strict\",\"colorway\":[\"#636efa\",\"#EF553B\",\"#00cc96\",\"#ab63fa\",\"#FFA15A\",\"#19d3f3\",\"#FF6692\",\"#B6E880\",\"#FF97FF\",\"#FECB52\"],\"font\":{\"color\":\"#2a3f5f\"},\"hovermode\":\"closest\",\"hoverlabel\":{\"align\":\"left\"},\"paper_bgcolor\":\"white\",\"plot_bgcolor\":\"#E5ECF6\",\"polar\":{\"bgcolor\":\"#E5ECF6\",\"angularaxis\":{\"gridcolor\":\"white\",\"linecolor\":\"white\",\"ticks\":\"\"},\"radialaxis\":{\"gridcolor\":\"white\",\"linecolor\":\"white\",\"ticks\":\"\"}},\"ternary\":{\"bgcolor\":\"#E5ECF6\",\"aaxis\":{\"gridcolor\":\"white\",\"linecolor\":\"white\",\"ticks\":\"\"},\"baxis\":{\"gridcolor\":\"white\",\"linecolor\":\"white\",\"ticks\":\"\"},\"caxis\":{\"gridcolor\":\"white\",\"linecolor\":\"white\",\"ticks\":\"\"}},\"coloraxis\":{\"colorbar\":{\"outlinewidth\":0,\"ticks\":\"\"}},\"colorscale\":{\"sequential\":[[0.0,\"#0d0887\"],[0.1111111111111111,\"#46039f\"],[0.2222222222222222,\"#7201a8\"],[0.3333333333333333,\"#9c179e\"],[0.4444444444444444,\"#bd3786\"],[0.5555555555555556,\"#d8576b\"],[0.6666666666666666,\"#ed7953\"],[0.7777777777777778,\"#fb9f3a\"],[0.8888888888888888,\"#fdca26\"],[1.0,\"#f0f921\"]],\"sequentialminus\":[[0.0,\"#0d0887\"],[0.1111111111111111,\"#46039f\"],[0.2222222222222222,\"#7201a8\"],[0.3333333333333333,\"#9c179e\"],[0.4444444444444444,\"#bd3786\"],[0.5555555555555556,\"#d8576b\"],[0.6666666666666666,\"#ed7953\"],[0.7777777777777778,\"#fb9f3a\"],[0.8888888888888888,\"#fdca26\"],[1.0,\"#f0f921\"]],\"diverging\":[[0,\"#8e0152\"],[0.1,\"#c51b7d\"],[0.2,\"#de77ae\"],[0.3,\"#f1b6da\"],[0.4,\"#fde0ef\"],[0.5,\"#f7f7f7\"],[0.6,\"#e6f5d0\"],[0.7,\"#b8e186\"],[0.8,\"#7fbc41\"],[0.9,\"#4d9221\"],[1,\"#276419\"]]},\"xaxis\":{\"gridcolor\":\"white\",\"linecolor\":\"white\",\"ticks\":\"\",\"title\":{\"standoff\":15},\"zerolinecolor\":\"white\",\"automargin\":true,\"zerolinewidth\":2},\"yaxis\":{\"gridcolor\":\"white\",\"linecolor\":\"white\",\"ticks\":\"\",\"title\":{\"standoff\":15},\"zerolinecolor\":\"white\",\"automargin\":true,\"zerolinewidth\":2},\"scene\":{\"xaxis\":{\"backgroundcolor\":\"#E5ECF6\",\"gridcolor\":\"white\",\"linecolor\":\"white\",\"showbackground\":true,\"ticks\":\"\",\"zerolinecolor\":\"white\",\"gridwidth\":2},\"yaxis\":{\"backgroundcolor\":\"#E5ECF6\",\"gridcolor\":\"white\",\"linecolor\":\"white\",\"showbackground\":true,\"ticks\":\"\",\"zerolinecolor\":\"white\",\"gridwidth\":2},\"zaxis\":{\"backgroundcolor\":\"#E5ECF6\",\"gridcolor\":\"white\",\"linecolor\":\"white\",\"showbackground\":true,\"ticks\":\"\",\"zerolinecolor\":\"white\",\"gridwidth\":2}},\"shapedefaults\":{\"line\":{\"color\":\"#2a3f5f\"}},\"annotationdefaults\":{\"arrowcolor\":\"#2a3f5f\",\"arrowhead\":0,\"arrowwidth\":1},\"geo\":{\"bgcolor\":\"white\",\"landcolor\":\"#E5ECF6\",\"subunitcolor\":\"white\",\"showland\":true,\"showlakes\":true,\"lakecolor\":\"white\"},\"title\":{\"x\":0.05},\"mapbox\":{\"style\":\"light\"}}},\"xaxis\":{\"anchor\":\"y\",\"domain\":[0.0,1.0],\"title\":{\"text\":\"cluster\"}},\"yaxis\":{\"anchor\":\"x\",\"domain\":[0.0,1.0],\"title\":{\"text\":\"percent\"}},\"legend\":{\"tracegroupgap\":0},\"title\":{\"text\":\"Distribution of cluster in pass 4 using GMM in shawnee_location_2\"},\"barmode\":\"relative\",\"height\":300,\"width\":800},                        {\"responsive\": true}                    ).then(function(){\n",
       "                            \n",
       "var gd = document.getElementById('b03645be-1d04-4545-aafe-f64083dae076');\n",
       "var x = new MutationObserver(function (mutations, observer) {{\n",
       "        var display = window.getComputedStyle(gd).display;\n",
       "        if (!display || display === 'none') {{\n",
       "            console.log([gd, 'removed!']);\n",
       "            Plotly.purge(gd);\n",
       "            observer.disconnect();\n",
       "        }}\n",
       "}});\n",
       "\n",
       "// Listen for the removal of the full notebook cells\n",
       "var notebookContainer = gd.closest('#notebook-container');\n",
       "if (notebookContainer) {{\n",
       "    x.observe(notebookContainer, {childList: true});\n",
       "}}\n",
       "\n",
       "// Listen for the clearing of the current output cell\n",
       "var outputEl = gd.closest('.output');\n",
       "if (outputEl) {{\n",
       "    x.observe(outputEl, {childList: true});\n",
       "}}\n",
       "\n",
       "                        })                };                });            </script>        </div>"
      ]
     },
     "metadata": {},
     "output_type": "display_data"
    }
   ],
   "source": [
    "nbins=len(full_data.cluster.unique())\n",
    "\n",
    "for i in range(len(each_data)):\n",
    "    if i==0:\n",
    "        continue\n",
    "#     if each_data\n",
    "    title=f\"Distribution of cluster in pass {i} using {model_name} in {location_name}\"\n",
    "    \n",
    "    fig = px.histogram(each_data[i], \n",
    "                       x=\"cluster\",\n",
    "                       histnorm='percent',\n",
    "                       nbins=30,\n",
    "                       title=title,\n",
    "                       width=800,\n",
    "                       height=300\n",
    "                      )\n",
    "#     fig.write_image(folder_location/model_name/title/f\"_field_pass{passes[i]}.png\")\n",
    "    fig.show()"
   ]
  },
  {
   "cell_type": "code",
   "execution_count": 49,
   "id": "4e10a63b",
   "metadata": {},
   "outputs": [
    {
     "name": "stdout",
     "output_type": "stream",
     "text": [
      "Pass_no 1\n",
      "Total=226\n",
      "in each clusters [0.7610619469026548, 0.01327433628318584, 0.09734513274336283, 0.09734513274336283, 0.030973451327433628]\n",
      "Pass_no 2\n",
      "Total=186\n",
      "in each clusters [0.2903225806451613, 0.14516129032258066, 0.22043010752688172, 0.16666666666666666, 0.1774193548387097]\n",
      "Pass_no 3\n",
      "Total=187\n",
      "in each clusters [0.6577540106951871, 0.0374331550802139, 0.12299465240641712, 0.06417112299465241, 0.11764705882352941]\n",
      "Pass_no 4\n",
      "Total=234\n",
      "in each clusters [0.1623931623931624, 0.21367521367521367, 0.1282051282051282, 0.21367521367521367, 0.28205128205128205]\n"
     ]
    },
    {
     "data": {
      "text/html": [
       "<div>\n",
       "<style scoped>\n",
       "    .dataframe tbody tr th:only-of-type {\n",
       "        vertical-align: middle;\n",
       "    }\n",
       "\n",
       "    .dataframe tbody tr th {\n",
       "        vertical-align: top;\n",
       "    }\n",
       "\n",
       "    .dataframe thead th {\n",
       "        text-align: right;\n",
       "    }\n",
       "</style>\n",
       "<table border=\"1\" class=\"dataframe\">\n",
       "  <thead>\n",
       "    <tr style=\"text-align: right;\">\n",
       "      <th></th>\n",
       "      <th>Unnamed: 0</th>\n",
       "      <th>Unnamed: 0.1</th>\n",
       "      <th>timestamp</th>\n",
       "      <th>total_power</th>\n",
       "      <th>p0</th>\n",
       "      <th>p1</th>\n",
       "      <th>p2</th>\n",
       "      <th>p3</th>\n",
       "      <th>p4</th>\n",
       "      <th>p5</th>\n",
       "      <th>p6</th>\n",
       "      <th>cluster</th>\n",
       "      <th>pass_no</th>\n",
       "      <th>latitude</th>\n",
       "      <th>longitude</th>\n",
       "      <th>prev</th>\n",
       "      <th>change</th>\n",
       "      <th>first</th>\n",
       "      <th>last</th>\n",
       "    </tr>\n",
       "  </thead>\n",
       "  <tbody>\n",
       "    <tr>\n",
       "      <th>0</th>\n",
       "      <td>0</td>\n",
       "      <td>0</td>\n",
       "      <td>2023-01-16 17:35:24.120000+00:00</td>\n",
       "      <td>100.000000</td>\n",
       "      <td>-2.000000</td>\n",
       "      <td>0.375842</td>\n",
       "      <td>2.000000</td>\n",
       "      <td>1.754883</td>\n",
       "      <td>2.000000</td>\n",
       "      <td>2.000000</td>\n",
       "      <td>2.000000</td>\n",
       "      <td>3</td>\n",
       "      <td>1</td>\n",
       "      <td>35.671015</td>\n",
       "      <td>-96.662334</td>\n",
       "      <td>NaN</td>\n",
       "      <td>0</td>\n",
       "      <td>False</td>\n",
       "      <td>False</td>\n",
       "    </tr>\n",
       "    <tr>\n",
       "      <th>1</th>\n",
       "      <td>1</td>\n",
       "      <td>1</td>\n",
       "      <td>2023-01-16 17:35:24.257000+00:00</td>\n",
       "      <td>11.596138</td>\n",
       "      <td>-2.000000</td>\n",
       "      <td>-0.544107</td>\n",
       "      <td>0.913710</td>\n",
       "      <td>-0.976264</td>\n",
       "      <td>0.382378</td>\n",
       "      <td>-1.481994</td>\n",
       "      <td>-0.788455</td>\n",
       "      <td>0</td>\n",
       "      <td>1</td>\n",
       "      <td>35.671017</td>\n",
       "      <td>-96.662334</td>\n",
       "      <td>3.0</td>\n",
       "      <td>1</td>\n",
       "      <td>False</td>\n",
       "      <td>False</td>\n",
       "    </tr>\n",
       "    <tr>\n",
       "      <th>2</th>\n",
       "      <td>2</td>\n",
       "      <td>2</td>\n",
       "      <td>2023-01-16 17:35:24.384000+00:00</td>\n",
       "      <td>51.212139</td>\n",
       "      <td>-2.000000</td>\n",
       "      <td>-0.308310</td>\n",
       "      <td>-0.629798</td>\n",
       "      <td>-0.233850</td>\n",
       "      <td>-0.269963</td>\n",
       "      <td>0.157760</td>\n",
       "      <td>-0.727150</td>\n",
       "      <td>0</td>\n",
       "      <td>1</td>\n",
       "      <td>35.671019</td>\n",
       "      <td>-96.662334</td>\n",
       "      <td>0.0</td>\n",
       "      <td>0</td>\n",
       "      <td>False</td>\n",
       "      <td>False</td>\n",
       "    </tr>\n",
       "    <tr>\n",
       "      <th>3</th>\n",
       "      <td>3</td>\n",
       "      <td>3</td>\n",
       "      <td>2023-01-16 17:35:24.511000+00:00</td>\n",
       "      <td>39.000186</td>\n",
       "      <td>-0.789316</td>\n",
       "      <td>-1.122698</td>\n",
       "      <td>-0.707708</td>\n",
       "      <td>-0.530996</td>\n",
       "      <td>0.078025</td>\n",
       "      <td>-0.829679</td>\n",
       "      <td>0.202281</td>\n",
       "      <td>0</td>\n",
       "      <td>1</td>\n",
       "      <td>35.671021</td>\n",
       "      <td>-96.662334</td>\n",
       "      <td>0.0</td>\n",
       "      <td>0</td>\n",
       "      <td>False</td>\n",
       "      <td>False</td>\n",
       "    </tr>\n",
       "    <tr>\n",
       "      <th>4</th>\n",
       "      <td>4</td>\n",
       "      <td>4</td>\n",
       "      <td>2023-01-16 17:35:24.638000+00:00</td>\n",
       "      <td>22.034464</td>\n",
       "      <td>0.044584</td>\n",
       "      <td>-1.195729</td>\n",
       "      <td>-0.092707</td>\n",
       "      <td>-1.023929</td>\n",
       "      <td>-0.694603</td>\n",
       "      <td>-0.983712</td>\n",
       "      <td>-0.145223</td>\n",
       "      <td>0</td>\n",
       "      <td>1</td>\n",
       "      <td>35.671024</td>\n",
       "      <td>-96.662334</td>\n",
       "      <td>0.0</td>\n",
       "      <td>0</td>\n",
       "      <td>False</td>\n",
       "      <td>False</td>\n",
       "    </tr>\n",
       "    <tr>\n",
       "      <th>...</th>\n",
       "      <td>...</td>\n",
       "      <td>...</td>\n",
       "      <td>...</td>\n",
       "      <td>...</td>\n",
       "      <td>...</td>\n",
       "      <td>...</td>\n",
       "      <td>...</td>\n",
       "      <td>...</td>\n",
       "      <td>...</td>\n",
       "      <td>...</td>\n",
       "      <td>...</td>\n",
       "      <td>...</td>\n",
       "      <td>...</td>\n",
       "      <td>...</td>\n",
       "      <td>...</td>\n",
       "      <td>...</td>\n",
       "      <td>...</td>\n",
       "      <td>...</td>\n",
       "      <td>...</td>\n",
       "    </tr>\n",
       "    <tr>\n",
       "      <th>229</th>\n",
       "      <td>229</td>\n",
       "      <td>229</td>\n",
       "      <td>2023-01-16 17:39:37.213000+00:00</td>\n",
       "      <td>60.061274</td>\n",
       "      <td>1.487480</td>\n",
       "      <td>1.297874</td>\n",
       "      <td>-0.532700</td>\n",
       "      <td>-0.784099</td>\n",
       "      <td>0.910506</td>\n",
       "      <td>0.960998</td>\n",
       "      <td>1.057007</td>\n",
       "      <td>3</td>\n",
       "      <td>4</td>\n",
       "      <td>35.671487</td>\n",
       "      <td>-96.662337</td>\n",
       "      <td>2.0</td>\n",
       "      <td>0</td>\n",
       "      <td>False</td>\n",
       "      <td>True</td>\n",
       "    </tr>\n",
       "    <tr>\n",
       "      <th>230</th>\n",
       "      <td>230</td>\n",
       "      <td>230</td>\n",
       "      <td>2023-01-16 17:39:37.330000+00:00</td>\n",
       "      <td>61.202191</td>\n",
       "      <td>1.107628</td>\n",
       "      <td>1.397561</td>\n",
       "      <td>0.641673</td>\n",
       "      <td>0.030087</td>\n",
       "      <td>1.336552</td>\n",
       "      <td>0.105396</td>\n",
       "      <td>0.601427</td>\n",
       "      <td>3</td>\n",
       "      <td>4</td>\n",
       "      <td>35.671489</td>\n",
       "      <td>-96.662337</td>\n",
       "      <td>3.0</td>\n",
       "      <td>0</td>\n",
       "      <td>False</td>\n",
       "      <td>True</td>\n",
       "    </tr>\n",
       "    <tr>\n",
       "      <th>231</th>\n",
       "      <td>231</td>\n",
       "      <td>231</td>\n",
       "      <td>2023-01-16 17:39:37.467000+00:00</td>\n",
       "      <td>72.841157</td>\n",
       "      <td>0.863628</td>\n",
       "      <td>0.611317</td>\n",
       "      <td>2.000000</td>\n",
       "      <td>0.536560</td>\n",
       "      <td>0.864613</td>\n",
       "      <td>1.203702</td>\n",
       "      <td>0.178773</td>\n",
       "      <td>3</td>\n",
       "      <td>4</td>\n",
       "      <td>35.671491</td>\n",
       "      <td>-96.662337</td>\n",
       "      <td>3.0</td>\n",
       "      <td>0</td>\n",
       "      <td>False</td>\n",
       "      <td>True</td>\n",
       "    </tr>\n",
       "    <tr>\n",
       "      <th>232</th>\n",
       "      <td>232</td>\n",
       "      <td>232</td>\n",
       "      <td>2023-01-16 17:39:37.594000+00:00</td>\n",
       "      <td>47.461301</td>\n",
       "      <td>1.050667</td>\n",
       "      <td>-0.007594</td>\n",
       "      <td>1.268494</td>\n",
       "      <td>-0.579839</td>\n",
       "      <td>-0.020636</td>\n",
       "      <td>1.502925</td>\n",
       "      <td>-0.421109</td>\n",
       "      <td>4</td>\n",
       "      <td>4</td>\n",
       "      <td>35.671493</td>\n",
       "      <td>-96.662337</td>\n",
       "      <td>3.0</td>\n",
       "      <td>0</td>\n",
       "      <td>False</td>\n",
       "      <td>True</td>\n",
       "    </tr>\n",
       "    <tr>\n",
       "      <th>233</th>\n",
       "      <td>233</td>\n",
       "      <td>233</td>\n",
       "      <td>2023-01-16 17:39:37.721000+00:00</td>\n",
       "      <td>40.243643</td>\n",
       "      <td>1.344660</td>\n",
       "      <td>-0.291694</td>\n",
       "      <td>1.744152</td>\n",
       "      <td>-0.348850</td>\n",
       "      <td>0.035410</td>\n",
       "      <td>0.568369</td>\n",
       "      <td>-0.102121</td>\n",
       "      <td>4</td>\n",
       "      <td>4</td>\n",
       "      <td>35.671495</td>\n",
       "      <td>-96.662337</td>\n",
       "      <td>4.0</td>\n",
       "      <td>0</td>\n",
       "      <td>False</td>\n",
       "      <td>True</td>\n",
       "    </tr>\n",
       "  </tbody>\n",
       "</table>\n",
       "<p>833 rows × 19 columns</p>\n",
       "</div>"
      ],
      "text/plain": [
       "     Unnamed: 0  Unnamed: 0.1                         timestamp  total_power  \\\n",
       "0             0             0  2023-01-16 17:35:24.120000+00:00   100.000000   \n",
       "1             1             1  2023-01-16 17:35:24.257000+00:00    11.596138   \n",
       "2             2             2  2023-01-16 17:35:24.384000+00:00    51.212139   \n",
       "3             3             3  2023-01-16 17:35:24.511000+00:00    39.000186   \n",
       "4             4             4  2023-01-16 17:35:24.638000+00:00    22.034464   \n",
       "..          ...           ...                               ...          ...   \n",
       "229         229           229  2023-01-16 17:39:37.213000+00:00    60.061274   \n",
       "230         230           230  2023-01-16 17:39:37.330000+00:00    61.202191   \n",
       "231         231           231  2023-01-16 17:39:37.467000+00:00    72.841157   \n",
       "232         232           232  2023-01-16 17:39:37.594000+00:00    47.461301   \n",
       "233         233           233  2023-01-16 17:39:37.721000+00:00    40.243643   \n",
       "\n",
       "           p0        p1        p2        p3        p4        p5        p6  \\\n",
       "0   -2.000000  0.375842  2.000000  1.754883  2.000000  2.000000  2.000000   \n",
       "1   -2.000000 -0.544107  0.913710 -0.976264  0.382378 -1.481994 -0.788455   \n",
       "2   -2.000000 -0.308310 -0.629798 -0.233850 -0.269963  0.157760 -0.727150   \n",
       "3   -0.789316 -1.122698 -0.707708 -0.530996  0.078025 -0.829679  0.202281   \n",
       "4    0.044584 -1.195729 -0.092707 -1.023929 -0.694603 -0.983712 -0.145223   \n",
       "..        ...       ...       ...       ...       ...       ...       ...   \n",
       "229  1.487480  1.297874 -0.532700 -0.784099  0.910506  0.960998  1.057007   \n",
       "230  1.107628  1.397561  0.641673  0.030087  1.336552  0.105396  0.601427   \n",
       "231  0.863628  0.611317  2.000000  0.536560  0.864613  1.203702  0.178773   \n",
       "232  1.050667 -0.007594  1.268494 -0.579839 -0.020636  1.502925 -0.421109   \n",
       "233  1.344660 -0.291694  1.744152 -0.348850  0.035410  0.568369 -0.102121   \n",
       "\n",
       "     cluster  pass_no   latitude  longitude  prev  change  first   last  \n",
       "0          3        1  35.671015 -96.662334   NaN       0  False  False  \n",
       "1          0        1  35.671017 -96.662334   3.0       1  False  False  \n",
       "2          0        1  35.671019 -96.662334   0.0       0  False  False  \n",
       "3          0        1  35.671021 -96.662334   0.0       0  False  False  \n",
       "4          0        1  35.671024 -96.662334   0.0       0  False  False  \n",
       "..       ...      ...        ...        ...   ...     ...    ...    ...  \n",
       "229        3        4  35.671487 -96.662337   2.0       0  False   True  \n",
       "230        3        4  35.671489 -96.662337   3.0       0  False   True  \n",
       "231        3        4  35.671491 -96.662337   3.0       0  False   True  \n",
       "232        4        4  35.671493 -96.662337   3.0       0  False   True  \n",
       "233        4        4  35.671495 -96.662337   4.0       0  False   True  \n",
       "\n",
       "[833 rows x 19 columns]"
      ]
     },
     "execution_count": 49,
     "metadata": {},
     "output_type": "execute_result"
    }
   ],
   "source": [
    "to_look_data=full_data[full_data[\"pass_no\"]!=0]\n",
    "possible_clusters=[0,1,2,3,4]\n",
    "passes=np.sort(to_look_data[\"pass_no\"].unique())\n",
    "for i in passes:\n",
    "    total=len(to_look_data[to_look_data[\"pass_no\"]==i])\n",
    "    in_each_cluster=[len(to_look_data[(to_look_data[\"cluster\"]==p)&\n",
    "                                      (to_look_data[\"pass_no\"]==i)\n",
    "                                     ]) \n",
    "                     for p in possible_clusters]\n",
    "    print(f\"Pass_no {i}\")\n",
    "    print(f\"Total={total}\")\n",
    "    print(f\"in each clusters {[x/total for x in in_each_cluster]}\")\n",
    "    \n",
    "\n",
    "to_look_data"
   ]
  },
  {
   "cell_type": "code",
   "execution_count": 10,
   "id": "58299342",
   "metadata": {},
   "outputs": [
    {
     "data": {
      "application/vnd.plotly.v1+json": {
       "config": {
        "plotlyServerURL": "https://plot.ly"
       },
       "data": [
        {
         "customdata": [
          [
           "2023-01-16 17:35:24.120000+00:00",
           3
          ],
          [
           "2023-01-16 17:35:24.257000+00:00",
           0
          ],
          [
           "2023-01-16 17:35:24.384000+00:00",
           0
          ],
          [
           "2023-01-16 17:35:24.511000+00:00",
           0
          ],
          [
           "2023-01-16 17:35:24.638000+00:00",
           0
          ],
          [
           "2023-01-16 17:35:24.765000+00:00",
           0
          ],
          [
           "2023-01-16 17:35:24.892000+00:00",
           0
          ],
          [
           "2023-01-16 17:35:25.018000+00:00",
           3
          ],
          [
           "2023-01-16 17:35:25.146000+00:00",
           3
          ],
          [
           "2023-01-16 17:35:25.273000+00:00",
           0
          ],
          [
           "2023-01-16 17:35:25.390000+00:00",
           0
          ],
          [
           "2023-01-16 17:35:25.527000+00:00",
           1
          ],
          [
           "2023-01-16 17:35:25.654000+00:00",
           1
          ],
          [
           "2023-01-16 17:35:25.781000+00:00",
           0
          ],
          [
           "2023-01-16 17:35:25.907000+00:00",
           3
          ],
          [
           "2023-01-16 17:35:26.034000+00:00",
           2
          ],
          [
           "2023-01-16 17:35:26.162000+00:00",
           0
          ],
          [
           "2023-01-16 17:35:26.289000+00:00",
           0
          ],
          [
           "2023-01-16 17:35:26.416000+00:00",
           2
          ],
          [
           "2023-01-16 17:35:26.543000+00:00",
           0
          ],
          [
           "2023-01-16 17:35:26.660000+00:00",
           0
          ],
          [
           "2023-01-16 17:35:26.797000+00:00",
           0
          ],
          [
           "2023-01-16 17:35:26.924000+00:00",
           2
          ],
          [
           "2023-01-16 17:35:27.040000+00:00",
           2
          ],
          [
           "2023-01-16 17:35:27.178000+00:00",
           1
          ],
          [
           "2023-01-16 17:35:27.304000+00:00",
           3
          ],
          [
           "2023-01-16 17:35:27.432000+00:00",
           0
          ],
          [
           "2023-01-16 17:35:27.559000+00:00",
           0
          ],
          [
           "2023-01-16 17:35:27.686000+00:00",
           0
          ],
          [
           "2023-01-16 17:35:27.813000+00:00",
           0
          ],
          [
           "2023-01-16 17:35:27.930000+00:00",
           2
          ],
          [
           "2023-01-16 17:35:28.066000+00:00",
           4
          ],
          [
           "2023-01-16 17:35:28.194000+00:00",
           3
          ],
          [
           "2023-01-16 17:35:28.321000+00:00",
           0
          ],
          [
           "2023-01-16 17:35:28.448000+00:00",
           0
          ],
          [
           "2023-01-16 17:35:28.575000+00:00",
           0
          ],
          [
           "2023-01-16 17:35:28.701000+00:00",
           0
          ],
          [
           "2023-01-16 17:35:28.829000+00:00",
           2
          ],
          [
           "2023-01-16 17:35:28.956000+00:00",
           3
          ],
          [
           "2023-01-16 17:35:29.082000+00:00",
           0
          ],
          [
           "2023-01-16 17:35:29.209000+00:00",
           0
          ],
          [
           "2023-01-16 17:35:29.337000+00:00",
           0
          ],
          [
           "2023-01-16 17:35:29.464000+00:00",
           0
          ],
          [
           "2023-01-16 17:35:29.591000+00:00",
           0
          ],
          [
           "2023-01-16 17:35:29.718000+00:00",
           0
          ],
          [
           "2023-01-16 17:35:29.845000+00:00",
           0
          ],
          [
           "2023-01-16 17:35:29.972000+00:00",
           0
          ],
          [
           "2023-01-16 17:35:30.098000+00:00",
           2
          ],
          [
           "2023-01-16 17:35:30.226000+00:00",
           0
          ],
          [
           "2023-01-16 17:35:30.353000+00:00",
           0
          ],
          [
           "2023-01-16 17:35:30.470000+00:00",
           0
          ],
          [
           "2023-01-16 17:35:30.606000+00:00",
           0
          ],
          [
           "2023-01-16 17:35:30.734000+00:00",
           0
          ],
          [
           "2023-01-16 17:35:30.861000+00:00",
           0
          ],
          [
           "2023-01-16 17:35:30.988000+00:00",
           0
          ],
          [
           "2023-01-16 17:35:31.115000+00:00",
           0
          ],
          [
           "2023-01-16 17:35:31.242000+00:00",
           0
          ],
          [
           "2023-01-16 17:35:31.369000+00:00",
           0
          ],
          [
           "2023-01-16 17:35:31.496000+00:00",
           0
          ],
          [
           "2023-01-16 17:35:31.623000+00:00",
           0
          ],
          [
           "2023-01-16 17:35:31.740000+00:00",
           0
          ],
          [
           "2023-01-16 17:35:31.877000+00:00",
           0
          ],
          [
           "2023-01-16 17:35:32.002000+00:00",
           3
          ],
          [
           "2023-01-16 17:35:32.131000+00:00",
           3
          ],
          [
           "2023-01-16 17:35:32.258000+00:00",
           0
          ],
          [
           "2023-01-16 17:35:32.385000+00:00",
           3
          ],
          [
           "2023-01-16 17:35:32.512000+00:00",
           0
          ],
          [
           "2023-01-16 17:35:32.639000+00:00",
           0
          ],
          [
           "2023-01-16 17:35:32.766000+00:00",
           0
          ],
          [
           "2023-01-16 17:35:32.893000+00:00",
           0
          ],
          [
           "2023-01-16 17:35:33.019000+00:00",
           0
          ],
          [
           "2023-01-16 17:35:33.147000+00:00",
           0
          ],
          [
           "2023-01-16 17:35:33.274000+00:00",
           0
          ],
          [
           "2023-01-16 17:35:33.300000+00:00",
           0
          ],
          [
           "2023-01-16 17:35:33.528000+00:00",
           0
          ],
          [
           "2023-01-16 17:35:33.655000+00:00",
           0
          ],
          [
           "2023-01-16 17:35:33.782000+00:00",
           0
          ],
          [
           "2023-01-16 17:35:33.908000+00:00",
           0
          ],
          [
           "2023-01-16 17:35:34.035000+00:00",
           0
          ],
          [
           "2023-01-16 17:35:34.163000+00:00",
           0
          ],
          [
           "2023-01-16 17:35:34.280000+00:00",
           0
          ],
          [
           "2023-01-16 17:35:34.417000+00:00",
           0
          ],
          [
           "2023-01-16 17:35:34.544000+00:00",
           0
          ],
          [
           "2023-01-16 17:35:34.671000+00:00",
           0
          ],
          [
           "2023-01-16 17:35:34.798000+00:00",
           0
          ],
          [
           "2023-01-16 17:35:34.925000+00:00",
           0
          ],
          [
           "2023-01-16 17:35:35.051000+00:00",
           0
          ],
          [
           "2023-01-16 17:35:35.179000+00:00",
           0
          ],
          [
           "2023-01-16 17:35:35.305000+00:00",
           0
          ],
          [
           "2023-01-16 17:35:35.433000+00:00",
           0
          ],
          [
           "2023-01-16 17:35:35.550000+00:00",
           0
          ],
          [
           "2023-01-16 17:35:35.687000+00:00",
           0
          ],
          [
           "2023-01-16 17:35:35.814000+00:00",
           0
          ],
          [
           "2023-01-16 17:35:35.941000+00:00",
           0
          ],
          [
           "2023-01-16 17:35:36.067000+00:00",
           3
          ],
          [
           "2023-01-16 17:35:36.195000+00:00",
           0
          ],
          [
           "2023-01-16 17:35:36.322000+00:00",
           3
          ],
          [
           "2023-01-16 17:35:36.449000+00:00",
           0
          ],
          [
           "2023-01-16 17:35:36.576000+00:00",
           0
          ],
          [
           "2023-01-16 17:35:36.702000+00:00",
           0
          ],
          [
           "2023-01-16 17:35:36.820000+00:00",
           0
          ],
          [
           "2023-01-16 17:35:36.957000+00:00",
           0
          ],
          [
           "2023-01-16 17:35:37.083000+00:00",
           3
          ],
          [
           "2023-01-16 17:35:37.211000+00:00",
           3
          ],
          [
           "2023-01-16 17:35:37.338000+00:00",
           0
          ],
          [
           "2023-01-16 17:35:37.465000+00:00",
           0
          ],
          [
           "2023-01-16 17:35:37.592000+00:00",
           0
          ],
          [
           "2023-01-16 17:35:37.719000+00:00",
           0
          ],
          [
           "2023-01-16 17:35:37.846000+00:00",
           0
          ],
          [
           "2023-01-16 17:35:37.973000+00:00",
           0
          ],
          [
           "2023-01-16 17:35:38.099000+00:00",
           0
          ],
          [
           "2023-01-16 17:35:38.227000+00:00",
           0
          ],
          [
           "2023-01-16 17:35:38.354000+00:00",
           0
          ],
          [
           "2023-01-16 17:35:38.481000+00:00",
           4
          ],
          [
           "2023-01-16 17:35:38.607000+00:00",
           0
          ],
          [
           "2023-01-16 17:35:38.735000+00:00",
           0
          ],
          [
           "2023-01-16 17:35:38.862000+00:00",
           0
          ],
          [
           "2023-01-16 17:35:38.989000+00:00",
           0
          ],
          [
           "2023-01-16 17:35:39.116000+00:00",
           0
          ],
          [
           "2023-01-16 17:35:39.243000+00:00",
           0
          ],
          [
           "2023-01-16 17:35:39.360000+00:00",
           0
          ],
          [
           "2023-01-16 17:35:39.497000+00:00",
           4
          ],
          [
           "2023-01-16 17:35:39.624000+00:00",
           4
          ],
          [
           "2023-01-16 17:35:39.751000+00:00",
           0
          ],
          [
           "2023-01-16 17:35:39.878000+00:00",
           4
          ],
          [
           "2023-01-16 17:35:40.003000+00:00",
           0
          ],
          [
           "2023-01-16 17:35:40.132000+00:00",
           2
          ],
          [
           "2023-01-16 17:35:40.259000+00:00",
           2
          ],
          [
           "2023-01-16 17:35:40.386000+00:00",
           0
          ],
          [
           "2023-01-16 17:35:40.513000+00:00",
           0
          ],
          [
           "2023-01-16 17:35:40.630000+00:00",
           0
          ],
          [
           "2023-01-16 17:35:40.767000+00:00",
           0
          ],
          [
           "2023-01-16 17:35:40.894000+00:00",
           2
          ],
          [
           "2023-01-16 17:35:41.010000+00:00",
           2
          ],
          [
           "2023-01-16 17:35:41.148000+00:00",
           2
          ],
          [
           "2023-01-16 17:35:41.275000+00:00",
           0
          ],
          [
           "2023-01-16 17:35:41.401000+00:00",
           0
          ],
          [
           "2023-01-16 17:35:41.529000+00:00",
           0
          ],
          [
           "2023-01-16 17:35:41.656000+00:00",
           0
          ],
          [
           "2023-01-16 17:35:41.783000+00:00",
           0
          ],
          [
           "2023-01-16 17:35:41.909000+00:00",
           0
          ],
          [
           "2023-01-16 17:35:42.036000+00:00",
           3
          ],
          [
           "2023-01-16 17:35:42.164000+00:00",
           0
          ],
          [
           "2023-01-16 17:35:42.291000+00:00",
           2
          ],
          [
           "2023-01-16 17:35:42.418000+00:00",
           0
          ],
          [
           "2023-01-16 17:35:42.545000+00:00",
           0
          ],
          [
           "2023-01-16 17:35:42.672000+00:00",
           0
          ],
          [
           "2023-01-16 17:35:42.799000+00:00",
           0
          ],
          [
           "2023-01-16 17:35:42.926000+00:00",
           0
          ],
          [
           "2023-01-16 17:35:43.052000+00:00",
           0
          ],
          [
           "2023-01-16 17:35:43.170000+00:00",
           0
          ],
          [
           "2023-01-16 17:35:43.306000+00:00",
           0
          ],
          [
           "2023-01-16 17:35:43.434000+00:00",
           0
          ],
          [
           "2023-01-16 17:35:43.561000+00:00",
           0
          ],
          [
           "2023-01-16 17:35:43.688000+00:00",
           0
          ],
          [
           "2023-01-16 17:35:43.815000+00:00",
           0
          ],
          [
           "2023-01-16 17:35:43.942000+00:00",
           4
          ],
          [
           "2023-01-16 17:35:44.068000+00:00",
           3
          ],
          [
           "2023-01-16 17:35:44.196000+00:00",
           0
          ],
          [
           "2023-01-16 17:35:44.323000+00:00",
           2
          ],
          [
           "2023-01-16 17:35:44.440000+00:00",
           0
          ],
          [
           "2023-01-16 17:35:44.577000+00:00",
           0
          ],
          [
           "2023-01-16 17:35:44.703000+00:00",
           0
          ],
          [
           "2023-01-16 17:35:44.831000+00:00",
           0
          ],
          [
           "2023-01-16 17:35:44.958000+00:00",
           0
          ],
          [
           "2023-01-16 17:35:45.084000+00:00",
           0
          ],
          [
           "2023-01-16 17:35:45.212000+00:00",
           0
          ],
          [
           "2023-01-16 17:35:45.339000+00:00",
           0
          ],
          [
           "2023-01-16 17:35:45.466000+00:00",
           3
          ],
          [
           "2023-01-16 17:35:45.593000+00:00",
           0
          ],
          [
           "2023-01-16 17:35:45.710000+00:00",
           0
          ],
          [
           "2023-01-16 17:35:45.847000+00:00",
           0
          ],
          [
           "2023-01-16 17:35:45.974000+00:00",
           0
          ],
          [
           "2023-01-16 17:35:46.090000+00:00",
           3
          ],
          [
           "2023-01-16 17:35:46.228000+00:00",
           0
          ],
          [
           "2023-01-16 17:35:46.355000+00:00",
           0
          ],
          [
           "2023-01-16 17:35:46.482000+00:00",
           0
          ],
          [
           "2023-01-16 17:35:46.608000+00:00",
           0
          ],
          [
           "2023-01-16 17:35:46.736000+00:00",
           0
          ],
          [
           "2023-01-16 17:35:46.863000+00:00",
           0
          ],
          [
           "2023-01-16 17:35:46.980000+00:00",
           0
          ],
          [
           "2023-01-16 17:35:47.117000+00:00",
           0
          ],
          [
           "2023-01-16 17:35:47.244000+00:00",
           0
          ],
          [
           "2023-01-16 17:35:47.371000+00:00",
           0
          ],
          [
           "2023-01-16 17:35:47.498000+00:00",
           0
          ],
          [
           "2023-01-16 17:35:47.625000+00:00",
           0
          ],
          [
           "2023-01-16 17:35:47.752000+00:00",
           0
          ],
          [
           "2023-01-16 17:35:47.879000+00:00",
           0
          ],
          [
           "2023-01-16 17:35:48.004000+00:00",
           0
          ],
          [
           "2023-01-16 17:35:48.133000+00:00",
           0
          ],
          [
           "2023-01-16 17:35:48.250000+00:00",
           0
          ],
          [
           "2023-01-16 17:35:48.387000+00:00",
           2
          ],
          [
           "2023-01-16 17:35:48.514000+00:00",
           3
          ],
          [
           "2023-01-16 17:35:48.641000+00:00",
           0
          ],
          [
           "2023-01-16 17:35:48.768000+00:00",
           0
          ],
          [
           "2023-01-16 17:35:48.895000+00:00",
           0
          ],
          [
           "2023-01-16 17:35:49.021000+00:00",
           0
          ],
          [
           "2023-01-16 17:35:49.149000+00:00",
           0
          ],
          [
           "2023-01-16 17:35:49.276000+00:00",
           0
          ],
          [
           "2023-01-16 17:35:49.402000+00:00",
           0
          ],
          [
           "2023-01-16 17:35:49.520000+00:00",
           0
          ],
          [
           "2023-01-16 17:35:49.657000+00:00",
           0
          ],
          [
           "2023-01-16 17:35:49.784000+00:00",
           0
          ],
          [
           "2023-01-16 17:35:49.911000+00:00",
           0
          ],
          [
           "2023-01-16 17:35:50.037000+00:00",
           0
          ],
          [
           "2023-01-16 17:35:50.165000+00:00",
           2
          ],
          [
           "2023-01-16 17:35:50.292000+00:00",
           3
          ],
          [
           "2023-01-16 17:35:50.419000+00:00",
           2
          ],
          [
           "2023-01-16 17:35:50.546000+00:00",
           2
          ],
          [
           "2023-01-16 17:35:50.673000+00:00",
           0
          ],
          [
           "2023-01-16 17:35:50.790000+00:00",
           4
          ],
          [
           "2023-01-16 17:35:50.927000+00:00",
           0
          ],
          [
           "2023-01-16 17:35:51.053000+00:00",
           0
          ],
          [
           "2023-01-16 17:35:51.181000+00:00",
           0
          ],
          [
           "2023-01-16 17:35:51.307000+00:00",
           3
          ],
          [
           "2023-01-16 17:35:51.435000+00:00",
           2
          ],
          [
           "2023-01-16 17:35:51.562000+00:00",
           0
          ],
          [
           "2023-01-16 17:35:51.689000+00:00",
           0
          ],
          [
           "2023-01-16 17:35:51.816000+00:00",
           0
          ],
          [
           "2023-01-16 17:35:51.943000+00:00",
           0
          ],
          [
           "2023-01-16 17:35:52.069000+00:00",
           0
          ],
          [
           "2023-01-16 17:35:52.197000+00:00",
           2
          ],
          [
           "2023-01-16 17:35:52.324000+00:00",
           2
          ],
          [
           "2023-01-16 17:35:52.451000+00:00",
           0
          ],
          [
           "2023-01-16 17:35:52.578000+00:00",
           2
          ],
          [
           "2023-01-16 17:35:52.704000+00:00",
           3
          ],
          [
           "2023-01-16 17:36:52.120000+00:00",
           3
          ],
          [
           "2023-01-16 17:36:52.365000+00:00",
           1
          ],
          [
           "2023-01-16 17:36:52.492000+00:00",
           2
          ],
          [
           "2023-01-16 17:36:52.619000+00:00",
           1
          ],
          [
           "2023-01-16 17:36:52.746000+00:00",
           1
          ],
          [
           "2023-01-16 17:36:52.873000+00:00",
           1
          ],
          [
           "2023-01-16 17:36:52.990000+00:00",
           0
          ],
          [
           "2023-01-16 17:36:53.127000+00:00",
           0
          ],
          [
           "2023-01-16 17:36:53.254000+00:00",
           4
          ],
          [
           "2023-01-16 17:36:53.381000+00:00",
           3
          ],
          [
           "2023-01-16 17:36:53.507000+00:00",
           2
          ],
          [
           "2023-01-16 17:36:53.635000+00:00",
           2
          ],
          [
           "2023-01-16 17:36:53.762000+00:00",
           4
          ],
          [
           "2023-01-16 17:36:53.889000+00:00",
           0
          ],
          [
           "2023-01-16 17:36:54.015000+00:00",
           0
          ],
          [
           "2023-01-16 17:36:54.143000+00:00",
           3
          ],
          [
           "2023-01-16 17:36:54.260000+00:00",
           0
          ],
          [
           "2023-01-16 17:36:54.397000+00:00",
           2
          ],
          [
           "2023-01-16 17:36:54.524000+00:00",
           0
          ],
          [
           "2023-01-16 17:36:54.651000+00:00",
           2
          ],
          [
           "2023-01-16 17:36:54.778000+00:00",
           0
          ],
          [
           "2023-01-16 17:36:54.904000+00:00",
           0
          ],
          [
           "2023-01-16 17:36:55.031000+00:00",
           4
          ],
          [
           "2023-01-16 17:36:55.159000+00:00",
           0
          ],
          [
           "2023-01-16 17:36:55.286000+00:00",
           2
          ],
          [
           "2023-01-16 17:36:55.413000+00:00",
           3
          ],
          [
           "2023-01-16 17:36:55.530000+00:00",
           3
          ],
          [
           "2023-01-16 17:36:55.667000+00:00",
           0
          ],
          [
           "2023-01-16 17:36:55.794000+00:00",
           0
          ],
          [
           "2023-01-16 17:36:55.921000+00:00",
           0
          ],
          [
           "2023-01-16 17:36:56.047000+00:00",
           0
          ],
          [
           "2023-01-16 17:36:56.175000+00:00",
           0
          ],
          [
           "2023-01-16 17:36:56.301000+00:00",
           0
          ],
          [
           "2023-01-16 17:36:56.429000+00:00",
           3
          ],
          [
           "2023-01-16 17:36:56.556000+00:00",
           2
          ],
          [
           "2023-01-16 17:36:56.683000+00:00",
           2
          ],
          [
           "2023-01-16 17:36:56.809000+00:00",
           4
          ],
          [
           "2023-01-16 17:36:56.937000+00:00",
           4
          ],
          [
           "2023-01-16 17:36:57.063000+00:00",
           0
          ],
          [
           "2023-01-16 17:36:57.191000+00:00",
           0
          ],
          [
           "2023-01-16 17:36:57.318000+00:00",
           3
          ],
          [
           "2023-01-16 17:36:57.445000+00:00",
           0
          ],
          [
           "2023-01-16 17:36:57.613000+00:00",
           3
          ],
          [
           "2023-01-16 17:36:57.730000+00:00",
           2
          ],
          [
           "2023-01-16 17:36:57.867000+00:00",
           2
          ],
          [
           "2023-01-16 17:36:57.994000+00:00",
           0
          ],
          [
           "2023-01-16 17:36:58.121000+00:00",
           0
          ],
          [
           "2023-01-16 17:36:58.248000+00:00",
           0
          ],
          [
           "2023-01-16 17:36:58.375000+00:00",
           4
          ],
          [
           "2023-01-16 17:36:58.501000+00:00",
           3
          ],
          [
           "2023-01-16 17:36:58.629000+00:00",
           3
          ],
          [
           "2023-01-16 17:36:58.756000+00:00",
           2
          ],
          [
           "2023-01-16 17:36:58.883000+00:00",
           0
          ],
          [
           "2023-01-16 17:36:59.008000+00:00",
           0
          ],
          [
           "2023-01-16 17:36:59.137000+00:00",
           4
          ],
          [
           "2023-01-16 17:36:59.264000+00:00",
           0
          ],
          [
           "2023-01-16 17:36:59.391000+00:00",
           0
          ],
          [
           "2023-01-16 17:36:59.518000+00:00",
           2
          ],
          [
           "2023-01-16 17:36:59.645000+00:00",
           2
          ],
          [
           "2023-01-16 17:36:59.772000+00:00",
           2
          ],
          [
           "2023-01-16 17:36:59.899000+00:00",
           2
          ],
          [
           "2023-01-16 17:37:00.025000+00:00",
           4
          ],
          [
           "2023-01-16 17:37:00.153000+00:00",
           0
          ],
          [
           "2023-01-16 17:37:00.270000+00:00",
           0
          ],
          [
           "2023-01-16 17:37:00.406000+00:00",
           0
          ],
          [
           "2023-01-16 17:37:00.534000+00:00",
           3
          ],
          [
           "2023-01-16 17:37:00.661000+00:00",
           3
          ],
          [
           "2023-01-16 17:37:00.788000+00:00",
           2
          ],
          [
           "2023-01-16 17:37:00.915000+00:00",
           2
          ],
          [
           "2023-01-16 17:37:01.041000+00:00",
           4
          ],
          [
           "2023-01-16 17:37:01.169000+00:00",
           4
          ],
          [
           "2023-01-16 17:37:01.296000+00:00",
           1
          ],
          [
           "2023-01-16 17:37:01.423000+00:00",
           1
          ],
          [
           "2023-01-16 17:37:01.540000+00:00",
           0
          ],
          [
           "2023-01-16 17:37:01.677000+00:00",
           3
          ],
          [
           "2023-01-16 17:37:01.803000+00:00",
           2
          ],
          [
           "2023-01-16 17:37:01.931000+00:00",
           2
          ],
          [
           "2023-01-16 17:37:02.057000+00:00",
           2
          ],
          [
           "2023-01-16 17:37:02.185000+00:00",
           0
          ],
          [
           "2023-01-16 17:37:02.312000+00:00",
           0
          ],
          [
           "2023-01-16 17:37:02.439000+00:00",
           1
          ],
          [
           "2023-01-16 17:37:02.566000+00:00",
           0
          ],
          [
           "2023-01-16 17:37:02.693000+00:00",
           1
          ],
          [
           "2023-01-16 17:37:02.810000+00:00",
           2
          ],
          [
           "2023-01-16 17:37:02.947000+00:00",
           3
          ],
          [
           "2023-01-16 17:37:03.073000+00:00",
           4
          ],
          [
           "2023-01-16 17:37:03.100000+00:00",
           4
          ],
          [
           "2023-01-16 17:37:03.328000+00:00",
           1
          ],
          [
           "2023-01-16 17:37:03.455000+00:00",
           1
          ],
          [
           "2023-01-16 17:37:03.582000+00:00",
           4
          ],
          [
           "2023-01-16 17:37:03.708000+00:00",
           3
          ],
          [
           "2023-01-16 17:37:03.836000+00:00",
           2
          ],
          [
           "2023-01-16 17:37:03.963000+00:00",
           2
          ],
          [
           "2023-01-16 17:37:04.089000+00:00",
           2
          ],
          [
           "2023-01-16 17:37:04.217000+00:00",
           4
          ],
          [
           "2023-01-16 17:37:04.344000+00:00",
           1
          ],
          [
           "2023-01-16 17:37:04.471000+00:00",
           1
          ],
          [
           "2023-01-16 17:37:04.598000+00:00",
           1
          ],
          [
           "2023-01-16 17:37:04.725000+00:00",
           3
          ],
          [
           "2023-01-16 17:37:04.852000+00:00",
           3
          ],
          [
           "2023-01-16 17:37:04.979000+00:00",
           3
          ],
          [
           "2023-01-16 17:37:05.105000+00:00",
           0
          ],
          [
           "2023-01-16 17:37:05.233000+00:00",
           4
          ],
          [
           "2023-01-16 17:37:05.350000+00:00",
           0
          ],
          [
           "2023-01-16 17:37:05.487000+00:00",
           1
          ],
          [
           "2023-01-16 17:37:05.614000+00:00",
           1
          ],
          [
           "2023-01-16 17:37:05.741000+00:00",
           1
          ],
          [
           "2023-01-16 17:37:05.868000+00:00",
           2
          ],
          [
           "2023-01-16 17:37:05.995000+00:00",
           2
          ],
          [
           "2023-01-16 17:37:06.122000+00:00",
           2
          ],
          [
           "2023-01-16 17:37:06.249000+00:00",
           4
          ],
          [
           "2023-01-16 17:37:06.376000+00:00",
           0
          ],
          [
           "2023-01-16 17:37:06.502000+00:00",
           1
          ],
          [
           "2023-01-16 17:37:06.620000+00:00",
           1
          ],
          [
           "2023-01-16 17:37:06.757000+00:00",
           3
          ],
          [
           "2023-01-16 17:37:06.884000+00:00",
           3
          ],
          [
           "2023-01-16 17:37:07.009000+00:00",
           4
          ],
          [
           "2023-01-16 17:37:07.138000+00:00",
           0
          ],
          [
           "2023-01-16 17:37:07.265000+00:00",
           0
          ],
          [
           "2023-01-16 17:37:07.392000+00:00",
           4
          ],
          [
           "2023-01-16 17:37:07.519000+00:00",
           1
          ],
          [
           "2023-01-16 17:37:07.646000+00:00",
           1
          ],
          [
           "2023-01-16 17:37:07.773000+00:00",
           0
          ],
          [
           "2023-01-16 17:37:07.890000+00:00",
           4
          ],
          [
           "2023-01-16 17:37:08.026000+00:00",
           0
          ],
          [
           "2023-01-16 17:37:08.154000+00:00",
           2
          ],
          [
           "2023-01-16 17:37:08.281000+00:00",
           0
          ],
          [
           "2023-01-16 17:37:08.407000+00:00",
           0
          ],
          [
           "2023-01-16 17:37:08.535000+00:00",
           0
          ],
          [
           "2023-01-16 17:37:08.662000+00:00",
           0
          ],
          [
           "2023-01-16 17:37:08.789000+00:00",
           3
          ],
          [
           "2023-01-16 17:37:08.916000+00:00",
           3
          ],
          [
           "2023-01-16 17:37:09.042000+00:00",
           2
          ],
          [
           "2023-01-16 17:37:09.160000+00:00",
           0
          ],
          [
           "2023-01-16 17:37:09.297000+00:00",
           4
          ],
          [
           "2023-01-16 17:37:09.424000+00:00",
           3
          ],
          [
           "2023-01-16 17:37:09.551000+00:00",
           1
          ],
          [
           "2023-01-16 17:37:09.678000+00:00",
           4
          ],
          [
           "2023-01-16 17:37:09.804000+00:00",
           3
          ],
          [
           "2023-01-16 17:37:09.932000+00:00",
           1
          ],
          [
           "2023-01-16 17:37:10.058000+00:00",
           1
          ],
          [
           "2023-01-16 17:37:10.186000+00:00",
           3
          ],
          [
           "2023-01-16 17:37:10.313000+00:00",
           3
          ],
          [
           "2023-01-16 17:37:10.430000+00:00",
           1
          ],
          [
           "2023-01-16 17:37:10.567000+00:00",
           1
          ],
          [
           "2023-01-16 17:37:10.694000+00:00",
           1
          ],
          [
           "2023-01-16 17:37:10.821000+00:00",
           1
          ],
          [
           "2023-01-16 17:37:10.948000+00:00",
           2
          ],
          [
           "2023-01-16 17:37:11.074000+00:00",
           3
          ],
          [
           "2023-01-16 17:37:11.201000+00:00",
           0
          ],
          [
           "2023-01-16 17:37:11.329000+00:00",
           4
          ],
          [
           "2023-01-16 17:37:11.456000+00:00",
           0
          ],
          [
           "2023-01-16 17:37:11.583000+00:00",
           4
          ],
          [
           "2023-01-16 17:37:11.709000+00:00",
           0
          ],
          [
           "2023-01-16 17:37:11.837000+00:00",
           2
          ],
          [
           "2023-01-16 17:37:11.964000+00:00",
           4
          ],
          [
           "2023-01-16 17:37:12.080000+00:00",
           2
          ],
          [
           "2023-01-16 17:37:12.218000+00:00",
           2
          ],
          [
           "2023-01-16 17:37:12.345000+00:00",
           2
          ],
          [
           "2023-01-16 17:37:12.472000+00:00",
           0
          ],
          [
           "2023-01-16 17:37:12.599000+00:00",
           0
          ],
          [
           "2023-01-16 17:37:12.726000+00:00",
           0
          ],
          [
           "2023-01-16 17:37:12.853000+00:00",
           4
          ],
          [
           "2023-01-16 17:37:12.970000+00:00",
           3
          ],
          [
           "2023-01-16 17:37:13.106000+00:00",
           3
          ],
          [
           "2023-01-16 17:37:13.234000+00:00",
           2
          ],
          [
           "2023-01-16 17:37:13.361000+00:00",
           0
          ],
          [
           "2023-01-16 17:37:13.488000+00:00",
           3
          ],
          [
           "2023-01-16 17:37:13.615000+00:00",
           0
          ],
          [
           "2023-01-16 17:37:13.742000+00:00",
           4
          ],
          [
           "2023-01-16 17:37:13.869000+00:00",
           4
          ],
          [
           "2023-01-16 17:37:13.996000+00:00",
           0
          ],
          [
           "2023-01-16 17:37:14.123000+00:00",
           2
          ],
          [
           "2023-01-16 17:37:14.240000+00:00",
           3
          ],
          [
           "2023-01-16 17:37:14.377000+00:00",
           2
          ],
          [
           "2023-01-16 17:37:14.503000+00:00",
           2
          ],
          [
           "2023-01-16 17:37:14.631000+00:00",
           4
          ],
          [
           "2023-01-16 17:37:14.758000+00:00",
           4
          ],
          [
           "2023-01-16 17:37:14.885000+00:00",
           4
          ],
          [
           "2023-01-16 17:37:15.011000+00:00",
           0
          ],
          [
           "2023-01-16 17:37:15.139000+00:00",
           2
          ],
          [
           "2023-01-16 17:37:15.266000+00:00",
           2
          ],
          [
           "2023-01-16 17:37:15.393000+00:00",
           2
          ],
          [
           "2023-01-16 17:37:15.510000+00:00",
           4
          ],
          [
           "2023-01-16 17:37:15.647000+00:00",
           4
          ],
          [
           "2023-01-16 17:37:15.774000+00:00",
           4
          ],
          [
           "2023-01-16 17:38:04.120000+00:00",
           3
          ],
          [
           "2023-01-16 17:38:04.257000+00:00",
           1
          ],
          [
           "2023-01-16 17:38:04.384000+00:00",
           0
          ],
          [
           "2023-01-16 17:38:04.511000+00:00",
           0
          ],
          [
           "2023-01-16 17:38:04.638000+00:00",
           0
          ],
          [
           "2023-01-16 17:38:04.765000+00:00",
           0
          ],
          [
           "2023-01-16 17:38:04.892000+00:00",
           0
          ],
          [
           "2023-01-16 17:38:05.018000+00:00",
           0
          ],
          [
           "2023-01-16 17:38:05.146000+00:00",
           0
          ],
          [
           "2023-01-16 17:38:05.273000+00:00",
           4
          ],
          [
           "2023-01-16 17:38:05.390000+00:00",
           0
          ],
          [
           "2023-01-16 17:38:05.527000+00:00",
           4
          ],
          [
           "2023-01-16 17:38:05.654000+00:00",
           2
          ],
          [
           "2023-01-16 17:38:05.781000+00:00",
           0
          ],
          [
           "2023-01-16 17:38:05.907000+00:00",
           2
          ],
          [
           "2023-01-16 17:38:06.034000+00:00",
           0
          ],
          [
           "2023-01-16 17:38:06.162000+00:00",
           4
          ],
          [
           "2023-01-16 17:38:06.289000+00:00",
           4
          ],
          [
           "2023-01-16 17:38:06.416000+00:00",
           0
          ],
          [
           "2023-01-16 17:38:06.543000+00:00",
           0
          ],
          [
           "2023-01-16 17:38:06.660000+00:00",
           4
          ],
          [
           "2023-01-16 17:38:06.797000+00:00",
           4
          ],
          [
           "2023-01-16 17:38:06.924000+00:00",
           0
          ],
          [
           "2023-01-16 17:38:07.040000+00:00",
           0
          ],
          [
           "2023-01-16 17:38:07.178000+00:00",
           4
          ],
          [
           "2023-01-16 17:38:07.304000+00:00",
           0
          ],
          [
           "2023-01-16 17:38:07.432000+00:00",
           0
          ],
          [
           "2023-01-16 17:38:07.559000+00:00",
           0
          ],
          [
           "2023-01-16 17:38:07.686000+00:00",
           0
          ],
          [
           "2023-01-16 17:38:07.813000+00:00",
           0
          ],
          [
           "2023-01-16 17:38:07.930000+00:00",
           0
          ],
          [
           "2023-01-16 17:38:08.066000+00:00",
           2
          ],
          [
           "2023-01-16 17:38:08.194000+00:00",
           1
          ],
          [
           "2023-01-16 17:38:08.321000+00:00",
           1
          ],
          [
           "2023-01-16 17:38:08.448000+00:00",
           4
          ],
          [
           "2023-01-16 17:38:08.575000+00:00",
           2
          ],
          [
           "2023-01-16 17:38:08.701000+00:00",
           0
          ],
          [
           "2023-01-16 17:38:08.829000+00:00",
           3
          ],
          [
           "2023-01-16 17:38:08.956000+00:00",
           0
          ],
          [
           "2023-01-16 17:38:09.082000+00:00",
           2
          ],
          [
           "2023-01-16 17:38:09.209000+00:00",
           0
          ],
          [
           "2023-01-16 17:38:09.337000+00:00",
           0
          ],
          [
           "2023-01-16 17:38:09.464000+00:00",
           0
          ],
          [
           "2023-01-16 17:38:09.591000+00:00",
           2
          ],
          [
           "2023-01-16 17:38:09.718000+00:00",
           0
          ],
          [
           "2023-01-16 17:38:09.845000+00:00",
           0
          ],
          [
           "2023-01-16 17:38:09.972000+00:00",
           0
          ],
          [
           "2023-01-16 17:38:10.098000+00:00",
           0
          ],
          [
           "2023-01-16 17:38:10.226000+00:00",
           0
          ],
          [
           "2023-01-16 17:38:10.353000+00:00",
           0
          ],
          [
           "2023-01-16 17:38:10.470000+00:00",
           0
          ],
          [
           "2023-01-16 17:38:10.606000+00:00",
           0
          ],
          [
           "2023-01-16 17:38:10.734000+00:00",
           0
          ],
          [
           "2023-01-16 17:38:10.861000+00:00",
           0
          ],
          [
           "2023-01-16 17:38:10.988000+00:00",
           0
          ],
          [
           "2023-01-16 17:38:11.115000+00:00",
           3
          ],
          [
           "2023-01-16 17:38:11.242000+00:00",
           0
          ],
          [
           "2023-01-16 17:38:11.369000+00:00",
           4
          ],
          [
           "2023-01-16 17:38:11.496000+00:00",
           0
          ],
          [
           "2023-01-16 17:38:11.623000+00:00",
           0
          ],
          [
           "2023-01-16 17:38:11.740000+00:00",
           0
          ],
          [
           "2023-01-16 17:38:11.877000+00:00",
           0
          ],
          [
           "2023-01-16 17:38:12.002000+00:00",
           0
          ],
          [
           "2023-01-16 17:38:12.131000+00:00",
           2
          ],
          [
           "2023-01-16 17:38:12.258000+00:00",
           4
          ],
          [
           "2023-01-16 17:38:12.385000+00:00",
           1
          ],
          [
           "2023-01-16 17:38:12.512000+00:00",
           4
          ],
          [
           "2023-01-16 17:38:12.639000+00:00",
           4
          ],
          [
           "2023-01-16 17:38:12.766000+00:00",
           2
          ],
          [
           "2023-01-16 17:38:12.893000+00:00",
           0
          ],
          [
           "2023-01-16 17:38:13.019000+00:00",
           4
          ],
          [
           "2023-01-16 17:38:13.147000+00:00",
           3
          ],
          [
           "2023-01-16 17:38:13.274000+00:00",
           0
          ],
          [
           "2023-01-16 17:38:13.300000+00:00",
           0
          ],
          [
           "2023-01-16 17:38:13.528000+00:00",
           0
          ],
          [
           "2023-01-16 17:38:13.655000+00:00",
           0
          ],
          [
           "2023-01-16 17:38:13.782000+00:00",
           2
          ],
          [
           "2023-01-16 17:38:13.908000+00:00",
           3
          ],
          [
           "2023-01-16 17:38:14.035000+00:00",
           0
          ],
          [
           "2023-01-16 17:38:14.163000+00:00",
           0
          ],
          [
           "2023-01-16 17:38:14.280000+00:00",
           0
          ],
          [
           "2023-01-16 17:38:14.417000+00:00",
           0
          ],
          [
           "2023-01-16 17:38:14.544000+00:00",
           0
          ],
          [
           "2023-01-16 17:38:14.671000+00:00",
           0
          ],
          [
           "2023-01-16 17:38:14.798000+00:00",
           2
          ],
          [
           "2023-01-16 17:38:14.925000+00:00",
           0
          ],
          [
           "2023-01-16 17:38:15.051000+00:00",
           0
          ],
          [
           "2023-01-16 17:38:15.179000+00:00",
           0
          ],
          [
           "2023-01-16 17:38:15.305000+00:00",
           0
          ],
          [
           "2023-01-16 17:38:15.433000+00:00",
           0
          ],
          [
           "2023-01-16 17:38:15.550000+00:00",
           0
          ],
          [
           "2023-01-16 17:38:15.687000+00:00",
           0
          ],
          [
           "2023-01-16 17:38:15.814000+00:00",
           0
          ],
          [
           "2023-01-16 17:38:15.941000+00:00",
           2
          ],
          [
           "2023-01-16 17:38:16.067000+00:00",
           2
          ],
          [
           "2023-01-16 17:38:16.195000+00:00",
           0
          ],
          [
           "2023-01-16 17:38:16.322000+00:00",
           0
          ],
          [
           "2023-01-16 17:38:16.449000+00:00",
           0
          ],
          [
           "2023-01-16 17:38:16.576000+00:00",
           0
          ],
          [
           "2023-01-16 17:38:16.702000+00:00",
           0
          ],
          [
           "2023-01-16 17:38:16.820000+00:00",
           0
          ],
          [
           "2023-01-16 17:38:16.957000+00:00",
           0
          ],
          [
           "2023-01-16 17:38:17.083000+00:00",
           2
          ],
          [
           "2023-01-16 17:38:17.211000+00:00",
           0
          ],
          [
           "2023-01-16 17:38:17.338000+00:00",
           0
          ],
          [
           "2023-01-16 17:38:17.465000+00:00",
           0
          ],
          [
           "2023-01-16 17:38:17.592000+00:00",
           0
          ],
          [
           "2023-01-16 17:38:17.719000+00:00",
           0
          ],
          [
           "2023-01-16 17:38:17.846000+00:00",
           0
          ],
          [
           "2023-01-16 17:38:17.973000+00:00",
           0
          ],
          [
           "2023-01-16 17:38:18.099000+00:00",
           0
          ],
          [
           "2023-01-16 17:38:18.227000+00:00",
           0
          ],
          [
           "2023-01-16 17:38:18.354000+00:00",
           1
          ],
          [
           "2023-01-16 17:38:18.481000+00:00",
           0
          ],
          [
           "2023-01-16 17:38:18.607000+00:00",
           0
          ],
          [
           "2023-01-16 17:38:18.735000+00:00",
           0
          ],
          [
           "2023-01-16 17:38:18.862000+00:00",
           0
          ],
          [
           "2023-01-16 17:38:18.989000+00:00",
           0
          ],
          [
           "2023-01-16 17:38:19.116000+00:00",
           3
          ],
          [
           "2023-01-16 17:38:19.243000+00:00",
           3
          ],
          [
           "2023-01-16 17:38:19.360000+00:00",
           0
          ],
          [
           "2023-01-16 17:38:19.497000+00:00",
           0
          ],
          [
           "2023-01-16 17:38:19.624000+00:00",
           0
          ],
          [
           "2023-01-16 17:38:19.751000+00:00",
           0
          ],
          [
           "2023-01-16 17:38:19.878000+00:00",
           0
          ],
          [
           "2023-01-16 17:38:20.003000+00:00",
           0
          ],
          [
           "2023-01-16 17:38:20.132000+00:00",
           3
          ],
          [
           "2023-01-16 17:38:20.259000+00:00",
           0
          ],
          [
           "2023-01-16 17:38:20.386000+00:00",
           0
          ],
          [
           "2023-01-16 17:38:20.513000+00:00",
           4
          ],
          [
           "2023-01-16 17:38:20.630000+00:00",
           0
          ],
          [
           "2023-01-16 17:38:20.767000+00:00",
           2
          ],
          [
           "2023-01-16 17:38:20.894000+00:00",
           0
          ],
          [
           "2023-01-16 17:38:21.010000+00:00",
           0
          ],
          [
           "2023-01-16 17:38:21.148000+00:00",
           0
          ],
          [
           "2023-01-16 17:38:21.275000+00:00",
           0
          ],
          [
           "2023-01-16 17:38:21.401000+00:00",
           0
          ],
          [
           "2023-01-16 17:38:21.529000+00:00",
           0
          ],
          [
           "2023-01-16 17:38:21.656000+00:00",
           0
          ],
          [
           "2023-01-16 17:38:21.783000+00:00",
           0
          ],
          [
           "2023-01-16 17:38:21.909000+00:00",
           2
          ],
          [
           "2023-01-16 17:38:22.036000+00:00",
           0
          ],
          [
           "2023-01-16 17:38:22.164000+00:00",
           0
          ],
          [
           "2023-01-16 17:38:22.291000+00:00",
           0
          ],
          [
           "2023-01-16 17:38:22.418000+00:00",
           4
          ],
          [
           "2023-01-16 17:38:22.545000+00:00",
           4
          ],
          [
           "2023-01-16 17:38:22.672000+00:00",
           0
          ],
          [
           "2023-01-16 17:38:22.799000+00:00",
           2
          ],
          [
           "2023-01-16 17:38:22.926000+00:00",
           0
          ],
          [
           "2023-01-16 17:38:23.052000+00:00",
           2
          ],
          [
           "2023-01-16 17:38:23.170000+00:00",
           3
          ],
          [
           "2023-01-16 17:38:23.306000+00:00",
           0
          ],
          [
           "2023-01-16 17:38:23.434000+00:00",
           0
          ],
          [
           "2023-01-16 17:38:23.561000+00:00",
           0
          ],
          [
           "2023-01-16 17:38:23.688000+00:00",
           0
          ],
          [
           "2023-01-16 17:38:23.815000+00:00",
           2
          ],
          [
           "2023-01-16 17:38:23.942000+00:00",
           0
          ],
          [
           "2023-01-16 17:38:24.068000+00:00",
           2
          ],
          [
           "2023-01-16 17:38:24.196000+00:00",
           0
          ],
          [
           "2023-01-16 17:38:24.323000+00:00",
           0
          ],
          [
           "2023-01-16 17:38:24.440000+00:00",
           4
          ],
          [
           "2023-01-16 17:38:24.577000+00:00",
           4
          ],
          [
           "2023-01-16 17:38:24.703000+00:00",
           0
          ],
          [
           "2023-01-16 17:38:24.831000+00:00",
           2
          ],
          [
           "2023-01-16 17:38:24.958000+00:00",
           2
          ],
          [
           "2023-01-16 17:38:25.084000+00:00",
           2
          ],
          [
           "2023-01-16 17:38:25.212000+00:00",
           3
          ],
          [
           "2023-01-16 17:38:25.339000+00:00",
           3
          ],
          [
           "2023-01-16 17:38:25.466000+00:00",
           0
          ],
          [
           "2023-01-16 17:38:25.593000+00:00",
           0
          ],
          [
           "2023-01-16 17:38:25.710000+00:00",
           0
          ],
          [
           "2023-01-16 17:38:25.847000+00:00",
           2
          ],
          [
           "2023-01-16 17:38:25.974000+00:00",
           0
          ],
          [
           "2023-01-16 17:38:26.090000+00:00",
           0
          ],
          [
           "2023-01-16 17:38:26.228000+00:00",
           0
          ],
          [
           "2023-01-16 17:38:26.355000+00:00",
           4
          ],
          [
           "2023-01-16 17:38:26.482000+00:00",
           0
          ],
          [
           "2023-01-16 17:38:26.608000+00:00",
           0
          ],
          [
           "2023-01-16 17:38:26.736000+00:00",
           4
          ],
          [
           "2023-01-16 17:38:26.863000+00:00",
           0
          ],
          [
           "2023-01-16 17:38:26.980000+00:00",
           4
          ],
          [
           "2023-01-16 17:38:27.117000+00:00",
           3
          ],
          [
           "2023-01-16 17:38:27.244000+00:00",
           0
          ],
          [
           "2023-01-16 17:38:27.371000+00:00",
           0
          ],
          [
           "2023-01-16 17:38:27.498000+00:00",
           4
          ],
          [
           "2023-01-16 17:38:27.625000+00:00",
           1
          ],
          [
           "2023-01-16 17:38:27.752000+00:00",
           1
          ],
          [
           "2023-01-16 17:39:08.120000+00:00",
           3
          ],
          [
           "2023-01-16 17:39:08.257000+00:00",
           3
          ],
          [
           "2023-01-16 17:39:08.384000+00:00",
           3
          ],
          [
           "2023-01-16 17:39:08.511000+00:00",
           2
          ],
          [
           "2023-01-16 17:39:08.638000+00:00",
           3
          ],
          [
           "2023-01-16 17:39:08.765000+00:00",
           1
          ],
          [
           "2023-01-16 17:39:08.892000+00:00",
           1
          ],
          [
           "2023-01-16 17:39:09.018000+00:00",
           3
          ],
          [
           "2023-01-16 17:39:09.146000+00:00",
           2
          ],
          [
           "2023-01-16 17:39:09.273000+00:00",
           4
          ],
          [
           "2023-01-16 17:39:09.390000+00:00",
           2
          ],
          [
           "2023-01-16 17:39:09.527000+00:00",
           4
          ],
          [
           "2023-01-16 17:39:09.654000+00:00",
           4
          ],
          [
           "2023-01-16 17:39:09.781000+00:00",
           0
          ],
          [
           "2023-01-16 17:39:09.907000+00:00",
           0
          ],
          [
           "2023-01-16 17:39:10.034000+00:00",
           0
          ],
          [
           "2023-01-16 17:39:10.162000+00:00",
           0
          ],
          [
           "2023-01-16 17:39:10.289000+00:00",
           3
          ],
          [
           "2023-01-16 17:39:10.416000+00:00",
           0
          ],
          [
           "2023-01-16 17:39:10.543000+00:00",
           0
          ],
          [
           "2023-01-16 17:39:10.660000+00:00",
           0
          ],
          [
           "2023-01-16 17:39:10.797000+00:00",
           0
          ],
          [
           "2023-01-16 17:39:10.924000+00:00",
           0
          ],
          [
           "2023-01-16 17:39:11.040000+00:00",
           3
          ],
          [
           "2023-01-16 17:39:11.178000+00:00",
           3
          ],
          [
           "2023-01-16 17:39:11.304000+00:00",
           3
          ],
          [
           "2023-01-16 17:39:11.432000+00:00",
           2
          ],
          [
           "2023-01-16 17:39:11.559000+00:00",
           2
          ],
          [
           "2023-01-16 17:39:11.686000+00:00",
           4
          ],
          [
           "2023-01-16 17:39:11.813000+00:00",
           4
          ],
          [
           "2023-01-16 17:39:11.930000+00:00",
           0
          ],
          [
           "2023-01-16 17:39:12.066000+00:00",
           4
          ],
          [
           "2023-01-16 17:39:12.194000+00:00",
           3
          ],
          [
           "2023-01-16 17:39:12.321000+00:00",
           3
          ],
          [
           "2023-01-16 17:39:12.448000+00:00",
           0
          ],
          [
           "2023-01-16 17:39:12.575000+00:00",
           3
          ],
          [
           "2023-01-16 17:39:12.701000+00:00",
           4
          ],
          [
           "2023-01-16 17:39:12.829000+00:00",
           0
          ],
          [
           "2023-01-16 17:39:12.956000+00:00",
           0
          ],
          [
           "2023-01-16 17:39:13.082000+00:00",
           0
          ],
          [
           "2023-01-16 17:39:13.209000+00:00",
           3
          ],
          [
           "2023-01-16 17:39:13.337000+00:00",
           4
          ],
          [
           "2023-01-16 17:39:13.464000+00:00",
           2
          ],
          [
           "2023-01-16 17:39:13.591000+00:00",
           4
          ],
          [
           "2023-01-16 17:39:13.718000+00:00",
           0
          ],
          [
           "2023-01-16 17:39:13.845000+00:00",
           1
          ],
          [
           "2023-01-16 17:39:13.972000+00:00",
           4
          ],
          [
           "2023-01-16 17:39:14.098000+00:00",
           4
          ],
          [
           "2023-01-16 17:39:14.226000+00:00",
           4
          ],
          [
           "2023-01-16 17:39:14.353000+00:00",
           4
          ],
          [
           "2023-01-16 17:39:14.470000+00:00",
           1
          ],
          [
           "2023-01-16 17:39:14.606000+00:00",
           3
          ],
          [
           "2023-01-16 17:39:14.734000+00:00",
           3
          ],
          [
           "2023-01-16 17:39:14.861000+00:00",
           1
          ],
          [
           "2023-01-16 17:39:14.988000+00:00",
           0
          ],
          [
           "2023-01-16 17:39:15.115000+00:00",
           0
          ],
          [
           "2023-01-16 17:39:15.242000+00:00",
           3
          ],
          [
           "2023-01-16 17:39:15.369000+00:00",
           3
          ],
          [
           "2023-01-16 17:39:15.496000+00:00",
           3
          ],
          [
           "2023-01-16 17:39:15.623000+00:00",
           2
          ],
          [
           "2023-01-16 17:39:15.740000+00:00",
           4
          ],
          [
           "2023-01-16 17:39:15.877000+00:00",
           4
          ],
          [
           "2023-01-16 17:39:16.002000+00:00",
           1
          ],
          [
           "2023-01-16 17:39:16.131000+00:00",
           0
          ],
          [
           "2023-01-16 17:39:16.258000+00:00",
           4
          ],
          [
           "2023-01-16 17:39:16.385000+00:00",
           4
          ],
          [
           "2023-01-16 17:39:16.512000+00:00",
           2
          ],
          [
           "2023-01-16 17:39:16.639000+00:00",
           2
          ],
          [
           "2023-01-16 17:39:16.766000+00:00",
           4
          ],
          [
           "2023-01-16 17:39:16.893000+00:00",
           4
          ],
          [
           "2023-01-16 17:39:17.019000+00:00",
           4
          ],
          [
           "2023-01-16 17:39:17.147000+00:00",
           0
          ],
          [
           "2023-01-16 17:39:17.274000+00:00",
           4
          ],
          [
           "2023-01-16 17:39:17.300000+00:00",
           4
          ],
          [
           "2023-01-16 17:39:17.528000+00:00",
           2
          ],
          [
           "2023-01-16 17:39:17.655000+00:00",
           1
          ],
          [
           "2023-01-16 17:39:17.782000+00:00",
           4
          ],
          [
           "2023-01-16 17:39:17.908000+00:00",
           4
          ],
          [
           "2023-01-16 17:39:18.035000+00:00",
           1
          ],
          [
           "2023-01-16 17:39:18.163000+00:00",
           1
          ],
          [
           "2023-01-16 17:39:18.280000+00:00",
           1
          ],
          [
           "2023-01-16 17:39:18.417000+00:00",
           4
          ],
          [
           "2023-01-16 17:39:18.544000+00:00",
           1
          ],
          [
           "2023-01-16 17:39:18.671000+00:00",
           1
          ],
          [
           "2023-01-16 17:39:18.798000+00:00",
           1
          ],
          [
           "2023-01-16 17:39:18.925000+00:00",
           0
          ],
          [
           "2023-01-16 17:39:19.051000+00:00",
           1
          ],
          [
           "2023-01-16 17:39:19.179000+00:00",
           1
          ],
          [
           "2023-01-16 17:39:19.305000+00:00",
           1
          ],
          [
           "2023-01-16 17:39:19.433000+00:00",
           3
          ],
          [
           "2023-01-16 17:39:19.550000+00:00",
           2
          ],
          [
           "2023-01-16 17:39:19.687000+00:00",
           2
          ],
          [
           "2023-01-16 17:39:19.814000+00:00",
           4
          ],
          [
           "2023-01-16 17:39:19.941000+00:00",
           1
          ],
          [
           "2023-01-16 17:39:20.067000+00:00",
           1
          ],
          [
           "2023-01-16 17:39:20.195000+00:00",
           1
          ],
          [
           "2023-01-16 17:39:20.322000+00:00",
           1
          ],
          [
           "2023-01-16 17:39:20.449000+00:00",
           4
          ],
          [
           "2023-01-16 17:39:20.576000+00:00",
           4
          ],
          [
           "2023-01-16 17:39:20.702000+00:00",
           4
          ],
          [
           "2023-01-16 17:39:20.820000+00:00",
           4
          ],
          [
           "2023-01-16 17:39:20.957000+00:00",
           4
          ],
          [
           "2023-01-16 17:39:21.083000+00:00",
           1
          ],
          [
           "2023-01-16 17:39:21.211000+00:00",
           1
          ],
          [
           "2023-01-16 17:39:21.338000+00:00",
           1
          ],
          [
           "2023-01-16 17:39:21.465000+00:00",
           2
          ],
          [
           "2023-01-16 17:39:21.592000+00:00",
           4
          ],
          [
           "2023-01-16 17:39:21.719000+00:00",
           0
          ],
          [
           "2023-01-16 17:39:21.846000+00:00",
           3
          ],
          [
           "2023-01-16 17:39:21.973000+00:00",
           0
          ],
          [
           "2023-01-16 17:39:22.099000+00:00",
           0
          ],
          [
           "2023-01-16 17:39:22.227000+00:00",
           1
          ],
          [
           "2023-01-16 17:39:22.354000+00:00",
           1
          ],
          [
           "2023-01-16 17:39:22.481000+00:00",
           2
          ],
          [
           "2023-01-16 17:39:22.607000+00:00",
           2
          ],
          [
           "2023-01-16 17:39:22.735000+00:00",
           4
          ],
          [
           "2023-01-16 17:39:22.862000+00:00",
           4
          ],
          [
           "2023-01-16 17:39:22.989000+00:00",
           3
          ],
          [
           "2023-01-16 17:39:23.116000+00:00",
           0
          ],
          [
           "2023-01-16 17:39:23.243000+00:00",
           0
          ],
          [
           "2023-01-16 17:39:23.360000+00:00",
           0
          ],
          [
           "2023-01-16 17:39:23.497000+00:00",
           3
          ],
          [
           "2023-01-16 17:39:23.624000+00:00",
           0
          ],
          [
           "2023-01-16 17:39:23.751000+00:00",
           2
          ],
          [
           "2023-01-16 17:39:23.878000+00:00",
           2
          ],
          [
           "2023-01-16 17:39:24.003000+00:00",
           0
          ],
          [
           "2023-01-16 17:39:24.132000+00:00",
           4
          ],
          [
           "2023-01-16 17:39:24.259000+00:00",
           1
          ],
          [
           "2023-01-16 17:39:24.386000+00:00",
           0
          ],
          [
           "2023-01-16 17:39:24.513000+00:00",
           2
          ],
          [
           "2023-01-16 17:39:24.630000+00:00",
           0
          ],
          [
           "2023-01-16 17:39:24.767000+00:00",
           3
          ],
          [
           "2023-01-16 17:39:24.894000+00:00",
           3
          ],
          [
           "2023-01-16 17:39:25.010000+00:00",
           3
          ],
          [
           "2023-01-16 17:39:25.148000+00:00",
           1
          ],
          [
           "2023-01-16 17:39:25.275000+00:00",
           1
          ],
          [
           "2023-01-16 17:39:25.401000+00:00",
           1
          ],
          [
           "2023-01-16 17:39:25.529000+00:00",
           3
          ],
          [
           "2023-01-16 17:39:25.656000+00:00",
           2
          ],
          [
           "2023-01-16 17:39:25.783000+00:00",
           2
          ],
          [
           "2023-01-16 17:39:25.909000+00:00",
           4
          ],
          [
           "2023-01-16 17:39:26.036000+00:00",
           4
          ],
          [
           "2023-01-16 17:39:26.164000+00:00",
           4
          ],
          [
           "2023-01-16 17:39:26.291000+00:00",
           1
          ],
          [
           "2023-01-16 17:39:26.418000+00:00",
           1
          ],
          [
           "2023-01-16 17:39:26.545000+00:00",
           4
          ],
          [
           "2023-01-16 17:39:26.672000+00:00",
           3
          ],
          [
           "2023-01-16 17:39:26.799000+00:00",
           3
          ],
          [
           "2023-01-16 17:39:26.926000+00:00",
           4
          ],
          [
           "2023-01-16 17:39:27.052000+00:00",
           3
          ],
          [
           "2023-01-16 17:39:27.170000+00:00",
           0
          ],
          [
           "2023-01-16 17:39:27.306000+00:00",
           4
          ],
          [
           "2023-01-16 17:39:27.434000+00:00",
           4
          ],
          [
           "2023-01-16 17:39:27.561000+00:00",
           4
          ],
          [
           "2023-01-16 17:39:27.688000+00:00",
           2
          ],
          [
           "2023-01-16 17:39:27.815000+00:00",
           1
          ],
          [
           "2023-01-16 17:39:27.942000+00:00",
           1
          ],
          [
           "2023-01-16 17:39:28.068000+00:00",
           1
          ],
          [
           "2023-01-16 17:39:28.196000+00:00",
           1
          ],
          [
           "2023-01-16 17:39:28.323000+00:00",
           1
          ],
          [
           "2023-01-16 17:39:28.440000+00:00",
           1
          ],
          [
           "2023-01-16 17:39:28.577000+00:00",
           1
          ],
          [
           "2023-01-16 17:39:28.703000+00:00",
           3
          ],
          [
           "2023-01-16 17:39:28.831000+00:00",
           1
          ],
          [
           "2023-01-16 17:39:28.958000+00:00",
           2
          ],
          [
           "2023-01-16 17:39:29.084000+00:00",
           2
          ],
          [
           "2023-01-16 17:39:29.212000+00:00",
           4
          ],
          [
           "2023-01-16 17:39:29.339000+00:00",
           1
          ],
          [
           "2023-01-16 17:39:29.466000+00:00",
           1
          ],
          [
           "2023-01-16 17:39:29.593000+00:00",
           1
          ],
          [
           "2023-01-16 17:39:29.710000+00:00",
           1
          ],
          [
           "2023-01-16 17:39:29.847000+00:00",
           3
          ],
          [
           "2023-01-16 17:39:29.974000+00:00",
           2
          ],
          [
           "2023-01-16 17:39:30.090000+00:00",
           2
          ],
          [
           "2023-01-16 17:39:30.228000+00:00",
           4
          ],
          [
           "2023-01-16 17:39:30.355000+00:00",
           0
          ],
          [
           "2023-01-16 17:39:30.482000+00:00",
           4
          ],
          [
           "2023-01-16 17:39:30.608000+00:00",
           1
          ],
          [
           "2023-01-16 17:39:30.736000+00:00",
           3
          ],
          [
           "2023-01-16 17:39:30.863000+00:00",
           3
          ],
          [
           "2023-01-16 17:39:30.980000+00:00",
           3
          ],
          [
           "2023-01-16 17:39:31.117000+00:00",
           1
          ],
          [
           "2023-01-16 17:39:31.244000+00:00",
           4
          ],
          [
           "2023-01-16 17:39:31.371000+00:00",
           4
          ],
          [
           "2023-01-16 17:39:31.498000+00:00",
           0
          ],
          [
           "2023-01-16 17:39:31.625000+00:00",
           4
          ],
          [
           "2023-01-16 17:39:31.752000+00:00",
           4
          ],
          [
           "2023-01-16 17:39:31.879000+00:00",
           4
          ],
          [
           "2023-01-16 17:39:32.004000+00:00",
           4
          ],
          [
           "2023-01-16 17:39:32.133000+00:00",
           3
          ],
          [
           "2023-01-16 17:39:32.250000+00:00",
           0
          ],
          [
           "2023-01-16 17:39:32.387000+00:00",
           4
          ],
          [
           "2023-01-16 17:39:32.514000+00:00",
           0
          ],
          [
           "2023-01-16 17:39:32.641000+00:00",
           2
          ],
          [
           "2023-01-16 17:39:32.768000+00:00",
           4
          ],
          [
           "2023-01-16 17:39:32.895000+00:00",
           3
          ],
          [
           "2023-01-16 17:39:33.021000+00:00",
           2
          ],
          [
           "2023-01-16 17:39:33.149000+00:00",
           4
          ],
          [
           "2023-01-16 17:39:33.276000+00:00",
           0
          ],
          [
           "2023-01-16 17:39:33.402000+00:00",
           4
          ],
          [
           "2023-01-16 17:39:33.520000+00:00",
           4
          ],
          [
           "2023-01-16 17:39:33.657000+00:00",
           0
          ],
          [
           "2023-01-16 17:39:33.784000+00:00",
           2
          ],
          [
           "2023-01-16 17:39:33.911000+00:00",
           3
          ],
          [
           "2023-01-16 17:39:34.037000+00:00",
           3
          ],
          [
           "2023-01-16 17:39:34.165000+00:00",
           3
          ],
          [
           "2023-01-16 17:39:34.292000+00:00",
           3
          ],
          [
           "2023-01-16 17:39:34.419000+00:00",
           4
          ],
          [
           "2023-01-16 17:39:34.546000+00:00",
           1
          ],
          [
           "2023-01-16 17:39:34.673000+00:00",
           1
          ],
          [
           "2023-01-16 17:39:34.790000+00:00",
           3
          ],
          [
           "2023-01-16 17:39:34.927000+00:00",
           1
          ],
          [
           "2023-01-16 17:39:35.053000+00:00",
           3
          ],
          [
           "2023-01-16 17:39:35.181000+00:00",
           3
          ],
          [
           "2023-01-16 17:39:35.307000+00:00",
           1
          ],
          [
           "2023-01-16 17:39:35.435000+00:00",
           3
          ],
          [
           "2023-01-16 17:39:35.562000+00:00",
           1
          ],
          [
           "2023-01-16 17:39:35.689000+00:00",
           3
          ],
          [
           "2023-01-16 17:39:35.816000+00:00",
           3
          ],
          [
           "2023-01-16 17:39:35.943000+00:00",
           4
          ],
          [
           "2023-01-16 17:39:36.069000+00:00",
           2
          ],
          [
           "2023-01-16 17:39:36.197000+00:00",
           4
          ],
          [
           "2023-01-16 17:39:36.324000+00:00",
           4
          ],
          [
           "2023-01-16 17:39:36.451000+00:00",
           4
          ],
          [
           "2023-01-16 17:39:36.578000+00:00",
           4
          ],
          [
           "2023-01-16 17:39:36.704000+00:00",
           0
          ],
          [
           "2023-01-16 17:39:36.832000+00:00",
           4
          ],
          [
           "2023-01-16 17:39:36.959000+00:00",
           3
          ],
          [
           "2023-01-16 17:39:37.085000+00:00",
           2
          ],
          [
           "2023-01-16 17:39:37.213000+00:00",
           3
          ],
          [
           "2023-01-16 17:39:37.330000+00:00",
           3
          ],
          [
           "2023-01-16 17:39:37.467000+00:00",
           3
          ],
          [
           "2023-01-16 17:39:37.594000+00:00",
           4
          ],
          [
           "2023-01-16 17:39:37.721000+00:00",
           4
          ]
         ],
         "hovertemplate": "<b>%{hovertext}</b><br><br>latitude=%{x}<br>longitude=%{y}<br>timestamp=%{customdata[0]}<br>cluster=%{marker.color}<extra></extra>",
         "hovertext": [
          1,
          1,
          1,
          1,
          1,
          1,
          1,
          1,
          1,
          1,
          1,
          1,
          1,
          1,
          1,
          1,
          1,
          1,
          1,
          1,
          1,
          1,
          1,
          1,
          1,
          1,
          1,
          1,
          1,
          1,
          1,
          1,
          1,
          1,
          1,
          1,
          1,
          1,
          1,
          1,
          1,
          1,
          1,
          1,
          1,
          1,
          1,
          1,
          1,
          1,
          1,
          1,
          1,
          1,
          1,
          1,
          1,
          1,
          1,
          1,
          1,
          1,
          1,
          1,
          1,
          1,
          1,
          1,
          1,
          1,
          1,
          1,
          1,
          1,
          1,
          1,
          1,
          1,
          1,
          1,
          1,
          1,
          1,
          1,
          1,
          1,
          1,
          1,
          1,
          1,
          1,
          1,
          1,
          1,
          1,
          1,
          1,
          1,
          1,
          1,
          1,
          1,
          1,
          1,
          1,
          1,
          1,
          1,
          1,
          1,
          1,
          1,
          1,
          1,
          1,
          1,
          1,
          1,
          1,
          1,
          1,
          1,
          1,
          1,
          1,
          1,
          1,
          1,
          1,
          1,
          1,
          1,
          1,
          1,
          1,
          1,
          1,
          1,
          1,
          1,
          1,
          1,
          1,
          1,
          1,
          1,
          1,
          1,
          1,
          1,
          1,
          1,
          1,
          1,
          1,
          1,
          1,
          1,
          1,
          1,
          1,
          1,
          1,
          1,
          1,
          1,
          1,
          1,
          1,
          1,
          1,
          1,
          1,
          1,
          1,
          1,
          1,
          1,
          1,
          1,
          1,
          1,
          1,
          1,
          1,
          1,
          1,
          1,
          1,
          1,
          1,
          1,
          1,
          1,
          1,
          1,
          1,
          1,
          1,
          1,
          1,
          1,
          1,
          1,
          1,
          1,
          1,
          1,
          1,
          1,
          1,
          1,
          1,
          1,
          1,
          1,
          1,
          1,
          1,
          1,
          1,
          1,
          1,
          1,
          1,
          1,
          2,
          2,
          2,
          2,
          2,
          2,
          2,
          2,
          2,
          2,
          2,
          2,
          2,
          2,
          2,
          2,
          2,
          2,
          2,
          2,
          2,
          2,
          2,
          2,
          2,
          2,
          2,
          2,
          2,
          2,
          2,
          2,
          2,
          2,
          2,
          2,
          2,
          2,
          2,
          2,
          2,
          2,
          2,
          2,
          2,
          2,
          2,
          2,
          2,
          2,
          2,
          2,
          2,
          2,
          2,
          2,
          2,
          2,
          2,
          2,
          2,
          2,
          2,
          2,
          2,
          2,
          2,
          2,
          2,
          2,
          2,
          2,
          2,
          2,
          2,
          2,
          2,
          2,
          2,
          2,
          2,
          2,
          2,
          2,
          2,
          2,
          2,
          2,
          2,
          2,
          2,
          2,
          2,
          2,
          2,
          2,
          2,
          2,
          2,
          2,
          2,
          2,
          2,
          2,
          2,
          2,
          2,
          2,
          2,
          2,
          2,
          2,
          2,
          2,
          2,
          2,
          2,
          2,
          2,
          2,
          2,
          2,
          2,
          2,
          2,
          2,
          2,
          2,
          2,
          2,
          2,
          2,
          2,
          2,
          2,
          2,
          2,
          2,
          2,
          2,
          2,
          2,
          2,
          2,
          2,
          2,
          2,
          2,
          2,
          2,
          2,
          2,
          2,
          2,
          2,
          2,
          2,
          2,
          2,
          2,
          2,
          2,
          2,
          2,
          2,
          2,
          2,
          2,
          2,
          2,
          2,
          2,
          2,
          2,
          2,
          2,
          2,
          2,
          2,
          2,
          2,
          2,
          2,
          2,
          2,
          2,
          3,
          3,
          3,
          3,
          3,
          3,
          3,
          3,
          3,
          3,
          3,
          3,
          3,
          3,
          3,
          3,
          3,
          3,
          3,
          3,
          3,
          3,
          3,
          3,
          3,
          3,
          3,
          3,
          3,
          3,
          3,
          3,
          3,
          3,
          3,
          3,
          3,
          3,
          3,
          3,
          3,
          3,
          3,
          3,
          3,
          3,
          3,
          3,
          3,
          3,
          3,
          3,
          3,
          3,
          3,
          3,
          3,
          3,
          3,
          3,
          3,
          3,
          3,
          3,
          3,
          3,
          3,
          3,
          3,
          3,
          3,
          3,
          3,
          3,
          3,
          3,
          3,
          3,
          3,
          3,
          3,
          3,
          3,
          3,
          3,
          3,
          3,
          3,
          3,
          3,
          3,
          3,
          3,
          3,
          3,
          3,
          3,
          3,
          3,
          3,
          3,
          3,
          3,
          3,
          3,
          3,
          3,
          3,
          3,
          3,
          3,
          3,
          3,
          3,
          3,
          3,
          3,
          3,
          3,
          3,
          3,
          3,
          3,
          3,
          3,
          3,
          3,
          3,
          3,
          3,
          3,
          3,
          3,
          3,
          3,
          3,
          3,
          3,
          3,
          3,
          3,
          3,
          3,
          3,
          3,
          3,
          3,
          3,
          3,
          3,
          3,
          3,
          3,
          3,
          3,
          3,
          3,
          3,
          3,
          3,
          3,
          3,
          3,
          3,
          3,
          3,
          3,
          3,
          3,
          3,
          3,
          3,
          3,
          3,
          3,
          3,
          3,
          3,
          3,
          3,
          3,
          3,
          3,
          3,
          3,
          3,
          3,
          4,
          4,
          4,
          4,
          4,
          4,
          4,
          4,
          4,
          4,
          4,
          4,
          4,
          4,
          4,
          4,
          4,
          4,
          4,
          4,
          4,
          4,
          4,
          4,
          4,
          4,
          4,
          4,
          4,
          4,
          4,
          4,
          4,
          4,
          4,
          4,
          4,
          4,
          4,
          4,
          4,
          4,
          4,
          4,
          4,
          4,
          4,
          4,
          4,
          4,
          4,
          4,
          4,
          4,
          4,
          4,
          4,
          4,
          4,
          4,
          4,
          4,
          4,
          4,
          4,
          4,
          4,
          4,
          4,
          4,
          4,
          4,
          4,
          4,
          4,
          4,
          4,
          4,
          4,
          4,
          4,
          4,
          4,
          4,
          4,
          4,
          4,
          4,
          4,
          4,
          4,
          4,
          4,
          4,
          4,
          4,
          4,
          4,
          4,
          4,
          4,
          4,
          4,
          4,
          4,
          4,
          4,
          4,
          4,
          4,
          4,
          4,
          4,
          4,
          4,
          4,
          4,
          4,
          4,
          4,
          4,
          4,
          4,
          4,
          4,
          4,
          4,
          4,
          4,
          4,
          4,
          4,
          4,
          4,
          4,
          4,
          4,
          4,
          4,
          4,
          4,
          4,
          4,
          4,
          4,
          4,
          4,
          4,
          4,
          4,
          4,
          4,
          4,
          4,
          4,
          4,
          4,
          4,
          4,
          4,
          4,
          4,
          4,
          4,
          4,
          4,
          4,
          4,
          4,
          4,
          4,
          4,
          4,
          4,
          4,
          4,
          4,
          4,
          4,
          4,
          4,
          4,
          4,
          4,
          4,
          4,
          4,
          4,
          4,
          4,
          4,
          4,
          4,
          4,
          4,
          4,
          4,
          4,
          4,
          4,
          4,
          4,
          4,
          4,
          4,
          4,
          4,
          4,
          4,
          4,
          4,
          4,
          4,
          4,
          4,
          4,
          4,
          4,
          4,
          4,
          4,
          4,
          4,
          4,
          4,
          4,
          4,
          4,
          4,
          4,
          4,
          4,
          4,
          4
         ],
         "legendgroup": "",
         "marker": {
          "color": [
           3,
           0,
           0,
           0,
           0,
           0,
           0,
           3,
           3,
           0,
           0,
           1,
           1,
           0,
           3,
           2,
           0,
           0,
           2,
           0,
           0,
           0,
           2,
           2,
           1,
           3,
           0,
           0,
           0,
           0,
           2,
           4,
           3,
           0,
           0,
           0,
           0,
           2,
           3,
           0,
           0,
           0,
           0,
           0,
           0,
           0,
           0,
           2,
           0,
           0,
           0,
           0,
           0,
           0,
           0,
           0,
           0,
           0,
           0,
           0,
           0,
           0,
           3,
           3,
           0,
           3,
           0,
           0,
           0,
           0,
           0,
           0,
           0,
           0,
           0,
           0,
           0,
           0,
           0,
           0,
           0,
           0,
           0,
           0,
           0,
           0,
           0,
           0,
           0,
           0,
           0,
           0,
           0,
           0,
           3,
           0,
           3,
           0,
           0,
           0,
           0,
           0,
           3,
           3,
           0,
           0,
           0,
           0,
           0,
           0,
           0,
           0,
           0,
           4,
           0,
           0,
           0,
           0,
           0,
           0,
           0,
           4,
           4,
           0,
           4,
           0,
           2,
           2,
           0,
           0,
           0,
           0,
           2,
           2,
           2,
           0,
           0,
           0,
           0,
           0,
           0,
           3,
           0,
           2,
           0,
           0,
           0,
           0,
           0,
           0,
           0,
           0,
           0,
           0,
           0,
           0,
           4,
           3,
           0,
           2,
           0,
           0,
           0,
           0,
           0,
           0,
           0,
           0,
           3,
           0,
           0,
           0,
           0,
           3,
           0,
           0,
           0,
           0,
           0,
           0,
           0,
           0,
           0,
           0,
           0,
           0,
           0,
           0,
           0,
           0,
           0,
           2,
           3,
           0,
           0,
           0,
           0,
           0,
           0,
           0,
           0,
           0,
           0,
           0,
           0,
           2,
           3,
           2,
           2,
           0,
           4,
           0,
           0,
           0,
           3,
           2,
           0,
           0,
           0,
           0,
           0,
           2,
           2,
           0,
           2,
           3,
           3,
           1,
           2,
           1,
           1,
           1,
           0,
           0,
           4,
           3,
           2,
           2,
           4,
           0,
           0,
           3,
           0,
           2,
           0,
           2,
           0,
           0,
           4,
           0,
           2,
           3,
           3,
           0,
           0,
           0,
           0,
           0,
           0,
           3,
           2,
           2,
           4,
           4,
           0,
           0,
           3,
           0,
           3,
           2,
           2,
           0,
           0,
           0,
           4,
           3,
           3,
           2,
           0,
           0,
           4,
           0,
           0,
           2,
           2,
           2,
           2,
           4,
           0,
           0,
           0,
           3,
           3,
           2,
           2,
           4,
           4,
           1,
           1,
           0,
           3,
           2,
           2,
           2,
           0,
           0,
           1,
           0,
           1,
           2,
           3,
           4,
           4,
           1,
           1,
           4,
           3,
           2,
           2,
           2,
           4,
           1,
           1,
           1,
           3,
           3,
           3,
           0,
           4,
           0,
           1,
           1,
           1,
           2,
           2,
           2,
           4,
           0,
           1,
           1,
           3,
           3,
           4,
           0,
           0,
           4,
           1,
           1,
           0,
           4,
           0,
           2,
           0,
           0,
           0,
           0,
           3,
           3,
           2,
           0,
           4,
           3,
           1,
           4,
           3,
           1,
           1,
           3,
           3,
           1,
           1,
           1,
           1,
           2,
           3,
           0,
           4,
           0,
           4,
           0,
           2,
           4,
           2,
           2,
           2,
           0,
           0,
           0,
           4,
           3,
           3,
           2,
           0,
           3,
           0,
           4,
           4,
           0,
           2,
           3,
           2,
           2,
           4,
           4,
           4,
           0,
           2,
           2,
           2,
           4,
           4,
           4,
           3,
           1,
           0,
           0,
           0,
           0,
           0,
           0,
           0,
           4,
           0,
           4,
           2,
           0,
           2,
           0,
           4,
           4,
           0,
           0,
           4,
           4,
           0,
           0,
           4,
           0,
           0,
           0,
           0,
           0,
           0,
           2,
           1,
           1,
           4,
           2,
           0,
           3,
           0,
           2,
           0,
           0,
           0,
           2,
           0,
           0,
           0,
           0,
           0,
           0,
           0,
           0,
           0,
           0,
           0,
           3,
           0,
           4,
           0,
           0,
           0,
           0,
           0,
           2,
           4,
           1,
           4,
           4,
           2,
           0,
           4,
           3,
           0,
           0,
           0,
           0,
           2,
           3,
           0,
           0,
           0,
           0,
           0,
           0,
           2,
           0,
           0,
           0,
           0,
           0,
           0,
           0,
           0,
           2,
           2,
           0,
           0,
           0,
           0,
           0,
           0,
           0,
           2,
           0,
           0,
           0,
           0,
           0,
           0,
           0,
           0,
           0,
           1,
           0,
           0,
           0,
           0,
           0,
           3,
           3,
           0,
           0,
           0,
           0,
           0,
           0,
           3,
           0,
           0,
           4,
           0,
           2,
           0,
           0,
           0,
           0,
           0,
           0,
           0,
           0,
           2,
           0,
           0,
           0,
           4,
           4,
           0,
           2,
           0,
           2,
           3,
           0,
           0,
           0,
           0,
           2,
           0,
           2,
           0,
           0,
           4,
           4,
           0,
           2,
           2,
           2,
           3,
           3,
           0,
           0,
           0,
           2,
           0,
           0,
           0,
           4,
           0,
           0,
           4,
           0,
           4,
           3,
           0,
           0,
           4,
           1,
           1,
           3,
           3,
           3,
           2,
           3,
           1,
           1,
           3,
           2,
           4,
           2,
           4,
           4,
           0,
           0,
           0,
           0,
           3,
           0,
           0,
           0,
           0,
           0,
           3,
           3,
           3,
           2,
           2,
           4,
           4,
           0,
           4,
           3,
           3,
           0,
           3,
           4,
           0,
           0,
           0,
           3,
           4,
           2,
           4,
           0,
           1,
           4,
           4,
           4,
           4,
           1,
           3,
           3,
           1,
           0,
           0,
           3,
           3,
           3,
           2,
           4,
           4,
           1,
           0,
           4,
           4,
           2,
           2,
           4,
           4,
           4,
           0,
           4,
           4,
           2,
           1,
           4,
           4,
           1,
           1,
           1,
           4,
           1,
           1,
           1,
           0,
           1,
           1,
           1,
           3,
           2,
           2,
           4,
           1,
           1,
           1,
           1,
           4,
           4,
           4,
           4,
           4,
           1,
           1,
           1,
           2,
           4,
           0,
           3,
           0,
           0,
           1,
           1,
           2,
           2,
           4,
           4,
           3,
           0,
           0,
           0,
           3,
           0,
           2,
           2,
           0,
           4,
           1,
           0,
           2,
           0,
           3,
           3,
           3,
           1,
           1,
           1,
           3,
           2,
           2,
           4,
           4,
           4,
           1,
           1,
           4,
           3,
           3,
           4,
           3,
           0,
           4,
           4,
           4,
           2,
           1,
           1,
           1,
           1,
           1,
           1,
           1,
           3,
           1,
           2,
           2,
           4,
           1,
           1,
           1,
           1,
           3,
           2,
           2,
           4,
           0,
           4,
           1,
           3,
           3,
           3,
           1,
           4,
           4,
           0,
           4,
           4,
           4,
           4,
           3,
           0,
           4,
           0,
           2,
           4,
           3,
           2,
           4,
           0,
           4,
           4,
           0,
           2,
           3,
           3,
           3,
           3,
           4,
           1,
           1,
           3,
           1,
           3,
           3,
           1,
           3,
           1,
           3,
           3,
           4,
           2,
           4,
           4,
           4,
           4,
           0,
           4,
           3,
           2,
           3,
           3,
           3,
           4,
           4
          ],
          "coloraxis": "coloraxis",
          "symbol": "circle"
         },
         "mode": "markers",
         "name": "",
         "orientation": "v",
         "showlegend": false,
         "type": "scatter",
         "x": [
          35.671015,
          35.67101714222222,
          35.67101928444444,
          35.67102142666666,
          35.671023568888884,
          35.671025711111106,
          35.67102785333333,
          35.67102999555555,
          35.67103213777777,
          35.67103428,
          35.67103642222222,
          35.671038564444444,
          35.671040706666666,
          35.67104284888889,
          35.67104499111111,
          35.67104713333333,
          35.67104927555555,
          35.671051417777775,
          35.67105356,
          35.67105570222222,
          35.67105784444444,
          35.67105998666666,
          35.671062128888885,
          35.671064271111106,
          35.67106641333333,
          35.67106855555555,
          35.67107069777778,
          35.67107284,
          35.67107498222222,
          35.671077124444444,
          35.671079266666666,
          35.67108140888889,
          35.67108355111111,
          35.67108569333333,
          35.671087835555554,
          35.671089977777775,
          35.67109212,
          35.67109426222222,
          35.67109640444444,
          35.67109854666666,
          35.671100688888885,
          35.67110283111111,
          35.67110497333333,
          35.67110711555555,
          35.67110925777778,
          35.6711114,
          35.67111354222222,
          35.671115684444445,
          35.671117826666666,
          35.67111996888889,
          35.67112211111111,
          35.67112425333333,
          35.671126395555554,
          35.671128537777776,
          35.67113068,
          35.67113282222222,
          35.67113496444444,
          35.67113710666666,
          35.671139248888885,
          35.67114139111111,
          35.67114353333333,
          35.67114567555556,
          35.67114781777778,
          35.67114996,
          35.67115210222222,
          35.671154244444445,
          35.67115638666667,
          35.67115852888889,
          35.67116067111111,
          35.67116281333333,
          35.671164955555554,
          35.671167097777776,
          35.67116924,
          35.67117138222222,
          35.67117352444444,
          35.67117566666666,
          35.671177808888885,
          35.67117995111111,
          35.671182093333336,
          35.67118423555556,
          35.67118637777778,
          35.67118852,
          35.67119066222222,
          35.671192804444445,
          35.67119494666667,
          35.67119708888889,
          35.67119923111111,
          35.67120137333333,
          35.671203515555554,
          35.671205657777776,
          35.6712078,
          35.67120994222222,
          35.67121208444444,
          35.67121422666666,
          35.671216368888885,
          35.67121851111111,
          35.671220653333336,
          35.67122279555556,
          35.67122493777778,
          35.67122708,
          35.67122922222222,
          35.671231364444445,
          35.67123350666667,
          35.67123564888889,
          35.67123779111111,
          35.67123993333333,
          35.671242075555554,
          35.671244217777776,
          35.67124636,
          35.67124850222222,
          35.67125064444444,
          35.67125278666666,
          35.671254928888885,
          35.671257071111114,
          35.671259213333336,
          35.67126135555556,
          35.67126349777778,
          35.67126564,
          35.67126778222222,
          35.671269924444445,
          35.67127206666667,
          35.67127420888889,
          35.67127635111111,
          35.67127849333333,
          35.671280635555554,
          35.671282777777776,
          35.67128492,
          35.67128706222222,
          35.67128920444444,
          35.67129134666666,
          35.67129348888889,
          35.671295631111114,
          35.671297773333336,
          35.67129991555556,
          35.67130205777778,
          35.6713042,
          35.67130634222222,
          35.671308484444445,
          35.67131062666667,
          35.67131276888889,
          35.67131491111111,
          35.67131705333333,
          35.671319195555554,
          35.671321337777776,
          35.67132348,
          35.67132562222222,
          35.67132776444444,
          35.671329906666664,
          35.67133204888889,
          35.671334191111114,
          35.671336333333336,
          35.67133847555556,
          35.67134061777778,
          35.67134276,
          35.67134490222222,
          35.671347044444445,
          35.67134918666667,
          35.67135132888889,
          35.67135347111111,
          35.67135561333333,
          35.671357755555555,
          35.671359897777776,
          35.67136204,
          35.67136418222222,
          35.67136632444444,
          35.67136846666667,
          35.67137060888889,
          35.671372751111114,
          35.671374893333336,
          35.67137703555556,
          35.67137917777778,
          35.67138132,
          35.671383462222224,
          35.671385604444446,
          35.67138774666667,
          35.67138988888889,
          35.67139203111111,
          35.67139417333333,
          35.671396315555555,
          35.67139845777778,
          35.6714006,
          35.67140274222222,
          35.67140488444445,
          35.67140702666667,
          35.67140916888889,
          35.671411311111115,
          35.67141345333334,
          35.67141559555556,
          35.67141773777778,
          35.67141988,
          35.671422022222224,
          35.671424164444446,
          35.67142630666667,
          35.67142844888889,
          35.67143059111111,
          35.67143273333333,
          35.671434875555555,
          35.67143701777778,
          35.67143916,
          35.67144130222222,
          35.67144344444445,
          35.67144558666667,
          35.67144772888889,
          35.671449871111115,
          35.67145201333334,
          35.67145415555556,
          35.67145629777778,
          35.67145844,
          35.671460582222224,
          35.671462724444446,
          35.67146486666667,
          35.67146700888889,
          35.67146915111111,
          35.67147129333333,
          35.671473435555555,
          35.67147557777778,
          35.67147772,
          35.67147986222223,
          35.67148200444445,
          35.67148414666667,
          35.67148628888889,
          35.671488431111115,
          35.67149057333334,
          35.67149271555556,
          35.67149485777778,
          35.671497,
          35.671011,
          35.6710130972973,
          35.671015194594595,
          35.67101729189189,
          35.67101938918919,
          35.67102148648649,
          35.671023583783786,
          35.67102568108108,
          35.67102777837838,
          35.67102987567568,
          35.671031972972976,
          35.671034070270274,
          35.671036167567564,
          35.67103826486486,
          35.67104036216216,
          35.67104245945946,
          35.671044556756755,
          35.67104665405405,
          35.67104875135135,
          35.67105084864865,
          35.671052945945945,
          35.67105504324324,
          35.67105714054054,
          35.67105923783784,
          35.671061335135136,
          35.67106343243243,
          35.67106552972973,
          35.67106762702703,
          35.671069724324326,
          35.671071821621624,
          35.67107391891892,
          35.67107601621622,
          35.671078113513516,
          35.671080210810814,
          35.67108230810811,
          35.6710844054054,
          35.6710865027027,
          35.6710886,
          35.671090697297295,
          35.67109279459459,
          35.67109489189189,
          35.67109698918919,
          35.671099086486485,
          35.67110118378378,
          35.67110328108108,
          35.67110537837838,
          35.671107475675676,
          35.67110957297297,
          35.67111167027027,
          35.67111376756757,
          35.671115864864866,
          35.671117962162164,
          35.67112005945946,
          35.67112215675676,
          35.67112425405406,
          35.671126351351354,
          35.67112844864865,
          35.67113054594595,
          35.67113264324324,
          35.67113474054054,
          35.671136837837835,
          35.67113893513513,
          35.67114103243243,
          35.67114312972973,
          35.671145227027026,
          35.67114732432432,
          35.67114942162162,
          35.67115151891892,
          35.671153616216216,
          35.671155713513514,
          35.67115781081081,
          35.67115990810811,
          35.67116200540541,
          35.671164102702704,
          35.6711662,
          35.6711682972973,
          35.6711703945946,
          35.671172491891895,
          35.67117458918919,
          35.67117668648649,
          35.67117878378379,
          35.67118088108108,
          35.671182978378376,
          35.67118507567567,
          35.67118717297297,
          35.67118927027027,
          35.671191367567566,
          35.671193464864864,
          35.67119556216216,
          35.67119765945946,
          35.67119975675676,
          35.671201854054054,
          35.67120395135135,
          35.67120604864865,
          35.67120814594595,
          35.671210243243245,
          35.67121234054054,
          35.67121443783784,
          35.67121653513514,
          35.671218632432435,
          35.67122072972973,
          35.67122282702703,
          35.67122492432433,
          35.671227021621625,
          35.67122911891892,
          35.67123121621621,
          35.67123331351351,
          35.67123541081081,
          35.671237508108106,
          35.671239605405404,
          35.6712417027027,
          35.6712438,
          35.6712458972973,
          35.671247994594594,
          35.67125009189189,
          35.67125218918919,
          35.67125428648649,
          35.671256383783785,
          35.67125848108108,
          35.67126057837838,
          35.67126267567568,
          35.671264772972975,
          35.67126687027027,
          35.67126896756757,
          35.67127106486487,
          35.671273162162166,
          35.67127525945946,
          35.67127735675676,
          35.67127945405405,
          35.67128155135135,
          35.67128364864865,
          35.671285745945944,
          35.67128784324324,
          35.67128994054054,
          35.67129203783784,
          35.671294135135135,
          35.67129623243243,
          35.67129832972973,
          35.67130042702703,
          35.671302524324325,
          35.67130462162162,
          35.67130671891892,
          35.67130881621622,
          35.671310913513516,
          35.67131301081081,
          35.67131510810811,
          35.67131720540541,
          35.671319302702706,
          35.671321400000004,
          35.6713234972973,
          35.6713255945946,
          35.67132769189189,
          35.67132978918919,
          35.671331886486485,
          35.67133398378378,
          35.67133608108108,
          35.67133817837838,
          35.671340275675675,
          35.67134237297297,
          35.67134447027027,
          35.67134656756757,
          35.671348664864865,
          35.67135076216216,
          35.67135285945946,
          35.67135495675676,
          35.671357054054056,
          35.67135915135135,
          35.67136124864865,
          35.67136334594595,
          35.671365443243246,
          35.671367540540544,
          35.67136963783784,
          35.67137173513514,
          35.67137383243244,
          35.67137592972973,
          35.671378027027025,
          35.67138012432432,
          35.67138222162162,
          35.67138431891892,
          35.671386416216215,
          35.67138851351351,
          35.67139061081081,
          35.67139270810811,
          35.671394805405406,
          35.6713969027027,
          35.671399,
          35.671016,
          35.6710180967742,
          35.67102019354839,
          35.67102229032258,
          35.67102438709678,
          35.67102648387097,
          35.671028580645164,
          35.67103067741936,
          35.67103277419355,
          35.671034870967745,
          35.671036967741934,
          35.67103906451613,
          35.671041161290326,
          35.671043258064515,
          35.67104535483871,
          35.67104745161291,
          35.671049548387096,
          35.67105164516129,
          35.67105374193549,
          35.67105583870968,
          35.67105793548387,
          35.67106003225807,
          35.67106212903226,
          35.671064225806454,
          35.67106632258064,
          35.67106841935484,
          35.671070516129035,
          35.671072612903224,
          35.67107470967742,
          35.671076806451616,
          35.671078903225805,
          35.671081,
          35.6710830967742,
          35.671085193548386,
          35.67108729032258,
          35.67108938709678,
          35.67109148387097,
          35.67109358064516,
          35.67109567741936,
          35.67109777419355,
          35.671099870967744,
          35.67110196774193,
          35.67110406451613,
          35.671106161290325,
          35.671108258064514,
          35.67111035483871,
          35.671112451612906,
          35.671114548387095,
          35.67111664516129,
          35.67111874193549,
          35.671120838709676,
          35.67112293548387,
          35.67112503225807,
          35.67112712903226,
          35.67112922580645,
          35.67113132258064,
          35.67113341935484,
          35.671135516129034,
          35.67113761290322,
          35.67113970967742,
          35.671141806451615,
          35.671143903225804,
          35.671146,
          35.671148096774196,
          35.671150193548385,
          35.67115229032258,
          35.67115438709678,
          35.671156483870966,
          35.67115858064516,
          35.67116067741936,
          35.67116277419355,
          35.67116487096774,
          35.67116696774193,
          35.67116906451613,
          35.671171161290324,
          35.67117325806451,
          35.67117535483871,
          35.671177451612905,
          35.671179548387094,
          35.67118164516129,
          35.67118374193549,
          35.671185838709675,
          35.67118793548387,
          35.67119003225807,
          35.671192129032256,
          35.67119422580645,
          35.67119632258064,
          35.67119841935484,
          35.67120051612903,
          35.67120261290322,
          35.67120470967742,
          35.671206806451615,
          35.6712089032258,
          35.671211,
          35.671213096774196,
          35.671215193548385,
          35.67121729032258,
          35.67121938709678,
          35.671221483870966,
          35.67122358064516,
          35.67122567741936,
          35.67122777419355,
          35.67122987096774,
          35.67123196774193,
          35.67123406451613,
          35.671236161290324,
          35.67123825806451,
          35.67124035483871,
          35.671242451612905,
          35.671244548387094,
          35.67124664516129,
          35.671248741935486,
          35.671250838709675,
          35.67125293548387,
          35.67125503225807,
          35.671257129032256,
          35.67125922580645,
          35.67126132258064,
          35.67126341935484,
          35.67126551612903,
          35.67126761290322,
          35.67126970967742,
          35.671271806451614,
          35.6712739032258,
          35.671276,
          35.671278096774195,
          35.671280193548384,
          35.67128229032258,
          35.671284387096776,
          35.671286483870965,
          35.67128858064516,
          35.67129067741936,
          35.671292774193546,
          35.67129487096774,
          35.67129696774193,
          35.67129906451613,
          35.67130116129032,
          35.67130325806451,
          35.67130535483871,
          35.671307451612904,
          35.67130954838709,
          35.67131164516129,
          35.671313741935485,
          35.671315838709674,
          35.67131793548387,
          35.671320032258066,
          35.671322129032255,
          35.67132422580645,
          35.67132632258064,
          35.671328419354836,
          35.67133051612903,
          35.67133261290322,
          35.67133470967742,
          35.67133680645161,
          35.6713389032258,
          35.671341,
          35.671343096774194,
          35.67134519354838,
          35.67134729032258,
          35.671349387096775,
          35.671351483870964,
          35.67135358064516,
          35.671355677419356,
          35.671357774193545,
          35.67135987096774,
          35.67136196774193,
          35.671364064516126,
          35.67136616129032,
          35.67136825806451,
          35.67137035483871,
          35.6713724516129,
          35.67137454838709,
          35.67137664516129,
          35.671378741935484,
          35.67138083870967,
          35.67138293548387,
          35.671385032258065,
          35.671387129032254,
          35.67138922580645,
          35.67139132258064,
          35.671393419354835,
          35.67139551612903,
          35.67139761290322,
          35.67139970967742,
          35.67140180645161,
          35.6714039032258,
          35.671406,
          35.671005,
          35.67100710300429,
          35.671009206008584,
          35.671011309012876,
          35.67101341201717,
          35.67101551502146,
          35.67101761802575,
          35.67101972103004,
          35.671021824034334,
          35.671023927038625,
          35.67102603004292,
          35.67102813304721,
          35.6710302360515,
          35.67103233905579,
          35.67103444206008,
          35.67103654506438,
          35.671038648068674,
          35.671040751072965,
          35.67104285407726,
          35.67104495708155,
          35.67104706008584,
          35.67104916309013,
          35.67105126609442,
          35.671053369098715,
          35.671055472103006,
          35.6710575751073,
          35.67105967811159,
          35.67106178111588,
          35.67106388412017,
          35.671065987124464,
          35.671068090128756,
          35.67107019313305,
          35.67107229613734,
          35.67107439914163,
          35.67107650214592,
          35.671078605150214,
          35.671080708154506,
          35.6710828111588,
          35.67108491416309,
          35.67108701716738,
          35.67108912017167,
          35.671091223175964,
          35.671093326180255,
          35.67109542918455,
          35.671097532188845,
          35.67109963519314,
          35.67110173819743,
          35.67110384120172,
          35.67110594420601,
          35.6711080472103,
          35.671110150214595,
          35.67111225321889,
          35.67111435622318,
          35.67111645922747,
          35.67111856223176,
          35.67112066523605,
          35.671122768240345,
          35.671124871244636,
          35.67112697424893,
          35.67112907725322,
          35.67113118025751,
          35.6711332832618,
          35.671135386266094,
          35.671137489270386,
          35.67113959227468,
          35.67114169527897,
          35.67114379828326,
          35.67114590128755,
          35.671148004291844,
          35.671150107296135,
          35.67115221030043,
          35.67115431330472,
          35.67115641630901,
          35.67115851931331,
          35.6711606223176,
          35.67116272532189,
          35.671164828326184,
          35.671166931330475,
          35.67116903433477,
          35.67117113733906,
          35.67117324034335,
          35.67117534334764,
          35.67117744635193,
          35.671179549356225,
          35.67118165236052,
          35.67118375536481,
          35.6711858583691,
          35.67118796137339,
          35.67119006437768,
          35.671192167381975,
          35.671194270386266,
          35.67119637339056,
          35.67119847639485,
          35.67120057939914,
          35.67120268240343,
          35.671204785407724,
          35.671206888412016,
          35.67120899141631,
          35.6712110944206,
          35.67121319742489,
          35.67121530042918,
          35.671217403433474,
          35.67121950643777,
          35.671221609442064,
          35.671223712446356,
          35.67122581545065,
          35.67122791845494,
          35.67123002145923,
          35.67123212446352,
          35.671234227467814,
          35.671236330472105,
          35.6712384334764,
          35.67124053648069,
          35.67124263948498,
          35.67124474248927,
          35.67124684549356,
          35.671248948497855,
          35.671251051502146,
          35.67125315450644,
          35.67125525751073,
          35.67125736051502,
          35.67125946351931,
          35.671261566523604,
          35.671263669527896,
          35.67126577253219,
          35.67126787553648,
          35.67126997854077,
          35.67127208154506,
          35.671274184549354,
          35.671276287553646,
          35.67127839055794,
          35.67128049356223,
          35.67128259656653,
          35.67128469957082,
          35.67128680257511,
          35.6712889055794,
          35.671291008583694,
          35.671293111587985,
          35.67129521459228,
          35.67129731759657,
          35.67129942060086,
          35.67130152360515,
          35.67130362660944,
          35.671305729613735,
          35.67130783261803,
          35.67130993562232,
          35.67131203862661,
          35.6713141416309,
          35.67131624463519,
          35.671318347639485,
          35.671320450643776,
          35.67132255364807,
          35.67132465665236,
          35.67132675965665,
          35.67132886266094,
          35.671330965665234,
          35.671333068669526,
          35.67133517167382,
          35.67133727467811,
          35.6713393776824,
          35.67134148068669,
          35.67134358369099,
          35.67134568669528,
          35.671347789699574,
          35.671349892703866,
          35.67135199570816,
          35.67135409871245,
          35.67135620171674,
          35.67135830472103,
          35.671360407725324,
          35.671362510729615,
          35.67136461373391,
          35.6713667167382,
          35.67136881974249,
          35.67137092274678,
          35.67137302575107,
          35.671375128755365,
          35.67137723175966,
          35.67137933476395,
          35.67138143776824,
          35.67138354077253,
          35.67138564377682,
          35.671387746781114,
          35.671389849785406,
          35.6713919527897,
          35.67139405579399,
          35.67139615879828,
          35.67139826180257,
          35.671400364806864,
          35.671402467811156,
          35.671404570815454,
          35.671406673819746,
          35.67140877682404,
          35.67141087982833,
          35.67141298283262,
          35.67141508583691,
          35.671417188841204,
          35.671419291845496,
          35.67142139484979,
          35.67142349785408,
          35.67142560085837,
          35.67142770386266,
          35.67142980686695,
          35.671431909871245,
          35.67143401287554,
          35.67143611587983,
          35.67143821888412,
          35.67144032188841,
          35.6714424248927,
          35.671444527896995,
          35.671446630901286,
          35.67144873390558,
          35.67145083690987,
          35.67145293991416,
          35.67145504291845,
          35.671457145922744,
          35.671459248927036,
          35.67146135193133,
          35.67146345493562,
          35.67146555793992,
          35.67146766094421,
          35.6714697639485,
          35.67147186695279,
          35.671473969957084,
          35.671476072961376,
          35.67147817596567,
          35.67148027896996,
          35.67148238197425,
          35.67148448497854,
          35.671486587982834,
          35.671488690987125,
          35.67149079399142,
          35.67149289699571,
          35.671495
         ],
         "xaxis": "x",
         "y": [
          -96.662334,
          -96.66233396444444,
          -96.66233392888888,
          -96.66233389333334,
          -96.66233385777778,
          -96.66233382222222,
          -96.66233378666666,
          -96.6623337511111,
          -96.66233371555556,
          -96.66233368,
          -96.66233364444444,
          -96.66233360888889,
          -96.66233357333333,
          -96.66233353777778,
          -96.66233350222222,
          -96.66233346666667,
          -96.66233343111111,
          -96.66233339555555,
          -96.66233336,
          -96.66233332444445,
          -96.66233328888889,
          -96.66233325333333,
          -96.66233321777777,
          -96.66233318222223,
          -96.66233314666667,
          -96.66233311111111,
          -96.66233307555555,
          -96.66233304000001,
          -96.66233300444445,
          -96.66233296888889,
          -96.66233293333333,
          -96.66233289777777,
          -96.66233286222223,
          -96.66233282666667,
          -96.66233279111111,
          -96.66233275555555,
          -96.66233272,
          -96.66233268444445,
          -96.66233264888889,
          -96.66233261333333,
          -96.66233257777778,
          -96.66233254222222,
          -96.66233250666667,
          -96.66233247111111,
          -96.66233243555556,
          -96.6623324,
          -96.66233236444444,
          -96.6623323288889,
          -96.66233229333334,
          -96.66233225777778,
          -96.66233222222222,
          -96.66233218666666,
          -96.66233215111112,
          -96.66233211555556,
          -96.66233208,
          -96.66233204444444,
          -96.66233200888888,
          -96.66233197333334,
          -96.66233193777778,
          -96.66233190222222,
          -96.66233186666666,
          -96.6623318311111,
          -96.66233179555556,
          -96.66233176,
          -96.66233172444444,
          -96.66233168888888,
          -96.66233165333333,
          -96.66233161777778,
          -96.66233158222222,
          -96.66233154666666,
          -96.6623315111111,
          -96.66233147555556,
          -96.66233144,
          -96.66233140444444,
          -96.66233136888889,
          -96.66233133333333,
          -96.66233129777778,
          -96.66233126222222,
          -96.66233122666667,
          -96.66233119111111,
          -96.66233115555555,
          -96.66233112,
          -96.66233108444445,
          -96.66233104888889,
          -96.66233101333333,
          -96.66233097777777,
          -96.66233094222223,
          -96.66233090666667,
          -96.66233087111111,
          -96.66233083555555,
          -96.66233079999999,
          -96.66233076444445,
          -96.66233072888889,
          -96.66233069333333,
          -96.66233065777777,
          -96.66233062222221,
          -96.66233058666667,
          -96.66233055111111,
          -96.66233051555555,
          -96.66233048,
          -96.66233044444444,
          -96.66233040888889,
          -96.66233037333333,
          -96.66233033777777,
          -96.66233030222222,
          -96.66233026666666,
          -96.66233023111111,
          -96.66233019555555,
          -96.66233016,
          -96.66233012444444,
          -96.66233008888888,
          -96.66233005333333,
          -96.66233001777778,
          -96.66232998222222,
          -96.66232994666666,
          -96.66232991111112,
          -96.66232987555556,
          -96.66232984,
          -96.66232980444444,
          -96.66232976888888,
          -96.66232973333334,
          -96.66232969777778,
          -96.66232966222222,
          -96.66232962666666,
          -96.6623295911111,
          -96.66232955555556,
          -96.66232952,
          -96.66232948444444,
          -96.66232944888888,
          -96.66232941333332,
          -96.66232937777778,
          -96.66232934222222,
          -96.66232930666666,
          -96.6623292711111,
          -96.66232923555555,
          -96.6623292,
          -96.66232916444444,
          -96.66232912888889,
          -96.66232909333333,
          -96.66232905777777,
          -96.66232902222222,
          -96.66232898666667,
          -96.6623289511111,
          -96.66232891555555,
          -96.66232887999999,
          -96.66232884444445,
          -96.66232880888889,
          -96.66232877333333,
          -96.66232873777777,
          -96.66232870222221,
          -96.66232866666667,
          -96.66232863111111,
          -96.66232859555555,
          -96.66232855999999,
          -96.66232852444443,
          -96.66232848888889,
          -96.66232845333333,
          -96.66232841777777,
          -96.66232838222221,
          -96.66232834666667,
          -96.66232831111111,
          -96.66232827555555,
          -96.66232824,
          -96.66232820444444,
          -96.66232816888889,
          -96.66232813333333,
          -96.66232809777777,
          -96.66232806222222,
          -96.66232802666666,
          -96.66232799111111,
          -96.66232795555555,
          -96.66232792,
          -96.66232788444444,
          -96.66232784888888,
          -96.66232781333333,
          -96.66232777777778,
          -96.66232774222222,
          -96.66232770666666,
          -96.6623276711111,
          -96.66232763555556,
          -96.6623276,
          -96.66232756444444,
          -96.66232752888888,
          -96.66232749333332,
          -96.66232745777778,
          -96.66232742222222,
          -96.66232738666666,
          -96.6623273511111,
          -96.66232731555554,
          -96.66232728,
          -96.66232724444444,
          -96.66232720888888,
          -96.66232717333332,
          -96.66232713777777,
          -96.66232710222222,
          -96.66232706666666,
          -96.6623270311111,
          -96.66232699555555,
          -96.66232695999999,
          -96.66232692444444,
          -96.66232688888888,
          -96.66232685333333,
          -96.66232681777777,
          -96.66232678222222,
          -96.66232674666666,
          -96.6623267111111,
          -96.66232667555555,
          -96.66232663999999,
          -96.66232660444444,
          -96.66232656888889,
          -96.66232653333333,
          -96.66232649777777,
          -96.66232646222221,
          -96.66232642666667,
          -96.66232639111111,
          -96.66232635555555,
          -96.66232631999999,
          -96.66232628444443,
          -96.66232624888889,
          -96.66232621333333,
          -96.66232617777777,
          -96.66232614222221,
          -96.66232610666665,
          -96.66232607111111,
          -96.66232603555555,
          -96.662326,
          -96.662355,
          -96.66235496216217,
          -96.66235492432433,
          -96.6623548864865,
          -96.66235484864865,
          -96.66235481081081,
          -96.66235477297298,
          -96.66235473513514,
          -96.6623546972973,
          -96.66235465945947,
          -96.66235462162163,
          -96.6623545837838,
          -96.66235454594595,
          -96.66235450810811,
          -96.66235447027027,
          -96.66235443243244,
          -96.6623543945946,
          -96.66235435675677,
          -96.66235431891893,
          -96.66235428108108,
          -96.66235424324324,
          -96.6623542054054,
          -96.66235416756757,
          -96.66235412972974,
          -96.6623540918919,
          -96.66235405405406,
          -96.66235401621621,
          -96.66235397837838,
          -96.66235394054054,
          -96.6623539027027,
          -96.66235386486487,
          -96.66235382702703,
          -96.6623537891892,
          -96.66235375135136,
          -96.66235371351351,
          -96.66235367567567,
          -96.66235363783784,
          -96.6623536,
          -96.66235356216217,
          -96.66235352432433,
          -96.6623534864865,
          -96.66235344864864,
          -96.66235341081081,
          -96.66235337297297,
          -96.66235333513514,
          -96.6623532972973,
          -96.66235325945946,
          -96.66235322162163,
          -96.6623531837838,
          -96.66235314594594,
          -96.6623531081081,
          -96.66235307027027,
          -96.66235303243243,
          -96.6623529945946,
          -96.66235295675676,
          -96.66235291891893,
          -96.66235288108108,
          -96.66235284324324,
          -96.6623528054054,
          -96.66235276756757,
          -96.66235272972973,
          -96.6623526918919,
          -96.66235265405406,
          -96.66235261621621,
          -96.66235257837837,
          -96.66235254054054,
          -96.6623525027027,
          -96.66235246486487,
          -96.66235242702703,
          -96.6623523891892,
          -96.66235235135136,
          -96.66235231351351,
          -96.66235227567567,
          -96.66235223783784,
          -96.6623522,
          -96.66235216216216,
          -96.66235212432433,
          -96.6623520864865,
          -96.66235204864864,
          -96.6623520108108,
          -96.66235197297297,
          -96.66235193513513,
          -96.6623518972973,
          -96.66235185945946,
          -96.66235182162163,
          -96.66235178378379,
          -96.66235174594594,
          -96.6623517081081,
          -96.66235167027027,
          -96.66235163243243,
          -96.6623515945946,
          -96.66235155675676,
          -96.66235151891892,
          -96.66235148108107,
          -96.66235144324324,
          -96.6623514054054,
          -96.66235136756757,
          -96.66235132972973,
          -96.6623512918919,
          -96.66235125405406,
          -96.66235121621621,
          -96.66235117837837,
          -96.66235114054054,
          -96.6623511027027,
          -96.66235106486486,
          -96.66235102702703,
          -96.66235098918919,
          -96.66235095135136,
          -96.6623509135135,
          -96.66235087567567,
          -96.66235083783783,
          -96.6623508,
          -96.66235076216216,
          -96.66235072432433,
          -96.66235068648649,
          -96.66235064864864,
          -96.6623506108108,
          -96.66235057297297,
          -96.66235053513513,
          -96.6623504972973,
          -96.66235045945946,
          -96.66235042162162,
          -96.66235038378379,
          -96.66235034594594,
          -96.6623503081081,
          -96.66235027027027,
          -96.66235023243243,
          -96.6623501945946,
          -96.66235015675676,
          -96.66235011891892,
          -96.66235008108107,
          -96.66235004324324,
          -96.6623500054054,
          -96.66234996756756,
          -96.66234992972973,
          -96.66234989189189,
          -96.66234985405406,
          -96.6623498162162,
          -96.66234977837837,
          -96.66234974054053,
          -96.6623497027027,
          -96.66234966486486,
          -96.66234962702703,
          -96.66234958918919,
          -96.66234955135135,
          -96.6623495135135,
          -96.66234947567567,
          -96.66234943783783,
          -96.6623494,
          -96.66234936216216,
          -96.66234932432432,
          -96.66234928648649,
          -96.66234924864864,
          -96.6623492108108,
          -96.66234917297297,
          -96.66234913513513,
          -96.6623490972973,
          -96.66234905945946,
          -96.66234902162162,
          -96.66234898378379,
          -96.66234894594594,
          -96.6623489081081,
          -96.66234887027026,
          -96.66234883243243,
          -96.66234879459459,
          -96.66234875675676,
          -96.66234871891892,
          -96.66234868108107,
          -96.66234864324323,
          -96.6623486054054,
          -96.66234856756756,
          -96.66234852972973,
          -96.66234849189189,
          -96.66234845405405,
          -96.6623484162162,
          -96.66234837837837,
          -96.66234834054053,
          -96.6623483027027,
          -96.66234826486486,
          -96.66234822702702,
          -96.66234818918919,
          -96.66234815135135,
          -96.6623481135135,
          -96.66234807567567,
          -96.66234803783783,
          -96.662348,
          -96.662355,
          -96.66235495698925,
          -96.6623549139785,
          -96.66235487096775,
          -96.66235482795699,
          -96.66235478494625,
          -96.66235474193549,
          -96.66235469892473,
          -96.66235465591399,
          -96.66235461290323,
          -96.66235456989247,
          -96.66235452688173,
          -96.66235448387097,
          -96.66235444086021,
          -96.66235439784947,
          -96.66235435483871,
          -96.66235431182797,
          -96.66235426881721,
          -96.66235422580645,
          -96.66235418279571,
          -96.66235413978495,
          -96.6623540967742,
          -96.66235405376345,
          -96.6623540107527,
          -96.66235396774194,
          -96.66235392473119,
          -96.66235388172043,
          -96.66235383870968,
          -96.66235379569893,
          -96.66235375268818,
          -96.66235370967742,
          -96.66235366666668,
          -96.66235362365592,
          -96.66235358064516,
          -96.66235353763442,
          -96.66235349462366,
          -96.6623534516129,
          -96.66235340860216,
          -96.6623533655914,
          -96.66235332258064,
          -96.6623532795699,
          -96.66235323655914,
          -96.66235319354838,
          -96.66235315053764,
          -96.66235310752688,
          -96.66235306451613,
          -96.66235302150538,
          -96.66235297849462,
          -96.66235293548388,
          -96.66235289247312,
          -96.66235284946237,
          -96.66235280645162,
          -96.66235276344086,
          -96.6623527204301,
          -96.66235267741936,
          -96.6623526344086,
          -96.66235259139785,
          -96.6623525483871,
          -96.66235250537635,
          -96.66235246236559,
          -96.66235241935485,
          -96.66235237634409,
          -96.66235233333333,
          -96.66235229032259,
          -96.66235224731183,
          -96.66235220430107,
          -96.66235216129033,
          -96.66235211827957,
          -96.66235207526881,
          -96.66235203225807,
          -96.66235198924731,
          -96.66235194623656,
          -96.66235190322581,
          -96.66235186021505,
          -96.6623518172043,
          -96.66235177419355,
          -96.6623517311828,
          -96.66235168817204,
          -96.6623516451613,
          -96.66235160215054,
          -96.6623515591398,
          -96.66235151612904,
          -96.66235147311828,
          -96.66235143010753,
          -96.66235138709678,
          -96.66235134408602,
          -96.66235130107528,
          -96.66235125806452,
          -96.66235121505376,
          -96.66235117204302,
          -96.66235112903226,
          -96.6623510860215,
          -96.66235104301076,
          -96.662351,
          -96.66235095698924,
          -96.6623509139785,
          -96.66235087096774,
          -96.66235082795698,
          -96.66235078494624,
          -96.66235074193548,
          -96.66235069892473,
          -96.66235065591398,
          -96.66235061290323,
          -96.66235056989247,
          -96.66235052688172,
          -96.66235048387097,
          -96.66235044086021,
          -96.66235039784947,
          -96.66235035483871,
          -96.66235031182796,
          -96.6623502688172,
          -96.66235022580645,
          -96.6623501827957,
          -96.66235013978495,
          -96.66235009677419,
          -96.66235005376345,
          -96.66235001075269,
          -96.66234996774193,
          -96.66234992473119,
          -96.66234988172043,
          -96.66234983870967,
          -96.66234979569893,
          -96.66234975268817,
          -96.66234970967741,
          -96.66234966666667,
          -96.66234962365591,
          -96.66234958064516,
          -96.66234953763441,
          -96.66234949462365,
          -96.6623494516129,
          -96.66234940860215,
          -96.6623493655914,
          -96.66234932258064,
          -96.6623492795699,
          -96.66234923655914,
          -96.66234919354838,
          -96.66234915053764,
          -96.66234910752688,
          -96.66234906451612,
          -96.66234902150538,
          -96.66234897849462,
          -96.66234893548388,
          -96.66234889247312,
          -96.66234884946236,
          -96.66234880645162,
          -96.66234876344086,
          -96.6623487204301,
          -96.66234867741936,
          -96.6623486344086,
          -96.66234859139784,
          -96.6623485483871,
          -96.66234850537634,
          -96.66234846236559,
          -96.66234841935484,
          -96.66234837634408,
          -96.66234833333333,
          -96.66234829032258,
          -96.66234824731183,
          -96.66234820430107,
          -96.66234816129032,
          -96.66234811827957,
          -96.66234807526881,
          -96.66234803225807,
          -96.66234798924731,
          -96.66234794623655,
          -96.66234790322581,
          -96.66234786021505,
          -96.66234781720429,
          -96.66234777419355,
          -96.66234773118279,
          -96.66234768817203,
          -96.66234764516129,
          -96.66234760215053,
          -96.66234755913979,
          -96.66234751612903,
          -96.66234747311827,
          -96.66234743010753,
          -96.66234738709677,
          -96.66234734408602,
          -96.66234730107527,
          -96.66234725806451,
          -96.66234721505376,
          -96.66234717204301,
          -96.66234712903226,
          -96.6623470860215,
          -96.66234704301075,
          -96.662347,
          -96.662349,
          -96.66234894849786,
          -96.66234889699571,
          -96.66234884549357,
          -96.66234879399143,
          -96.66234874248927,
          -96.66234869098713,
          -96.66234863948499,
          -96.66234858798283,
          -96.66234853648069,
          -96.66234848497855,
          -96.6623484334764,
          -96.66234838197425,
          -96.66234833047211,
          -96.66234827896996,
          -96.66234822746782,
          -96.66234817596568,
          -96.66234812446352,
          -96.66234807296138,
          -96.66234802145924,
          -96.66234796995708,
          -96.66234791845494,
          -96.6623478669528,
          -96.66234781545064,
          -96.6623477639485,
          -96.66234771244636,
          -96.6623476609442,
          -96.66234760944207,
          -96.66234755793992,
          -96.66234750643777,
          -96.66234745493563,
          -96.66234740343349,
          -96.66234735193133,
          -96.66234730042919,
          -96.66234724892705,
          -96.6623471974249,
          -96.66234714592275,
          -96.66234709442061,
          -96.66234704291846,
          -96.66234699141631,
          -96.66234693991417,
          -96.66234688841202,
          -96.66234683690988,
          -96.66234678540773,
          -96.66234673390558,
          -96.66234668240344,
          -96.6623466309013,
          -96.66234657939914,
          -96.662346527897,
          -96.66234647639486,
          -96.6623464248927,
          -96.66234637339056,
          -96.66234632188842,
          -96.66234627038627,
          -96.66234621888412,
          -96.66234616738198,
          -96.66234611587983,
          -96.66234606437769,
          -96.66234601287555,
          -96.66234596137339,
          -96.66234590987125,
          -96.66234585836911,
          -96.66234580686695,
          -96.66234575536481,
          -96.66234570386267,
          -96.66234565236051,
          -96.66234560085837,
          -96.66234554935623,
          -96.66234549785408,
          -96.66234544635194,
          -96.6623453948498,
          -96.66234534334764,
          -96.6623452918455,
          -96.66234524034336,
          -96.6623451888412,
          -96.66234513733906,
          -96.66234508583692,
          -96.66234503433476,
          -96.66234498283262,
          -96.66234493133048,
          -96.66234487982832,
          -96.66234482832618,
          -96.66234477682404,
          -96.66234472532189,
          -96.66234467381975,
          -96.6623446223176,
          -96.66234457081545,
          -96.66234451931331,
          -96.66234446781117,
          -96.66234441630901,
          -96.66234436480687,
          -96.66234431330473,
          -96.66234426180257,
          -96.66234421030043,
          -96.66234415879829,
          -96.66234410729614,
          -96.662344055794,
          -96.66234400429185,
          -96.6623439527897,
          -96.66234390128756,
          -96.66234384978542,
          -96.66234379828326,
          -96.66234374678112,
          -96.66234369527898,
          -96.66234364377682,
          -96.66234359227468,
          -96.66234354077254,
          -96.66234348927038,
          -96.66234343776824,
          -96.6623433862661,
          -96.66234333476395,
          -96.6623432832618,
          -96.66234323175966,
          -96.66234318025751,
          -96.66234312875537,
          -96.66234307725323,
          -96.66234302575107,
          -96.66234297424893,
          -96.66234292274677,
          -96.66234287124463,
          -96.66234281974249,
          -96.66234276824034,
          -96.6623427167382,
          -96.66234266523605,
          -96.6623426137339,
          -96.66234256223176,
          -96.66234251072962,
          -96.66234245922746,
          -96.66234240772532,
          -96.66234235622318,
          -96.66234230472102,
          -96.66234225321888,
          -96.66234220171674,
          -96.66234215021458,
          -96.66234209871244,
          -96.6623420472103,
          -96.66234199570815,
          -96.662341944206,
          -96.66234189270386,
          -96.66234184120171,
          -96.66234178969957,
          -96.66234173819743,
          -96.66234168669527,
          -96.66234163519313,
          -96.66234158369099,
          -96.66234153218883,
          -96.66234148068669,
          -96.66234142918455,
          -96.6623413776824,
          -96.66234132618025,
          -96.66234127467811,
          -96.66234122317596,
          -96.66234117167382,
          -96.66234112017167,
          -96.66234106866952,
          -96.66234101716738,
          -96.66234096566524,
          -96.66234091416308,
          -96.66234086266094,
          -96.6623408111588,
          -96.66234075965664,
          -96.6623407081545,
          -96.66234065665236,
          -96.6623406051502,
          -96.66234055364806,
          -96.66234050214592,
          -96.66234045064377,
          -96.66234039914163,
          -96.66234034763949,
          -96.66234029613733,
          -96.66234024463519,
          -96.66234019313305,
          -96.66234014163089,
          -96.66234009012875,
          -96.66234003862661,
          -96.66233998712445,
          -96.66233993562231,
          -96.66233988412017,
          -96.66233983261802,
          -96.66233978111588,
          -96.66233972961373,
          -96.66233967811158,
          -96.66233962660944,
          -96.6623395751073,
          -96.66233952360514,
          -96.662339472103,
          -96.66233942060086,
          -96.6623393690987,
          -96.66233931759656,
          -96.66233926609442,
          -96.66233921459227,
          -96.66233916309012,
          -96.66233911158798,
          -96.66233906008583,
          -96.66233900858369,
          -96.66233895708154,
          -96.66233890557939,
          -96.66233885407725,
          -96.6623388025751,
          -96.66233875107295,
          -96.66233869957081,
          -96.66233864806867,
          -96.66233859656651,
          -96.66233854506437,
          -96.66233849356223,
          -96.66233844206008,
          -96.66233839055793,
          -96.6623383390558,
          -96.66233828755364,
          -96.6623382360515,
          -96.66233818454936,
          -96.6623381330472,
          -96.66233808154506,
          -96.66233803004292,
          -96.66233797854076,
          -96.66233792703862,
          -96.66233787553648,
          -96.66233782403432,
          -96.66233777253218,
          -96.66233772103004,
          -96.66233766952789,
          -96.66233761802575,
          -96.6623375665236,
          -96.66233751502145,
          -96.66233746351931,
          -96.66233741201717,
          -96.66233736051501,
          -96.66233730901287,
          -96.66233725751073,
          -96.66233720600857,
          -96.66233715450643,
          -96.66233710300429,
          -96.66233705150213,
          -96.662337
         ],
         "yaxis": "y"
        }
       ],
       "layout": {
        "coloraxis": {
         "colorbar": {
          "title": {
           "text": "cluster"
          }
         },
         "colorscale": [
          [
           0,
           "#0d0887"
          ],
          [
           0.1111111111111111,
           "#46039f"
          ],
          [
           0.2222222222222222,
           "#7201a8"
          ],
          [
           0.3333333333333333,
           "#9c179e"
          ],
          [
           0.4444444444444444,
           "#bd3786"
          ],
          [
           0.5555555555555556,
           "#d8576b"
          ],
          [
           0.6666666666666666,
           "#ed7953"
          ],
          [
           0.7777777777777778,
           "#fb9f3a"
          ],
          [
           0.8888888888888888,
           "#fdca26"
          ],
          [
           1,
           "#f0f921"
          ]
         ]
        },
        "height": 600,
        "legend": {
         "tracegroupgap": 0
        },
        "template": {
         "data": {
          "bar": [
           {
            "error_x": {
             "color": "#2a3f5f"
            },
            "error_y": {
             "color": "#2a3f5f"
            },
            "marker": {
             "line": {
              "color": "#E5ECF6",
              "width": 0.5
             },
             "pattern": {
              "fillmode": "overlay",
              "size": 10,
              "solidity": 0.2
             }
            },
            "type": "bar"
           }
          ],
          "barpolar": [
           {
            "marker": {
             "line": {
              "color": "#E5ECF6",
              "width": 0.5
             },
             "pattern": {
              "fillmode": "overlay",
              "size": 10,
              "solidity": 0.2
             }
            },
            "type": "barpolar"
           }
          ],
          "carpet": [
           {
            "aaxis": {
             "endlinecolor": "#2a3f5f",
             "gridcolor": "white",
             "linecolor": "white",
             "minorgridcolor": "white",
             "startlinecolor": "#2a3f5f"
            },
            "baxis": {
             "endlinecolor": "#2a3f5f",
             "gridcolor": "white",
             "linecolor": "white",
             "minorgridcolor": "white",
             "startlinecolor": "#2a3f5f"
            },
            "type": "carpet"
           }
          ],
          "choropleth": [
           {
            "colorbar": {
             "outlinewidth": 0,
             "ticks": ""
            },
            "type": "choropleth"
           }
          ],
          "contour": [
           {
            "colorbar": {
             "outlinewidth": 0,
             "ticks": ""
            },
            "colorscale": [
             [
              0,
              "#0d0887"
             ],
             [
              0.1111111111111111,
              "#46039f"
             ],
             [
              0.2222222222222222,
              "#7201a8"
             ],
             [
              0.3333333333333333,
              "#9c179e"
             ],
             [
              0.4444444444444444,
              "#bd3786"
             ],
             [
              0.5555555555555556,
              "#d8576b"
             ],
             [
              0.6666666666666666,
              "#ed7953"
             ],
             [
              0.7777777777777778,
              "#fb9f3a"
             ],
             [
              0.8888888888888888,
              "#fdca26"
             ],
             [
              1,
              "#f0f921"
             ]
            ],
            "type": "contour"
           }
          ],
          "contourcarpet": [
           {
            "colorbar": {
             "outlinewidth": 0,
             "ticks": ""
            },
            "type": "contourcarpet"
           }
          ],
          "heatmap": [
           {
            "colorbar": {
             "outlinewidth": 0,
             "ticks": ""
            },
            "colorscale": [
             [
              0,
              "#0d0887"
             ],
             [
              0.1111111111111111,
              "#46039f"
             ],
             [
              0.2222222222222222,
              "#7201a8"
             ],
             [
              0.3333333333333333,
              "#9c179e"
             ],
             [
              0.4444444444444444,
              "#bd3786"
             ],
             [
              0.5555555555555556,
              "#d8576b"
             ],
             [
              0.6666666666666666,
              "#ed7953"
             ],
             [
              0.7777777777777778,
              "#fb9f3a"
             ],
             [
              0.8888888888888888,
              "#fdca26"
             ],
             [
              1,
              "#f0f921"
             ]
            ],
            "type": "heatmap"
           }
          ],
          "heatmapgl": [
           {
            "colorbar": {
             "outlinewidth": 0,
             "ticks": ""
            },
            "colorscale": [
             [
              0,
              "#0d0887"
             ],
             [
              0.1111111111111111,
              "#46039f"
             ],
             [
              0.2222222222222222,
              "#7201a8"
             ],
             [
              0.3333333333333333,
              "#9c179e"
             ],
             [
              0.4444444444444444,
              "#bd3786"
             ],
             [
              0.5555555555555556,
              "#d8576b"
             ],
             [
              0.6666666666666666,
              "#ed7953"
             ],
             [
              0.7777777777777778,
              "#fb9f3a"
             ],
             [
              0.8888888888888888,
              "#fdca26"
             ],
             [
              1,
              "#f0f921"
             ]
            ],
            "type": "heatmapgl"
           }
          ],
          "histogram": [
           {
            "marker": {
             "pattern": {
              "fillmode": "overlay",
              "size": 10,
              "solidity": 0.2
             }
            },
            "type": "histogram"
           }
          ],
          "histogram2d": [
           {
            "colorbar": {
             "outlinewidth": 0,
             "ticks": ""
            },
            "colorscale": [
             [
              0,
              "#0d0887"
             ],
             [
              0.1111111111111111,
              "#46039f"
             ],
             [
              0.2222222222222222,
              "#7201a8"
             ],
             [
              0.3333333333333333,
              "#9c179e"
             ],
             [
              0.4444444444444444,
              "#bd3786"
             ],
             [
              0.5555555555555556,
              "#d8576b"
             ],
             [
              0.6666666666666666,
              "#ed7953"
             ],
             [
              0.7777777777777778,
              "#fb9f3a"
             ],
             [
              0.8888888888888888,
              "#fdca26"
             ],
             [
              1,
              "#f0f921"
             ]
            ],
            "type": "histogram2d"
           }
          ],
          "histogram2dcontour": [
           {
            "colorbar": {
             "outlinewidth": 0,
             "ticks": ""
            },
            "colorscale": [
             [
              0,
              "#0d0887"
             ],
             [
              0.1111111111111111,
              "#46039f"
             ],
             [
              0.2222222222222222,
              "#7201a8"
             ],
             [
              0.3333333333333333,
              "#9c179e"
             ],
             [
              0.4444444444444444,
              "#bd3786"
             ],
             [
              0.5555555555555556,
              "#d8576b"
             ],
             [
              0.6666666666666666,
              "#ed7953"
             ],
             [
              0.7777777777777778,
              "#fb9f3a"
             ],
             [
              0.8888888888888888,
              "#fdca26"
             ],
             [
              1,
              "#f0f921"
             ]
            ],
            "type": "histogram2dcontour"
           }
          ],
          "mesh3d": [
           {
            "colorbar": {
             "outlinewidth": 0,
             "ticks": ""
            },
            "type": "mesh3d"
           }
          ],
          "parcoords": [
           {
            "line": {
             "colorbar": {
              "outlinewidth": 0,
              "ticks": ""
             }
            },
            "type": "parcoords"
           }
          ],
          "pie": [
           {
            "automargin": true,
            "type": "pie"
           }
          ],
          "scatter": [
           {
            "fillpattern": {
             "fillmode": "overlay",
             "size": 10,
             "solidity": 0.2
            },
            "type": "scatter"
           }
          ],
          "scatter3d": [
           {
            "line": {
             "colorbar": {
              "outlinewidth": 0,
              "ticks": ""
             }
            },
            "marker": {
             "colorbar": {
              "outlinewidth": 0,
              "ticks": ""
             }
            },
            "type": "scatter3d"
           }
          ],
          "scattercarpet": [
           {
            "marker": {
             "colorbar": {
              "outlinewidth": 0,
              "ticks": ""
             }
            },
            "type": "scattercarpet"
           }
          ],
          "scattergeo": [
           {
            "marker": {
             "colorbar": {
              "outlinewidth": 0,
              "ticks": ""
             }
            },
            "type": "scattergeo"
           }
          ],
          "scattergl": [
           {
            "marker": {
             "colorbar": {
              "outlinewidth": 0,
              "ticks": ""
             }
            },
            "type": "scattergl"
           }
          ],
          "scattermapbox": [
           {
            "marker": {
             "colorbar": {
              "outlinewidth": 0,
              "ticks": ""
             }
            },
            "type": "scattermapbox"
           }
          ],
          "scatterpolar": [
           {
            "marker": {
             "colorbar": {
              "outlinewidth": 0,
              "ticks": ""
             }
            },
            "type": "scatterpolar"
           }
          ],
          "scatterpolargl": [
           {
            "marker": {
             "colorbar": {
              "outlinewidth": 0,
              "ticks": ""
             }
            },
            "type": "scatterpolargl"
           }
          ],
          "scatterternary": [
           {
            "marker": {
             "colorbar": {
              "outlinewidth": 0,
              "ticks": ""
             }
            },
            "type": "scatterternary"
           }
          ],
          "surface": [
           {
            "colorbar": {
             "outlinewidth": 0,
             "ticks": ""
            },
            "colorscale": [
             [
              0,
              "#0d0887"
             ],
             [
              0.1111111111111111,
              "#46039f"
             ],
             [
              0.2222222222222222,
              "#7201a8"
             ],
             [
              0.3333333333333333,
              "#9c179e"
             ],
             [
              0.4444444444444444,
              "#bd3786"
             ],
             [
              0.5555555555555556,
              "#d8576b"
             ],
             [
              0.6666666666666666,
              "#ed7953"
             ],
             [
              0.7777777777777778,
              "#fb9f3a"
             ],
             [
              0.8888888888888888,
              "#fdca26"
             ],
             [
              1,
              "#f0f921"
             ]
            ],
            "type": "surface"
           }
          ],
          "table": [
           {
            "cells": {
             "fill": {
              "color": "#EBF0F8"
             },
             "line": {
              "color": "white"
             }
            },
            "header": {
             "fill": {
              "color": "#C8D4E3"
             },
             "line": {
              "color": "white"
             }
            },
            "type": "table"
           }
          ]
         },
         "layout": {
          "annotationdefaults": {
           "arrowcolor": "#2a3f5f",
           "arrowhead": 0,
           "arrowwidth": 1
          },
          "autotypenumbers": "strict",
          "coloraxis": {
           "colorbar": {
            "outlinewidth": 0,
            "ticks": ""
           }
          },
          "colorscale": {
           "diverging": [
            [
             0,
             "#8e0152"
            ],
            [
             0.1,
             "#c51b7d"
            ],
            [
             0.2,
             "#de77ae"
            ],
            [
             0.3,
             "#f1b6da"
            ],
            [
             0.4,
             "#fde0ef"
            ],
            [
             0.5,
             "#f7f7f7"
            ],
            [
             0.6,
             "#e6f5d0"
            ],
            [
             0.7,
             "#b8e186"
            ],
            [
             0.8,
             "#7fbc41"
            ],
            [
             0.9,
             "#4d9221"
            ],
            [
             1,
             "#276419"
            ]
           ],
           "sequential": [
            [
             0,
             "#0d0887"
            ],
            [
             0.1111111111111111,
             "#46039f"
            ],
            [
             0.2222222222222222,
             "#7201a8"
            ],
            [
             0.3333333333333333,
             "#9c179e"
            ],
            [
             0.4444444444444444,
             "#bd3786"
            ],
            [
             0.5555555555555556,
             "#d8576b"
            ],
            [
             0.6666666666666666,
             "#ed7953"
            ],
            [
             0.7777777777777778,
             "#fb9f3a"
            ],
            [
             0.8888888888888888,
             "#fdca26"
            ],
            [
             1,
             "#f0f921"
            ]
           ],
           "sequentialminus": [
            [
             0,
             "#0d0887"
            ],
            [
             0.1111111111111111,
             "#46039f"
            ],
            [
             0.2222222222222222,
             "#7201a8"
            ],
            [
             0.3333333333333333,
             "#9c179e"
            ],
            [
             0.4444444444444444,
             "#bd3786"
            ],
            [
             0.5555555555555556,
             "#d8576b"
            ],
            [
             0.6666666666666666,
             "#ed7953"
            ],
            [
             0.7777777777777778,
             "#fb9f3a"
            ],
            [
             0.8888888888888888,
             "#fdca26"
            ],
            [
             1,
             "#f0f921"
            ]
           ]
          },
          "colorway": [
           "#636efa",
           "#EF553B",
           "#00cc96",
           "#ab63fa",
           "#FFA15A",
           "#19d3f3",
           "#FF6692",
           "#B6E880",
           "#FF97FF",
           "#FECB52"
          ],
          "font": {
           "color": "#2a3f5f"
          },
          "geo": {
           "bgcolor": "white",
           "lakecolor": "white",
           "landcolor": "#E5ECF6",
           "showlakes": true,
           "showland": true,
           "subunitcolor": "white"
          },
          "hoverlabel": {
           "align": "left"
          },
          "hovermode": "closest",
          "mapbox": {
           "style": "light"
          },
          "paper_bgcolor": "white",
          "plot_bgcolor": "#E5ECF6",
          "polar": {
           "angularaxis": {
            "gridcolor": "white",
            "linecolor": "white",
            "ticks": ""
           },
           "bgcolor": "#E5ECF6",
           "radialaxis": {
            "gridcolor": "white",
            "linecolor": "white",
            "ticks": ""
           }
          },
          "scene": {
           "xaxis": {
            "backgroundcolor": "#E5ECF6",
            "gridcolor": "white",
            "gridwidth": 2,
            "linecolor": "white",
            "showbackground": true,
            "ticks": "",
            "zerolinecolor": "white"
           },
           "yaxis": {
            "backgroundcolor": "#E5ECF6",
            "gridcolor": "white",
            "gridwidth": 2,
            "linecolor": "white",
            "showbackground": true,
            "ticks": "",
            "zerolinecolor": "white"
           },
           "zaxis": {
            "backgroundcolor": "#E5ECF6",
            "gridcolor": "white",
            "gridwidth": 2,
            "linecolor": "white",
            "showbackground": true,
            "ticks": "",
            "zerolinecolor": "white"
           }
          },
          "shapedefaults": {
           "line": {
            "color": "#2a3f5f"
           }
          },
          "ternary": {
           "aaxis": {
            "gridcolor": "white",
            "linecolor": "white",
            "ticks": ""
           },
           "baxis": {
            "gridcolor": "white",
            "linecolor": "white",
            "ticks": ""
           },
           "bgcolor": "#E5ECF6",
           "caxis": {
            "gridcolor": "white",
            "linecolor": "white",
            "ticks": ""
           }
          },
          "title": {
           "x": 0.05
          },
          "xaxis": {
           "automargin": true,
           "gridcolor": "white",
           "linecolor": "white",
           "ticks": "",
           "title": {
            "standoff": 15
           },
           "zerolinecolor": "white",
           "zerolinewidth": 2
          },
          "yaxis": {
           "automargin": true,
           "gridcolor": "white",
           "linecolor": "white",
           "ticks": "",
           "title": {
            "standoff": 15
           },
           "zerolinecolor": "white",
           "zerolinewidth": 2
          }
         }
        },
        "title": {
         "text": "Cluster color map generated using GMM in shawnee_location_2"
        },
        "width": 1000,
        "xaxis": {
         "anchor": "y",
         "domain": [
          0,
          1
         ],
         "title": {
          "text": "latitude"
         }
        },
        "yaxis": {
         "anchor": "x",
         "domain": [
          0,
          1
         ],
         "title": {
          "text": "longitude"
         }
        }
       }
      },
      "text/html": [
       "<div>                            <div id=\"1958756b-acff-4702-80e8-3879fd75c0e9\" class=\"plotly-graph-div\" style=\"height:600px; width:1000px;\"></div>            <script type=\"text/javascript\">                require([\"plotly\"], function(Plotly) {                    window.PLOTLYENV=window.PLOTLYENV || {};                                    if (document.getElementById(\"1958756b-acff-4702-80e8-3879fd75c0e9\")) {                    Plotly.newPlot(                        \"1958756b-acff-4702-80e8-3879fd75c0e9\",                        [{\"customdata\":[[\"2023-01-16 17:35:24.120000+00:00\",3],[\"2023-01-16 17:35:24.257000+00:00\",0],[\"2023-01-16 17:35:24.384000+00:00\",0],[\"2023-01-16 17:35:24.511000+00:00\",0],[\"2023-01-16 17:35:24.638000+00:00\",0],[\"2023-01-16 17:35:24.765000+00:00\",0],[\"2023-01-16 17:35:24.892000+00:00\",0],[\"2023-01-16 17:35:25.018000+00:00\",3],[\"2023-01-16 17:35:25.146000+00:00\",3],[\"2023-01-16 17:35:25.273000+00:00\",0],[\"2023-01-16 17:35:25.390000+00:00\",0],[\"2023-01-16 17:35:25.527000+00:00\",1],[\"2023-01-16 17:35:25.654000+00:00\",1],[\"2023-01-16 17:35:25.781000+00:00\",0],[\"2023-01-16 17:35:25.907000+00:00\",3],[\"2023-01-16 17:35:26.034000+00:00\",2],[\"2023-01-16 17:35:26.162000+00:00\",0],[\"2023-01-16 17:35:26.289000+00:00\",0],[\"2023-01-16 17:35:26.416000+00:00\",2],[\"2023-01-16 17:35:26.543000+00:00\",0],[\"2023-01-16 17:35:26.660000+00:00\",0],[\"2023-01-16 17:35:26.797000+00:00\",0],[\"2023-01-16 17:35:26.924000+00:00\",2],[\"2023-01-16 17:35:27.040000+00:00\",2],[\"2023-01-16 17:35:27.178000+00:00\",1],[\"2023-01-16 17:35:27.304000+00:00\",3],[\"2023-01-16 17:35:27.432000+00:00\",0],[\"2023-01-16 17:35:27.559000+00:00\",0],[\"2023-01-16 17:35:27.686000+00:00\",0],[\"2023-01-16 17:35:27.813000+00:00\",0],[\"2023-01-16 17:35:27.930000+00:00\",2],[\"2023-01-16 17:35:28.066000+00:00\",4],[\"2023-01-16 17:35:28.194000+00:00\",3],[\"2023-01-16 17:35:28.321000+00:00\",0],[\"2023-01-16 17:35:28.448000+00:00\",0],[\"2023-01-16 17:35:28.575000+00:00\",0],[\"2023-01-16 17:35:28.701000+00:00\",0],[\"2023-01-16 17:35:28.829000+00:00\",2],[\"2023-01-16 17:35:28.956000+00:00\",3],[\"2023-01-16 17:35:29.082000+00:00\",0],[\"2023-01-16 17:35:29.209000+00:00\",0],[\"2023-01-16 17:35:29.337000+00:00\",0],[\"2023-01-16 17:35:29.464000+00:00\",0],[\"2023-01-16 17:35:29.591000+00:00\",0],[\"2023-01-16 17:35:29.718000+00:00\",0],[\"2023-01-16 17:35:29.845000+00:00\",0],[\"2023-01-16 17:35:29.972000+00:00\",0],[\"2023-01-16 17:35:30.098000+00:00\",2],[\"2023-01-16 17:35:30.226000+00:00\",0],[\"2023-01-16 17:35:30.353000+00:00\",0],[\"2023-01-16 17:35:30.470000+00:00\",0],[\"2023-01-16 17:35:30.606000+00:00\",0],[\"2023-01-16 17:35:30.734000+00:00\",0],[\"2023-01-16 17:35:30.861000+00:00\",0],[\"2023-01-16 17:35:30.988000+00:00\",0],[\"2023-01-16 17:35:31.115000+00:00\",0],[\"2023-01-16 17:35:31.242000+00:00\",0],[\"2023-01-16 17:35:31.369000+00:00\",0],[\"2023-01-16 17:35:31.496000+00:00\",0],[\"2023-01-16 17:35:31.623000+00:00\",0],[\"2023-01-16 17:35:31.740000+00:00\",0],[\"2023-01-16 17:35:31.877000+00:00\",0],[\"2023-01-16 17:35:32.002000+00:00\",3],[\"2023-01-16 17:35:32.131000+00:00\",3],[\"2023-01-16 17:35:32.258000+00:00\",0],[\"2023-01-16 17:35:32.385000+00:00\",3],[\"2023-01-16 17:35:32.512000+00:00\",0],[\"2023-01-16 17:35:32.639000+00:00\",0],[\"2023-01-16 17:35:32.766000+00:00\",0],[\"2023-01-16 17:35:32.893000+00:00\",0],[\"2023-01-16 17:35:33.019000+00:00\",0],[\"2023-01-16 17:35:33.147000+00:00\",0],[\"2023-01-16 17:35:33.274000+00:00\",0],[\"2023-01-16 17:35:33.300000+00:00\",0],[\"2023-01-16 17:35:33.528000+00:00\",0],[\"2023-01-16 17:35:33.655000+00:00\",0],[\"2023-01-16 17:35:33.782000+00:00\",0],[\"2023-01-16 17:35:33.908000+00:00\",0],[\"2023-01-16 17:35:34.035000+00:00\",0],[\"2023-01-16 17:35:34.163000+00:00\",0],[\"2023-01-16 17:35:34.280000+00:00\",0],[\"2023-01-16 17:35:34.417000+00:00\",0],[\"2023-01-16 17:35:34.544000+00:00\",0],[\"2023-01-16 17:35:34.671000+00:00\",0],[\"2023-01-16 17:35:34.798000+00:00\",0],[\"2023-01-16 17:35:34.925000+00:00\",0],[\"2023-01-16 17:35:35.051000+00:00\",0],[\"2023-01-16 17:35:35.179000+00:00\",0],[\"2023-01-16 17:35:35.305000+00:00\",0],[\"2023-01-16 17:35:35.433000+00:00\",0],[\"2023-01-16 17:35:35.550000+00:00\",0],[\"2023-01-16 17:35:35.687000+00:00\",0],[\"2023-01-16 17:35:35.814000+00:00\",0],[\"2023-01-16 17:35:35.941000+00:00\",0],[\"2023-01-16 17:35:36.067000+00:00\",3],[\"2023-01-16 17:35:36.195000+00:00\",0],[\"2023-01-16 17:35:36.322000+00:00\",3],[\"2023-01-16 17:35:36.449000+00:00\",0],[\"2023-01-16 17:35:36.576000+00:00\",0],[\"2023-01-16 17:35:36.702000+00:00\",0],[\"2023-01-16 17:35:36.820000+00:00\",0],[\"2023-01-16 17:35:36.957000+00:00\",0],[\"2023-01-16 17:35:37.083000+00:00\",3],[\"2023-01-16 17:35:37.211000+00:00\",3],[\"2023-01-16 17:35:37.338000+00:00\",0],[\"2023-01-16 17:35:37.465000+00:00\",0],[\"2023-01-16 17:35:37.592000+00:00\",0],[\"2023-01-16 17:35:37.719000+00:00\",0],[\"2023-01-16 17:35:37.846000+00:00\",0],[\"2023-01-16 17:35:37.973000+00:00\",0],[\"2023-01-16 17:35:38.099000+00:00\",0],[\"2023-01-16 17:35:38.227000+00:00\",0],[\"2023-01-16 17:35:38.354000+00:00\",0],[\"2023-01-16 17:35:38.481000+00:00\",4],[\"2023-01-16 17:35:38.607000+00:00\",0],[\"2023-01-16 17:35:38.735000+00:00\",0],[\"2023-01-16 17:35:38.862000+00:00\",0],[\"2023-01-16 17:35:38.989000+00:00\",0],[\"2023-01-16 17:35:39.116000+00:00\",0],[\"2023-01-16 17:35:39.243000+00:00\",0],[\"2023-01-16 17:35:39.360000+00:00\",0],[\"2023-01-16 17:35:39.497000+00:00\",4],[\"2023-01-16 17:35:39.624000+00:00\",4],[\"2023-01-16 17:35:39.751000+00:00\",0],[\"2023-01-16 17:35:39.878000+00:00\",4],[\"2023-01-16 17:35:40.003000+00:00\",0],[\"2023-01-16 17:35:40.132000+00:00\",2],[\"2023-01-16 17:35:40.259000+00:00\",2],[\"2023-01-16 17:35:40.386000+00:00\",0],[\"2023-01-16 17:35:40.513000+00:00\",0],[\"2023-01-16 17:35:40.630000+00:00\",0],[\"2023-01-16 17:35:40.767000+00:00\",0],[\"2023-01-16 17:35:40.894000+00:00\",2],[\"2023-01-16 17:35:41.010000+00:00\",2],[\"2023-01-16 17:35:41.148000+00:00\",2],[\"2023-01-16 17:35:41.275000+00:00\",0],[\"2023-01-16 17:35:41.401000+00:00\",0],[\"2023-01-16 17:35:41.529000+00:00\",0],[\"2023-01-16 17:35:41.656000+00:00\",0],[\"2023-01-16 17:35:41.783000+00:00\",0],[\"2023-01-16 17:35:41.909000+00:00\",0],[\"2023-01-16 17:35:42.036000+00:00\",3],[\"2023-01-16 17:35:42.164000+00:00\",0],[\"2023-01-16 17:35:42.291000+00:00\",2],[\"2023-01-16 17:35:42.418000+00:00\",0],[\"2023-01-16 17:35:42.545000+00:00\",0],[\"2023-01-16 17:35:42.672000+00:00\",0],[\"2023-01-16 17:35:42.799000+00:00\",0],[\"2023-01-16 17:35:42.926000+00:00\",0],[\"2023-01-16 17:35:43.052000+00:00\",0],[\"2023-01-16 17:35:43.170000+00:00\",0],[\"2023-01-16 17:35:43.306000+00:00\",0],[\"2023-01-16 17:35:43.434000+00:00\",0],[\"2023-01-16 17:35:43.561000+00:00\",0],[\"2023-01-16 17:35:43.688000+00:00\",0],[\"2023-01-16 17:35:43.815000+00:00\",0],[\"2023-01-16 17:35:43.942000+00:00\",4],[\"2023-01-16 17:35:44.068000+00:00\",3],[\"2023-01-16 17:35:44.196000+00:00\",0],[\"2023-01-16 17:35:44.323000+00:00\",2],[\"2023-01-16 17:35:44.440000+00:00\",0],[\"2023-01-16 17:35:44.577000+00:00\",0],[\"2023-01-16 17:35:44.703000+00:00\",0],[\"2023-01-16 17:35:44.831000+00:00\",0],[\"2023-01-16 17:35:44.958000+00:00\",0],[\"2023-01-16 17:35:45.084000+00:00\",0],[\"2023-01-16 17:35:45.212000+00:00\",0],[\"2023-01-16 17:35:45.339000+00:00\",0],[\"2023-01-16 17:35:45.466000+00:00\",3],[\"2023-01-16 17:35:45.593000+00:00\",0],[\"2023-01-16 17:35:45.710000+00:00\",0],[\"2023-01-16 17:35:45.847000+00:00\",0],[\"2023-01-16 17:35:45.974000+00:00\",0],[\"2023-01-16 17:35:46.090000+00:00\",3],[\"2023-01-16 17:35:46.228000+00:00\",0],[\"2023-01-16 17:35:46.355000+00:00\",0],[\"2023-01-16 17:35:46.482000+00:00\",0],[\"2023-01-16 17:35:46.608000+00:00\",0],[\"2023-01-16 17:35:46.736000+00:00\",0],[\"2023-01-16 17:35:46.863000+00:00\",0],[\"2023-01-16 17:35:46.980000+00:00\",0],[\"2023-01-16 17:35:47.117000+00:00\",0],[\"2023-01-16 17:35:47.244000+00:00\",0],[\"2023-01-16 17:35:47.371000+00:00\",0],[\"2023-01-16 17:35:47.498000+00:00\",0],[\"2023-01-16 17:35:47.625000+00:00\",0],[\"2023-01-16 17:35:47.752000+00:00\",0],[\"2023-01-16 17:35:47.879000+00:00\",0],[\"2023-01-16 17:35:48.004000+00:00\",0],[\"2023-01-16 17:35:48.133000+00:00\",0],[\"2023-01-16 17:35:48.250000+00:00\",0],[\"2023-01-16 17:35:48.387000+00:00\",2],[\"2023-01-16 17:35:48.514000+00:00\",3],[\"2023-01-16 17:35:48.641000+00:00\",0],[\"2023-01-16 17:35:48.768000+00:00\",0],[\"2023-01-16 17:35:48.895000+00:00\",0],[\"2023-01-16 17:35:49.021000+00:00\",0],[\"2023-01-16 17:35:49.149000+00:00\",0],[\"2023-01-16 17:35:49.276000+00:00\",0],[\"2023-01-16 17:35:49.402000+00:00\",0],[\"2023-01-16 17:35:49.520000+00:00\",0],[\"2023-01-16 17:35:49.657000+00:00\",0],[\"2023-01-16 17:35:49.784000+00:00\",0],[\"2023-01-16 17:35:49.911000+00:00\",0],[\"2023-01-16 17:35:50.037000+00:00\",0],[\"2023-01-16 17:35:50.165000+00:00\",2],[\"2023-01-16 17:35:50.292000+00:00\",3],[\"2023-01-16 17:35:50.419000+00:00\",2],[\"2023-01-16 17:35:50.546000+00:00\",2],[\"2023-01-16 17:35:50.673000+00:00\",0],[\"2023-01-16 17:35:50.790000+00:00\",4],[\"2023-01-16 17:35:50.927000+00:00\",0],[\"2023-01-16 17:35:51.053000+00:00\",0],[\"2023-01-16 17:35:51.181000+00:00\",0],[\"2023-01-16 17:35:51.307000+00:00\",3],[\"2023-01-16 17:35:51.435000+00:00\",2],[\"2023-01-16 17:35:51.562000+00:00\",0],[\"2023-01-16 17:35:51.689000+00:00\",0],[\"2023-01-16 17:35:51.816000+00:00\",0],[\"2023-01-16 17:35:51.943000+00:00\",0],[\"2023-01-16 17:35:52.069000+00:00\",0],[\"2023-01-16 17:35:52.197000+00:00\",2],[\"2023-01-16 17:35:52.324000+00:00\",2],[\"2023-01-16 17:35:52.451000+00:00\",0],[\"2023-01-16 17:35:52.578000+00:00\",2],[\"2023-01-16 17:35:52.704000+00:00\",3],[\"2023-01-16 17:36:52.120000+00:00\",3],[\"2023-01-16 17:36:52.365000+00:00\",1],[\"2023-01-16 17:36:52.492000+00:00\",2],[\"2023-01-16 17:36:52.619000+00:00\",1],[\"2023-01-16 17:36:52.746000+00:00\",1],[\"2023-01-16 17:36:52.873000+00:00\",1],[\"2023-01-16 17:36:52.990000+00:00\",0],[\"2023-01-16 17:36:53.127000+00:00\",0],[\"2023-01-16 17:36:53.254000+00:00\",4],[\"2023-01-16 17:36:53.381000+00:00\",3],[\"2023-01-16 17:36:53.507000+00:00\",2],[\"2023-01-16 17:36:53.635000+00:00\",2],[\"2023-01-16 17:36:53.762000+00:00\",4],[\"2023-01-16 17:36:53.889000+00:00\",0],[\"2023-01-16 17:36:54.015000+00:00\",0],[\"2023-01-16 17:36:54.143000+00:00\",3],[\"2023-01-16 17:36:54.260000+00:00\",0],[\"2023-01-16 17:36:54.397000+00:00\",2],[\"2023-01-16 17:36:54.524000+00:00\",0],[\"2023-01-16 17:36:54.651000+00:00\",2],[\"2023-01-16 17:36:54.778000+00:00\",0],[\"2023-01-16 17:36:54.904000+00:00\",0],[\"2023-01-16 17:36:55.031000+00:00\",4],[\"2023-01-16 17:36:55.159000+00:00\",0],[\"2023-01-16 17:36:55.286000+00:00\",2],[\"2023-01-16 17:36:55.413000+00:00\",3],[\"2023-01-16 17:36:55.530000+00:00\",3],[\"2023-01-16 17:36:55.667000+00:00\",0],[\"2023-01-16 17:36:55.794000+00:00\",0],[\"2023-01-16 17:36:55.921000+00:00\",0],[\"2023-01-16 17:36:56.047000+00:00\",0],[\"2023-01-16 17:36:56.175000+00:00\",0],[\"2023-01-16 17:36:56.301000+00:00\",0],[\"2023-01-16 17:36:56.429000+00:00\",3],[\"2023-01-16 17:36:56.556000+00:00\",2],[\"2023-01-16 17:36:56.683000+00:00\",2],[\"2023-01-16 17:36:56.809000+00:00\",4],[\"2023-01-16 17:36:56.937000+00:00\",4],[\"2023-01-16 17:36:57.063000+00:00\",0],[\"2023-01-16 17:36:57.191000+00:00\",0],[\"2023-01-16 17:36:57.318000+00:00\",3],[\"2023-01-16 17:36:57.445000+00:00\",0],[\"2023-01-16 17:36:57.613000+00:00\",3],[\"2023-01-16 17:36:57.730000+00:00\",2],[\"2023-01-16 17:36:57.867000+00:00\",2],[\"2023-01-16 17:36:57.994000+00:00\",0],[\"2023-01-16 17:36:58.121000+00:00\",0],[\"2023-01-16 17:36:58.248000+00:00\",0],[\"2023-01-16 17:36:58.375000+00:00\",4],[\"2023-01-16 17:36:58.501000+00:00\",3],[\"2023-01-16 17:36:58.629000+00:00\",3],[\"2023-01-16 17:36:58.756000+00:00\",2],[\"2023-01-16 17:36:58.883000+00:00\",0],[\"2023-01-16 17:36:59.008000+00:00\",0],[\"2023-01-16 17:36:59.137000+00:00\",4],[\"2023-01-16 17:36:59.264000+00:00\",0],[\"2023-01-16 17:36:59.391000+00:00\",0],[\"2023-01-16 17:36:59.518000+00:00\",2],[\"2023-01-16 17:36:59.645000+00:00\",2],[\"2023-01-16 17:36:59.772000+00:00\",2],[\"2023-01-16 17:36:59.899000+00:00\",2],[\"2023-01-16 17:37:00.025000+00:00\",4],[\"2023-01-16 17:37:00.153000+00:00\",0],[\"2023-01-16 17:37:00.270000+00:00\",0],[\"2023-01-16 17:37:00.406000+00:00\",0],[\"2023-01-16 17:37:00.534000+00:00\",3],[\"2023-01-16 17:37:00.661000+00:00\",3],[\"2023-01-16 17:37:00.788000+00:00\",2],[\"2023-01-16 17:37:00.915000+00:00\",2],[\"2023-01-16 17:37:01.041000+00:00\",4],[\"2023-01-16 17:37:01.169000+00:00\",4],[\"2023-01-16 17:37:01.296000+00:00\",1],[\"2023-01-16 17:37:01.423000+00:00\",1],[\"2023-01-16 17:37:01.540000+00:00\",0],[\"2023-01-16 17:37:01.677000+00:00\",3],[\"2023-01-16 17:37:01.803000+00:00\",2],[\"2023-01-16 17:37:01.931000+00:00\",2],[\"2023-01-16 17:37:02.057000+00:00\",2],[\"2023-01-16 17:37:02.185000+00:00\",0],[\"2023-01-16 17:37:02.312000+00:00\",0],[\"2023-01-16 17:37:02.439000+00:00\",1],[\"2023-01-16 17:37:02.566000+00:00\",0],[\"2023-01-16 17:37:02.693000+00:00\",1],[\"2023-01-16 17:37:02.810000+00:00\",2],[\"2023-01-16 17:37:02.947000+00:00\",3],[\"2023-01-16 17:37:03.073000+00:00\",4],[\"2023-01-16 17:37:03.100000+00:00\",4],[\"2023-01-16 17:37:03.328000+00:00\",1],[\"2023-01-16 17:37:03.455000+00:00\",1],[\"2023-01-16 17:37:03.582000+00:00\",4],[\"2023-01-16 17:37:03.708000+00:00\",3],[\"2023-01-16 17:37:03.836000+00:00\",2],[\"2023-01-16 17:37:03.963000+00:00\",2],[\"2023-01-16 17:37:04.089000+00:00\",2],[\"2023-01-16 17:37:04.217000+00:00\",4],[\"2023-01-16 17:37:04.344000+00:00\",1],[\"2023-01-16 17:37:04.471000+00:00\",1],[\"2023-01-16 17:37:04.598000+00:00\",1],[\"2023-01-16 17:37:04.725000+00:00\",3],[\"2023-01-16 17:37:04.852000+00:00\",3],[\"2023-01-16 17:37:04.979000+00:00\",3],[\"2023-01-16 17:37:05.105000+00:00\",0],[\"2023-01-16 17:37:05.233000+00:00\",4],[\"2023-01-16 17:37:05.350000+00:00\",0],[\"2023-01-16 17:37:05.487000+00:00\",1],[\"2023-01-16 17:37:05.614000+00:00\",1],[\"2023-01-16 17:37:05.741000+00:00\",1],[\"2023-01-16 17:37:05.868000+00:00\",2],[\"2023-01-16 17:37:05.995000+00:00\",2],[\"2023-01-16 17:37:06.122000+00:00\",2],[\"2023-01-16 17:37:06.249000+00:00\",4],[\"2023-01-16 17:37:06.376000+00:00\",0],[\"2023-01-16 17:37:06.502000+00:00\",1],[\"2023-01-16 17:37:06.620000+00:00\",1],[\"2023-01-16 17:37:06.757000+00:00\",3],[\"2023-01-16 17:37:06.884000+00:00\",3],[\"2023-01-16 17:37:07.009000+00:00\",4],[\"2023-01-16 17:37:07.138000+00:00\",0],[\"2023-01-16 17:37:07.265000+00:00\",0],[\"2023-01-16 17:37:07.392000+00:00\",4],[\"2023-01-16 17:37:07.519000+00:00\",1],[\"2023-01-16 17:37:07.646000+00:00\",1],[\"2023-01-16 17:37:07.773000+00:00\",0],[\"2023-01-16 17:37:07.890000+00:00\",4],[\"2023-01-16 17:37:08.026000+00:00\",0],[\"2023-01-16 17:37:08.154000+00:00\",2],[\"2023-01-16 17:37:08.281000+00:00\",0],[\"2023-01-16 17:37:08.407000+00:00\",0],[\"2023-01-16 17:37:08.535000+00:00\",0],[\"2023-01-16 17:37:08.662000+00:00\",0],[\"2023-01-16 17:37:08.789000+00:00\",3],[\"2023-01-16 17:37:08.916000+00:00\",3],[\"2023-01-16 17:37:09.042000+00:00\",2],[\"2023-01-16 17:37:09.160000+00:00\",0],[\"2023-01-16 17:37:09.297000+00:00\",4],[\"2023-01-16 17:37:09.424000+00:00\",3],[\"2023-01-16 17:37:09.551000+00:00\",1],[\"2023-01-16 17:37:09.678000+00:00\",4],[\"2023-01-16 17:37:09.804000+00:00\",3],[\"2023-01-16 17:37:09.932000+00:00\",1],[\"2023-01-16 17:37:10.058000+00:00\",1],[\"2023-01-16 17:37:10.186000+00:00\",3],[\"2023-01-16 17:37:10.313000+00:00\",3],[\"2023-01-16 17:37:10.430000+00:00\",1],[\"2023-01-16 17:37:10.567000+00:00\",1],[\"2023-01-16 17:37:10.694000+00:00\",1],[\"2023-01-16 17:37:10.821000+00:00\",1],[\"2023-01-16 17:37:10.948000+00:00\",2],[\"2023-01-16 17:37:11.074000+00:00\",3],[\"2023-01-16 17:37:11.201000+00:00\",0],[\"2023-01-16 17:37:11.329000+00:00\",4],[\"2023-01-16 17:37:11.456000+00:00\",0],[\"2023-01-16 17:37:11.583000+00:00\",4],[\"2023-01-16 17:37:11.709000+00:00\",0],[\"2023-01-16 17:37:11.837000+00:00\",2],[\"2023-01-16 17:37:11.964000+00:00\",4],[\"2023-01-16 17:37:12.080000+00:00\",2],[\"2023-01-16 17:37:12.218000+00:00\",2],[\"2023-01-16 17:37:12.345000+00:00\",2],[\"2023-01-16 17:37:12.472000+00:00\",0],[\"2023-01-16 17:37:12.599000+00:00\",0],[\"2023-01-16 17:37:12.726000+00:00\",0],[\"2023-01-16 17:37:12.853000+00:00\",4],[\"2023-01-16 17:37:12.970000+00:00\",3],[\"2023-01-16 17:37:13.106000+00:00\",3],[\"2023-01-16 17:37:13.234000+00:00\",2],[\"2023-01-16 17:37:13.361000+00:00\",0],[\"2023-01-16 17:37:13.488000+00:00\",3],[\"2023-01-16 17:37:13.615000+00:00\",0],[\"2023-01-16 17:37:13.742000+00:00\",4],[\"2023-01-16 17:37:13.869000+00:00\",4],[\"2023-01-16 17:37:13.996000+00:00\",0],[\"2023-01-16 17:37:14.123000+00:00\",2],[\"2023-01-16 17:37:14.240000+00:00\",3],[\"2023-01-16 17:37:14.377000+00:00\",2],[\"2023-01-16 17:37:14.503000+00:00\",2],[\"2023-01-16 17:37:14.631000+00:00\",4],[\"2023-01-16 17:37:14.758000+00:00\",4],[\"2023-01-16 17:37:14.885000+00:00\",4],[\"2023-01-16 17:37:15.011000+00:00\",0],[\"2023-01-16 17:37:15.139000+00:00\",2],[\"2023-01-16 17:37:15.266000+00:00\",2],[\"2023-01-16 17:37:15.393000+00:00\",2],[\"2023-01-16 17:37:15.510000+00:00\",4],[\"2023-01-16 17:37:15.647000+00:00\",4],[\"2023-01-16 17:37:15.774000+00:00\",4],[\"2023-01-16 17:38:04.120000+00:00\",3],[\"2023-01-16 17:38:04.257000+00:00\",1],[\"2023-01-16 17:38:04.384000+00:00\",0],[\"2023-01-16 17:38:04.511000+00:00\",0],[\"2023-01-16 17:38:04.638000+00:00\",0],[\"2023-01-16 17:38:04.765000+00:00\",0],[\"2023-01-16 17:38:04.892000+00:00\",0],[\"2023-01-16 17:38:05.018000+00:00\",0],[\"2023-01-16 17:38:05.146000+00:00\",0],[\"2023-01-16 17:38:05.273000+00:00\",4],[\"2023-01-16 17:38:05.390000+00:00\",0],[\"2023-01-16 17:38:05.527000+00:00\",4],[\"2023-01-16 17:38:05.654000+00:00\",2],[\"2023-01-16 17:38:05.781000+00:00\",0],[\"2023-01-16 17:38:05.907000+00:00\",2],[\"2023-01-16 17:38:06.034000+00:00\",0],[\"2023-01-16 17:38:06.162000+00:00\",4],[\"2023-01-16 17:38:06.289000+00:00\",4],[\"2023-01-16 17:38:06.416000+00:00\",0],[\"2023-01-16 17:38:06.543000+00:00\",0],[\"2023-01-16 17:38:06.660000+00:00\",4],[\"2023-01-16 17:38:06.797000+00:00\",4],[\"2023-01-16 17:38:06.924000+00:00\",0],[\"2023-01-16 17:38:07.040000+00:00\",0],[\"2023-01-16 17:38:07.178000+00:00\",4],[\"2023-01-16 17:38:07.304000+00:00\",0],[\"2023-01-16 17:38:07.432000+00:00\",0],[\"2023-01-16 17:38:07.559000+00:00\",0],[\"2023-01-16 17:38:07.686000+00:00\",0],[\"2023-01-16 17:38:07.813000+00:00\",0],[\"2023-01-16 17:38:07.930000+00:00\",0],[\"2023-01-16 17:38:08.066000+00:00\",2],[\"2023-01-16 17:38:08.194000+00:00\",1],[\"2023-01-16 17:38:08.321000+00:00\",1],[\"2023-01-16 17:38:08.448000+00:00\",4],[\"2023-01-16 17:38:08.575000+00:00\",2],[\"2023-01-16 17:38:08.701000+00:00\",0],[\"2023-01-16 17:38:08.829000+00:00\",3],[\"2023-01-16 17:38:08.956000+00:00\",0],[\"2023-01-16 17:38:09.082000+00:00\",2],[\"2023-01-16 17:38:09.209000+00:00\",0],[\"2023-01-16 17:38:09.337000+00:00\",0],[\"2023-01-16 17:38:09.464000+00:00\",0],[\"2023-01-16 17:38:09.591000+00:00\",2],[\"2023-01-16 17:38:09.718000+00:00\",0],[\"2023-01-16 17:38:09.845000+00:00\",0],[\"2023-01-16 17:38:09.972000+00:00\",0],[\"2023-01-16 17:38:10.098000+00:00\",0],[\"2023-01-16 17:38:10.226000+00:00\",0],[\"2023-01-16 17:38:10.353000+00:00\",0],[\"2023-01-16 17:38:10.470000+00:00\",0],[\"2023-01-16 17:38:10.606000+00:00\",0],[\"2023-01-16 17:38:10.734000+00:00\",0],[\"2023-01-16 17:38:10.861000+00:00\",0],[\"2023-01-16 17:38:10.988000+00:00\",0],[\"2023-01-16 17:38:11.115000+00:00\",3],[\"2023-01-16 17:38:11.242000+00:00\",0],[\"2023-01-16 17:38:11.369000+00:00\",4],[\"2023-01-16 17:38:11.496000+00:00\",0],[\"2023-01-16 17:38:11.623000+00:00\",0],[\"2023-01-16 17:38:11.740000+00:00\",0],[\"2023-01-16 17:38:11.877000+00:00\",0],[\"2023-01-16 17:38:12.002000+00:00\",0],[\"2023-01-16 17:38:12.131000+00:00\",2],[\"2023-01-16 17:38:12.258000+00:00\",4],[\"2023-01-16 17:38:12.385000+00:00\",1],[\"2023-01-16 17:38:12.512000+00:00\",4],[\"2023-01-16 17:38:12.639000+00:00\",4],[\"2023-01-16 17:38:12.766000+00:00\",2],[\"2023-01-16 17:38:12.893000+00:00\",0],[\"2023-01-16 17:38:13.019000+00:00\",4],[\"2023-01-16 17:38:13.147000+00:00\",3],[\"2023-01-16 17:38:13.274000+00:00\",0],[\"2023-01-16 17:38:13.300000+00:00\",0],[\"2023-01-16 17:38:13.528000+00:00\",0],[\"2023-01-16 17:38:13.655000+00:00\",0],[\"2023-01-16 17:38:13.782000+00:00\",2],[\"2023-01-16 17:38:13.908000+00:00\",3],[\"2023-01-16 17:38:14.035000+00:00\",0],[\"2023-01-16 17:38:14.163000+00:00\",0],[\"2023-01-16 17:38:14.280000+00:00\",0],[\"2023-01-16 17:38:14.417000+00:00\",0],[\"2023-01-16 17:38:14.544000+00:00\",0],[\"2023-01-16 17:38:14.671000+00:00\",0],[\"2023-01-16 17:38:14.798000+00:00\",2],[\"2023-01-16 17:38:14.925000+00:00\",0],[\"2023-01-16 17:38:15.051000+00:00\",0],[\"2023-01-16 17:38:15.179000+00:00\",0],[\"2023-01-16 17:38:15.305000+00:00\",0],[\"2023-01-16 17:38:15.433000+00:00\",0],[\"2023-01-16 17:38:15.550000+00:00\",0],[\"2023-01-16 17:38:15.687000+00:00\",0],[\"2023-01-16 17:38:15.814000+00:00\",0],[\"2023-01-16 17:38:15.941000+00:00\",2],[\"2023-01-16 17:38:16.067000+00:00\",2],[\"2023-01-16 17:38:16.195000+00:00\",0],[\"2023-01-16 17:38:16.322000+00:00\",0],[\"2023-01-16 17:38:16.449000+00:00\",0],[\"2023-01-16 17:38:16.576000+00:00\",0],[\"2023-01-16 17:38:16.702000+00:00\",0],[\"2023-01-16 17:38:16.820000+00:00\",0],[\"2023-01-16 17:38:16.957000+00:00\",0],[\"2023-01-16 17:38:17.083000+00:00\",2],[\"2023-01-16 17:38:17.211000+00:00\",0],[\"2023-01-16 17:38:17.338000+00:00\",0],[\"2023-01-16 17:38:17.465000+00:00\",0],[\"2023-01-16 17:38:17.592000+00:00\",0],[\"2023-01-16 17:38:17.719000+00:00\",0],[\"2023-01-16 17:38:17.846000+00:00\",0],[\"2023-01-16 17:38:17.973000+00:00\",0],[\"2023-01-16 17:38:18.099000+00:00\",0],[\"2023-01-16 17:38:18.227000+00:00\",0],[\"2023-01-16 17:38:18.354000+00:00\",1],[\"2023-01-16 17:38:18.481000+00:00\",0],[\"2023-01-16 17:38:18.607000+00:00\",0],[\"2023-01-16 17:38:18.735000+00:00\",0],[\"2023-01-16 17:38:18.862000+00:00\",0],[\"2023-01-16 17:38:18.989000+00:00\",0],[\"2023-01-16 17:38:19.116000+00:00\",3],[\"2023-01-16 17:38:19.243000+00:00\",3],[\"2023-01-16 17:38:19.360000+00:00\",0],[\"2023-01-16 17:38:19.497000+00:00\",0],[\"2023-01-16 17:38:19.624000+00:00\",0],[\"2023-01-16 17:38:19.751000+00:00\",0],[\"2023-01-16 17:38:19.878000+00:00\",0],[\"2023-01-16 17:38:20.003000+00:00\",0],[\"2023-01-16 17:38:20.132000+00:00\",3],[\"2023-01-16 17:38:20.259000+00:00\",0],[\"2023-01-16 17:38:20.386000+00:00\",0],[\"2023-01-16 17:38:20.513000+00:00\",4],[\"2023-01-16 17:38:20.630000+00:00\",0],[\"2023-01-16 17:38:20.767000+00:00\",2],[\"2023-01-16 17:38:20.894000+00:00\",0],[\"2023-01-16 17:38:21.010000+00:00\",0],[\"2023-01-16 17:38:21.148000+00:00\",0],[\"2023-01-16 17:38:21.275000+00:00\",0],[\"2023-01-16 17:38:21.401000+00:00\",0],[\"2023-01-16 17:38:21.529000+00:00\",0],[\"2023-01-16 17:38:21.656000+00:00\",0],[\"2023-01-16 17:38:21.783000+00:00\",0],[\"2023-01-16 17:38:21.909000+00:00\",2],[\"2023-01-16 17:38:22.036000+00:00\",0],[\"2023-01-16 17:38:22.164000+00:00\",0],[\"2023-01-16 17:38:22.291000+00:00\",0],[\"2023-01-16 17:38:22.418000+00:00\",4],[\"2023-01-16 17:38:22.545000+00:00\",4],[\"2023-01-16 17:38:22.672000+00:00\",0],[\"2023-01-16 17:38:22.799000+00:00\",2],[\"2023-01-16 17:38:22.926000+00:00\",0],[\"2023-01-16 17:38:23.052000+00:00\",2],[\"2023-01-16 17:38:23.170000+00:00\",3],[\"2023-01-16 17:38:23.306000+00:00\",0],[\"2023-01-16 17:38:23.434000+00:00\",0],[\"2023-01-16 17:38:23.561000+00:00\",0],[\"2023-01-16 17:38:23.688000+00:00\",0],[\"2023-01-16 17:38:23.815000+00:00\",2],[\"2023-01-16 17:38:23.942000+00:00\",0],[\"2023-01-16 17:38:24.068000+00:00\",2],[\"2023-01-16 17:38:24.196000+00:00\",0],[\"2023-01-16 17:38:24.323000+00:00\",0],[\"2023-01-16 17:38:24.440000+00:00\",4],[\"2023-01-16 17:38:24.577000+00:00\",4],[\"2023-01-16 17:38:24.703000+00:00\",0],[\"2023-01-16 17:38:24.831000+00:00\",2],[\"2023-01-16 17:38:24.958000+00:00\",2],[\"2023-01-16 17:38:25.084000+00:00\",2],[\"2023-01-16 17:38:25.212000+00:00\",3],[\"2023-01-16 17:38:25.339000+00:00\",3],[\"2023-01-16 17:38:25.466000+00:00\",0],[\"2023-01-16 17:38:25.593000+00:00\",0],[\"2023-01-16 17:38:25.710000+00:00\",0],[\"2023-01-16 17:38:25.847000+00:00\",2],[\"2023-01-16 17:38:25.974000+00:00\",0],[\"2023-01-16 17:38:26.090000+00:00\",0],[\"2023-01-16 17:38:26.228000+00:00\",0],[\"2023-01-16 17:38:26.355000+00:00\",4],[\"2023-01-16 17:38:26.482000+00:00\",0],[\"2023-01-16 17:38:26.608000+00:00\",0],[\"2023-01-16 17:38:26.736000+00:00\",4],[\"2023-01-16 17:38:26.863000+00:00\",0],[\"2023-01-16 17:38:26.980000+00:00\",4],[\"2023-01-16 17:38:27.117000+00:00\",3],[\"2023-01-16 17:38:27.244000+00:00\",0],[\"2023-01-16 17:38:27.371000+00:00\",0],[\"2023-01-16 17:38:27.498000+00:00\",4],[\"2023-01-16 17:38:27.625000+00:00\",1],[\"2023-01-16 17:38:27.752000+00:00\",1],[\"2023-01-16 17:39:08.120000+00:00\",3],[\"2023-01-16 17:39:08.257000+00:00\",3],[\"2023-01-16 17:39:08.384000+00:00\",3],[\"2023-01-16 17:39:08.511000+00:00\",2],[\"2023-01-16 17:39:08.638000+00:00\",3],[\"2023-01-16 17:39:08.765000+00:00\",1],[\"2023-01-16 17:39:08.892000+00:00\",1],[\"2023-01-16 17:39:09.018000+00:00\",3],[\"2023-01-16 17:39:09.146000+00:00\",2],[\"2023-01-16 17:39:09.273000+00:00\",4],[\"2023-01-16 17:39:09.390000+00:00\",2],[\"2023-01-16 17:39:09.527000+00:00\",4],[\"2023-01-16 17:39:09.654000+00:00\",4],[\"2023-01-16 17:39:09.781000+00:00\",0],[\"2023-01-16 17:39:09.907000+00:00\",0],[\"2023-01-16 17:39:10.034000+00:00\",0],[\"2023-01-16 17:39:10.162000+00:00\",0],[\"2023-01-16 17:39:10.289000+00:00\",3],[\"2023-01-16 17:39:10.416000+00:00\",0],[\"2023-01-16 17:39:10.543000+00:00\",0],[\"2023-01-16 17:39:10.660000+00:00\",0],[\"2023-01-16 17:39:10.797000+00:00\",0],[\"2023-01-16 17:39:10.924000+00:00\",0],[\"2023-01-16 17:39:11.040000+00:00\",3],[\"2023-01-16 17:39:11.178000+00:00\",3],[\"2023-01-16 17:39:11.304000+00:00\",3],[\"2023-01-16 17:39:11.432000+00:00\",2],[\"2023-01-16 17:39:11.559000+00:00\",2],[\"2023-01-16 17:39:11.686000+00:00\",4],[\"2023-01-16 17:39:11.813000+00:00\",4],[\"2023-01-16 17:39:11.930000+00:00\",0],[\"2023-01-16 17:39:12.066000+00:00\",4],[\"2023-01-16 17:39:12.194000+00:00\",3],[\"2023-01-16 17:39:12.321000+00:00\",3],[\"2023-01-16 17:39:12.448000+00:00\",0],[\"2023-01-16 17:39:12.575000+00:00\",3],[\"2023-01-16 17:39:12.701000+00:00\",4],[\"2023-01-16 17:39:12.829000+00:00\",0],[\"2023-01-16 17:39:12.956000+00:00\",0],[\"2023-01-16 17:39:13.082000+00:00\",0],[\"2023-01-16 17:39:13.209000+00:00\",3],[\"2023-01-16 17:39:13.337000+00:00\",4],[\"2023-01-16 17:39:13.464000+00:00\",2],[\"2023-01-16 17:39:13.591000+00:00\",4],[\"2023-01-16 17:39:13.718000+00:00\",0],[\"2023-01-16 17:39:13.845000+00:00\",1],[\"2023-01-16 17:39:13.972000+00:00\",4],[\"2023-01-16 17:39:14.098000+00:00\",4],[\"2023-01-16 17:39:14.226000+00:00\",4],[\"2023-01-16 17:39:14.353000+00:00\",4],[\"2023-01-16 17:39:14.470000+00:00\",1],[\"2023-01-16 17:39:14.606000+00:00\",3],[\"2023-01-16 17:39:14.734000+00:00\",3],[\"2023-01-16 17:39:14.861000+00:00\",1],[\"2023-01-16 17:39:14.988000+00:00\",0],[\"2023-01-16 17:39:15.115000+00:00\",0],[\"2023-01-16 17:39:15.242000+00:00\",3],[\"2023-01-16 17:39:15.369000+00:00\",3],[\"2023-01-16 17:39:15.496000+00:00\",3],[\"2023-01-16 17:39:15.623000+00:00\",2],[\"2023-01-16 17:39:15.740000+00:00\",4],[\"2023-01-16 17:39:15.877000+00:00\",4],[\"2023-01-16 17:39:16.002000+00:00\",1],[\"2023-01-16 17:39:16.131000+00:00\",0],[\"2023-01-16 17:39:16.258000+00:00\",4],[\"2023-01-16 17:39:16.385000+00:00\",4],[\"2023-01-16 17:39:16.512000+00:00\",2],[\"2023-01-16 17:39:16.639000+00:00\",2],[\"2023-01-16 17:39:16.766000+00:00\",4],[\"2023-01-16 17:39:16.893000+00:00\",4],[\"2023-01-16 17:39:17.019000+00:00\",4],[\"2023-01-16 17:39:17.147000+00:00\",0],[\"2023-01-16 17:39:17.274000+00:00\",4],[\"2023-01-16 17:39:17.300000+00:00\",4],[\"2023-01-16 17:39:17.528000+00:00\",2],[\"2023-01-16 17:39:17.655000+00:00\",1],[\"2023-01-16 17:39:17.782000+00:00\",4],[\"2023-01-16 17:39:17.908000+00:00\",4],[\"2023-01-16 17:39:18.035000+00:00\",1],[\"2023-01-16 17:39:18.163000+00:00\",1],[\"2023-01-16 17:39:18.280000+00:00\",1],[\"2023-01-16 17:39:18.417000+00:00\",4],[\"2023-01-16 17:39:18.544000+00:00\",1],[\"2023-01-16 17:39:18.671000+00:00\",1],[\"2023-01-16 17:39:18.798000+00:00\",1],[\"2023-01-16 17:39:18.925000+00:00\",0],[\"2023-01-16 17:39:19.051000+00:00\",1],[\"2023-01-16 17:39:19.179000+00:00\",1],[\"2023-01-16 17:39:19.305000+00:00\",1],[\"2023-01-16 17:39:19.433000+00:00\",3],[\"2023-01-16 17:39:19.550000+00:00\",2],[\"2023-01-16 17:39:19.687000+00:00\",2],[\"2023-01-16 17:39:19.814000+00:00\",4],[\"2023-01-16 17:39:19.941000+00:00\",1],[\"2023-01-16 17:39:20.067000+00:00\",1],[\"2023-01-16 17:39:20.195000+00:00\",1],[\"2023-01-16 17:39:20.322000+00:00\",1],[\"2023-01-16 17:39:20.449000+00:00\",4],[\"2023-01-16 17:39:20.576000+00:00\",4],[\"2023-01-16 17:39:20.702000+00:00\",4],[\"2023-01-16 17:39:20.820000+00:00\",4],[\"2023-01-16 17:39:20.957000+00:00\",4],[\"2023-01-16 17:39:21.083000+00:00\",1],[\"2023-01-16 17:39:21.211000+00:00\",1],[\"2023-01-16 17:39:21.338000+00:00\",1],[\"2023-01-16 17:39:21.465000+00:00\",2],[\"2023-01-16 17:39:21.592000+00:00\",4],[\"2023-01-16 17:39:21.719000+00:00\",0],[\"2023-01-16 17:39:21.846000+00:00\",3],[\"2023-01-16 17:39:21.973000+00:00\",0],[\"2023-01-16 17:39:22.099000+00:00\",0],[\"2023-01-16 17:39:22.227000+00:00\",1],[\"2023-01-16 17:39:22.354000+00:00\",1],[\"2023-01-16 17:39:22.481000+00:00\",2],[\"2023-01-16 17:39:22.607000+00:00\",2],[\"2023-01-16 17:39:22.735000+00:00\",4],[\"2023-01-16 17:39:22.862000+00:00\",4],[\"2023-01-16 17:39:22.989000+00:00\",3],[\"2023-01-16 17:39:23.116000+00:00\",0],[\"2023-01-16 17:39:23.243000+00:00\",0],[\"2023-01-16 17:39:23.360000+00:00\",0],[\"2023-01-16 17:39:23.497000+00:00\",3],[\"2023-01-16 17:39:23.624000+00:00\",0],[\"2023-01-16 17:39:23.751000+00:00\",2],[\"2023-01-16 17:39:23.878000+00:00\",2],[\"2023-01-16 17:39:24.003000+00:00\",0],[\"2023-01-16 17:39:24.132000+00:00\",4],[\"2023-01-16 17:39:24.259000+00:00\",1],[\"2023-01-16 17:39:24.386000+00:00\",0],[\"2023-01-16 17:39:24.513000+00:00\",2],[\"2023-01-16 17:39:24.630000+00:00\",0],[\"2023-01-16 17:39:24.767000+00:00\",3],[\"2023-01-16 17:39:24.894000+00:00\",3],[\"2023-01-16 17:39:25.010000+00:00\",3],[\"2023-01-16 17:39:25.148000+00:00\",1],[\"2023-01-16 17:39:25.275000+00:00\",1],[\"2023-01-16 17:39:25.401000+00:00\",1],[\"2023-01-16 17:39:25.529000+00:00\",3],[\"2023-01-16 17:39:25.656000+00:00\",2],[\"2023-01-16 17:39:25.783000+00:00\",2],[\"2023-01-16 17:39:25.909000+00:00\",4],[\"2023-01-16 17:39:26.036000+00:00\",4],[\"2023-01-16 17:39:26.164000+00:00\",4],[\"2023-01-16 17:39:26.291000+00:00\",1],[\"2023-01-16 17:39:26.418000+00:00\",1],[\"2023-01-16 17:39:26.545000+00:00\",4],[\"2023-01-16 17:39:26.672000+00:00\",3],[\"2023-01-16 17:39:26.799000+00:00\",3],[\"2023-01-16 17:39:26.926000+00:00\",4],[\"2023-01-16 17:39:27.052000+00:00\",3],[\"2023-01-16 17:39:27.170000+00:00\",0],[\"2023-01-16 17:39:27.306000+00:00\",4],[\"2023-01-16 17:39:27.434000+00:00\",4],[\"2023-01-16 17:39:27.561000+00:00\",4],[\"2023-01-16 17:39:27.688000+00:00\",2],[\"2023-01-16 17:39:27.815000+00:00\",1],[\"2023-01-16 17:39:27.942000+00:00\",1],[\"2023-01-16 17:39:28.068000+00:00\",1],[\"2023-01-16 17:39:28.196000+00:00\",1],[\"2023-01-16 17:39:28.323000+00:00\",1],[\"2023-01-16 17:39:28.440000+00:00\",1],[\"2023-01-16 17:39:28.577000+00:00\",1],[\"2023-01-16 17:39:28.703000+00:00\",3],[\"2023-01-16 17:39:28.831000+00:00\",1],[\"2023-01-16 17:39:28.958000+00:00\",2],[\"2023-01-16 17:39:29.084000+00:00\",2],[\"2023-01-16 17:39:29.212000+00:00\",4],[\"2023-01-16 17:39:29.339000+00:00\",1],[\"2023-01-16 17:39:29.466000+00:00\",1],[\"2023-01-16 17:39:29.593000+00:00\",1],[\"2023-01-16 17:39:29.710000+00:00\",1],[\"2023-01-16 17:39:29.847000+00:00\",3],[\"2023-01-16 17:39:29.974000+00:00\",2],[\"2023-01-16 17:39:30.090000+00:00\",2],[\"2023-01-16 17:39:30.228000+00:00\",4],[\"2023-01-16 17:39:30.355000+00:00\",0],[\"2023-01-16 17:39:30.482000+00:00\",4],[\"2023-01-16 17:39:30.608000+00:00\",1],[\"2023-01-16 17:39:30.736000+00:00\",3],[\"2023-01-16 17:39:30.863000+00:00\",3],[\"2023-01-16 17:39:30.980000+00:00\",3],[\"2023-01-16 17:39:31.117000+00:00\",1],[\"2023-01-16 17:39:31.244000+00:00\",4],[\"2023-01-16 17:39:31.371000+00:00\",4],[\"2023-01-16 17:39:31.498000+00:00\",0],[\"2023-01-16 17:39:31.625000+00:00\",4],[\"2023-01-16 17:39:31.752000+00:00\",4],[\"2023-01-16 17:39:31.879000+00:00\",4],[\"2023-01-16 17:39:32.004000+00:00\",4],[\"2023-01-16 17:39:32.133000+00:00\",3],[\"2023-01-16 17:39:32.250000+00:00\",0],[\"2023-01-16 17:39:32.387000+00:00\",4],[\"2023-01-16 17:39:32.514000+00:00\",0],[\"2023-01-16 17:39:32.641000+00:00\",2],[\"2023-01-16 17:39:32.768000+00:00\",4],[\"2023-01-16 17:39:32.895000+00:00\",3],[\"2023-01-16 17:39:33.021000+00:00\",2],[\"2023-01-16 17:39:33.149000+00:00\",4],[\"2023-01-16 17:39:33.276000+00:00\",0],[\"2023-01-16 17:39:33.402000+00:00\",4],[\"2023-01-16 17:39:33.520000+00:00\",4],[\"2023-01-16 17:39:33.657000+00:00\",0],[\"2023-01-16 17:39:33.784000+00:00\",2],[\"2023-01-16 17:39:33.911000+00:00\",3],[\"2023-01-16 17:39:34.037000+00:00\",3],[\"2023-01-16 17:39:34.165000+00:00\",3],[\"2023-01-16 17:39:34.292000+00:00\",3],[\"2023-01-16 17:39:34.419000+00:00\",4],[\"2023-01-16 17:39:34.546000+00:00\",1],[\"2023-01-16 17:39:34.673000+00:00\",1],[\"2023-01-16 17:39:34.790000+00:00\",3],[\"2023-01-16 17:39:34.927000+00:00\",1],[\"2023-01-16 17:39:35.053000+00:00\",3],[\"2023-01-16 17:39:35.181000+00:00\",3],[\"2023-01-16 17:39:35.307000+00:00\",1],[\"2023-01-16 17:39:35.435000+00:00\",3],[\"2023-01-16 17:39:35.562000+00:00\",1],[\"2023-01-16 17:39:35.689000+00:00\",3],[\"2023-01-16 17:39:35.816000+00:00\",3],[\"2023-01-16 17:39:35.943000+00:00\",4],[\"2023-01-16 17:39:36.069000+00:00\",2],[\"2023-01-16 17:39:36.197000+00:00\",4],[\"2023-01-16 17:39:36.324000+00:00\",4],[\"2023-01-16 17:39:36.451000+00:00\",4],[\"2023-01-16 17:39:36.578000+00:00\",4],[\"2023-01-16 17:39:36.704000+00:00\",0],[\"2023-01-16 17:39:36.832000+00:00\",4],[\"2023-01-16 17:39:36.959000+00:00\",3],[\"2023-01-16 17:39:37.085000+00:00\",2],[\"2023-01-16 17:39:37.213000+00:00\",3],[\"2023-01-16 17:39:37.330000+00:00\",3],[\"2023-01-16 17:39:37.467000+00:00\",3],[\"2023-01-16 17:39:37.594000+00:00\",4],[\"2023-01-16 17:39:37.721000+00:00\",4]],\"hovertemplate\":\"<b>%{hovertext}</b><br><br>latitude=%{x}<br>longitude=%{y}<br>timestamp=%{customdata[0]}<br>cluster=%{marker.color}<extra></extra>\",\"hovertext\":[1.0,1.0,1.0,1.0,1.0,1.0,1.0,1.0,1.0,1.0,1.0,1.0,1.0,1.0,1.0,1.0,1.0,1.0,1.0,1.0,1.0,1.0,1.0,1.0,1.0,1.0,1.0,1.0,1.0,1.0,1.0,1.0,1.0,1.0,1.0,1.0,1.0,1.0,1.0,1.0,1.0,1.0,1.0,1.0,1.0,1.0,1.0,1.0,1.0,1.0,1.0,1.0,1.0,1.0,1.0,1.0,1.0,1.0,1.0,1.0,1.0,1.0,1.0,1.0,1.0,1.0,1.0,1.0,1.0,1.0,1.0,1.0,1.0,1.0,1.0,1.0,1.0,1.0,1.0,1.0,1.0,1.0,1.0,1.0,1.0,1.0,1.0,1.0,1.0,1.0,1.0,1.0,1.0,1.0,1.0,1.0,1.0,1.0,1.0,1.0,1.0,1.0,1.0,1.0,1.0,1.0,1.0,1.0,1.0,1.0,1.0,1.0,1.0,1.0,1.0,1.0,1.0,1.0,1.0,1.0,1.0,1.0,1.0,1.0,1.0,1.0,1.0,1.0,1.0,1.0,1.0,1.0,1.0,1.0,1.0,1.0,1.0,1.0,1.0,1.0,1.0,1.0,1.0,1.0,1.0,1.0,1.0,1.0,1.0,1.0,1.0,1.0,1.0,1.0,1.0,1.0,1.0,1.0,1.0,1.0,1.0,1.0,1.0,1.0,1.0,1.0,1.0,1.0,1.0,1.0,1.0,1.0,1.0,1.0,1.0,1.0,1.0,1.0,1.0,1.0,1.0,1.0,1.0,1.0,1.0,1.0,1.0,1.0,1.0,1.0,1.0,1.0,1.0,1.0,1.0,1.0,1.0,1.0,1.0,1.0,1.0,1.0,1.0,1.0,1.0,1.0,1.0,1.0,1.0,1.0,1.0,1.0,1.0,1.0,1.0,1.0,1.0,1.0,1.0,1.0,1.0,1.0,1.0,1.0,1.0,1.0,2.0,2.0,2.0,2.0,2.0,2.0,2.0,2.0,2.0,2.0,2.0,2.0,2.0,2.0,2.0,2.0,2.0,2.0,2.0,2.0,2.0,2.0,2.0,2.0,2.0,2.0,2.0,2.0,2.0,2.0,2.0,2.0,2.0,2.0,2.0,2.0,2.0,2.0,2.0,2.0,2.0,2.0,2.0,2.0,2.0,2.0,2.0,2.0,2.0,2.0,2.0,2.0,2.0,2.0,2.0,2.0,2.0,2.0,2.0,2.0,2.0,2.0,2.0,2.0,2.0,2.0,2.0,2.0,2.0,2.0,2.0,2.0,2.0,2.0,2.0,2.0,2.0,2.0,2.0,2.0,2.0,2.0,2.0,2.0,2.0,2.0,2.0,2.0,2.0,2.0,2.0,2.0,2.0,2.0,2.0,2.0,2.0,2.0,2.0,2.0,2.0,2.0,2.0,2.0,2.0,2.0,2.0,2.0,2.0,2.0,2.0,2.0,2.0,2.0,2.0,2.0,2.0,2.0,2.0,2.0,2.0,2.0,2.0,2.0,2.0,2.0,2.0,2.0,2.0,2.0,2.0,2.0,2.0,2.0,2.0,2.0,2.0,2.0,2.0,2.0,2.0,2.0,2.0,2.0,2.0,2.0,2.0,2.0,2.0,2.0,2.0,2.0,2.0,2.0,2.0,2.0,2.0,2.0,2.0,2.0,2.0,2.0,2.0,2.0,2.0,2.0,2.0,2.0,2.0,2.0,2.0,2.0,2.0,2.0,2.0,2.0,2.0,2.0,2.0,2.0,2.0,2.0,2.0,2.0,2.0,2.0,3.0,3.0,3.0,3.0,3.0,3.0,3.0,3.0,3.0,3.0,3.0,3.0,3.0,3.0,3.0,3.0,3.0,3.0,3.0,3.0,3.0,3.0,3.0,3.0,3.0,3.0,3.0,3.0,3.0,3.0,3.0,3.0,3.0,3.0,3.0,3.0,3.0,3.0,3.0,3.0,3.0,3.0,3.0,3.0,3.0,3.0,3.0,3.0,3.0,3.0,3.0,3.0,3.0,3.0,3.0,3.0,3.0,3.0,3.0,3.0,3.0,3.0,3.0,3.0,3.0,3.0,3.0,3.0,3.0,3.0,3.0,3.0,3.0,3.0,3.0,3.0,3.0,3.0,3.0,3.0,3.0,3.0,3.0,3.0,3.0,3.0,3.0,3.0,3.0,3.0,3.0,3.0,3.0,3.0,3.0,3.0,3.0,3.0,3.0,3.0,3.0,3.0,3.0,3.0,3.0,3.0,3.0,3.0,3.0,3.0,3.0,3.0,3.0,3.0,3.0,3.0,3.0,3.0,3.0,3.0,3.0,3.0,3.0,3.0,3.0,3.0,3.0,3.0,3.0,3.0,3.0,3.0,3.0,3.0,3.0,3.0,3.0,3.0,3.0,3.0,3.0,3.0,3.0,3.0,3.0,3.0,3.0,3.0,3.0,3.0,3.0,3.0,3.0,3.0,3.0,3.0,3.0,3.0,3.0,3.0,3.0,3.0,3.0,3.0,3.0,3.0,3.0,3.0,3.0,3.0,3.0,3.0,3.0,3.0,3.0,3.0,3.0,3.0,3.0,3.0,3.0,3.0,3.0,3.0,3.0,3.0,3.0,4.0,4.0,4.0,4.0,4.0,4.0,4.0,4.0,4.0,4.0,4.0,4.0,4.0,4.0,4.0,4.0,4.0,4.0,4.0,4.0,4.0,4.0,4.0,4.0,4.0,4.0,4.0,4.0,4.0,4.0,4.0,4.0,4.0,4.0,4.0,4.0,4.0,4.0,4.0,4.0,4.0,4.0,4.0,4.0,4.0,4.0,4.0,4.0,4.0,4.0,4.0,4.0,4.0,4.0,4.0,4.0,4.0,4.0,4.0,4.0,4.0,4.0,4.0,4.0,4.0,4.0,4.0,4.0,4.0,4.0,4.0,4.0,4.0,4.0,4.0,4.0,4.0,4.0,4.0,4.0,4.0,4.0,4.0,4.0,4.0,4.0,4.0,4.0,4.0,4.0,4.0,4.0,4.0,4.0,4.0,4.0,4.0,4.0,4.0,4.0,4.0,4.0,4.0,4.0,4.0,4.0,4.0,4.0,4.0,4.0,4.0,4.0,4.0,4.0,4.0,4.0,4.0,4.0,4.0,4.0,4.0,4.0,4.0,4.0,4.0,4.0,4.0,4.0,4.0,4.0,4.0,4.0,4.0,4.0,4.0,4.0,4.0,4.0,4.0,4.0,4.0,4.0,4.0,4.0,4.0,4.0,4.0,4.0,4.0,4.0,4.0,4.0,4.0,4.0,4.0,4.0,4.0,4.0,4.0,4.0,4.0,4.0,4.0,4.0,4.0,4.0,4.0,4.0,4.0,4.0,4.0,4.0,4.0,4.0,4.0,4.0,4.0,4.0,4.0,4.0,4.0,4.0,4.0,4.0,4.0,4.0,4.0,4.0,4.0,4.0,4.0,4.0,4.0,4.0,4.0,4.0,4.0,4.0,4.0,4.0,4.0,4.0,4.0,4.0,4.0,4.0,4.0,4.0,4.0,4.0,4.0,4.0,4.0,4.0,4.0,4.0,4.0,4.0,4.0,4.0,4.0,4.0,4.0,4.0,4.0,4.0,4.0,4.0,4.0,4.0,4.0,4.0,4.0,4.0],\"legendgroup\":\"\",\"marker\":{\"color\":[3,0,0,0,0,0,0,3,3,0,0,1,1,0,3,2,0,0,2,0,0,0,2,2,1,3,0,0,0,0,2,4,3,0,0,0,0,2,3,0,0,0,0,0,0,0,0,2,0,0,0,0,0,0,0,0,0,0,0,0,0,0,3,3,0,3,0,0,0,0,0,0,0,0,0,0,0,0,0,0,0,0,0,0,0,0,0,0,0,0,0,0,0,0,3,0,3,0,0,0,0,0,3,3,0,0,0,0,0,0,0,0,0,4,0,0,0,0,0,0,0,4,4,0,4,0,2,2,0,0,0,0,2,2,2,0,0,0,0,0,0,3,0,2,0,0,0,0,0,0,0,0,0,0,0,0,4,3,0,2,0,0,0,0,0,0,0,0,3,0,0,0,0,3,0,0,0,0,0,0,0,0,0,0,0,0,0,0,0,0,0,2,3,0,0,0,0,0,0,0,0,0,0,0,0,2,3,2,2,0,4,0,0,0,3,2,0,0,0,0,0,2,2,0,2,3,3,1,2,1,1,1,0,0,4,3,2,2,4,0,0,3,0,2,0,2,0,0,4,0,2,3,3,0,0,0,0,0,0,3,2,2,4,4,0,0,3,0,3,2,2,0,0,0,4,3,3,2,0,0,4,0,0,2,2,2,2,4,0,0,0,3,3,2,2,4,4,1,1,0,3,2,2,2,0,0,1,0,1,2,3,4,4,1,1,4,3,2,2,2,4,1,1,1,3,3,3,0,4,0,1,1,1,2,2,2,4,0,1,1,3,3,4,0,0,4,1,1,0,4,0,2,0,0,0,0,3,3,2,0,4,3,1,4,3,1,1,3,3,1,1,1,1,2,3,0,4,0,4,0,2,4,2,2,2,0,0,0,4,3,3,2,0,3,0,4,4,0,2,3,2,2,4,4,4,0,2,2,2,4,4,4,3,1,0,0,0,0,0,0,0,4,0,4,2,0,2,0,4,4,0,0,4,4,0,0,4,0,0,0,0,0,0,2,1,1,4,2,0,3,0,2,0,0,0,2,0,0,0,0,0,0,0,0,0,0,0,3,0,4,0,0,0,0,0,2,4,1,4,4,2,0,4,3,0,0,0,0,2,3,0,0,0,0,0,0,2,0,0,0,0,0,0,0,0,2,2,0,0,0,0,0,0,0,2,0,0,0,0,0,0,0,0,0,1,0,0,0,0,0,3,3,0,0,0,0,0,0,3,0,0,4,0,2,0,0,0,0,0,0,0,0,2,0,0,0,4,4,0,2,0,2,3,0,0,0,0,2,0,2,0,0,4,4,0,2,2,2,3,3,0,0,0,2,0,0,0,4,0,0,4,0,4,3,0,0,4,1,1,3,3,3,2,3,1,1,3,2,4,2,4,4,0,0,0,0,3,0,0,0,0,0,3,3,3,2,2,4,4,0,4,3,3,0,3,4,0,0,0,3,4,2,4,0,1,4,4,4,4,1,3,3,1,0,0,3,3,3,2,4,4,1,0,4,4,2,2,4,4,4,0,4,4,2,1,4,4,1,1,1,4,1,1,1,0,1,1,1,3,2,2,4,1,1,1,1,4,4,4,4,4,1,1,1,2,4,0,3,0,0,1,1,2,2,4,4,3,0,0,0,3,0,2,2,0,4,1,0,2,0,3,3,3,1,1,1,3,2,2,4,4,4,1,1,4,3,3,4,3,0,4,4,4,2,1,1,1,1,1,1,1,3,1,2,2,4,1,1,1,1,3,2,2,4,0,4,1,3,3,3,1,4,4,0,4,4,4,4,3,0,4,0,2,4,3,2,4,0,4,4,0,2,3,3,3,3,4,1,1,3,1,3,3,1,3,1,3,3,4,2,4,4,4,4,0,4,3,2,3,3,3,4,4],\"coloraxis\":\"coloraxis\",\"symbol\":\"circle\"},\"mode\":\"markers\",\"name\":\"\",\"orientation\":\"v\",\"showlegend\":false,\"x\":[35.671015,35.67101714222222,35.67101928444444,35.67102142666666,35.671023568888884,35.671025711111106,35.67102785333333,35.67102999555555,35.67103213777777,35.67103428,35.67103642222222,35.671038564444444,35.671040706666666,35.67104284888889,35.67104499111111,35.67104713333333,35.67104927555555,35.671051417777775,35.67105356,35.67105570222222,35.67105784444444,35.67105998666666,35.671062128888885,35.671064271111106,35.67106641333333,35.67106855555555,35.67107069777778,35.67107284,35.67107498222222,35.671077124444444,35.671079266666666,35.67108140888889,35.67108355111111,35.67108569333333,35.671087835555554,35.671089977777775,35.67109212,35.67109426222222,35.67109640444444,35.67109854666666,35.671100688888885,35.67110283111111,35.67110497333333,35.67110711555555,35.67110925777778,35.6711114,35.67111354222222,35.671115684444445,35.671117826666666,35.67111996888889,35.67112211111111,35.67112425333333,35.671126395555554,35.671128537777776,35.67113068,35.67113282222222,35.67113496444444,35.67113710666666,35.671139248888885,35.67114139111111,35.67114353333333,35.67114567555556,35.67114781777778,35.67114996,35.67115210222222,35.671154244444445,35.67115638666667,35.67115852888889,35.67116067111111,35.67116281333333,35.671164955555554,35.671167097777776,35.67116924,35.67117138222222,35.67117352444444,35.67117566666666,35.671177808888885,35.67117995111111,35.671182093333336,35.67118423555556,35.67118637777778,35.67118852,35.67119066222222,35.671192804444445,35.67119494666667,35.67119708888889,35.67119923111111,35.67120137333333,35.671203515555554,35.671205657777776,35.6712078,35.67120994222222,35.67121208444444,35.67121422666666,35.671216368888885,35.67121851111111,35.671220653333336,35.67122279555556,35.67122493777778,35.67122708,35.67122922222222,35.671231364444445,35.67123350666667,35.67123564888889,35.67123779111111,35.67123993333333,35.671242075555554,35.671244217777776,35.67124636,35.67124850222222,35.67125064444444,35.67125278666666,35.671254928888885,35.671257071111114,35.671259213333336,35.67126135555556,35.67126349777778,35.67126564,35.67126778222222,35.671269924444445,35.67127206666667,35.67127420888889,35.67127635111111,35.67127849333333,35.671280635555554,35.671282777777776,35.67128492,35.67128706222222,35.67128920444444,35.67129134666666,35.67129348888889,35.671295631111114,35.671297773333336,35.67129991555556,35.67130205777778,35.6713042,35.67130634222222,35.671308484444445,35.67131062666667,35.67131276888889,35.67131491111111,35.67131705333333,35.671319195555554,35.671321337777776,35.67132348,35.67132562222222,35.67132776444444,35.671329906666664,35.67133204888889,35.671334191111114,35.671336333333336,35.67133847555556,35.67134061777778,35.67134276,35.67134490222222,35.671347044444445,35.67134918666667,35.67135132888889,35.67135347111111,35.67135561333333,35.671357755555555,35.671359897777776,35.67136204,35.67136418222222,35.67136632444444,35.67136846666667,35.67137060888889,35.671372751111114,35.671374893333336,35.67137703555556,35.67137917777778,35.67138132,35.671383462222224,35.671385604444446,35.67138774666667,35.67138988888889,35.67139203111111,35.67139417333333,35.671396315555555,35.67139845777778,35.6714006,35.67140274222222,35.67140488444445,35.67140702666667,35.67140916888889,35.671411311111115,35.67141345333334,35.67141559555556,35.67141773777778,35.67141988,35.671422022222224,35.671424164444446,35.67142630666667,35.67142844888889,35.67143059111111,35.67143273333333,35.671434875555555,35.67143701777778,35.67143916,35.67144130222222,35.67144344444445,35.67144558666667,35.67144772888889,35.671449871111115,35.67145201333334,35.67145415555556,35.67145629777778,35.67145844,35.671460582222224,35.671462724444446,35.67146486666667,35.67146700888889,35.67146915111111,35.67147129333333,35.671473435555555,35.67147557777778,35.67147772,35.67147986222223,35.67148200444445,35.67148414666667,35.67148628888889,35.671488431111115,35.67149057333334,35.67149271555556,35.67149485777778,35.671497,35.671011,35.6710130972973,35.671015194594595,35.67101729189189,35.67101938918919,35.67102148648649,35.671023583783786,35.67102568108108,35.67102777837838,35.67102987567568,35.671031972972976,35.671034070270274,35.671036167567564,35.67103826486486,35.67104036216216,35.67104245945946,35.671044556756755,35.67104665405405,35.67104875135135,35.67105084864865,35.671052945945945,35.67105504324324,35.67105714054054,35.67105923783784,35.671061335135136,35.67106343243243,35.67106552972973,35.67106762702703,35.671069724324326,35.671071821621624,35.67107391891892,35.67107601621622,35.671078113513516,35.671080210810814,35.67108230810811,35.6710844054054,35.6710865027027,35.6710886,35.671090697297295,35.67109279459459,35.67109489189189,35.67109698918919,35.671099086486485,35.67110118378378,35.67110328108108,35.67110537837838,35.671107475675676,35.67110957297297,35.67111167027027,35.67111376756757,35.671115864864866,35.671117962162164,35.67112005945946,35.67112215675676,35.67112425405406,35.671126351351354,35.67112844864865,35.67113054594595,35.67113264324324,35.67113474054054,35.671136837837835,35.67113893513513,35.67114103243243,35.67114312972973,35.671145227027026,35.67114732432432,35.67114942162162,35.67115151891892,35.671153616216216,35.671155713513514,35.67115781081081,35.67115990810811,35.67116200540541,35.671164102702704,35.6711662,35.6711682972973,35.6711703945946,35.671172491891895,35.67117458918919,35.67117668648649,35.67117878378379,35.67118088108108,35.671182978378376,35.67118507567567,35.67118717297297,35.67118927027027,35.671191367567566,35.671193464864864,35.67119556216216,35.67119765945946,35.67119975675676,35.671201854054054,35.67120395135135,35.67120604864865,35.67120814594595,35.671210243243245,35.67121234054054,35.67121443783784,35.67121653513514,35.671218632432435,35.67122072972973,35.67122282702703,35.67122492432433,35.671227021621625,35.67122911891892,35.67123121621621,35.67123331351351,35.67123541081081,35.671237508108106,35.671239605405404,35.6712417027027,35.6712438,35.6712458972973,35.671247994594594,35.67125009189189,35.67125218918919,35.67125428648649,35.671256383783785,35.67125848108108,35.67126057837838,35.67126267567568,35.671264772972975,35.67126687027027,35.67126896756757,35.67127106486487,35.671273162162166,35.67127525945946,35.67127735675676,35.67127945405405,35.67128155135135,35.67128364864865,35.671285745945944,35.67128784324324,35.67128994054054,35.67129203783784,35.671294135135135,35.67129623243243,35.67129832972973,35.67130042702703,35.671302524324325,35.67130462162162,35.67130671891892,35.67130881621622,35.671310913513516,35.67131301081081,35.67131510810811,35.67131720540541,35.671319302702706,35.671321400000004,35.6713234972973,35.6713255945946,35.67132769189189,35.67132978918919,35.671331886486485,35.67133398378378,35.67133608108108,35.67133817837838,35.671340275675675,35.67134237297297,35.67134447027027,35.67134656756757,35.671348664864865,35.67135076216216,35.67135285945946,35.67135495675676,35.671357054054056,35.67135915135135,35.67136124864865,35.67136334594595,35.671365443243246,35.671367540540544,35.67136963783784,35.67137173513514,35.67137383243244,35.67137592972973,35.671378027027025,35.67138012432432,35.67138222162162,35.67138431891892,35.671386416216215,35.67138851351351,35.67139061081081,35.67139270810811,35.671394805405406,35.6713969027027,35.671399,35.671016,35.6710180967742,35.67102019354839,35.67102229032258,35.67102438709678,35.67102648387097,35.671028580645164,35.67103067741936,35.67103277419355,35.671034870967745,35.671036967741934,35.67103906451613,35.671041161290326,35.671043258064515,35.67104535483871,35.67104745161291,35.671049548387096,35.67105164516129,35.67105374193549,35.67105583870968,35.67105793548387,35.67106003225807,35.67106212903226,35.671064225806454,35.67106632258064,35.67106841935484,35.671070516129035,35.671072612903224,35.67107470967742,35.671076806451616,35.671078903225805,35.671081,35.6710830967742,35.671085193548386,35.67108729032258,35.67108938709678,35.67109148387097,35.67109358064516,35.67109567741936,35.67109777419355,35.671099870967744,35.67110196774193,35.67110406451613,35.671106161290325,35.671108258064514,35.67111035483871,35.671112451612906,35.671114548387095,35.67111664516129,35.67111874193549,35.671120838709676,35.67112293548387,35.67112503225807,35.67112712903226,35.67112922580645,35.67113132258064,35.67113341935484,35.671135516129034,35.67113761290322,35.67113970967742,35.671141806451615,35.671143903225804,35.671146,35.671148096774196,35.671150193548385,35.67115229032258,35.67115438709678,35.671156483870966,35.67115858064516,35.67116067741936,35.67116277419355,35.67116487096774,35.67116696774193,35.67116906451613,35.671171161290324,35.67117325806451,35.67117535483871,35.671177451612905,35.671179548387094,35.67118164516129,35.67118374193549,35.671185838709675,35.67118793548387,35.67119003225807,35.671192129032256,35.67119422580645,35.67119632258064,35.67119841935484,35.67120051612903,35.67120261290322,35.67120470967742,35.671206806451615,35.6712089032258,35.671211,35.671213096774196,35.671215193548385,35.67121729032258,35.67121938709678,35.671221483870966,35.67122358064516,35.67122567741936,35.67122777419355,35.67122987096774,35.67123196774193,35.67123406451613,35.671236161290324,35.67123825806451,35.67124035483871,35.671242451612905,35.671244548387094,35.67124664516129,35.671248741935486,35.671250838709675,35.67125293548387,35.67125503225807,35.671257129032256,35.67125922580645,35.67126132258064,35.67126341935484,35.67126551612903,35.67126761290322,35.67126970967742,35.671271806451614,35.6712739032258,35.671276,35.671278096774195,35.671280193548384,35.67128229032258,35.671284387096776,35.671286483870965,35.67128858064516,35.67129067741936,35.671292774193546,35.67129487096774,35.67129696774193,35.67129906451613,35.67130116129032,35.67130325806451,35.67130535483871,35.671307451612904,35.67130954838709,35.67131164516129,35.671313741935485,35.671315838709674,35.67131793548387,35.671320032258066,35.671322129032255,35.67132422580645,35.67132632258064,35.671328419354836,35.67133051612903,35.67133261290322,35.67133470967742,35.67133680645161,35.6713389032258,35.671341,35.671343096774194,35.67134519354838,35.67134729032258,35.671349387096775,35.671351483870964,35.67135358064516,35.671355677419356,35.671357774193545,35.67135987096774,35.67136196774193,35.671364064516126,35.67136616129032,35.67136825806451,35.67137035483871,35.6713724516129,35.67137454838709,35.67137664516129,35.671378741935484,35.67138083870967,35.67138293548387,35.671385032258065,35.671387129032254,35.67138922580645,35.67139132258064,35.671393419354835,35.67139551612903,35.67139761290322,35.67139970967742,35.67140180645161,35.6714039032258,35.671406,35.671005,35.67100710300429,35.671009206008584,35.671011309012876,35.67101341201717,35.67101551502146,35.67101761802575,35.67101972103004,35.671021824034334,35.671023927038625,35.67102603004292,35.67102813304721,35.6710302360515,35.67103233905579,35.67103444206008,35.67103654506438,35.671038648068674,35.671040751072965,35.67104285407726,35.67104495708155,35.67104706008584,35.67104916309013,35.67105126609442,35.671053369098715,35.671055472103006,35.6710575751073,35.67105967811159,35.67106178111588,35.67106388412017,35.671065987124464,35.671068090128756,35.67107019313305,35.67107229613734,35.67107439914163,35.67107650214592,35.671078605150214,35.671080708154506,35.6710828111588,35.67108491416309,35.67108701716738,35.67108912017167,35.671091223175964,35.671093326180255,35.67109542918455,35.671097532188845,35.67109963519314,35.67110173819743,35.67110384120172,35.67110594420601,35.6711080472103,35.671110150214595,35.67111225321889,35.67111435622318,35.67111645922747,35.67111856223176,35.67112066523605,35.671122768240345,35.671124871244636,35.67112697424893,35.67112907725322,35.67113118025751,35.6711332832618,35.671135386266094,35.671137489270386,35.67113959227468,35.67114169527897,35.67114379828326,35.67114590128755,35.671148004291844,35.671150107296135,35.67115221030043,35.67115431330472,35.67115641630901,35.67115851931331,35.6711606223176,35.67116272532189,35.671164828326184,35.671166931330475,35.67116903433477,35.67117113733906,35.67117324034335,35.67117534334764,35.67117744635193,35.671179549356225,35.67118165236052,35.67118375536481,35.6711858583691,35.67118796137339,35.67119006437768,35.671192167381975,35.671194270386266,35.67119637339056,35.67119847639485,35.67120057939914,35.67120268240343,35.671204785407724,35.671206888412016,35.67120899141631,35.6712110944206,35.67121319742489,35.67121530042918,35.671217403433474,35.67121950643777,35.671221609442064,35.671223712446356,35.67122581545065,35.67122791845494,35.67123002145923,35.67123212446352,35.671234227467814,35.671236330472105,35.6712384334764,35.67124053648069,35.67124263948498,35.67124474248927,35.67124684549356,35.671248948497855,35.671251051502146,35.67125315450644,35.67125525751073,35.67125736051502,35.67125946351931,35.671261566523604,35.671263669527896,35.67126577253219,35.67126787553648,35.67126997854077,35.67127208154506,35.671274184549354,35.671276287553646,35.67127839055794,35.67128049356223,35.67128259656653,35.67128469957082,35.67128680257511,35.6712889055794,35.671291008583694,35.671293111587985,35.67129521459228,35.67129731759657,35.67129942060086,35.67130152360515,35.67130362660944,35.671305729613735,35.67130783261803,35.67130993562232,35.67131203862661,35.6713141416309,35.67131624463519,35.671318347639485,35.671320450643776,35.67132255364807,35.67132465665236,35.67132675965665,35.67132886266094,35.671330965665234,35.671333068669526,35.67133517167382,35.67133727467811,35.6713393776824,35.67134148068669,35.67134358369099,35.67134568669528,35.671347789699574,35.671349892703866,35.67135199570816,35.67135409871245,35.67135620171674,35.67135830472103,35.671360407725324,35.671362510729615,35.67136461373391,35.6713667167382,35.67136881974249,35.67137092274678,35.67137302575107,35.671375128755365,35.67137723175966,35.67137933476395,35.67138143776824,35.67138354077253,35.67138564377682,35.671387746781114,35.671389849785406,35.6713919527897,35.67139405579399,35.67139615879828,35.67139826180257,35.671400364806864,35.671402467811156,35.671404570815454,35.671406673819746,35.67140877682404,35.67141087982833,35.67141298283262,35.67141508583691,35.671417188841204,35.671419291845496,35.67142139484979,35.67142349785408,35.67142560085837,35.67142770386266,35.67142980686695,35.671431909871245,35.67143401287554,35.67143611587983,35.67143821888412,35.67144032188841,35.6714424248927,35.671444527896995,35.671446630901286,35.67144873390558,35.67145083690987,35.67145293991416,35.67145504291845,35.671457145922744,35.671459248927036,35.67146135193133,35.67146345493562,35.67146555793992,35.67146766094421,35.6714697639485,35.67147186695279,35.671473969957084,35.671476072961376,35.67147817596567,35.67148027896996,35.67148238197425,35.67148448497854,35.671486587982834,35.671488690987125,35.67149079399142,35.67149289699571,35.671495],\"xaxis\":\"x\",\"y\":[-96.662334,-96.66233396444444,-96.66233392888888,-96.66233389333334,-96.66233385777778,-96.66233382222222,-96.66233378666666,-96.6623337511111,-96.66233371555556,-96.66233368,-96.66233364444444,-96.66233360888889,-96.66233357333333,-96.66233353777778,-96.66233350222222,-96.66233346666667,-96.66233343111111,-96.66233339555555,-96.66233336,-96.66233332444445,-96.66233328888889,-96.66233325333333,-96.66233321777777,-96.66233318222223,-96.66233314666667,-96.66233311111111,-96.66233307555555,-96.66233304000001,-96.66233300444445,-96.66233296888889,-96.66233293333333,-96.66233289777777,-96.66233286222223,-96.66233282666667,-96.66233279111111,-96.66233275555555,-96.66233272,-96.66233268444445,-96.66233264888889,-96.66233261333333,-96.66233257777778,-96.66233254222222,-96.66233250666667,-96.66233247111111,-96.66233243555556,-96.6623324,-96.66233236444444,-96.6623323288889,-96.66233229333334,-96.66233225777778,-96.66233222222222,-96.66233218666666,-96.66233215111112,-96.66233211555556,-96.66233208,-96.66233204444444,-96.66233200888888,-96.66233197333334,-96.66233193777778,-96.66233190222222,-96.66233186666666,-96.6623318311111,-96.66233179555556,-96.66233176,-96.66233172444444,-96.66233168888888,-96.66233165333333,-96.66233161777778,-96.66233158222222,-96.66233154666666,-96.6623315111111,-96.66233147555556,-96.66233144,-96.66233140444444,-96.66233136888889,-96.66233133333333,-96.66233129777778,-96.66233126222222,-96.66233122666667,-96.66233119111111,-96.66233115555555,-96.66233112,-96.66233108444445,-96.66233104888889,-96.66233101333333,-96.66233097777777,-96.66233094222223,-96.66233090666667,-96.66233087111111,-96.66233083555555,-96.66233079999999,-96.66233076444445,-96.66233072888889,-96.66233069333333,-96.66233065777777,-96.66233062222221,-96.66233058666667,-96.66233055111111,-96.66233051555555,-96.66233048,-96.66233044444444,-96.66233040888889,-96.66233037333333,-96.66233033777777,-96.66233030222222,-96.66233026666666,-96.66233023111111,-96.66233019555555,-96.66233016,-96.66233012444444,-96.66233008888888,-96.66233005333333,-96.66233001777778,-96.66232998222222,-96.66232994666666,-96.66232991111112,-96.66232987555556,-96.66232984,-96.66232980444444,-96.66232976888888,-96.66232973333334,-96.66232969777778,-96.66232966222222,-96.66232962666666,-96.6623295911111,-96.66232955555556,-96.66232952,-96.66232948444444,-96.66232944888888,-96.66232941333332,-96.66232937777778,-96.66232934222222,-96.66232930666666,-96.6623292711111,-96.66232923555555,-96.6623292,-96.66232916444444,-96.66232912888889,-96.66232909333333,-96.66232905777777,-96.66232902222222,-96.66232898666667,-96.6623289511111,-96.66232891555555,-96.66232887999999,-96.66232884444445,-96.66232880888889,-96.66232877333333,-96.66232873777777,-96.66232870222221,-96.66232866666667,-96.66232863111111,-96.66232859555555,-96.66232855999999,-96.66232852444443,-96.66232848888889,-96.66232845333333,-96.66232841777777,-96.66232838222221,-96.66232834666667,-96.66232831111111,-96.66232827555555,-96.66232824,-96.66232820444444,-96.66232816888889,-96.66232813333333,-96.66232809777777,-96.66232806222222,-96.66232802666666,-96.66232799111111,-96.66232795555555,-96.66232792,-96.66232788444444,-96.66232784888888,-96.66232781333333,-96.66232777777778,-96.66232774222222,-96.66232770666666,-96.6623276711111,-96.66232763555556,-96.6623276,-96.66232756444444,-96.66232752888888,-96.66232749333332,-96.66232745777778,-96.66232742222222,-96.66232738666666,-96.6623273511111,-96.66232731555554,-96.66232728,-96.66232724444444,-96.66232720888888,-96.66232717333332,-96.66232713777777,-96.66232710222222,-96.66232706666666,-96.6623270311111,-96.66232699555555,-96.66232695999999,-96.66232692444444,-96.66232688888888,-96.66232685333333,-96.66232681777777,-96.66232678222222,-96.66232674666666,-96.6623267111111,-96.66232667555555,-96.66232663999999,-96.66232660444444,-96.66232656888889,-96.66232653333333,-96.66232649777777,-96.66232646222221,-96.66232642666667,-96.66232639111111,-96.66232635555555,-96.66232631999999,-96.66232628444443,-96.66232624888889,-96.66232621333333,-96.66232617777777,-96.66232614222221,-96.66232610666665,-96.66232607111111,-96.66232603555555,-96.662326,-96.662355,-96.66235496216217,-96.66235492432433,-96.6623548864865,-96.66235484864865,-96.66235481081081,-96.66235477297298,-96.66235473513514,-96.6623546972973,-96.66235465945947,-96.66235462162163,-96.6623545837838,-96.66235454594595,-96.66235450810811,-96.66235447027027,-96.66235443243244,-96.6623543945946,-96.66235435675677,-96.66235431891893,-96.66235428108108,-96.66235424324324,-96.6623542054054,-96.66235416756757,-96.66235412972974,-96.6623540918919,-96.66235405405406,-96.66235401621621,-96.66235397837838,-96.66235394054054,-96.6623539027027,-96.66235386486487,-96.66235382702703,-96.6623537891892,-96.66235375135136,-96.66235371351351,-96.66235367567567,-96.66235363783784,-96.6623536,-96.66235356216217,-96.66235352432433,-96.6623534864865,-96.66235344864864,-96.66235341081081,-96.66235337297297,-96.66235333513514,-96.6623532972973,-96.66235325945946,-96.66235322162163,-96.6623531837838,-96.66235314594594,-96.6623531081081,-96.66235307027027,-96.66235303243243,-96.6623529945946,-96.66235295675676,-96.66235291891893,-96.66235288108108,-96.66235284324324,-96.6623528054054,-96.66235276756757,-96.66235272972973,-96.6623526918919,-96.66235265405406,-96.66235261621621,-96.66235257837837,-96.66235254054054,-96.6623525027027,-96.66235246486487,-96.66235242702703,-96.6623523891892,-96.66235235135136,-96.66235231351351,-96.66235227567567,-96.66235223783784,-96.6623522,-96.66235216216216,-96.66235212432433,-96.6623520864865,-96.66235204864864,-96.6623520108108,-96.66235197297297,-96.66235193513513,-96.6623518972973,-96.66235185945946,-96.66235182162163,-96.66235178378379,-96.66235174594594,-96.6623517081081,-96.66235167027027,-96.66235163243243,-96.6623515945946,-96.66235155675676,-96.66235151891892,-96.66235148108107,-96.66235144324324,-96.6623514054054,-96.66235136756757,-96.66235132972973,-96.6623512918919,-96.66235125405406,-96.66235121621621,-96.66235117837837,-96.66235114054054,-96.6623511027027,-96.66235106486486,-96.66235102702703,-96.66235098918919,-96.66235095135136,-96.6623509135135,-96.66235087567567,-96.66235083783783,-96.6623508,-96.66235076216216,-96.66235072432433,-96.66235068648649,-96.66235064864864,-96.6623506108108,-96.66235057297297,-96.66235053513513,-96.6623504972973,-96.66235045945946,-96.66235042162162,-96.66235038378379,-96.66235034594594,-96.6623503081081,-96.66235027027027,-96.66235023243243,-96.6623501945946,-96.66235015675676,-96.66235011891892,-96.66235008108107,-96.66235004324324,-96.6623500054054,-96.66234996756756,-96.66234992972973,-96.66234989189189,-96.66234985405406,-96.6623498162162,-96.66234977837837,-96.66234974054053,-96.6623497027027,-96.66234966486486,-96.66234962702703,-96.66234958918919,-96.66234955135135,-96.6623495135135,-96.66234947567567,-96.66234943783783,-96.6623494,-96.66234936216216,-96.66234932432432,-96.66234928648649,-96.66234924864864,-96.6623492108108,-96.66234917297297,-96.66234913513513,-96.6623490972973,-96.66234905945946,-96.66234902162162,-96.66234898378379,-96.66234894594594,-96.6623489081081,-96.66234887027026,-96.66234883243243,-96.66234879459459,-96.66234875675676,-96.66234871891892,-96.66234868108107,-96.66234864324323,-96.6623486054054,-96.66234856756756,-96.66234852972973,-96.66234849189189,-96.66234845405405,-96.6623484162162,-96.66234837837837,-96.66234834054053,-96.6623483027027,-96.66234826486486,-96.66234822702702,-96.66234818918919,-96.66234815135135,-96.6623481135135,-96.66234807567567,-96.66234803783783,-96.662348,-96.662355,-96.66235495698925,-96.6623549139785,-96.66235487096775,-96.66235482795699,-96.66235478494625,-96.66235474193549,-96.66235469892473,-96.66235465591399,-96.66235461290323,-96.66235456989247,-96.66235452688173,-96.66235448387097,-96.66235444086021,-96.66235439784947,-96.66235435483871,-96.66235431182797,-96.66235426881721,-96.66235422580645,-96.66235418279571,-96.66235413978495,-96.6623540967742,-96.66235405376345,-96.6623540107527,-96.66235396774194,-96.66235392473119,-96.66235388172043,-96.66235383870968,-96.66235379569893,-96.66235375268818,-96.66235370967742,-96.66235366666668,-96.66235362365592,-96.66235358064516,-96.66235353763442,-96.66235349462366,-96.6623534516129,-96.66235340860216,-96.6623533655914,-96.66235332258064,-96.6623532795699,-96.66235323655914,-96.66235319354838,-96.66235315053764,-96.66235310752688,-96.66235306451613,-96.66235302150538,-96.66235297849462,-96.66235293548388,-96.66235289247312,-96.66235284946237,-96.66235280645162,-96.66235276344086,-96.6623527204301,-96.66235267741936,-96.6623526344086,-96.66235259139785,-96.6623525483871,-96.66235250537635,-96.66235246236559,-96.66235241935485,-96.66235237634409,-96.66235233333333,-96.66235229032259,-96.66235224731183,-96.66235220430107,-96.66235216129033,-96.66235211827957,-96.66235207526881,-96.66235203225807,-96.66235198924731,-96.66235194623656,-96.66235190322581,-96.66235186021505,-96.6623518172043,-96.66235177419355,-96.6623517311828,-96.66235168817204,-96.6623516451613,-96.66235160215054,-96.6623515591398,-96.66235151612904,-96.66235147311828,-96.66235143010753,-96.66235138709678,-96.66235134408602,-96.66235130107528,-96.66235125806452,-96.66235121505376,-96.66235117204302,-96.66235112903226,-96.6623510860215,-96.66235104301076,-96.662351,-96.66235095698924,-96.6623509139785,-96.66235087096774,-96.66235082795698,-96.66235078494624,-96.66235074193548,-96.66235069892473,-96.66235065591398,-96.66235061290323,-96.66235056989247,-96.66235052688172,-96.66235048387097,-96.66235044086021,-96.66235039784947,-96.66235035483871,-96.66235031182796,-96.6623502688172,-96.66235022580645,-96.6623501827957,-96.66235013978495,-96.66235009677419,-96.66235005376345,-96.66235001075269,-96.66234996774193,-96.66234992473119,-96.66234988172043,-96.66234983870967,-96.66234979569893,-96.66234975268817,-96.66234970967741,-96.66234966666667,-96.66234962365591,-96.66234958064516,-96.66234953763441,-96.66234949462365,-96.6623494516129,-96.66234940860215,-96.6623493655914,-96.66234932258064,-96.6623492795699,-96.66234923655914,-96.66234919354838,-96.66234915053764,-96.66234910752688,-96.66234906451612,-96.66234902150538,-96.66234897849462,-96.66234893548388,-96.66234889247312,-96.66234884946236,-96.66234880645162,-96.66234876344086,-96.6623487204301,-96.66234867741936,-96.6623486344086,-96.66234859139784,-96.6623485483871,-96.66234850537634,-96.66234846236559,-96.66234841935484,-96.66234837634408,-96.66234833333333,-96.66234829032258,-96.66234824731183,-96.66234820430107,-96.66234816129032,-96.66234811827957,-96.66234807526881,-96.66234803225807,-96.66234798924731,-96.66234794623655,-96.66234790322581,-96.66234786021505,-96.66234781720429,-96.66234777419355,-96.66234773118279,-96.66234768817203,-96.66234764516129,-96.66234760215053,-96.66234755913979,-96.66234751612903,-96.66234747311827,-96.66234743010753,-96.66234738709677,-96.66234734408602,-96.66234730107527,-96.66234725806451,-96.66234721505376,-96.66234717204301,-96.66234712903226,-96.6623470860215,-96.66234704301075,-96.662347,-96.662349,-96.66234894849786,-96.66234889699571,-96.66234884549357,-96.66234879399143,-96.66234874248927,-96.66234869098713,-96.66234863948499,-96.66234858798283,-96.66234853648069,-96.66234848497855,-96.6623484334764,-96.66234838197425,-96.66234833047211,-96.66234827896996,-96.66234822746782,-96.66234817596568,-96.66234812446352,-96.66234807296138,-96.66234802145924,-96.66234796995708,-96.66234791845494,-96.6623478669528,-96.66234781545064,-96.6623477639485,-96.66234771244636,-96.6623476609442,-96.66234760944207,-96.66234755793992,-96.66234750643777,-96.66234745493563,-96.66234740343349,-96.66234735193133,-96.66234730042919,-96.66234724892705,-96.6623471974249,-96.66234714592275,-96.66234709442061,-96.66234704291846,-96.66234699141631,-96.66234693991417,-96.66234688841202,-96.66234683690988,-96.66234678540773,-96.66234673390558,-96.66234668240344,-96.6623466309013,-96.66234657939914,-96.662346527897,-96.66234647639486,-96.6623464248927,-96.66234637339056,-96.66234632188842,-96.66234627038627,-96.66234621888412,-96.66234616738198,-96.66234611587983,-96.66234606437769,-96.66234601287555,-96.66234596137339,-96.66234590987125,-96.66234585836911,-96.66234580686695,-96.66234575536481,-96.66234570386267,-96.66234565236051,-96.66234560085837,-96.66234554935623,-96.66234549785408,-96.66234544635194,-96.6623453948498,-96.66234534334764,-96.6623452918455,-96.66234524034336,-96.6623451888412,-96.66234513733906,-96.66234508583692,-96.66234503433476,-96.66234498283262,-96.66234493133048,-96.66234487982832,-96.66234482832618,-96.66234477682404,-96.66234472532189,-96.66234467381975,-96.6623446223176,-96.66234457081545,-96.66234451931331,-96.66234446781117,-96.66234441630901,-96.66234436480687,-96.66234431330473,-96.66234426180257,-96.66234421030043,-96.66234415879829,-96.66234410729614,-96.662344055794,-96.66234400429185,-96.6623439527897,-96.66234390128756,-96.66234384978542,-96.66234379828326,-96.66234374678112,-96.66234369527898,-96.66234364377682,-96.66234359227468,-96.66234354077254,-96.66234348927038,-96.66234343776824,-96.6623433862661,-96.66234333476395,-96.6623432832618,-96.66234323175966,-96.66234318025751,-96.66234312875537,-96.66234307725323,-96.66234302575107,-96.66234297424893,-96.66234292274677,-96.66234287124463,-96.66234281974249,-96.66234276824034,-96.6623427167382,-96.66234266523605,-96.6623426137339,-96.66234256223176,-96.66234251072962,-96.66234245922746,-96.66234240772532,-96.66234235622318,-96.66234230472102,-96.66234225321888,-96.66234220171674,-96.66234215021458,-96.66234209871244,-96.6623420472103,-96.66234199570815,-96.662341944206,-96.66234189270386,-96.66234184120171,-96.66234178969957,-96.66234173819743,-96.66234168669527,-96.66234163519313,-96.66234158369099,-96.66234153218883,-96.66234148068669,-96.66234142918455,-96.6623413776824,-96.66234132618025,-96.66234127467811,-96.66234122317596,-96.66234117167382,-96.66234112017167,-96.66234106866952,-96.66234101716738,-96.66234096566524,-96.66234091416308,-96.66234086266094,-96.6623408111588,-96.66234075965664,-96.6623407081545,-96.66234065665236,-96.6623406051502,-96.66234055364806,-96.66234050214592,-96.66234045064377,-96.66234039914163,-96.66234034763949,-96.66234029613733,-96.66234024463519,-96.66234019313305,-96.66234014163089,-96.66234009012875,-96.66234003862661,-96.66233998712445,-96.66233993562231,-96.66233988412017,-96.66233983261802,-96.66233978111588,-96.66233972961373,-96.66233967811158,-96.66233962660944,-96.6623395751073,-96.66233952360514,-96.662339472103,-96.66233942060086,-96.6623393690987,-96.66233931759656,-96.66233926609442,-96.66233921459227,-96.66233916309012,-96.66233911158798,-96.66233906008583,-96.66233900858369,-96.66233895708154,-96.66233890557939,-96.66233885407725,-96.6623388025751,-96.66233875107295,-96.66233869957081,-96.66233864806867,-96.66233859656651,-96.66233854506437,-96.66233849356223,-96.66233844206008,-96.66233839055793,-96.6623383390558,-96.66233828755364,-96.6623382360515,-96.66233818454936,-96.6623381330472,-96.66233808154506,-96.66233803004292,-96.66233797854076,-96.66233792703862,-96.66233787553648,-96.66233782403432,-96.66233777253218,-96.66233772103004,-96.66233766952789,-96.66233761802575,-96.6623375665236,-96.66233751502145,-96.66233746351931,-96.66233741201717,-96.66233736051501,-96.66233730901287,-96.66233725751073,-96.66233720600857,-96.66233715450643,-96.66233710300429,-96.66233705150213,-96.662337],\"yaxis\":\"y\",\"type\":\"scatter\"}],                        {\"template\":{\"data\":{\"histogram2dcontour\":[{\"type\":\"histogram2dcontour\",\"colorbar\":{\"outlinewidth\":0,\"ticks\":\"\"},\"colorscale\":[[0.0,\"#0d0887\"],[0.1111111111111111,\"#46039f\"],[0.2222222222222222,\"#7201a8\"],[0.3333333333333333,\"#9c179e\"],[0.4444444444444444,\"#bd3786\"],[0.5555555555555556,\"#d8576b\"],[0.6666666666666666,\"#ed7953\"],[0.7777777777777778,\"#fb9f3a\"],[0.8888888888888888,\"#fdca26\"],[1.0,\"#f0f921\"]]}],\"choropleth\":[{\"type\":\"choropleth\",\"colorbar\":{\"outlinewidth\":0,\"ticks\":\"\"}}],\"histogram2d\":[{\"type\":\"histogram2d\",\"colorbar\":{\"outlinewidth\":0,\"ticks\":\"\"},\"colorscale\":[[0.0,\"#0d0887\"],[0.1111111111111111,\"#46039f\"],[0.2222222222222222,\"#7201a8\"],[0.3333333333333333,\"#9c179e\"],[0.4444444444444444,\"#bd3786\"],[0.5555555555555556,\"#d8576b\"],[0.6666666666666666,\"#ed7953\"],[0.7777777777777778,\"#fb9f3a\"],[0.8888888888888888,\"#fdca26\"],[1.0,\"#f0f921\"]]}],\"heatmap\":[{\"type\":\"heatmap\",\"colorbar\":{\"outlinewidth\":0,\"ticks\":\"\"},\"colorscale\":[[0.0,\"#0d0887\"],[0.1111111111111111,\"#46039f\"],[0.2222222222222222,\"#7201a8\"],[0.3333333333333333,\"#9c179e\"],[0.4444444444444444,\"#bd3786\"],[0.5555555555555556,\"#d8576b\"],[0.6666666666666666,\"#ed7953\"],[0.7777777777777778,\"#fb9f3a\"],[0.8888888888888888,\"#fdca26\"],[1.0,\"#f0f921\"]]}],\"heatmapgl\":[{\"type\":\"heatmapgl\",\"colorbar\":{\"outlinewidth\":0,\"ticks\":\"\"},\"colorscale\":[[0.0,\"#0d0887\"],[0.1111111111111111,\"#46039f\"],[0.2222222222222222,\"#7201a8\"],[0.3333333333333333,\"#9c179e\"],[0.4444444444444444,\"#bd3786\"],[0.5555555555555556,\"#d8576b\"],[0.6666666666666666,\"#ed7953\"],[0.7777777777777778,\"#fb9f3a\"],[0.8888888888888888,\"#fdca26\"],[1.0,\"#f0f921\"]]}],\"contourcarpet\":[{\"type\":\"contourcarpet\",\"colorbar\":{\"outlinewidth\":0,\"ticks\":\"\"}}],\"contour\":[{\"type\":\"contour\",\"colorbar\":{\"outlinewidth\":0,\"ticks\":\"\"},\"colorscale\":[[0.0,\"#0d0887\"],[0.1111111111111111,\"#46039f\"],[0.2222222222222222,\"#7201a8\"],[0.3333333333333333,\"#9c179e\"],[0.4444444444444444,\"#bd3786\"],[0.5555555555555556,\"#d8576b\"],[0.6666666666666666,\"#ed7953\"],[0.7777777777777778,\"#fb9f3a\"],[0.8888888888888888,\"#fdca26\"],[1.0,\"#f0f921\"]]}],\"surface\":[{\"type\":\"surface\",\"colorbar\":{\"outlinewidth\":0,\"ticks\":\"\"},\"colorscale\":[[0.0,\"#0d0887\"],[0.1111111111111111,\"#46039f\"],[0.2222222222222222,\"#7201a8\"],[0.3333333333333333,\"#9c179e\"],[0.4444444444444444,\"#bd3786\"],[0.5555555555555556,\"#d8576b\"],[0.6666666666666666,\"#ed7953\"],[0.7777777777777778,\"#fb9f3a\"],[0.8888888888888888,\"#fdca26\"],[1.0,\"#f0f921\"]]}],\"mesh3d\":[{\"type\":\"mesh3d\",\"colorbar\":{\"outlinewidth\":0,\"ticks\":\"\"}}],\"scatter\":[{\"fillpattern\":{\"fillmode\":\"overlay\",\"size\":10,\"solidity\":0.2},\"type\":\"scatter\"}],\"parcoords\":[{\"type\":\"parcoords\",\"line\":{\"colorbar\":{\"outlinewidth\":0,\"ticks\":\"\"}}}],\"scatterpolargl\":[{\"type\":\"scatterpolargl\",\"marker\":{\"colorbar\":{\"outlinewidth\":0,\"ticks\":\"\"}}}],\"bar\":[{\"error_x\":{\"color\":\"#2a3f5f\"},\"error_y\":{\"color\":\"#2a3f5f\"},\"marker\":{\"line\":{\"color\":\"#E5ECF6\",\"width\":0.5},\"pattern\":{\"fillmode\":\"overlay\",\"size\":10,\"solidity\":0.2}},\"type\":\"bar\"}],\"scattergeo\":[{\"type\":\"scattergeo\",\"marker\":{\"colorbar\":{\"outlinewidth\":0,\"ticks\":\"\"}}}],\"scatterpolar\":[{\"type\":\"scatterpolar\",\"marker\":{\"colorbar\":{\"outlinewidth\":0,\"ticks\":\"\"}}}],\"histogram\":[{\"marker\":{\"pattern\":{\"fillmode\":\"overlay\",\"size\":10,\"solidity\":0.2}},\"type\":\"histogram\"}],\"scattergl\":[{\"type\":\"scattergl\",\"marker\":{\"colorbar\":{\"outlinewidth\":0,\"ticks\":\"\"}}}],\"scatter3d\":[{\"type\":\"scatter3d\",\"line\":{\"colorbar\":{\"outlinewidth\":0,\"ticks\":\"\"}},\"marker\":{\"colorbar\":{\"outlinewidth\":0,\"ticks\":\"\"}}}],\"scattermapbox\":[{\"type\":\"scattermapbox\",\"marker\":{\"colorbar\":{\"outlinewidth\":0,\"ticks\":\"\"}}}],\"scatterternary\":[{\"type\":\"scatterternary\",\"marker\":{\"colorbar\":{\"outlinewidth\":0,\"ticks\":\"\"}}}],\"scattercarpet\":[{\"type\":\"scattercarpet\",\"marker\":{\"colorbar\":{\"outlinewidth\":0,\"ticks\":\"\"}}}],\"carpet\":[{\"aaxis\":{\"endlinecolor\":\"#2a3f5f\",\"gridcolor\":\"white\",\"linecolor\":\"white\",\"minorgridcolor\":\"white\",\"startlinecolor\":\"#2a3f5f\"},\"baxis\":{\"endlinecolor\":\"#2a3f5f\",\"gridcolor\":\"white\",\"linecolor\":\"white\",\"minorgridcolor\":\"white\",\"startlinecolor\":\"#2a3f5f\"},\"type\":\"carpet\"}],\"table\":[{\"cells\":{\"fill\":{\"color\":\"#EBF0F8\"},\"line\":{\"color\":\"white\"}},\"header\":{\"fill\":{\"color\":\"#C8D4E3\"},\"line\":{\"color\":\"white\"}},\"type\":\"table\"}],\"barpolar\":[{\"marker\":{\"line\":{\"color\":\"#E5ECF6\",\"width\":0.5},\"pattern\":{\"fillmode\":\"overlay\",\"size\":10,\"solidity\":0.2}},\"type\":\"barpolar\"}],\"pie\":[{\"automargin\":true,\"type\":\"pie\"}]},\"layout\":{\"autotypenumbers\":\"strict\",\"colorway\":[\"#636efa\",\"#EF553B\",\"#00cc96\",\"#ab63fa\",\"#FFA15A\",\"#19d3f3\",\"#FF6692\",\"#B6E880\",\"#FF97FF\",\"#FECB52\"],\"font\":{\"color\":\"#2a3f5f\"},\"hovermode\":\"closest\",\"hoverlabel\":{\"align\":\"left\"},\"paper_bgcolor\":\"white\",\"plot_bgcolor\":\"#E5ECF6\",\"polar\":{\"bgcolor\":\"#E5ECF6\",\"angularaxis\":{\"gridcolor\":\"white\",\"linecolor\":\"white\",\"ticks\":\"\"},\"radialaxis\":{\"gridcolor\":\"white\",\"linecolor\":\"white\",\"ticks\":\"\"}},\"ternary\":{\"bgcolor\":\"#E5ECF6\",\"aaxis\":{\"gridcolor\":\"white\",\"linecolor\":\"white\",\"ticks\":\"\"},\"baxis\":{\"gridcolor\":\"white\",\"linecolor\":\"white\",\"ticks\":\"\"},\"caxis\":{\"gridcolor\":\"white\",\"linecolor\":\"white\",\"ticks\":\"\"}},\"coloraxis\":{\"colorbar\":{\"outlinewidth\":0,\"ticks\":\"\"}},\"colorscale\":{\"sequential\":[[0.0,\"#0d0887\"],[0.1111111111111111,\"#46039f\"],[0.2222222222222222,\"#7201a8\"],[0.3333333333333333,\"#9c179e\"],[0.4444444444444444,\"#bd3786\"],[0.5555555555555556,\"#d8576b\"],[0.6666666666666666,\"#ed7953\"],[0.7777777777777778,\"#fb9f3a\"],[0.8888888888888888,\"#fdca26\"],[1.0,\"#f0f921\"]],\"sequentialminus\":[[0.0,\"#0d0887\"],[0.1111111111111111,\"#46039f\"],[0.2222222222222222,\"#7201a8\"],[0.3333333333333333,\"#9c179e\"],[0.4444444444444444,\"#bd3786\"],[0.5555555555555556,\"#d8576b\"],[0.6666666666666666,\"#ed7953\"],[0.7777777777777778,\"#fb9f3a\"],[0.8888888888888888,\"#fdca26\"],[1.0,\"#f0f921\"]],\"diverging\":[[0,\"#8e0152\"],[0.1,\"#c51b7d\"],[0.2,\"#de77ae\"],[0.3,\"#f1b6da\"],[0.4,\"#fde0ef\"],[0.5,\"#f7f7f7\"],[0.6,\"#e6f5d0\"],[0.7,\"#b8e186\"],[0.8,\"#7fbc41\"],[0.9,\"#4d9221\"],[1,\"#276419\"]]},\"xaxis\":{\"gridcolor\":\"white\",\"linecolor\":\"white\",\"ticks\":\"\",\"title\":{\"standoff\":15},\"zerolinecolor\":\"white\",\"automargin\":true,\"zerolinewidth\":2},\"yaxis\":{\"gridcolor\":\"white\",\"linecolor\":\"white\",\"ticks\":\"\",\"title\":{\"standoff\":15},\"zerolinecolor\":\"white\",\"automargin\":true,\"zerolinewidth\":2},\"scene\":{\"xaxis\":{\"backgroundcolor\":\"#E5ECF6\",\"gridcolor\":\"white\",\"linecolor\":\"white\",\"showbackground\":true,\"ticks\":\"\",\"zerolinecolor\":\"white\",\"gridwidth\":2},\"yaxis\":{\"backgroundcolor\":\"#E5ECF6\",\"gridcolor\":\"white\",\"linecolor\":\"white\",\"showbackground\":true,\"ticks\":\"\",\"zerolinecolor\":\"white\",\"gridwidth\":2},\"zaxis\":{\"backgroundcolor\":\"#E5ECF6\",\"gridcolor\":\"white\",\"linecolor\":\"white\",\"showbackground\":true,\"ticks\":\"\",\"zerolinecolor\":\"white\",\"gridwidth\":2}},\"shapedefaults\":{\"line\":{\"color\":\"#2a3f5f\"}},\"annotationdefaults\":{\"arrowcolor\":\"#2a3f5f\",\"arrowhead\":0,\"arrowwidth\":1},\"geo\":{\"bgcolor\":\"white\",\"landcolor\":\"#E5ECF6\",\"subunitcolor\":\"white\",\"showland\":true,\"showlakes\":true,\"lakecolor\":\"white\"},\"title\":{\"x\":0.05},\"mapbox\":{\"style\":\"light\"}}},\"xaxis\":{\"anchor\":\"y\",\"domain\":[0.0,1.0],\"title\":{\"text\":\"latitude\"}},\"yaxis\":{\"anchor\":\"x\",\"domain\":[0.0,1.0],\"title\":{\"text\":\"longitude\"}},\"coloraxis\":{\"colorbar\":{\"title\":{\"text\":\"cluster\"}},\"colorscale\":[[0.0,\"#0d0887\"],[0.1111111111111111,\"#46039f\"],[0.2222222222222222,\"#7201a8\"],[0.3333333333333333,\"#9c179e\"],[0.4444444444444444,\"#bd3786\"],[0.5555555555555556,\"#d8576b\"],[0.6666666666666666,\"#ed7953\"],[0.7777777777777778,\"#fb9f3a\"],[0.8888888888888888,\"#fdca26\"],[1.0,\"#f0f921\"]]},\"legend\":{\"tracegroupgap\":0},\"title\":{\"text\":\"Cluster color map generated using GMM in shawnee_location_2\"},\"height\":600,\"width\":1000},                        {\"responsive\": true}                    ).then(function(){\n",
       "                            \n",
       "var gd = document.getElementById('1958756b-acff-4702-80e8-3879fd75c0e9');\n",
       "var x = new MutationObserver(function (mutations, observer) {{\n",
       "        var display = window.getComputedStyle(gd).display;\n",
       "        if (!display || display === 'none') {{\n",
       "            console.log([gd, 'removed!']);\n",
       "            Plotly.purge(gd);\n",
       "            observer.disconnect();\n",
       "        }}\n",
       "}});\n",
       "\n",
       "// Listen for the removal of the full notebook cells\n",
       "var notebookContainer = gd.closest('#notebook-container');\n",
       "if (notebookContainer) {{\n",
       "    x.observe(notebookContainer, {childList: true});\n",
       "}}\n",
       "\n",
       "// Listen for the clearing of the current output cell\n",
       "var outputEl = gd.closest('.output');\n",
       "if (outputEl) {{\n",
       "    x.observe(outputEl, {childList: true});\n",
       "}}\n",
       "\n",
       "                        })                };                });            </script>        </div>"
      ]
     },
     "metadata": {},
     "output_type": "display_data"
    }
   ],
   "source": [
    "px.scatter(\n",
    "    full_data[full_data[\"pass_no\"]!=0],\n",
    "    x=\"latitude\",\n",
    "    y=\"longitude\",\n",
    "    hover_name=\"pass_no\", \n",
    "    hover_data=[\"timestamp\", \"cluster\"],\n",
    "    color=\"cluster\",\n",
    "    width=1000,\n",
    "    height=600,\n",
    "    title=f\"Cluster color map generated using {model_name} in {location_name}\"\n",
    ")"
   ]
  },
  {
   "cell_type": "code",
   "execution_count": 11,
   "id": "296b5176",
   "metadata": {},
   "outputs": [
    {
     "data": {
      "text/html": [
       "<div>\n",
       "<style scoped>\n",
       "    .dataframe tbody tr th:only-of-type {\n",
       "        vertical-align: middle;\n",
       "    }\n",
       "\n",
       "    .dataframe tbody tr th {\n",
       "        vertical-align: top;\n",
       "    }\n",
       "\n",
       "    .dataframe thead th {\n",
       "        text-align: right;\n",
       "    }\n",
       "</style>\n",
       "<table border=\"1\" class=\"dataframe\">\n",
       "  <thead>\n",
       "    <tr style=\"text-align: right;\">\n",
       "      <th></th>\n",
       "      <th>Unnamed: 0</th>\n",
       "      <th>Unnamed: 0.1</th>\n",
       "      <th>timestamp</th>\n",
       "      <th>total_power</th>\n",
       "      <th>p0</th>\n",
       "      <th>p1</th>\n",
       "      <th>p2</th>\n",
       "      <th>p3</th>\n",
       "      <th>p4</th>\n",
       "      <th>p5</th>\n",
       "      <th>p6</th>\n",
       "      <th>cluster</th>\n",
       "      <th>pass_no</th>\n",
       "      <th>latitude</th>\n",
       "      <th>longitude</th>\n",
       "      <th>first</th>\n",
       "      <th>last</th>\n",
       "    </tr>\n",
       "  </thead>\n",
       "  <tbody>\n",
       "    <tr>\n",
       "      <th>0</th>\n",
       "      <td>0</td>\n",
       "      <td>0</td>\n",
       "      <td>2023-01-16 17:35:24.120000+00:00</td>\n",
       "      <td>100.000000</td>\n",
       "      <td>-2.000000</td>\n",
       "      <td>0.375842</td>\n",
       "      <td>2.000000</td>\n",
       "      <td>1.754883</td>\n",
       "      <td>2.000000</td>\n",
       "      <td>2.000000</td>\n",
       "      <td>2.000000</td>\n",
       "      <td>3</td>\n",
       "      <td>1</td>\n",
       "      <td>35.671015</td>\n",
       "      <td>-96.662334</td>\n",
       "      <td>False</td>\n",
       "      <td>False</td>\n",
       "    </tr>\n",
       "    <tr>\n",
       "      <th>1</th>\n",
       "      <td>1</td>\n",
       "      <td>1</td>\n",
       "      <td>2023-01-16 17:35:24.257000+00:00</td>\n",
       "      <td>11.596138</td>\n",
       "      <td>-2.000000</td>\n",
       "      <td>-0.544107</td>\n",
       "      <td>0.913710</td>\n",
       "      <td>-0.976264</td>\n",
       "      <td>0.382378</td>\n",
       "      <td>-1.481994</td>\n",
       "      <td>-0.788455</td>\n",
       "      <td>0</td>\n",
       "      <td>1</td>\n",
       "      <td>35.671017</td>\n",
       "      <td>-96.662334</td>\n",
       "      <td>False</td>\n",
       "      <td>False</td>\n",
       "    </tr>\n",
       "    <tr>\n",
       "      <th>2</th>\n",
       "      <td>2</td>\n",
       "      <td>2</td>\n",
       "      <td>2023-01-16 17:35:24.384000+00:00</td>\n",
       "      <td>51.212139</td>\n",
       "      <td>-2.000000</td>\n",
       "      <td>-0.308310</td>\n",
       "      <td>-0.629798</td>\n",
       "      <td>-0.233850</td>\n",
       "      <td>-0.269963</td>\n",
       "      <td>0.157760</td>\n",
       "      <td>-0.727150</td>\n",
       "      <td>0</td>\n",
       "      <td>1</td>\n",
       "      <td>35.671019</td>\n",
       "      <td>-96.662334</td>\n",
       "      <td>False</td>\n",
       "      <td>False</td>\n",
       "    </tr>\n",
       "    <tr>\n",
       "      <th>3</th>\n",
       "      <td>3</td>\n",
       "      <td>3</td>\n",
       "      <td>2023-01-16 17:35:24.511000+00:00</td>\n",
       "      <td>39.000186</td>\n",
       "      <td>-0.789316</td>\n",
       "      <td>-1.122698</td>\n",
       "      <td>-0.707708</td>\n",
       "      <td>-0.530996</td>\n",
       "      <td>0.078025</td>\n",
       "      <td>-0.829679</td>\n",
       "      <td>0.202281</td>\n",
       "      <td>0</td>\n",
       "      <td>1</td>\n",
       "      <td>35.671021</td>\n",
       "      <td>-96.662334</td>\n",
       "      <td>False</td>\n",
       "      <td>False</td>\n",
       "    </tr>\n",
       "    <tr>\n",
       "      <th>4</th>\n",
       "      <td>4</td>\n",
       "      <td>4</td>\n",
       "      <td>2023-01-16 17:35:24.638000+00:00</td>\n",
       "      <td>22.034464</td>\n",
       "      <td>0.044584</td>\n",
       "      <td>-1.195729</td>\n",
       "      <td>-0.092707</td>\n",
       "      <td>-1.023929</td>\n",
       "      <td>-0.694603</td>\n",
       "      <td>-0.983712</td>\n",
       "      <td>-0.145223</td>\n",
       "      <td>0</td>\n",
       "      <td>1</td>\n",
       "      <td>35.671024</td>\n",
       "      <td>-96.662334</td>\n",
       "      <td>False</td>\n",
       "      <td>False</td>\n",
       "    </tr>\n",
       "    <tr>\n",
       "      <th>...</th>\n",
       "      <td>...</td>\n",
       "      <td>...</td>\n",
       "      <td>...</td>\n",
       "      <td>...</td>\n",
       "      <td>...</td>\n",
       "      <td>...</td>\n",
       "      <td>...</td>\n",
       "      <td>...</td>\n",
       "      <td>...</td>\n",
       "      <td>...</td>\n",
       "      <td>...</td>\n",
       "      <td>...</td>\n",
       "      <td>...</td>\n",
       "      <td>...</td>\n",
       "      <td>...</td>\n",
       "      <td>...</td>\n",
       "      <td>...</td>\n",
       "    </tr>\n",
       "    <tr>\n",
       "      <th>229</th>\n",
       "      <td>229</td>\n",
       "      <td>229</td>\n",
       "      <td>2023-01-16 17:39:37.213000+00:00</td>\n",
       "      <td>60.061274</td>\n",
       "      <td>1.487480</td>\n",
       "      <td>1.297874</td>\n",
       "      <td>-0.532700</td>\n",
       "      <td>-0.784099</td>\n",
       "      <td>0.910506</td>\n",
       "      <td>0.960998</td>\n",
       "      <td>1.057007</td>\n",
       "      <td>3</td>\n",
       "      <td>4</td>\n",
       "      <td>35.671487</td>\n",
       "      <td>-96.662337</td>\n",
       "      <td>False</td>\n",
       "      <td>True</td>\n",
       "    </tr>\n",
       "    <tr>\n",
       "      <th>230</th>\n",
       "      <td>230</td>\n",
       "      <td>230</td>\n",
       "      <td>2023-01-16 17:39:37.330000+00:00</td>\n",
       "      <td>61.202191</td>\n",
       "      <td>1.107628</td>\n",
       "      <td>1.397561</td>\n",
       "      <td>0.641673</td>\n",
       "      <td>0.030087</td>\n",
       "      <td>1.336552</td>\n",
       "      <td>0.105396</td>\n",
       "      <td>0.601427</td>\n",
       "      <td>3</td>\n",
       "      <td>4</td>\n",
       "      <td>35.671489</td>\n",
       "      <td>-96.662337</td>\n",
       "      <td>False</td>\n",
       "      <td>True</td>\n",
       "    </tr>\n",
       "    <tr>\n",
       "      <th>231</th>\n",
       "      <td>231</td>\n",
       "      <td>231</td>\n",
       "      <td>2023-01-16 17:39:37.467000+00:00</td>\n",
       "      <td>72.841157</td>\n",
       "      <td>0.863628</td>\n",
       "      <td>0.611317</td>\n",
       "      <td>2.000000</td>\n",
       "      <td>0.536560</td>\n",
       "      <td>0.864613</td>\n",
       "      <td>1.203702</td>\n",
       "      <td>0.178773</td>\n",
       "      <td>3</td>\n",
       "      <td>4</td>\n",
       "      <td>35.671491</td>\n",
       "      <td>-96.662337</td>\n",
       "      <td>False</td>\n",
       "      <td>True</td>\n",
       "    </tr>\n",
       "    <tr>\n",
       "      <th>232</th>\n",
       "      <td>232</td>\n",
       "      <td>232</td>\n",
       "      <td>2023-01-16 17:39:37.594000+00:00</td>\n",
       "      <td>47.461301</td>\n",
       "      <td>1.050667</td>\n",
       "      <td>-0.007594</td>\n",
       "      <td>1.268494</td>\n",
       "      <td>-0.579839</td>\n",
       "      <td>-0.020636</td>\n",
       "      <td>1.502925</td>\n",
       "      <td>-0.421109</td>\n",
       "      <td>4</td>\n",
       "      <td>4</td>\n",
       "      <td>35.671493</td>\n",
       "      <td>-96.662337</td>\n",
       "      <td>False</td>\n",
       "      <td>True</td>\n",
       "    </tr>\n",
       "    <tr>\n",
       "      <th>233</th>\n",
       "      <td>233</td>\n",
       "      <td>233</td>\n",
       "      <td>2023-01-16 17:39:37.721000+00:00</td>\n",
       "      <td>40.243643</td>\n",
       "      <td>1.344660</td>\n",
       "      <td>-0.291694</td>\n",
       "      <td>1.744152</td>\n",
       "      <td>-0.348850</td>\n",
       "      <td>0.035410</td>\n",
       "      <td>0.568369</td>\n",
       "      <td>-0.102121</td>\n",
       "      <td>4</td>\n",
       "      <td>4</td>\n",
       "      <td>35.671495</td>\n",
       "      <td>-96.662337</td>\n",
       "      <td>False</td>\n",
       "      <td>True</td>\n",
       "    </tr>\n",
       "  </tbody>\n",
       "</table>\n",
       "<p>833 rows × 17 columns</p>\n",
       "</div>"
      ],
      "text/plain": [
       "     Unnamed: 0  Unnamed: 0.1                         timestamp  total_power  \\\n",
       "0             0             0  2023-01-16 17:35:24.120000+00:00   100.000000   \n",
       "1             1             1  2023-01-16 17:35:24.257000+00:00    11.596138   \n",
       "2             2             2  2023-01-16 17:35:24.384000+00:00    51.212139   \n",
       "3             3             3  2023-01-16 17:35:24.511000+00:00    39.000186   \n",
       "4             4             4  2023-01-16 17:35:24.638000+00:00    22.034464   \n",
       "..          ...           ...                               ...          ...   \n",
       "229         229           229  2023-01-16 17:39:37.213000+00:00    60.061274   \n",
       "230         230           230  2023-01-16 17:39:37.330000+00:00    61.202191   \n",
       "231         231           231  2023-01-16 17:39:37.467000+00:00    72.841157   \n",
       "232         232           232  2023-01-16 17:39:37.594000+00:00    47.461301   \n",
       "233         233           233  2023-01-16 17:39:37.721000+00:00    40.243643   \n",
       "\n",
       "           p0        p1        p2        p3        p4        p5        p6  \\\n",
       "0   -2.000000  0.375842  2.000000  1.754883  2.000000  2.000000  2.000000   \n",
       "1   -2.000000 -0.544107  0.913710 -0.976264  0.382378 -1.481994 -0.788455   \n",
       "2   -2.000000 -0.308310 -0.629798 -0.233850 -0.269963  0.157760 -0.727150   \n",
       "3   -0.789316 -1.122698 -0.707708 -0.530996  0.078025 -0.829679  0.202281   \n",
       "4    0.044584 -1.195729 -0.092707 -1.023929 -0.694603 -0.983712 -0.145223   \n",
       "..        ...       ...       ...       ...       ...       ...       ...   \n",
       "229  1.487480  1.297874 -0.532700 -0.784099  0.910506  0.960998  1.057007   \n",
       "230  1.107628  1.397561  0.641673  0.030087  1.336552  0.105396  0.601427   \n",
       "231  0.863628  0.611317  2.000000  0.536560  0.864613  1.203702  0.178773   \n",
       "232  1.050667 -0.007594  1.268494 -0.579839 -0.020636  1.502925 -0.421109   \n",
       "233  1.344660 -0.291694  1.744152 -0.348850  0.035410  0.568369 -0.102121   \n",
       "\n",
       "     cluster  pass_no   latitude  longitude  first   last  \n",
       "0          3        1  35.671015 -96.662334  False  False  \n",
       "1          0        1  35.671017 -96.662334  False  False  \n",
       "2          0        1  35.671019 -96.662334  False  False  \n",
       "3          0        1  35.671021 -96.662334  False  False  \n",
       "4          0        1  35.671024 -96.662334  False  False  \n",
       "..       ...      ...        ...        ...    ...    ...  \n",
       "229        3        4  35.671487 -96.662337  False   True  \n",
       "230        3        4  35.671489 -96.662337  False   True  \n",
       "231        3        4  35.671491 -96.662337  False   True  \n",
       "232        4        4  35.671493 -96.662337  False   True  \n",
       "233        4        4  35.671495 -96.662337  False   True  \n",
       "\n",
       "[833 rows x 17 columns]"
      ]
     },
     "execution_count": 11,
     "metadata": {},
     "output_type": "execute_result"
    }
   ],
   "source": [
    "to_plot=full_data[full_data[\"pass_no\"]!=0]\n",
    "to_plot"
   ]
  },
  {
   "cell_type": "code",
   "execution_count": 12,
   "id": "01d24c69",
   "metadata": {},
   "outputs": [
    {
     "data": {
      "application/vnd.plotly.v1+json": {
       "config": {
        "plotlyServerURL": "https://plot.ly"
       },
       "data": [
        {
         "alignmentgroup": "True",
         "bingroup": "x",
         "histnorm": "percent",
         "hovertemplate": "pass_no=%{x}<br>percent=%{y}<extra></extra>",
         "legendgroup": "",
         "marker": {
          "color": "#636efa",
          "pattern": {
           "shape": ""
          }
         },
         "name": "",
         "nbinsx": 5,
         "offsetgroup": "",
         "orientation": "v",
         "showlegend": false,
         "type": "histogram",
         "x": [
          1,
          1,
          1,
          1,
          1,
          1,
          1,
          1,
          1,
          1,
          1,
          1,
          1,
          1,
          1,
          1,
          1,
          1,
          1,
          1,
          1,
          1,
          1,
          1,
          1,
          1,
          1,
          1,
          1,
          1,
          1,
          1,
          1,
          1,
          1,
          1,
          1,
          1,
          1,
          1,
          1,
          1,
          1,
          1,
          1,
          1,
          1,
          1,
          1,
          1,
          1,
          1,
          1,
          1,
          1,
          1,
          1,
          1,
          1,
          1,
          1,
          1,
          1,
          1,
          1,
          1,
          1,
          1,
          1,
          1,
          1,
          1,
          1,
          1,
          1,
          1,
          1,
          1,
          1,
          1,
          1,
          1,
          1,
          1,
          1,
          1,
          1,
          1,
          1,
          1,
          1,
          1,
          1,
          1,
          1,
          1,
          1,
          1,
          1,
          1,
          1,
          1,
          1,
          1,
          1,
          1,
          1,
          1,
          1,
          1,
          1,
          1,
          1,
          1,
          1,
          1,
          1,
          1,
          1,
          1,
          1,
          1,
          1,
          1,
          1,
          1,
          1,
          1,
          1,
          1,
          1,
          1,
          1,
          1,
          1,
          1,
          1,
          1,
          1,
          1,
          1,
          1,
          1,
          1,
          1,
          1,
          1,
          1,
          1,
          1,
          1,
          1,
          1,
          1,
          1,
          1,
          1,
          1,
          1,
          1,
          1,
          1,
          1,
          1,
          1,
          1,
          1,
          1,
          1,
          1,
          1,
          1,
          2,
          2,
          2,
          2,
          2,
          2,
          2,
          2,
          2,
          2,
          2,
          2,
          2,
          2,
          2,
          2,
          2,
          2,
          2,
          2,
          2,
          2,
          2,
          2,
          2,
          2,
          2,
          2,
          2,
          2,
          2,
          2,
          2,
          2,
          2,
          2,
          2,
          2,
          2,
          2,
          2,
          2,
          2,
          2,
          2,
          2,
          2,
          2,
          2,
          2,
          2,
          2,
          2,
          2,
          3,
          3,
          3,
          3,
          3,
          3,
          3,
          3,
          3,
          3,
          3,
          3,
          3,
          3,
          3,
          3,
          3,
          3,
          3,
          3,
          3,
          3,
          3,
          3,
          3,
          3,
          3,
          3,
          3,
          3,
          3,
          3,
          3,
          3,
          3,
          3,
          3,
          3,
          3,
          3,
          3,
          3,
          3,
          3,
          3,
          3,
          3,
          3,
          3,
          3,
          3,
          3,
          3,
          3,
          3,
          3,
          3,
          3,
          3,
          3,
          3,
          3,
          3,
          3,
          3,
          3,
          3,
          3,
          3,
          3,
          3,
          3,
          3,
          3,
          3,
          3,
          3,
          3,
          3,
          3,
          3,
          3,
          3,
          3,
          3,
          3,
          3,
          3,
          3,
          3,
          3,
          3,
          3,
          3,
          3,
          3,
          3,
          3,
          3,
          3,
          3,
          3,
          3,
          3,
          3,
          3,
          3,
          3,
          3,
          3,
          3,
          3,
          3,
          3,
          3,
          3,
          3,
          3,
          3,
          3,
          3,
          3,
          3,
          4,
          4,
          4,
          4,
          4,
          4,
          4,
          4,
          4,
          4,
          4,
          4,
          4,
          4,
          4,
          4,
          4,
          4,
          4,
          4,
          4,
          4,
          4,
          4,
          4,
          4,
          4,
          4,
          4,
          4,
          4,
          4,
          4,
          4,
          4,
          4,
          4,
          4
         ],
         "xaxis": "x",
         "yaxis": "y"
        }
       ],
       "layout": {
        "barmode": "relative",
        "height": 300,
        "legend": {
         "tracegroupgap": 0
        },
        "template": {
         "data": {
          "bar": [
           {
            "error_x": {
             "color": "#2a3f5f"
            },
            "error_y": {
             "color": "#2a3f5f"
            },
            "marker": {
             "line": {
              "color": "#E5ECF6",
              "width": 0.5
             },
             "pattern": {
              "fillmode": "overlay",
              "size": 10,
              "solidity": 0.2
             }
            },
            "type": "bar"
           }
          ],
          "barpolar": [
           {
            "marker": {
             "line": {
              "color": "#E5ECF6",
              "width": 0.5
             },
             "pattern": {
              "fillmode": "overlay",
              "size": 10,
              "solidity": 0.2
             }
            },
            "type": "barpolar"
           }
          ],
          "carpet": [
           {
            "aaxis": {
             "endlinecolor": "#2a3f5f",
             "gridcolor": "white",
             "linecolor": "white",
             "minorgridcolor": "white",
             "startlinecolor": "#2a3f5f"
            },
            "baxis": {
             "endlinecolor": "#2a3f5f",
             "gridcolor": "white",
             "linecolor": "white",
             "minorgridcolor": "white",
             "startlinecolor": "#2a3f5f"
            },
            "type": "carpet"
           }
          ],
          "choropleth": [
           {
            "colorbar": {
             "outlinewidth": 0,
             "ticks": ""
            },
            "type": "choropleth"
           }
          ],
          "contour": [
           {
            "colorbar": {
             "outlinewidth": 0,
             "ticks": ""
            },
            "colorscale": [
             [
              0,
              "#0d0887"
             ],
             [
              0.1111111111111111,
              "#46039f"
             ],
             [
              0.2222222222222222,
              "#7201a8"
             ],
             [
              0.3333333333333333,
              "#9c179e"
             ],
             [
              0.4444444444444444,
              "#bd3786"
             ],
             [
              0.5555555555555556,
              "#d8576b"
             ],
             [
              0.6666666666666666,
              "#ed7953"
             ],
             [
              0.7777777777777778,
              "#fb9f3a"
             ],
             [
              0.8888888888888888,
              "#fdca26"
             ],
             [
              1,
              "#f0f921"
             ]
            ],
            "type": "contour"
           }
          ],
          "contourcarpet": [
           {
            "colorbar": {
             "outlinewidth": 0,
             "ticks": ""
            },
            "type": "contourcarpet"
           }
          ],
          "heatmap": [
           {
            "colorbar": {
             "outlinewidth": 0,
             "ticks": ""
            },
            "colorscale": [
             [
              0,
              "#0d0887"
             ],
             [
              0.1111111111111111,
              "#46039f"
             ],
             [
              0.2222222222222222,
              "#7201a8"
             ],
             [
              0.3333333333333333,
              "#9c179e"
             ],
             [
              0.4444444444444444,
              "#bd3786"
             ],
             [
              0.5555555555555556,
              "#d8576b"
             ],
             [
              0.6666666666666666,
              "#ed7953"
             ],
             [
              0.7777777777777778,
              "#fb9f3a"
             ],
             [
              0.8888888888888888,
              "#fdca26"
             ],
             [
              1,
              "#f0f921"
             ]
            ],
            "type": "heatmap"
           }
          ],
          "heatmapgl": [
           {
            "colorbar": {
             "outlinewidth": 0,
             "ticks": ""
            },
            "colorscale": [
             [
              0,
              "#0d0887"
             ],
             [
              0.1111111111111111,
              "#46039f"
             ],
             [
              0.2222222222222222,
              "#7201a8"
             ],
             [
              0.3333333333333333,
              "#9c179e"
             ],
             [
              0.4444444444444444,
              "#bd3786"
             ],
             [
              0.5555555555555556,
              "#d8576b"
             ],
             [
              0.6666666666666666,
              "#ed7953"
             ],
             [
              0.7777777777777778,
              "#fb9f3a"
             ],
             [
              0.8888888888888888,
              "#fdca26"
             ],
             [
              1,
              "#f0f921"
             ]
            ],
            "type": "heatmapgl"
           }
          ],
          "histogram": [
           {
            "marker": {
             "pattern": {
              "fillmode": "overlay",
              "size": 10,
              "solidity": 0.2
             }
            },
            "type": "histogram"
           }
          ],
          "histogram2d": [
           {
            "colorbar": {
             "outlinewidth": 0,
             "ticks": ""
            },
            "colorscale": [
             [
              0,
              "#0d0887"
             ],
             [
              0.1111111111111111,
              "#46039f"
             ],
             [
              0.2222222222222222,
              "#7201a8"
             ],
             [
              0.3333333333333333,
              "#9c179e"
             ],
             [
              0.4444444444444444,
              "#bd3786"
             ],
             [
              0.5555555555555556,
              "#d8576b"
             ],
             [
              0.6666666666666666,
              "#ed7953"
             ],
             [
              0.7777777777777778,
              "#fb9f3a"
             ],
             [
              0.8888888888888888,
              "#fdca26"
             ],
             [
              1,
              "#f0f921"
             ]
            ],
            "type": "histogram2d"
           }
          ],
          "histogram2dcontour": [
           {
            "colorbar": {
             "outlinewidth": 0,
             "ticks": ""
            },
            "colorscale": [
             [
              0,
              "#0d0887"
             ],
             [
              0.1111111111111111,
              "#46039f"
             ],
             [
              0.2222222222222222,
              "#7201a8"
             ],
             [
              0.3333333333333333,
              "#9c179e"
             ],
             [
              0.4444444444444444,
              "#bd3786"
             ],
             [
              0.5555555555555556,
              "#d8576b"
             ],
             [
              0.6666666666666666,
              "#ed7953"
             ],
             [
              0.7777777777777778,
              "#fb9f3a"
             ],
             [
              0.8888888888888888,
              "#fdca26"
             ],
             [
              1,
              "#f0f921"
             ]
            ],
            "type": "histogram2dcontour"
           }
          ],
          "mesh3d": [
           {
            "colorbar": {
             "outlinewidth": 0,
             "ticks": ""
            },
            "type": "mesh3d"
           }
          ],
          "parcoords": [
           {
            "line": {
             "colorbar": {
              "outlinewidth": 0,
              "ticks": ""
             }
            },
            "type": "parcoords"
           }
          ],
          "pie": [
           {
            "automargin": true,
            "type": "pie"
           }
          ],
          "scatter": [
           {
            "fillpattern": {
             "fillmode": "overlay",
             "size": 10,
             "solidity": 0.2
            },
            "type": "scatter"
           }
          ],
          "scatter3d": [
           {
            "line": {
             "colorbar": {
              "outlinewidth": 0,
              "ticks": ""
             }
            },
            "marker": {
             "colorbar": {
              "outlinewidth": 0,
              "ticks": ""
             }
            },
            "type": "scatter3d"
           }
          ],
          "scattercarpet": [
           {
            "marker": {
             "colorbar": {
              "outlinewidth": 0,
              "ticks": ""
             }
            },
            "type": "scattercarpet"
           }
          ],
          "scattergeo": [
           {
            "marker": {
             "colorbar": {
              "outlinewidth": 0,
              "ticks": ""
             }
            },
            "type": "scattergeo"
           }
          ],
          "scattergl": [
           {
            "marker": {
             "colorbar": {
              "outlinewidth": 0,
              "ticks": ""
             }
            },
            "type": "scattergl"
           }
          ],
          "scattermapbox": [
           {
            "marker": {
             "colorbar": {
              "outlinewidth": 0,
              "ticks": ""
             }
            },
            "type": "scattermapbox"
           }
          ],
          "scatterpolar": [
           {
            "marker": {
             "colorbar": {
              "outlinewidth": 0,
              "ticks": ""
             }
            },
            "type": "scatterpolar"
           }
          ],
          "scatterpolargl": [
           {
            "marker": {
             "colorbar": {
              "outlinewidth": 0,
              "ticks": ""
             }
            },
            "type": "scatterpolargl"
           }
          ],
          "scatterternary": [
           {
            "marker": {
             "colorbar": {
              "outlinewidth": 0,
              "ticks": ""
             }
            },
            "type": "scatterternary"
           }
          ],
          "surface": [
           {
            "colorbar": {
             "outlinewidth": 0,
             "ticks": ""
            },
            "colorscale": [
             [
              0,
              "#0d0887"
             ],
             [
              0.1111111111111111,
              "#46039f"
             ],
             [
              0.2222222222222222,
              "#7201a8"
             ],
             [
              0.3333333333333333,
              "#9c179e"
             ],
             [
              0.4444444444444444,
              "#bd3786"
             ],
             [
              0.5555555555555556,
              "#d8576b"
             ],
             [
              0.6666666666666666,
              "#ed7953"
             ],
             [
              0.7777777777777778,
              "#fb9f3a"
             ],
             [
              0.8888888888888888,
              "#fdca26"
             ],
             [
              1,
              "#f0f921"
             ]
            ],
            "type": "surface"
           }
          ],
          "table": [
           {
            "cells": {
             "fill": {
              "color": "#EBF0F8"
             },
             "line": {
              "color": "white"
             }
            },
            "header": {
             "fill": {
              "color": "#C8D4E3"
             },
             "line": {
              "color": "white"
             }
            },
            "type": "table"
           }
          ]
         },
         "layout": {
          "annotationdefaults": {
           "arrowcolor": "#2a3f5f",
           "arrowhead": 0,
           "arrowwidth": 1
          },
          "autotypenumbers": "strict",
          "coloraxis": {
           "colorbar": {
            "outlinewidth": 0,
            "ticks": ""
           }
          },
          "colorscale": {
           "diverging": [
            [
             0,
             "#8e0152"
            ],
            [
             0.1,
             "#c51b7d"
            ],
            [
             0.2,
             "#de77ae"
            ],
            [
             0.3,
             "#f1b6da"
            ],
            [
             0.4,
             "#fde0ef"
            ],
            [
             0.5,
             "#f7f7f7"
            ],
            [
             0.6,
             "#e6f5d0"
            ],
            [
             0.7,
             "#b8e186"
            ],
            [
             0.8,
             "#7fbc41"
            ],
            [
             0.9,
             "#4d9221"
            ],
            [
             1,
             "#276419"
            ]
           ],
           "sequential": [
            [
             0,
             "#0d0887"
            ],
            [
             0.1111111111111111,
             "#46039f"
            ],
            [
             0.2222222222222222,
             "#7201a8"
            ],
            [
             0.3333333333333333,
             "#9c179e"
            ],
            [
             0.4444444444444444,
             "#bd3786"
            ],
            [
             0.5555555555555556,
             "#d8576b"
            ],
            [
             0.6666666666666666,
             "#ed7953"
            ],
            [
             0.7777777777777778,
             "#fb9f3a"
            ],
            [
             0.8888888888888888,
             "#fdca26"
            ],
            [
             1,
             "#f0f921"
            ]
           ],
           "sequentialminus": [
            [
             0,
             "#0d0887"
            ],
            [
             0.1111111111111111,
             "#46039f"
            ],
            [
             0.2222222222222222,
             "#7201a8"
            ],
            [
             0.3333333333333333,
             "#9c179e"
            ],
            [
             0.4444444444444444,
             "#bd3786"
            ],
            [
             0.5555555555555556,
             "#d8576b"
            ],
            [
             0.6666666666666666,
             "#ed7953"
            ],
            [
             0.7777777777777778,
             "#fb9f3a"
            ],
            [
             0.8888888888888888,
             "#fdca26"
            ],
            [
             1,
             "#f0f921"
            ]
           ]
          },
          "colorway": [
           "#636efa",
           "#EF553B",
           "#00cc96",
           "#ab63fa",
           "#FFA15A",
           "#19d3f3",
           "#FF6692",
           "#B6E880",
           "#FF97FF",
           "#FECB52"
          ],
          "font": {
           "color": "#2a3f5f"
          },
          "geo": {
           "bgcolor": "white",
           "lakecolor": "white",
           "landcolor": "#E5ECF6",
           "showlakes": true,
           "showland": true,
           "subunitcolor": "white"
          },
          "hoverlabel": {
           "align": "left"
          },
          "hovermode": "closest",
          "mapbox": {
           "style": "light"
          },
          "paper_bgcolor": "white",
          "plot_bgcolor": "#E5ECF6",
          "polar": {
           "angularaxis": {
            "gridcolor": "white",
            "linecolor": "white",
            "ticks": ""
           },
           "bgcolor": "#E5ECF6",
           "radialaxis": {
            "gridcolor": "white",
            "linecolor": "white",
            "ticks": ""
           }
          },
          "scene": {
           "xaxis": {
            "backgroundcolor": "#E5ECF6",
            "gridcolor": "white",
            "gridwidth": 2,
            "linecolor": "white",
            "showbackground": true,
            "ticks": "",
            "zerolinecolor": "white"
           },
           "yaxis": {
            "backgroundcolor": "#E5ECF6",
            "gridcolor": "white",
            "gridwidth": 2,
            "linecolor": "white",
            "showbackground": true,
            "ticks": "",
            "zerolinecolor": "white"
           },
           "zaxis": {
            "backgroundcolor": "#E5ECF6",
            "gridcolor": "white",
            "gridwidth": 2,
            "linecolor": "white",
            "showbackground": true,
            "ticks": "",
            "zerolinecolor": "white"
           }
          },
          "shapedefaults": {
           "line": {
            "color": "#2a3f5f"
           }
          },
          "ternary": {
           "aaxis": {
            "gridcolor": "white",
            "linecolor": "white",
            "ticks": ""
           },
           "baxis": {
            "gridcolor": "white",
            "linecolor": "white",
            "ticks": ""
           },
           "bgcolor": "#E5ECF6",
           "caxis": {
            "gridcolor": "white",
            "linecolor": "white",
            "ticks": ""
           }
          },
          "title": {
           "x": 0.05
          },
          "xaxis": {
           "automargin": true,
           "gridcolor": "white",
           "linecolor": "white",
           "ticks": "",
           "title": {
            "standoff": 15
           },
           "zerolinecolor": "white",
           "zerolinewidth": 2
          },
          "yaxis": {
           "automargin": true,
           "gridcolor": "white",
           "linecolor": "white",
           "ticks": "",
           "title": {
            "standoff": 15
           },
           "zerolinecolor": "white",
           "zerolinewidth": 2
          }
         }
        },
        "title": {
         "text": "Distribution of passes in cluster 0 using GMM in shawnee_location_2"
        },
        "width": 800,
        "xaxis": {
         "anchor": "y",
         "domain": [
          0,
          1
         ],
         "title": {
          "text": "pass_no"
         }
        },
        "yaxis": {
         "anchor": "x",
         "domain": [
          0,
          1
         ],
         "title": {
          "text": "percent"
         }
        }
       }
      },
      "text/html": [
       "<div>                            <div id=\"1a47375d-28cc-43cd-9b09-c9ac80c63854\" class=\"plotly-graph-div\" style=\"height:300px; width:800px;\"></div>            <script type=\"text/javascript\">                require([\"plotly\"], function(Plotly) {                    window.PLOTLYENV=window.PLOTLYENV || {};                                    if (document.getElementById(\"1a47375d-28cc-43cd-9b09-c9ac80c63854\")) {                    Plotly.newPlot(                        \"1a47375d-28cc-43cd-9b09-c9ac80c63854\",                        [{\"alignmentgroup\":\"True\",\"bingroup\":\"x\",\"histnorm\":\"percent\",\"hovertemplate\":\"pass_no=%{x}<br>percent=%{y}<extra></extra>\",\"legendgroup\":\"\",\"marker\":{\"color\":\"#636efa\",\"pattern\":{\"shape\":\"\"}},\"name\":\"\",\"nbinsx\":5,\"offsetgroup\":\"\",\"orientation\":\"v\",\"showlegend\":false,\"x\":[1,1,1,1,1,1,1,1,1,1,1,1,1,1,1,1,1,1,1,1,1,1,1,1,1,1,1,1,1,1,1,1,1,1,1,1,1,1,1,1,1,1,1,1,1,1,1,1,1,1,1,1,1,1,1,1,1,1,1,1,1,1,1,1,1,1,1,1,1,1,1,1,1,1,1,1,1,1,1,1,1,1,1,1,1,1,1,1,1,1,1,1,1,1,1,1,1,1,1,1,1,1,1,1,1,1,1,1,1,1,1,1,1,1,1,1,1,1,1,1,1,1,1,1,1,1,1,1,1,1,1,1,1,1,1,1,1,1,1,1,1,1,1,1,1,1,1,1,1,1,1,1,1,1,1,1,1,1,1,1,1,1,1,1,1,1,1,1,1,1,1,1,2,2,2,2,2,2,2,2,2,2,2,2,2,2,2,2,2,2,2,2,2,2,2,2,2,2,2,2,2,2,2,2,2,2,2,2,2,2,2,2,2,2,2,2,2,2,2,2,2,2,2,2,2,2,3,3,3,3,3,3,3,3,3,3,3,3,3,3,3,3,3,3,3,3,3,3,3,3,3,3,3,3,3,3,3,3,3,3,3,3,3,3,3,3,3,3,3,3,3,3,3,3,3,3,3,3,3,3,3,3,3,3,3,3,3,3,3,3,3,3,3,3,3,3,3,3,3,3,3,3,3,3,3,3,3,3,3,3,3,3,3,3,3,3,3,3,3,3,3,3,3,3,3,3,3,3,3,3,3,3,3,3,3,3,3,3,3,3,3,3,3,3,3,3,3,3,3,4,4,4,4,4,4,4,4,4,4,4,4,4,4,4,4,4,4,4,4,4,4,4,4,4,4,4,4,4,4,4,4,4,4,4,4,4,4],\"xaxis\":\"x\",\"yaxis\":\"y\",\"type\":\"histogram\"}],                        {\"template\":{\"data\":{\"histogram2dcontour\":[{\"type\":\"histogram2dcontour\",\"colorbar\":{\"outlinewidth\":0,\"ticks\":\"\"},\"colorscale\":[[0.0,\"#0d0887\"],[0.1111111111111111,\"#46039f\"],[0.2222222222222222,\"#7201a8\"],[0.3333333333333333,\"#9c179e\"],[0.4444444444444444,\"#bd3786\"],[0.5555555555555556,\"#d8576b\"],[0.6666666666666666,\"#ed7953\"],[0.7777777777777778,\"#fb9f3a\"],[0.8888888888888888,\"#fdca26\"],[1.0,\"#f0f921\"]]}],\"choropleth\":[{\"type\":\"choropleth\",\"colorbar\":{\"outlinewidth\":0,\"ticks\":\"\"}}],\"histogram2d\":[{\"type\":\"histogram2d\",\"colorbar\":{\"outlinewidth\":0,\"ticks\":\"\"},\"colorscale\":[[0.0,\"#0d0887\"],[0.1111111111111111,\"#46039f\"],[0.2222222222222222,\"#7201a8\"],[0.3333333333333333,\"#9c179e\"],[0.4444444444444444,\"#bd3786\"],[0.5555555555555556,\"#d8576b\"],[0.6666666666666666,\"#ed7953\"],[0.7777777777777778,\"#fb9f3a\"],[0.8888888888888888,\"#fdca26\"],[1.0,\"#f0f921\"]]}],\"heatmap\":[{\"type\":\"heatmap\",\"colorbar\":{\"outlinewidth\":0,\"ticks\":\"\"},\"colorscale\":[[0.0,\"#0d0887\"],[0.1111111111111111,\"#46039f\"],[0.2222222222222222,\"#7201a8\"],[0.3333333333333333,\"#9c179e\"],[0.4444444444444444,\"#bd3786\"],[0.5555555555555556,\"#d8576b\"],[0.6666666666666666,\"#ed7953\"],[0.7777777777777778,\"#fb9f3a\"],[0.8888888888888888,\"#fdca26\"],[1.0,\"#f0f921\"]]}],\"heatmapgl\":[{\"type\":\"heatmapgl\",\"colorbar\":{\"outlinewidth\":0,\"ticks\":\"\"},\"colorscale\":[[0.0,\"#0d0887\"],[0.1111111111111111,\"#46039f\"],[0.2222222222222222,\"#7201a8\"],[0.3333333333333333,\"#9c179e\"],[0.4444444444444444,\"#bd3786\"],[0.5555555555555556,\"#d8576b\"],[0.6666666666666666,\"#ed7953\"],[0.7777777777777778,\"#fb9f3a\"],[0.8888888888888888,\"#fdca26\"],[1.0,\"#f0f921\"]]}],\"contourcarpet\":[{\"type\":\"contourcarpet\",\"colorbar\":{\"outlinewidth\":0,\"ticks\":\"\"}}],\"contour\":[{\"type\":\"contour\",\"colorbar\":{\"outlinewidth\":0,\"ticks\":\"\"},\"colorscale\":[[0.0,\"#0d0887\"],[0.1111111111111111,\"#46039f\"],[0.2222222222222222,\"#7201a8\"],[0.3333333333333333,\"#9c179e\"],[0.4444444444444444,\"#bd3786\"],[0.5555555555555556,\"#d8576b\"],[0.6666666666666666,\"#ed7953\"],[0.7777777777777778,\"#fb9f3a\"],[0.8888888888888888,\"#fdca26\"],[1.0,\"#f0f921\"]]}],\"surface\":[{\"type\":\"surface\",\"colorbar\":{\"outlinewidth\":0,\"ticks\":\"\"},\"colorscale\":[[0.0,\"#0d0887\"],[0.1111111111111111,\"#46039f\"],[0.2222222222222222,\"#7201a8\"],[0.3333333333333333,\"#9c179e\"],[0.4444444444444444,\"#bd3786\"],[0.5555555555555556,\"#d8576b\"],[0.6666666666666666,\"#ed7953\"],[0.7777777777777778,\"#fb9f3a\"],[0.8888888888888888,\"#fdca26\"],[1.0,\"#f0f921\"]]}],\"mesh3d\":[{\"type\":\"mesh3d\",\"colorbar\":{\"outlinewidth\":0,\"ticks\":\"\"}}],\"scatter\":[{\"fillpattern\":{\"fillmode\":\"overlay\",\"size\":10,\"solidity\":0.2},\"type\":\"scatter\"}],\"parcoords\":[{\"type\":\"parcoords\",\"line\":{\"colorbar\":{\"outlinewidth\":0,\"ticks\":\"\"}}}],\"scatterpolargl\":[{\"type\":\"scatterpolargl\",\"marker\":{\"colorbar\":{\"outlinewidth\":0,\"ticks\":\"\"}}}],\"bar\":[{\"error_x\":{\"color\":\"#2a3f5f\"},\"error_y\":{\"color\":\"#2a3f5f\"},\"marker\":{\"line\":{\"color\":\"#E5ECF6\",\"width\":0.5},\"pattern\":{\"fillmode\":\"overlay\",\"size\":10,\"solidity\":0.2}},\"type\":\"bar\"}],\"scattergeo\":[{\"type\":\"scattergeo\",\"marker\":{\"colorbar\":{\"outlinewidth\":0,\"ticks\":\"\"}}}],\"scatterpolar\":[{\"type\":\"scatterpolar\",\"marker\":{\"colorbar\":{\"outlinewidth\":0,\"ticks\":\"\"}}}],\"histogram\":[{\"marker\":{\"pattern\":{\"fillmode\":\"overlay\",\"size\":10,\"solidity\":0.2}},\"type\":\"histogram\"}],\"scattergl\":[{\"type\":\"scattergl\",\"marker\":{\"colorbar\":{\"outlinewidth\":0,\"ticks\":\"\"}}}],\"scatter3d\":[{\"type\":\"scatter3d\",\"line\":{\"colorbar\":{\"outlinewidth\":0,\"ticks\":\"\"}},\"marker\":{\"colorbar\":{\"outlinewidth\":0,\"ticks\":\"\"}}}],\"scattermapbox\":[{\"type\":\"scattermapbox\",\"marker\":{\"colorbar\":{\"outlinewidth\":0,\"ticks\":\"\"}}}],\"scatterternary\":[{\"type\":\"scatterternary\",\"marker\":{\"colorbar\":{\"outlinewidth\":0,\"ticks\":\"\"}}}],\"scattercarpet\":[{\"type\":\"scattercarpet\",\"marker\":{\"colorbar\":{\"outlinewidth\":0,\"ticks\":\"\"}}}],\"carpet\":[{\"aaxis\":{\"endlinecolor\":\"#2a3f5f\",\"gridcolor\":\"white\",\"linecolor\":\"white\",\"minorgridcolor\":\"white\",\"startlinecolor\":\"#2a3f5f\"},\"baxis\":{\"endlinecolor\":\"#2a3f5f\",\"gridcolor\":\"white\",\"linecolor\":\"white\",\"minorgridcolor\":\"white\",\"startlinecolor\":\"#2a3f5f\"},\"type\":\"carpet\"}],\"table\":[{\"cells\":{\"fill\":{\"color\":\"#EBF0F8\"},\"line\":{\"color\":\"white\"}},\"header\":{\"fill\":{\"color\":\"#C8D4E3\"},\"line\":{\"color\":\"white\"}},\"type\":\"table\"}],\"barpolar\":[{\"marker\":{\"line\":{\"color\":\"#E5ECF6\",\"width\":0.5},\"pattern\":{\"fillmode\":\"overlay\",\"size\":10,\"solidity\":0.2}},\"type\":\"barpolar\"}],\"pie\":[{\"automargin\":true,\"type\":\"pie\"}]},\"layout\":{\"autotypenumbers\":\"strict\",\"colorway\":[\"#636efa\",\"#EF553B\",\"#00cc96\",\"#ab63fa\",\"#FFA15A\",\"#19d3f3\",\"#FF6692\",\"#B6E880\",\"#FF97FF\",\"#FECB52\"],\"font\":{\"color\":\"#2a3f5f\"},\"hovermode\":\"closest\",\"hoverlabel\":{\"align\":\"left\"},\"paper_bgcolor\":\"white\",\"plot_bgcolor\":\"#E5ECF6\",\"polar\":{\"bgcolor\":\"#E5ECF6\",\"angularaxis\":{\"gridcolor\":\"white\",\"linecolor\":\"white\",\"ticks\":\"\"},\"radialaxis\":{\"gridcolor\":\"white\",\"linecolor\":\"white\",\"ticks\":\"\"}},\"ternary\":{\"bgcolor\":\"#E5ECF6\",\"aaxis\":{\"gridcolor\":\"white\",\"linecolor\":\"white\",\"ticks\":\"\"},\"baxis\":{\"gridcolor\":\"white\",\"linecolor\":\"white\",\"ticks\":\"\"},\"caxis\":{\"gridcolor\":\"white\",\"linecolor\":\"white\",\"ticks\":\"\"}},\"coloraxis\":{\"colorbar\":{\"outlinewidth\":0,\"ticks\":\"\"}},\"colorscale\":{\"sequential\":[[0.0,\"#0d0887\"],[0.1111111111111111,\"#46039f\"],[0.2222222222222222,\"#7201a8\"],[0.3333333333333333,\"#9c179e\"],[0.4444444444444444,\"#bd3786\"],[0.5555555555555556,\"#d8576b\"],[0.6666666666666666,\"#ed7953\"],[0.7777777777777778,\"#fb9f3a\"],[0.8888888888888888,\"#fdca26\"],[1.0,\"#f0f921\"]],\"sequentialminus\":[[0.0,\"#0d0887\"],[0.1111111111111111,\"#46039f\"],[0.2222222222222222,\"#7201a8\"],[0.3333333333333333,\"#9c179e\"],[0.4444444444444444,\"#bd3786\"],[0.5555555555555556,\"#d8576b\"],[0.6666666666666666,\"#ed7953\"],[0.7777777777777778,\"#fb9f3a\"],[0.8888888888888888,\"#fdca26\"],[1.0,\"#f0f921\"]],\"diverging\":[[0,\"#8e0152\"],[0.1,\"#c51b7d\"],[0.2,\"#de77ae\"],[0.3,\"#f1b6da\"],[0.4,\"#fde0ef\"],[0.5,\"#f7f7f7\"],[0.6,\"#e6f5d0\"],[0.7,\"#b8e186\"],[0.8,\"#7fbc41\"],[0.9,\"#4d9221\"],[1,\"#276419\"]]},\"xaxis\":{\"gridcolor\":\"white\",\"linecolor\":\"white\",\"ticks\":\"\",\"title\":{\"standoff\":15},\"zerolinecolor\":\"white\",\"automargin\":true,\"zerolinewidth\":2},\"yaxis\":{\"gridcolor\":\"white\",\"linecolor\":\"white\",\"ticks\":\"\",\"title\":{\"standoff\":15},\"zerolinecolor\":\"white\",\"automargin\":true,\"zerolinewidth\":2},\"scene\":{\"xaxis\":{\"backgroundcolor\":\"#E5ECF6\",\"gridcolor\":\"white\",\"linecolor\":\"white\",\"showbackground\":true,\"ticks\":\"\",\"zerolinecolor\":\"white\",\"gridwidth\":2},\"yaxis\":{\"backgroundcolor\":\"#E5ECF6\",\"gridcolor\":\"white\",\"linecolor\":\"white\",\"showbackground\":true,\"ticks\":\"\",\"zerolinecolor\":\"white\",\"gridwidth\":2},\"zaxis\":{\"backgroundcolor\":\"#E5ECF6\",\"gridcolor\":\"white\",\"linecolor\":\"white\",\"showbackground\":true,\"ticks\":\"\",\"zerolinecolor\":\"white\",\"gridwidth\":2}},\"shapedefaults\":{\"line\":{\"color\":\"#2a3f5f\"}},\"annotationdefaults\":{\"arrowcolor\":\"#2a3f5f\",\"arrowhead\":0,\"arrowwidth\":1},\"geo\":{\"bgcolor\":\"white\",\"landcolor\":\"#E5ECF6\",\"subunitcolor\":\"white\",\"showland\":true,\"showlakes\":true,\"lakecolor\":\"white\"},\"title\":{\"x\":0.05},\"mapbox\":{\"style\":\"light\"}}},\"xaxis\":{\"anchor\":\"y\",\"domain\":[0.0,1.0],\"title\":{\"text\":\"pass_no\"}},\"yaxis\":{\"anchor\":\"x\",\"domain\":[0.0,1.0],\"title\":{\"text\":\"percent\"}},\"legend\":{\"tracegroupgap\":0},\"title\":{\"text\":\"Distribution of passes in cluster 0 using GMM in shawnee_location_2\"},\"barmode\":\"relative\",\"height\":300,\"width\":800},                        {\"responsive\": true}                    ).then(function(){\n",
       "                            \n",
       "var gd = document.getElementById('1a47375d-28cc-43cd-9b09-c9ac80c63854');\n",
       "var x = new MutationObserver(function (mutations, observer) {{\n",
       "        var display = window.getComputedStyle(gd).display;\n",
       "        if (!display || display === 'none') {{\n",
       "            console.log([gd, 'removed!']);\n",
       "            Plotly.purge(gd);\n",
       "            observer.disconnect();\n",
       "        }}\n",
       "}});\n",
       "\n",
       "// Listen for the removal of the full notebook cells\n",
       "var notebookContainer = gd.closest('#notebook-container');\n",
       "if (notebookContainer) {{\n",
       "    x.observe(notebookContainer, {childList: true});\n",
       "}}\n",
       "\n",
       "// Listen for the clearing of the current output cell\n",
       "var outputEl = gd.closest('.output');\n",
       "if (outputEl) {{\n",
       "    x.observe(outputEl, {childList: true});\n",
       "}}\n",
       "\n",
       "                        })                };                });            </script>        </div>"
      ]
     },
     "metadata": {},
     "output_type": "display_data"
    },
    {
     "data": {
      "application/vnd.plotly.v1+json": {
       "config": {
        "plotlyServerURL": "https://plot.ly"
       },
       "data": [
        {
         "alignmentgroup": "True",
         "bingroup": "x",
         "histnorm": "percent",
         "hovertemplate": "pass_no=%{x}<br>percent=%{y}<extra></extra>",
         "legendgroup": "",
         "marker": {
          "color": "#636efa",
          "pattern": {
           "shape": ""
          }
         },
         "name": "",
         "nbinsx": 5,
         "offsetgroup": "",
         "orientation": "v",
         "showlegend": false,
         "type": "histogram",
         "x": [
          1,
          1,
          1,
          2,
          2,
          2,
          2,
          2,
          2,
          2,
          2,
          2,
          2,
          2,
          2,
          2,
          2,
          2,
          2,
          2,
          2,
          2,
          2,
          2,
          2,
          2,
          2,
          2,
          2,
          2,
          3,
          3,
          3,
          3,
          3,
          3,
          3,
          4,
          4,
          4,
          4,
          4,
          4,
          4,
          4,
          4,
          4,
          4,
          4,
          4,
          4,
          4,
          4,
          4,
          4,
          4,
          4,
          4,
          4,
          4,
          4,
          4,
          4,
          4,
          4,
          4,
          4,
          4,
          4,
          4,
          4,
          4,
          4,
          4,
          4,
          4,
          4,
          4,
          4,
          4,
          4,
          4,
          4,
          4,
          4,
          4,
          4
         ],
         "xaxis": "x",
         "yaxis": "y"
        }
       ],
       "layout": {
        "barmode": "relative",
        "height": 300,
        "legend": {
         "tracegroupgap": 0
        },
        "template": {
         "data": {
          "bar": [
           {
            "error_x": {
             "color": "#2a3f5f"
            },
            "error_y": {
             "color": "#2a3f5f"
            },
            "marker": {
             "line": {
              "color": "#E5ECF6",
              "width": 0.5
             },
             "pattern": {
              "fillmode": "overlay",
              "size": 10,
              "solidity": 0.2
             }
            },
            "type": "bar"
           }
          ],
          "barpolar": [
           {
            "marker": {
             "line": {
              "color": "#E5ECF6",
              "width": 0.5
             },
             "pattern": {
              "fillmode": "overlay",
              "size": 10,
              "solidity": 0.2
             }
            },
            "type": "barpolar"
           }
          ],
          "carpet": [
           {
            "aaxis": {
             "endlinecolor": "#2a3f5f",
             "gridcolor": "white",
             "linecolor": "white",
             "minorgridcolor": "white",
             "startlinecolor": "#2a3f5f"
            },
            "baxis": {
             "endlinecolor": "#2a3f5f",
             "gridcolor": "white",
             "linecolor": "white",
             "minorgridcolor": "white",
             "startlinecolor": "#2a3f5f"
            },
            "type": "carpet"
           }
          ],
          "choropleth": [
           {
            "colorbar": {
             "outlinewidth": 0,
             "ticks": ""
            },
            "type": "choropleth"
           }
          ],
          "contour": [
           {
            "colorbar": {
             "outlinewidth": 0,
             "ticks": ""
            },
            "colorscale": [
             [
              0,
              "#0d0887"
             ],
             [
              0.1111111111111111,
              "#46039f"
             ],
             [
              0.2222222222222222,
              "#7201a8"
             ],
             [
              0.3333333333333333,
              "#9c179e"
             ],
             [
              0.4444444444444444,
              "#bd3786"
             ],
             [
              0.5555555555555556,
              "#d8576b"
             ],
             [
              0.6666666666666666,
              "#ed7953"
             ],
             [
              0.7777777777777778,
              "#fb9f3a"
             ],
             [
              0.8888888888888888,
              "#fdca26"
             ],
             [
              1,
              "#f0f921"
             ]
            ],
            "type": "contour"
           }
          ],
          "contourcarpet": [
           {
            "colorbar": {
             "outlinewidth": 0,
             "ticks": ""
            },
            "type": "contourcarpet"
           }
          ],
          "heatmap": [
           {
            "colorbar": {
             "outlinewidth": 0,
             "ticks": ""
            },
            "colorscale": [
             [
              0,
              "#0d0887"
             ],
             [
              0.1111111111111111,
              "#46039f"
             ],
             [
              0.2222222222222222,
              "#7201a8"
             ],
             [
              0.3333333333333333,
              "#9c179e"
             ],
             [
              0.4444444444444444,
              "#bd3786"
             ],
             [
              0.5555555555555556,
              "#d8576b"
             ],
             [
              0.6666666666666666,
              "#ed7953"
             ],
             [
              0.7777777777777778,
              "#fb9f3a"
             ],
             [
              0.8888888888888888,
              "#fdca26"
             ],
             [
              1,
              "#f0f921"
             ]
            ],
            "type": "heatmap"
           }
          ],
          "heatmapgl": [
           {
            "colorbar": {
             "outlinewidth": 0,
             "ticks": ""
            },
            "colorscale": [
             [
              0,
              "#0d0887"
             ],
             [
              0.1111111111111111,
              "#46039f"
             ],
             [
              0.2222222222222222,
              "#7201a8"
             ],
             [
              0.3333333333333333,
              "#9c179e"
             ],
             [
              0.4444444444444444,
              "#bd3786"
             ],
             [
              0.5555555555555556,
              "#d8576b"
             ],
             [
              0.6666666666666666,
              "#ed7953"
             ],
             [
              0.7777777777777778,
              "#fb9f3a"
             ],
             [
              0.8888888888888888,
              "#fdca26"
             ],
             [
              1,
              "#f0f921"
             ]
            ],
            "type": "heatmapgl"
           }
          ],
          "histogram": [
           {
            "marker": {
             "pattern": {
              "fillmode": "overlay",
              "size": 10,
              "solidity": 0.2
             }
            },
            "type": "histogram"
           }
          ],
          "histogram2d": [
           {
            "colorbar": {
             "outlinewidth": 0,
             "ticks": ""
            },
            "colorscale": [
             [
              0,
              "#0d0887"
             ],
             [
              0.1111111111111111,
              "#46039f"
             ],
             [
              0.2222222222222222,
              "#7201a8"
             ],
             [
              0.3333333333333333,
              "#9c179e"
             ],
             [
              0.4444444444444444,
              "#bd3786"
             ],
             [
              0.5555555555555556,
              "#d8576b"
             ],
             [
              0.6666666666666666,
              "#ed7953"
             ],
             [
              0.7777777777777778,
              "#fb9f3a"
             ],
             [
              0.8888888888888888,
              "#fdca26"
             ],
             [
              1,
              "#f0f921"
             ]
            ],
            "type": "histogram2d"
           }
          ],
          "histogram2dcontour": [
           {
            "colorbar": {
             "outlinewidth": 0,
             "ticks": ""
            },
            "colorscale": [
             [
              0,
              "#0d0887"
             ],
             [
              0.1111111111111111,
              "#46039f"
             ],
             [
              0.2222222222222222,
              "#7201a8"
             ],
             [
              0.3333333333333333,
              "#9c179e"
             ],
             [
              0.4444444444444444,
              "#bd3786"
             ],
             [
              0.5555555555555556,
              "#d8576b"
             ],
             [
              0.6666666666666666,
              "#ed7953"
             ],
             [
              0.7777777777777778,
              "#fb9f3a"
             ],
             [
              0.8888888888888888,
              "#fdca26"
             ],
             [
              1,
              "#f0f921"
             ]
            ],
            "type": "histogram2dcontour"
           }
          ],
          "mesh3d": [
           {
            "colorbar": {
             "outlinewidth": 0,
             "ticks": ""
            },
            "type": "mesh3d"
           }
          ],
          "parcoords": [
           {
            "line": {
             "colorbar": {
              "outlinewidth": 0,
              "ticks": ""
             }
            },
            "type": "parcoords"
           }
          ],
          "pie": [
           {
            "automargin": true,
            "type": "pie"
           }
          ],
          "scatter": [
           {
            "fillpattern": {
             "fillmode": "overlay",
             "size": 10,
             "solidity": 0.2
            },
            "type": "scatter"
           }
          ],
          "scatter3d": [
           {
            "line": {
             "colorbar": {
              "outlinewidth": 0,
              "ticks": ""
             }
            },
            "marker": {
             "colorbar": {
              "outlinewidth": 0,
              "ticks": ""
             }
            },
            "type": "scatter3d"
           }
          ],
          "scattercarpet": [
           {
            "marker": {
             "colorbar": {
              "outlinewidth": 0,
              "ticks": ""
             }
            },
            "type": "scattercarpet"
           }
          ],
          "scattergeo": [
           {
            "marker": {
             "colorbar": {
              "outlinewidth": 0,
              "ticks": ""
             }
            },
            "type": "scattergeo"
           }
          ],
          "scattergl": [
           {
            "marker": {
             "colorbar": {
              "outlinewidth": 0,
              "ticks": ""
             }
            },
            "type": "scattergl"
           }
          ],
          "scattermapbox": [
           {
            "marker": {
             "colorbar": {
              "outlinewidth": 0,
              "ticks": ""
             }
            },
            "type": "scattermapbox"
           }
          ],
          "scatterpolar": [
           {
            "marker": {
             "colorbar": {
              "outlinewidth": 0,
              "ticks": ""
             }
            },
            "type": "scatterpolar"
           }
          ],
          "scatterpolargl": [
           {
            "marker": {
             "colorbar": {
              "outlinewidth": 0,
              "ticks": ""
             }
            },
            "type": "scatterpolargl"
           }
          ],
          "scatterternary": [
           {
            "marker": {
             "colorbar": {
              "outlinewidth": 0,
              "ticks": ""
             }
            },
            "type": "scatterternary"
           }
          ],
          "surface": [
           {
            "colorbar": {
             "outlinewidth": 0,
             "ticks": ""
            },
            "colorscale": [
             [
              0,
              "#0d0887"
             ],
             [
              0.1111111111111111,
              "#46039f"
             ],
             [
              0.2222222222222222,
              "#7201a8"
             ],
             [
              0.3333333333333333,
              "#9c179e"
             ],
             [
              0.4444444444444444,
              "#bd3786"
             ],
             [
              0.5555555555555556,
              "#d8576b"
             ],
             [
              0.6666666666666666,
              "#ed7953"
             ],
             [
              0.7777777777777778,
              "#fb9f3a"
             ],
             [
              0.8888888888888888,
              "#fdca26"
             ],
             [
              1,
              "#f0f921"
             ]
            ],
            "type": "surface"
           }
          ],
          "table": [
           {
            "cells": {
             "fill": {
              "color": "#EBF0F8"
             },
             "line": {
              "color": "white"
             }
            },
            "header": {
             "fill": {
              "color": "#C8D4E3"
             },
             "line": {
              "color": "white"
             }
            },
            "type": "table"
           }
          ]
         },
         "layout": {
          "annotationdefaults": {
           "arrowcolor": "#2a3f5f",
           "arrowhead": 0,
           "arrowwidth": 1
          },
          "autotypenumbers": "strict",
          "coloraxis": {
           "colorbar": {
            "outlinewidth": 0,
            "ticks": ""
           }
          },
          "colorscale": {
           "diverging": [
            [
             0,
             "#8e0152"
            ],
            [
             0.1,
             "#c51b7d"
            ],
            [
             0.2,
             "#de77ae"
            ],
            [
             0.3,
             "#f1b6da"
            ],
            [
             0.4,
             "#fde0ef"
            ],
            [
             0.5,
             "#f7f7f7"
            ],
            [
             0.6,
             "#e6f5d0"
            ],
            [
             0.7,
             "#b8e186"
            ],
            [
             0.8,
             "#7fbc41"
            ],
            [
             0.9,
             "#4d9221"
            ],
            [
             1,
             "#276419"
            ]
           ],
           "sequential": [
            [
             0,
             "#0d0887"
            ],
            [
             0.1111111111111111,
             "#46039f"
            ],
            [
             0.2222222222222222,
             "#7201a8"
            ],
            [
             0.3333333333333333,
             "#9c179e"
            ],
            [
             0.4444444444444444,
             "#bd3786"
            ],
            [
             0.5555555555555556,
             "#d8576b"
            ],
            [
             0.6666666666666666,
             "#ed7953"
            ],
            [
             0.7777777777777778,
             "#fb9f3a"
            ],
            [
             0.8888888888888888,
             "#fdca26"
            ],
            [
             1,
             "#f0f921"
            ]
           ],
           "sequentialminus": [
            [
             0,
             "#0d0887"
            ],
            [
             0.1111111111111111,
             "#46039f"
            ],
            [
             0.2222222222222222,
             "#7201a8"
            ],
            [
             0.3333333333333333,
             "#9c179e"
            ],
            [
             0.4444444444444444,
             "#bd3786"
            ],
            [
             0.5555555555555556,
             "#d8576b"
            ],
            [
             0.6666666666666666,
             "#ed7953"
            ],
            [
             0.7777777777777778,
             "#fb9f3a"
            ],
            [
             0.8888888888888888,
             "#fdca26"
            ],
            [
             1,
             "#f0f921"
            ]
           ]
          },
          "colorway": [
           "#636efa",
           "#EF553B",
           "#00cc96",
           "#ab63fa",
           "#FFA15A",
           "#19d3f3",
           "#FF6692",
           "#B6E880",
           "#FF97FF",
           "#FECB52"
          ],
          "font": {
           "color": "#2a3f5f"
          },
          "geo": {
           "bgcolor": "white",
           "lakecolor": "white",
           "landcolor": "#E5ECF6",
           "showlakes": true,
           "showland": true,
           "subunitcolor": "white"
          },
          "hoverlabel": {
           "align": "left"
          },
          "hovermode": "closest",
          "mapbox": {
           "style": "light"
          },
          "paper_bgcolor": "white",
          "plot_bgcolor": "#E5ECF6",
          "polar": {
           "angularaxis": {
            "gridcolor": "white",
            "linecolor": "white",
            "ticks": ""
           },
           "bgcolor": "#E5ECF6",
           "radialaxis": {
            "gridcolor": "white",
            "linecolor": "white",
            "ticks": ""
           }
          },
          "scene": {
           "xaxis": {
            "backgroundcolor": "#E5ECF6",
            "gridcolor": "white",
            "gridwidth": 2,
            "linecolor": "white",
            "showbackground": true,
            "ticks": "",
            "zerolinecolor": "white"
           },
           "yaxis": {
            "backgroundcolor": "#E5ECF6",
            "gridcolor": "white",
            "gridwidth": 2,
            "linecolor": "white",
            "showbackground": true,
            "ticks": "",
            "zerolinecolor": "white"
           },
           "zaxis": {
            "backgroundcolor": "#E5ECF6",
            "gridcolor": "white",
            "gridwidth": 2,
            "linecolor": "white",
            "showbackground": true,
            "ticks": "",
            "zerolinecolor": "white"
           }
          },
          "shapedefaults": {
           "line": {
            "color": "#2a3f5f"
           }
          },
          "ternary": {
           "aaxis": {
            "gridcolor": "white",
            "linecolor": "white",
            "ticks": ""
           },
           "baxis": {
            "gridcolor": "white",
            "linecolor": "white",
            "ticks": ""
           },
           "bgcolor": "#E5ECF6",
           "caxis": {
            "gridcolor": "white",
            "linecolor": "white",
            "ticks": ""
           }
          },
          "title": {
           "x": 0.05
          },
          "xaxis": {
           "automargin": true,
           "gridcolor": "white",
           "linecolor": "white",
           "ticks": "",
           "title": {
            "standoff": 15
           },
           "zerolinecolor": "white",
           "zerolinewidth": 2
          },
          "yaxis": {
           "automargin": true,
           "gridcolor": "white",
           "linecolor": "white",
           "ticks": "",
           "title": {
            "standoff": 15
           },
           "zerolinecolor": "white",
           "zerolinewidth": 2
          }
         }
        },
        "title": {
         "text": "Distribution of passes in cluster 1 using GMM in shawnee_location_2"
        },
        "width": 800,
        "xaxis": {
         "anchor": "y",
         "domain": [
          0,
          1
         ],
         "title": {
          "text": "pass_no"
         }
        },
        "yaxis": {
         "anchor": "x",
         "domain": [
          0,
          1
         ],
         "title": {
          "text": "percent"
         }
        }
       }
      },
      "text/html": [
       "<div>                            <div id=\"84ff6f86-21c4-492e-81c9-4c9352a0c6ec\" class=\"plotly-graph-div\" style=\"height:300px; width:800px;\"></div>            <script type=\"text/javascript\">                require([\"plotly\"], function(Plotly) {                    window.PLOTLYENV=window.PLOTLYENV || {};                                    if (document.getElementById(\"84ff6f86-21c4-492e-81c9-4c9352a0c6ec\")) {                    Plotly.newPlot(                        \"84ff6f86-21c4-492e-81c9-4c9352a0c6ec\",                        [{\"alignmentgroup\":\"True\",\"bingroup\":\"x\",\"histnorm\":\"percent\",\"hovertemplate\":\"pass_no=%{x}<br>percent=%{y}<extra></extra>\",\"legendgroup\":\"\",\"marker\":{\"color\":\"#636efa\",\"pattern\":{\"shape\":\"\"}},\"name\":\"\",\"nbinsx\":5,\"offsetgroup\":\"\",\"orientation\":\"v\",\"showlegend\":false,\"x\":[1,1,1,2,2,2,2,2,2,2,2,2,2,2,2,2,2,2,2,2,2,2,2,2,2,2,2,2,2,2,3,3,3,3,3,3,3,4,4,4,4,4,4,4,4,4,4,4,4,4,4,4,4,4,4,4,4,4,4,4,4,4,4,4,4,4,4,4,4,4,4,4,4,4,4,4,4,4,4,4,4,4,4,4,4,4,4],\"xaxis\":\"x\",\"yaxis\":\"y\",\"type\":\"histogram\"}],                        {\"template\":{\"data\":{\"histogram2dcontour\":[{\"type\":\"histogram2dcontour\",\"colorbar\":{\"outlinewidth\":0,\"ticks\":\"\"},\"colorscale\":[[0.0,\"#0d0887\"],[0.1111111111111111,\"#46039f\"],[0.2222222222222222,\"#7201a8\"],[0.3333333333333333,\"#9c179e\"],[0.4444444444444444,\"#bd3786\"],[0.5555555555555556,\"#d8576b\"],[0.6666666666666666,\"#ed7953\"],[0.7777777777777778,\"#fb9f3a\"],[0.8888888888888888,\"#fdca26\"],[1.0,\"#f0f921\"]]}],\"choropleth\":[{\"type\":\"choropleth\",\"colorbar\":{\"outlinewidth\":0,\"ticks\":\"\"}}],\"histogram2d\":[{\"type\":\"histogram2d\",\"colorbar\":{\"outlinewidth\":0,\"ticks\":\"\"},\"colorscale\":[[0.0,\"#0d0887\"],[0.1111111111111111,\"#46039f\"],[0.2222222222222222,\"#7201a8\"],[0.3333333333333333,\"#9c179e\"],[0.4444444444444444,\"#bd3786\"],[0.5555555555555556,\"#d8576b\"],[0.6666666666666666,\"#ed7953\"],[0.7777777777777778,\"#fb9f3a\"],[0.8888888888888888,\"#fdca26\"],[1.0,\"#f0f921\"]]}],\"heatmap\":[{\"type\":\"heatmap\",\"colorbar\":{\"outlinewidth\":0,\"ticks\":\"\"},\"colorscale\":[[0.0,\"#0d0887\"],[0.1111111111111111,\"#46039f\"],[0.2222222222222222,\"#7201a8\"],[0.3333333333333333,\"#9c179e\"],[0.4444444444444444,\"#bd3786\"],[0.5555555555555556,\"#d8576b\"],[0.6666666666666666,\"#ed7953\"],[0.7777777777777778,\"#fb9f3a\"],[0.8888888888888888,\"#fdca26\"],[1.0,\"#f0f921\"]]}],\"heatmapgl\":[{\"type\":\"heatmapgl\",\"colorbar\":{\"outlinewidth\":0,\"ticks\":\"\"},\"colorscale\":[[0.0,\"#0d0887\"],[0.1111111111111111,\"#46039f\"],[0.2222222222222222,\"#7201a8\"],[0.3333333333333333,\"#9c179e\"],[0.4444444444444444,\"#bd3786\"],[0.5555555555555556,\"#d8576b\"],[0.6666666666666666,\"#ed7953\"],[0.7777777777777778,\"#fb9f3a\"],[0.8888888888888888,\"#fdca26\"],[1.0,\"#f0f921\"]]}],\"contourcarpet\":[{\"type\":\"contourcarpet\",\"colorbar\":{\"outlinewidth\":0,\"ticks\":\"\"}}],\"contour\":[{\"type\":\"contour\",\"colorbar\":{\"outlinewidth\":0,\"ticks\":\"\"},\"colorscale\":[[0.0,\"#0d0887\"],[0.1111111111111111,\"#46039f\"],[0.2222222222222222,\"#7201a8\"],[0.3333333333333333,\"#9c179e\"],[0.4444444444444444,\"#bd3786\"],[0.5555555555555556,\"#d8576b\"],[0.6666666666666666,\"#ed7953\"],[0.7777777777777778,\"#fb9f3a\"],[0.8888888888888888,\"#fdca26\"],[1.0,\"#f0f921\"]]}],\"surface\":[{\"type\":\"surface\",\"colorbar\":{\"outlinewidth\":0,\"ticks\":\"\"},\"colorscale\":[[0.0,\"#0d0887\"],[0.1111111111111111,\"#46039f\"],[0.2222222222222222,\"#7201a8\"],[0.3333333333333333,\"#9c179e\"],[0.4444444444444444,\"#bd3786\"],[0.5555555555555556,\"#d8576b\"],[0.6666666666666666,\"#ed7953\"],[0.7777777777777778,\"#fb9f3a\"],[0.8888888888888888,\"#fdca26\"],[1.0,\"#f0f921\"]]}],\"mesh3d\":[{\"type\":\"mesh3d\",\"colorbar\":{\"outlinewidth\":0,\"ticks\":\"\"}}],\"scatter\":[{\"fillpattern\":{\"fillmode\":\"overlay\",\"size\":10,\"solidity\":0.2},\"type\":\"scatter\"}],\"parcoords\":[{\"type\":\"parcoords\",\"line\":{\"colorbar\":{\"outlinewidth\":0,\"ticks\":\"\"}}}],\"scatterpolargl\":[{\"type\":\"scatterpolargl\",\"marker\":{\"colorbar\":{\"outlinewidth\":0,\"ticks\":\"\"}}}],\"bar\":[{\"error_x\":{\"color\":\"#2a3f5f\"},\"error_y\":{\"color\":\"#2a3f5f\"},\"marker\":{\"line\":{\"color\":\"#E5ECF6\",\"width\":0.5},\"pattern\":{\"fillmode\":\"overlay\",\"size\":10,\"solidity\":0.2}},\"type\":\"bar\"}],\"scattergeo\":[{\"type\":\"scattergeo\",\"marker\":{\"colorbar\":{\"outlinewidth\":0,\"ticks\":\"\"}}}],\"scatterpolar\":[{\"type\":\"scatterpolar\",\"marker\":{\"colorbar\":{\"outlinewidth\":0,\"ticks\":\"\"}}}],\"histogram\":[{\"marker\":{\"pattern\":{\"fillmode\":\"overlay\",\"size\":10,\"solidity\":0.2}},\"type\":\"histogram\"}],\"scattergl\":[{\"type\":\"scattergl\",\"marker\":{\"colorbar\":{\"outlinewidth\":0,\"ticks\":\"\"}}}],\"scatter3d\":[{\"type\":\"scatter3d\",\"line\":{\"colorbar\":{\"outlinewidth\":0,\"ticks\":\"\"}},\"marker\":{\"colorbar\":{\"outlinewidth\":0,\"ticks\":\"\"}}}],\"scattermapbox\":[{\"type\":\"scattermapbox\",\"marker\":{\"colorbar\":{\"outlinewidth\":0,\"ticks\":\"\"}}}],\"scatterternary\":[{\"type\":\"scatterternary\",\"marker\":{\"colorbar\":{\"outlinewidth\":0,\"ticks\":\"\"}}}],\"scattercarpet\":[{\"type\":\"scattercarpet\",\"marker\":{\"colorbar\":{\"outlinewidth\":0,\"ticks\":\"\"}}}],\"carpet\":[{\"aaxis\":{\"endlinecolor\":\"#2a3f5f\",\"gridcolor\":\"white\",\"linecolor\":\"white\",\"minorgridcolor\":\"white\",\"startlinecolor\":\"#2a3f5f\"},\"baxis\":{\"endlinecolor\":\"#2a3f5f\",\"gridcolor\":\"white\",\"linecolor\":\"white\",\"minorgridcolor\":\"white\",\"startlinecolor\":\"#2a3f5f\"},\"type\":\"carpet\"}],\"table\":[{\"cells\":{\"fill\":{\"color\":\"#EBF0F8\"},\"line\":{\"color\":\"white\"}},\"header\":{\"fill\":{\"color\":\"#C8D4E3\"},\"line\":{\"color\":\"white\"}},\"type\":\"table\"}],\"barpolar\":[{\"marker\":{\"line\":{\"color\":\"#E5ECF6\",\"width\":0.5},\"pattern\":{\"fillmode\":\"overlay\",\"size\":10,\"solidity\":0.2}},\"type\":\"barpolar\"}],\"pie\":[{\"automargin\":true,\"type\":\"pie\"}]},\"layout\":{\"autotypenumbers\":\"strict\",\"colorway\":[\"#636efa\",\"#EF553B\",\"#00cc96\",\"#ab63fa\",\"#FFA15A\",\"#19d3f3\",\"#FF6692\",\"#B6E880\",\"#FF97FF\",\"#FECB52\"],\"font\":{\"color\":\"#2a3f5f\"},\"hovermode\":\"closest\",\"hoverlabel\":{\"align\":\"left\"},\"paper_bgcolor\":\"white\",\"plot_bgcolor\":\"#E5ECF6\",\"polar\":{\"bgcolor\":\"#E5ECF6\",\"angularaxis\":{\"gridcolor\":\"white\",\"linecolor\":\"white\",\"ticks\":\"\"},\"radialaxis\":{\"gridcolor\":\"white\",\"linecolor\":\"white\",\"ticks\":\"\"}},\"ternary\":{\"bgcolor\":\"#E5ECF6\",\"aaxis\":{\"gridcolor\":\"white\",\"linecolor\":\"white\",\"ticks\":\"\"},\"baxis\":{\"gridcolor\":\"white\",\"linecolor\":\"white\",\"ticks\":\"\"},\"caxis\":{\"gridcolor\":\"white\",\"linecolor\":\"white\",\"ticks\":\"\"}},\"coloraxis\":{\"colorbar\":{\"outlinewidth\":0,\"ticks\":\"\"}},\"colorscale\":{\"sequential\":[[0.0,\"#0d0887\"],[0.1111111111111111,\"#46039f\"],[0.2222222222222222,\"#7201a8\"],[0.3333333333333333,\"#9c179e\"],[0.4444444444444444,\"#bd3786\"],[0.5555555555555556,\"#d8576b\"],[0.6666666666666666,\"#ed7953\"],[0.7777777777777778,\"#fb9f3a\"],[0.8888888888888888,\"#fdca26\"],[1.0,\"#f0f921\"]],\"sequentialminus\":[[0.0,\"#0d0887\"],[0.1111111111111111,\"#46039f\"],[0.2222222222222222,\"#7201a8\"],[0.3333333333333333,\"#9c179e\"],[0.4444444444444444,\"#bd3786\"],[0.5555555555555556,\"#d8576b\"],[0.6666666666666666,\"#ed7953\"],[0.7777777777777778,\"#fb9f3a\"],[0.8888888888888888,\"#fdca26\"],[1.0,\"#f0f921\"]],\"diverging\":[[0,\"#8e0152\"],[0.1,\"#c51b7d\"],[0.2,\"#de77ae\"],[0.3,\"#f1b6da\"],[0.4,\"#fde0ef\"],[0.5,\"#f7f7f7\"],[0.6,\"#e6f5d0\"],[0.7,\"#b8e186\"],[0.8,\"#7fbc41\"],[0.9,\"#4d9221\"],[1,\"#276419\"]]},\"xaxis\":{\"gridcolor\":\"white\",\"linecolor\":\"white\",\"ticks\":\"\",\"title\":{\"standoff\":15},\"zerolinecolor\":\"white\",\"automargin\":true,\"zerolinewidth\":2},\"yaxis\":{\"gridcolor\":\"white\",\"linecolor\":\"white\",\"ticks\":\"\",\"title\":{\"standoff\":15},\"zerolinecolor\":\"white\",\"automargin\":true,\"zerolinewidth\":2},\"scene\":{\"xaxis\":{\"backgroundcolor\":\"#E5ECF6\",\"gridcolor\":\"white\",\"linecolor\":\"white\",\"showbackground\":true,\"ticks\":\"\",\"zerolinecolor\":\"white\",\"gridwidth\":2},\"yaxis\":{\"backgroundcolor\":\"#E5ECF6\",\"gridcolor\":\"white\",\"linecolor\":\"white\",\"showbackground\":true,\"ticks\":\"\",\"zerolinecolor\":\"white\",\"gridwidth\":2},\"zaxis\":{\"backgroundcolor\":\"#E5ECF6\",\"gridcolor\":\"white\",\"linecolor\":\"white\",\"showbackground\":true,\"ticks\":\"\",\"zerolinecolor\":\"white\",\"gridwidth\":2}},\"shapedefaults\":{\"line\":{\"color\":\"#2a3f5f\"}},\"annotationdefaults\":{\"arrowcolor\":\"#2a3f5f\",\"arrowhead\":0,\"arrowwidth\":1},\"geo\":{\"bgcolor\":\"white\",\"landcolor\":\"#E5ECF6\",\"subunitcolor\":\"white\",\"showland\":true,\"showlakes\":true,\"lakecolor\":\"white\"},\"title\":{\"x\":0.05},\"mapbox\":{\"style\":\"light\"}}},\"xaxis\":{\"anchor\":\"y\",\"domain\":[0.0,1.0],\"title\":{\"text\":\"pass_no\"}},\"yaxis\":{\"anchor\":\"x\",\"domain\":[0.0,1.0],\"title\":{\"text\":\"percent\"}},\"legend\":{\"tracegroupgap\":0},\"title\":{\"text\":\"Distribution of passes in cluster 1 using GMM in shawnee_location_2\"},\"barmode\":\"relative\",\"height\":300,\"width\":800},                        {\"responsive\": true}                    ).then(function(){\n",
       "                            \n",
       "var gd = document.getElementById('84ff6f86-21c4-492e-81c9-4c9352a0c6ec');\n",
       "var x = new MutationObserver(function (mutations, observer) {{\n",
       "        var display = window.getComputedStyle(gd).display;\n",
       "        if (!display || display === 'none') {{\n",
       "            console.log([gd, 'removed!']);\n",
       "            Plotly.purge(gd);\n",
       "            observer.disconnect();\n",
       "        }}\n",
       "}});\n",
       "\n",
       "// Listen for the removal of the full notebook cells\n",
       "var notebookContainer = gd.closest('#notebook-container');\n",
       "if (notebookContainer) {{\n",
       "    x.observe(notebookContainer, {childList: true});\n",
       "}}\n",
       "\n",
       "// Listen for the clearing of the current output cell\n",
       "var outputEl = gd.closest('.output');\n",
       "if (outputEl) {{\n",
       "    x.observe(outputEl, {childList: true});\n",
       "}}\n",
       "\n",
       "                        })                };                });            </script>        </div>"
      ]
     },
     "metadata": {},
     "output_type": "display_data"
    },
    {
     "data": {
      "application/vnd.plotly.v1+json": {
       "config": {
        "plotlyServerURL": "https://plot.ly"
       },
       "data": [
        {
         "alignmentgroup": "True",
         "bingroup": "x",
         "histnorm": "percent",
         "hovertemplate": "pass_no=%{x}<br>percent=%{y}<extra></extra>",
         "legendgroup": "",
         "marker": {
          "color": "#636efa",
          "pattern": {
           "shape": ""
          }
         },
         "name": "",
         "nbinsx": 5,
         "offsetgroup": "",
         "orientation": "v",
         "showlegend": false,
         "type": "histogram",
         "x": [
          1,
          1,
          1,
          1,
          1,
          1,
          1,
          1,
          1,
          1,
          1,
          1,
          1,
          1,
          1,
          1,
          1,
          1,
          1,
          1,
          1,
          1,
          2,
          2,
          2,
          2,
          2,
          2,
          2,
          2,
          2,
          2,
          2,
          2,
          2,
          2,
          2,
          2,
          2,
          2,
          2,
          2,
          2,
          2,
          2,
          2,
          2,
          2,
          2,
          2,
          2,
          2,
          2,
          2,
          2,
          2,
          2,
          2,
          2,
          2,
          2,
          2,
          2,
          3,
          3,
          3,
          3,
          3,
          3,
          3,
          3,
          3,
          3,
          3,
          3,
          3,
          3,
          3,
          3,
          3,
          3,
          3,
          3,
          3,
          3,
          3,
          4,
          4,
          4,
          4,
          4,
          4,
          4,
          4,
          4,
          4,
          4,
          4,
          4,
          4,
          4,
          4,
          4,
          4,
          4,
          4,
          4,
          4,
          4,
          4,
          4,
          4,
          4,
          4,
          4,
          4
         ],
         "xaxis": "x",
         "yaxis": "y"
        }
       ],
       "layout": {
        "barmode": "relative",
        "height": 300,
        "legend": {
         "tracegroupgap": 0
        },
        "template": {
         "data": {
          "bar": [
           {
            "error_x": {
             "color": "#2a3f5f"
            },
            "error_y": {
             "color": "#2a3f5f"
            },
            "marker": {
             "line": {
              "color": "#E5ECF6",
              "width": 0.5
             },
             "pattern": {
              "fillmode": "overlay",
              "size": 10,
              "solidity": 0.2
             }
            },
            "type": "bar"
           }
          ],
          "barpolar": [
           {
            "marker": {
             "line": {
              "color": "#E5ECF6",
              "width": 0.5
             },
             "pattern": {
              "fillmode": "overlay",
              "size": 10,
              "solidity": 0.2
             }
            },
            "type": "barpolar"
           }
          ],
          "carpet": [
           {
            "aaxis": {
             "endlinecolor": "#2a3f5f",
             "gridcolor": "white",
             "linecolor": "white",
             "minorgridcolor": "white",
             "startlinecolor": "#2a3f5f"
            },
            "baxis": {
             "endlinecolor": "#2a3f5f",
             "gridcolor": "white",
             "linecolor": "white",
             "minorgridcolor": "white",
             "startlinecolor": "#2a3f5f"
            },
            "type": "carpet"
           }
          ],
          "choropleth": [
           {
            "colorbar": {
             "outlinewidth": 0,
             "ticks": ""
            },
            "type": "choropleth"
           }
          ],
          "contour": [
           {
            "colorbar": {
             "outlinewidth": 0,
             "ticks": ""
            },
            "colorscale": [
             [
              0,
              "#0d0887"
             ],
             [
              0.1111111111111111,
              "#46039f"
             ],
             [
              0.2222222222222222,
              "#7201a8"
             ],
             [
              0.3333333333333333,
              "#9c179e"
             ],
             [
              0.4444444444444444,
              "#bd3786"
             ],
             [
              0.5555555555555556,
              "#d8576b"
             ],
             [
              0.6666666666666666,
              "#ed7953"
             ],
             [
              0.7777777777777778,
              "#fb9f3a"
             ],
             [
              0.8888888888888888,
              "#fdca26"
             ],
             [
              1,
              "#f0f921"
             ]
            ],
            "type": "contour"
           }
          ],
          "contourcarpet": [
           {
            "colorbar": {
             "outlinewidth": 0,
             "ticks": ""
            },
            "type": "contourcarpet"
           }
          ],
          "heatmap": [
           {
            "colorbar": {
             "outlinewidth": 0,
             "ticks": ""
            },
            "colorscale": [
             [
              0,
              "#0d0887"
             ],
             [
              0.1111111111111111,
              "#46039f"
             ],
             [
              0.2222222222222222,
              "#7201a8"
             ],
             [
              0.3333333333333333,
              "#9c179e"
             ],
             [
              0.4444444444444444,
              "#bd3786"
             ],
             [
              0.5555555555555556,
              "#d8576b"
             ],
             [
              0.6666666666666666,
              "#ed7953"
             ],
             [
              0.7777777777777778,
              "#fb9f3a"
             ],
             [
              0.8888888888888888,
              "#fdca26"
             ],
             [
              1,
              "#f0f921"
             ]
            ],
            "type": "heatmap"
           }
          ],
          "heatmapgl": [
           {
            "colorbar": {
             "outlinewidth": 0,
             "ticks": ""
            },
            "colorscale": [
             [
              0,
              "#0d0887"
             ],
             [
              0.1111111111111111,
              "#46039f"
             ],
             [
              0.2222222222222222,
              "#7201a8"
             ],
             [
              0.3333333333333333,
              "#9c179e"
             ],
             [
              0.4444444444444444,
              "#bd3786"
             ],
             [
              0.5555555555555556,
              "#d8576b"
             ],
             [
              0.6666666666666666,
              "#ed7953"
             ],
             [
              0.7777777777777778,
              "#fb9f3a"
             ],
             [
              0.8888888888888888,
              "#fdca26"
             ],
             [
              1,
              "#f0f921"
             ]
            ],
            "type": "heatmapgl"
           }
          ],
          "histogram": [
           {
            "marker": {
             "pattern": {
              "fillmode": "overlay",
              "size": 10,
              "solidity": 0.2
             }
            },
            "type": "histogram"
           }
          ],
          "histogram2d": [
           {
            "colorbar": {
             "outlinewidth": 0,
             "ticks": ""
            },
            "colorscale": [
             [
              0,
              "#0d0887"
             ],
             [
              0.1111111111111111,
              "#46039f"
             ],
             [
              0.2222222222222222,
              "#7201a8"
             ],
             [
              0.3333333333333333,
              "#9c179e"
             ],
             [
              0.4444444444444444,
              "#bd3786"
             ],
             [
              0.5555555555555556,
              "#d8576b"
             ],
             [
              0.6666666666666666,
              "#ed7953"
             ],
             [
              0.7777777777777778,
              "#fb9f3a"
             ],
             [
              0.8888888888888888,
              "#fdca26"
             ],
             [
              1,
              "#f0f921"
             ]
            ],
            "type": "histogram2d"
           }
          ],
          "histogram2dcontour": [
           {
            "colorbar": {
             "outlinewidth": 0,
             "ticks": ""
            },
            "colorscale": [
             [
              0,
              "#0d0887"
             ],
             [
              0.1111111111111111,
              "#46039f"
             ],
             [
              0.2222222222222222,
              "#7201a8"
             ],
             [
              0.3333333333333333,
              "#9c179e"
             ],
             [
              0.4444444444444444,
              "#bd3786"
             ],
             [
              0.5555555555555556,
              "#d8576b"
             ],
             [
              0.6666666666666666,
              "#ed7953"
             ],
             [
              0.7777777777777778,
              "#fb9f3a"
             ],
             [
              0.8888888888888888,
              "#fdca26"
             ],
             [
              1,
              "#f0f921"
             ]
            ],
            "type": "histogram2dcontour"
           }
          ],
          "mesh3d": [
           {
            "colorbar": {
             "outlinewidth": 0,
             "ticks": ""
            },
            "type": "mesh3d"
           }
          ],
          "parcoords": [
           {
            "line": {
             "colorbar": {
              "outlinewidth": 0,
              "ticks": ""
             }
            },
            "type": "parcoords"
           }
          ],
          "pie": [
           {
            "automargin": true,
            "type": "pie"
           }
          ],
          "scatter": [
           {
            "fillpattern": {
             "fillmode": "overlay",
             "size": 10,
             "solidity": 0.2
            },
            "type": "scatter"
           }
          ],
          "scatter3d": [
           {
            "line": {
             "colorbar": {
              "outlinewidth": 0,
              "ticks": ""
             }
            },
            "marker": {
             "colorbar": {
              "outlinewidth": 0,
              "ticks": ""
             }
            },
            "type": "scatter3d"
           }
          ],
          "scattercarpet": [
           {
            "marker": {
             "colorbar": {
              "outlinewidth": 0,
              "ticks": ""
             }
            },
            "type": "scattercarpet"
           }
          ],
          "scattergeo": [
           {
            "marker": {
             "colorbar": {
              "outlinewidth": 0,
              "ticks": ""
             }
            },
            "type": "scattergeo"
           }
          ],
          "scattergl": [
           {
            "marker": {
             "colorbar": {
              "outlinewidth": 0,
              "ticks": ""
             }
            },
            "type": "scattergl"
           }
          ],
          "scattermapbox": [
           {
            "marker": {
             "colorbar": {
              "outlinewidth": 0,
              "ticks": ""
             }
            },
            "type": "scattermapbox"
           }
          ],
          "scatterpolar": [
           {
            "marker": {
             "colorbar": {
              "outlinewidth": 0,
              "ticks": ""
             }
            },
            "type": "scatterpolar"
           }
          ],
          "scatterpolargl": [
           {
            "marker": {
             "colorbar": {
              "outlinewidth": 0,
              "ticks": ""
             }
            },
            "type": "scatterpolargl"
           }
          ],
          "scatterternary": [
           {
            "marker": {
             "colorbar": {
              "outlinewidth": 0,
              "ticks": ""
             }
            },
            "type": "scatterternary"
           }
          ],
          "surface": [
           {
            "colorbar": {
             "outlinewidth": 0,
             "ticks": ""
            },
            "colorscale": [
             [
              0,
              "#0d0887"
             ],
             [
              0.1111111111111111,
              "#46039f"
             ],
             [
              0.2222222222222222,
              "#7201a8"
             ],
             [
              0.3333333333333333,
              "#9c179e"
             ],
             [
              0.4444444444444444,
              "#bd3786"
             ],
             [
              0.5555555555555556,
              "#d8576b"
             ],
             [
              0.6666666666666666,
              "#ed7953"
             ],
             [
              0.7777777777777778,
              "#fb9f3a"
             ],
             [
              0.8888888888888888,
              "#fdca26"
             ],
             [
              1,
              "#f0f921"
             ]
            ],
            "type": "surface"
           }
          ],
          "table": [
           {
            "cells": {
             "fill": {
              "color": "#EBF0F8"
             },
             "line": {
              "color": "white"
             }
            },
            "header": {
             "fill": {
              "color": "#C8D4E3"
             },
             "line": {
              "color": "white"
             }
            },
            "type": "table"
           }
          ]
         },
         "layout": {
          "annotationdefaults": {
           "arrowcolor": "#2a3f5f",
           "arrowhead": 0,
           "arrowwidth": 1
          },
          "autotypenumbers": "strict",
          "coloraxis": {
           "colorbar": {
            "outlinewidth": 0,
            "ticks": ""
           }
          },
          "colorscale": {
           "diverging": [
            [
             0,
             "#8e0152"
            ],
            [
             0.1,
             "#c51b7d"
            ],
            [
             0.2,
             "#de77ae"
            ],
            [
             0.3,
             "#f1b6da"
            ],
            [
             0.4,
             "#fde0ef"
            ],
            [
             0.5,
             "#f7f7f7"
            ],
            [
             0.6,
             "#e6f5d0"
            ],
            [
             0.7,
             "#b8e186"
            ],
            [
             0.8,
             "#7fbc41"
            ],
            [
             0.9,
             "#4d9221"
            ],
            [
             1,
             "#276419"
            ]
           ],
           "sequential": [
            [
             0,
             "#0d0887"
            ],
            [
             0.1111111111111111,
             "#46039f"
            ],
            [
             0.2222222222222222,
             "#7201a8"
            ],
            [
             0.3333333333333333,
             "#9c179e"
            ],
            [
             0.4444444444444444,
             "#bd3786"
            ],
            [
             0.5555555555555556,
             "#d8576b"
            ],
            [
             0.6666666666666666,
             "#ed7953"
            ],
            [
             0.7777777777777778,
             "#fb9f3a"
            ],
            [
             0.8888888888888888,
             "#fdca26"
            ],
            [
             1,
             "#f0f921"
            ]
           ],
           "sequentialminus": [
            [
             0,
             "#0d0887"
            ],
            [
             0.1111111111111111,
             "#46039f"
            ],
            [
             0.2222222222222222,
             "#7201a8"
            ],
            [
             0.3333333333333333,
             "#9c179e"
            ],
            [
             0.4444444444444444,
             "#bd3786"
            ],
            [
             0.5555555555555556,
             "#d8576b"
            ],
            [
             0.6666666666666666,
             "#ed7953"
            ],
            [
             0.7777777777777778,
             "#fb9f3a"
            ],
            [
             0.8888888888888888,
             "#fdca26"
            ],
            [
             1,
             "#f0f921"
            ]
           ]
          },
          "colorway": [
           "#636efa",
           "#EF553B",
           "#00cc96",
           "#ab63fa",
           "#FFA15A",
           "#19d3f3",
           "#FF6692",
           "#B6E880",
           "#FF97FF",
           "#FECB52"
          ],
          "font": {
           "color": "#2a3f5f"
          },
          "geo": {
           "bgcolor": "white",
           "lakecolor": "white",
           "landcolor": "#E5ECF6",
           "showlakes": true,
           "showland": true,
           "subunitcolor": "white"
          },
          "hoverlabel": {
           "align": "left"
          },
          "hovermode": "closest",
          "mapbox": {
           "style": "light"
          },
          "paper_bgcolor": "white",
          "plot_bgcolor": "#E5ECF6",
          "polar": {
           "angularaxis": {
            "gridcolor": "white",
            "linecolor": "white",
            "ticks": ""
           },
           "bgcolor": "#E5ECF6",
           "radialaxis": {
            "gridcolor": "white",
            "linecolor": "white",
            "ticks": ""
           }
          },
          "scene": {
           "xaxis": {
            "backgroundcolor": "#E5ECF6",
            "gridcolor": "white",
            "gridwidth": 2,
            "linecolor": "white",
            "showbackground": true,
            "ticks": "",
            "zerolinecolor": "white"
           },
           "yaxis": {
            "backgroundcolor": "#E5ECF6",
            "gridcolor": "white",
            "gridwidth": 2,
            "linecolor": "white",
            "showbackground": true,
            "ticks": "",
            "zerolinecolor": "white"
           },
           "zaxis": {
            "backgroundcolor": "#E5ECF6",
            "gridcolor": "white",
            "gridwidth": 2,
            "linecolor": "white",
            "showbackground": true,
            "ticks": "",
            "zerolinecolor": "white"
           }
          },
          "shapedefaults": {
           "line": {
            "color": "#2a3f5f"
           }
          },
          "ternary": {
           "aaxis": {
            "gridcolor": "white",
            "linecolor": "white",
            "ticks": ""
           },
           "baxis": {
            "gridcolor": "white",
            "linecolor": "white",
            "ticks": ""
           },
           "bgcolor": "#E5ECF6",
           "caxis": {
            "gridcolor": "white",
            "linecolor": "white",
            "ticks": ""
           }
          },
          "title": {
           "x": 0.05
          },
          "xaxis": {
           "automargin": true,
           "gridcolor": "white",
           "linecolor": "white",
           "ticks": "",
           "title": {
            "standoff": 15
           },
           "zerolinecolor": "white",
           "zerolinewidth": 2
          },
          "yaxis": {
           "automargin": true,
           "gridcolor": "white",
           "linecolor": "white",
           "ticks": "",
           "title": {
            "standoff": 15
           },
           "zerolinecolor": "white",
           "zerolinewidth": 2
          }
         }
        },
        "title": {
         "text": "Distribution of passes in cluster 2 using GMM in shawnee_location_2"
        },
        "width": 800,
        "xaxis": {
         "anchor": "y",
         "domain": [
          0,
          1
         ],
         "title": {
          "text": "pass_no"
         }
        },
        "yaxis": {
         "anchor": "x",
         "domain": [
          0,
          1
         ],
         "title": {
          "text": "percent"
         }
        }
       }
      },
      "text/html": [
       "<div>                            <div id=\"cdac13fd-cc35-4d1c-ba99-2a48f34c03c6\" class=\"plotly-graph-div\" style=\"height:300px; width:800px;\"></div>            <script type=\"text/javascript\">                require([\"plotly\"], function(Plotly) {                    window.PLOTLYENV=window.PLOTLYENV || {};                                    if (document.getElementById(\"cdac13fd-cc35-4d1c-ba99-2a48f34c03c6\")) {                    Plotly.newPlot(                        \"cdac13fd-cc35-4d1c-ba99-2a48f34c03c6\",                        [{\"alignmentgroup\":\"True\",\"bingroup\":\"x\",\"histnorm\":\"percent\",\"hovertemplate\":\"pass_no=%{x}<br>percent=%{y}<extra></extra>\",\"legendgroup\":\"\",\"marker\":{\"color\":\"#636efa\",\"pattern\":{\"shape\":\"\"}},\"name\":\"\",\"nbinsx\":5,\"offsetgroup\":\"\",\"orientation\":\"v\",\"showlegend\":false,\"x\":[1,1,1,1,1,1,1,1,1,1,1,1,1,1,1,1,1,1,1,1,1,1,2,2,2,2,2,2,2,2,2,2,2,2,2,2,2,2,2,2,2,2,2,2,2,2,2,2,2,2,2,2,2,2,2,2,2,2,2,2,2,2,2,3,3,3,3,3,3,3,3,3,3,3,3,3,3,3,3,3,3,3,3,3,3,3,4,4,4,4,4,4,4,4,4,4,4,4,4,4,4,4,4,4,4,4,4,4,4,4,4,4,4,4,4,4],\"xaxis\":\"x\",\"yaxis\":\"y\",\"type\":\"histogram\"}],                        {\"template\":{\"data\":{\"histogram2dcontour\":[{\"type\":\"histogram2dcontour\",\"colorbar\":{\"outlinewidth\":0,\"ticks\":\"\"},\"colorscale\":[[0.0,\"#0d0887\"],[0.1111111111111111,\"#46039f\"],[0.2222222222222222,\"#7201a8\"],[0.3333333333333333,\"#9c179e\"],[0.4444444444444444,\"#bd3786\"],[0.5555555555555556,\"#d8576b\"],[0.6666666666666666,\"#ed7953\"],[0.7777777777777778,\"#fb9f3a\"],[0.8888888888888888,\"#fdca26\"],[1.0,\"#f0f921\"]]}],\"choropleth\":[{\"type\":\"choropleth\",\"colorbar\":{\"outlinewidth\":0,\"ticks\":\"\"}}],\"histogram2d\":[{\"type\":\"histogram2d\",\"colorbar\":{\"outlinewidth\":0,\"ticks\":\"\"},\"colorscale\":[[0.0,\"#0d0887\"],[0.1111111111111111,\"#46039f\"],[0.2222222222222222,\"#7201a8\"],[0.3333333333333333,\"#9c179e\"],[0.4444444444444444,\"#bd3786\"],[0.5555555555555556,\"#d8576b\"],[0.6666666666666666,\"#ed7953\"],[0.7777777777777778,\"#fb9f3a\"],[0.8888888888888888,\"#fdca26\"],[1.0,\"#f0f921\"]]}],\"heatmap\":[{\"type\":\"heatmap\",\"colorbar\":{\"outlinewidth\":0,\"ticks\":\"\"},\"colorscale\":[[0.0,\"#0d0887\"],[0.1111111111111111,\"#46039f\"],[0.2222222222222222,\"#7201a8\"],[0.3333333333333333,\"#9c179e\"],[0.4444444444444444,\"#bd3786\"],[0.5555555555555556,\"#d8576b\"],[0.6666666666666666,\"#ed7953\"],[0.7777777777777778,\"#fb9f3a\"],[0.8888888888888888,\"#fdca26\"],[1.0,\"#f0f921\"]]}],\"heatmapgl\":[{\"type\":\"heatmapgl\",\"colorbar\":{\"outlinewidth\":0,\"ticks\":\"\"},\"colorscale\":[[0.0,\"#0d0887\"],[0.1111111111111111,\"#46039f\"],[0.2222222222222222,\"#7201a8\"],[0.3333333333333333,\"#9c179e\"],[0.4444444444444444,\"#bd3786\"],[0.5555555555555556,\"#d8576b\"],[0.6666666666666666,\"#ed7953\"],[0.7777777777777778,\"#fb9f3a\"],[0.8888888888888888,\"#fdca26\"],[1.0,\"#f0f921\"]]}],\"contourcarpet\":[{\"type\":\"contourcarpet\",\"colorbar\":{\"outlinewidth\":0,\"ticks\":\"\"}}],\"contour\":[{\"type\":\"contour\",\"colorbar\":{\"outlinewidth\":0,\"ticks\":\"\"},\"colorscale\":[[0.0,\"#0d0887\"],[0.1111111111111111,\"#46039f\"],[0.2222222222222222,\"#7201a8\"],[0.3333333333333333,\"#9c179e\"],[0.4444444444444444,\"#bd3786\"],[0.5555555555555556,\"#d8576b\"],[0.6666666666666666,\"#ed7953\"],[0.7777777777777778,\"#fb9f3a\"],[0.8888888888888888,\"#fdca26\"],[1.0,\"#f0f921\"]]}],\"surface\":[{\"type\":\"surface\",\"colorbar\":{\"outlinewidth\":0,\"ticks\":\"\"},\"colorscale\":[[0.0,\"#0d0887\"],[0.1111111111111111,\"#46039f\"],[0.2222222222222222,\"#7201a8\"],[0.3333333333333333,\"#9c179e\"],[0.4444444444444444,\"#bd3786\"],[0.5555555555555556,\"#d8576b\"],[0.6666666666666666,\"#ed7953\"],[0.7777777777777778,\"#fb9f3a\"],[0.8888888888888888,\"#fdca26\"],[1.0,\"#f0f921\"]]}],\"mesh3d\":[{\"type\":\"mesh3d\",\"colorbar\":{\"outlinewidth\":0,\"ticks\":\"\"}}],\"scatter\":[{\"fillpattern\":{\"fillmode\":\"overlay\",\"size\":10,\"solidity\":0.2},\"type\":\"scatter\"}],\"parcoords\":[{\"type\":\"parcoords\",\"line\":{\"colorbar\":{\"outlinewidth\":0,\"ticks\":\"\"}}}],\"scatterpolargl\":[{\"type\":\"scatterpolargl\",\"marker\":{\"colorbar\":{\"outlinewidth\":0,\"ticks\":\"\"}}}],\"bar\":[{\"error_x\":{\"color\":\"#2a3f5f\"},\"error_y\":{\"color\":\"#2a3f5f\"},\"marker\":{\"line\":{\"color\":\"#E5ECF6\",\"width\":0.5},\"pattern\":{\"fillmode\":\"overlay\",\"size\":10,\"solidity\":0.2}},\"type\":\"bar\"}],\"scattergeo\":[{\"type\":\"scattergeo\",\"marker\":{\"colorbar\":{\"outlinewidth\":0,\"ticks\":\"\"}}}],\"scatterpolar\":[{\"type\":\"scatterpolar\",\"marker\":{\"colorbar\":{\"outlinewidth\":0,\"ticks\":\"\"}}}],\"histogram\":[{\"marker\":{\"pattern\":{\"fillmode\":\"overlay\",\"size\":10,\"solidity\":0.2}},\"type\":\"histogram\"}],\"scattergl\":[{\"type\":\"scattergl\",\"marker\":{\"colorbar\":{\"outlinewidth\":0,\"ticks\":\"\"}}}],\"scatter3d\":[{\"type\":\"scatter3d\",\"line\":{\"colorbar\":{\"outlinewidth\":0,\"ticks\":\"\"}},\"marker\":{\"colorbar\":{\"outlinewidth\":0,\"ticks\":\"\"}}}],\"scattermapbox\":[{\"type\":\"scattermapbox\",\"marker\":{\"colorbar\":{\"outlinewidth\":0,\"ticks\":\"\"}}}],\"scatterternary\":[{\"type\":\"scatterternary\",\"marker\":{\"colorbar\":{\"outlinewidth\":0,\"ticks\":\"\"}}}],\"scattercarpet\":[{\"type\":\"scattercarpet\",\"marker\":{\"colorbar\":{\"outlinewidth\":0,\"ticks\":\"\"}}}],\"carpet\":[{\"aaxis\":{\"endlinecolor\":\"#2a3f5f\",\"gridcolor\":\"white\",\"linecolor\":\"white\",\"minorgridcolor\":\"white\",\"startlinecolor\":\"#2a3f5f\"},\"baxis\":{\"endlinecolor\":\"#2a3f5f\",\"gridcolor\":\"white\",\"linecolor\":\"white\",\"minorgridcolor\":\"white\",\"startlinecolor\":\"#2a3f5f\"},\"type\":\"carpet\"}],\"table\":[{\"cells\":{\"fill\":{\"color\":\"#EBF0F8\"},\"line\":{\"color\":\"white\"}},\"header\":{\"fill\":{\"color\":\"#C8D4E3\"},\"line\":{\"color\":\"white\"}},\"type\":\"table\"}],\"barpolar\":[{\"marker\":{\"line\":{\"color\":\"#E5ECF6\",\"width\":0.5},\"pattern\":{\"fillmode\":\"overlay\",\"size\":10,\"solidity\":0.2}},\"type\":\"barpolar\"}],\"pie\":[{\"automargin\":true,\"type\":\"pie\"}]},\"layout\":{\"autotypenumbers\":\"strict\",\"colorway\":[\"#636efa\",\"#EF553B\",\"#00cc96\",\"#ab63fa\",\"#FFA15A\",\"#19d3f3\",\"#FF6692\",\"#B6E880\",\"#FF97FF\",\"#FECB52\"],\"font\":{\"color\":\"#2a3f5f\"},\"hovermode\":\"closest\",\"hoverlabel\":{\"align\":\"left\"},\"paper_bgcolor\":\"white\",\"plot_bgcolor\":\"#E5ECF6\",\"polar\":{\"bgcolor\":\"#E5ECF6\",\"angularaxis\":{\"gridcolor\":\"white\",\"linecolor\":\"white\",\"ticks\":\"\"},\"radialaxis\":{\"gridcolor\":\"white\",\"linecolor\":\"white\",\"ticks\":\"\"}},\"ternary\":{\"bgcolor\":\"#E5ECF6\",\"aaxis\":{\"gridcolor\":\"white\",\"linecolor\":\"white\",\"ticks\":\"\"},\"baxis\":{\"gridcolor\":\"white\",\"linecolor\":\"white\",\"ticks\":\"\"},\"caxis\":{\"gridcolor\":\"white\",\"linecolor\":\"white\",\"ticks\":\"\"}},\"coloraxis\":{\"colorbar\":{\"outlinewidth\":0,\"ticks\":\"\"}},\"colorscale\":{\"sequential\":[[0.0,\"#0d0887\"],[0.1111111111111111,\"#46039f\"],[0.2222222222222222,\"#7201a8\"],[0.3333333333333333,\"#9c179e\"],[0.4444444444444444,\"#bd3786\"],[0.5555555555555556,\"#d8576b\"],[0.6666666666666666,\"#ed7953\"],[0.7777777777777778,\"#fb9f3a\"],[0.8888888888888888,\"#fdca26\"],[1.0,\"#f0f921\"]],\"sequentialminus\":[[0.0,\"#0d0887\"],[0.1111111111111111,\"#46039f\"],[0.2222222222222222,\"#7201a8\"],[0.3333333333333333,\"#9c179e\"],[0.4444444444444444,\"#bd3786\"],[0.5555555555555556,\"#d8576b\"],[0.6666666666666666,\"#ed7953\"],[0.7777777777777778,\"#fb9f3a\"],[0.8888888888888888,\"#fdca26\"],[1.0,\"#f0f921\"]],\"diverging\":[[0,\"#8e0152\"],[0.1,\"#c51b7d\"],[0.2,\"#de77ae\"],[0.3,\"#f1b6da\"],[0.4,\"#fde0ef\"],[0.5,\"#f7f7f7\"],[0.6,\"#e6f5d0\"],[0.7,\"#b8e186\"],[0.8,\"#7fbc41\"],[0.9,\"#4d9221\"],[1,\"#276419\"]]},\"xaxis\":{\"gridcolor\":\"white\",\"linecolor\":\"white\",\"ticks\":\"\",\"title\":{\"standoff\":15},\"zerolinecolor\":\"white\",\"automargin\":true,\"zerolinewidth\":2},\"yaxis\":{\"gridcolor\":\"white\",\"linecolor\":\"white\",\"ticks\":\"\",\"title\":{\"standoff\":15},\"zerolinecolor\":\"white\",\"automargin\":true,\"zerolinewidth\":2},\"scene\":{\"xaxis\":{\"backgroundcolor\":\"#E5ECF6\",\"gridcolor\":\"white\",\"linecolor\":\"white\",\"showbackground\":true,\"ticks\":\"\",\"zerolinecolor\":\"white\",\"gridwidth\":2},\"yaxis\":{\"backgroundcolor\":\"#E5ECF6\",\"gridcolor\":\"white\",\"linecolor\":\"white\",\"showbackground\":true,\"ticks\":\"\",\"zerolinecolor\":\"white\",\"gridwidth\":2},\"zaxis\":{\"backgroundcolor\":\"#E5ECF6\",\"gridcolor\":\"white\",\"linecolor\":\"white\",\"showbackground\":true,\"ticks\":\"\",\"zerolinecolor\":\"white\",\"gridwidth\":2}},\"shapedefaults\":{\"line\":{\"color\":\"#2a3f5f\"}},\"annotationdefaults\":{\"arrowcolor\":\"#2a3f5f\",\"arrowhead\":0,\"arrowwidth\":1},\"geo\":{\"bgcolor\":\"white\",\"landcolor\":\"#E5ECF6\",\"subunitcolor\":\"white\",\"showland\":true,\"showlakes\":true,\"lakecolor\":\"white\"},\"title\":{\"x\":0.05},\"mapbox\":{\"style\":\"light\"}}},\"xaxis\":{\"anchor\":\"y\",\"domain\":[0.0,1.0],\"title\":{\"text\":\"pass_no\"}},\"yaxis\":{\"anchor\":\"x\",\"domain\":[0.0,1.0],\"title\":{\"text\":\"percent\"}},\"legend\":{\"tracegroupgap\":0},\"title\":{\"text\":\"Distribution of passes in cluster 2 using GMM in shawnee_location_2\"},\"barmode\":\"relative\",\"height\":300,\"width\":800},                        {\"responsive\": true}                    ).then(function(){\n",
       "                            \n",
       "var gd = document.getElementById('cdac13fd-cc35-4d1c-ba99-2a48f34c03c6');\n",
       "var x = new MutationObserver(function (mutations, observer) {{\n",
       "        var display = window.getComputedStyle(gd).display;\n",
       "        if (!display || display === 'none') {{\n",
       "            console.log([gd, 'removed!']);\n",
       "            Plotly.purge(gd);\n",
       "            observer.disconnect();\n",
       "        }}\n",
       "}});\n",
       "\n",
       "// Listen for the removal of the full notebook cells\n",
       "var notebookContainer = gd.closest('#notebook-container');\n",
       "if (notebookContainer) {{\n",
       "    x.observe(notebookContainer, {childList: true});\n",
       "}}\n",
       "\n",
       "// Listen for the clearing of the current output cell\n",
       "var outputEl = gd.closest('.output');\n",
       "if (outputEl) {{\n",
       "    x.observe(outputEl, {childList: true});\n",
       "}}\n",
       "\n",
       "                        })                };                });            </script>        </div>"
      ]
     },
     "metadata": {},
     "output_type": "display_data"
    },
    {
     "data": {
      "application/vnd.plotly.v1+json": {
       "config": {
        "plotlyServerURL": "https://plot.ly"
       },
       "data": [
        {
         "alignmentgroup": "True",
         "bingroup": "x",
         "histnorm": "percent",
         "hovertemplate": "pass_no=%{x}<br>percent=%{y}<extra></extra>",
         "legendgroup": "",
         "marker": {
          "color": "#636efa",
          "pattern": {
           "shape": ""
          }
         },
         "name": "",
         "nbinsx": 5,
         "offsetgroup": "",
         "orientation": "v",
         "showlegend": false,
         "type": "histogram",
         "x": [
          1,
          1,
          1,
          1,
          1,
          1,
          1,
          1,
          1,
          1,
          1,
          1,
          1,
          1,
          1,
          1,
          1,
          1,
          1,
          1,
          1,
          1,
          2,
          2,
          2,
          2,
          2,
          2,
          2,
          2,
          2,
          2,
          2,
          2,
          2,
          2,
          2,
          2,
          2,
          2,
          2,
          2,
          2,
          2,
          2,
          2,
          2,
          2,
          2,
          2,
          2,
          2,
          2,
          3,
          3,
          3,
          3,
          3,
          3,
          3,
          3,
          3,
          3,
          3,
          3,
          4,
          4,
          4,
          4,
          4,
          4,
          4,
          4,
          4,
          4,
          4,
          4,
          4,
          4,
          4,
          4,
          4,
          4,
          4,
          4,
          4,
          4,
          4,
          4,
          4,
          4,
          4,
          4,
          4,
          4,
          4,
          4,
          4,
          4,
          4,
          4,
          4,
          4,
          4,
          4,
          4,
          4,
          4,
          4,
          4,
          4,
          4,
          4,
          4,
          4
         ],
         "xaxis": "x",
         "yaxis": "y"
        }
       ],
       "layout": {
        "barmode": "relative",
        "height": 300,
        "legend": {
         "tracegroupgap": 0
        },
        "template": {
         "data": {
          "bar": [
           {
            "error_x": {
             "color": "#2a3f5f"
            },
            "error_y": {
             "color": "#2a3f5f"
            },
            "marker": {
             "line": {
              "color": "#E5ECF6",
              "width": 0.5
             },
             "pattern": {
              "fillmode": "overlay",
              "size": 10,
              "solidity": 0.2
             }
            },
            "type": "bar"
           }
          ],
          "barpolar": [
           {
            "marker": {
             "line": {
              "color": "#E5ECF6",
              "width": 0.5
             },
             "pattern": {
              "fillmode": "overlay",
              "size": 10,
              "solidity": 0.2
             }
            },
            "type": "barpolar"
           }
          ],
          "carpet": [
           {
            "aaxis": {
             "endlinecolor": "#2a3f5f",
             "gridcolor": "white",
             "linecolor": "white",
             "minorgridcolor": "white",
             "startlinecolor": "#2a3f5f"
            },
            "baxis": {
             "endlinecolor": "#2a3f5f",
             "gridcolor": "white",
             "linecolor": "white",
             "minorgridcolor": "white",
             "startlinecolor": "#2a3f5f"
            },
            "type": "carpet"
           }
          ],
          "choropleth": [
           {
            "colorbar": {
             "outlinewidth": 0,
             "ticks": ""
            },
            "type": "choropleth"
           }
          ],
          "contour": [
           {
            "colorbar": {
             "outlinewidth": 0,
             "ticks": ""
            },
            "colorscale": [
             [
              0,
              "#0d0887"
             ],
             [
              0.1111111111111111,
              "#46039f"
             ],
             [
              0.2222222222222222,
              "#7201a8"
             ],
             [
              0.3333333333333333,
              "#9c179e"
             ],
             [
              0.4444444444444444,
              "#bd3786"
             ],
             [
              0.5555555555555556,
              "#d8576b"
             ],
             [
              0.6666666666666666,
              "#ed7953"
             ],
             [
              0.7777777777777778,
              "#fb9f3a"
             ],
             [
              0.8888888888888888,
              "#fdca26"
             ],
             [
              1,
              "#f0f921"
             ]
            ],
            "type": "contour"
           }
          ],
          "contourcarpet": [
           {
            "colorbar": {
             "outlinewidth": 0,
             "ticks": ""
            },
            "type": "contourcarpet"
           }
          ],
          "heatmap": [
           {
            "colorbar": {
             "outlinewidth": 0,
             "ticks": ""
            },
            "colorscale": [
             [
              0,
              "#0d0887"
             ],
             [
              0.1111111111111111,
              "#46039f"
             ],
             [
              0.2222222222222222,
              "#7201a8"
             ],
             [
              0.3333333333333333,
              "#9c179e"
             ],
             [
              0.4444444444444444,
              "#bd3786"
             ],
             [
              0.5555555555555556,
              "#d8576b"
             ],
             [
              0.6666666666666666,
              "#ed7953"
             ],
             [
              0.7777777777777778,
              "#fb9f3a"
             ],
             [
              0.8888888888888888,
              "#fdca26"
             ],
             [
              1,
              "#f0f921"
             ]
            ],
            "type": "heatmap"
           }
          ],
          "heatmapgl": [
           {
            "colorbar": {
             "outlinewidth": 0,
             "ticks": ""
            },
            "colorscale": [
             [
              0,
              "#0d0887"
             ],
             [
              0.1111111111111111,
              "#46039f"
             ],
             [
              0.2222222222222222,
              "#7201a8"
             ],
             [
              0.3333333333333333,
              "#9c179e"
             ],
             [
              0.4444444444444444,
              "#bd3786"
             ],
             [
              0.5555555555555556,
              "#d8576b"
             ],
             [
              0.6666666666666666,
              "#ed7953"
             ],
             [
              0.7777777777777778,
              "#fb9f3a"
             ],
             [
              0.8888888888888888,
              "#fdca26"
             ],
             [
              1,
              "#f0f921"
             ]
            ],
            "type": "heatmapgl"
           }
          ],
          "histogram": [
           {
            "marker": {
             "pattern": {
              "fillmode": "overlay",
              "size": 10,
              "solidity": 0.2
             }
            },
            "type": "histogram"
           }
          ],
          "histogram2d": [
           {
            "colorbar": {
             "outlinewidth": 0,
             "ticks": ""
            },
            "colorscale": [
             [
              0,
              "#0d0887"
             ],
             [
              0.1111111111111111,
              "#46039f"
             ],
             [
              0.2222222222222222,
              "#7201a8"
             ],
             [
              0.3333333333333333,
              "#9c179e"
             ],
             [
              0.4444444444444444,
              "#bd3786"
             ],
             [
              0.5555555555555556,
              "#d8576b"
             ],
             [
              0.6666666666666666,
              "#ed7953"
             ],
             [
              0.7777777777777778,
              "#fb9f3a"
             ],
             [
              0.8888888888888888,
              "#fdca26"
             ],
             [
              1,
              "#f0f921"
             ]
            ],
            "type": "histogram2d"
           }
          ],
          "histogram2dcontour": [
           {
            "colorbar": {
             "outlinewidth": 0,
             "ticks": ""
            },
            "colorscale": [
             [
              0,
              "#0d0887"
             ],
             [
              0.1111111111111111,
              "#46039f"
             ],
             [
              0.2222222222222222,
              "#7201a8"
             ],
             [
              0.3333333333333333,
              "#9c179e"
             ],
             [
              0.4444444444444444,
              "#bd3786"
             ],
             [
              0.5555555555555556,
              "#d8576b"
             ],
             [
              0.6666666666666666,
              "#ed7953"
             ],
             [
              0.7777777777777778,
              "#fb9f3a"
             ],
             [
              0.8888888888888888,
              "#fdca26"
             ],
             [
              1,
              "#f0f921"
             ]
            ],
            "type": "histogram2dcontour"
           }
          ],
          "mesh3d": [
           {
            "colorbar": {
             "outlinewidth": 0,
             "ticks": ""
            },
            "type": "mesh3d"
           }
          ],
          "parcoords": [
           {
            "line": {
             "colorbar": {
              "outlinewidth": 0,
              "ticks": ""
             }
            },
            "type": "parcoords"
           }
          ],
          "pie": [
           {
            "automargin": true,
            "type": "pie"
           }
          ],
          "scatter": [
           {
            "fillpattern": {
             "fillmode": "overlay",
             "size": 10,
             "solidity": 0.2
            },
            "type": "scatter"
           }
          ],
          "scatter3d": [
           {
            "line": {
             "colorbar": {
              "outlinewidth": 0,
              "ticks": ""
             }
            },
            "marker": {
             "colorbar": {
              "outlinewidth": 0,
              "ticks": ""
             }
            },
            "type": "scatter3d"
           }
          ],
          "scattercarpet": [
           {
            "marker": {
             "colorbar": {
              "outlinewidth": 0,
              "ticks": ""
             }
            },
            "type": "scattercarpet"
           }
          ],
          "scattergeo": [
           {
            "marker": {
             "colorbar": {
              "outlinewidth": 0,
              "ticks": ""
             }
            },
            "type": "scattergeo"
           }
          ],
          "scattergl": [
           {
            "marker": {
             "colorbar": {
              "outlinewidth": 0,
              "ticks": ""
             }
            },
            "type": "scattergl"
           }
          ],
          "scattermapbox": [
           {
            "marker": {
             "colorbar": {
              "outlinewidth": 0,
              "ticks": ""
             }
            },
            "type": "scattermapbox"
           }
          ],
          "scatterpolar": [
           {
            "marker": {
             "colorbar": {
              "outlinewidth": 0,
              "ticks": ""
             }
            },
            "type": "scatterpolar"
           }
          ],
          "scatterpolargl": [
           {
            "marker": {
             "colorbar": {
              "outlinewidth": 0,
              "ticks": ""
             }
            },
            "type": "scatterpolargl"
           }
          ],
          "scatterternary": [
           {
            "marker": {
             "colorbar": {
              "outlinewidth": 0,
              "ticks": ""
             }
            },
            "type": "scatterternary"
           }
          ],
          "surface": [
           {
            "colorbar": {
             "outlinewidth": 0,
             "ticks": ""
            },
            "colorscale": [
             [
              0,
              "#0d0887"
             ],
             [
              0.1111111111111111,
              "#46039f"
             ],
             [
              0.2222222222222222,
              "#7201a8"
             ],
             [
              0.3333333333333333,
              "#9c179e"
             ],
             [
              0.4444444444444444,
              "#bd3786"
             ],
             [
              0.5555555555555556,
              "#d8576b"
             ],
             [
              0.6666666666666666,
              "#ed7953"
             ],
             [
              0.7777777777777778,
              "#fb9f3a"
             ],
             [
              0.8888888888888888,
              "#fdca26"
             ],
             [
              1,
              "#f0f921"
             ]
            ],
            "type": "surface"
           }
          ],
          "table": [
           {
            "cells": {
             "fill": {
              "color": "#EBF0F8"
             },
             "line": {
              "color": "white"
             }
            },
            "header": {
             "fill": {
              "color": "#C8D4E3"
             },
             "line": {
              "color": "white"
             }
            },
            "type": "table"
           }
          ]
         },
         "layout": {
          "annotationdefaults": {
           "arrowcolor": "#2a3f5f",
           "arrowhead": 0,
           "arrowwidth": 1
          },
          "autotypenumbers": "strict",
          "coloraxis": {
           "colorbar": {
            "outlinewidth": 0,
            "ticks": ""
           }
          },
          "colorscale": {
           "diverging": [
            [
             0,
             "#8e0152"
            ],
            [
             0.1,
             "#c51b7d"
            ],
            [
             0.2,
             "#de77ae"
            ],
            [
             0.3,
             "#f1b6da"
            ],
            [
             0.4,
             "#fde0ef"
            ],
            [
             0.5,
             "#f7f7f7"
            ],
            [
             0.6,
             "#e6f5d0"
            ],
            [
             0.7,
             "#b8e186"
            ],
            [
             0.8,
             "#7fbc41"
            ],
            [
             0.9,
             "#4d9221"
            ],
            [
             1,
             "#276419"
            ]
           ],
           "sequential": [
            [
             0,
             "#0d0887"
            ],
            [
             0.1111111111111111,
             "#46039f"
            ],
            [
             0.2222222222222222,
             "#7201a8"
            ],
            [
             0.3333333333333333,
             "#9c179e"
            ],
            [
             0.4444444444444444,
             "#bd3786"
            ],
            [
             0.5555555555555556,
             "#d8576b"
            ],
            [
             0.6666666666666666,
             "#ed7953"
            ],
            [
             0.7777777777777778,
             "#fb9f3a"
            ],
            [
             0.8888888888888888,
             "#fdca26"
            ],
            [
             1,
             "#f0f921"
            ]
           ],
           "sequentialminus": [
            [
             0,
             "#0d0887"
            ],
            [
             0.1111111111111111,
             "#46039f"
            ],
            [
             0.2222222222222222,
             "#7201a8"
            ],
            [
             0.3333333333333333,
             "#9c179e"
            ],
            [
             0.4444444444444444,
             "#bd3786"
            ],
            [
             0.5555555555555556,
             "#d8576b"
            ],
            [
             0.6666666666666666,
             "#ed7953"
            ],
            [
             0.7777777777777778,
             "#fb9f3a"
            ],
            [
             0.8888888888888888,
             "#fdca26"
            ],
            [
             1,
             "#f0f921"
            ]
           ]
          },
          "colorway": [
           "#636efa",
           "#EF553B",
           "#00cc96",
           "#ab63fa",
           "#FFA15A",
           "#19d3f3",
           "#FF6692",
           "#B6E880",
           "#FF97FF",
           "#FECB52"
          ],
          "font": {
           "color": "#2a3f5f"
          },
          "geo": {
           "bgcolor": "white",
           "lakecolor": "white",
           "landcolor": "#E5ECF6",
           "showlakes": true,
           "showland": true,
           "subunitcolor": "white"
          },
          "hoverlabel": {
           "align": "left"
          },
          "hovermode": "closest",
          "mapbox": {
           "style": "light"
          },
          "paper_bgcolor": "white",
          "plot_bgcolor": "#E5ECF6",
          "polar": {
           "angularaxis": {
            "gridcolor": "white",
            "linecolor": "white",
            "ticks": ""
           },
           "bgcolor": "#E5ECF6",
           "radialaxis": {
            "gridcolor": "white",
            "linecolor": "white",
            "ticks": ""
           }
          },
          "scene": {
           "xaxis": {
            "backgroundcolor": "#E5ECF6",
            "gridcolor": "white",
            "gridwidth": 2,
            "linecolor": "white",
            "showbackground": true,
            "ticks": "",
            "zerolinecolor": "white"
           },
           "yaxis": {
            "backgroundcolor": "#E5ECF6",
            "gridcolor": "white",
            "gridwidth": 2,
            "linecolor": "white",
            "showbackground": true,
            "ticks": "",
            "zerolinecolor": "white"
           },
           "zaxis": {
            "backgroundcolor": "#E5ECF6",
            "gridcolor": "white",
            "gridwidth": 2,
            "linecolor": "white",
            "showbackground": true,
            "ticks": "",
            "zerolinecolor": "white"
           }
          },
          "shapedefaults": {
           "line": {
            "color": "#2a3f5f"
           }
          },
          "ternary": {
           "aaxis": {
            "gridcolor": "white",
            "linecolor": "white",
            "ticks": ""
           },
           "baxis": {
            "gridcolor": "white",
            "linecolor": "white",
            "ticks": ""
           },
           "bgcolor": "#E5ECF6",
           "caxis": {
            "gridcolor": "white",
            "linecolor": "white",
            "ticks": ""
           }
          },
          "title": {
           "x": 0.05
          },
          "xaxis": {
           "automargin": true,
           "gridcolor": "white",
           "linecolor": "white",
           "ticks": "",
           "title": {
            "standoff": 15
           },
           "zerolinecolor": "white",
           "zerolinewidth": 2
          },
          "yaxis": {
           "automargin": true,
           "gridcolor": "white",
           "linecolor": "white",
           "ticks": "",
           "title": {
            "standoff": 15
           },
           "zerolinecolor": "white",
           "zerolinewidth": 2
          }
         }
        },
        "title": {
         "text": "Distribution of passes in cluster 3 using GMM in shawnee_location_2"
        },
        "width": 800,
        "xaxis": {
         "anchor": "y",
         "domain": [
          0,
          1
         ],
         "title": {
          "text": "pass_no"
         }
        },
        "yaxis": {
         "anchor": "x",
         "domain": [
          0,
          1
         ],
         "title": {
          "text": "percent"
         }
        }
       }
      },
      "text/html": [
       "<div>                            <div id=\"de52fc73-7765-4499-b08b-20a9fc29098a\" class=\"plotly-graph-div\" style=\"height:300px; width:800px;\"></div>            <script type=\"text/javascript\">                require([\"plotly\"], function(Plotly) {                    window.PLOTLYENV=window.PLOTLYENV || {};                                    if (document.getElementById(\"de52fc73-7765-4499-b08b-20a9fc29098a\")) {                    Plotly.newPlot(                        \"de52fc73-7765-4499-b08b-20a9fc29098a\",                        [{\"alignmentgroup\":\"True\",\"bingroup\":\"x\",\"histnorm\":\"percent\",\"hovertemplate\":\"pass_no=%{x}<br>percent=%{y}<extra></extra>\",\"legendgroup\":\"\",\"marker\":{\"color\":\"#636efa\",\"pattern\":{\"shape\":\"\"}},\"name\":\"\",\"nbinsx\":5,\"offsetgroup\":\"\",\"orientation\":\"v\",\"showlegend\":false,\"x\":[1,1,1,1,1,1,1,1,1,1,1,1,1,1,1,1,1,1,1,1,1,1,2,2,2,2,2,2,2,2,2,2,2,2,2,2,2,2,2,2,2,2,2,2,2,2,2,2,2,2,2,2,2,3,3,3,3,3,3,3,3,3,3,3,3,4,4,4,4,4,4,4,4,4,4,4,4,4,4,4,4,4,4,4,4,4,4,4,4,4,4,4,4,4,4,4,4,4,4,4,4,4,4,4,4,4,4,4,4,4,4,4,4,4,4],\"xaxis\":\"x\",\"yaxis\":\"y\",\"type\":\"histogram\"}],                        {\"template\":{\"data\":{\"histogram2dcontour\":[{\"type\":\"histogram2dcontour\",\"colorbar\":{\"outlinewidth\":0,\"ticks\":\"\"},\"colorscale\":[[0.0,\"#0d0887\"],[0.1111111111111111,\"#46039f\"],[0.2222222222222222,\"#7201a8\"],[0.3333333333333333,\"#9c179e\"],[0.4444444444444444,\"#bd3786\"],[0.5555555555555556,\"#d8576b\"],[0.6666666666666666,\"#ed7953\"],[0.7777777777777778,\"#fb9f3a\"],[0.8888888888888888,\"#fdca26\"],[1.0,\"#f0f921\"]]}],\"choropleth\":[{\"type\":\"choropleth\",\"colorbar\":{\"outlinewidth\":0,\"ticks\":\"\"}}],\"histogram2d\":[{\"type\":\"histogram2d\",\"colorbar\":{\"outlinewidth\":0,\"ticks\":\"\"},\"colorscale\":[[0.0,\"#0d0887\"],[0.1111111111111111,\"#46039f\"],[0.2222222222222222,\"#7201a8\"],[0.3333333333333333,\"#9c179e\"],[0.4444444444444444,\"#bd3786\"],[0.5555555555555556,\"#d8576b\"],[0.6666666666666666,\"#ed7953\"],[0.7777777777777778,\"#fb9f3a\"],[0.8888888888888888,\"#fdca26\"],[1.0,\"#f0f921\"]]}],\"heatmap\":[{\"type\":\"heatmap\",\"colorbar\":{\"outlinewidth\":0,\"ticks\":\"\"},\"colorscale\":[[0.0,\"#0d0887\"],[0.1111111111111111,\"#46039f\"],[0.2222222222222222,\"#7201a8\"],[0.3333333333333333,\"#9c179e\"],[0.4444444444444444,\"#bd3786\"],[0.5555555555555556,\"#d8576b\"],[0.6666666666666666,\"#ed7953\"],[0.7777777777777778,\"#fb9f3a\"],[0.8888888888888888,\"#fdca26\"],[1.0,\"#f0f921\"]]}],\"heatmapgl\":[{\"type\":\"heatmapgl\",\"colorbar\":{\"outlinewidth\":0,\"ticks\":\"\"},\"colorscale\":[[0.0,\"#0d0887\"],[0.1111111111111111,\"#46039f\"],[0.2222222222222222,\"#7201a8\"],[0.3333333333333333,\"#9c179e\"],[0.4444444444444444,\"#bd3786\"],[0.5555555555555556,\"#d8576b\"],[0.6666666666666666,\"#ed7953\"],[0.7777777777777778,\"#fb9f3a\"],[0.8888888888888888,\"#fdca26\"],[1.0,\"#f0f921\"]]}],\"contourcarpet\":[{\"type\":\"contourcarpet\",\"colorbar\":{\"outlinewidth\":0,\"ticks\":\"\"}}],\"contour\":[{\"type\":\"contour\",\"colorbar\":{\"outlinewidth\":0,\"ticks\":\"\"},\"colorscale\":[[0.0,\"#0d0887\"],[0.1111111111111111,\"#46039f\"],[0.2222222222222222,\"#7201a8\"],[0.3333333333333333,\"#9c179e\"],[0.4444444444444444,\"#bd3786\"],[0.5555555555555556,\"#d8576b\"],[0.6666666666666666,\"#ed7953\"],[0.7777777777777778,\"#fb9f3a\"],[0.8888888888888888,\"#fdca26\"],[1.0,\"#f0f921\"]]}],\"surface\":[{\"type\":\"surface\",\"colorbar\":{\"outlinewidth\":0,\"ticks\":\"\"},\"colorscale\":[[0.0,\"#0d0887\"],[0.1111111111111111,\"#46039f\"],[0.2222222222222222,\"#7201a8\"],[0.3333333333333333,\"#9c179e\"],[0.4444444444444444,\"#bd3786\"],[0.5555555555555556,\"#d8576b\"],[0.6666666666666666,\"#ed7953\"],[0.7777777777777778,\"#fb9f3a\"],[0.8888888888888888,\"#fdca26\"],[1.0,\"#f0f921\"]]}],\"mesh3d\":[{\"type\":\"mesh3d\",\"colorbar\":{\"outlinewidth\":0,\"ticks\":\"\"}}],\"scatter\":[{\"fillpattern\":{\"fillmode\":\"overlay\",\"size\":10,\"solidity\":0.2},\"type\":\"scatter\"}],\"parcoords\":[{\"type\":\"parcoords\",\"line\":{\"colorbar\":{\"outlinewidth\":0,\"ticks\":\"\"}}}],\"scatterpolargl\":[{\"type\":\"scatterpolargl\",\"marker\":{\"colorbar\":{\"outlinewidth\":0,\"ticks\":\"\"}}}],\"bar\":[{\"error_x\":{\"color\":\"#2a3f5f\"},\"error_y\":{\"color\":\"#2a3f5f\"},\"marker\":{\"line\":{\"color\":\"#E5ECF6\",\"width\":0.5},\"pattern\":{\"fillmode\":\"overlay\",\"size\":10,\"solidity\":0.2}},\"type\":\"bar\"}],\"scattergeo\":[{\"type\":\"scattergeo\",\"marker\":{\"colorbar\":{\"outlinewidth\":0,\"ticks\":\"\"}}}],\"scatterpolar\":[{\"type\":\"scatterpolar\",\"marker\":{\"colorbar\":{\"outlinewidth\":0,\"ticks\":\"\"}}}],\"histogram\":[{\"marker\":{\"pattern\":{\"fillmode\":\"overlay\",\"size\":10,\"solidity\":0.2}},\"type\":\"histogram\"}],\"scattergl\":[{\"type\":\"scattergl\",\"marker\":{\"colorbar\":{\"outlinewidth\":0,\"ticks\":\"\"}}}],\"scatter3d\":[{\"type\":\"scatter3d\",\"line\":{\"colorbar\":{\"outlinewidth\":0,\"ticks\":\"\"}},\"marker\":{\"colorbar\":{\"outlinewidth\":0,\"ticks\":\"\"}}}],\"scattermapbox\":[{\"type\":\"scattermapbox\",\"marker\":{\"colorbar\":{\"outlinewidth\":0,\"ticks\":\"\"}}}],\"scatterternary\":[{\"type\":\"scatterternary\",\"marker\":{\"colorbar\":{\"outlinewidth\":0,\"ticks\":\"\"}}}],\"scattercarpet\":[{\"type\":\"scattercarpet\",\"marker\":{\"colorbar\":{\"outlinewidth\":0,\"ticks\":\"\"}}}],\"carpet\":[{\"aaxis\":{\"endlinecolor\":\"#2a3f5f\",\"gridcolor\":\"white\",\"linecolor\":\"white\",\"minorgridcolor\":\"white\",\"startlinecolor\":\"#2a3f5f\"},\"baxis\":{\"endlinecolor\":\"#2a3f5f\",\"gridcolor\":\"white\",\"linecolor\":\"white\",\"minorgridcolor\":\"white\",\"startlinecolor\":\"#2a3f5f\"},\"type\":\"carpet\"}],\"table\":[{\"cells\":{\"fill\":{\"color\":\"#EBF0F8\"},\"line\":{\"color\":\"white\"}},\"header\":{\"fill\":{\"color\":\"#C8D4E3\"},\"line\":{\"color\":\"white\"}},\"type\":\"table\"}],\"barpolar\":[{\"marker\":{\"line\":{\"color\":\"#E5ECF6\",\"width\":0.5},\"pattern\":{\"fillmode\":\"overlay\",\"size\":10,\"solidity\":0.2}},\"type\":\"barpolar\"}],\"pie\":[{\"automargin\":true,\"type\":\"pie\"}]},\"layout\":{\"autotypenumbers\":\"strict\",\"colorway\":[\"#636efa\",\"#EF553B\",\"#00cc96\",\"#ab63fa\",\"#FFA15A\",\"#19d3f3\",\"#FF6692\",\"#B6E880\",\"#FF97FF\",\"#FECB52\"],\"font\":{\"color\":\"#2a3f5f\"},\"hovermode\":\"closest\",\"hoverlabel\":{\"align\":\"left\"},\"paper_bgcolor\":\"white\",\"plot_bgcolor\":\"#E5ECF6\",\"polar\":{\"bgcolor\":\"#E5ECF6\",\"angularaxis\":{\"gridcolor\":\"white\",\"linecolor\":\"white\",\"ticks\":\"\"},\"radialaxis\":{\"gridcolor\":\"white\",\"linecolor\":\"white\",\"ticks\":\"\"}},\"ternary\":{\"bgcolor\":\"#E5ECF6\",\"aaxis\":{\"gridcolor\":\"white\",\"linecolor\":\"white\",\"ticks\":\"\"},\"baxis\":{\"gridcolor\":\"white\",\"linecolor\":\"white\",\"ticks\":\"\"},\"caxis\":{\"gridcolor\":\"white\",\"linecolor\":\"white\",\"ticks\":\"\"}},\"coloraxis\":{\"colorbar\":{\"outlinewidth\":0,\"ticks\":\"\"}},\"colorscale\":{\"sequential\":[[0.0,\"#0d0887\"],[0.1111111111111111,\"#46039f\"],[0.2222222222222222,\"#7201a8\"],[0.3333333333333333,\"#9c179e\"],[0.4444444444444444,\"#bd3786\"],[0.5555555555555556,\"#d8576b\"],[0.6666666666666666,\"#ed7953\"],[0.7777777777777778,\"#fb9f3a\"],[0.8888888888888888,\"#fdca26\"],[1.0,\"#f0f921\"]],\"sequentialminus\":[[0.0,\"#0d0887\"],[0.1111111111111111,\"#46039f\"],[0.2222222222222222,\"#7201a8\"],[0.3333333333333333,\"#9c179e\"],[0.4444444444444444,\"#bd3786\"],[0.5555555555555556,\"#d8576b\"],[0.6666666666666666,\"#ed7953\"],[0.7777777777777778,\"#fb9f3a\"],[0.8888888888888888,\"#fdca26\"],[1.0,\"#f0f921\"]],\"diverging\":[[0,\"#8e0152\"],[0.1,\"#c51b7d\"],[0.2,\"#de77ae\"],[0.3,\"#f1b6da\"],[0.4,\"#fde0ef\"],[0.5,\"#f7f7f7\"],[0.6,\"#e6f5d0\"],[0.7,\"#b8e186\"],[0.8,\"#7fbc41\"],[0.9,\"#4d9221\"],[1,\"#276419\"]]},\"xaxis\":{\"gridcolor\":\"white\",\"linecolor\":\"white\",\"ticks\":\"\",\"title\":{\"standoff\":15},\"zerolinecolor\":\"white\",\"automargin\":true,\"zerolinewidth\":2},\"yaxis\":{\"gridcolor\":\"white\",\"linecolor\":\"white\",\"ticks\":\"\",\"title\":{\"standoff\":15},\"zerolinecolor\":\"white\",\"automargin\":true,\"zerolinewidth\":2},\"scene\":{\"xaxis\":{\"backgroundcolor\":\"#E5ECF6\",\"gridcolor\":\"white\",\"linecolor\":\"white\",\"showbackground\":true,\"ticks\":\"\",\"zerolinecolor\":\"white\",\"gridwidth\":2},\"yaxis\":{\"backgroundcolor\":\"#E5ECF6\",\"gridcolor\":\"white\",\"linecolor\":\"white\",\"showbackground\":true,\"ticks\":\"\",\"zerolinecolor\":\"white\",\"gridwidth\":2},\"zaxis\":{\"backgroundcolor\":\"#E5ECF6\",\"gridcolor\":\"white\",\"linecolor\":\"white\",\"showbackground\":true,\"ticks\":\"\",\"zerolinecolor\":\"white\",\"gridwidth\":2}},\"shapedefaults\":{\"line\":{\"color\":\"#2a3f5f\"}},\"annotationdefaults\":{\"arrowcolor\":\"#2a3f5f\",\"arrowhead\":0,\"arrowwidth\":1},\"geo\":{\"bgcolor\":\"white\",\"landcolor\":\"#E5ECF6\",\"subunitcolor\":\"white\",\"showland\":true,\"showlakes\":true,\"lakecolor\":\"white\"},\"title\":{\"x\":0.05},\"mapbox\":{\"style\":\"light\"}}},\"xaxis\":{\"anchor\":\"y\",\"domain\":[0.0,1.0],\"title\":{\"text\":\"pass_no\"}},\"yaxis\":{\"anchor\":\"x\",\"domain\":[0.0,1.0],\"title\":{\"text\":\"percent\"}},\"legend\":{\"tracegroupgap\":0},\"title\":{\"text\":\"Distribution of passes in cluster 3 using GMM in shawnee_location_2\"},\"barmode\":\"relative\",\"height\":300,\"width\":800},                        {\"responsive\": true}                    ).then(function(){\n",
       "                            \n",
       "var gd = document.getElementById('de52fc73-7765-4499-b08b-20a9fc29098a');\n",
       "var x = new MutationObserver(function (mutations, observer) {{\n",
       "        var display = window.getComputedStyle(gd).display;\n",
       "        if (!display || display === 'none') {{\n",
       "            console.log([gd, 'removed!']);\n",
       "            Plotly.purge(gd);\n",
       "            observer.disconnect();\n",
       "        }}\n",
       "}});\n",
       "\n",
       "// Listen for the removal of the full notebook cells\n",
       "var notebookContainer = gd.closest('#notebook-container');\n",
       "if (notebookContainer) {{\n",
       "    x.observe(notebookContainer, {childList: true});\n",
       "}}\n",
       "\n",
       "// Listen for the clearing of the current output cell\n",
       "var outputEl = gd.closest('.output');\n",
       "if (outputEl) {{\n",
       "    x.observe(outputEl, {childList: true});\n",
       "}}\n",
       "\n",
       "                        })                };                });            </script>        </div>"
      ]
     },
     "metadata": {},
     "output_type": "display_data"
    },
    {
     "data": {
      "application/vnd.plotly.v1+json": {
       "config": {
        "plotlyServerURL": "https://plot.ly"
       },
       "data": [
        {
         "alignmentgroup": "True",
         "bingroup": "x",
         "histnorm": "percent",
         "hovertemplate": "pass_no=%{x}<br>percent=%{y}<extra></extra>",
         "legendgroup": "",
         "marker": {
          "color": "#636efa",
          "pattern": {
           "shape": ""
          }
         },
         "name": "",
         "nbinsx": 5,
         "offsetgroup": "",
         "orientation": "v",
         "showlegend": false,
         "type": "histogram",
         "x": [
          1,
          1,
          1,
          1,
          1,
          1,
          1,
          2,
          2,
          2,
          2,
          2,
          2,
          2,
          2,
          2,
          2,
          2,
          2,
          2,
          2,
          2,
          2,
          2,
          2,
          2,
          2,
          2,
          2,
          2,
          2,
          2,
          2,
          2,
          2,
          2,
          2,
          2,
          2,
          2,
          3,
          3,
          3,
          3,
          3,
          3,
          3,
          3,
          3,
          3,
          3,
          3,
          3,
          3,
          3,
          3,
          3,
          3,
          3,
          3,
          3,
          3,
          4,
          4,
          4,
          4,
          4,
          4,
          4,
          4,
          4,
          4,
          4,
          4,
          4,
          4,
          4,
          4,
          4,
          4,
          4,
          4,
          4,
          4,
          4,
          4,
          4,
          4,
          4,
          4,
          4,
          4,
          4,
          4,
          4,
          4,
          4,
          4,
          4,
          4,
          4,
          4,
          4,
          4,
          4,
          4,
          4,
          4,
          4,
          4,
          4,
          4,
          4,
          4,
          4,
          4,
          4,
          4,
          4,
          4,
          4,
          4,
          4,
          4,
          4,
          4,
          4,
          4
         ],
         "xaxis": "x",
         "yaxis": "y"
        }
       ],
       "layout": {
        "barmode": "relative",
        "height": 300,
        "legend": {
         "tracegroupgap": 0
        },
        "template": {
         "data": {
          "bar": [
           {
            "error_x": {
             "color": "#2a3f5f"
            },
            "error_y": {
             "color": "#2a3f5f"
            },
            "marker": {
             "line": {
              "color": "#E5ECF6",
              "width": 0.5
             },
             "pattern": {
              "fillmode": "overlay",
              "size": 10,
              "solidity": 0.2
             }
            },
            "type": "bar"
           }
          ],
          "barpolar": [
           {
            "marker": {
             "line": {
              "color": "#E5ECF6",
              "width": 0.5
             },
             "pattern": {
              "fillmode": "overlay",
              "size": 10,
              "solidity": 0.2
             }
            },
            "type": "barpolar"
           }
          ],
          "carpet": [
           {
            "aaxis": {
             "endlinecolor": "#2a3f5f",
             "gridcolor": "white",
             "linecolor": "white",
             "minorgridcolor": "white",
             "startlinecolor": "#2a3f5f"
            },
            "baxis": {
             "endlinecolor": "#2a3f5f",
             "gridcolor": "white",
             "linecolor": "white",
             "minorgridcolor": "white",
             "startlinecolor": "#2a3f5f"
            },
            "type": "carpet"
           }
          ],
          "choropleth": [
           {
            "colorbar": {
             "outlinewidth": 0,
             "ticks": ""
            },
            "type": "choropleth"
           }
          ],
          "contour": [
           {
            "colorbar": {
             "outlinewidth": 0,
             "ticks": ""
            },
            "colorscale": [
             [
              0,
              "#0d0887"
             ],
             [
              0.1111111111111111,
              "#46039f"
             ],
             [
              0.2222222222222222,
              "#7201a8"
             ],
             [
              0.3333333333333333,
              "#9c179e"
             ],
             [
              0.4444444444444444,
              "#bd3786"
             ],
             [
              0.5555555555555556,
              "#d8576b"
             ],
             [
              0.6666666666666666,
              "#ed7953"
             ],
             [
              0.7777777777777778,
              "#fb9f3a"
             ],
             [
              0.8888888888888888,
              "#fdca26"
             ],
             [
              1,
              "#f0f921"
             ]
            ],
            "type": "contour"
           }
          ],
          "contourcarpet": [
           {
            "colorbar": {
             "outlinewidth": 0,
             "ticks": ""
            },
            "type": "contourcarpet"
           }
          ],
          "heatmap": [
           {
            "colorbar": {
             "outlinewidth": 0,
             "ticks": ""
            },
            "colorscale": [
             [
              0,
              "#0d0887"
             ],
             [
              0.1111111111111111,
              "#46039f"
             ],
             [
              0.2222222222222222,
              "#7201a8"
             ],
             [
              0.3333333333333333,
              "#9c179e"
             ],
             [
              0.4444444444444444,
              "#bd3786"
             ],
             [
              0.5555555555555556,
              "#d8576b"
             ],
             [
              0.6666666666666666,
              "#ed7953"
             ],
             [
              0.7777777777777778,
              "#fb9f3a"
             ],
             [
              0.8888888888888888,
              "#fdca26"
             ],
             [
              1,
              "#f0f921"
             ]
            ],
            "type": "heatmap"
           }
          ],
          "heatmapgl": [
           {
            "colorbar": {
             "outlinewidth": 0,
             "ticks": ""
            },
            "colorscale": [
             [
              0,
              "#0d0887"
             ],
             [
              0.1111111111111111,
              "#46039f"
             ],
             [
              0.2222222222222222,
              "#7201a8"
             ],
             [
              0.3333333333333333,
              "#9c179e"
             ],
             [
              0.4444444444444444,
              "#bd3786"
             ],
             [
              0.5555555555555556,
              "#d8576b"
             ],
             [
              0.6666666666666666,
              "#ed7953"
             ],
             [
              0.7777777777777778,
              "#fb9f3a"
             ],
             [
              0.8888888888888888,
              "#fdca26"
             ],
             [
              1,
              "#f0f921"
             ]
            ],
            "type": "heatmapgl"
           }
          ],
          "histogram": [
           {
            "marker": {
             "pattern": {
              "fillmode": "overlay",
              "size": 10,
              "solidity": 0.2
             }
            },
            "type": "histogram"
           }
          ],
          "histogram2d": [
           {
            "colorbar": {
             "outlinewidth": 0,
             "ticks": ""
            },
            "colorscale": [
             [
              0,
              "#0d0887"
             ],
             [
              0.1111111111111111,
              "#46039f"
             ],
             [
              0.2222222222222222,
              "#7201a8"
             ],
             [
              0.3333333333333333,
              "#9c179e"
             ],
             [
              0.4444444444444444,
              "#bd3786"
             ],
             [
              0.5555555555555556,
              "#d8576b"
             ],
             [
              0.6666666666666666,
              "#ed7953"
             ],
             [
              0.7777777777777778,
              "#fb9f3a"
             ],
             [
              0.8888888888888888,
              "#fdca26"
             ],
             [
              1,
              "#f0f921"
             ]
            ],
            "type": "histogram2d"
           }
          ],
          "histogram2dcontour": [
           {
            "colorbar": {
             "outlinewidth": 0,
             "ticks": ""
            },
            "colorscale": [
             [
              0,
              "#0d0887"
             ],
             [
              0.1111111111111111,
              "#46039f"
             ],
             [
              0.2222222222222222,
              "#7201a8"
             ],
             [
              0.3333333333333333,
              "#9c179e"
             ],
             [
              0.4444444444444444,
              "#bd3786"
             ],
             [
              0.5555555555555556,
              "#d8576b"
             ],
             [
              0.6666666666666666,
              "#ed7953"
             ],
             [
              0.7777777777777778,
              "#fb9f3a"
             ],
             [
              0.8888888888888888,
              "#fdca26"
             ],
             [
              1,
              "#f0f921"
             ]
            ],
            "type": "histogram2dcontour"
           }
          ],
          "mesh3d": [
           {
            "colorbar": {
             "outlinewidth": 0,
             "ticks": ""
            },
            "type": "mesh3d"
           }
          ],
          "parcoords": [
           {
            "line": {
             "colorbar": {
              "outlinewidth": 0,
              "ticks": ""
             }
            },
            "type": "parcoords"
           }
          ],
          "pie": [
           {
            "automargin": true,
            "type": "pie"
           }
          ],
          "scatter": [
           {
            "fillpattern": {
             "fillmode": "overlay",
             "size": 10,
             "solidity": 0.2
            },
            "type": "scatter"
           }
          ],
          "scatter3d": [
           {
            "line": {
             "colorbar": {
              "outlinewidth": 0,
              "ticks": ""
             }
            },
            "marker": {
             "colorbar": {
              "outlinewidth": 0,
              "ticks": ""
             }
            },
            "type": "scatter3d"
           }
          ],
          "scattercarpet": [
           {
            "marker": {
             "colorbar": {
              "outlinewidth": 0,
              "ticks": ""
             }
            },
            "type": "scattercarpet"
           }
          ],
          "scattergeo": [
           {
            "marker": {
             "colorbar": {
              "outlinewidth": 0,
              "ticks": ""
             }
            },
            "type": "scattergeo"
           }
          ],
          "scattergl": [
           {
            "marker": {
             "colorbar": {
              "outlinewidth": 0,
              "ticks": ""
             }
            },
            "type": "scattergl"
           }
          ],
          "scattermapbox": [
           {
            "marker": {
             "colorbar": {
              "outlinewidth": 0,
              "ticks": ""
             }
            },
            "type": "scattermapbox"
           }
          ],
          "scatterpolar": [
           {
            "marker": {
             "colorbar": {
              "outlinewidth": 0,
              "ticks": ""
             }
            },
            "type": "scatterpolar"
           }
          ],
          "scatterpolargl": [
           {
            "marker": {
             "colorbar": {
              "outlinewidth": 0,
              "ticks": ""
             }
            },
            "type": "scatterpolargl"
           }
          ],
          "scatterternary": [
           {
            "marker": {
             "colorbar": {
              "outlinewidth": 0,
              "ticks": ""
             }
            },
            "type": "scatterternary"
           }
          ],
          "surface": [
           {
            "colorbar": {
             "outlinewidth": 0,
             "ticks": ""
            },
            "colorscale": [
             [
              0,
              "#0d0887"
             ],
             [
              0.1111111111111111,
              "#46039f"
             ],
             [
              0.2222222222222222,
              "#7201a8"
             ],
             [
              0.3333333333333333,
              "#9c179e"
             ],
             [
              0.4444444444444444,
              "#bd3786"
             ],
             [
              0.5555555555555556,
              "#d8576b"
             ],
             [
              0.6666666666666666,
              "#ed7953"
             ],
             [
              0.7777777777777778,
              "#fb9f3a"
             ],
             [
              0.8888888888888888,
              "#fdca26"
             ],
             [
              1,
              "#f0f921"
             ]
            ],
            "type": "surface"
           }
          ],
          "table": [
           {
            "cells": {
             "fill": {
              "color": "#EBF0F8"
             },
             "line": {
              "color": "white"
             }
            },
            "header": {
             "fill": {
              "color": "#C8D4E3"
             },
             "line": {
              "color": "white"
             }
            },
            "type": "table"
           }
          ]
         },
         "layout": {
          "annotationdefaults": {
           "arrowcolor": "#2a3f5f",
           "arrowhead": 0,
           "arrowwidth": 1
          },
          "autotypenumbers": "strict",
          "coloraxis": {
           "colorbar": {
            "outlinewidth": 0,
            "ticks": ""
           }
          },
          "colorscale": {
           "diverging": [
            [
             0,
             "#8e0152"
            ],
            [
             0.1,
             "#c51b7d"
            ],
            [
             0.2,
             "#de77ae"
            ],
            [
             0.3,
             "#f1b6da"
            ],
            [
             0.4,
             "#fde0ef"
            ],
            [
             0.5,
             "#f7f7f7"
            ],
            [
             0.6,
             "#e6f5d0"
            ],
            [
             0.7,
             "#b8e186"
            ],
            [
             0.8,
             "#7fbc41"
            ],
            [
             0.9,
             "#4d9221"
            ],
            [
             1,
             "#276419"
            ]
           ],
           "sequential": [
            [
             0,
             "#0d0887"
            ],
            [
             0.1111111111111111,
             "#46039f"
            ],
            [
             0.2222222222222222,
             "#7201a8"
            ],
            [
             0.3333333333333333,
             "#9c179e"
            ],
            [
             0.4444444444444444,
             "#bd3786"
            ],
            [
             0.5555555555555556,
             "#d8576b"
            ],
            [
             0.6666666666666666,
             "#ed7953"
            ],
            [
             0.7777777777777778,
             "#fb9f3a"
            ],
            [
             0.8888888888888888,
             "#fdca26"
            ],
            [
             1,
             "#f0f921"
            ]
           ],
           "sequentialminus": [
            [
             0,
             "#0d0887"
            ],
            [
             0.1111111111111111,
             "#46039f"
            ],
            [
             0.2222222222222222,
             "#7201a8"
            ],
            [
             0.3333333333333333,
             "#9c179e"
            ],
            [
             0.4444444444444444,
             "#bd3786"
            ],
            [
             0.5555555555555556,
             "#d8576b"
            ],
            [
             0.6666666666666666,
             "#ed7953"
            ],
            [
             0.7777777777777778,
             "#fb9f3a"
            ],
            [
             0.8888888888888888,
             "#fdca26"
            ],
            [
             1,
             "#f0f921"
            ]
           ]
          },
          "colorway": [
           "#636efa",
           "#EF553B",
           "#00cc96",
           "#ab63fa",
           "#FFA15A",
           "#19d3f3",
           "#FF6692",
           "#B6E880",
           "#FF97FF",
           "#FECB52"
          ],
          "font": {
           "color": "#2a3f5f"
          },
          "geo": {
           "bgcolor": "white",
           "lakecolor": "white",
           "landcolor": "#E5ECF6",
           "showlakes": true,
           "showland": true,
           "subunitcolor": "white"
          },
          "hoverlabel": {
           "align": "left"
          },
          "hovermode": "closest",
          "mapbox": {
           "style": "light"
          },
          "paper_bgcolor": "white",
          "plot_bgcolor": "#E5ECF6",
          "polar": {
           "angularaxis": {
            "gridcolor": "white",
            "linecolor": "white",
            "ticks": ""
           },
           "bgcolor": "#E5ECF6",
           "radialaxis": {
            "gridcolor": "white",
            "linecolor": "white",
            "ticks": ""
           }
          },
          "scene": {
           "xaxis": {
            "backgroundcolor": "#E5ECF6",
            "gridcolor": "white",
            "gridwidth": 2,
            "linecolor": "white",
            "showbackground": true,
            "ticks": "",
            "zerolinecolor": "white"
           },
           "yaxis": {
            "backgroundcolor": "#E5ECF6",
            "gridcolor": "white",
            "gridwidth": 2,
            "linecolor": "white",
            "showbackground": true,
            "ticks": "",
            "zerolinecolor": "white"
           },
           "zaxis": {
            "backgroundcolor": "#E5ECF6",
            "gridcolor": "white",
            "gridwidth": 2,
            "linecolor": "white",
            "showbackground": true,
            "ticks": "",
            "zerolinecolor": "white"
           }
          },
          "shapedefaults": {
           "line": {
            "color": "#2a3f5f"
           }
          },
          "ternary": {
           "aaxis": {
            "gridcolor": "white",
            "linecolor": "white",
            "ticks": ""
           },
           "baxis": {
            "gridcolor": "white",
            "linecolor": "white",
            "ticks": ""
           },
           "bgcolor": "#E5ECF6",
           "caxis": {
            "gridcolor": "white",
            "linecolor": "white",
            "ticks": ""
           }
          },
          "title": {
           "x": 0.05
          },
          "xaxis": {
           "automargin": true,
           "gridcolor": "white",
           "linecolor": "white",
           "ticks": "",
           "title": {
            "standoff": 15
           },
           "zerolinecolor": "white",
           "zerolinewidth": 2
          },
          "yaxis": {
           "automargin": true,
           "gridcolor": "white",
           "linecolor": "white",
           "ticks": "",
           "title": {
            "standoff": 15
           },
           "zerolinecolor": "white",
           "zerolinewidth": 2
          }
         }
        },
        "title": {
         "text": "Distribution of passes in cluster 4 using GMM in shawnee_location_2"
        },
        "width": 800,
        "xaxis": {
         "anchor": "y",
         "domain": [
          0,
          1
         ],
         "title": {
          "text": "pass_no"
         }
        },
        "yaxis": {
         "anchor": "x",
         "domain": [
          0,
          1
         ],
         "title": {
          "text": "percent"
         }
        }
       }
      },
      "text/html": [
       "<div>                            <div id=\"37f2fdb4-ddde-43d0-94ed-cb59873ddebc\" class=\"plotly-graph-div\" style=\"height:300px; width:800px;\"></div>            <script type=\"text/javascript\">                require([\"plotly\"], function(Plotly) {                    window.PLOTLYENV=window.PLOTLYENV || {};                                    if (document.getElementById(\"37f2fdb4-ddde-43d0-94ed-cb59873ddebc\")) {                    Plotly.newPlot(                        \"37f2fdb4-ddde-43d0-94ed-cb59873ddebc\",                        [{\"alignmentgroup\":\"True\",\"bingroup\":\"x\",\"histnorm\":\"percent\",\"hovertemplate\":\"pass_no=%{x}<br>percent=%{y}<extra></extra>\",\"legendgroup\":\"\",\"marker\":{\"color\":\"#636efa\",\"pattern\":{\"shape\":\"\"}},\"name\":\"\",\"nbinsx\":5,\"offsetgroup\":\"\",\"orientation\":\"v\",\"showlegend\":false,\"x\":[1,1,1,1,1,1,1,2,2,2,2,2,2,2,2,2,2,2,2,2,2,2,2,2,2,2,2,2,2,2,2,2,2,2,2,2,2,2,2,2,3,3,3,3,3,3,3,3,3,3,3,3,3,3,3,3,3,3,3,3,3,3,4,4,4,4,4,4,4,4,4,4,4,4,4,4,4,4,4,4,4,4,4,4,4,4,4,4,4,4,4,4,4,4,4,4,4,4,4,4,4,4,4,4,4,4,4,4,4,4,4,4,4,4,4,4,4,4,4,4,4,4,4,4,4,4,4,4],\"xaxis\":\"x\",\"yaxis\":\"y\",\"type\":\"histogram\"}],                        {\"template\":{\"data\":{\"histogram2dcontour\":[{\"type\":\"histogram2dcontour\",\"colorbar\":{\"outlinewidth\":0,\"ticks\":\"\"},\"colorscale\":[[0.0,\"#0d0887\"],[0.1111111111111111,\"#46039f\"],[0.2222222222222222,\"#7201a8\"],[0.3333333333333333,\"#9c179e\"],[0.4444444444444444,\"#bd3786\"],[0.5555555555555556,\"#d8576b\"],[0.6666666666666666,\"#ed7953\"],[0.7777777777777778,\"#fb9f3a\"],[0.8888888888888888,\"#fdca26\"],[1.0,\"#f0f921\"]]}],\"choropleth\":[{\"type\":\"choropleth\",\"colorbar\":{\"outlinewidth\":0,\"ticks\":\"\"}}],\"histogram2d\":[{\"type\":\"histogram2d\",\"colorbar\":{\"outlinewidth\":0,\"ticks\":\"\"},\"colorscale\":[[0.0,\"#0d0887\"],[0.1111111111111111,\"#46039f\"],[0.2222222222222222,\"#7201a8\"],[0.3333333333333333,\"#9c179e\"],[0.4444444444444444,\"#bd3786\"],[0.5555555555555556,\"#d8576b\"],[0.6666666666666666,\"#ed7953\"],[0.7777777777777778,\"#fb9f3a\"],[0.8888888888888888,\"#fdca26\"],[1.0,\"#f0f921\"]]}],\"heatmap\":[{\"type\":\"heatmap\",\"colorbar\":{\"outlinewidth\":0,\"ticks\":\"\"},\"colorscale\":[[0.0,\"#0d0887\"],[0.1111111111111111,\"#46039f\"],[0.2222222222222222,\"#7201a8\"],[0.3333333333333333,\"#9c179e\"],[0.4444444444444444,\"#bd3786\"],[0.5555555555555556,\"#d8576b\"],[0.6666666666666666,\"#ed7953\"],[0.7777777777777778,\"#fb9f3a\"],[0.8888888888888888,\"#fdca26\"],[1.0,\"#f0f921\"]]}],\"heatmapgl\":[{\"type\":\"heatmapgl\",\"colorbar\":{\"outlinewidth\":0,\"ticks\":\"\"},\"colorscale\":[[0.0,\"#0d0887\"],[0.1111111111111111,\"#46039f\"],[0.2222222222222222,\"#7201a8\"],[0.3333333333333333,\"#9c179e\"],[0.4444444444444444,\"#bd3786\"],[0.5555555555555556,\"#d8576b\"],[0.6666666666666666,\"#ed7953\"],[0.7777777777777778,\"#fb9f3a\"],[0.8888888888888888,\"#fdca26\"],[1.0,\"#f0f921\"]]}],\"contourcarpet\":[{\"type\":\"contourcarpet\",\"colorbar\":{\"outlinewidth\":0,\"ticks\":\"\"}}],\"contour\":[{\"type\":\"contour\",\"colorbar\":{\"outlinewidth\":0,\"ticks\":\"\"},\"colorscale\":[[0.0,\"#0d0887\"],[0.1111111111111111,\"#46039f\"],[0.2222222222222222,\"#7201a8\"],[0.3333333333333333,\"#9c179e\"],[0.4444444444444444,\"#bd3786\"],[0.5555555555555556,\"#d8576b\"],[0.6666666666666666,\"#ed7953\"],[0.7777777777777778,\"#fb9f3a\"],[0.8888888888888888,\"#fdca26\"],[1.0,\"#f0f921\"]]}],\"surface\":[{\"type\":\"surface\",\"colorbar\":{\"outlinewidth\":0,\"ticks\":\"\"},\"colorscale\":[[0.0,\"#0d0887\"],[0.1111111111111111,\"#46039f\"],[0.2222222222222222,\"#7201a8\"],[0.3333333333333333,\"#9c179e\"],[0.4444444444444444,\"#bd3786\"],[0.5555555555555556,\"#d8576b\"],[0.6666666666666666,\"#ed7953\"],[0.7777777777777778,\"#fb9f3a\"],[0.8888888888888888,\"#fdca26\"],[1.0,\"#f0f921\"]]}],\"mesh3d\":[{\"type\":\"mesh3d\",\"colorbar\":{\"outlinewidth\":0,\"ticks\":\"\"}}],\"scatter\":[{\"fillpattern\":{\"fillmode\":\"overlay\",\"size\":10,\"solidity\":0.2},\"type\":\"scatter\"}],\"parcoords\":[{\"type\":\"parcoords\",\"line\":{\"colorbar\":{\"outlinewidth\":0,\"ticks\":\"\"}}}],\"scatterpolargl\":[{\"type\":\"scatterpolargl\",\"marker\":{\"colorbar\":{\"outlinewidth\":0,\"ticks\":\"\"}}}],\"bar\":[{\"error_x\":{\"color\":\"#2a3f5f\"},\"error_y\":{\"color\":\"#2a3f5f\"},\"marker\":{\"line\":{\"color\":\"#E5ECF6\",\"width\":0.5},\"pattern\":{\"fillmode\":\"overlay\",\"size\":10,\"solidity\":0.2}},\"type\":\"bar\"}],\"scattergeo\":[{\"type\":\"scattergeo\",\"marker\":{\"colorbar\":{\"outlinewidth\":0,\"ticks\":\"\"}}}],\"scatterpolar\":[{\"type\":\"scatterpolar\",\"marker\":{\"colorbar\":{\"outlinewidth\":0,\"ticks\":\"\"}}}],\"histogram\":[{\"marker\":{\"pattern\":{\"fillmode\":\"overlay\",\"size\":10,\"solidity\":0.2}},\"type\":\"histogram\"}],\"scattergl\":[{\"type\":\"scattergl\",\"marker\":{\"colorbar\":{\"outlinewidth\":0,\"ticks\":\"\"}}}],\"scatter3d\":[{\"type\":\"scatter3d\",\"line\":{\"colorbar\":{\"outlinewidth\":0,\"ticks\":\"\"}},\"marker\":{\"colorbar\":{\"outlinewidth\":0,\"ticks\":\"\"}}}],\"scattermapbox\":[{\"type\":\"scattermapbox\",\"marker\":{\"colorbar\":{\"outlinewidth\":0,\"ticks\":\"\"}}}],\"scatterternary\":[{\"type\":\"scatterternary\",\"marker\":{\"colorbar\":{\"outlinewidth\":0,\"ticks\":\"\"}}}],\"scattercarpet\":[{\"type\":\"scattercarpet\",\"marker\":{\"colorbar\":{\"outlinewidth\":0,\"ticks\":\"\"}}}],\"carpet\":[{\"aaxis\":{\"endlinecolor\":\"#2a3f5f\",\"gridcolor\":\"white\",\"linecolor\":\"white\",\"minorgridcolor\":\"white\",\"startlinecolor\":\"#2a3f5f\"},\"baxis\":{\"endlinecolor\":\"#2a3f5f\",\"gridcolor\":\"white\",\"linecolor\":\"white\",\"minorgridcolor\":\"white\",\"startlinecolor\":\"#2a3f5f\"},\"type\":\"carpet\"}],\"table\":[{\"cells\":{\"fill\":{\"color\":\"#EBF0F8\"},\"line\":{\"color\":\"white\"}},\"header\":{\"fill\":{\"color\":\"#C8D4E3\"},\"line\":{\"color\":\"white\"}},\"type\":\"table\"}],\"barpolar\":[{\"marker\":{\"line\":{\"color\":\"#E5ECF6\",\"width\":0.5},\"pattern\":{\"fillmode\":\"overlay\",\"size\":10,\"solidity\":0.2}},\"type\":\"barpolar\"}],\"pie\":[{\"automargin\":true,\"type\":\"pie\"}]},\"layout\":{\"autotypenumbers\":\"strict\",\"colorway\":[\"#636efa\",\"#EF553B\",\"#00cc96\",\"#ab63fa\",\"#FFA15A\",\"#19d3f3\",\"#FF6692\",\"#B6E880\",\"#FF97FF\",\"#FECB52\"],\"font\":{\"color\":\"#2a3f5f\"},\"hovermode\":\"closest\",\"hoverlabel\":{\"align\":\"left\"},\"paper_bgcolor\":\"white\",\"plot_bgcolor\":\"#E5ECF6\",\"polar\":{\"bgcolor\":\"#E5ECF6\",\"angularaxis\":{\"gridcolor\":\"white\",\"linecolor\":\"white\",\"ticks\":\"\"},\"radialaxis\":{\"gridcolor\":\"white\",\"linecolor\":\"white\",\"ticks\":\"\"}},\"ternary\":{\"bgcolor\":\"#E5ECF6\",\"aaxis\":{\"gridcolor\":\"white\",\"linecolor\":\"white\",\"ticks\":\"\"},\"baxis\":{\"gridcolor\":\"white\",\"linecolor\":\"white\",\"ticks\":\"\"},\"caxis\":{\"gridcolor\":\"white\",\"linecolor\":\"white\",\"ticks\":\"\"}},\"coloraxis\":{\"colorbar\":{\"outlinewidth\":0,\"ticks\":\"\"}},\"colorscale\":{\"sequential\":[[0.0,\"#0d0887\"],[0.1111111111111111,\"#46039f\"],[0.2222222222222222,\"#7201a8\"],[0.3333333333333333,\"#9c179e\"],[0.4444444444444444,\"#bd3786\"],[0.5555555555555556,\"#d8576b\"],[0.6666666666666666,\"#ed7953\"],[0.7777777777777778,\"#fb9f3a\"],[0.8888888888888888,\"#fdca26\"],[1.0,\"#f0f921\"]],\"sequentialminus\":[[0.0,\"#0d0887\"],[0.1111111111111111,\"#46039f\"],[0.2222222222222222,\"#7201a8\"],[0.3333333333333333,\"#9c179e\"],[0.4444444444444444,\"#bd3786\"],[0.5555555555555556,\"#d8576b\"],[0.6666666666666666,\"#ed7953\"],[0.7777777777777778,\"#fb9f3a\"],[0.8888888888888888,\"#fdca26\"],[1.0,\"#f0f921\"]],\"diverging\":[[0,\"#8e0152\"],[0.1,\"#c51b7d\"],[0.2,\"#de77ae\"],[0.3,\"#f1b6da\"],[0.4,\"#fde0ef\"],[0.5,\"#f7f7f7\"],[0.6,\"#e6f5d0\"],[0.7,\"#b8e186\"],[0.8,\"#7fbc41\"],[0.9,\"#4d9221\"],[1,\"#276419\"]]},\"xaxis\":{\"gridcolor\":\"white\",\"linecolor\":\"white\",\"ticks\":\"\",\"title\":{\"standoff\":15},\"zerolinecolor\":\"white\",\"automargin\":true,\"zerolinewidth\":2},\"yaxis\":{\"gridcolor\":\"white\",\"linecolor\":\"white\",\"ticks\":\"\",\"title\":{\"standoff\":15},\"zerolinecolor\":\"white\",\"automargin\":true,\"zerolinewidth\":2},\"scene\":{\"xaxis\":{\"backgroundcolor\":\"#E5ECF6\",\"gridcolor\":\"white\",\"linecolor\":\"white\",\"showbackground\":true,\"ticks\":\"\",\"zerolinecolor\":\"white\",\"gridwidth\":2},\"yaxis\":{\"backgroundcolor\":\"#E5ECF6\",\"gridcolor\":\"white\",\"linecolor\":\"white\",\"showbackground\":true,\"ticks\":\"\",\"zerolinecolor\":\"white\",\"gridwidth\":2},\"zaxis\":{\"backgroundcolor\":\"#E5ECF6\",\"gridcolor\":\"white\",\"linecolor\":\"white\",\"showbackground\":true,\"ticks\":\"\",\"zerolinecolor\":\"white\",\"gridwidth\":2}},\"shapedefaults\":{\"line\":{\"color\":\"#2a3f5f\"}},\"annotationdefaults\":{\"arrowcolor\":\"#2a3f5f\",\"arrowhead\":0,\"arrowwidth\":1},\"geo\":{\"bgcolor\":\"white\",\"landcolor\":\"#E5ECF6\",\"subunitcolor\":\"white\",\"showland\":true,\"showlakes\":true,\"lakecolor\":\"white\"},\"title\":{\"x\":0.05},\"mapbox\":{\"style\":\"light\"}}},\"xaxis\":{\"anchor\":\"y\",\"domain\":[0.0,1.0],\"title\":{\"text\":\"pass_no\"}},\"yaxis\":{\"anchor\":\"x\",\"domain\":[0.0,1.0],\"title\":{\"text\":\"percent\"}},\"legend\":{\"tracegroupgap\":0},\"title\":{\"text\":\"Distribution of passes in cluster 4 using GMM in shawnee_location_2\"},\"barmode\":\"relative\",\"height\":300,\"width\":800},                        {\"responsive\": true}                    ).then(function(){\n",
       "                            \n",
       "var gd = document.getElementById('37f2fdb4-ddde-43d0-94ed-cb59873ddebc');\n",
       "var x = new MutationObserver(function (mutations, observer) {{\n",
       "        var display = window.getComputedStyle(gd).display;\n",
       "        if (!display || display === 'none') {{\n",
       "            console.log([gd, 'removed!']);\n",
       "            Plotly.purge(gd);\n",
       "            observer.disconnect();\n",
       "        }}\n",
       "}});\n",
       "\n",
       "// Listen for the removal of the full notebook cells\n",
       "var notebookContainer = gd.closest('#notebook-container');\n",
       "if (notebookContainer) {{\n",
       "    x.observe(notebookContainer, {childList: true});\n",
       "}}\n",
       "\n",
       "// Listen for the clearing of the current output cell\n",
       "var outputEl = gd.closest('.output');\n",
       "if (outputEl) {{\n",
       "    x.observe(outputEl, {childList: true});\n",
       "}}\n",
       "\n",
       "                        })                };                });            </script>        </div>"
      ]
     },
     "metadata": {},
     "output_type": "display_data"
    }
   ],
   "source": [
    "passes=np.sort(to_plot.cluster.unique())\n",
    "\n",
    "nbins=len(passes)\n",
    "\n",
    "for i in range(nbins):\n",
    "\n",
    "    title=f\"Distribution of passes in cluster {i} using {model_name} in {location_name}\"\n",
    "    \n",
    "    fig = px.histogram(to_plot[to_plot[\"cluster\"]==passes[i]], \n",
    "                       x=\"pass_no\",\n",
    "                       histnorm='percent',\n",
    "                       nbins=nbins,\n",
    "                       title=title,\n",
    "                       width=800,\n",
    "                       height=300\n",
    "                      )\n",
    "#     fig.write_image(folder_location/model_name/title/f\"_field_pass{passes[i]}.png\")\n",
    "    fig.show()\n",
    "    \n",
    "    "
   ]
  },
  {
   "cell_type": "code",
   "execution_count": 13,
   "id": "510afe1a",
   "metadata": {},
   "outputs": [
    {
     "data": {
      "text/plain": [
       "(66, 33, 7)"
      ]
     },
     "execution_count": 13,
     "metadata": {},
     "output_type": "execute_result"
    }
   ],
   "source": [
    "in4=to_plot[(to_plot[\"pass_no\"]==4)&\n",
    "            (to_plot[\"cluster\"]==4)\n",
    "           ]\n",
    "in2=to_plot[(to_plot[\"pass_no\"]==2)&\n",
    "            (to_plot[\"cluster\"]==4)\n",
    "           ]\n",
    "in1=to_plot[(to_plot[\"pass_no\"]==1)&\n",
    "            (to_plot[\"cluster\"]==4)\n",
    "           ]\n",
    "len(in4),len(in2),len(in1)"
   ]
  },
  {
   "cell_type": "code",
   "execution_count": 14,
   "id": "de69b46b",
   "metadata": {},
   "outputs": [
    {
     "data": {
      "application/vnd.plotly.v1+json": {
       "config": {
        "plotlyServerURL": "https://plot.ly"
       },
       "data": [
        {
         "alignmentgroup": "True",
         "bingroup": "x",
         "histnorm": "percent",
         "hovertemplate": "pass_no=%{x}<br>percent=%{y}<extra></extra>",
         "legendgroup": "",
         "marker": {
          "color": "#636efa",
          "pattern": {
           "shape": ""
          }
         },
         "name": "",
         "nbinsx": 5,
         "offsetgroup": "",
         "orientation": "v",
         "showlegend": false,
         "type": "histogram",
         "x": [
          1,
          1,
          1,
          1,
          1,
          1,
          1,
          1,
          1,
          1,
          1,
          1,
          1,
          1,
          1,
          1,
          1,
          1,
          1,
          1,
          1,
          1,
          1,
          1,
          1,
          1,
          1,
          1,
          1,
          1,
          1,
          1,
          1,
          1,
          1,
          1,
          1,
          1,
          1,
          1,
          1,
          1,
          1,
          1,
          1,
          1,
          1,
          1,
          1,
          1,
          1,
          1,
          1,
          1,
          1,
          1,
          1,
          1,
          1,
          1,
          1,
          1,
          1,
          1,
          1,
          1,
          1,
          1,
          1,
          1,
          1,
          1,
          1,
          1,
          1,
          1,
          1,
          1,
          1,
          1,
          1,
          1,
          1,
          1,
          1,
          1,
          1,
          1,
          1,
          1,
          1,
          1,
          1,
          1,
          1,
          1,
          1,
          1,
          1,
          1,
          1,
          1,
          1,
          1,
          1,
          1,
          1,
          1,
          1,
          1,
          1,
          1,
          1,
          1,
          1,
          1,
          1,
          1,
          1,
          1,
          1,
          1,
          1,
          1,
          1,
          1,
          1,
          1,
          1,
          1,
          1,
          1,
          1,
          1,
          1,
          1,
          1,
          1,
          1,
          1,
          1,
          1,
          1,
          1,
          1,
          1,
          1,
          1,
          1,
          1,
          1,
          1,
          1,
          1,
          1,
          1,
          1,
          1,
          1,
          1,
          1,
          1,
          1,
          1,
          1,
          1,
          1,
          1,
          1,
          1,
          1,
          1,
          2,
          2,
          2,
          2,
          2,
          2,
          2,
          2,
          2,
          2,
          2,
          2,
          2,
          2,
          2,
          2,
          2,
          2,
          2,
          2,
          2,
          2,
          2,
          2,
          2,
          2,
          2,
          2,
          2,
          2,
          2,
          2,
          2,
          2,
          2,
          2,
          2,
          2,
          2,
          2,
          2,
          2,
          2,
          2,
          2,
          2,
          2,
          2,
          2,
          2,
          2,
          2,
          2,
          2,
          4,
          4,
          4,
          4,
          4,
          4,
          4,
          4,
          4,
          4,
          4,
          4,
          4,
          4,
          4,
          4,
          4,
          4,
          4,
          4,
          4,
          4,
          4,
          4,
          4,
          4,
          4,
          4,
          4,
          4,
          4,
          4,
          4,
          4,
          4,
          4,
          4,
          4
         ],
         "xaxis": "x",
         "yaxis": "y"
        }
       ],
       "layout": {
        "barmode": "relative",
        "height": 300,
        "legend": {
         "tracegroupgap": 0
        },
        "template": {
         "data": {
          "bar": [
           {
            "error_x": {
             "color": "#2a3f5f"
            },
            "error_y": {
             "color": "#2a3f5f"
            },
            "marker": {
             "line": {
              "color": "#E5ECF6",
              "width": 0.5
             },
             "pattern": {
              "fillmode": "overlay",
              "size": 10,
              "solidity": 0.2
             }
            },
            "type": "bar"
           }
          ],
          "barpolar": [
           {
            "marker": {
             "line": {
              "color": "#E5ECF6",
              "width": 0.5
             },
             "pattern": {
              "fillmode": "overlay",
              "size": 10,
              "solidity": 0.2
             }
            },
            "type": "barpolar"
           }
          ],
          "carpet": [
           {
            "aaxis": {
             "endlinecolor": "#2a3f5f",
             "gridcolor": "white",
             "linecolor": "white",
             "minorgridcolor": "white",
             "startlinecolor": "#2a3f5f"
            },
            "baxis": {
             "endlinecolor": "#2a3f5f",
             "gridcolor": "white",
             "linecolor": "white",
             "minorgridcolor": "white",
             "startlinecolor": "#2a3f5f"
            },
            "type": "carpet"
           }
          ],
          "choropleth": [
           {
            "colorbar": {
             "outlinewidth": 0,
             "ticks": ""
            },
            "type": "choropleth"
           }
          ],
          "contour": [
           {
            "colorbar": {
             "outlinewidth": 0,
             "ticks": ""
            },
            "colorscale": [
             [
              0,
              "#0d0887"
             ],
             [
              0.1111111111111111,
              "#46039f"
             ],
             [
              0.2222222222222222,
              "#7201a8"
             ],
             [
              0.3333333333333333,
              "#9c179e"
             ],
             [
              0.4444444444444444,
              "#bd3786"
             ],
             [
              0.5555555555555556,
              "#d8576b"
             ],
             [
              0.6666666666666666,
              "#ed7953"
             ],
             [
              0.7777777777777778,
              "#fb9f3a"
             ],
             [
              0.8888888888888888,
              "#fdca26"
             ],
             [
              1,
              "#f0f921"
             ]
            ],
            "type": "contour"
           }
          ],
          "contourcarpet": [
           {
            "colorbar": {
             "outlinewidth": 0,
             "ticks": ""
            },
            "type": "contourcarpet"
           }
          ],
          "heatmap": [
           {
            "colorbar": {
             "outlinewidth": 0,
             "ticks": ""
            },
            "colorscale": [
             [
              0,
              "#0d0887"
             ],
             [
              0.1111111111111111,
              "#46039f"
             ],
             [
              0.2222222222222222,
              "#7201a8"
             ],
             [
              0.3333333333333333,
              "#9c179e"
             ],
             [
              0.4444444444444444,
              "#bd3786"
             ],
             [
              0.5555555555555556,
              "#d8576b"
             ],
             [
              0.6666666666666666,
              "#ed7953"
             ],
             [
              0.7777777777777778,
              "#fb9f3a"
             ],
             [
              0.8888888888888888,
              "#fdca26"
             ],
             [
              1,
              "#f0f921"
             ]
            ],
            "type": "heatmap"
           }
          ],
          "heatmapgl": [
           {
            "colorbar": {
             "outlinewidth": 0,
             "ticks": ""
            },
            "colorscale": [
             [
              0,
              "#0d0887"
             ],
             [
              0.1111111111111111,
              "#46039f"
             ],
             [
              0.2222222222222222,
              "#7201a8"
             ],
             [
              0.3333333333333333,
              "#9c179e"
             ],
             [
              0.4444444444444444,
              "#bd3786"
             ],
             [
              0.5555555555555556,
              "#d8576b"
             ],
             [
              0.6666666666666666,
              "#ed7953"
             ],
             [
              0.7777777777777778,
              "#fb9f3a"
             ],
             [
              0.8888888888888888,
              "#fdca26"
             ],
             [
              1,
              "#f0f921"
             ]
            ],
            "type": "heatmapgl"
           }
          ],
          "histogram": [
           {
            "marker": {
             "pattern": {
              "fillmode": "overlay",
              "size": 10,
              "solidity": 0.2
             }
            },
            "type": "histogram"
           }
          ],
          "histogram2d": [
           {
            "colorbar": {
             "outlinewidth": 0,
             "ticks": ""
            },
            "colorscale": [
             [
              0,
              "#0d0887"
             ],
             [
              0.1111111111111111,
              "#46039f"
             ],
             [
              0.2222222222222222,
              "#7201a8"
             ],
             [
              0.3333333333333333,
              "#9c179e"
             ],
             [
              0.4444444444444444,
              "#bd3786"
             ],
             [
              0.5555555555555556,
              "#d8576b"
             ],
             [
              0.6666666666666666,
              "#ed7953"
             ],
             [
              0.7777777777777778,
              "#fb9f3a"
             ],
             [
              0.8888888888888888,
              "#fdca26"
             ],
             [
              1,
              "#f0f921"
             ]
            ],
            "type": "histogram2d"
           }
          ],
          "histogram2dcontour": [
           {
            "colorbar": {
             "outlinewidth": 0,
             "ticks": ""
            },
            "colorscale": [
             [
              0,
              "#0d0887"
             ],
             [
              0.1111111111111111,
              "#46039f"
             ],
             [
              0.2222222222222222,
              "#7201a8"
             ],
             [
              0.3333333333333333,
              "#9c179e"
             ],
             [
              0.4444444444444444,
              "#bd3786"
             ],
             [
              0.5555555555555556,
              "#d8576b"
             ],
             [
              0.6666666666666666,
              "#ed7953"
             ],
             [
              0.7777777777777778,
              "#fb9f3a"
             ],
             [
              0.8888888888888888,
              "#fdca26"
             ],
             [
              1,
              "#f0f921"
             ]
            ],
            "type": "histogram2dcontour"
           }
          ],
          "mesh3d": [
           {
            "colorbar": {
             "outlinewidth": 0,
             "ticks": ""
            },
            "type": "mesh3d"
           }
          ],
          "parcoords": [
           {
            "line": {
             "colorbar": {
              "outlinewidth": 0,
              "ticks": ""
             }
            },
            "type": "parcoords"
           }
          ],
          "pie": [
           {
            "automargin": true,
            "type": "pie"
           }
          ],
          "scatter": [
           {
            "fillpattern": {
             "fillmode": "overlay",
             "size": 10,
             "solidity": 0.2
            },
            "type": "scatter"
           }
          ],
          "scatter3d": [
           {
            "line": {
             "colorbar": {
              "outlinewidth": 0,
              "ticks": ""
             }
            },
            "marker": {
             "colorbar": {
              "outlinewidth": 0,
              "ticks": ""
             }
            },
            "type": "scatter3d"
           }
          ],
          "scattercarpet": [
           {
            "marker": {
             "colorbar": {
              "outlinewidth": 0,
              "ticks": ""
             }
            },
            "type": "scattercarpet"
           }
          ],
          "scattergeo": [
           {
            "marker": {
             "colorbar": {
              "outlinewidth": 0,
              "ticks": ""
             }
            },
            "type": "scattergeo"
           }
          ],
          "scattergl": [
           {
            "marker": {
             "colorbar": {
              "outlinewidth": 0,
              "ticks": ""
             }
            },
            "type": "scattergl"
           }
          ],
          "scattermapbox": [
           {
            "marker": {
             "colorbar": {
              "outlinewidth": 0,
              "ticks": ""
             }
            },
            "type": "scattermapbox"
           }
          ],
          "scatterpolar": [
           {
            "marker": {
             "colorbar": {
              "outlinewidth": 0,
              "ticks": ""
             }
            },
            "type": "scatterpolar"
           }
          ],
          "scatterpolargl": [
           {
            "marker": {
             "colorbar": {
              "outlinewidth": 0,
              "ticks": ""
             }
            },
            "type": "scatterpolargl"
           }
          ],
          "scatterternary": [
           {
            "marker": {
             "colorbar": {
              "outlinewidth": 0,
              "ticks": ""
             }
            },
            "type": "scatterternary"
           }
          ],
          "surface": [
           {
            "colorbar": {
             "outlinewidth": 0,
             "ticks": ""
            },
            "colorscale": [
             [
              0,
              "#0d0887"
             ],
             [
              0.1111111111111111,
              "#46039f"
             ],
             [
              0.2222222222222222,
              "#7201a8"
             ],
             [
              0.3333333333333333,
              "#9c179e"
             ],
             [
              0.4444444444444444,
              "#bd3786"
             ],
             [
              0.5555555555555556,
              "#d8576b"
             ],
             [
              0.6666666666666666,
              "#ed7953"
             ],
             [
              0.7777777777777778,
              "#fb9f3a"
             ],
             [
              0.8888888888888888,
              "#fdca26"
             ],
             [
              1,
              "#f0f921"
             ]
            ],
            "type": "surface"
           }
          ],
          "table": [
           {
            "cells": {
             "fill": {
              "color": "#EBF0F8"
             },
             "line": {
              "color": "white"
             }
            },
            "header": {
             "fill": {
              "color": "#C8D4E3"
             },
             "line": {
              "color": "white"
             }
            },
            "type": "table"
           }
          ]
         },
         "layout": {
          "annotationdefaults": {
           "arrowcolor": "#2a3f5f",
           "arrowhead": 0,
           "arrowwidth": 1
          },
          "autotypenumbers": "strict",
          "coloraxis": {
           "colorbar": {
            "outlinewidth": 0,
            "ticks": ""
           }
          },
          "colorscale": {
           "diverging": [
            [
             0,
             "#8e0152"
            ],
            [
             0.1,
             "#c51b7d"
            ],
            [
             0.2,
             "#de77ae"
            ],
            [
             0.3,
             "#f1b6da"
            ],
            [
             0.4,
             "#fde0ef"
            ],
            [
             0.5,
             "#f7f7f7"
            ],
            [
             0.6,
             "#e6f5d0"
            ],
            [
             0.7,
             "#b8e186"
            ],
            [
             0.8,
             "#7fbc41"
            ],
            [
             0.9,
             "#4d9221"
            ],
            [
             1,
             "#276419"
            ]
           ],
           "sequential": [
            [
             0,
             "#0d0887"
            ],
            [
             0.1111111111111111,
             "#46039f"
            ],
            [
             0.2222222222222222,
             "#7201a8"
            ],
            [
             0.3333333333333333,
             "#9c179e"
            ],
            [
             0.4444444444444444,
             "#bd3786"
            ],
            [
             0.5555555555555556,
             "#d8576b"
            ],
            [
             0.6666666666666666,
             "#ed7953"
            ],
            [
             0.7777777777777778,
             "#fb9f3a"
            ],
            [
             0.8888888888888888,
             "#fdca26"
            ],
            [
             1,
             "#f0f921"
            ]
           ],
           "sequentialminus": [
            [
             0,
             "#0d0887"
            ],
            [
             0.1111111111111111,
             "#46039f"
            ],
            [
             0.2222222222222222,
             "#7201a8"
            ],
            [
             0.3333333333333333,
             "#9c179e"
            ],
            [
             0.4444444444444444,
             "#bd3786"
            ],
            [
             0.5555555555555556,
             "#d8576b"
            ],
            [
             0.6666666666666666,
             "#ed7953"
            ],
            [
             0.7777777777777778,
             "#fb9f3a"
            ],
            [
             0.8888888888888888,
             "#fdca26"
            ],
            [
             1,
             "#f0f921"
            ]
           ]
          },
          "colorway": [
           "#636efa",
           "#EF553B",
           "#00cc96",
           "#ab63fa",
           "#FFA15A",
           "#19d3f3",
           "#FF6692",
           "#B6E880",
           "#FF97FF",
           "#FECB52"
          ],
          "font": {
           "color": "#2a3f5f"
          },
          "geo": {
           "bgcolor": "white",
           "lakecolor": "white",
           "landcolor": "#E5ECF6",
           "showlakes": true,
           "showland": true,
           "subunitcolor": "white"
          },
          "hoverlabel": {
           "align": "left"
          },
          "hovermode": "closest",
          "mapbox": {
           "style": "light"
          },
          "paper_bgcolor": "white",
          "plot_bgcolor": "#E5ECF6",
          "polar": {
           "angularaxis": {
            "gridcolor": "white",
            "linecolor": "white",
            "ticks": ""
           },
           "bgcolor": "#E5ECF6",
           "radialaxis": {
            "gridcolor": "white",
            "linecolor": "white",
            "ticks": ""
           }
          },
          "scene": {
           "xaxis": {
            "backgroundcolor": "#E5ECF6",
            "gridcolor": "white",
            "gridwidth": 2,
            "linecolor": "white",
            "showbackground": true,
            "ticks": "",
            "zerolinecolor": "white"
           },
           "yaxis": {
            "backgroundcolor": "#E5ECF6",
            "gridcolor": "white",
            "gridwidth": 2,
            "linecolor": "white",
            "showbackground": true,
            "ticks": "",
            "zerolinecolor": "white"
           },
           "zaxis": {
            "backgroundcolor": "#E5ECF6",
            "gridcolor": "white",
            "gridwidth": 2,
            "linecolor": "white",
            "showbackground": true,
            "ticks": "",
            "zerolinecolor": "white"
           }
          },
          "shapedefaults": {
           "line": {
            "color": "#2a3f5f"
           }
          },
          "ternary": {
           "aaxis": {
            "gridcolor": "white",
            "linecolor": "white",
            "ticks": ""
           },
           "baxis": {
            "gridcolor": "white",
            "linecolor": "white",
            "ticks": ""
           },
           "bgcolor": "#E5ECF6",
           "caxis": {
            "gridcolor": "white",
            "linecolor": "white",
            "ticks": ""
           }
          },
          "title": {
           "x": 0.05
          },
          "xaxis": {
           "automargin": true,
           "gridcolor": "white",
           "linecolor": "white",
           "ticks": "",
           "title": {
            "standoff": 15
           },
           "zerolinecolor": "white",
           "zerolinewidth": 2
          },
          "yaxis": {
           "automargin": true,
           "gridcolor": "white",
           "linecolor": "white",
           "ticks": "",
           "title": {
            "standoff": 15
           },
           "zerolinecolor": "white",
           "zerolinewidth": 2
          }
         }
        },
        "title": {
         "text": "Distribution of passes in cluster 0 using GMM in shawnee_location_2"
        },
        "width": 800,
        "xaxis": {
         "anchor": "y",
         "domain": [
          0,
          1
         ],
         "title": {
          "text": "pass_no"
         }
        },
        "yaxis": {
         "anchor": "x",
         "domain": [
          0,
          1
         ],
         "title": {
          "text": "percent"
         }
        }
       }
      },
      "text/html": [
       "<div>                            <div id=\"bba12e0f-1fc5-42cd-8bc0-9ff84e62fc6a\" class=\"plotly-graph-div\" style=\"height:300px; width:800px;\"></div>            <script type=\"text/javascript\">                require([\"plotly\"], function(Plotly) {                    window.PLOTLYENV=window.PLOTLYENV || {};                                    if (document.getElementById(\"bba12e0f-1fc5-42cd-8bc0-9ff84e62fc6a\")) {                    Plotly.newPlot(                        \"bba12e0f-1fc5-42cd-8bc0-9ff84e62fc6a\",                        [{\"alignmentgroup\":\"True\",\"bingroup\":\"x\",\"histnorm\":\"percent\",\"hovertemplate\":\"pass_no=%{x}<br>percent=%{y}<extra></extra>\",\"legendgroup\":\"\",\"marker\":{\"color\":\"#636efa\",\"pattern\":{\"shape\":\"\"}},\"name\":\"\",\"nbinsx\":5,\"offsetgroup\":\"\",\"orientation\":\"v\",\"showlegend\":false,\"x\":[1,1,1,1,1,1,1,1,1,1,1,1,1,1,1,1,1,1,1,1,1,1,1,1,1,1,1,1,1,1,1,1,1,1,1,1,1,1,1,1,1,1,1,1,1,1,1,1,1,1,1,1,1,1,1,1,1,1,1,1,1,1,1,1,1,1,1,1,1,1,1,1,1,1,1,1,1,1,1,1,1,1,1,1,1,1,1,1,1,1,1,1,1,1,1,1,1,1,1,1,1,1,1,1,1,1,1,1,1,1,1,1,1,1,1,1,1,1,1,1,1,1,1,1,1,1,1,1,1,1,1,1,1,1,1,1,1,1,1,1,1,1,1,1,1,1,1,1,1,1,1,1,1,1,1,1,1,1,1,1,1,1,1,1,1,1,1,1,1,1,1,1,2,2,2,2,2,2,2,2,2,2,2,2,2,2,2,2,2,2,2,2,2,2,2,2,2,2,2,2,2,2,2,2,2,2,2,2,2,2,2,2,2,2,2,2,2,2,2,2,2,2,2,2,2,2,4,4,4,4,4,4,4,4,4,4,4,4,4,4,4,4,4,4,4,4,4,4,4,4,4,4,4,4,4,4,4,4,4,4,4,4,4,4],\"xaxis\":\"x\",\"yaxis\":\"y\",\"type\":\"histogram\"}],                        {\"template\":{\"data\":{\"histogram2dcontour\":[{\"type\":\"histogram2dcontour\",\"colorbar\":{\"outlinewidth\":0,\"ticks\":\"\"},\"colorscale\":[[0.0,\"#0d0887\"],[0.1111111111111111,\"#46039f\"],[0.2222222222222222,\"#7201a8\"],[0.3333333333333333,\"#9c179e\"],[0.4444444444444444,\"#bd3786\"],[0.5555555555555556,\"#d8576b\"],[0.6666666666666666,\"#ed7953\"],[0.7777777777777778,\"#fb9f3a\"],[0.8888888888888888,\"#fdca26\"],[1.0,\"#f0f921\"]]}],\"choropleth\":[{\"type\":\"choropleth\",\"colorbar\":{\"outlinewidth\":0,\"ticks\":\"\"}}],\"histogram2d\":[{\"type\":\"histogram2d\",\"colorbar\":{\"outlinewidth\":0,\"ticks\":\"\"},\"colorscale\":[[0.0,\"#0d0887\"],[0.1111111111111111,\"#46039f\"],[0.2222222222222222,\"#7201a8\"],[0.3333333333333333,\"#9c179e\"],[0.4444444444444444,\"#bd3786\"],[0.5555555555555556,\"#d8576b\"],[0.6666666666666666,\"#ed7953\"],[0.7777777777777778,\"#fb9f3a\"],[0.8888888888888888,\"#fdca26\"],[1.0,\"#f0f921\"]]}],\"heatmap\":[{\"type\":\"heatmap\",\"colorbar\":{\"outlinewidth\":0,\"ticks\":\"\"},\"colorscale\":[[0.0,\"#0d0887\"],[0.1111111111111111,\"#46039f\"],[0.2222222222222222,\"#7201a8\"],[0.3333333333333333,\"#9c179e\"],[0.4444444444444444,\"#bd3786\"],[0.5555555555555556,\"#d8576b\"],[0.6666666666666666,\"#ed7953\"],[0.7777777777777778,\"#fb9f3a\"],[0.8888888888888888,\"#fdca26\"],[1.0,\"#f0f921\"]]}],\"heatmapgl\":[{\"type\":\"heatmapgl\",\"colorbar\":{\"outlinewidth\":0,\"ticks\":\"\"},\"colorscale\":[[0.0,\"#0d0887\"],[0.1111111111111111,\"#46039f\"],[0.2222222222222222,\"#7201a8\"],[0.3333333333333333,\"#9c179e\"],[0.4444444444444444,\"#bd3786\"],[0.5555555555555556,\"#d8576b\"],[0.6666666666666666,\"#ed7953\"],[0.7777777777777778,\"#fb9f3a\"],[0.8888888888888888,\"#fdca26\"],[1.0,\"#f0f921\"]]}],\"contourcarpet\":[{\"type\":\"contourcarpet\",\"colorbar\":{\"outlinewidth\":0,\"ticks\":\"\"}}],\"contour\":[{\"type\":\"contour\",\"colorbar\":{\"outlinewidth\":0,\"ticks\":\"\"},\"colorscale\":[[0.0,\"#0d0887\"],[0.1111111111111111,\"#46039f\"],[0.2222222222222222,\"#7201a8\"],[0.3333333333333333,\"#9c179e\"],[0.4444444444444444,\"#bd3786\"],[0.5555555555555556,\"#d8576b\"],[0.6666666666666666,\"#ed7953\"],[0.7777777777777778,\"#fb9f3a\"],[0.8888888888888888,\"#fdca26\"],[1.0,\"#f0f921\"]]}],\"surface\":[{\"type\":\"surface\",\"colorbar\":{\"outlinewidth\":0,\"ticks\":\"\"},\"colorscale\":[[0.0,\"#0d0887\"],[0.1111111111111111,\"#46039f\"],[0.2222222222222222,\"#7201a8\"],[0.3333333333333333,\"#9c179e\"],[0.4444444444444444,\"#bd3786\"],[0.5555555555555556,\"#d8576b\"],[0.6666666666666666,\"#ed7953\"],[0.7777777777777778,\"#fb9f3a\"],[0.8888888888888888,\"#fdca26\"],[1.0,\"#f0f921\"]]}],\"mesh3d\":[{\"type\":\"mesh3d\",\"colorbar\":{\"outlinewidth\":0,\"ticks\":\"\"}}],\"scatter\":[{\"fillpattern\":{\"fillmode\":\"overlay\",\"size\":10,\"solidity\":0.2},\"type\":\"scatter\"}],\"parcoords\":[{\"type\":\"parcoords\",\"line\":{\"colorbar\":{\"outlinewidth\":0,\"ticks\":\"\"}}}],\"scatterpolargl\":[{\"type\":\"scatterpolargl\",\"marker\":{\"colorbar\":{\"outlinewidth\":0,\"ticks\":\"\"}}}],\"bar\":[{\"error_x\":{\"color\":\"#2a3f5f\"},\"error_y\":{\"color\":\"#2a3f5f\"},\"marker\":{\"line\":{\"color\":\"#E5ECF6\",\"width\":0.5},\"pattern\":{\"fillmode\":\"overlay\",\"size\":10,\"solidity\":0.2}},\"type\":\"bar\"}],\"scattergeo\":[{\"type\":\"scattergeo\",\"marker\":{\"colorbar\":{\"outlinewidth\":0,\"ticks\":\"\"}}}],\"scatterpolar\":[{\"type\":\"scatterpolar\",\"marker\":{\"colorbar\":{\"outlinewidth\":0,\"ticks\":\"\"}}}],\"histogram\":[{\"marker\":{\"pattern\":{\"fillmode\":\"overlay\",\"size\":10,\"solidity\":0.2}},\"type\":\"histogram\"}],\"scattergl\":[{\"type\":\"scattergl\",\"marker\":{\"colorbar\":{\"outlinewidth\":0,\"ticks\":\"\"}}}],\"scatter3d\":[{\"type\":\"scatter3d\",\"line\":{\"colorbar\":{\"outlinewidth\":0,\"ticks\":\"\"}},\"marker\":{\"colorbar\":{\"outlinewidth\":0,\"ticks\":\"\"}}}],\"scattermapbox\":[{\"type\":\"scattermapbox\",\"marker\":{\"colorbar\":{\"outlinewidth\":0,\"ticks\":\"\"}}}],\"scatterternary\":[{\"type\":\"scatterternary\",\"marker\":{\"colorbar\":{\"outlinewidth\":0,\"ticks\":\"\"}}}],\"scattercarpet\":[{\"type\":\"scattercarpet\",\"marker\":{\"colorbar\":{\"outlinewidth\":0,\"ticks\":\"\"}}}],\"carpet\":[{\"aaxis\":{\"endlinecolor\":\"#2a3f5f\",\"gridcolor\":\"white\",\"linecolor\":\"white\",\"minorgridcolor\":\"white\",\"startlinecolor\":\"#2a3f5f\"},\"baxis\":{\"endlinecolor\":\"#2a3f5f\",\"gridcolor\":\"white\",\"linecolor\":\"white\",\"minorgridcolor\":\"white\",\"startlinecolor\":\"#2a3f5f\"},\"type\":\"carpet\"}],\"table\":[{\"cells\":{\"fill\":{\"color\":\"#EBF0F8\"},\"line\":{\"color\":\"white\"}},\"header\":{\"fill\":{\"color\":\"#C8D4E3\"},\"line\":{\"color\":\"white\"}},\"type\":\"table\"}],\"barpolar\":[{\"marker\":{\"line\":{\"color\":\"#E5ECF6\",\"width\":0.5},\"pattern\":{\"fillmode\":\"overlay\",\"size\":10,\"solidity\":0.2}},\"type\":\"barpolar\"}],\"pie\":[{\"automargin\":true,\"type\":\"pie\"}]},\"layout\":{\"autotypenumbers\":\"strict\",\"colorway\":[\"#636efa\",\"#EF553B\",\"#00cc96\",\"#ab63fa\",\"#FFA15A\",\"#19d3f3\",\"#FF6692\",\"#B6E880\",\"#FF97FF\",\"#FECB52\"],\"font\":{\"color\":\"#2a3f5f\"},\"hovermode\":\"closest\",\"hoverlabel\":{\"align\":\"left\"},\"paper_bgcolor\":\"white\",\"plot_bgcolor\":\"#E5ECF6\",\"polar\":{\"bgcolor\":\"#E5ECF6\",\"angularaxis\":{\"gridcolor\":\"white\",\"linecolor\":\"white\",\"ticks\":\"\"},\"radialaxis\":{\"gridcolor\":\"white\",\"linecolor\":\"white\",\"ticks\":\"\"}},\"ternary\":{\"bgcolor\":\"#E5ECF6\",\"aaxis\":{\"gridcolor\":\"white\",\"linecolor\":\"white\",\"ticks\":\"\"},\"baxis\":{\"gridcolor\":\"white\",\"linecolor\":\"white\",\"ticks\":\"\"},\"caxis\":{\"gridcolor\":\"white\",\"linecolor\":\"white\",\"ticks\":\"\"}},\"coloraxis\":{\"colorbar\":{\"outlinewidth\":0,\"ticks\":\"\"}},\"colorscale\":{\"sequential\":[[0.0,\"#0d0887\"],[0.1111111111111111,\"#46039f\"],[0.2222222222222222,\"#7201a8\"],[0.3333333333333333,\"#9c179e\"],[0.4444444444444444,\"#bd3786\"],[0.5555555555555556,\"#d8576b\"],[0.6666666666666666,\"#ed7953\"],[0.7777777777777778,\"#fb9f3a\"],[0.8888888888888888,\"#fdca26\"],[1.0,\"#f0f921\"]],\"sequentialminus\":[[0.0,\"#0d0887\"],[0.1111111111111111,\"#46039f\"],[0.2222222222222222,\"#7201a8\"],[0.3333333333333333,\"#9c179e\"],[0.4444444444444444,\"#bd3786\"],[0.5555555555555556,\"#d8576b\"],[0.6666666666666666,\"#ed7953\"],[0.7777777777777778,\"#fb9f3a\"],[0.8888888888888888,\"#fdca26\"],[1.0,\"#f0f921\"]],\"diverging\":[[0,\"#8e0152\"],[0.1,\"#c51b7d\"],[0.2,\"#de77ae\"],[0.3,\"#f1b6da\"],[0.4,\"#fde0ef\"],[0.5,\"#f7f7f7\"],[0.6,\"#e6f5d0\"],[0.7,\"#b8e186\"],[0.8,\"#7fbc41\"],[0.9,\"#4d9221\"],[1,\"#276419\"]]},\"xaxis\":{\"gridcolor\":\"white\",\"linecolor\":\"white\",\"ticks\":\"\",\"title\":{\"standoff\":15},\"zerolinecolor\":\"white\",\"automargin\":true,\"zerolinewidth\":2},\"yaxis\":{\"gridcolor\":\"white\",\"linecolor\":\"white\",\"ticks\":\"\",\"title\":{\"standoff\":15},\"zerolinecolor\":\"white\",\"automargin\":true,\"zerolinewidth\":2},\"scene\":{\"xaxis\":{\"backgroundcolor\":\"#E5ECF6\",\"gridcolor\":\"white\",\"linecolor\":\"white\",\"showbackground\":true,\"ticks\":\"\",\"zerolinecolor\":\"white\",\"gridwidth\":2},\"yaxis\":{\"backgroundcolor\":\"#E5ECF6\",\"gridcolor\":\"white\",\"linecolor\":\"white\",\"showbackground\":true,\"ticks\":\"\",\"zerolinecolor\":\"white\",\"gridwidth\":2},\"zaxis\":{\"backgroundcolor\":\"#E5ECF6\",\"gridcolor\":\"white\",\"linecolor\":\"white\",\"showbackground\":true,\"ticks\":\"\",\"zerolinecolor\":\"white\",\"gridwidth\":2}},\"shapedefaults\":{\"line\":{\"color\":\"#2a3f5f\"}},\"annotationdefaults\":{\"arrowcolor\":\"#2a3f5f\",\"arrowhead\":0,\"arrowwidth\":1},\"geo\":{\"bgcolor\":\"white\",\"landcolor\":\"#E5ECF6\",\"subunitcolor\":\"white\",\"showland\":true,\"showlakes\":true,\"lakecolor\":\"white\"},\"title\":{\"x\":0.05},\"mapbox\":{\"style\":\"light\"}}},\"xaxis\":{\"anchor\":\"y\",\"domain\":[0.0,1.0],\"title\":{\"text\":\"pass_no\"}},\"yaxis\":{\"anchor\":\"x\",\"domain\":[0.0,1.0],\"title\":{\"text\":\"percent\"}},\"legend\":{\"tracegroupgap\":0},\"title\":{\"text\":\"Distribution of passes in cluster 0 using GMM in shawnee_location_2\"},\"barmode\":\"relative\",\"height\":300,\"width\":800},                        {\"responsive\": true}                    ).then(function(){\n",
       "                            \n",
       "var gd = document.getElementById('bba12e0f-1fc5-42cd-8bc0-9ff84e62fc6a');\n",
       "var x = new MutationObserver(function (mutations, observer) {{\n",
       "        var display = window.getComputedStyle(gd).display;\n",
       "        if (!display || display === 'none') {{\n",
       "            console.log([gd, 'removed!']);\n",
       "            Plotly.purge(gd);\n",
       "            observer.disconnect();\n",
       "        }}\n",
       "}});\n",
       "\n",
       "// Listen for the removal of the full notebook cells\n",
       "var notebookContainer = gd.closest('#notebook-container');\n",
       "if (notebookContainer) {{\n",
       "    x.observe(notebookContainer, {childList: true});\n",
       "}}\n",
       "\n",
       "// Listen for the clearing of the current output cell\n",
       "var outputEl = gd.closest('.output');\n",
       "if (outputEl) {{\n",
       "    x.observe(outputEl, {childList: true});\n",
       "}}\n",
       "\n",
       "                        })                };                });            </script>        </div>"
      ]
     },
     "metadata": {},
     "output_type": "display_data"
    },
    {
     "data": {
      "application/vnd.plotly.v1+json": {
       "config": {
        "plotlyServerURL": "https://plot.ly"
       },
       "data": [
        {
         "alignmentgroup": "True",
         "bingroup": "x",
         "histnorm": "percent",
         "hovertemplate": "pass_no=%{x}<br>percent=%{y}<extra></extra>",
         "legendgroup": "",
         "marker": {
          "color": "#636efa",
          "pattern": {
           "shape": ""
          }
         },
         "name": "",
         "nbinsx": 5,
         "offsetgroup": "",
         "orientation": "v",
         "showlegend": false,
         "type": "histogram",
         "x": [
          1,
          1,
          1,
          2,
          2,
          2,
          2,
          2,
          2,
          2,
          2,
          2,
          2,
          2,
          2,
          2,
          2,
          2,
          2,
          2,
          2,
          2,
          2,
          2,
          2,
          2,
          2,
          2,
          2,
          2,
          4,
          4,
          4,
          4,
          4,
          4,
          4,
          4,
          4,
          4,
          4,
          4,
          4,
          4,
          4,
          4,
          4,
          4,
          4,
          4,
          4,
          4,
          4,
          4,
          4,
          4,
          4,
          4,
          4,
          4,
          4,
          4,
          4,
          4,
          4,
          4,
          4,
          4,
          4,
          4,
          4,
          4,
          4,
          4,
          4,
          4,
          4,
          4,
          4,
          4
         ],
         "xaxis": "x",
         "yaxis": "y"
        }
       ],
       "layout": {
        "barmode": "relative",
        "height": 300,
        "legend": {
         "tracegroupgap": 0
        },
        "template": {
         "data": {
          "bar": [
           {
            "error_x": {
             "color": "#2a3f5f"
            },
            "error_y": {
             "color": "#2a3f5f"
            },
            "marker": {
             "line": {
              "color": "#E5ECF6",
              "width": 0.5
             },
             "pattern": {
              "fillmode": "overlay",
              "size": 10,
              "solidity": 0.2
             }
            },
            "type": "bar"
           }
          ],
          "barpolar": [
           {
            "marker": {
             "line": {
              "color": "#E5ECF6",
              "width": 0.5
             },
             "pattern": {
              "fillmode": "overlay",
              "size": 10,
              "solidity": 0.2
             }
            },
            "type": "barpolar"
           }
          ],
          "carpet": [
           {
            "aaxis": {
             "endlinecolor": "#2a3f5f",
             "gridcolor": "white",
             "linecolor": "white",
             "minorgridcolor": "white",
             "startlinecolor": "#2a3f5f"
            },
            "baxis": {
             "endlinecolor": "#2a3f5f",
             "gridcolor": "white",
             "linecolor": "white",
             "minorgridcolor": "white",
             "startlinecolor": "#2a3f5f"
            },
            "type": "carpet"
           }
          ],
          "choropleth": [
           {
            "colorbar": {
             "outlinewidth": 0,
             "ticks": ""
            },
            "type": "choropleth"
           }
          ],
          "contour": [
           {
            "colorbar": {
             "outlinewidth": 0,
             "ticks": ""
            },
            "colorscale": [
             [
              0,
              "#0d0887"
             ],
             [
              0.1111111111111111,
              "#46039f"
             ],
             [
              0.2222222222222222,
              "#7201a8"
             ],
             [
              0.3333333333333333,
              "#9c179e"
             ],
             [
              0.4444444444444444,
              "#bd3786"
             ],
             [
              0.5555555555555556,
              "#d8576b"
             ],
             [
              0.6666666666666666,
              "#ed7953"
             ],
             [
              0.7777777777777778,
              "#fb9f3a"
             ],
             [
              0.8888888888888888,
              "#fdca26"
             ],
             [
              1,
              "#f0f921"
             ]
            ],
            "type": "contour"
           }
          ],
          "contourcarpet": [
           {
            "colorbar": {
             "outlinewidth": 0,
             "ticks": ""
            },
            "type": "contourcarpet"
           }
          ],
          "heatmap": [
           {
            "colorbar": {
             "outlinewidth": 0,
             "ticks": ""
            },
            "colorscale": [
             [
              0,
              "#0d0887"
             ],
             [
              0.1111111111111111,
              "#46039f"
             ],
             [
              0.2222222222222222,
              "#7201a8"
             ],
             [
              0.3333333333333333,
              "#9c179e"
             ],
             [
              0.4444444444444444,
              "#bd3786"
             ],
             [
              0.5555555555555556,
              "#d8576b"
             ],
             [
              0.6666666666666666,
              "#ed7953"
             ],
             [
              0.7777777777777778,
              "#fb9f3a"
             ],
             [
              0.8888888888888888,
              "#fdca26"
             ],
             [
              1,
              "#f0f921"
             ]
            ],
            "type": "heatmap"
           }
          ],
          "heatmapgl": [
           {
            "colorbar": {
             "outlinewidth": 0,
             "ticks": ""
            },
            "colorscale": [
             [
              0,
              "#0d0887"
             ],
             [
              0.1111111111111111,
              "#46039f"
             ],
             [
              0.2222222222222222,
              "#7201a8"
             ],
             [
              0.3333333333333333,
              "#9c179e"
             ],
             [
              0.4444444444444444,
              "#bd3786"
             ],
             [
              0.5555555555555556,
              "#d8576b"
             ],
             [
              0.6666666666666666,
              "#ed7953"
             ],
             [
              0.7777777777777778,
              "#fb9f3a"
             ],
             [
              0.8888888888888888,
              "#fdca26"
             ],
             [
              1,
              "#f0f921"
             ]
            ],
            "type": "heatmapgl"
           }
          ],
          "histogram": [
           {
            "marker": {
             "pattern": {
              "fillmode": "overlay",
              "size": 10,
              "solidity": 0.2
             }
            },
            "type": "histogram"
           }
          ],
          "histogram2d": [
           {
            "colorbar": {
             "outlinewidth": 0,
             "ticks": ""
            },
            "colorscale": [
             [
              0,
              "#0d0887"
             ],
             [
              0.1111111111111111,
              "#46039f"
             ],
             [
              0.2222222222222222,
              "#7201a8"
             ],
             [
              0.3333333333333333,
              "#9c179e"
             ],
             [
              0.4444444444444444,
              "#bd3786"
             ],
             [
              0.5555555555555556,
              "#d8576b"
             ],
             [
              0.6666666666666666,
              "#ed7953"
             ],
             [
              0.7777777777777778,
              "#fb9f3a"
             ],
             [
              0.8888888888888888,
              "#fdca26"
             ],
             [
              1,
              "#f0f921"
             ]
            ],
            "type": "histogram2d"
           }
          ],
          "histogram2dcontour": [
           {
            "colorbar": {
             "outlinewidth": 0,
             "ticks": ""
            },
            "colorscale": [
             [
              0,
              "#0d0887"
             ],
             [
              0.1111111111111111,
              "#46039f"
             ],
             [
              0.2222222222222222,
              "#7201a8"
             ],
             [
              0.3333333333333333,
              "#9c179e"
             ],
             [
              0.4444444444444444,
              "#bd3786"
             ],
             [
              0.5555555555555556,
              "#d8576b"
             ],
             [
              0.6666666666666666,
              "#ed7953"
             ],
             [
              0.7777777777777778,
              "#fb9f3a"
             ],
             [
              0.8888888888888888,
              "#fdca26"
             ],
             [
              1,
              "#f0f921"
             ]
            ],
            "type": "histogram2dcontour"
           }
          ],
          "mesh3d": [
           {
            "colorbar": {
             "outlinewidth": 0,
             "ticks": ""
            },
            "type": "mesh3d"
           }
          ],
          "parcoords": [
           {
            "line": {
             "colorbar": {
              "outlinewidth": 0,
              "ticks": ""
             }
            },
            "type": "parcoords"
           }
          ],
          "pie": [
           {
            "automargin": true,
            "type": "pie"
           }
          ],
          "scatter": [
           {
            "fillpattern": {
             "fillmode": "overlay",
             "size": 10,
             "solidity": 0.2
            },
            "type": "scatter"
           }
          ],
          "scatter3d": [
           {
            "line": {
             "colorbar": {
              "outlinewidth": 0,
              "ticks": ""
             }
            },
            "marker": {
             "colorbar": {
              "outlinewidth": 0,
              "ticks": ""
             }
            },
            "type": "scatter3d"
           }
          ],
          "scattercarpet": [
           {
            "marker": {
             "colorbar": {
              "outlinewidth": 0,
              "ticks": ""
             }
            },
            "type": "scattercarpet"
           }
          ],
          "scattergeo": [
           {
            "marker": {
             "colorbar": {
              "outlinewidth": 0,
              "ticks": ""
             }
            },
            "type": "scattergeo"
           }
          ],
          "scattergl": [
           {
            "marker": {
             "colorbar": {
              "outlinewidth": 0,
              "ticks": ""
             }
            },
            "type": "scattergl"
           }
          ],
          "scattermapbox": [
           {
            "marker": {
             "colorbar": {
              "outlinewidth": 0,
              "ticks": ""
             }
            },
            "type": "scattermapbox"
           }
          ],
          "scatterpolar": [
           {
            "marker": {
             "colorbar": {
              "outlinewidth": 0,
              "ticks": ""
             }
            },
            "type": "scatterpolar"
           }
          ],
          "scatterpolargl": [
           {
            "marker": {
             "colorbar": {
              "outlinewidth": 0,
              "ticks": ""
             }
            },
            "type": "scatterpolargl"
           }
          ],
          "scatterternary": [
           {
            "marker": {
             "colorbar": {
              "outlinewidth": 0,
              "ticks": ""
             }
            },
            "type": "scatterternary"
           }
          ],
          "surface": [
           {
            "colorbar": {
             "outlinewidth": 0,
             "ticks": ""
            },
            "colorscale": [
             [
              0,
              "#0d0887"
             ],
             [
              0.1111111111111111,
              "#46039f"
             ],
             [
              0.2222222222222222,
              "#7201a8"
             ],
             [
              0.3333333333333333,
              "#9c179e"
             ],
             [
              0.4444444444444444,
              "#bd3786"
             ],
             [
              0.5555555555555556,
              "#d8576b"
             ],
             [
              0.6666666666666666,
              "#ed7953"
             ],
             [
              0.7777777777777778,
              "#fb9f3a"
             ],
             [
              0.8888888888888888,
              "#fdca26"
             ],
             [
              1,
              "#f0f921"
             ]
            ],
            "type": "surface"
           }
          ],
          "table": [
           {
            "cells": {
             "fill": {
              "color": "#EBF0F8"
             },
             "line": {
              "color": "white"
             }
            },
            "header": {
             "fill": {
              "color": "#C8D4E3"
             },
             "line": {
              "color": "white"
             }
            },
            "type": "table"
           }
          ]
         },
         "layout": {
          "annotationdefaults": {
           "arrowcolor": "#2a3f5f",
           "arrowhead": 0,
           "arrowwidth": 1
          },
          "autotypenumbers": "strict",
          "coloraxis": {
           "colorbar": {
            "outlinewidth": 0,
            "ticks": ""
           }
          },
          "colorscale": {
           "diverging": [
            [
             0,
             "#8e0152"
            ],
            [
             0.1,
             "#c51b7d"
            ],
            [
             0.2,
             "#de77ae"
            ],
            [
             0.3,
             "#f1b6da"
            ],
            [
             0.4,
             "#fde0ef"
            ],
            [
             0.5,
             "#f7f7f7"
            ],
            [
             0.6,
             "#e6f5d0"
            ],
            [
             0.7,
             "#b8e186"
            ],
            [
             0.8,
             "#7fbc41"
            ],
            [
             0.9,
             "#4d9221"
            ],
            [
             1,
             "#276419"
            ]
           ],
           "sequential": [
            [
             0,
             "#0d0887"
            ],
            [
             0.1111111111111111,
             "#46039f"
            ],
            [
             0.2222222222222222,
             "#7201a8"
            ],
            [
             0.3333333333333333,
             "#9c179e"
            ],
            [
             0.4444444444444444,
             "#bd3786"
            ],
            [
             0.5555555555555556,
             "#d8576b"
            ],
            [
             0.6666666666666666,
             "#ed7953"
            ],
            [
             0.7777777777777778,
             "#fb9f3a"
            ],
            [
             0.8888888888888888,
             "#fdca26"
            ],
            [
             1,
             "#f0f921"
            ]
           ],
           "sequentialminus": [
            [
             0,
             "#0d0887"
            ],
            [
             0.1111111111111111,
             "#46039f"
            ],
            [
             0.2222222222222222,
             "#7201a8"
            ],
            [
             0.3333333333333333,
             "#9c179e"
            ],
            [
             0.4444444444444444,
             "#bd3786"
            ],
            [
             0.5555555555555556,
             "#d8576b"
            ],
            [
             0.6666666666666666,
             "#ed7953"
            ],
            [
             0.7777777777777778,
             "#fb9f3a"
            ],
            [
             0.8888888888888888,
             "#fdca26"
            ],
            [
             1,
             "#f0f921"
            ]
           ]
          },
          "colorway": [
           "#636efa",
           "#EF553B",
           "#00cc96",
           "#ab63fa",
           "#FFA15A",
           "#19d3f3",
           "#FF6692",
           "#B6E880",
           "#FF97FF",
           "#FECB52"
          ],
          "font": {
           "color": "#2a3f5f"
          },
          "geo": {
           "bgcolor": "white",
           "lakecolor": "white",
           "landcolor": "#E5ECF6",
           "showlakes": true,
           "showland": true,
           "subunitcolor": "white"
          },
          "hoverlabel": {
           "align": "left"
          },
          "hovermode": "closest",
          "mapbox": {
           "style": "light"
          },
          "paper_bgcolor": "white",
          "plot_bgcolor": "#E5ECF6",
          "polar": {
           "angularaxis": {
            "gridcolor": "white",
            "linecolor": "white",
            "ticks": ""
           },
           "bgcolor": "#E5ECF6",
           "radialaxis": {
            "gridcolor": "white",
            "linecolor": "white",
            "ticks": ""
           }
          },
          "scene": {
           "xaxis": {
            "backgroundcolor": "#E5ECF6",
            "gridcolor": "white",
            "gridwidth": 2,
            "linecolor": "white",
            "showbackground": true,
            "ticks": "",
            "zerolinecolor": "white"
           },
           "yaxis": {
            "backgroundcolor": "#E5ECF6",
            "gridcolor": "white",
            "gridwidth": 2,
            "linecolor": "white",
            "showbackground": true,
            "ticks": "",
            "zerolinecolor": "white"
           },
           "zaxis": {
            "backgroundcolor": "#E5ECF6",
            "gridcolor": "white",
            "gridwidth": 2,
            "linecolor": "white",
            "showbackground": true,
            "ticks": "",
            "zerolinecolor": "white"
           }
          },
          "shapedefaults": {
           "line": {
            "color": "#2a3f5f"
           }
          },
          "ternary": {
           "aaxis": {
            "gridcolor": "white",
            "linecolor": "white",
            "ticks": ""
           },
           "baxis": {
            "gridcolor": "white",
            "linecolor": "white",
            "ticks": ""
           },
           "bgcolor": "#E5ECF6",
           "caxis": {
            "gridcolor": "white",
            "linecolor": "white",
            "ticks": ""
           }
          },
          "title": {
           "x": 0.05
          },
          "xaxis": {
           "automargin": true,
           "gridcolor": "white",
           "linecolor": "white",
           "ticks": "",
           "title": {
            "standoff": 15
           },
           "zerolinecolor": "white",
           "zerolinewidth": 2
          },
          "yaxis": {
           "automargin": true,
           "gridcolor": "white",
           "linecolor": "white",
           "ticks": "",
           "title": {
            "standoff": 15
           },
           "zerolinecolor": "white",
           "zerolinewidth": 2
          }
         }
        },
        "title": {
         "text": "Distribution of passes in cluster 1 using GMM in shawnee_location_2"
        },
        "width": 800,
        "xaxis": {
         "anchor": "y",
         "domain": [
          0,
          1
         ],
         "title": {
          "text": "pass_no"
         }
        },
        "yaxis": {
         "anchor": "x",
         "domain": [
          0,
          1
         ],
         "title": {
          "text": "percent"
         }
        }
       }
      },
      "text/html": [
       "<div>                            <div id=\"d4e0c24b-1ba1-429a-8ab4-c09176bea016\" class=\"plotly-graph-div\" style=\"height:300px; width:800px;\"></div>            <script type=\"text/javascript\">                require([\"plotly\"], function(Plotly) {                    window.PLOTLYENV=window.PLOTLYENV || {};                                    if (document.getElementById(\"d4e0c24b-1ba1-429a-8ab4-c09176bea016\")) {                    Plotly.newPlot(                        \"d4e0c24b-1ba1-429a-8ab4-c09176bea016\",                        [{\"alignmentgroup\":\"True\",\"bingroup\":\"x\",\"histnorm\":\"percent\",\"hovertemplate\":\"pass_no=%{x}<br>percent=%{y}<extra></extra>\",\"legendgroup\":\"\",\"marker\":{\"color\":\"#636efa\",\"pattern\":{\"shape\":\"\"}},\"name\":\"\",\"nbinsx\":5,\"offsetgroup\":\"\",\"orientation\":\"v\",\"showlegend\":false,\"x\":[1,1,1,2,2,2,2,2,2,2,2,2,2,2,2,2,2,2,2,2,2,2,2,2,2,2,2,2,2,2,4,4,4,4,4,4,4,4,4,4,4,4,4,4,4,4,4,4,4,4,4,4,4,4,4,4,4,4,4,4,4,4,4,4,4,4,4,4,4,4,4,4,4,4,4,4,4,4,4,4],\"xaxis\":\"x\",\"yaxis\":\"y\",\"type\":\"histogram\"}],                        {\"template\":{\"data\":{\"histogram2dcontour\":[{\"type\":\"histogram2dcontour\",\"colorbar\":{\"outlinewidth\":0,\"ticks\":\"\"},\"colorscale\":[[0.0,\"#0d0887\"],[0.1111111111111111,\"#46039f\"],[0.2222222222222222,\"#7201a8\"],[0.3333333333333333,\"#9c179e\"],[0.4444444444444444,\"#bd3786\"],[0.5555555555555556,\"#d8576b\"],[0.6666666666666666,\"#ed7953\"],[0.7777777777777778,\"#fb9f3a\"],[0.8888888888888888,\"#fdca26\"],[1.0,\"#f0f921\"]]}],\"choropleth\":[{\"type\":\"choropleth\",\"colorbar\":{\"outlinewidth\":0,\"ticks\":\"\"}}],\"histogram2d\":[{\"type\":\"histogram2d\",\"colorbar\":{\"outlinewidth\":0,\"ticks\":\"\"},\"colorscale\":[[0.0,\"#0d0887\"],[0.1111111111111111,\"#46039f\"],[0.2222222222222222,\"#7201a8\"],[0.3333333333333333,\"#9c179e\"],[0.4444444444444444,\"#bd3786\"],[0.5555555555555556,\"#d8576b\"],[0.6666666666666666,\"#ed7953\"],[0.7777777777777778,\"#fb9f3a\"],[0.8888888888888888,\"#fdca26\"],[1.0,\"#f0f921\"]]}],\"heatmap\":[{\"type\":\"heatmap\",\"colorbar\":{\"outlinewidth\":0,\"ticks\":\"\"},\"colorscale\":[[0.0,\"#0d0887\"],[0.1111111111111111,\"#46039f\"],[0.2222222222222222,\"#7201a8\"],[0.3333333333333333,\"#9c179e\"],[0.4444444444444444,\"#bd3786\"],[0.5555555555555556,\"#d8576b\"],[0.6666666666666666,\"#ed7953\"],[0.7777777777777778,\"#fb9f3a\"],[0.8888888888888888,\"#fdca26\"],[1.0,\"#f0f921\"]]}],\"heatmapgl\":[{\"type\":\"heatmapgl\",\"colorbar\":{\"outlinewidth\":0,\"ticks\":\"\"},\"colorscale\":[[0.0,\"#0d0887\"],[0.1111111111111111,\"#46039f\"],[0.2222222222222222,\"#7201a8\"],[0.3333333333333333,\"#9c179e\"],[0.4444444444444444,\"#bd3786\"],[0.5555555555555556,\"#d8576b\"],[0.6666666666666666,\"#ed7953\"],[0.7777777777777778,\"#fb9f3a\"],[0.8888888888888888,\"#fdca26\"],[1.0,\"#f0f921\"]]}],\"contourcarpet\":[{\"type\":\"contourcarpet\",\"colorbar\":{\"outlinewidth\":0,\"ticks\":\"\"}}],\"contour\":[{\"type\":\"contour\",\"colorbar\":{\"outlinewidth\":0,\"ticks\":\"\"},\"colorscale\":[[0.0,\"#0d0887\"],[0.1111111111111111,\"#46039f\"],[0.2222222222222222,\"#7201a8\"],[0.3333333333333333,\"#9c179e\"],[0.4444444444444444,\"#bd3786\"],[0.5555555555555556,\"#d8576b\"],[0.6666666666666666,\"#ed7953\"],[0.7777777777777778,\"#fb9f3a\"],[0.8888888888888888,\"#fdca26\"],[1.0,\"#f0f921\"]]}],\"surface\":[{\"type\":\"surface\",\"colorbar\":{\"outlinewidth\":0,\"ticks\":\"\"},\"colorscale\":[[0.0,\"#0d0887\"],[0.1111111111111111,\"#46039f\"],[0.2222222222222222,\"#7201a8\"],[0.3333333333333333,\"#9c179e\"],[0.4444444444444444,\"#bd3786\"],[0.5555555555555556,\"#d8576b\"],[0.6666666666666666,\"#ed7953\"],[0.7777777777777778,\"#fb9f3a\"],[0.8888888888888888,\"#fdca26\"],[1.0,\"#f0f921\"]]}],\"mesh3d\":[{\"type\":\"mesh3d\",\"colorbar\":{\"outlinewidth\":0,\"ticks\":\"\"}}],\"scatter\":[{\"fillpattern\":{\"fillmode\":\"overlay\",\"size\":10,\"solidity\":0.2},\"type\":\"scatter\"}],\"parcoords\":[{\"type\":\"parcoords\",\"line\":{\"colorbar\":{\"outlinewidth\":0,\"ticks\":\"\"}}}],\"scatterpolargl\":[{\"type\":\"scatterpolargl\",\"marker\":{\"colorbar\":{\"outlinewidth\":0,\"ticks\":\"\"}}}],\"bar\":[{\"error_x\":{\"color\":\"#2a3f5f\"},\"error_y\":{\"color\":\"#2a3f5f\"},\"marker\":{\"line\":{\"color\":\"#E5ECF6\",\"width\":0.5},\"pattern\":{\"fillmode\":\"overlay\",\"size\":10,\"solidity\":0.2}},\"type\":\"bar\"}],\"scattergeo\":[{\"type\":\"scattergeo\",\"marker\":{\"colorbar\":{\"outlinewidth\":0,\"ticks\":\"\"}}}],\"scatterpolar\":[{\"type\":\"scatterpolar\",\"marker\":{\"colorbar\":{\"outlinewidth\":0,\"ticks\":\"\"}}}],\"histogram\":[{\"marker\":{\"pattern\":{\"fillmode\":\"overlay\",\"size\":10,\"solidity\":0.2}},\"type\":\"histogram\"}],\"scattergl\":[{\"type\":\"scattergl\",\"marker\":{\"colorbar\":{\"outlinewidth\":0,\"ticks\":\"\"}}}],\"scatter3d\":[{\"type\":\"scatter3d\",\"line\":{\"colorbar\":{\"outlinewidth\":0,\"ticks\":\"\"}},\"marker\":{\"colorbar\":{\"outlinewidth\":0,\"ticks\":\"\"}}}],\"scattermapbox\":[{\"type\":\"scattermapbox\",\"marker\":{\"colorbar\":{\"outlinewidth\":0,\"ticks\":\"\"}}}],\"scatterternary\":[{\"type\":\"scatterternary\",\"marker\":{\"colorbar\":{\"outlinewidth\":0,\"ticks\":\"\"}}}],\"scattercarpet\":[{\"type\":\"scattercarpet\",\"marker\":{\"colorbar\":{\"outlinewidth\":0,\"ticks\":\"\"}}}],\"carpet\":[{\"aaxis\":{\"endlinecolor\":\"#2a3f5f\",\"gridcolor\":\"white\",\"linecolor\":\"white\",\"minorgridcolor\":\"white\",\"startlinecolor\":\"#2a3f5f\"},\"baxis\":{\"endlinecolor\":\"#2a3f5f\",\"gridcolor\":\"white\",\"linecolor\":\"white\",\"minorgridcolor\":\"white\",\"startlinecolor\":\"#2a3f5f\"},\"type\":\"carpet\"}],\"table\":[{\"cells\":{\"fill\":{\"color\":\"#EBF0F8\"},\"line\":{\"color\":\"white\"}},\"header\":{\"fill\":{\"color\":\"#C8D4E3\"},\"line\":{\"color\":\"white\"}},\"type\":\"table\"}],\"barpolar\":[{\"marker\":{\"line\":{\"color\":\"#E5ECF6\",\"width\":0.5},\"pattern\":{\"fillmode\":\"overlay\",\"size\":10,\"solidity\":0.2}},\"type\":\"barpolar\"}],\"pie\":[{\"automargin\":true,\"type\":\"pie\"}]},\"layout\":{\"autotypenumbers\":\"strict\",\"colorway\":[\"#636efa\",\"#EF553B\",\"#00cc96\",\"#ab63fa\",\"#FFA15A\",\"#19d3f3\",\"#FF6692\",\"#B6E880\",\"#FF97FF\",\"#FECB52\"],\"font\":{\"color\":\"#2a3f5f\"},\"hovermode\":\"closest\",\"hoverlabel\":{\"align\":\"left\"},\"paper_bgcolor\":\"white\",\"plot_bgcolor\":\"#E5ECF6\",\"polar\":{\"bgcolor\":\"#E5ECF6\",\"angularaxis\":{\"gridcolor\":\"white\",\"linecolor\":\"white\",\"ticks\":\"\"},\"radialaxis\":{\"gridcolor\":\"white\",\"linecolor\":\"white\",\"ticks\":\"\"}},\"ternary\":{\"bgcolor\":\"#E5ECF6\",\"aaxis\":{\"gridcolor\":\"white\",\"linecolor\":\"white\",\"ticks\":\"\"},\"baxis\":{\"gridcolor\":\"white\",\"linecolor\":\"white\",\"ticks\":\"\"},\"caxis\":{\"gridcolor\":\"white\",\"linecolor\":\"white\",\"ticks\":\"\"}},\"coloraxis\":{\"colorbar\":{\"outlinewidth\":0,\"ticks\":\"\"}},\"colorscale\":{\"sequential\":[[0.0,\"#0d0887\"],[0.1111111111111111,\"#46039f\"],[0.2222222222222222,\"#7201a8\"],[0.3333333333333333,\"#9c179e\"],[0.4444444444444444,\"#bd3786\"],[0.5555555555555556,\"#d8576b\"],[0.6666666666666666,\"#ed7953\"],[0.7777777777777778,\"#fb9f3a\"],[0.8888888888888888,\"#fdca26\"],[1.0,\"#f0f921\"]],\"sequentialminus\":[[0.0,\"#0d0887\"],[0.1111111111111111,\"#46039f\"],[0.2222222222222222,\"#7201a8\"],[0.3333333333333333,\"#9c179e\"],[0.4444444444444444,\"#bd3786\"],[0.5555555555555556,\"#d8576b\"],[0.6666666666666666,\"#ed7953\"],[0.7777777777777778,\"#fb9f3a\"],[0.8888888888888888,\"#fdca26\"],[1.0,\"#f0f921\"]],\"diverging\":[[0,\"#8e0152\"],[0.1,\"#c51b7d\"],[0.2,\"#de77ae\"],[0.3,\"#f1b6da\"],[0.4,\"#fde0ef\"],[0.5,\"#f7f7f7\"],[0.6,\"#e6f5d0\"],[0.7,\"#b8e186\"],[0.8,\"#7fbc41\"],[0.9,\"#4d9221\"],[1,\"#276419\"]]},\"xaxis\":{\"gridcolor\":\"white\",\"linecolor\":\"white\",\"ticks\":\"\",\"title\":{\"standoff\":15},\"zerolinecolor\":\"white\",\"automargin\":true,\"zerolinewidth\":2},\"yaxis\":{\"gridcolor\":\"white\",\"linecolor\":\"white\",\"ticks\":\"\",\"title\":{\"standoff\":15},\"zerolinecolor\":\"white\",\"automargin\":true,\"zerolinewidth\":2},\"scene\":{\"xaxis\":{\"backgroundcolor\":\"#E5ECF6\",\"gridcolor\":\"white\",\"linecolor\":\"white\",\"showbackground\":true,\"ticks\":\"\",\"zerolinecolor\":\"white\",\"gridwidth\":2},\"yaxis\":{\"backgroundcolor\":\"#E5ECF6\",\"gridcolor\":\"white\",\"linecolor\":\"white\",\"showbackground\":true,\"ticks\":\"\",\"zerolinecolor\":\"white\",\"gridwidth\":2},\"zaxis\":{\"backgroundcolor\":\"#E5ECF6\",\"gridcolor\":\"white\",\"linecolor\":\"white\",\"showbackground\":true,\"ticks\":\"\",\"zerolinecolor\":\"white\",\"gridwidth\":2}},\"shapedefaults\":{\"line\":{\"color\":\"#2a3f5f\"}},\"annotationdefaults\":{\"arrowcolor\":\"#2a3f5f\",\"arrowhead\":0,\"arrowwidth\":1},\"geo\":{\"bgcolor\":\"white\",\"landcolor\":\"#E5ECF6\",\"subunitcolor\":\"white\",\"showland\":true,\"showlakes\":true,\"lakecolor\":\"white\"},\"title\":{\"x\":0.05},\"mapbox\":{\"style\":\"light\"}}},\"xaxis\":{\"anchor\":\"y\",\"domain\":[0.0,1.0],\"title\":{\"text\":\"pass_no\"}},\"yaxis\":{\"anchor\":\"x\",\"domain\":[0.0,1.0],\"title\":{\"text\":\"percent\"}},\"legend\":{\"tracegroupgap\":0},\"title\":{\"text\":\"Distribution of passes in cluster 1 using GMM in shawnee_location_2\"},\"barmode\":\"relative\",\"height\":300,\"width\":800},                        {\"responsive\": true}                    ).then(function(){\n",
       "                            \n",
       "var gd = document.getElementById('d4e0c24b-1ba1-429a-8ab4-c09176bea016');\n",
       "var x = new MutationObserver(function (mutations, observer) {{\n",
       "        var display = window.getComputedStyle(gd).display;\n",
       "        if (!display || display === 'none') {{\n",
       "            console.log([gd, 'removed!']);\n",
       "            Plotly.purge(gd);\n",
       "            observer.disconnect();\n",
       "        }}\n",
       "}});\n",
       "\n",
       "// Listen for the removal of the full notebook cells\n",
       "var notebookContainer = gd.closest('#notebook-container');\n",
       "if (notebookContainer) {{\n",
       "    x.observe(notebookContainer, {childList: true});\n",
       "}}\n",
       "\n",
       "// Listen for the clearing of the current output cell\n",
       "var outputEl = gd.closest('.output');\n",
       "if (outputEl) {{\n",
       "    x.observe(outputEl, {childList: true});\n",
       "}}\n",
       "\n",
       "                        })                };                });            </script>        </div>"
      ]
     },
     "metadata": {},
     "output_type": "display_data"
    },
    {
     "data": {
      "application/vnd.plotly.v1+json": {
       "config": {
        "plotlyServerURL": "https://plot.ly"
       },
       "data": [
        {
         "alignmentgroup": "True",
         "bingroup": "x",
         "histnorm": "percent",
         "hovertemplate": "pass_no=%{x}<br>percent=%{y}<extra></extra>",
         "legendgroup": "",
         "marker": {
          "color": "#636efa",
          "pattern": {
           "shape": ""
          }
         },
         "name": "",
         "nbinsx": 5,
         "offsetgroup": "",
         "orientation": "v",
         "showlegend": false,
         "type": "histogram",
         "x": [
          1,
          1,
          1,
          1,
          1,
          1,
          1,
          1,
          1,
          1,
          1,
          1,
          1,
          1,
          1,
          1,
          1,
          1,
          1,
          1,
          1,
          1,
          2,
          2,
          2,
          2,
          2,
          2,
          2,
          2,
          2,
          2,
          2,
          2,
          2,
          2,
          2,
          2,
          2,
          2,
          2,
          2,
          2,
          2,
          2,
          2,
          2,
          2,
          2,
          2,
          2,
          2,
          2,
          2,
          2,
          2,
          2,
          2,
          2,
          2,
          2,
          2,
          2,
          4,
          4,
          4,
          4,
          4,
          4,
          4,
          4,
          4,
          4,
          4,
          4,
          4,
          4,
          4,
          4,
          4,
          4,
          4,
          4,
          4,
          4,
          4,
          4,
          4,
          4,
          4,
          4,
          4,
          4
         ],
         "xaxis": "x",
         "yaxis": "y"
        }
       ],
       "layout": {
        "barmode": "relative",
        "height": 300,
        "legend": {
         "tracegroupgap": 0
        },
        "template": {
         "data": {
          "bar": [
           {
            "error_x": {
             "color": "#2a3f5f"
            },
            "error_y": {
             "color": "#2a3f5f"
            },
            "marker": {
             "line": {
              "color": "#E5ECF6",
              "width": 0.5
             },
             "pattern": {
              "fillmode": "overlay",
              "size": 10,
              "solidity": 0.2
             }
            },
            "type": "bar"
           }
          ],
          "barpolar": [
           {
            "marker": {
             "line": {
              "color": "#E5ECF6",
              "width": 0.5
             },
             "pattern": {
              "fillmode": "overlay",
              "size": 10,
              "solidity": 0.2
             }
            },
            "type": "barpolar"
           }
          ],
          "carpet": [
           {
            "aaxis": {
             "endlinecolor": "#2a3f5f",
             "gridcolor": "white",
             "linecolor": "white",
             "minorgridcolor": "white",
             "startlinecolor": "#2a3f5f"
            },
            "baxis": {
             "endlinecolor": "#2a3f5f",
             "gridcolor": "white",
             "linecolor": "white",
             "minorgridcolor": "white",
             "startlinecolor": "#2a3f5f"
            },
            "type": "carpet"
           }
          ],
          "choropleth": [
           {
            "colorbar": {
             "outlinewidth": 0,
             "ticks": ""
            },
            "type": "choropleth"
           }
          ],
          "contour": [
           {
            "colorbar": {
             "outlinewidth": 0,
             "ticks": ""
            },
            "colorscale": [
             [
              0,
              "#0d0887"
             ],
             [
              0.1111111111111111,
              "#46039f"
             ],
             [
              0.2222222222222222,
              "#7201a8"
             ],
             [
              0.3333333333333333,
              "#9c179e"
             ],
             [
              0.4444444444444444,
              "#bd3786"
             ],
             [
              0.5555555555555556,
              "#d8576b"
             ],
             [
              0.6666666666666666,
              "#ed7953"
             ],
             [
              0.7777777777777778,
              "#fb9f3a"
             ],
             [
              0.8888888888888888,
              "#fdca26"
             ],
             [
              1,
              "#f0f921"
             ]
            ],
            "type": "contour"
           }
          ],
          "contourcarpet": [
           {
            "colorbar": {
             "outlinewidth": 0,
             "ticks": ""
            },
            "type": "contourcarpet"
           }
          ],
          "heatmap": [
           {
            "colorbar": {
             "outlinewidth": 0,
             "ticks": ""
            },
            "colorscale": [
             [
              0,
              "#0d0887"
             ],
             [
              0.1111111111111111,
              "#46039f"
             ],
             [
              0.2222222222222222,
              "#7201a8"
             ],
             [
              0.3333333333333333,
              "#9c179e"
             ],
             [
              0.4444444444444444,
              "#bd3786"
             ],
             [
              0.5555555555555556,
              "#d8576b"
             ],
             [
              0.6666666666666666,
              "#ed7953"
             ],
             [
              0.7777777777777778,
              "#fb9f3a"
             ],
             [
              0.8888888888888888,
              "#fdca26"
             ],
             [
              1,
              "#f0f921"
             ]
            ],
            "type": "heatmap"
           }
          ],
          "heatmapgl": [
           {
            "colorbar": {
             "outlinewidth": 0,
             "ticks": ""
            },
            "colorscale": [
             [
              0,
              "#0d0887"
             ],
             [
              0.1111111111111111,
              "#46039f"
             ],
             [
              0.2222222222222222,
              "#7201a8"
             ],
             [
              0.3333333333333333,
              "#9c179e"
             ],
             [
              0.4444444444444444,
              "#bd3786"
             ],
             [
              0.5555555555555556,
              "#d8576b"
             ],
             [
              0.6666666666666666,
              "#ed7953"
             ],
             [
              0.7777777777777778,
              "#fb9f3a"
             ],
             [
              0.8888888888888888,
              "#fdca26"
             ],
             [
              1,
              "#f0f921"
             ]
            ],
            "type": "heatmapgl"
           }
          ],
          "histogram": [
           {
            "marker": {
             "pattern": {
              "fillmode": "overlay",
              "size": 10,
              "solidity": 0.2
             }
            },
            "type": "histogram"
           }
          ],
          "histogram2d": [
           {
            "colorbar": {
             "outlinewidth": 0,
             "ticks": ""
            },
            "colorscale": [
             [
              0,
              "#0d0887"
             ],
             [
              0.1111111111111111,
              "#46039f"
             ],
             [
              0.2222222222222222,
              "#7201a8"
             ],
             [
              0.3333333333333333,
              "#9c179e"
             ],
             [
              0.4444444444444444,
              "#bd3786"
             ],
             [
              0.5555555555555556,
              "#d8576b"
             ],
             [
              0.6666666666666666,
              "#ed7953"
             ],
             [
              0.7777777777777778,
              "#fb9f3a"
             ],
             [
              0.8888888888888888,
              "#fdca26"
             ],
             [
              1,
              "#f0f921"
             ]
            ],
            "type": "histogram2d"
           }
          ],
          "histogram2dcontour": [
           {
            "colorbar": {
             "outlinewidth": 0,
             "ticks": ""
            },
            "colorscale": [
             [
              0,
              "#0d0887"
             ],
             [
              0.1111111111111111,
              "#46039f"
             ],
             [
              0.2222222222222222,
              "#7201a8"
             ],
             [
              0.3333333333333333,
              "#9c179e"
             ],
             [
              0.4444444444444444,
              "#bd3786"
             ],
             [
              0.5555555555555556,
              "#d8576b"
             ],
             [
              0.6666666666666666,
              "#ed7953"
             ],
             [
              0.7777777777777778,
              "#fb9f3a"
             ],
             [
              0.8888888888888888,
              "#fdca26"
             ],
             [
              1,
              "#f0f921"
             ]
            ],
            "type": "histogram2dcontour"
           }
          ],
          "mesh3d": [
           {
            "colorbar": {
             "outlinewidth": 0,
             "ticks": ""
            },
            "type": "mesh3d"
           }
          ],
          "parcoords": [
           {
            "line": {
             "colorbar": {
              "outlinewidth": 0,
              "ticks": ""
             }
            },
            "type": "parcoords"
           }
          ],
          "pie": [
           {
            "automargin": true,
            "type": "pie"
           }
          ],
          "scatter": [
           {
            "fillpattern": {
             "fillmode": "overlay",
             "size": 10,
             "solidity": 0.2
            },
            "type": "scatter"
           }
          ],
          "scatter3d": [
           {
            "line": {
             "colorbar": {
              "outlinewidth": 0,
              "ticks": ""
             }
            },
            "marker": {
             "colorbar": {
              "outlinewidth": 0,
              "ticks": ""
             }
            },
            "type": "scatter3d"
           }
          ],
          "scattercarpet": [
           {
            "marker": {
             "colorbar": {
              "outlinewidth": 0,
              "ticks": ""
             }
            },
            "type": "scattercarpet"
           }
          ],
          "scattergeo": [
           {
            "marker": {
             "colorbar": {
              "outlinewidth": 0,
              "ticks": ""
             }
            },
            "type": "scattergeo"
           }
          ],
          "scattergl": [
           {
            "marker": {
             "colorbar": {
              "outlinewidth": 0,
              "ticks": ""
             }
            },
            "type": "scattergl"
           }
          ],
          "scattermapbox": [
           {
            "marker": {
             "colorbar": {
              "outlinewidth": 0,
              "ticks": ""
             }
            },
            "type": "scattermapbox"
           }
          ],
          "scatterpolar": [
           {
            "marker": {
             "colorbar": {
              "outlinewidth": 0,
              "ticks": ""
             }
            },
            "type": "scatterpolar"
           }
          ],
          "scatterpolargl": [
           {
            "marker": {
             "colorbar": {
              "outlinewidth": 0,
              "ticks": ""
             }
            },
            "type": "scatterpolargl"
           }
          ],
          "scatterternary": [
           {
            "marker": {
             "colorbar": {
              "outlinewidth": 0,
              "ticks": ""
             }
            },
            "type": "scatterternary"
           }
          ],
          "surface": [
           {
            "colorbar": {
             "outlinewidth": 0,
             "ticks": ""
            },
            "colorscale": [
             [
              0,
              "#0d0887"
             ],
             [
              0.1111111111111111,
              "#46039f"
             ],
             [
              0.2222222222222222,
              "#7201a8"
             ],
             [
              0.3333333333333333,
              "#9c179e"
             ],
             [
              0.4444444444444444,
              "#bd3786"
             ],
             [
              0.5555555555555556,
              "#d8576b"
             ],
             [
              0.6666666666666666,
              "#ed7953"
             ],
             [
              0.7777777777777778,
              "#fb9f3a"
             ],
             [
              0.8888888888888888,
              "#fdca26"
             ],
             [
              1,
              "#f0f921"
             ]
            ],
            "type": "surface"
           }
          ],
          "table": [
           {
            "cells": {
             "fill": {
              "color": "#EBF0F8"
             },
             "line": {
              "color": "white"
             }
            },
            "header": {
             "fill": {
              "color": "#C8D4E3"
             },
             "line": {
              "color": "white"
             }
            },
            "type": "table"
           }
          ]
         },
         "layout": {
          "annotationdefaults": {
           "arrowcolor": "#2a3f5f",
           "arrowhead": 0,
           "arrowwidth": 1
          },
          "autotypenumbers": "strict",
          "coloraxis": {
           "colorbar": {
            "outlinewidth": 0,
            "ticks": ""
           }
          },
          "colorscale": {
           "diverging": [
            [
             0,
             "#8e0152"
            ],
            [
             0.1,
             "#c51b7d"
            ],
            [
             0.2,
             "#de77ae"
            ],
            [
             0.3,
             "#f1b6da"
            ],
            [
             0.4,
             "#fde0ef"
            ],
            [
             0.5,
             "#f7f7f7"
            ],
            [
             0.6,
             "#e6f5d0"
            ],
            [
             0.7,
             "#b8e186"
            ],
            [
             0.8,
             "#7fbc41"
            ],
            [
             0.9,
             "#4d9221"
            ],
            [
             1,
             "#276419"
            ]
           ],
           "sequential": [
            [
             0,
             "#0d0887"
            ],
            [
             0.1111111111111111,
             "#46039f"
            ],
            [
             0.2222222222222222,
             "#7201a8"
            ],
            [
             0.3333333333333333,
             "#9c179e"
            ],
            [
             0.4444444444444444,
             "#bd3786"
            ],
            [
             0.5555555555555556,
             "#d8576b"
            ],
            [
             0.6666666666666666,
             "#ed7953"
            ],
            [
             0.7777777777777778,
             "#fb9f3a"
            ],
            [
             0.8888888888888888,
             "#fdca26"
            ],
            [
             1,
             "#f0f921"
            ]
           ],
           "sequentialminus": [
            [
             0,
             "#0d0887"
            ],
            [
             0.1111111111111111,
             "#46039f"
            ],
            [
             0.2222222222222222,
             "#7201a8"
            ],
            [
             0.3333333333333333,
             "#9c179e"
            ],
            [
             0.4444444444444444,
             "#bd3786"
            ],
            [
             0.5555555555555556,
             "#d8576b"
            ],
            [
             0.6666666666666666,
             "#ed7953"
            ],
            [
             0.7777777777777778,
             "#fb9f3a"
            ],
            [
             0.8888888888888888,
             "#fdca26"
            ],
            [
             1,
             "#f0f921"
            ]
           ]
          },
          "colorway": [
           "#636efa",
           "#EF553B",
           "#00cc96",
           "#ab63fa",
           "#FFA15A",
           "#19d3f3",
           "#FF6692",
           "#B6E880",
           "#FF97FF",
           "#FECB52"
          ],
          "font": {
           "color": "#2a3f5f"
          },
          "geo": {
           "bgcolor": "white",
           "lakecolor": "white",
           "landcolor": "#E5ECF6",
           "showlakes": true,
           "showland": true,
           "subunitcolor": "white"
          },
          "hoverlabel": {
           "align": "left"
          },
          "hovermode": "closest",
          "mapbox": {
           "style": "light"
          },
          "paper_bgcolor": "white",
          "plot_bgcolor": "#E5ECF6",
          "polar": {
           "angularaxis": {
            "gridcolor": "white",
            "linecolor": "white",
            "ticks": ""
           },
           "bgcolor": "#E5ECF6",
           "radialaxis": {
            "gridcolor": "white",
            "linecolor": "white",
            "ticks": ""
           }
          },
          "scene": {
           "xaxis": {
            "backgroundcolor": "#E5ECF6",
            "gridcolor": "white",
            "gridwidth": 2,
            "linecolor": "white",
            "showbackground": true,
            "ticks": "",
            "zerolinecolor": "white"
           },
           "yaxis": {
            "backgroundcolor": "#E5ECF6",
            "gridcolor": "white",
            "gridwidth": 2,
            "linecolor": "white",
            "showbackground": true,
            "ticks": "",
            "zerolinecolor": "white"
           },
           "zaxis": {
            "backgroundcolor": "#E5ECF6",
            "gridcolor": "white",
            "gridwidth": 2,
            "linecolor": "white",
            "showbackground": true,
            "ticks": "",
            "zerolinecolor": "white"
           }
          },
          "shapedefaults": {
           "line": {
            "color": "#2a3f5f"
           }
          },
          "ternary": {
           "aaxis": {
            "gridcolor": "white",
            "linecolor": "white",
            "ticks": ""
           },
           "baxis": {
            "gridcolor": "white",
            "linecolor": "white",
            "ticks": ""
           },
           "bgcolor": "#E5ECF6",
           "caxis": {
            "gridcolor": "white",
            "linecolor": "white",
            "ticks": ""
           }
          },
          "title": {
           "x": 0.05
          },
          "xaxis": {
           "automargin": true,
           "gridcolor": "white",
           "linecolor": "white",
           "ticks": "",
           "title": {
            "standoff": 15
           },
           "zerolinecolor": "white",
           "zerolinewidth": 2
          },
          "yaxis": {
           "automargin": true,
           "gridcolor": "white",
           "linecolor": "white",
           "ticks": "",
           "title": {
            "standoff": 15
           },
           "zerolinecolor": "white",
           "zerolinewidth": 2
          }
         }
        },
        "title": {
         "text": "Distribution of passes in cluster 2 using GMM in shawnee_location_2"
        },
        "width": 800,
        "xaxis": {
         "anchor": "y",
         "domain": [
          0,
          1
         ],
         "title": {
          "text": "pass_no"
         }
        },
        "yaxis": {
         "anchor": "x",
         "domain": [
          0,
          1
         ],
         "title": {
          "text": "percent"
         }
        }
       }
      },
      "text/html": [
       "<div>                            <div id=\"a39fd96a-6306-45ad-8ef4-c5db048b1b6a\" class=\"plotly-graph-div\" style=\"height:300px; width:800px;\"></div>            <script type=\"text/javascript\">                require([\"plotly\"], function(Plotly) {                    window.PLOTLYENV=window.PLOTLYENV || {};                                    if (document.getElementById(\"a39fd96a-6306-45ad-8ef4-c5db048b1b6a\")) {                    Plotly.newPlot(                        \"a39fd96a-6306-45ad-8ef4-c5db048b1b6a\",                        [{\"alignmentgroup\":\"True\",\"bingroup\":\"x\",\"histnorm\":\"percent\",\"hovertemplate\":\"pass_no=%{x}<br>percent=%{y}<extra></extra>\",\"legendgroup\":\"\",\"marker\":{\"color\":\"#636efa\",\"pattern\":{\"shape\":\"\"}},\"name\":\"\",\"nbinsx\":5,\"offsetgroup\":\"\",\"orientation\":\"v\",\"showlegend\":false,\"x\":[1,1,1,1,1,1,1,1,1,1,1,1,1,1,1,1,1,1,1,1,1,1,2,2,2,2,2,2,2,2,2,2,2,2,2,2,2,2,2,2,2,2,2,2,2,2,2,2,2,2,2,2,2,2,2,2,2,2,2,2,2,2,2,4,4,4,4,4,4,4,4,4,4,4,4,4,4,4,4,4,4,4,4,4,4,4,4,4,4,4,4,4,4],\"xaxis\":\"x\",\"yaxis\":\"y\",\"type\":\"histogram\"}],                        {\"template\":{\"data\":{\"histogram2dcontour\":[{\"type\":\"histogram2dcontour\",\"colorbar\":{\"outlinewidth\":0,\"ticks\":\"\"},\"colorscale\":[[0.0,\"#0d0887\"],[0.1111111111111111,\"#46039f\"],[0.2222222222222222,\"#7201a8\"],[0.3333333333333333,\"#9c179e\"],[0.4444444444444444,\"#bd3786\"],[0.5555555555555556,\"#d8576b\"],[0.6666666666666666,\"#ed7953\"],[0.7777777777777778,\"#fb9f3a\"],[0.8888888888888888,\"#fdca26\"],[1.0,\"#f0f921\"]]}],\"choropleth\":[{\"type\":\"choropleth\",\"colorbar\":{\"outlinewidth\":0,\"ticks\":\"\"}}],\"histogram2d\":[{\"type\":\"histogram2d\",\"colorbar\":{\"outlinewidth\":0,\"ticks\":\"\"},\"colorscale\":[[0.0,\"#0d0887\"],[0.1111111111111111,\"#46039f\"],[0.2222222222222222,\"#7201a8\"],[0.3333333333333333,\"#9c179e\"],[0.4444444444444444,\"#bd3786\"],[0.5555555555555556,\"#d8576b\"],[0.6666666666666666,\"#ed7953\"],[0.7777777777777778,\"#fb9f3a\"],[0.8888888888888888,\"#fdca26\"],[1.0,\"#f0f921\"]]}],\"heatmap\":[{\"type\":\"heatmap\",\"colorbar\":{\"outlinewidth\":0,\"ticks\":\"\"},\"colorscale\":[[0.0,\"#0d0887\"],[0.1111111111111111,\"#46039f\"],[0.2222222222222222,\"#7201a8\"],[0.3333333333333333,\"#9c179e\"],[0.4444444444444444,\"#bd3786\"],[0.5555555555555556,\"#d8576b\"],[0.6666666666666666,\"#ed7953\"],[0.7777777777777778,\"#fb9f3a\"],[0.8888888888888888,\"#fdca26\"],[1.0,\"#f0f921\"]]}],\"heatmapgl\":[{\"type\":\"heatmapgl\",\"colorbar\":{\"outlinewidth\":0,\"ticks\":\"\"},\"colorscale\":[[0.0,\"#0d0887\"],[0.1111111111111111,\"#46039f\"],[0.2222222222222222,\"#7201a8\"],[0.3333333333333333,\"#9c179e\"],[0.4444444444444444,\"#bd3786\"],[0.5555555555555556,\"#d8576b\"],[0.6666666666666666,\"#ed7953\"],[0.7777777777777778,\"#fb9f3a\"],[0.8888888888888888,\"#fdca26\"],[1.0,\"#f0f921\"]]}],\"contourcarpet\":[{\"type\":\"contourcarpet\",\"colorbar\":{\"outlinewidth\":0,\"ticks\":\"\"}}],\"contour\":[{\"type\":\"contour\",\"colorbar\":{\"outlinewidth\":0,\"ticks\":\"\"},\"colorscale\":[[0.0,\"#0d0887\"],[0.1111111111111111,\"#46039f\"],[0.2222222222222222,\"#7201a8\"],[0.3333333333333333,\"#9c179e\"],[0.4444444444444444,\"#bd3786\"],[0.5555555555555556,\"#d8576b\"],[0.6666666666666666,\"#ed7953\"],[0.7777777777777778,\"#fb9f3a\"],[0.8888888888888888,\"#fdca26\"],[1.0,\"#f0f921\"]]}],\"surface\":[{\"type\":\"surface\",\"colorbar\":{\"outlinewidth\":0,\"ticks\":\"\"},\"colorscale\":[[0.0,\"#0d0887\"],[0.1111111111111111,\"#46039f\"],[0.2222222222222222,\"#7201a8\"],[0.3333333333333333,\"#9c179e\"],[0.4444444444444444,\"#bd3786\"],[0.5555555555555556,\"#d8576b\"],[0.6666666666666666,\"#ed7953\"],[0.7777777777777778,\"#fb9f3a\"],[0.8888888888888888,\"#fdca26\"],[1.0,\"#f0f921\"]]}],\"mesh3d\":[{\"type\":\"mesh3d\",\"colorbar\":{\"outlinewidth\":0,\"ticks\":\"\"}}],\"scatter\":[{\"fillpattern\":{\"fillmode\":\"overlay\",\"size\":10,\"solidity\":0.2},\"type\":\"scatter\"}],\"parcoords\":[{\"type\":\"parcoords\",\"line\":{\"colorbar\":{\"outlinewidth\":0,\"ticks\":\"\"}}}],\"scatterpolargl\":[{\"type\":\"scatterpolargl\",\"marker\":{\"colorbar\":{\"outlinewidth\":0,\"ticks\":\"\"}}}],\"bar\":[{\"error_x\":{\"color\":\"#2a3f5f\"},\"error_y\":{\"color\":\"#2a3f5f\"},\"marker\":{\"line\":{\"color\":\"#E5ECF6\",\"width\":0.5},\"pattern\":{\"fillmode\":\"overlay\",\"size\":10,\"solidity\":0.2}},\"type\":\"bar\"}],\"scattergeo\":[{\"type\":\"scattergeo\",\"marker\":{\"colorbar\":{\"outlinewidth\":0,\"ticks\":\"\"}}}],\"scatterpolar\":[{\"type\":\"scatterpolar\",\"marker\":{\"colorbar\":{\"outlinewidth\":0,\"ticks\":\"\"}}}],\"histogram\":[{\"marker\":{\"pattern\":{\"fillmode\":\"overlay\",\"size\":10,\"solidity\":0.2}},\"type\":\"histogram\"}],\"scattergl\":[{\"type\":\"scattergl\",\"marker\":{\"colorbar\":{\"outlinewidth\":0,\"ticks\":\"\"}}}],\"scatter3d\":[{\"type\":\"scatter3d\",\"line\":{\"colorbar\":{\"outlinewidth\":0,\"ticks\":\"\"}},\"marker\":{\"colorbar\":{\"outlinewidth\":0,\"ticks\":\"\"}}}],\"scattermapbox\":[{\"type\":\"scattermapbox\",\"marker\":{\"colorbar\":{\"outlinewidth\":0,\"ticks\":\"\"}}}],\"scatterternary\":[{\"type\":\"scatterternary\",\"marker\":{\"colorbar\":{\"outlinewidth\":0,\"ticks\":\"\"}}}],\"scattercarpet\":[{\"type\":\"scattercarpet\",\"marker\":{\"colorbar\":{\"outlinewidth\":0,\"ticks\":\"\"}}}],\"carpet\":[{\"aaxis\":{\"endlinecolor\":\"#2a3f5f\",\"gridcolor\":\"white\",\"linecolor\":\"white\",\"minorgridcolor\":\"white\",\"startlinecolor\":\"#2a3f5f\"},\"baxis\":{\"endlinecolor\":\"#2a3f5f\",\"gridcolor\":\"white\",\"linecolor\":\"white\",\"minorgridcolor\":\"white\",\"startlinecolor\":\"#2a3f5f\"},\"type\":\"carpet\"}],\"table\":[{\"cells\":{\"fill\":{\"color\":\"#EBF0F8\"},\"line\":{\"color\":\"white\"}},\"header\":{\"fill\":{\"color\":\"#C8D4E3\"},\"line\":{\"color\":\"white\"}},\"type\":\"table\"}],\"barpolar\":[{\"marker\":{\"line\":{\"color\":\"#E5ECF6\",\"width\":0.5},\"pattern\":{\"fillmode\":\"overlay\",\"size\":10,\"solidity\":0.2}},\"type\":\"barpolar\"}],\"pie\":[{\"automargin\":true,\"type\":\"pie\"}]},\"layout\":{\"autotypenumbers\":\"strict\",\"colorway\":[\"#636efa\",\"#EF553B\",\"#00cc96\",\"#ab63fa\",\"#FFA15A\",\"#19d3f3\",\"#FF6692\",\"#B6E880\",\"#FF97FF\",\"#FECB52\"],\"font\":{\"color\":\"#2a3f5f\"},\"hovermode\":\"closest\",\"hoverlabel\":{\"align\":\"left\"},\"paper_bgcolor\":\"white\",\"plot_bgcolor\":\"#E5ECF6\",\"polar\":{\"bgcolor\":\"#E5ECF6\",\"angularaxis\":{\"gridcolor\":\"white\",\"linecolor\":\"white\",\"ticks\":\"\"},\"radialaxis\":{\"gridcolor\":\"white\",\"linecolor\":\"white\",\"ticks\":\"\"}},\"ternary\":{\"bgcolor\":\"#E5ECF6\",\"aaxis\":{\"gridcolor\":\"white\",\"linecolor\":\"white\",\"ticks\":\"\"},\"baxis\":{\"gridcolor\":\"white\",\"linecolor\":\"white\",\"ticks\":\"\"},\"caxis\":{\"gridcolor\":\"white\",\"linecolor\":\"white\",\"ticks\":\"\"}},\"coloraxis\":{\"colorbar\":{\"outlinewidth\":0,\"ticks\":\"\"}},\"colorscale\":{\"sequential\":[[0.0,\"#0d0887\"],[0.1111111111111111,\"#46039f\"],[0.2222222222222222,\"#7201a8\"],[0.3333333333333333,\"#9c179e\"],[0.4444444444444444,\"#bd3786\"],[0.5555555555555556,\"#d8576b\"],[0.6666666666666666,\"#ed7953\"],[0.7777777777777778,\"#fb9f3a\"],[0.8888888888888888,\"#fdca26\"],[1.0,\"#f0f921\"]],\"sequentialminus\":[[0.0,\"#0d0887\"],[0.1111111111111111,\"#46039f\"],[0.2222222222222222,\"#7201a8\"],[0.3333333333333333,\"#9c179e\"],[0.4444444444444444,\"#bd3786\"],[0.5555555555555556,\"#d8576b\"],[0.6666666666666666,\"#ed7953\"],[0.7777777777777778,\"#fb9f3a\"],[0.8888888888888888,\"#fdca26\"],[1.0,\"#f0f921\"]],\"diverging\":[[0,\"#8e0152\"],[0.1,\"#c51b7d\"],[0.2,\"#de77ae\"],[0.3,\"#f1b6da\"],[0.4,\"#fde0ef\"],[0.5,\"#f7f7f7\"],[0.6,\"#e6f5d0\"],[0.7,\"#b8e186\"],[0.8,\"#7fbc41\"],[0.9,\"#4d9221\"],[1,\"#276419\"]]},\"xaxis\":{\"gridcolor\":\"white\",\"linecolor\":\"white\",\"ticks\":\"\",\"title\":{\"standoff\":15},\"zerolinecolor\":\"white\",\"automargin\":true,\"zerolinewidth\":2},\"yaxis\":{\"gridcolor\":\"white\",\"linecolor\":\"white\",\"ticks\":\"\",\"title\":{\"standoff\":15},\"zerolinecolor\":\"white\",\"automargin\":true,\"zerolinewidth\":2},\"scene\":{\"xaxis\":{\"backgroundcolor\":\"#E5ECF6\",\"gridcolor\":\"white\",\"linecolor\":\"white\",\"showbackground\":true,\"ticks\":\"\",\"zerolinecolor\":\"white\",\"gridwidth\":2},\"yaxis\":{\"backgroundcolor\":\"#E5ECF6\",\"gridcolor\":\"white\",\"linecolor\":\"white\",\"showbackground\":true,\"ticks\":\"\",\"zerolinecolor\":\"white\",\"gridwidth\":2},\"zaxis\":{\"backgroundcolor\":\"#E5ECF6\",\"gridcolor\":\"white\",\"linecolor\":\"white\",\"showbackground\":true,\"ticks\":\"\",\"zerolinecolor\":\"white\",\"gridwidth\":2}},\"shapedefaults\":{\"line\":{\"color\":\"#2a3f5f\"}},\"annotationdefaults\":{\"arrowcolor\":\"#2a3f5f\",\"arrowhead\":0,\"arrowwidth\":1},\"geo\":{\"bgcolor\":\"white\",\"landcolor\":\"#E5ECF6\",\"subunitcolor\":\"white\",\"showland\":true,\"showlakes\":true,\"lakecolor\":\"white\"},\"title\":{\"x\":0.05},\"mapbox\":{\"style\":\"light\"}}},\"xaxis\":{\"anchor\":\"y\",\"domain\":[0.0,1.0],\"title\":{\"text\":\"pass_no\"}},\"yaxis\":{\"anchor\":\"x\",\"domain\":[0.0,1.0],\"title\":{\"text\":\"percent\"}},\"legend\":{\"tracegroupgap\":0},\"title\":{\"text\":\"Distribution of passes in cluster 2 using GMM in shawnee_location_2\"},\"barmode\":\"relative\",\"height\":300,\"width\":800},                        {\"responsive\": true}                    ).then(function(){\n",
       "                            \n",
       "var gd = document.getElementById('a39fd96a-6306-45ad-8ef4-c5db048b1b6a');\n",
       "var x = new MutationObserver(function (mutations, observer) {{\n",
       "        var display = window.getComputedStyle(gd).display;\n",
       "        if (!display || display === 'none') {{\n",
       "            console.log([gd, 'removed!']);\n",
       "            Plotly.purge(gd);\n",
       "            observer.disconnect();\n",
       "        }}\n",
       "}});\n",
       "\n",
       "// Listen for the removal of the full notebook cells\n",
       "var notebookContainer = gd.closest('#notebook-container');\n",
       "if (notebookContainer) {{\n",
       "    x.observe(notebookContainer, {childList: true});\n",
       "}}\n",
       "\n",
       "// Listen for the clearing of the current output cell\n",
       "var outputEl = gd.closest('.output');\n",
       "if (outputEl) {{\n",
       "    x.observe(outputEl, {childList: true});\n",
       "}}\n",
       "\n",
       "                        })                };                });            </script>        </div>"
      ]
     },
     "metadata": {},
     "output_type": "display_data"
    },
    {
     "data": {
      "application/vnd.plotly.v1+json": {
       "config": {
        "plotlyServerURL": "https://plot.ly"
       },
       "data": [
        {
         "alignmentgroup": "True",
         "bingroup": "x",
         "histnorm": "percent",
         "hovertemplate": "pass_no=%{x}<br>percent=%{y}<extra></extra>",
         "legendgroup": "",
         "marker": {
          "color": "#636efa",
          "pattern": {
           "shape": ""
          }
         },
         "name": "",
         "nbinsx": 5,
         "offsetgroup": "",
         "orientation": "v",
         "showlegend": false,
         "type": "histogram",
         "x": [
          1,
          1,
          1,
          1,
          1,
          1,
          1,
          1,
          1,
          1,
          1,
          1,
          1,
          1,
          1,
          1,
          1,
          1,
          1,
          1,
          1,
          1,
          2,
          2,
          2,
          2,
          2,
          2,
          2,
          2,
          2,
          2,
          2,
          2,
          2,
          2,
          2,
          2,
          2,
          2,
          2,
          2,
          2,
          2,
          2,
          2,
          2,
          2,
          2,
          2,
          2,
          2,
          2,
          4,
          4,
          4,
          4,
          4,
          4,
          4,
          4,
          4,
          4,
          4,
          4,
          4,
          4,
          4,
          4,
          4,
          4,
          4,
          4,
          4,
          4,
          4,
          4,
          4,
          4,
          4,
          4,
          4,
          4,
          4,
          4,
          4,
          4,
          4,
          4,
          4,
          4,
          4,
          4,
          4,
          4,
          4,
          4,
          4,
          4,
          4,
          4,
          4,
          4
         ],
         "xaxis": "x",
         "yaxis": "y"
        }
       ],
       "layout": {
        "barmode": "relative",
        "height": 300,
        "legend": {
         "tracegroupgap": 0
        },
        "template": {
         "data": {
          "bar": [
           {
            "error_x": {
             "color": "#2a3f5f"
            },
            "error_y": {
             "color": "#2a3f5f"
            },
            "marker": {
             "line": {
              "color": "#E5ECF6",
              "width": 0.5
             },
             "pattern": {
              "fillmode": "overlay",
              "size": 10,
              "solidity": 0.2
             }
            },
            "type": "bar"
           }
          ],
          "barpolar": [
           {
            "marker": {
             "line": {
              "color": "#E5ECF6",
              "width": 0.5
             },
             "pattern": {
              "fillmode": "overlay",
              "size": 10,
              "solidity": 0.2
             }
            },
            "type": "barpolar"
           }
          ],
          "carpet": [
           {
            "aaxis": {
             "endlinecolor": "#2a3f5f",
             "gridcolor": "white",
             "linecolor": "white",
             "minorgridcolor": "white",
             "startlinecolor": "#2a3f5f"
            },
            "baxis": {
             "endlinecolor": "#2a3f5f",
             "gridcolor": "white",
             "linecolor": "white",
             "minorgridcolor": "white",
             "startlinecolor": "#2a3f5f"
            },
            "type": "carpet"
           }
          ],
          "choropleth": [
           {
            "colorbar": {
             "outlinewidth": 0,
             "ticks": ""
            },
            "type": "choropleth"
           }
          ],
          "contour": [
           {
            "colorbar": {
             "outlinewidth": 0,
             "ticks": ""
            },
            "colorscale": [
             [
              0,
              "#0d0887"
             ],
             [
              0.1111111111111111,
              "#46039f"
             ],
             [
              0.2222222222222222,
              "#7201a8"
             ],
             [
              0.3333333333333333,
              "#9c179e"
             ],
             [
              0.4444444444444444,
              "#bd3786"
             ],
             [
              0.5555555555555556,
              "#d8576b"
             ],
             [
              0.6666666666666666,
              "#ed7953"
             ],
             [
              0.7777777777777778,
              "#fb9f3a"
             ],
             [
              0.8888888888888888,
              "#fdca26"
             ],
             [
              1,
              "#f0f921"
             ]
            ],
            "type": "contour"
           }
          ],
          "contourcarpet": [
           {
            "colorbar": {
             "outlinewidth": 0,
             "ticks": ""
            },
            "type": "contourcarpet"
           }
          ],
          "heatmap": [
           {
            "colorbar": {
             "outlinewidth": 0,
             "ticks": ""
            },
            "colorscale": [
             [
              0,
              "#0d0887"
             ],
             [
              0.1111111111111111,
              "#46039f"
             ],
             [
              0.2222222222222222,
              "#7201a8"
             ],
             [
              0.3333333333333333,
              "#9c179e"
             ],
             [
              0.4444444444444444,
              "#bd3786"
             ],
             [
              0.5555555555555556,
              "#d8576b"
             ],
             [
              0.6666666666666666,
              "#ed7953"
             ],
             [
              0.7777777777777778,
              "#fb9f3a"
             ],
             [
              0.8888888888888888,
              "#fdca26"
             ],
             [
              1,
              "#f0f921"
             ]
            ],
            "type": "heatmap"
           }
          ],
          "heatmapgl": [
           {
            "colorbar": {
             "outlinewidth": 0,
             "ticks": ""
            },
            "colorscale": [
             [
              0,
              "#0d0887"
             ],
             [
              0.1111111111111111,
              "#46039f"
             ],
             [
              0.2222222222222222,
              "#7201a8"
             ],
             [
              0.3333333333333333,
              "#9c179e"
             ],
             [
              0.4444444444444444,
              "#bd3786"
             ],
             [
              0.5555555555555556,
              "#d8576b"
             ],
             [
              0.6666666666666666,
              "#ed7953"
             ],
             [
              0.7777777777777778,
              "#fb9f3a"
             ],
             [
              0.8888888888888888,
              "#fdca26"
             ],
             [
              1,
              "#f0f921"
             ]
            ],
            "type": "heatmapgl"
           }
          ],
          "histogram": [
           {
            "marker": {
             "pattern": {
              "fillmode": "overlay",
              "size": 10,
              "solidity": 0.2
             }
            },
            "type": "histogram"
           }
          ],
          "histogram2d": [
           {
            "colorbar": {
             "outlinewidth": 0,
             "ticks": ""
            },
            "colorscale": [
             [
              0,
              "#0d0887"
             ],
             [
              0.1111111111111111,
              "#46039f"
             ],
             [
              0.2222222222222222,
              "#7201a8"
             ],
             [
              0.3333333333333333,
              "#9c179e"
             ],
             [
              0.4444444444444444,
              "#bd3786"
             ],
             [
              0.5555555555555556,
              "#d8576b"
             ],
             [
              0.6666666666666666,
              "#ed7953"
             ],
             [
              0.7777777777777778,
              "#fb9f3a"
             ],
             [
              0.8888888888888888,
              "#fdca26"
             ],
             [
              1,
              "#f0f921"
             ]
            ],
            "type": "histogram2d"
           }
          ],
          "histogram2dcontour": [
           {
            "colorbar": {
             "outlinewidth": 0,
             "ticks": ""
            },
            "colorscale": [
             [
              0,
              "#0d0887"
             ],
             [
              0.1111111111111111,
              "#46039f"
             ],
             [
              0.2222222222222222,
              "#7201a8"
             ],
             [
              0.3333333333333333,
              "#9c179e"
             ],
             [
              0.4444444444444444,
              "#bd3786"
             ],
             [
              0.5555555555555556,
              "#d8576b"
             ],
             [
              0.6666666666666666,
              "#ed7953"
             ],
             [
              0.7777777777777778,
              "#fb9f3a"
             ],
             [
              0.8888888888888888,
              "#fdca26"
             ],
             [
              1,
              "#f0f921"
             ]
            ],
            "type": "histogram2dcontour"
           }
          ],
          "mesh3d": [
           {
            "colorbar": {
             "outlinewidth": 0,
             "ticks": ""
            },
            "type": "mesh3d"
           }
          ],
          "parcoords": [
           {
            "line": {
             "colorbar": {
              "outlinewidth": 0,
              "ticks": ""
             }
            },
            "type": "parcoords"
           }
          ],
          "pie": [
           {
            "automargin": true,
            "type": "pie"
           }
          ],
          "scatter": [
           {
            "fillpattern": {
             "fillmode": "overlay",
             "size": 10,
             "solidity": 0.2
            },
            "type": "scatter"
           }
          ],
          "scatter3d": [
           {
            "line": {
             "colorbar": {
              "outlinewidth": 0,
              "ticks": ""
             }
            },
            "marker": {
             "colorbar": {
              "outlinewidth": 0,
              "ticks": ""
             }
            },
            "type": "scatter3d"
           }
          ],
          "scattercarpet": [
           {
            "marker": {
             "colorbar": {
              "outlinewidth": 0,
              "ticks": ""
             }
            },
            "type": "scattercarpet"
           }
          ],
          "scattergeo": [
           {
            "marker": {
             "colorbar": {
              "outlinewidth": 0,
              "ticks": ""
             }
            },
            "type": "scattergeo"
           }
          ],
          "scattergl": [
           {
            "marker": {
             "colorbar": {
              "outlinewidth": 0,
              "ticks": ""
             }
            },
            "type": "scattergl"
           }
          ],
          "scattermapbox": [
           {
            "marker": {
             "colorbar": {
              "outlinewidth": 0,
              "ticks": ""
             }
            },
            "type": "scattermapbox"
           }
          ],
          "scatterpolar": [
           {
            "marker": {
             "colorbar": {
              "outlinewidth": 0,
              "ticks": ""
             }
            },
            "type": "scatterpolar"
           }
          ],
          "scatterpolargl": [
           {
            "marker": {
             "colorbar": {
              "outlinewidth": 0,
              "ticks": ""
             }
            },
            "type": "scatterpolargl"
           }
          ],
          "scatterternary": [
           {
            "marker": {
             "colorbar": {
              "outlinewidth": 0,
              "ticks": ""
             }
            },
            "type": "scatterternary"
           }
          ],
          "surface": [
           {
            "colorbar": {
             "outlinewidth": 0,
             "ticks": ""
            },
            "colorscale": [
             [
              0,
              "#0d0887"
             ],
             [
              0.1111111111111111,
              "#46039f"
             ],
             [
              0.2222222222222222,
              "#7201a8"
             ],
             [
              0.3333333333333333,
              "#9c179e"
             ],
             [
              0.4444444444444444,
              "#bd3786"
             ],
             [
              0.5555555555555556,
              "#d8576b"
             ],
             [
              0.6666666666666666,
              "#ed7953"
             ],
             [
              0.7777777777777778,
              "#fb9f3a"
             ],
             [
              0.8888888888888888,
              "#fdca26"
             ],
             [
              1,
              "#f0f921"
             ]
            ],
            "type": "surface"
           }
          ],
          "table": [
           {
            "cells": {
             "fill": {
              "color": "#EBF0F8"
             },
             "line": {
              "color": "white"
             }
            },
            "header": {
             "fill": {
              "color": "#C8D4E3"
             },
             "line": {
              "color": "white"
             }
            },
            "type": "table"
           }
          ]
         },
         "layout": {
          "annotationdefaults": {
           "arrowcolor": "#2a3f5f",
           "arrowhead": 0,
           "arrowwidth": 1
          },
          "autotypenumbers": "strict",
          "coloraxis": {
           "colorbar": {
            "outlinewidth": 0,
            "ticks": ""
           }
          },
          "colorscale": {
           "diverging": [
            [
             0,
             "#8e0152"
            ],
            [
             0.1,
             "#c51b7d"
            ],
            [
             0.2,
             "#de77ae"
            ],
            [
             0.3,
             "#f1b6da"
            ],
            [
             0.4,
             "#fde0ef"
            ],
            [
             0.5,
             "#f7f7f7"
            ],
            [
             0.6,
             "#e6f5d0"
            ],
            [
             0.7,
             "#b8e186"
            ],
            [
             0.8,
             "#7fbc41"
            ],
            [
             0.9,
             "#4d9221"
            ],
            [
             1,
             "#276419"
            ]
           ],
           "sequential": [
            [
             0,
             "#0d0887"
            ],
            [
             0.1111111111111111,
             "#46039f"
            ],
            [
             0.2222222222222222,
             "#7201a8"
            ],
            [
             0.3333333333333333,
             "#9c179e"
            ],
            [
             0.4444444444444444,
             "#bd3786"
            ],
            [
             0.5555555555555556,
             "#d8576b"
            ],
            [
             0.6666666666666666,
             "#ed7953"
            ],
            [
             0.7777777777777778,
             "#fb9f3a"
            ],
            [
             0.8888888888888888,
             "#fdca26"
            ],
            [
             1,
             "#f0f921"
            ]
           ],
           "sequentialminus": [
            [
             0,
             "#0d0887"
            ],
            [
             0.1111111111111111,
             "#46039f"
            ],
            [
             0.2222222222222222,
             "#7201a8"
            ],
            [
             0.3333333333333333,
             "#9c179e"
            ],
            [
             0.4444444444444444,
             "#bd3786"
            ],
            [
             0.5555555555555556,
             "#d8576b"
            ],
            [
             0.6666666666666666,
             "#ed7953"
            ],
            [
             0.7777777777777778,
             "#fb9f3a"
            ],
            [
             0.8888888888888888,
             "#fdca26"
            ],
            [
             1,
             "#f0f921"
            ]
           ]
          },
          "colorway": [
           "#636efa",
           "#EF553B",
           "#00cc96",
           "#ab63fa",
           "#FFA15A",
           "#19d3f3",
           "#FF6692",
           "#B6E880",
           "#FF97FF",
           "#FECB52"
          ],
          "font": {
           "color": "#2a3f5f"
          },
          "geo": {
           "bgcolor": "white",
           "lakecolor": "white",
           "landcolor": "#E5ECF6",
           "showlakes": true,
           "showland": true,
           "subunitcolor": "white"
          },
          "hoverlabel": {
           "align": "left"
          },
          "hovermode": "closest",
          "mapbox": {
           "style": "light"
          },
          "paper_bgcolor": "white",
          "plot_bgcolor": "#E5ECF6",
          "polar": {
           "angularaxis": {
            "gridcolor": "white",
            "linecolor": "white",
            "ticks": ""
           },
           "bgcolor": "#E5ECF6",
           "radialaxis": {
            "gridcolor": "white",
            "linecolor": "white",
            "ticks": ""
           }
          },
          "scene": {
           "xaxis": {
            "backgroundcolor": "#E5ECF6",
            "gridcolor": "white",
            "gridwidth": 2,
            "linecolor": "white",
            "showbackground": true,
            "ticks": "",
            "zerolinecolor": "white"
           },
           "yaxis": {
            "backgroundcolor": "#E5ECF6",
            "gridcolor": "white",
            "gridwidth": 2,
            "linecolor": "white",
            "showbackground": true,
            "ticks": "",
            "zerolinecolor": "white"
           },
           "zaxis": {
            "backgroundcolor": "#E5ECF6",
            "gridcolor": "white",
            "gridwidth": 2,
            "linecolor": "white",
            "showbackground": true,
            "ticks": "",
            "zerolinecolor": "white"
           }
          },
          "shapedefaults": {
           "line": {
            "color": "#2a3f5f"
           }
          },
          "ternary": {
           "aaxis": {
            "gridcolor": "white",
            "linecolor": "white",
            "ticks": ""
           },
           "baxis": {
            "gridcolor": "white",
            "linecolor": "white",
            "ticks": ""
           },
           "bgcolor": "#E5ECF6",
           "caxis": {
            "gridcolor": "white",
            "linecolor": "white",
            "ticks": ""
           }
          },
          "title": {
           "x": 0.05
          },
          "xaxis": {
           "automargin": true,
           "gridcolor": "white",
           "linecolor": "white",
           "ticks": "",
           "title": {
            "standoff": 15
           },
           "zerolinecolor": "white",
           "zerolinewidth": 2
          },
          "yaxis": {
           "automargin": true,
           "gridcolor": "white",
           "linecolor": "white",
           "ticks": "",
           "title": {
            "standoff": 15
           },
           "zerolinecolor": "white",
           "zerolinewidth": 2
          }
         }
        },
        "title": {
         "text": "Distribution of passes in cluster 3 using GMM in shawnee_location_2"
        },
        "width": 800,
        "xaxis": {
         "anchor": "y",
         "domain": [
          0,
          1
         ],
         "title": {
          "text": "pass_no"
         }
        },
        "yaxis": {
         "anchor": "x",
         "domain": [
          0,
          1
         ],
         "title": {
          "text": "percent"
         }
        }
       }
      },
      "text/html": [
       "<div>                            <div id=\"23b61d1b-0d43-4657-95e3-2bae4c1be71a\" class=\"plotly-graph-div\" style=\"height:300px; width:800px;\"></div>            <script type=\"text/javascript\">                require([\"plotly\"], function(Plotly) {                    window.PLOTLYENV=window.PLOTLYENV || {};                                    if (document.getElementById(\"23b61d1b-0d43-4657-95e3-2bae4c1be71a\")) {                    Plotly.newPlot(                        \"23b61d1b-0d43-4657-95e3-2bae4c1be71a\",                        [{\"alignmentgroup\":\"True\",\"bingroup\":\"x\",\"histnorm\":\"percent\",\"hovertemplate\":\"pass_no=%{x}<br>percent=%{y}<extra></extra>\",\"legendgroup\":\"\",\"marker\":{\"color\":\"#636efa\",\"pattern\":{\"shape\":\"\"}},\"name\":\"\",\"nbinsx\":5,\"offsetgroup\":\"\",\"orientation\":\"v\",\"showlegend\":false,\"x\":[1,1,1,1,1,1,1,1,1,1,1,1,1,1,1,1,1,1,1,1,1,1,2,2,2,2,2,2,2,2,2,2,2,2,2,2,2,2,2,2,2,2,2,2,2,2,2,2,2,2,2,2,2,4,4,4,4,4,4,4,4,4,4,4,4,4,4,4,4,4,4,4,4,4,4,4,4,4,4,4,4,4,4,4,4,4,4,4,4,4,4,4,4,4,4,4,4,4,4,4,4,4,4],\"xaxis\":\"x\",\"yaxis\":\"y\",\"type\":\"histogram\"}],                        {\"template\":{\"data\":{\"histogram2dcontour\":[{\"type\":\"histogram2dcontour\",\"colorbar\":{\"outlinewidth\":0,\"ticks\":\"\"},\"colorscale\":[[0.0,\"#0d0887\"],[0.1111111111111111,\"#46039f\"],[0.2222222222222222,\"#7201a8\"],[0.3333333333333333,\"#9c179e\"],[0.4444444444444444,\"#bd3786\"],[0.5555555555555556,\"#d8576b\"],[0.6666666666666666,\"#ed7953\"],[0.7777777777777778,\"#fb9f3a\"],[0.8888888888888888,\"#fdca26\"],[1.0,\"#f0f921\"]]}],\"choropleth\":[{\"type\":\"choropleth\",\"colorbar\":{\"outlinewidth\":0,\"ticks\":\"\"}}],\"histogram2d\":[{\"type\":\"histogram2d\",\"colorbar\":{\"outlinewidth\":0,\"ticks\":\"\"},\"colorscale\":[[0.0,\"#0d0887\"],[0.1111111111111111,\"#46039f\"],[0.2222222222222222,\"#7201a8\"],[0.3333333333333333,\"#9c179e\"],[0.4444444444444444,\"#bd3786\"],[0.5555555555555556,\"#d8576b\"],[0.6666666666666666,\"#ed7953\"],[0.7777777777777778,\"#fb9f3a\"],[0.8888888888888888,\"#fdca26\"],[1.0,\"#f0f921\"]]}],\"heatmap\":[{\"type\":\"heatmap\",\"colorbar\":{\"outlinewidth\":0,\"ticks\":\"\"},\"colorscale\":[[0.0,\"#0d0887\"],[0.1111111111111111,\"#46039f\"],[0.2222222222222222,\"#7201a8\"],[0.3333333333333333,\"#9c179e\"],[0.4444444444444444,\"#bd3786\"],[0.5555555555555556,\"#d8576b\"],[0.6666666666666666,\"#ed7953\"],[0.7777777777777778,\"#fb9f3a\"],[0.8888888888888888,\"#fdca26\"],[1.0,\"#f0f921\"]]}],\"heatmapgl\":[{\"type\":\"heatmapgl\",\"colorbar\":{\"outlinewidth\":0,\"ticks\":\"\"},\"colorscale\":[[0.0,\"#0d0887\"],[0.1111111111111111,\"#46039f\"],[0.2222222222222222,\"#7201a8\"],[0.3333333333333333,\"#9c179e\"],[0.4444444444444444,\"#bd3786\"],[0.5555555555555556,\"#d8576b\"],[0.6666666666666666,\"#ed7953\"],[0.7777777777777778,\"#fb9f3a\"],[0.8888888888888888,\"#fdca26\"],[1.0,\"#f0f921\"]]}],\"contourcarpet\":[{\"type\":\"contourcarpet\",\"colorbar\":{\"outlinewidth\":0,\"ticks\":\"\"}}],\"contour\":[{\"type\":\"contour\",\"colorbar\":{\"outlinewidth\":0,\"ticks\":\"\"},\"colorscale\":[[0.0,\"#0d0887\"],[0.1111111111111111,\"#46039f\"],[0.2222222222222222,\"#7201a8\"],[0.3333333333333333,\"#9c179e\"],[0.4444444444444444,\"#bd3786\"],[0.5555555555555556,\"#d8576b\"],[0.6666666666666666,\"#ed7953\"],[0.7777777777777778,\"#fb9f3a\"],[0.8888888888888888,\"#fdca26\"],[1.0,\"#f0f921\"]]}],\"surface\":[{\"type\":\"surface\",\"colorbar\":{\"outlinewidth\":0,\"ticks\":\"\"},\"colorscale\":[[0.0,\"#0d0887\"],[0.1111111111111111,\"#46039f\"],[0.2222222222222222,\"#7201a8\"],[0.3333333333333333,\"#9c179e\"],[0.4444444444444444,\"#bd3786\"],[0.5555555555555556,\"#d8576b\"],[0.6666666666666666,\"#ed7953\"],[0.7777777777777778,\"#fb9f3a\"],[0.8888888888888888,\"#fdca26\"],[1.0,\"#f0f921\"]]}],\"mesh3d\":[{\"type\":\"mesh3d\",\"colorbar\":{\"outlinewidth\":0,\"ticks\":\"\"}}],\"scatter\":[{\"fillpattern\":{\"fillmode\":\"overlay\",\"size\":10,\"solidity\":0.2},\"type\":\"scatter\"}],\"parcoords\":[{\"type\":\"parcoords\",\"line\":{\"colorbar\":{\"outlinewidth\":0,\"ticks\":\"\"}}}],\"scatterpolargl\":[{\"type\":\"scatterpolargl\",\"marker\":{\"colorbar\":{\"outlinewidth\":0,\"ticks\":\"\"}}}],\"bar\":[{\"error_x\":{\"color\":\"#2a3f5f\"},\"error_y\":{\"color\":\"#2a3f5f\"},\"marker\":{\"line\":{\"color\":\"#E5ECF6\",\"width\":0.5},\"pattern\":{\"fillmode\":\"overlay\",\"size\":10,\"solidity\":0.2}},\"type\":\"bar\"}],\"scattergeo\":[{\"type\":\"scattergeo\",\"marker\":{\"colorbar\":{\"outlinewidth\":0,\"ticks\":\"\"}}}],\"scatterpolar\":[{\"type\":\"scatterpolar\",\"marker\":{\"colorbar\":{\"outlinewidth\":0,\"ticks\":\"\"}}}],\"histogram\":[{\"marker\":{\"pattern\":{\"fillmode\":\"overlay\",\"size\":10,\"solidity\":0.2}},\"type\":\"histogram\"}],\"scattergl\":[{\"type\":\"scattergl\",\"marker\":{\"colorbar\":{\"outlinewidth\":0,\"ticks\":\"\"}}}],\"scatter3d\":[{\"type\":\"scatter3d\",\"line\":{\"colorbar\":{\"outlinewidth\":0,\"ticks\":\"\"}},\"marker\":{\"colorbar\":{\"outlinewidth\":0,\"ticks\":\"\"}}}],\"scattermapbox\":[{\"type\":\"scattermapbox\",\"marker\":{\"colorbar\":{\"outlinewidth\":0,\"ticks\":\"\"}}}],\"scatterternary\":[{\"type\":\"scatterternary\",\"marker\":{\"colorbar\":{\"outlinewidth\":0,\"ticks\":\"\"}}}],\"scattercarpet\":[{\"type\":\"scattercarpet\",\"marker\":{\"colorbar\":{\"outlinewidth\":0,\"ticks\":\"\"}}}],\"carpet\":[{\"aaxis\":{\"endlinecolor\":\"#2a3f5f\",\"gridcolor\":\"white\",\"linecolor\":\"white\",\"minorgridcolor\":\"white\",\"startlinecolor\":\"#2a3f5f\"},\"baxis\":{\"endlinecolor\":\"#2a3f5f\",\"gridcolor\":\"white\",\"linecolor\":\"white\",\"minorgridcolor\":\"white\",\"startlinecolor\":\"#2a3f5f\"},\"type\":\"carpet\"}],\"table\":[{\"cells\":{\"fill\":{\"color\":\"#EBF0F8\"},\"line\":{\"color\":\"white\"}},\"header\":{\"fill\":{\"color\":\"#C8D4E3\"},\"line\":{\"color\":\"white\"}},\"type\":\"table\"}],\"barpolar\":[{\"marker\":{\"line\":{\"color\":\"#E5ECF6\",\"width\":0.5},\"pattern\":{\"fillmode\":\"overlay\",\"size\":10,\"solidity\":0.2}},\"type\":\"barpolar\"}],\"pie\":[{\"automargin\":true,\"type\":\"pie\"}]},\"layout\":{\"autotypenumbers\":\"strict\",\"colorway\":[\"#636efa\",\"#EF553B\",\"#00cc96\",\"#ab63fa\",\"#FFA15A\",\"#19d3f3\",\"#FF6692\",\"#B6E880\",\"#FF97FF\",\"#FECB52\"],\"font\":{\"color\":\"#2a3f5f\"},\"hovermode\":\"closest\",\"hoverlabel\":{\"align\":\"left\"},\"paper_bgcolor\":\"white\",\"plot_bgcolor\":\"#E5ECF6\",\"polar\":{\"bgcolor\":\"#E5ECF6\",\"angularaxis\":{\"gridcolor\":\"white\",\"linecolor\":\"white\",\"ticks\":\"\"},\"radialaxis\":{\"gridcolor\":\"white\",\"linecolor\":\"white\",\"ticks\":\"\"}},\"ternary\":{\"bgcolor\":\"#E5ECF6\",\"aaxis\":{\"gridcolor\":\"white\",\"linecolor\":\"white\",\"ticks\":\"\"},\"baxis\":{\"gridcolor\":\"white\",\"linecolor\":\"white\",\"ticks\":\"\"},\"caxis\":{\"gridcolor\":\"white\",\"linecolor\":\"white\",\"ticks\":\"\"}},\"coloraxis\":{\"colorbar\":{\"outlinewidth\":0,\"ticks\":\"\"}},\"colorscale\":{\"sequential\":[[0.0,\"#0d0887\"],[0.1111111111111111,\"#46039f\"],[0.2222222222222222,\"#7201a8\"],[0.3333333333333333,\"#9c179e\"],[0.4444444444444444,\"#bd3786\"],[0.5555555555555556,\"#d8576b\"],[0.6666666666666666,\"#ed7953\"],[0.7777777777777778,\"#fb9f3a\"],[0.8888888888888888,\"#fdca26\"],[1.0,\"#f0f921\"]],\"sequentialminus\":[[0.0,\"#0d0887\"],[0.1111111111111111,\"#46039f\"],[0.2222222222222222,\"#7201a8\"],[0.3333333333333333,\"#9c179e\"],[0.4444444444444444,\"#bd3786\"],[0.5555555555555556,\"#d8576b\"],[0.6666666666666666,\"#ed7953\"],[0.7777777777777778,\"#fb9f3a\"],[0.8888888888888888,\"#fdca26\"],[1.0,\"#f0f921\"]],\"diverging\":[[0,\"#8e0152\"],[0.1,\"#c51b7d\"],[0.2,\"#de77ae\"],[0.3,\"#f1b6da\"],[0.4,\"#fde0ef\"],[0.5,\"#f7f7f7\"],[0.6,\"#e6f5d0\"],[0.7,\"#b8e186\"],[0.8,\"#7fbc41\"],[0.9,\"#4d9221\"],[1,\"#276419\"]]},\"xaxis\":{\"gridcolor\":\"white\",\"linecolor\":\"white\",\"ticks\":\"\",\"title\":{\"standoff\":15},\"zerolinecolor\":\"white\",\"automargin\":true,\"zerolinewidth\":2},\"yaxis\":{\"gridcolor\":\"white\",\"linecolor\":\"white\",\"ticks\":\"\",\"title\":{\"standoff\":15},\"zerolinecolor\":\"white\",\"automargin\":true,\"zerolinewidth\":2},\"scene\":{\"xaxis\":{\"backgroundcolor\":\"#E5ECF6\",\"gridcolor\":\"white\",\"linecolor\":\"white\",\"showbackground\":true,\"ticks\":\"\",\"zerolinecolor\":\"white\",\"gridwidth\":2},\"yaxis\":{\"backgroundcolor\":\"#E5ECF6\",\"gridcolor\":\"white\",\"linecolor\":\"white\",\"showbackground\":true,\"ticks\":\"\",\"zerolinecolor\":\"white\",\"gridwidth\":2},\"zaxis\":{\"backgroundcolor\":\"#E5ECF6\",\"gridcolor\":\"white\",\"linecolor\":\"white\",\"showbackground\":true,\"ticks\":\"\",\"zerolinecolor\":\"white\",\"gridwidth\":2}},\"shapedefaults\":{\"line\":{\"color\":\"#2a3f5f\"}},\"annotationdefaults\":{\"arrowcolor\":\"#2a3f5f\",\"arrowhead\":0,\"arrowwidth\":1},\"geo\":{\"bgcolor\":\"white\",\"landcolor\":\"#E5ECF6\",\"subunitcolor\":\"white\",\"showland\":true,\"showlakes\":true,\"lakecolor\":\"white\"},\"title\":{\"x\":0.05},\"mapbox\":{\"style\":\"light\"}}},\"xaxis\":{\"anchor\":\"y\",\"domain\":[0.0,1.0],\"title\":{\"text\":\"pass_no\"}},\"yaxis\":{\"anchor\":\"x\",\"domain\":[0.0,1.0],\"title\":{\"text\":\"percent\"}},\"legend\":{\"tracegroupgap\":0},\"title\":{\"text\":\"Distribution of passes in cluster 3 using GMM in shawnee_location_2\"},\"barmode\":\"relative\",\"height\":300,\"width\":800},                        {\"responsive\": true}                    ).then(function(){\n",
       "                            \n",
       "var gd = document.getElementById('23b61d1b-0d43-4657-95e3-2bae4c1be71a');\n",
       "var x = new MutationObserver(function (mutations, observer) {{\n",
       "        var display = window.getComputedStyle(gd).display;\n",
       "        if (!display || display === 'none') {{\n",
       "            console.log([gd, 'removed!']);\n",
       "            Plotly.purge(gd);\n",
       "            observer.disconnect();\n",
       "        }}\n",
       "}});\n",
       "\n",
       "// Listen for the removal of the full notebook cells\n",
       "var notebookContainer = gd.closest('#notebook-container');\n",
       "if (notebookContainer) {{\n",
       "    x.observe(notebookContainer, {childList: true});\n",
       "}}\n",
       "\n",
       "// Listen for the clearing of the current output cell\n",
       "var outputEl = gd.closest('.output');\n",
       "if (outputEl) {{\n",
       "    x.observe(outputEl, {childList: true});\n",
       "}}\n",
       "\n",
       "                        })                };                });            </script>        </div>"
      ]
     },
     "metadata": {},
     "output_type": "display_data"
    },
    {
     "data": {
      "application/vnd.plotly.v1+json": {
       "config": {
        "plotlyServerURL": "https://plot.ly"
       },
       "data": [
        {
         "alignmentgroup": "True",
         "bingroup": "x",
         "histnorm": "percent",
         "hovertemplate": "pass_no=%{x}<br>percent=%{y}<extra></extra>",
         "legendgroup": "",
         "marker": {
          "color": "#636efa",
          "pattern": {
           "shape": ""
          }
         },
         "name": "",
         "nbinsx": 5,
         "offsetgroup": "",
         "orientation": "v",
         "showlegend": false,
         "type": "histogram",
         "x": [
          1,
          1,
          1,
          1,
          1,
          1,
          1,
          2,
          2,
          2,
          2,
          2,
          2,
          2,
          2,
          2,
          2,
          2,
          2,
          2,
          2,
          2,
          2,
          2,
          2,
          2,
          2,
          2,
          2,
          2,
          2,
          2,
          2,
          2,
          2,
          2,
          2,
          2,
          2,
          2,
          4,
          4,
          4,
          4,
          4,
          4,
          4,
          4,
          4,
          4,
          4,
          4,
          4,
          4,
          4,
          4,
          4,
          4,
          4,
          4,
          4,
          4,
          4,
          4,
          4,
          4,
          4,
          4,
          4,
          4,
          4,
          4,
          4,
          4,
          4,
          4,
          4,
          4,
          4,
          4,
          4,
          4,
          4,
          4,
          4,
          4,
          4,
          4,
          4,
          4,
          4,
          4,
          4,
          4,
          4,
          4,
          4,
          4,
          4,
          4,
          4,
          4,
          4,
          4,
          4,
          4
         ],
         "xaxis": "x",
         "yaxis": "y"
        }
       ],
       "layout": {
        "barmode": "relative",
        "height": 300,
        "legend": {
         "tracegroupgap": 0
        },
        "template": {
         "data": {
          "bar": [
           {
            "error_x": {
             "color": "#2a3f5f"
            },
            "error_y": {
             "color": "#2a3f5f"
            },
            "marker": {
             "line": {
              "color": "#E5ECF6",
              "width": 0.5
             },
             "pattern": {
              "fillmode": "overlay",
              "size": 10,
              "solidity": 0.2
             }
            },
            "type": "bar"
           }
          ],
          "barpolar": [
           {
            "marker": {
             "line": {
              "color": "#E5ECF6",
              "width": 0.5
             },
             "pattern": {
              "fillmode": "overlay",
              "size": 10,
              "solidity": 0.2
             }
            },
            "type": "barpolar"
           }
          ],
          "carpet": [
           {
            "aaxis": {
             "endlinecolor": "#2a3f5f",
             "gridcolor": "white",
             "linecolor": "white",
             "minorgridcolor": "white",
             "startlinecolor": "#2a3f5f"
            },
            "baxis": {
             "endlinecolor": "#2a3f5f",
             "gridcolor": "white",
             "linecolor": "white",
             "minorgridcolor": "white",
             "startlinecolor": "#2a3f5f"
            },
            "type": "carpet"
           }
          ],
          "choropleth": [
           {
            "colorbar": {
             "outlinewidth": 0,
             "ticks": ""
            },
            "type": "choropleth"
           }
          ],
          "contour": [
           {
            "colorbar": {
             "outlinewidth": 0,
             "ticks": ""
            },
            "colorscale": [
             [
              0,
              "#0d0887"
             ],
             [
              0.1111111111111111,
              "#46039f"
             ],
             [
              0.2222222222222222,
              "#7201a8"
             ],
             [
              0.3333333333333333,
              "#9c179e"
             ],
             [
              0.4444444444444444,
              "#bd3786"
             ],
             [
              0.5555555555555556,
              "#d8576b"
             ],
             [
              0.6666666666666666,
              "#ed7953"
             ],
             [
              0.7777777777777778,
              "#fb9f3a"
             ],
             [
              0.8888888888888888,
              "#fdca26"
             ],
             [
              1,
              "#f0f921"
             ]
            ],
            "type": "contour"
           }
          ],
          "contourcarpet": [
           {
            "colorbar": {
             "outlinewidth": 0,
             "ticks": ""
            },
            "type": "contourcarpet"
           }
          ],
          "heatmap": [
           {
            "colorbar": {
             "outlinewidth": 0,
             "ticks": ""
            },
            "colorscale": [
             [
              0,
              "#0d0887"
             ],
             [
              0.1111111111111111,
              "#46039f"
             ],
             [
              0.2222222222222222,
              "#7201a8"
             ],
             [
              0.3333333333333333,
              "#9c179e"
             ],
             [
              0.4444444444444444,
              "#bd3786"
             ],
             [
              0.5555555555555556,
              "#d8576b"
             ],
             [
              0.6666666666666666,
              "#ed7953"
             ],
             [
              0.7777777777777778,
              "#fb9f3a"
             ],
             [
              0.8888888888888888,
              "#fdca26"
             ],
             [
              1,
              "#f0f921"
             ]
            ],
            "type": "heatmap"
           }
          ],
          "heatmapgl": [
           {
            "colorbar": {
             "outlinewidth": 0,
             "ticks": ""
            },
            "colorscale": [
             [
              0,
              "#0d0887"
             ],
             [
              0.1111111111111111,
              "#46039f"
             ],
             [
              0.2222222222222222,
              "#7201a8"
             ],
             [
              0.3333333333333333,
              "#9c179e"
             ],
             [
              0.4444444444444444,
              "#bd3786"
             ],
             [
              0.5555555555555556,
              "#d8576b"
             ],
             [
              0.6666666666666666,
              "#ed7953"
             ],
             [
              0.7777777777777778,
              "#fb9f3a"
             ],
             [
              0.8888888888888888,
              "#fdca26"
             ],
             [
              1,
              "#f0f921"
             ]
            ],
            "type": "heatmapgl"
           }
          ],
          "histogram": [
           {
            "marker": {
             "pattern": {
              "fillmode": "overlay",
              "size": 10,
              "solidity": 0.2
             }
            },
            "type": "histogram"
           }
          ],
          "histogram2d": [
           {
            "colorbar": {
             "outlinewidth": 0,
             "ticks": ""
            },
            "colorscale": [
             [
              0,
              "#0d0887"
             ],
             [
              0.1111111111111111,
              "#46039f"
             ],
             [
              0.2222222222222222,
              "#7201a8"
             ],
             [
              0.3333333333333333,
              "#9c179e"
             ],
             [
              0.4444444444444444,
              "#bd3786"
             ],
             [
              0.5555555555555556,
              "#d8576b"
             ],
             [
              0.6666666666666666,
              "#ed7953"
             ],
             [
              0.7777777777777778,
              "#fb9f3a"
             ],
             [
              0.8888888888888888,
              "#fdca26"
             ],
             [
              1,
              "#f0f921"
             ]
            ],
            "type": "histogram2d"
           }
          ],
          "histogram2dcontour": [
           {
            "colorbar": {
             "outlinewidth": 0,
             "ticks": ""
            },
            "colorscale": [
             [
              0,
              "#0d0887"
             ],
             [
              0.1111111111111111,
              "#46039f"
             ],
             [
              0.2222222222222222,
              "#7201a8"
             ],
             [
              0.3333333333333333,
              "#9c179e"
             ],
             [
              0.4444444444444444,
              "#bd3786"
             ],
             [
              0.5555555555555556,
              "#d8576b"
             ],
             [
              0.6666666666666666,
              "#ed7953"
             ],
             [
              0.7777777777777778,
              "#fb9f3a"
             ],
             [
              0.8888888888888888,
              "#fdca26"
             ],
             [
              1,
              "#f0f921"
             ]
            ],
            "type": "histogram2dcontour"
           }
          ],
          "mesh3d": [
           {
            "colorbar": {
             "outlinewidth": 0,
             "ticks": ""
            },
            "type": "mesh3d"
           }
          ],
          "parcoords": [
           {
            "line": {
             "colorbar": {
              "outlinewidth": 0,
              "ticks": ""
             }
            },
            "type": "parcoords"
           }
          ],
          "pie": [
           {
            "automargin": true,
            "type": "pie"
           }
          ],
          "scatter": [
           {
            "fillpattern": {
             "fillmode": "overlay",
             "size": 10,
             "solidity": 0.2
            },
            "type": "scatter"
           }
          ],
          "scatter3d": [
           {
            "line": {
             "colorbar": {
              "outlinewidth": 0,
              "ticks": ""
             }
            },
            "marker": {
             "colorbar": {
              "outlinewidth": 0,
              "ticks": ""
             }
            },
            "type": "scatter3d"
           }
          ],
          "scattercarpet": [
           {
            "marker": {
             "colorbar": {
              "outlinewidth": 0,
              "ticks": ""
             }
            },
            "type": "scattercarpet"
           }
          ],
          "scattergeo": [
           {
            "marker": {
             "colorbar": {
              "outlinewidth": 0,
              "ticks": ""
             }
            },
            "type": "scattergeo"
           }
          ],
          "scattergl": [
           {
            "marker": {
             "colorbar": {
              "outlinewidth": 0,
              "ticks": ""
             }
            },
            "type": "scattergl"
           }
          ],
          "scattermapbox": [
           {
            "marker": {
             "colorbar": {
              "outlinewidth": 0,
              "ticks": ""
             }
            },
            "type": "scattermapbox"
           }
          ],
          "scatterpolar": [
           {
            "marker": {
             "colorbar": {
              "outlinewidth": 0,
              "ticks": ""
             }
            },
            "type": "scatterpolar"
           }
          ],
          "scatterpolargl": [
           {
            "marker": {
             "colorbar": {
              "outlinewidth": 0,
              "ticks": ""
             }
            },
            "type": "scatterpolargl"
           }
          ],
          "scatterternary": [
           {
            "marker": {
             "colorbar": {
              "outlinewidth": 0,
              "ticks": ""
             }
            },
            "type": "scatterternary"
           }
          ],
          "surface": [
           {
            "colorbar": {
             "outlinewidth": 0,
             "ticks": ""
            },
            "colorscale": [
             [
              0,
              "#0d0887"
             ],
             [
              0.1111111111111111,
              "#46039f"
             ],
             [
              0.2222222222222222,
              "#7201a8"
             ],
             [
              0.3333333333333333,
              "#9c179e"
             ],
             [
              0.4444444444444444,
              "#bd3786"
             ],
             [
              0.5555555555555556,
              "#d8576b"
             ],
             [
              0.6666666666666666,
              "#ed7953"
             ],
             [
              0.7777777777777778,
              "#fb9f3a"
             ],
             [
              0.8888888888888888,
              "#fdca26"
             ],
             [
              1,
              "#f0f921"
             ]
            ],
            "type": "surface"
           }
          ],
          "table": [
           {
            "cells": {
             "fill": {
              "color": "#EBF0F8"
             },
             "line": {
              "color": "white"
             }
            },
            "header": {
             "fill": {
              "color": "#C8D4E3"
             },
             "line": {
              "color": "white"
             }
            },
            "type": "table"
           }
          ]
         },
         "layout": {
          "annotationdefaults": {
           "arrowcolor": "#2a3f5f",
           "arrowhead": 0,
           "arrowwidth": 1
          },
          "autotypenumbers": "strict",
          "coloraxis": {
           "colorbar": {
            "outlinewidth": 0,
            "ticks": ""
           }
          },
          "colorscale": {
           "diverging": [
            [
             0,
             "#8e0152"
            ],
            [
             0.1,
             "#c51b7d"
            ],
            [
             0.2,
             "#de77ae"
            ],
            [
             0.3,
             "#f1b6da"
            ],
            [
             0.4,
             "#fde0ef"
            ],
            [
             0.5,
             "#f7f7f7"
            ],
            [
             0.6,
             "#e6f5d0"
            ],
            [
             0.7,
             "#b8e186"
            ],
            [
             0.8,
             "#7fbc41"
            ],
            [
             0.9,
             "#4d9221"
            ],
            [
             1,
             "#276419"
            ]
           ],
           "sequential": [
            [
             0,
             "#0d0887"
            ],
            [
             0.1111111111111111,
             "#46039f"
            ],
            [
             0.2222222222222222,
             "#7201a8"
            ],
            [
             0.3333333333333333,
             "#9c179e"
            ],
            [
             0.4444444444444444,
             "#bd3786"
            ],
            [
             0.5555555555555556,
             "#d8576b"
            ],
            [
             0.6666666666666666,
             "#ed7953"
            ],
            [
             0.7777777777777778,
             "#fb9f3a"
            ],
            [
             0.8888888888888888,
             "#fdca26"
            ],
            [
             1,
             "#f0f921"
            ]
           ],
           "sequentialminus": [
            [
             0,
             "#0d0887"
            ],
            [
             0.1111111111111111,
             "#46039f"
            ],
            [
             0.2222222222222222,
             "#7201a8"
            ],
            [
             0.3333333333333333,
             "#9c179e"
            ],
            [
             0.4444444444444444,
             "#bd3786"
            ],
            [
             0.5555555555555556,
             "#d8576b"
            ],
            [
             0.6666666666666666,
             "#ed7953"
            ],
            [
             0.7777777777777778,
             "#fb9f3a"
            ],
            [
             0.8888888888888888,
             "#fdca26"
            ],
            [
             1,
             "#f0f921"
            ]
           ]
          },
          "colorway": [
           "#636efa",
           "#EF553B",
           "#00cc96",
           "#ab63fa",
           "#FFA15A",
           "#19d3f3",
           "#FF6692",
           "#B6E880",
           "#FF97FF",
           "#FECB52"
          ],
          "font": {
           "color": "#2a3f5f"
          },
          "geo": {
           "bgcolor": "white",
           "lakecolor": "white",
           "landcolor": "#E5ECF6",
           "showlakes": true,
           "showland": true,
           "subunitcolor": "white"
          },
          "hoverlabel": {
           "align": "left"
          },
          "hovermode": "closest",
          "mapbox": {
           "style": "light"
          },
          "paper_bgcolor": "white",
          "plot_bgcolor": "#E5ECF6",
          "polar": {
           "angularaxis": {
            "gridcolor": "white",
            "linecolor": "white",
            "ticks": ""
           },
           "bgcolor": "#E5ECF6",
           "radialaxis": {
            "gridcolor": "white",
            "linecolor": "white",
            "ticks": ""
           }
          },
          "scene": {
           "xaxis": {
            "backgroundcolor": "#E5ECF6",
            "gridcolor": "white",
            "gridwidth": 2,
            "linecolor": "white",
            "showbackground": true,
            "ticks": "",
            "zerolinecolor": "white"
           },
           "yaxis": {
            "backgroundcolor": "#E5ECF6",
            "gridcolor": "white",
            "gridwidth": 2,
            "linecolor": "white",
            "showbackground": true,
            "ticks": "",
            "zerolinecolor": "white"
           },
           "zaxis": {
            "backgroundcolor": "#E5ECF6",
            "gridcolor": "white",
            "gridwidth": 2,
            "linecolor": "white",
            "showbackground": true,
            "ticks": "",
            "zerolinecolor": "white"
           }
          },
          "shapedefaults": {
           "line": {
            "color": "#2a3f5f"
           }
          },
          "ternary": {
           "aaxis": {
            "gridcolor": "white",
            "linecolor": "white",
            "ticks": ""
           },
           "baxis": {
            "gridcolor": "white",
            "linecolor": "white",
            "ticks": ""
           },
           "bgcolor": "#E5ECF6",
           "caxis": {
            "gridcolor": "white",
            "linecolor": "white",
            "ticks": ""
           }
          },
          "title": {
           "x": 0.05
          },
          "xaxis": {
           "automargin": true,
           "gridcolor": "white",
           "linecolor": "white",
           "ticks": "",
           "title": {
            "standoff": 15
           },
           "zerolinecolor": "white",
           "zerolinewidth": 2
          },
          "yaxis": {
           "automargin": true,
           "gridcolor": "white",
           "linecolor": "white",
           "ticks": "",
           "title": {
            "standoff": 15
           },
           "zerolinecolor": "white",
           "zerolinewidth": 2
          }
         }
        },
        "title": {
         "text": "Distribution of passes in cluster 4 using GMM in shawnee_location_2"
        },
        "width": 800,
        "xaxis": {
         "anchor": "y",
         "domain": [
          0,
          1
         ],
         "title": {
          "text": "pass_no"
         }
        },
        "yaxis": {
         "anchor": "x",
         "domain": [
          0,
          1
         ],
         "title": {
          "text": "percent"
         }
        }
       }
      },
      "text/html": [
       "<div>                            <div id=\"98aedf32-3b48-4764-b249-20b883f9a9e4\" class=\"plotly-graph-div\" style=\"height:300px; width:800px;\"></div>            <script type=\"text/javascript\">                require([\"plotly\"], function(Plotly) {                    window.PLOTLYENV=window.PLOTLYENV || {};                                    if (document.getElementById(\"98aedf32-3b48-4764-b249-20b883f9a9e4\")) {                    Plotly.newPlot(                        \"98aedf32-3b48-4764-b249-20b883f9a9e4\",                        [{\"alignmentgroup\":\"True\",\"bingroup\":\"x\",\"histnorm\":\"percent\",\"hovertemplate\":\"pass_no=%{x}<br>percent=%{y}<extra></extra>\",\"legendgroup\":\"\",\"marker\":{\"color\":\"#636efa\",\"pattern\":{\"shape\":\"\"}},\"name\":\"\",\"nbinsx\":5,\"offsetgroup\":\"\",\"orientation\":\"v\",\"showlegend\":false,\"x\":[1,1,1,1,1,1,1,2,2,2,2,2,2,2,2,2,2,2,2,2,2,2,2,2,2,2,2,2,2,2,2,2,2,2,2,2,2,2,2,2,4,4,4,4,4,4,4,4,4,4,4,4,4,4,4,4,4,4,4,4,4,4,4,4,4,4,4,4,4,4,4,4,4,4,4,4,4,4,4,4,4,4,4,4,4,4,4,4,4,4,4,4,4,4,4,4,4,4,4,4,4,4,4,4,4,4],\"xaxis\":\"x\",\"yaxis\":\"y\",\"type\":\"histogram\"}],                        {\"template\":{\"data\":{\"histogram2dcontour\":[{\"type\":\"histogram2dcontour\",\"colorbar\":{\"outlinewidth\":0,\"ticks\":\"\"},\"colorscale\":[[0.0,\"#0d0887\"],[0.1111111111111111,\"#46039f\"],[0.2222222222222222,\"#7201a8\"],[0.3333333333333333,\"#9c179e\"],[0.4444444444444444,\"#bd3786\"],[0.5555555555555556,\"#d8576b\"],[0.6666666666666666,\"#ed7953\"],[0.7777777777777778,\"#fb9f3a\"],[0.8888888888888888,\"#fdca26\"],[1.0,\"#f0f921\"]]}],\"choropleth\":[{\"type\":\"choropleth\",\"colorbar\":{\"outlinewidth\":0,\"ticks\":\"\"}}],\"histogram2d\":[{\"type\":\"histogram2d\",\"colorbar\":{\"outlinewidth\":0,\"ticks\":\"\"},\"colorscale\":[[0.0,\"#0d0887\"],[0.1111111111111111,\"#46039f\"],[0.2222222222222222,\"#7201a8\"],[0.3333333333333333,\"#9c179e\"],[0.4444444444444444,\"#bd3786\"],[0.5555555555555556,\"#d8576b\"],[0.6666666666666666,\"#ed7953\"],[0.7777777777777778,\"#fb9f3a\"],[0.8888888888888888,\"#fdca26\"],[1.0,\"#f0f921\"]]}],\"heatmap\":[{\"type\":\"heatmap\",\"colorbar\":{\"outlinewidth\":0,\"ticks\":\"\"},\"colorscale\":[[0.0,\"#0d0887\"],[0.1111111111111111,\"#46039f\"],[0.2222222222222222,\"#7201a8\"],[0.3333333333333333,\"#9c179e\"],[0.4444444444444444,\"#bd3786\"],[0.5555555555555556,\"#d8576b\"],[0.6666666666666666,\"#ed7953\"],[0.7777777777777778,\"#fb9f3a\"],[0.8888888888888888,\"#fdca26\"],[1.0,\"#f0f921\"]]}],\"heatmapgl\":[{\"type\":\"heatmapgl\",\"colorbar\":{\"outlinewidth\":0,\"ticks\":\"\"},\"colorscale\":[[0.0,\"#0d0887\"],[0.1111111111111111,\"#46039f\"],[0.2222222222222222,\"#7201a8\"],[0.3333333333333333,\"#9c179e\"],[0.4444444444444444,\"#bd3786\"],[0.5555555555555556,\"#d8576b\"],[0.6666666666666666,\"#ed7953\"],[0.7777777777777778,\"#fb9f3a\"],[0.8888888888888888,\"#fdca26\"],[1.0,\"#f0f921\"]]}],\"contourcarpet\":[{\"type\":\"contourcarpet\",\"colorbar\":{\"outlinewidth\":0,\"ticks\":\"\"}}],\"contour\":[{\"type\":\"contour\",\"colorbar\":{\"outlinewidth\":0,\"ticks\":\"\"},\"colorscale\":[[0.0,\"#0d0887\"],[0.1111111111111111,\"#46039f\"],[0.2222222222222222,\"#7201a8\"],[0.3333333333333333,\"#9c179e\"],[0.4444444444444444,\"#bd3786\"],[0.5555555555555556,\"#d8576b\"],[0.6666666666666666,\"#ed7953\"],[0.7777777777777778,\"#fb9f3a\"],[0.8888888888888888,\"#fdca26\"],[1.0,\"#f0f921\"]]}],\"surface\":[{\"type\":\"surface\",\"colorbar\":{\"outlinewidth\":0,\"ticks\":\"\"},\"colorscale\":[[0.0,\"#0d0887\"],[0.1111111111111111,\"#46039f\"],[0.2222222222222222,\"#7201a8\"],[0.3333333333333333,\"#9c179e\"],[0.4444444444444444,\"#bd3786\"],[0.5555555555555556,\"#d8576b\"],[0.6666666666666666,\"#ed7953\"],[0.7777777777777778,\"#fb9f3a\"],[0.8888888888888888,\"#fdca26\"],[1.0,\"#f0f921\"]]}],\"mesh3d\":[{\"type\":\"mesh3d\",\"colorbar\":{\"outlinewidth\":0,\"ticks\":\"\"}}],\"scatter\":[{\"fillpattern\":{\"fillmode\":\"overlay\",\"size\":10,\"solidity\":0.2},\"type\":\"scatter\"}],\"parcoords\":[{\"type\":\"parcoords\",\"line\":{\"colorbar\":{\"outlinewidth\":0,\"ticks\":\"\"}}}],\"scatterpolargl\":[{\"type\":\"scatterpolargl\",\"marker\":{\"colorbar\":{\"outlinewidth\":0,\"ticks\":\"\"}}}],\"bar\":[{\"error_x\":{\"color\":\"#2a3f5f\"},\"error_y\":{\"color\":\"#2a3f5f\"},\"marker\":{\"line\":{\"color\":\"#E5ECF6\",\"width\":0.5},\"pattern\":{\"fillmode\":\"overlay\",\"size\":10,\"solidity\":0.2}},\"type\":\"bar\"}],\"scattergeo\":[{\"type\":\"scattergeo\",\"marker\":{\"colorbar\":{\"outlinewidth\":0,\"ticks\":\"\"}}}],\"scatterpolar\":[{\"type\":\"scatterpolar\",\"marker\":{\"colorbar\":{\"outlinewidth\":0,\"ticks\":\"\"}}}],\"histogram\":[{\"marker\":{\"pattern\":{\"fillmode\":\"overlay\",\"size\":10,\"solidity\":0.2}},\"type\":\"histogram\"}],\"scattergl\":[{\"type\":\"scattergl\",\"marker\":{\"colorbar\":{\"outlinewidth\":0,\"ticks\":\"\"}}}],\"scatter3d\":[{\"type\":\"scatter3d\",\"line\":{\"colorbar\":{\"outlinewidth\":0,\"ticks\":\"\"}},\"marker\":{\"colorbar\":{\"outlinewidth\":0,\"ticks\":\"\"}}}],\"scattermapbox\":[{\"type\":\"scattermapbox\",\"marker\":{\"colorbar\":{\"outlinewidth\":0,\"ticks\":\"\"}}}],\"scatterternary\":[{\"type\":\"scatterternary\",\"marker\":{\"colorbar\":{\"outlinewidth\":0,\"ticks\":\"\"}}}],\"scattercarpet\":[{\"type\":\"scattercarpet\",\"marker\":{\"colorbar\":{\"outlinewidth\":0,\"ticks\":\"\"}}}],\"carpet\":[{\"aaxis\":{\"endlinecolor\":\"#2a3f5f\",\"gridcolor\":\"white\",\"linecolor\":\"white\",\"minorgridcolor\":\"white\",\"startlinecolor\":\"#2a3f5f\"},\"baxis\":{\"endlinecolor\":\"#2a3f5f\",\"gridcolor\":\"white\",\"linecolor\":\"white\",\"minorgridcolor\":\"white\",\"startlinecolor\":\"#2a3f5f\"},\"type\":\"carpet\"}],\"table\":[{\"cells\":{\"fill\":{\"color\":\"#EBF0F8\"},\"line\":{\"color\":\"white\"}},\"header\":{\"fill\":{\"color\":\"#C8D4E3\"},\"line\":{\"color\":\"white\"}},\"type\":\"table\"}],\"barpolar\":[{\"marker\":{\"line\":{\"color\":\"#E5ECF6\",\"width\":0.5},\"pattern\":{\"fillmode\":\"overlay\",\"size\":10,\"solidity\":0.2}},\"type\":\"barpolar\"}],\"pie\":[{\"automargin\":true,\"type\":\"pie\"}]},\"layout\":{\"autotypenumbers\":\"strict\",\"colorway\":[\"#636efa\",\"#EF553B\",\"#00cc96\",\"#ab63fa\",\"#FFA15A\",\"#19d3f3\",\"#FF6692\",\"#B6E880\",\"#FF97FF\",\"#FECB52\"],\"font\":{\"color\":\"#2a3f5f\"},\"hovermode\":\"closest\",\"hoverlabel\":{\"align\":\"left\"},\"paper_bgcolor\":\"white\",\"plot_bgcolor\":\"#E5ECF6\",\"polar\":{\"bgcolor\":\"#E5ECF6\",\"angularaxis\":{\"gridcolor\":\"white\",\"linecolor\":\"white\",\"ticks\":\"\"},\"radialaxis\":{\"gridcolor\":\"white\",\"linecolor\":\"white\",\"ticks\":\"\"}},\"ternary\":{\"bgcolor\":\"#E5ECF6\",\"aaxis\":{\"gridcolor\":\"white\",\"linecolor\":\"white\",\"ticks\":\"\"},\"baxis\":{\"gridcolor\":\"white\",\"linecolor\":\"white\",\"ticks\":\"\"},\"caxis\":{\"gridcolor\":\"white\",\"linecolor\":\"white\",\"ticks\":\"\"}},\"coloraxis\":{\"colorbar\":{\"outlinewidth\":0,\"ticks\":\"\"}},\"colorscale\":{\"sequential\":[[0.0,\"#0d0887\"],[0.1111111111111111,\"#46039f\"],[0.2222222222222222,\"#7201a8\"],[0.3333333333333333,\"#9c179e\"],[0.4444444444444444,\"#bd3786\"],[0.5555555555555556,\"#d8576b\"],[0.6666666666666666,\"#ed7953\"],[0.7777777777777778,\"#fb9f3a\"],[0.8888888888888888,\"#fdca26\"],[1.0,\"#f0f921\"]],\"sequentialminus\":[[0.0,\"#0d0887\"],[0.1111111111111111,\"#46039f\"],[0.2222222222222222,\"#7201a8\"],[0.3333333333333333,\"#9c179e\"],[0.4444444444444444,\"#bd3786\"],[0.5555555555555556,\"#d8576b\"],[0.6666666666666666,\"#ed7953\"],[0.7777777777777778,\"#fb9f3a\"],[0.8888888888888888,\"#fdca26\"],[1.0,\"#f0f921\"]],\"diverging\":[[0,\"#8e0152\"],[0.1,\"#c51b7d\"],[0.2,\"#de77ae\"],[0.3,\"#f1b6da\"],[0.4,\"#fde0ef\"],[0.5,\"#f7f7f7\"],[0.6,\"#e6f5d0\"],[0.7,\"#b8e186\"],[0.8,\"#7fbc41\"],[0.9,\"#4d9221\"],[1,\"#276419\"]]},\"xaxis\":{\"gridcolor\":\"white\",\"linecolor\":\"white\",\"ticks\":\"\",\"title\":{\"standoff\":15},\"zerolinecolor\":\"white\",\"automargin\":true,\"zerolinewidth\":2},\"yaxis\":{\"gridcolor\":\"white\",\"linecolor\":\"white\",\"ticks\":\"\",\"title\":{\"standoff\":15},\"zerolinecolor\":\"white\",\"automargin\":true,\"zerolinewidth\":2},\"scene\":{\"xaxis\":{\"backgroundcolor\":\"#E5ECF6\",\"gridcolor\":\"white\",\"linecolor\":\"white\",\"showbackground\":true,\"ticks\":\"\",\"zerolinecolor\":\"white\",\"gridwidth\":2},\"yaxis\":{\"backgroundcolor\":\"#E5ECF6\",\"gridcolor\":\"white\",\"linecolor\":\"white\",\"showbackground\":true,\"ticks\":\"\",\"zerolinecolor\":\"white\",\"gridwidth\":2},\"zaxis\":{\"backgroundcolor\":\"#E5ECF6\",\"gridcolor\":\"white\",\"linecolor\":\"white\",\"showbackground\":true,\"ticks\":\"\",\"zerolinecolor\":\"white\",\"gridwidth\":2}},\"shapedefaults\":{\"line\":{\"color\":\"#2a3f5f\"}},\"annotationdefaults\":{\"arrowcolor\":\"#2a3f5f\",\"arrowhead\":0,\"arrowwidth\":1},\"geo\":{\"bgcolor\":\"white\",\"landcolor\":\"#E5ECF6\",\"subunitcolor\":\"white\",\"showland\":true,\"showlakes\":true,\"lakecolor\":\"white\"},\"title\":{\"x\":0.05},\"mapbox\":{\"style\":\"light\"}}},\"xaxis\":{\"anchor\":\"y\",\"domain\":[0.0,1.0],\"title\":{\"text\":\"pass_no\"}},\"yaxis\":{\"anchor\":\"x\",\"domain\":[0.0,1.0],\"title\":{\"text\":\"percent\"}},\"legend\":{\"tracegroupgap\":0},\"title\":{\"text\":\"Distribution of passes in cluster 4 using GMM in shawnee_location_2\"},\"barmode\":\"relative\",\"height\":300,\"width\":800},                        {\"responsive\": true}                    ).then(function(){\n",
       "                            \n",
       "var gd = document.getElementById('98aedf32-3b48-4764-b249-20b883f9a9e4');\n",
       "var x = new MutationObserver(function (mutations, observer) {{\n",
       "        var display = window.getComputedStyle(gd).display;\n",
       "        if (!display || display === 'none') {{\n",
       "            console.log([gd, 'removed!']);\n",
       "            Plotly.purge(gd);\n",
       "            observer.disconnect();\n",
       "        }}\n",
       "}});\n",
       "\n",
       "// Listen for the removal of the full notebook cells\n",
       "var notebookContainer = gd.closest('#notebook-container');\n",
       "if (notebookContainer) {{\n",
       "    x.observe(notebookContainer, {childList: true});\n",
       "}}\n",
       "\n",
       "// Listen for the clearing of the current output cell\n",
       "var outputEl = gd.closest('.output');\n",
       "if (outputEl) {{\n",
       "    x.observe(outputEl, {childList: true});\n",
       "}}\n",
       "\n",
       "                        })                };                });            </script>        </div>"
      ]
     },
     "metadata": {},
     "output_type": "display_data"
    }
   ],
   "source": [
    "passes=np.sort(to_plot.cluster.unique())\n",
    "nbins=len(passes)\n",
    "to_plot_not_passs_3=to_plot[to_plot[\"pass_no\"]!=3]\n",
    "to_plot_not_passs_3[\"cluster\"].unique()\n",
    "\n",
    "for i in range(nbins):\n",
    "    title=f\"Distribution of passes in cluster {i} using {model_name} in {location_name}\"\n",
    "    \n",
    "    fig = px.histogram(to_plot_not_passs_3[to_plot_not_passs_3[\"cluster\"]==passes[i]], \n",
    "                       x=\"pass_no\",\n",
    "                       histnorm='percent',\n",
    "                       nbins=nbins,\n",
    "                       title=title,\n",
    "                       width=800,\n",
    "                       height=300\n",
    "                      )\n",
    "#     fig.write_image(folder_location/model_name/title/f\"_field_pass{passes[i]}.png\")\n",
    "    fig.show()"
   ]
  },
  {
   "cell_type": "code",
   "execution_count": null,
   "id": "8f28efc3",
   "metadata": {},
   "outputs": [],
   "source": []
  },
  {
   "cell_type": "code",
   "execution_count": null,
   "id": "25379226",
   "metadata": {},
   "outputs": [],
   "source": []
  },
  {
   "cell_type": "code",
   "execution_count": 15,
   "id": "7d16c117",
   "metadata": {},
   "outputs": [],
   "source": [
    "# from plotly.subplots import make_subplots\n",
    "# import plotly.graph_objects as go\n",
    "\n",
    "# passes=np.sort(to_plot.cluster.unique())\n",
    "# nbins=len(passes)\n",
    "# to_plot_not_passs_3=to_plot[to_plot[\"pass_no\"]!=3]\n",
    "# to_plot_not_passs_3[\"cluster\"].unique()\n",
    "\n",
    "# row_n=2\n",
    "# col_n=3\n",
    "# fig = make_subplots(rows=row_n, cols=col_n)\n",
    "\n",
    "# for i in range(nbins):\n",
    "#     row_i=i//3\n",
    "#     col_i=i%3\n",
    "#     title=f\"Distribution of passes in cluster {i} using {model_name} in {location_name}\"\n",
    "    \n",
    "#     fig.add_trace(go.histogram(to_plot_not_passs_3[to_plot_not_passs_3[\"cluster\"]==passes[i]], \n",
    "#                        x=\"pass_no\",\n",
    "#                        histnorm='percent',\n",
    "#                        nbins=nbins,\n",
    "#                        title=title,\n",
    "#                        width=800,\n",
    "#                        height=300\n",
    "#                       ),row=row_i+1,column=col_i+1)\n",
    "# #     fig.write_image(folder_location/model_name/title/f\"_field_pass{passes[i]}.png\")\n",
    "#     fig.show()"
   ]
  }
 ],
 "metadata": {
  "kernelspec": {
   "display_name": "Python 3",
   "language": "python",
   "name": "python3"
  },
  "language_info": {
   "codemirror_mode": {
    "name": "ipython",
    "version": 3
   },
   "file_extension": ".py",
   "mimetype": "text/x-python",
   "name": "python",
   "nbconvert_exporter": "python",
   "pygments_lexer": "ipython3",
   "version": "3.7.0"
  }
 },
 "nbformat": 4,
 "nbformat_minor": 5
}
