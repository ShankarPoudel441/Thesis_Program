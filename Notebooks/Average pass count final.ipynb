{
 "cells": [
  {
   "cell_type": "code",
   "execution_count": 1,
   "id": "10158c07",
   "metadata": {},
   "outputs": [],
   "source": [
    "import numpy as np\n",
    "import pandas as pd\n",
    "import math\n",
    "from math import sin, cos, radians, pi\n",
    "\n",
    "import matplotlib.pyplot as plt\n",
    "import numpy as np\n",
    "from shapely.geometry import Point\n",
    "from shapely.geometry.polygon import Polygon"
   ]
  },
  {
   "cell_type": "code",
   "execution_count": 3,
   "id": "c3ea8271",
   "metadata": {},
   "outputs": [
    {
     "data": {
      "text/plain": [
       "(array([-1.75, -1.25, -0.75, -0.25,  0.25,  0.75,  1.25,  1.75]),\n",
       " array([-0.75, -0.25,  0.25,  0.75,  1.25,  1.75]))"
      ]
     },
     "execution_count": 3,
     "metadata": {},
     "output_type": "execute_result"
    }
   ],
   "source": [
    "#Constants\n",
    "rolller_length=6\n",
    "\n",
    "#Hyper-parameters\n",
    "grid_size_x=0.5\n",
    "grid_size_y=0.5\n",
    "\n",
    "#Parameters\n",
    "min_x=-2\n",
    "min_y=-1\n",
    "max_x=2\n",
    "max_y=2\n",
    "\n",
    "#create_matrix_grid\n",
    "list_x=np.arange(min_x+(grid_size_x/2),max_x,grid_size_x)\n",
    "list_y=np.arange(min_y+(grid_size_y/2),max_y,grid_size_y)\n",
    "list_x,list_y"
   ]
  },
  {
   "cell_type": "code",
   "execution_count": 4,
   "id": "930b0ba7",
   "metadata": {},
   "outputs": [
    {
     "data": {
      "text/plain": [
       "(array([[-1.75, -1.25, -0.75, -0.25,  0.25,  0.75,  1.25,  1.75],\n",
       "        [-1.75, -1.25, -0.75, -0.25,  0.25,  0.75,  1.25,  1.75],\n",
       "        [-1.75, -1.25, -0.75, -0.25,  0.25,  0.75,  1.25,  1.75],\n",
       "        [-1.75, -1.25, -0.75, -0.25,  0.25,  0.75,  1.25,  1.75],\n",
       "        [-1.75, -1.25, -0.75, -0.25,  0.25,  0.75,  1.25,  1.75],\n",
       "        [-1.75, -1.25, -0.75, -0.25,  0.25,  0.75,  1.25,  1.75]]),\n",
       " array([[ 1.75,  1.75,  1.75,  1.75,  1.75,  1.75,  1.75,  1.75],\n",
       "        [ 1.25,  1.25,  1.25,  1.25,  1.25,  1.25,  1.25,  1.25],\n",
       "        [ 0.75,  0.75,  0.75,  0.75,  0.75,  0.75,  0.75,  0.75],\n",
       "        [ 0.25,  0.25,  0.25,  0.25,  0.25,  0.25,  0.25,  0.25],\n",
       "        [-0.25, -0.25, -0.25, -0.25, -0.25, -0.25, -0.25, -0.25],\n",
       "        [-0.75, -0.75, -0.75, -0.75, -0.75, -0.75, -0.75, -0.75]]),\n",
       " array([[0., 0., 0., 0., 0., 0., 0., 0.],\n",
       "        [0., 0., 0., 0., 0., 0., 0., 0.],\n",
       "        [0., 0., 0., 0., 0., 0., 0., 0.],\n",
       "        [0., 0., 0., 0., 0., 0., 0., 0.],\n",
       "        [0., 0., 0., 0., 0., 0., 0., 0.],\n",
       "        [0., 0., 0., 0., 0., 0., 0., 0.]]))"
      ]
     },
     "execution_count": 4,
     "metadata": {},
     "output_type": "execute_result"
    }
   ],
   "source": [
    "xv,yv=np.meshgrid(list_x,list_y)\n",
    "f=np.zeros(xv.shape)\n",
    "xv,yv,f=xv[::-1],yv[::-1],f[::-1]\n",
    "xv,yv,f"
   ]
  },
  {
   "cell_type": "code",
   "execution_count": 5,
   "id": "d041e6ab",
   "metadata": {},
   "outputs": [
    {
     "data": {
      "text/plain": [
       "(-0.9999999999999996, -1.7320508075688774)"
      ]
     },
     "execution_count": 5,
     "metadata": {},
     "output_type": "execute_result"
    }
   ],
   "source": [
    "def point_pos(x0, y0, d, theta):\n",
    "    theta_rad = radians(theta)\n",
    "    return x0 + d*cos(theta_rad), y0 + d*sin(theta_rad)\n",
    "\n",
    "point_pos(0,0,2,-120)"
   ]
  },
  {
   "cell_type": "code",
   "execution_count": 6,
   "id": "1351a2df",
   "metadata": {},
   "outputs": [
    {
     "name": "stdout",
     "output_type": "stream",
     "text": [
      "theta made with positive x axis= 90.0\n",
      "[(2.5, 0.0), (-2.5, 3.061616997868383e-16), (-2.5, 1.0000000000000002), (2.5, 1.0)]\n"
     ]
    },
    {
     "data": {
      "image/png": "[encoded data removed]",
      "text/plain": [
       "<Figure size 288x288 with 1 Axes>"
      ]
     },
     "metadata": {
      "needs_background": "light"
     },
     "output_type": "display_data"
    }
   ],
   "source": [
    "def given_two_point_find_rectangle(x0,y0,x1,y1,roller_length=5):\n",
    "    d=roller_length/2\n",
    "    theta=math.degrees(math.atan2((y1-y0),(x1-x0))) \n",
    "    print(\"theta made with positive x axis=\",theta)\n",
    "    (xa,ya)=point_pos(x0,y0,d,theta-90)\n",
    "    (xb,yb)=point_pos(x0,y0,d,theta+90)\n",
    "    (xc,yc)=point_pos(x1,y1,d,theta+90)\n",
    "    (xd,yd)=point_pos(x1,y1,d,theta-90)\n",
    "    return [(xa,ya),(xb,yb),(xc,yc),(xd,yd)]\n",
    "\n",
    "points=[[0,0],[0,1]]\n",
    "coords=given_two_point_find_rectangle(points[0][0],points[0][1],points[1][0],points[1][1])\n",
    "print(coords)\n",
    "fig, ax = plt.subplots(figsize=(4, 4))\n",
    "ax.scatter(*zip(*coords))\n",
    "ax.scatter(*zip(*points))\n",
    "ax.plot(*zip(*coords), color='orange')\n",
    "plt.show()"
   ]
  },
  {
   "cell_type": "code",
   "execution_count": 7,
   "id": "a86ca55b",
   "metadata": {},
   "outputs": [
    {
     "name": "stdout",
     "output_type": "stream",
     "text": [
      "True\n"
     ]
    }
   ],
   "source": [
    "from shapely.geometry import Point\n",
    "from shapely.geometry.polygon import Polygon\n",
    "\n",
    "point = Point(-0.6, 0.5)\n",
    "polygon = Polygon(coords)\n",
    "print(polygon.contains(point))"
   ]
  },
  {
   "cell_type": "code",
   "execution_count": null,
   "id": "bc440223",
   "metadata": {},
   "outputs": [],
   "source": []
  },
  {
   "cell_type": "code",
   "execution_count": null,
   "id": "2086fb5a",
   "metadata": {},
   "outputs": [],
   "source": []
  },
  {
   "cell_type": "code",
   "execution_count": null,
   "id": "24a2718a",
   "metadata": {},
   "outputs": [],
   "source": []
  },
  {
   "cell_type": "code",
   "execution_count": null,
   "id": "522a7dcb",
   "metadata": {},
   "outputs": [],
   "source": []
  }
 ],
 "metadata": {
  "kernelspec": {
   "display_name": "Python 3",
   "language": "python",
   "name": "python3"
  },
  "language_info": {
   "codemirror_mode": {
    "name": "ipython",
    "version": 3
   },
   "file_extension": ".py",
   "mimetype": "text/x-python",
   "name": "python",
   "nbconvert_exporter": "python",
   "pygments_lexer": "ipython3",
   "version": "3.7.0"
  }
 },
 "nbformat": 4,
 "nbformat_minor": 5
}
