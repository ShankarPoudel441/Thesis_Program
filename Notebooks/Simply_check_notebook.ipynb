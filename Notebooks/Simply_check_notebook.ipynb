{
 "cells": [
  {
   "cell_type": "code",
   "execution_count": 1,
   "id": "f8bb28ca",
   "metadata": {},
   "outputs": [],
   "source": [
    "import pandas as pd"
   ]
  },
  {
   "cell_type": "code",
   "execution_count": 2,
   "id": "02e2334b",
   "metadata": {},
   "outputs": [],
   "source": [
    "data=pd.read_csv(\"power_training_data_1_morning_832_842_lathrop.csv\")"
   ]
  },
  {
   "cell_type": "code",
   "execution_count": 3,
   "id": "a457fc00",
   "metadata": {},
   "outputs": [
    {
     "data": {
      "text/html": [
       "<div>\n",
       "<style scoped>\n",
       "    .dataframe tbody tr th:only-of-type {\n",
       "        vertical-align: middle;\n",
       "    }\n",
       "\n",
       "    .dataframe tbody tr th {\n",
       "        vertical-align: top;\n",
       "    }\n",
       "\n",
       "    .dataframe thead th {\n",
       "        text-align: right;\n",
       "    }\n",
       "</style>\n",
       "<table border=\"1\" class=\"dataframe\">\n",
       "  <thead>\n",
       "    <tr style=\"text-align: right;\">\n",
       "      <th></th>\n",
       "      <th>SN</th>\n",
       "      <th>timestamp</th>\n",
       "      <th>total_power</th>\n",
       "      <th>p0</th>\n",
       "      <th>p1</th>\n",
       "      <th>p2</th>\n",
       "      <th>p3</th>\n",
       "      <th>p4</th>\n",
       "      <th>p5</th>\n",
       "      <th>p6</th>\n",
       "    </tr>\n",
       "  </thead>\n",
       "  <tbody>\n",
       "    <tr>\n",
       "      <th>0</th>\n",
       "      <td>0</td>\n",
       "      <td>2022-09-29T15:32:00.255000Z</td>\n",
       "      <td>0.903975</td>\n",
       "      <td>-0.874080</td>\n",
       "      <td>0.457777</td>\n",
       "      <td>2.000000</td>\n",
       "      <td>2.000000</td>\n",
       "      <td>2.000000</td>\n",
       "      <td>2.000000</td>\n",
       "      <td>0.775986</td>\n",
       "    </tr>\n",
       "    <tr>\n",
       "      <th>1</th>\n",
       "      <td>1</td>\n",
       "      <td>2022-09-29T15:32:00.383000Z</td>\n",
       "      <td>-0.850796</td>\n",
       "      <td>-0.842891</td>\n",
       "      <td>-0.557550</td>\n",
       "      <td>-0.575725</td>\n",
       "      <td>-0.536052</td>\n",
       "      <td>-0.493993</td>\n",
       "      <td>-0.426373</td>\n",
       "      <td>-0.502608</td>\n",
       "    </tr>\n",
       "    <tr>\n",
       "      <th>2</th>\n",
       "      <td>2</td>\n",
       "      <td>2022-09-29T15:32:00.511000Z</td>\n",
       "      <td>-0.868921</td>\n",
       "      <td>-0.855945</td>\n",
       "      <td>-0.601083</td>\n",
       "      <td>-0.579232</td>\n",
       "      <td>-0.535855</td>\n",
       "      <td>-0.499467</td>\n",
       "      <td>-0.435050</td>\n",
       "      <td>-0.513740</td>\n",
       "    </tr>\n",
       "    <tr>\n",
       "      <th>3</th>\n",
       "      <td>3</td>\n",
       "      <td>2022-09-29T15:32:00.639000Z</td>\n",
       "      <td>-0.881959</td>\n",
       "      <td>-0.875006</td>\n",
       "      <td>-0.602147</td>\n",
       "      <td>-0.578875</td>\n",
       "      <td>-0.561164</td>\n",
       "      <td>-0.473057</td>\n",
       "      <td>-0.437372</td>\n",
       "      <td>-0.524266</td>\n",
       "    </tr>\n",
       "    <tr>\n",
       "      <th>4</th>\n",
       "      <td>4</td>\n",
       "      <td>2022-09-29T15:32:00.767000Z</td>\n",
       "      <td>-0.881974</td>\n",
       "      <td>-0.873990</td>\n",
       "      <td>-0.602932</td>\n",
       "      <td>-0.574325</td>\n",
       "      <td>-0.540357</td>\n",
       "      <td>-0.502455</td>\n",
       "      <td>-0.434504</td>\n",
       "      <td>-0.523742</td>\n",
       "    </tr>\n",
       "    <tr>\n",
       "      <th>...</th>\n",
       "      <td>...</td>\n",
       "      <td>...</td>\n",
       "      <td>...</td>\n",
       "      <td>...</td>\n",
       "      <td>...</td>\n",
       "      <td>...</td>\n",
       "      <td>...</td>\n",
       "      <td>...</td>\n",
       "      <td>...</td>\n",
       "      <td>...</td>\n",
       "    </tr>\n",
       "    <tr>\n",
       "      <th>6028</th>\n",
       "      <td>6028</td>\n",
       "      <td>2022-09-29T15:44:59.483000Z</td>\n",
       "      <td>-0.885068</td>\n",
       "      <td>-0.875243</td>\n",
       "      <td>-0.603128</td>\n",
       "      <td>-0.580944</td>\n",
       "      <td>-0.565439</td>\n",
       "      <td>-0.503714</td>\n",
       "      <td>-0.436152</td>\n",
       "      <td>-0.524747</td>\n",
       "    </tr>\n",
       "    <tr>\n",
       "      <th>6029</th>\n",
       "      <td>6029</td>\n",
       "      <td>2022-09-29T15:44:59.611000Z</td>\n",
       "      <td>-0.884633</td>\n",
       "      <td>-0.875255</td>\n",
       "      <td>-0.603125</td>\n",
       "      <td>-0.581119</td>\n",
       "      <td>-0.563538</td>\n",
       "      <td>-0.500041</td>\n",
       "      <td>-0.437138</td>\n",
       "      <td>-0.524150</td>\n",
       "    </tr>\n",
       "    <tr>\n",
       "      <th>6030</th>\n",
       "      <td>6030</td>\n",
       "      <td>2022-09-29T15:44:59.739000Z</td>\n",
       "      <td>-0.882703</td>\n",
       "      <td>-0.875246</td>\n",
       "      <td>-0.601668</td>\n",
       "      <td>-0.581475</td>\n",
       "      <td>-0.563626</td>\n",
       "      <td>-0.500403</td>\n",
       "      <td>-0.435309</td>\n",
       "      <td>-0.519699</td>\n",
       "    </tr>\n",
       "    <tr>\n",
       "      <th>6031</th>\n",
       "      <td>6031</td>\n",
       "      <td>2022-09-29T15:44:59.867000Z</td>\n",
       "      <td>-0.883680</td>\n",
       "      <td>-0.875247</td>\n",
       "      <td>-0.603105</td>\n",
       "      <td>-0.579910</td>\n",
       "      <td>-0.565530</td>\n",
       "      <td>-0.500806</td>\n",
       "      <td>-0.436144</td>\n",
       "      <td>-0.521572</td>\n",
       "    </tr>\n",
       "    <tr>\n",
       "      <th>6032</th>\n",
       "      <td>6032</td>\n",
       "      <td>2022-09-29T15:44:59.995000Z</td>\n",
       "      <td>-0.885296</td>\n",
       "      <td>-0.875255</td>\n",
       "      <td>-0.603133</td>\n",
       "      <td>-0.581514</td>\n",
       "      <td>-0.566189</td>\n",
       "      <td>-0.503828</td>\n",
       "      <td>-0.437474</td>\n",
       "      <td>-0.524550</td>\n",
       "    </tr>\n",
       "  </tbody>\n",
       "</table>\n",
       "<p>6033 rows × 10 columns</p>\n",
       "</div>"
      ],
      "text/plain": [
       "        SN                    timestamp  total_power        p0        p1  \\\n",
       "0        0  2022-09-29T15:32:00.255000Z     0.903975 -0.874080  0.457777   \n",
       "1        1  2022-09-29T15:32:00.383000Z    -0.850796 -0.842891 -0.557550   \n",
       "2        2  2022-09-29T15:32:00.511000Z    -0.868921 -0.855945 -0.601083   \n",
       "3        3  2022-09-29T15:32:00.639000Z    -0.881959 -0.875006 -0.602147   \n",
       "4        4  2022-09-29T15:32:00.767000Z    -0.881974 -0.873990 -0.602932   \n",
       "...    ...                          ...          ...       ...       ...   \n",
       "6028  6028  2022-09-29T15:44:59.483000Z    -0.885068 -0.875243 -0.603128   \n",
       "6029  6029  2022-09-29T15:44:59.611000Z    -0.884633 -0.875255 -0.603125   \n",
       "6030  6030  2022-09-29T15:44:59.739000Z    -0.882703 -0.875246 -0.601668   \n",
       "6031  6031  2022-09-29T15:44:59.867000Z    -0.883680 -0.875247 -0.603105   \n",
       "6032  6032  2022-09-29T15:44:59.995000Z    -0.885296 -0.875255 -0.603133   \n",
       "\n",
       "            p2        p3        p4        p5        p6  \n",
       "0     2.000000  2.000000  2.000000  2.000000  0.775986  \n",
       "1    -0.575725 -0.536052 -0.493993 -0.426373 -0.502608  \n",
       "2    -0.579232 -0.535855 -0.499467 -0.435050 -0.513740  \n",
       "3    -0.578875 -0.561164 -0.473057 -0.437372 -0.524266  \n",
       "4    -0.574325 -0.540357 -0.502455 -0.434504 -0.523742  \n",
       "...        ...       ...       ...       ...       ...  \n",
       "6028 -0.580944 -0.565439 -0.503714 -0.436152 -0.524747  \n",
       "6029 -0.581119 -0.563538 -0.500041 -0.437138 -0.524150  \n",
       "6030 -0.581475 -0.563626 -0.500403 -0.435309 -0.519699  \n",
       "6031 -0.579910 -0.565530 -0.500806 -0.436144 -0.521572  \n",
       "6032 -0.581514 -0.566189 -0.503828 -0.437474 -0.524550  \n",
       "\n",
       "[6033 rows x 10 columns]"
      ]
     },
     "execution_count": 3,
     "metadata": {},
     "output_type": "execute_result"
    }
   ],
   "source": [
    "data"
   ]
  },
  {
   "cell_type": "code",
   "execution_count": null,
   "id": "a5c026bd",
   "metadata": {},
   "outputs": [],
   "source": []
  },
  {
   "cell_type": "code",
   "execution_count": null,
   "id": "32a6431b",
   "metadata": {},
   "outputs": [],
   "source": []
  },
  {
   "cell_type": "code",
   "execution_count": 4,
   "id": "0311603a",
   "metadata": {},
   "outputs": [],
   "source": [
    "from influxdb import InfluxDBClient"
   ]
  },
  {
   "cell_type": "code",
   "execution_count": 32,
   "id": "1623b456",
   "metadata": {},
   "outputs": [
    {
     "name": "stdout",
     "output_type": "stream",
     "text": [
      "0\n"
     ]
    }
   ],
   "source": [
    "client = InfluxDBClient(host=\"127.0.0.1\", port=8086, database=\"lathrop\")\n",
    "\n",
    "x = client.query(\n",
    "    \"select * from raw where time>='2023-01-16T17:34:19.000Z' and time<'2023-01-16T17:34:48.000Z'\"\n",
    ")\n",
    "data=pd.DataFrame(x.get_points())\n",
    "print(len(data))"
   ]
  },
  {
   "cell_type": "code",
   "execution_count": 5,
   "id": "778b34cf",
   "metadata": {},
   "outputs": [],
   "source": [
    "def query_betn(s_datetime,e_datetime,table=\"raw\",client = InfluxDBClient(host=\"127.0.0.1\", port=8086, database=\"lathrop\")):\n",
    "    x = client.query(\n",
    "        f\"select * from {table} where time>='{s_datetime}' and time<'{e_datetime}'\"\n",
    "    )\n",
    "    data=pd.DataFrame(x.get_points())\n",
    "    print(len(data))\n",
    "    data.time=pd.to_datetime(data.time)\n",
    "    return data"
   ]
  },
  {
   "cell_type": "code",
   "execution_count": null,
   "id": "d5b51e26",
   "metadata": {},
   "outputs": [],
   "source": []
  },
  {
   "cell_type": "code",
   "execution_count": null,
   "id": "995effb4",
   "metadata": {},
   "outputs": [],
   "source": []
  },
  {
   "cell_type": "code",
   "execution_count": 14,
   "id": "694e46dd",
   "metadata": {},
   "outputs": [],
   "source": [
    "import yaml \n",
    "from pathlib import Path\n",
    "import numpy as np\n",
    "def read_params(folder_location):\n",
    "    with open(folder_location/\"params.yml\",\"r\") as fid:\n",
    "        d=yaml.safe_load(fid)\n",
    "    print(d[\"fundFreq\"])\n",
    "    return d"
   ]
  },
  {
   "cell_type": "code",
   "execution_count": 15,
   "id": "fb782999",
   "metadata": {},
   "outputs": [
    {
     "name": "stdout",
     "output_type": "stream",
     "text": [
      "62.5\n"
     ]
    }
   ],
   "source": [
    "nor_data= [ 1.13106413, 0.02172424, -0.22792327, -0.24767245,  0.2529968,  -0.01294536, -0.36451498]\n",
    "params=read_params(Path(\"/home/spoudel/All_Thesis/Thesis_program/Data/lathrop/location_1/\"))"
   ]
  },
  {
   "cell_type": "code",
   "execution_count": 28,
   "id": "50f74815",
   "metadata": {},
   "outputs": [
    {
     "data": {
      "text/plain": [
       "0.0003259537994661864"
      ]
     },
     "execution_count": 28,
     "metadata": {},
     "output_type": "execute_result"
    }
   ],
   "source": [
    "fundFreq=params[\"fundFreq\"]\n",
    "std=params[\"std\"]\n",
    "mean=params[\"mean\"]\n",
    "f = (\n",
    "    np.array(\n",
    "        [\n",
    "            fundFreq,\n",
    "            2 * fundFreq,\n",
    "            3 * fundFreq,\n",
    "            4 * fundFreq,\n",
    "            5 * fundFreq,\n",
    "            6 * fundFreq,\n",
    "            7 * fundFreq,\n",
    "        ]\n",
    "    )\n",
    "    ** 2\n",
    ")\n",
    "\n",
    "# np.array([(a*b+c)*d for a,b,c,d in zip(x,std,mean,f)])/1000000 \n",
    "np.sum([(a*b+c)*d for a,b,c,d in zip(nor_data,std,mean,f)])/1000000"
   ]
  },
  {
   "cell_type": "code",
   "execution_count": 30,
   "id": "7ae55157",
   "metadata": {},
   "outputs": [],
   "source": [
    "powers=np.array([0.0003259537995217399, 0.00037097925299087886, 0.0002694689375181375, 0.00031729496740775696, 0.0003282480123433774])"
   ]
  },
  {
   "cell_type": "code",
   "execution_count": 31,
   "id": "b305bb82",
   "metadata": {},
   "outputs": [
    {
     "data": {
      "text/plain": [
       "array([2, 3, 0, 4, 1])"
      ]
     },
     "execution_count": 31,
     "metadata": {},
     "output_type": "execute_result"
    }
   ],
   "source": [
    "powers.argsort()"
   ]
  },
  {
   "cell_type": "code",
   "execution_count": null,
   "id": "dbe920e1",
   "metadata": {},
   "outputs": [],
   "source": []
  },
  {
   "cell_type": "code",
   "execution_count": null,
   "id": "3eab5ed9",
   "metadata": {},
   "outputs": [],
   "source": []
  },
  {
   "cell_type": "code",
   "execution_count": 36,
   "id": "26cf279f",
   "metadata": {},
   "outputs": [],
   "source": [
    "clusters=np.array([[ 0.14519037, -0.18461004 ,-0.27475222 , 0.02691569,  1.47445884, -0.37297144,  0.00618826],\n",
    "[ 0.07254911 ,-0.20665212 , 0.12000857  ,0.1527345 ,  0.06405563 , 1.53748828,  0.04532875],\n",
    "[-0.06340674, -0.38889314 ,-0.29170255 ,-0.05354097, -0.33344382, -0.35590765, -0.07685777],\n",
    "[-0.02739634 ,-0.30726716,  1.36301424 ,-0.13563769 ,-0.25065642, -0.21088818, -0.01745732],\n",
    "[ 0.07341146 , 1.42665629, -0.29690881, -0.17843133, -0.18643052, -0.2787791, -0.1067004 ]])"
   ]
  },
  {
   "cell_type": "code",
   "execution_count": 42,
   "id": "1d3efbe5",
   "metadata": {},
   "outputs": [
    {
     "data": {
      "text/plain": [
       "array([[-0.06340674, -0.38889314, -0.29170255, -0.05354097, -0.33344382,\n",
       "        -0.35590765, -0.07685777],\n",
       "       [-0.02739634, -0.30726716,  1.36301424, -0.13563769, -0.25065642,\n",
       "        -0.21088818, -0.01745732],\n",
       "       [ 0.07254911, -0.20665212,  0.12000857,  0.1527345 ,  0.06405563,\n",
       "         1.53748828,  0.04532875],\n",
       "       [ 0.07341146,  1.42665629, -0.29690881, -0.17843133, -0.18643052,\n",
       "        -0.2787791 , -0.1067004 ],\n",
       "       [ 0.14519037, -0.18461004, -0.27475222,  0.02691569,  1.47445884,\n",
       "        -0.37297144,  0.00618826]])"
      ]
     },
     "execution_count": 42,
     "metadata": {},
     "output_type": "execute_result"
    }
   ],
   "source": [
    "idx=clusters.T[0].argsort()\n",
    "clusters[idx]"
   ]
  },
  {
   "cell_type": "code",
   "execution_count": null,
   "id": "6217fde4",
   "metadata": {},
   "outputs": [],
   "source": []
  }
 ],
 "metadata": {
  "kernelspec": {
   "display_name": "Python 3",
   "language": "python",
   "name": "python3"
  },
  "language_info": {
   "codemirror_mode": {
    "name": "ipython",
    "version": 3
   },
   "file_extension": ".py",
   "mimetype": "text/x-python",
   "name": "python",
   "nbconvert_exporter": "python",
   "pygments_lexer": "ipython3",
   "version": "3.7.0"
  }
 },
 "nbformat": 4,
 "nbformat_minor": 5
}
